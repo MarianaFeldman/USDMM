{
 "cells": [
  {
   "cell_type": "code",
   "execution_count": 1,
   "metadata": {},
   "outputs": [],
   "source": [
    "import numpy as np\n",
    "import itertools\n",
    "import cv2\n",
    "import random\n",
    "import copy\n",
    "from time import sleep, time\n",
    "import pickle\n",
    "import concurrent.futures\n",
    "import os\n",
    "import pandas as pd"
   ]
  },
  {
   "cell_type": "code",
   "execution_count": 2,
   "metadata": {},
   "outputs": [],
   "source": [
    "import USDMM_v3 as USDMM"
   ]
  },
  {
   "cell_type": "code",
   "execution_count": 449,
   "metadata": {},
   "outputs": [
    {
     "data": {
      "text/plain": [
       "<module 'USDMM_v3' from '/Users/mariana.feldman/Documents/GitHub/USDMM/USDMM_v3.py'>"
      ]
     },
     "execution_count": 449,
     "metadata": {},
     "output_type": "execute_result"
    }
   ],
   "source": [
    "from importlib import reload\n",
    "reload(USDMM)\n"
   ]
  },
  {
   "cell_type": "code",
   "execution_count": 450,
   "metadata": {},
   "outputs": [
    {
     "name": "stdout",
     "output_type": "stream",
     "text": [
      "Janela Inicializada: [array([nan,  1., nan,  1.,  1.,  1., nan,  1., nan]), array([nan,  1., nan,  1.,  1.,  1., nan,  1., nan])]\n",
      "Resultados serão salvos em  results_V2\n",
      "------------------------------------------------------------------\n"
     ]
    }
   ],
   "source": [
    "\n",
    "\n",
    "WOMC = USDMM.WOMC(\n",
    "    new = True, # True/ STR -> If True inicialize with the cross operator/ If STR it will opens the file with the name passed\n",
    "    nlayer = 2, # INT -> Number of operators in each layer\n",
    "    wlen = 3,  # INT -> Size of the operator (wlen*wlen)\n",
    "    train_size = 10, # INT -> Number of images to train \n",
    "    val_size = 10, # INT -> Number of images to validate\n",
    "    test_size = 10, # INT -> Number of images to test\n",
    "    error_type = 'iou', # 'mae' / 'iou' -> type of error\n",
    "    neighbors_sample = False, # INT/False -> Number of neighbors to sort\n",
    "    epoch_f = 10, # INT -> Number of epochs for the boolean function lattice (fixed windows)\n",
    "    epoch_w = 50, # INT -> Number of epochs for the windows lattice\n",
    "    batch = 10, # INT -> Batch size\n",
    "    path_results = 'results_V2', # STR -> file where we want to save the results\n",
    "    name_save='_V2', # STR -> pos fixed name for the results saved\n",
    "    seed = 0, #INT -> seed for reproducibilit\n",
    "    parallel = True, # True/False -> use parallel (True) or sequential (False)\n",
    "    early_stop_round_f = 20, #INT -> max number of epochs without changes in the boolean function lattice\n",
    "    early_stop_round_w = 10 #INT -> max number of epochs without changes in the windows lattice\n",
    ")"
   ]
  },
  {
   "cell_type": "code",
   "execution_count": 452,
   "metadata": {},
   "outputs": [],
   "source": [
    "X1, y1 = WOMC.get_images(WOMC.train_size, 'train')"
   ]
  },
  {
   "cell_type": "code",
   "execution_count": 453,
   "metadata": {},
   "outputs": [],
   "source": [
    "X2, y2, x_shape = WOMC.get_images_2(WOMC.train_size, 'train')"
   ]
  },
  {
   "cell_type": "code",
   "execution_count": 454,
   "metadata": {},
   "outputs": [],
   "source": [
    "X1 = np.array(X1)\n",
    "y1 = np.array(y1)"
   ]
  },
  {
   "cell_type": "code",
   "execution_count": 455,
   "metadata": {},
   "outputs": [
    {
     "data": {
      "text/plain": [
       "((10, 56, 56), (9, 31360))"
      ]
     },
     "execution_count": 455,
     "metadata": {},
     "output_type": "execute_result"
    }
   ],
   "source": [
    "X1.shape, X2.shape"
   ]
  },
  {
   "cell_type": "code",
   "execution_count": 13,
   "metadata": {},
   "outputs": [
    {
     "data": {
      "text/plain": [
       "0.8829005589351997"
      ]
     },
     "execution_count": 13,
     "metadata": {},
     "output_type": "execute_result"
    }
   ],
   "source": [
    "error = 0\n",
    "n_samples = len(y1)\n",
    "for k in range(n_samples):\n",
    "    y_z = copy.deepcopy(y1[k])\n",
    "    y_z[y_z==-1]=0\n",
    "    union = np.sum(np.maximum(X1,y_z)==1)\n",
    "    interc = np.sum(X1 +y_z == 2)\n",
    "    error += (1 - interc/union)\n",
    "error = error/n_samples\n",
    "error"
   ]
  },
  {
   "cell_type": "code",
   "execution_count": 15,
   "metadata": {},
   "outputs": [
    {
     "data": {
      "text/plain": [
       "(1, 31360)"
      ]
     },
     "execution_count": 15,
     "metadata": {},
     "output_type": "execute_result"
    }
   ],
   "source": [
    "middle_row_index = X2.shape[0] // 2\n",
    "X22 = X2[middle_row_index].reshape(1, -1)\n",
    "X22.shape"
   ]
  },
  {
   "cell_type": "code",
   "execution_count": 16,
   "metadata": {},
   "outputs": [
    {
     "data": {
      "text/plain": [
       "0.8829005589351997"
      ]
     },
     "execution_count": 16,
     "metadata": {},
     "output_type": "execute_result"
    }
   ],
   "source": [
    "WOMC.compute_cost(X22, y2)"
   ]
  },
  {
   "cell_type": "code",
   "execution_count": 741,
   "metadata": {},
   "outputs": [
    {
     "data": {
      "text/plain": [
       "[array([nan,  1., nan,  1.,  1.,  1., nan,  1., nan]),\n",
       " array([nan,  1., nan,  1.,  1.,  1., nan,  1., nan])]"
      ]
     },
     "execution_count": 741,
     "metadata": {},
     "output_type": "execute_result"
    }
   ],
   "source": [
    "WOMC.W"
   ]
  },
  {
   "cell_type": "code",
   "execution_count": 18,
   "metadata": {},
   "outputs": [],
   "source": [
    "WW = [np.array([np.nan,  np.nan, np.nan,  np.nan,  1.,  1., np.nan,  np.nan, np.nan]),np.array([np.nan,  np.nan, np.nan,  np.nan,  1.,  1., np.nan,  np.nan, np.nan])]"
   ]
  },
  {
   "cell_type": "code",
   "execution_count": 263,
   "metadata": {},
   "outputs": [],
   "source": [
    "WW = [np.array([np.nan,  1., np.nan,  np.nan,  1.,  1, np.nan,  np.nan, np.nan]),np.array([np.nan,  1., np.nan,  np.nan,  1.,  1, np.nan,  np.nan, np.nan])]"
   ]
  },
  {
   "cell_type": "code",
   "execution_count": 270,
   "metadata": {},
   "outputs": [
    {
     "data": {
      "text/plain": [
       "[array([nan,  1., nan, nan,  1.,  1., nan, nan, nan]),\n",
       " array([nan,  1., nan, nan,  1.,  1., nan, nan, nan])]"
      ]
     },
     "execution_count": 270,
     "metadata": {},
     "output_type": "execute_result"
    }
   ],
   "source": [
    "WW"
   ]
  },
  {
   "cell_type": "code",
   "execution_count": 456,
   "metadata": {},
   "outputs": [],
   "source": [
    "nn_parameters = WOMC.initialize_parameters_nn(WOMC.W)"
   ]
  },
  {
   "cell_type": "code",
   "execution_count": 444,
   "metadata": {},
   "outputs": [
    {
     "data": {
      "text/plain": [
       "{'l0': {'W0': array([[ 0., -1.,  0., -1., -1., -1.,  0., -1.,  0.],\n",
       "         [ 0., -1.,  0., -1., -1., -1.,  0.,  1.,  0.],\n",
       "         [ 0., -1.,  0., -1., -1.,  1.,  0., -1.,  0.],\n",
       "         [ 0., -1.,  0., -1., -1.,  1.,  0.,  1.,  0.],\n",
       "         [ 0., -1.,  0., -1.,  1., -1.,  0., -1.,  0.],\n",
       "         [ 0., -1.,  0., -1.,  1., -1.,  0.,  1.,  0.],\n",
       "         [ 0., -1.,  0., -1.,  1.,  1.,  0., -1.,  0.],\n",
       "         [ 0., -1.,  0., -1.,  1.,  1.,  0.,  1.,  0.],\n",
       "         [ 0., -1.,  0.,  1., -1., -1.,  0., -1.,  0.],\n",
       "         [ 0., -1.,  0.,  1., -1., -1.,  0.,  1.,  0.],\n",
       "         [ 0., -1.,  0.,  1., -1.,  1.,  0., -1.,  0.],\n",
       "         [ 0., -1.,  0.,  1., -1.,  1.,  0.,  1.,  0.],\n",
       "         [ 0., -1.,  0.,  1.,  1., -1.,  0., -1.,  0.],\n",
       "         [ 0., -1.,  0.,  1.,  1., -1.,  0.,  1.,  0.],\n",
       "         [ 0., -1.,  0.,  1.,  1.,  1.,  0., -1.,  0.],\n",
       "         [ 0., -1.,  0.,  1.,  1.,  1.,  0.,  1.,  0.],\n",
       "         [ 0.,  1.,  0., -1., -1., -1.,  0., -1.,  0.],\n",
       "         [ 0.,  1.,  0., -1., -1., -1.,  0.,  1.,  0.],\n",
       "         [ 0.,  1.,  0., -1., -1.,  1.,  0., -1.,  0.],\n",
       "         [ 0.,  1.,  0., -1., -1.,  1.,  0.,  1.,  0.],\n",
       "         [ 0.,  1.,  0., -1.,  1., -1.,  0., -1.,  0.],\n",
       "         [ 0.,  1.,  0., -1.,  1., -1.,  0.,  1.,  0.],\n",
       "         [ 0.,  1.,  0., -1.,  1.,  1.,  0., -1.,  0.],\n",
       "         [ 0.,  1.,  0., -1.,  1.,  1.,  0.,  1.,  0.],\n",
       "         [ 0.,  1.,  0.,  1., -1., -1.,  0., -1.,  0.],\n",
       "         [ 0.,  1.,  0.,  1., -1., -1.,  0.,  1.,  0.],\n",
       "         [ 0.,  1.,  0.,  1., -1.,  1.,  0., -1.,  0.],\n",
       "         [ 0.,  1.,  0.,  1., -1.,  1.,  0.,  1.,  0.],\n",
       "         [ 0.,  1.,  0.,  1.,  1., -1.,  0., -1.,  0.],\n",
       "         [ 0.,  1.,  0.,  1.,  1., -1.,  0.,  1.,  0.],\n",
       "         [ 0.,  1.,  0.,  1.,  1.,  1.,  0., -1.,  0.],\n",
       "         [ 0.,  1.,  0.,  1.,  1.,  1.,  0.,  1.,  0.]]),\n",
       "  'b0': array([[-4],\n",
       "         [-4],\n",
       "         [-4],\n",
       "         [-4],\n",
       "         [-4],\n",
       "         [-4],\n",
       "         [-4],\n",
       "         [-4],\n",
       "         [-4],\n",
       "         [-4],\n",
       "         [-4],\n",
       "         [-4],\n",
       "         [-4],\n",
       "         [-4],\n",
       "         [-4],\n",
       "         [-4],\n",
       "         [-4],\n",
       "         [-4],\n",
       "         [-4],\n",
       "         [-4],\n",
       "         [-4],\n",
       "         [-4],\n",
       "         [-4],\n",
       "         [-4],\n",
       "         [-4],\n",
       "         [-4],\n",
       "         [-4],\n",
       "         [-4],\n",
       "         [-4],\n",
       "         [-4],\n",
       "         [-4],\n",
       "         [-4]]),\n",
       "  'W1': array([[1, 1, 0, 0, 1, 1, 1, 1, 1, 0, 0, 1, 0, 1, 1, 0, 0, 1, 0, 0, 0, 1,\n",
       "          0, 0, 1, 0, 0, 0, 1, 0, 0, 0]]),\n",
       "  'b1': array([[0.]])},\n",
       " 'l1': {'W0': array([[ 0., -1.,  0., -1., -1., -1.,  0., -1.,  0.],\n",
       "         [ 0., -1.,  0., -1., -1., -1.,  0.,  1.,  0.],\n",
       "         [ 0., -1.,  0., -1., -1.,  1.,  0., -1.,  0.],\n",
       "         [ 0., -1.,  0., -1., -1.,  1.,  0.,  1.,  0.],\n",
       "         [ 0., -1.,  0., -1.,  1., -1.,  0., -1.,  0.],\n",
       "         [ 0., -1.,  0., -1.,  1., -1.,  0.,  1.,  0.],\n",
       "         [ 0., -1.,  0., -1.,  1.,  1.,  0., -1.,  0.],\n",
       "         [ 0., -1.,  0., -1.,  1.,  1.,  0.,  1.,  0.],\n",
       "         [ 0., -1.,  0.,  1., -1., -1.,  0., -1.,  0.],\n",
       "         [ 0., -1.,  0.,  1., -1., -1.,  0.,  1.,  0.],\n",
       "         [ 0., -1.,  0.,  1., -1.,  1.,  0., -1.,  0.],\n",
       "         [ 0., -1.,  0.,  1., -1.,  1.,  0.,  1.,  0.],\n",
       "         [ 0., -1.,  0.,  1.,  1., -1.,  0., -1.,  0.],\n",
       "         [ 0., -1.,  0.,  1.,  1., -1.,  0.,  1.,  0.],\n",
       "         [ 0., -1.,  0.,  1.,  1.,  1.,  0., -1.,  0.],\n",
       "         [ 0., -1.,  0.,  1.,  1.,  1.,  0.,  1.,  0.],\n",
       "         [ 0.,  1.,  0., -1., -1., -1.,  0., -1.,  0.],\n",
       "         [ 0.,  1.,  0., -1., -1., -1.,  0.,  1.,  0.],\n",
       "         [ 0.,  1.,  0., -1., -1.,  1.,  0., -1.,  0.],\n",
       "         [ 0.,  1.,  0., -1., -1.,  1.,  0.,  1.,  0.],\n",
       "         [ 0.,  1.,  0., -1.,  1., -1.,  0., -1.,  0.],\n",
       "         [ 0.,  1.,  0., -1.,  1., -1.,  0.,  1.,  0.],\n",
       "         [ 0.,  1.,  0., -1.,  1.,  1.,  0., -1.,  0.],\n",
       "         [ 0.,  1.,  0., -1.,  1.,  1.,  0.,  1.,  0.],\n",
       "         [ 0.,  1.,  0.,  1., -1., -1.,  0., -1.,  0.],\n",
       "         [ 0.,  1.,  0.,  1., -1., -1.,  0.,  1.,  0.],\n",
       "         [ 0.,  1.,  0.,  1., -1.,  1.,  0., -1.,  0.],\n",
       "         [ 0.,  1.,  0.,  1., -1.,  1.,  0.,  1.,  0.],\n",
       "         [ 0.,  1.,  0.,  1.,  1., -1.,  0., -1.,  0.],\n",
       "         [ 0.,  1.,  0.,  1.,  1., -1.,  0.,  1.,  0.],\n",
       "         [ 0.,  1.,  0.,  1.,  1.,  1.,  0., -1.,  0.],\n",
       "         [ 0.,  1.,  0.,  1.,  1.,  1.,  0.,  1.,  0.]]),\n",
       "  'b0': array([[-4],\n",
       "         [-4],\n",
       "         [-4],\n",
       "         [-4],\n",
       "         [-4],\n",
       "         [-4],\n",
       "         [-4],\n",
       "         [-4],\n",
       "         [-4],\n",
       "         [-4],\n",
       "         [-4],\n",
       "         [-4],\n",
       "         [-4],\n",
       "         [-4],\n",
       "         [-4],\n",
       "         [-4],\n",
       "         [-4],\n",
       "         [-4],\n",
       "         [-4],\n",
       "         [-4],\n",
       "         [-4],\n",
       "         [-4],\n",
       "         [-4],\n",
       "         [-4],\n",
       "         [-4],\n",
       "         [-4],\n",
       "         [-4],\n",
       "         [-4],\n",
       "         [-4],\n",
       "         [-4],\n",
       "         [-4],\n",
       "         [-4]]),\n",
       "  'W1': array([[1, 1, 1, 1, 1, 0, 0, 0, 1, 1, 1, 1, 1, 1, 0, 1, 1, 0, 0, 1, 0, 0,\n",
       "          1, 1, 1, 0, 1, 0, 0, 1, 1, 0]]),\n",
       "  'b1': array([[0.]])}}"
      ]
     },
     "execution_count": 444,
     "metadata": {},
     "output_type": "execute_result"
    }
   ],
   "source": [
    "nn_parameters"
   ]
  },
  {
   "cell_type": "code",
   "execution_count": 436,
   "metadata": {},
   "outputs": [
    {
     "data": {
      "text/plain": [
       "{'l0': {'W0': array([[ 0., -1.,  0.,  0., -1., -1.,  0.,  0.,  0.],\n",
       "         [ 0., -1.,  0.,  0., -1.,  1.,  0.,  0.,  0.],\n",
       "         [ 0., -1.,  0.,  0.,  1., -1.,  0.,  0.,  0.],\n",
       "         [ 0., -1.,  0.,  0.,  1.,  1.,  0.,  0.,  0.],\n",
       "         [ 0.,  1.,  0.,  0., -1., -1.,  0.,  0.,  0.],\n",
       "         [ 0.,  1.,  0.,  0., -1.,  1.,  0.,  0.,  0.],\n",
       "         [ 0.,  1.,  0.,  0.,  1., -1.,  0.,  0.,  0.],\n",
       "         [ 0.,  1.,  0.,  0.,  1.,  1.,  0.,  0.,  0.]]),\n",
       "  'b0': array([[-2],\n",
       "         [-2],\n",
       "         [-2],\n",
       "         [-2],\n",
       "         [-2],\n",
       "         [-2],\n",
       "         [-2],\n",
       "         [-2]]),\n",
       "  'W1': array([[1, 1, 1, 1, 0, 0, 1, 1]]),\n",
       "  'b1': array([[0.]])},\n",
       " 'l1': {'W0': array([[ 0., -1.,  0.,  0., -1., -1.,  0.,  0.,  0.],\n",
       "         [ 0., -1.,  0.,  0., -1.,  1.,  0.,  0.,  0.],\n",
       "         [ 0., -1.,  0.,  0.,  1., -1.,  0.,  0.,  0.],\n",
       "         [ 0., -1.,  0.,  0.,  1.,  1.,  0.,  0.,  0.],\n",
       "         [ 0.,  1.,  0.,  0., -1., -1.,  0.,  0.,  0.],\n",
       "         [ 0.,  1.,  0.,  0., -1.,  1.,  0.,  0.,  0.],\n",
       "         [ 0.,  1.,  0.,  0.,  1., -1.,  0.,  0.,  0.],\n",
       "         [ 0.,  1.,  0.,  0.,  1.,  1.,  0.,  0.,  0.]]),\n",
       "  'b0': array([[-2],\n",
       "         [-2],\n",
       "         [-2],\n",
       "         [-2],\n",
       "         [-2],\n",
       "         [-2],\n",
       "         [-2],\n",
       "         [-2]]),\n",
       "  'W1': array([[1, 1, 1, 1, 0, 0, 1, 1]]),\n",
       "  'b1': array([[0.]])}}"
      ]
     },
     "execution_count": 436,
     "metadata": {},
     "output_type": "execute_result"
    }
   ],
   "source": [
    "nn_parameters['l0']['W1'] = np.array([[1, 1, 1, 1, 0, 0, 1, 1]])\n",
    "nn_parameters['l1']['W1'] = np.array([[1, 1, 1, 1, 0, 0, 1, 1]])\n",
    "nn_parameters"
   ]
  },
  {
   "cell_type": "code",
   "execution_count": 265,
   "metadata": {},
   "outputs": [
    {
     "data": {
      "text/plain": [
       "{'l0': {'W0': array([[ 0., -1.,  0.,  0., -1., -1.,  0.,  0.,  0.],\n",
       "         [ 0., -1.,  0.,  0., -1.,  1.,  0.,  0.,  0.],\n",
       "         [ 0., -1.,  0.,  0.,  1., -1.,  0.,  0.,  0.],\n",
       "         [ 0., -1.,  0.,  0.,  1.,  1.,  0.,  0.,  0.],\n",
       "         [ 0.,  1.,  0.,  0., -1., -1.,  0.,  0.,  0.],\n",
       "         [ 0.,  1.,  0.,  0., -1.,  1.,  0.,  0.,  0.],\n",
       "         [ 0.,  1.,  0.,  0.,  1., -1.,  0.,  0.,  0.],\n",
       "         [ 0.,  1.,  0.,  0.,  1.,  1.,  0.,  0.,  0.]]),\n",
       "  'b0': array([[-2],\n",
       "         [-2],\n",
       "         [-2],\n",
       "         [-2],\n",
       "         [-2],\n",
       "         [-2],\n",
       "         [-2],\n",
       "         [-2]]),\n",
       "  'W1': array([[1, 1, 0, 0, 1, 1, 1, 1]]),\n",
       "  'b1': array([[0.]])},\n",
       " 'l1': {'W0': array([[ 0., -1.,  0.,  0., -1., -1.,  0.,  0.,  0.],\n",
       "         [ 0., -1.,  0.,  0., -1.,  1.,  0.,  0.,  0.],\n",
       "         [ 0., -1.,  0.,  0.,  1., -1.,  0.,  0.,  0.],\n",
       "         [ 0., -1.,  0.,  0.,  1.,  1.,  0.,  0.,  0.],\n",
       "         [ 0.,  1.,  0.,  0., -1., -1.,  0.,  0.,  0.],\n",
       "         [ 0.,  1.,  0.,  0., -1.,  1.,  0.,  0.,  0.],\n",
       "         [ 0.,  1.,  0.,  0.,  1., -1.,  0.,  0.,  0.],\n",
       "         [ 0.,  1.,  0.,  0.,  1.,  1.,  0.,  0.,  0.]]),\n",
       "  'b0': array([[-2],\n",
       "         [-2],\n",
       "         [-2],\n",
       "         [-2],\n",
       "         [-2],\n",
       "         [-2],\n",
       "         [-2],\n",
       "         [-2]]),\n",
       "  'W1': array([[1, 0, 0, 1, 0, 1, 1, 0]]),\n",
       "  'b1': array([[0.]])}}"
      ]
     },
     "execution_count": 265,
     "metadata": {},
     "output_type": "execute_result"
    }
   ],
   "source": [
    "nn_parameters = WOMC.initialize_parameters_nn(WW)\n",
    "nn_parameters"
   ]
  },
  {
   "cell_type": "code",
   "execution_count": 242,
   "metadata": {},
   "outputs": [
    {
     "data": {
      "text/plain": [
       "{'l0': {'W0': array([[ 0., -1.,  0.,  0., -1.,  0.,  0.,  0.,  0.],\n",
       "         [ 0., -1.,  0.,  0.,  1.,  0.,  0.,  0.,  0.],\n",
       "         [ 0.,  1.,  0.,  0., -1.,  0.,  0.,  0.,  0.],\n",
       "         [ 0.,  1.,  0.,  0.,  1.,  0.,  0.,  0.,  0.]]),\n",
       "  'b0': array([[-1],\n",
       "         [-1],\n",
       "         [-1],\n",
       "         [-1]]),\n",
       "  'W1': array([[1, 0, 1, 0]]),\n",
       "  'b1': array([[0.]])},\n",
       " 'l1': {'W0': array([[ 0., -1.,  0.,  0., -1.,  0.,  0.,  0.,  0.],\n",
       "         [ 0., -1.,  0.,  0.,  1.,  0.,  0.,  0.,  0.],\n",
       "         [ 0.,  1.,  0.,  0., -1.,  0.,  0.,  0.,  0.],\n",
       "         [ 0.,  1.,  0.,  0.,  1.,  0.,  0.,  0.,  0.]]),\n",
       "  'b0': array([[-1],\n",
       "         [-1],\n",
       "         [-1],\n",
       "         [-1]]),\n",
       "  'W1': array([[1, 0, 1, 0]]),\n",
       "  'b1': array([[0.]])}}"
      ]
     },
     "execution_count": 242,
     "metadata": {},
     "output_type": "execute_result"
    }
   ],
   "source": [
    "nn_parameters['l0']['W1'] = np.array([[1, 0, 1, 0]])\n",
    "nn_parameters['l1']['W1'] = np.array([[1, 0, 1, 0]])\n",
    "nn_parameters"
   ]
  },
  {
   "cell_type": "code",
   "execution_count": 437,
   "metadata": {},
   "outputs": [
    {
     "data": {
      "text/plain": [
       "{'l0': {'W0': array([[ 0., -1.,  0.,  0., -1., -1.,  0.,  0.,  0.],\n",
       "         [ 0., -1.,  0.,  0., -1.,  1.,  0.,  0.,  0.],\n",
       "         [ 0., -1.,  0.,  0.,  1., -1.,  0.,  0.,  0.],\n",
       "         [ 0., -1.,  0.,  0.,  1.,  1.,  0.,  0.,  0.],\n",
       "         [ 0.,  1.,  0.,  0., -1., -1.,  0.,  0.,  0.],\n",
       "         [ 0.,  1.,  0.,  0., -1.,  1.,  0.,  0.,  0.],\n",
       "         [ 0.,  1.,  0.,  0.,  1., -1.,  0.,  0.,  0.],\n",
       "         [ 0.,  1.,  0.,  0.,  1.,  1.,  0.,  0.,  0.]]),\n",
       "  'b0': array([[-2],\n",
       "         [-2],\n",
       "         [-2],\n",
       "         [-2],\n",
       "         [-2],\n",
       "         [-2],\n",
       "         [-2],\n",
       "         [-2]]),\n",
       "  'W1': array([[1, 1, 1, 1, 0, 0, 1, 1]]),\n",
       "  'b1': array([[0.]])},\n",
       " 'l1': {'W0': array([[ 0., -1.,  0.,  0., -1., -1.,  0.,  0.,  0.],\n",
       "         [ 0., -1.,  0.,  0., -1.,  1.,  0.,  0.,  0.],\n",
       "         [ 0., -1.,  0.,  0.,  1., -1.,  0.,  0.,  0.],\n",
       "         [ 0., -1.,  0.,  0.,  1.,  1.,  0.,  0.,  0.],\n",
       "         [ 0.,  1.,  0.,  0., -1., -1.,  0.,  0.,  0.],\n",
       "         [ 0.,  1.,  0.,  0., -1.,  1.,  0.,  0.,  0.],\n",
       "         [ 0.,  1.,  0.,  0.,  1., -1.,  0.,  0.,  0.],\n",
       "         [ 0.,  1.,  0.,  0.,  1.,  1.,  0.,  0.,  0.]]),\n",
       "  'b0': array([[-2],\n",
       "         [-2],\n",
       "         [-2],\n",
       "         [-2],\n",
       "         [-2],\n",
       "         [-2],\n",
       "         [-2],\n",
       "         [-2]]),\n",
       "  'W1': array([[1, 1, 1, 1, 0, 0, 1, 1]]),\n",
       "  'b1': array([[0.]])}}"
      ]
     },
     "execution_count": 437,
     "metadata": {},
     "output_type": "execute_result"
    }
   ],
   "source": [
    "nn_parameters"
   ]
  },
  {
   "cell_type": "code",
   "execution_count": 400,
   "metadata": {},
   "outputs": [],
   "source": [
    "AL, caches = WOMC.L_model_forward(X2, nn_parameters)"
   ]
  },
  {
   "cell_type": "code",
   "execution_count": 401,
   "metadata": {},
   "outputs": [
    {
     "data": {
      "text/plain": [
       "array([0, 1])"
      ]
     },
     "execution_count": 401,
     "metadata": {},
     "output_type": "execute_result"
    }
   ],
   "source": [
    "np.unique(AL)"
   ]
  },
  {
   "cell_type": "code",
   "execution_count": 402,
   "metadata": {},
   "outputs": [
    {
     "data": {
      "text/plain": [
       "(1, 31360)"
      ]
     },
     "execution_count": 402,
     "metadata": {},
     "output_type": "execute_result"
    }
   ],
   "source": [
    "AL.shape"
   ]
  },
  {
   "cell_type": "code",
   "execution_count": 403,
   "metadata": {},
   "outputs": [
    {
     "data": {
      "text/plain": [
       "0.9488385468786822"
      ]
     },
     "execution_count": 403,
     "metadata": {},
     "output_type": "execute_result"
    }
   ],
   "source": [
    "WOMC.compute_cost(AL, y2)"
   ]
  },
  {
   "cell_type": "code",
   "execution_count": 404,
   "metadata": {},
   "outputs": [],
   "source": [
    "ALL = np.where(AL <= 0, -1, 1)"
   ]
  },
  {
   "cell_type": "code",
   "execution_count": 405,
   "metadata": {},
   "outputs": [
    {
     "data": {
      "text/plain": [
       "(10, 56, 56)"
      ]
     },
     "execution_count": 405,
     "metadata": {},
     "output_type": "execute_result"
    }
   ],
   "source": [
    "a_img = WOMC.transform_nn_for_image(ALL, WOMC.train_size)\n",
    "a_img.shape"
   ]
  },
  {
   "cell_type": "code",
   "execution_count": null,
   "metadata": {},
   "outputs": [],
   "source": []
  },
  {
   "cell_type": "code",
   "execution_count": 382,
   "metadata": {},
   "outputs": [
    {
     "data": {
      "text/plain": [
       "array([[ 1.,  1.,  1., ...,  1.,  1.,  1.],\n",
       "       [-1., -1., -1., ..., -1., -1., -1.],\n",
       "       [-1., -1., -1., ..., -1., -1., -1.],\n",
       "       ...,\n",
       "       [-3., -3., -3., ..., -3., -3., -3.],\n",
       "       [-3., -3., -3., ..., -3., -3., -3.],\n",
       "       [-5., -5., -5., ..., -5., -5., -5.]])"
      ]
     },
     "execution_count": 382,
     "metadata": {},
     "output_type": "execute_result"
    }
   ],
   "source": [
    "Z = np.dot( nn_parameters['l0'][\"W0\"], X2) + nn_parameters['l0'][\"b0\"]\n",
    "Z"
   ]
  },
  {
   "cell_type": "code",
   "execution_count": 383,
   "metadata": {},
   "outputs": [
    {
     "data": {
      "text/plain": [
       "array([[ 1.,  1.,  1., ...,  1.,  1.,  1.],\n",
       "       [-1., -1., -1., ..., -1., -1., -1.],\n",
       "       [-1., -1., -1., ..., -1., -1., -1.],\n",
       "       ...,\n",
       "       [-3., -3., -3., ..., -3., -3., -3.],\n",
       "       [-3., -3., -3., ..., -3., -3., -3.],\n",
       "       [-5., -5., -5., ..., -5., -5., -5.]])"
      ]
     },
     "execution_count": 383,
     "metadata": {},
     "output_type": "execute_result"
    }
   ],
   "source": [
    "Z ,_= WOMC.L_forward(X2, nn_parameters['l0'][\"W0\"], nn_parameters['l0'][\"b0\"])\n",
    "Z"
   ]
  },
  {
   "cell_type": "code",
   "execution_count": 384,
   "metadata": {},
   "outputs": [],
   "source": [
    "Z = np.dot( nn_parameters['l0'][\"W0\"], X2) + nn_parameters['l0'][\"b0\"]\n",
    "Az = np.where(Z < 0, 0, 1)"
   ]
  },
  {
   "cell_type": "code",
   "execution_count": 385,
   "metadata": {},
   "outputs": [
    {
     "data": {
      "text/plain": [
       "array([[1, 1, 1, ..., 1, 1, 1],\n",
       "       [0, 0, 0, ..., 0, 0, 0],\n",
       "       [0, 0, 0, ..., 0, 0, 0],\n",
       "       ...,\n",
       "       [0, 0, 0, ..., 0, 0, 0],\n",
       "       [0, 0, 0, ..., 0, 0, 0],\n",
       "       [0, 0, 0, ..., 0, 0, 0]])"
      ]
     },
     "execution_count": 385,
     "metadata": {},
     "output_type": "execute_result"
    }
   ],
   "source": [
    "Az = np.where(Z < 0, 0, 1)\n",
    "Az"
   ]
  },
  {
   "cell_type": "code",
   "execution_count": 386,
   "metadata": {},
   "outputs": [
    {
     "name": "stdout",
     "output_type": "stream",
     "text": [
      "Elemento: 0, Contagem: 219520\n",
      "Elemento: 1, Contagem: 31360\n"
     ]
    }
   ],
   "source": [
    "elementos_unicos, contagens = np.unique(Az, return_counts=True)\n",
    "\n",
    "# Imprimir os resultados\n",
    "for elemento, contagem in zip(elementos_unicos, contagens):\n",
    "    print(f\"Elemento: {elemento}, Contagem: {contagem}\")"
   ]
  },
  {
   "cell_type": "code",
   "execution_count": 387,
   "metadata": {},
   "outputs": [
    {
     "data": {
      "text/plain": [
       "array([0, 1])"
      ]
     },
     "execution_count": 387,
     "metadata": {},
     "output_type": "execute_result"
    }
   ],
   "source": [
    "np.unique(Az)"
   ]
  },
  {
   "cell_type": "code",
   "execution_count": 390,
   "metadata": {},
   "outputs": [],
   "source": [
    "Zz ,_= WOMC.L_forward(Az, nn_parameters['l0'][\"W1\"], nn_parameters['l0'][\"b1\"])\n",
    "Azz = np.where(Zz <= 0, 0, 1)"
   ]
  },
  {
   "cell_type": "code",
   "execution_count": null,
   "metadata": {},
   "outputs": [],
   "source": []
  },
  {
   "cell_type": "code",
   "execution_count": 391,
   "metadata": {},
   "outputs": [
    {
     "name": "stdout",
     "output_type": "stream",
     "text": [
      "Elemento: 0, Contagem: 766\n",
      "Elemento: 1, Contagem: 30594\n"
     ]
    }
   ],
   "source": [
    "elementos_unicos, contagens = np.unique(Azz, return_counts=True)\n",
    "\n",
    "# Imprimir os resultados\n",
    "for elemento, contagem in zip(elementos_unicos, contagens):\n",
    "    print(f\"Elemento: {elemento}, Contagem: {contagem}\")"
   ]
  },
  {
   "cell_type": "code",
   "execution_count": 350,
   "metadata": {},
   "outputs": [
    {
     "data": {
      "text/plain": [
       "array([[1, 1, 1, ..., 1, 1, 1],\n",
       "       [0, 0, 0, ..., 0, 0, 0],\n",
       "       [0, 0, 0, ..., 0, 0, 0],\n",
       "       ...,\n",
       "       [0, 0, 0, ..., 0, 0, 0],\n",
       "       [0, 0, 0, ..., 0, 0, 0],\n",
       "       [0, 0, 0, ..., 0, 0, 0]])"
      ]
     },
     "execution_count": 350,
     "metadata": {},
     "output_type": "execute_result"
    }
   ],
   "source": [
    "A, cache = WOMC.L_activation_forward(\n",
    "        X2, nn_parameters['l0'][\"W0\"], nn_parameters['l0'][\"b0\"])\n",
    "A"
   ]
  },
  {
   "cell_type": "code",
   "execution_count": 215,
   "metadata": {},
   "outputs": [
    {
     "data": {
      "text/plain": [
       "(array([[-1, -1, -1, ..., -1, -1, -1]]),\n",
       " ((array([[ 1,  1,  1, ...,  1,  1,  1],\n",
       "          [-1, -1, -1, ..., -1, -1, -1],\n",
       "          [-1, -1, -1, ..., -1, -1, -1],\n",
       "          ...,\n",
       "          [-1, -1, -1, ..., -1, -1, -1],\n",
       "          [-1, -1, -1, ..., -1, -1, -1],\n",
       "          [-1, -1, -1, ..., -1, -1, -1]]),\n",
       "   array([0, 1, 1, 0, 1, 0, 0, 1, 1, 1, 1, 0, 0, 1, 1, 1, 0, 0, 1, 0, 1, 1,\n",
       "          0, 1, 0, 1, 1, 1, 0, 1, 0, 0]),\n",
       "   array([[0.]])),\n",
       "  array([[-18., -18., -18., ..., -18., -18., -18.]])))"
      ]
     },
     "execution_count": 215,
     "metadata": {},
     "output_type": "execute_result"
    }
   ],
   "source": [
    "AAA = WOMC.L_activation_forward(\n",
    "        A, nn_parameters['l0'][\"W1\"], nn_parameters['l0'][\"b1\"])\n",
    "AAA"
   ]
  },
  {
   "cell_type": "code",
   "execution_count": 351,
   "metadata": {},
   "outputs": [],
   "source": [
    "A = X2\n",
    "for l in range(2):\n",
    "    A_prev = A\n",
    "    A, cache = WOMC.L_activation_forward(\n",
    "        A_prev, nn_parameters['l0'][\"W\" + str(l)], nn_parameters['l0'][\"b\" + str(l)])\n"
   ]
  },
  {
   "cell_type": "code",
   "execution_count": 352,
   "metadata": {},
   "outputs": [
    {
     "data": {
      "text/plain": [
       "array([1])"
      ]
     },
     "execution_count": 352,
     "metadata": {},
     "output_type": "execute_result"
    }
   ],
   "source": [
    "np.unique(A)"
   ]
  },
  {
   "cell_type": "code",
   "execution_count": 291,
   "metadata": {},
   "outputs": [
    {
     "name": "stdout",
     "output_type": "stream",
     "text": [
      "Elemento: -1, Contagem: 31360\n"
     ]
    }
   ],
   "source": [
    "elementos_unicos, contagens = np.unique(A, return_counts=True)\n",
    "\n",
    "# Imprimir os resultados\n",
    "for elemento, contagem in zip(elementos_unicos, contagens):\n",
    "    print(f\"Elemento: {elemento}, Contagem: {contagem}\")"
   ]
  },
  {
   "cell_type": "code",
   "execution_count": 48,
   "metadata": {},
   "outputs": [
    {
     "data": {
      "text/plain": [
       "(1, 31360)"
      ]
     },
     "execution_count": 48,
     "metadata": {},
     "output_type": "execute_result"
    }
   ],
   "source": [
    "A.shape"
   ]
  },
  {
   "cell_type": "code",
   "execution_count": 106,
   "metadata": {},
   "outputs": [
    {
     "data": {
      "text/plain": [
       "(10, 56, 56)"
      ]
     },
     "execution_count": 106,
     "metadata": {},
     "output_type": "execute_result"
    }
   ],
   "source": [
    "a_img = WOMC.transform_nn_for_image(A, WOMC.train_size)\n",
    "a_img.shape"
   ]
  },
  {
   "cell_type": "code",
   "execution_count": 85,
   "metadata": {},
   "outputs": [
    {
     "data": {
      "text/plain": [
       "(9, 31360)"
      ]
     },
     "execution_count": 85,
     "metadata": {},
     "output_type": "execute_result"
    }
   ],
   "source": [
    "A2 = WOMC.transform_image_forlayer(A, WOMC.train_size)\n",
    "A2.shape"
   ]
  },
  {
   "cell_type": "code",
   "execution_count": 102,
   "metadata": {},
   "outputs": [
    {
     "data": {
      "text/plain": [
       "(1, 31360)"
      ]
     },
     "execution_count": 102,
     "metadata": {},
     "output_type": "execute_result"
    }
   ],
   "source": [
    "X22.shape"
   ]
  },
  {
   "cell_type": "code",
   "execution_count": 104,
   "metadata": {},
   "outputs": [
    {
     "data": {
      "text/plain": [
       "(9, 31360)"
      ]
     },
     "execution_count": 104,
     "metadata": {},
     "output_type": "execute_result"
    }
   ],
   "source": [
    "x_img = WOMC.transform_image_forlayer(X22, WOMC.train_size)\n",
    "x_img.shape"
   ]
  },
  {
   "cell_type": "code",
   "execution_count": 105,
   "metadata": {},
   "outputs": [
    {
     "data": {
      "text/plain": [
       "True"
      ]
     },
     "execution_count": 105,
     "metadata": {},
     "output_type": "execute_result"
    }
   ],
   "source": [
    "np.array_equal(x_img, X2)"
   ]
  },
  {
   "cell_type": "code",
   "execution_count": 59,
   "metadata": {},
   "outputs": [
    {
     "data": {
      "text/plain": [
       "{'W0': array([[ 0.,  0.,  0.,  0., -1., -1.,  0.,  0.,  0.],\n",
       "        [ 0.,  0.,  0.,  0., -1.,  1.,  0.,  0.,  0.],\n",
       "        [ 0.,  0.,  0.,  0.,  1., -1.,  0.,  0.,  0.],\n",
       "        [ 0.,  0.,  0.,  0.,  1.,  1.,  0.,  0.,  0.]]),\n",
       " 'b0': array([[-1],\n",
       "        [-1],\n",
       "        [-1],\n",
       "        [-1]]),\n",
       " 'W1': array([[1, 0, 0, 1]]),\n",
       " 'b1': array([[0.]])}"
      ]
     },
     "execution_count": 59,
     "metadata": {},
     "output_type": "execute_result"
    }
   ],
   "source": [
    "nn_parameters['l0']"
   ]
  },
  {
   "cell_type": "code",
   "execution_count": 58,
   "metadata": {},
   "outputs": [
    {
     "data": {
      "text/plain": [
       "{'W0': array([[ 0.,  0.,  0.,  0., -1., -1.,  0.,  0.,  0.],\n",
       "        [ 0.,  0.,  0.,  0., -1.,  1.,  0.,  0.,  0.],\n",
       "        [ 0.,  0.,  0.,  0.,  1., -1.,  0.,  0.,  0.],\n",
       "        [ 0.,  0.,  0.,  0.,  1.,  1.,  0.,  0.,  0.]]),\n",
       " 'b0': array([[-1],\n",
       "        [-1],\n",
       "        [-1],\n",
       "        [-1]]),\n",
       " 'W1': array([[1, 0, 0, 1]]),\n",
       " 'b1': array([[0.]])}"
      ]
     },
     "execution_count": 58,
     "metadata": {},
     "output_type": "execute_result"
    }
   ],
   "source": [
    "nn_parameters['l1']"
   ]
  },
  {
   "cell_type": "code",
   "execution_count": 52,
   "metadata": {},
   "outputs": [],
   "source": [
    "Al = A2\n",
    "for l in range(2):\n",
    "    A_prev = Al\n",
    "    Al, cache = WOMC.L_activation_forward(\n",
    "        A_prev, nn_parameters['l1'][\"W\" + str(l)], nn_parameters['l1'][\"b\" + str(l)])"
   ]
  },
  {
   "cell_type": "code",
   "execution_count": 53,
   "metadata": {},
   "outputs": [
    {
     "data": {
      "text/plain": [
       "array([-1,  1])"
      ]
     },
     "execution_count": 53,
     "metadata": {},
     "output_type": "execute_result"
    }
   ],
   "source": [
    "np.unique(Al)"
   ]
  },
  {
   "cell_type": "code",
   "execution_count": 123,
   "metadata": {},
   "outputs": [
    {
     "data": {
      "text/plain": [
       "True"
      ]
     },
     "execution_count": 123,
     "metadata": {},
     "output_type": "execute_result"
    }
   ],
   "source": [
    "np.array_equal(Al, AL)"
   ]
  },
  {
   "cell_type": "code",
   "execution_count": 124,
   "metadata": {},
   "outputs": [
    {
     "data": {
      "text/plain": [
       "(10, 56, 56)"
      ]
     },
     "execution_count": 124,
     "metadata": {},
     "output_type": "execute_result"
    }
   ],
   "source": [
    "a_img = WOMC.transform_nn_for_image(Al, WOMC.train_size)\n",
    "a_img.shape"
   ]
  },
  {
   "cell_type": "code",
   "execution_count": 721,
   "metadata": {},
   "outputs": [],
   "source": [
    "AL, caches = WOMC.L_model_forward(X2, nn_parameters)"
   ]
  },
  {
   "cell_type": "code",
   "execution_count": 722,
   "metadata": {},
   "outputs": [
    {
     "data": {
      "text/plain": [
       "array([-1])"
      ]
     },
     "execution_count": 722,
     "metadata": {},
     "output_type": "execute_result"
    }
   ],
   "source": [
    "np.unique(AL)"
   ]
  },
  {
   "cell_type": "code",
   "execution_count": 677,
   "metadata": {},
   "outputs": [
    {
     "data": {
      "text/plain": [
       "array([[1, 1, 1, ..., 1, 1, 1]])"
      ]
     },
     "execution_count": 677,
     "metadata": {},
     "output_type": "execute_result"
    }
   ],
   "source": [
    "A"
   ]
  },
  {
   "cell_type": "code",
   "execution_count": 680,
   "metadata": {},
   "outputs": [
    {
     "data": {
      "text/plain": [
       "(1, 31360)"
      ]
     },
     "execution_count": 680,
     "metadata": {},
     "output_type": "execute_result"
    }
   ],
   "source": [
    "A.shape"
   ]
  },
  {
   "cell_type": "code",
   "execution_count": 871,
   "metadata": {},
   "outputs": [
    {
     "data": {
      "text/plain": [
       "(10, 56, 56)"
      ]
     },
     "execution_count": 871,
     "metadata": {},
     "output_type": "execute_result"
    }
   ],
   "source": [
    "a_img = WOMC.transform_nn_for_image(A, WOMC.train_size)\n",
    "a_img.shape"
   ]
  },
  {
   "cell_type": "code",
   "execution_count": 733,
   "metadata": {},
   "outputs": [
    {
     "data": {
      "text/plain": [
       "0.9559336260801687"
      ]
     },
     "execution_count": 733,
     "metadata": {},
     "output_type": "execute_result"
    }
   ],
   "source": [
    "error = 0\n",
    "n_samples = len(y1)\n",
    "for k in range(n_samples):\n",
    "    y_z = copy.deepcopy(y1[k])\n",
    "    y_z[y_z==-1]=0\n",
    "    union = np.sum(np.maximum(a_img,y_z)==1)\n",
    "    interc = np.sum(a_img +y_z == 2)\n",
    "    error += (1 - interc/union)\n",
    "error = error/n_samples\n",
    "error"
   ]
  },
  {
   "cell_type": "code",
   "execution_count": 165,
   "metadata": {},
   "outputs": [
    {
     "data": {
      "text/plain": [
       "<module 'USDMM_v2' from '/Users/mariana.feldman/Documents/GitHub/USDMM/USDMM_v2.py'>"
      ]
     },
     "execution_count": 165,
     "metadata": {},
     "output_type": "execute_result"
    }
   ],
   "source": [
    "reload(USDMM_2)\n"
   ]
  },
  {
   "cell_type": "code",
   "execution_count": 166,
   "metadata": {},
   "outputs": [
    {
     "name": "stdout",
     "output_type": "stream",
     "text": [
      "Janela Inicializada: [array([nan,  1., nan,  1.,  1.,  1., nan,  1., nan]), array([nan,  1., nan,  1.,  1.,  1., nan,  1., nan])]\n",
      "Joint Inicializada: [array([['00000', '1'],\n",
      "       ['00001', '0'],\n",
      "       ['00010', '0'],\n",
      "       ['00011', '1'],\n",
      "       ['00100', '0'],\n",
      "       ['00101', '1'],\n",
      "       ['00110', '1'],\n",
      "       ['00111', '1'],\n",
      "       ['01000', '1'],\n",
      "       ['01001', '1'],\n",
      "       ['01010', '1'],\n",
      "       ['01011', '0'],\n",
      "       ['01100', '1'],\n",
      "       ['01101', '0'],\n",
      "       ['01110', '0'],\n",
      "       ['01111', '1'],\n",
      "       ['10000', '0'],\n",
      "       ['10001', '0'],\n",
      "       ['10010', '1'],\n",
      "       ['10011', '0'],\n",
      "       ['10100', '1'],\n",
      "       ['10101', '0'],\n",
      "       ['10110', '1'],\n",
      "       ['10111', '1'],\n",
      "       ['11000', '0'],\n",
      "       ['11001', '0'],\n",
      "       ['11010', '0'],\n",
      "       ['11011', '1'],\n",
      "       ['11100', '0'],\n",
      "       ['11101', '0'],\n",
      "       ['11110', '0'],\n",
      "       ['11111', '0']], dtype='<U21'), array([['00000', '0'],\n",
      "       ['00001', '1'],\n",
      "       ['00010', '0'],\n",
      "       ['00011', '0'],\n",
      "       ['00100', '1'],\n",
      "       ['00101', '0'],\n",
      "       ['00110', '1'],\n",
      "       ['00111', '1'],\n",
      "       ['01000', '1'],\n",
      "       ['01001', '0'],\n",
      "       ['01010', '0'],\n",
      "       ['01011', '1'],\n",
      "       ['01100', '0'],\n",
      "       ['01101', '0'],\n",
      "       ['01110', '0'],\n",
      "       ['01111', '0'],\n",
      "       ['10000', '1'],\n",
      "       ['10001', '0'],\n",
      "       ['10010', '0'],\n",
      "       ['10011', '0'],\n",
      "       ['10100', '0'],\n",
      "       ['10101', '1'],\n",
      "       ['10110', '0'],\n",
      "       ['10111', '0'],\n",
      "       ['11000', '1'],\n",
      "       ['11001', '1'],\n",
      "       ['11010', '1'],\n",
      "       ['11011', '0'],\n",
      "       ['11100', '0'],\n",
      "       ['11101', '1'],\n",
      "       ['11110', '1'],\n",
      "       ['11111', '1']], dtype='<U21')]\n",
      "Resultados serão salvos em  results_V2\n",
      "------------------------------------------------------------------\n"
     ]
    }
   ],
   "source": [
    "import USDMM_v2 as USDMM_2\n",
    "\n",
    "\n",
    "WOMC2 = USDMM_2.WOMC(\n",
    "    new = True, # True/ STR -> If True inicialize with the cross operator/ If STR it will opens the file with the name passed\n",
    "    nlayer = 2, # INT -> Number of operators in each layer\n",
    "    wlen = 3,  # INT -> Size of the operator (wlen*wlen)\n",
    "    train_size = 10, # INT -> Number of images to train \n",
    "    val_size = 10, # INT -> Number of images to validate\n",
    "    test_size = 10, # INT -> Number of images to test\n",
    "    error_type = 'iou', # 'mae' / 'iou' -> type of error\n",
    "    neighbors_sample = False, # INT/False -> Number of neighbors to sort\n",
    "    epoch_f = 10, # INT -> Number of epochs for the boolean function lattice (fixed windows)\n",
    "    epoch_w = 50, # INT -> Number of epochs for the windows lattice\n",
    "    batch = 10, # INT -> Batch size\n",
    "    path_results = 'results_V2', # STR -> file where we want to save the results\n",
    "    name_save='_V2', # STR -> pos fixed name for the results saved\n",
    "    seed = 0, #INT -> seed for reproducibilit\n",
    "    parallel = True, # True/False -> use parallel (True) or sequential (False)\n",
    "    early_stop_round_f = 20, #INT -> max number of epochs without changes in the boolean function lattice\n",
    "    early_stop_round_w = 10 #INT -> max number of epochs without changes in the windows lattice\n",
    ")"
   ]
  },
  {
   "cell_type": "code",
   "execution_count": 460,
   "metadata": {},
   "outputs": [],
   "source": [
    "(joint, error, epoch_min) = WOMC2.get_error_window(WOMC2.W, WOMC2.joint, 0)"
   ]
  },
  {
   "cell_type": "code",
   "execution_count": 461,
   "metadata": {},
   "outputs": [
    {
     "data": {
      "text/plain": [
       "array([0.61747601, 0.61736838])"
      ]
     },
     "execution_count": 461,
     "metadata": {},
     "output_type": "execute_result"
    }
   ],
   "source": [
    "error"
   ]
  },
  {
   "cell_type": "code",
   "execution_count": 271,
   "metadata": {},
   "outputs": [
    {
     "data": {
      "text/plain": [
       "[array([nan,  1., nan, nan,  1.,  1., nan, nan, nan]),\n",
       " array([nan,  1., nan, nan,  1.,  1., nan, nan, nan])]"
      ]
     },
     "execution_count": 271,
     "metadata": {},
     "output_type": "execute_result"
    }
   ],
   "source": [
    "WW"
   ]
  },
  {
   "cell_type": "code",
   "execution_count": 272,
   "metadata": {},
   "outputs": [
    {
     "data": {
      "text/plain": [
       "array([['000', '1'],\n",
       "       ['001', '1'],\n",
       "       ['010', '1'],\n",
       "       ['011', '1'],\n",
       "       ['100', '0'],\n",
       "       ['101', '0'],\n",
       "       ['110', '1'],\n",
       "       ['111', '1']], dtype='<U21')"
      ]
     },
     "execution_count": 272,
     "metadata": {},
     "output_type": "execute_result"
    }
   ],
   "source": [
    "joint = WOMC2.create_joint(WW[0])\n",
    "joint"
   ]
  },
  {
   "cell_type": "code",
   "execution_count": 273,
   "metadata": {},
   "outputs": [],
   "source": [
    "joint = [joint, joint]"
   ]
  },
  {
   "cell_type": "code",
   "execution_count": 274,
   "metadata": {},
   "outputs": [
    {
     "data": {
      "text/plain": [
       "[array([['000', '1'],\n",
       "        ['001', '1'],\n",
       "        ['010', '1'],\n",
       "        ['011', '1'],\n",
       "        ['100', '0'],\n",
       "        ['101', '0'],\n",
       "        ['110', '1'],\n",
       "        ['111', '1']], dtype='<U21'),\n",
       " array([['000', '1'],\n",
       "        ['001', '1'],\n",
       "        ['010', '1'],\n",
       "        ['011', '1'],\n",
       "        ['100', '0'],\n",
       "        ['101', '0'],\n",
       "        ['110', '1'],\n",
       "        ['111', '1']], dtype='<U21')]"
      ]
     },
     "execution_count": 274,
     "metadata": {},
     "output_type": "execute_result"
    }
   ],
   "source": [
    "joint"
   ]
  },
  {
   "cell_type": "code",
   "execution_count": 184,
   "metadata": {},
   "outputs": [
    {
     "data": {
      "text/plain": [
       "array([['00000', '0'],\n",
       "       ['00001', '1'],\n",
       "       ['00010', '1'],\n",
       "       ['00011', '0'],\n",
       "       ['00100', '1'],\n",
       "       ['00101', '0'],\n",
       "       ['00110', '0'],\n",
       "       ['00111', '1'],\n",
       "       ['01000', '1'],\n",
       "       ['01001', '1'],\n",
       "       ['01010', '1'],\n",
       "       ['01011', '0'],\n",
       "       ['01100', '0'],\n",
       "       ['01101', '1'],\n",
       "       ['01110', '1'],\n",
       "       ['01111', '1'],\n",
       "       ['10000', '0'],\n",
       "       ['10001', '0'],\n",
       "       ['10010', '1'],\n",
       "       ['10011', '0'],\n",
       "       ['10100', '1'],\n",
       "       ['10101', '1'],\n",
       "       ['10110', '0'],\n",
       "       ['10111', '1'],\n",
       "       ['11000', '0'],\n",
       "       ['11001', '1'],\n",
       "       ['11010', '1'],\n",
       "       ['11011', '1'],\n",
       "       ['11100', '0'],\n",
       "       ['11101', '1'],\n",
       "       ['11110', '0'],\n",
       "       ['11111', '0']], dtype='<U21')"
      ]
     },
     "execution_count": 184,
     "metadata": {},
     "output_type": "execute_result"
    }
   ],
   "source": [
    "#joint = WOMC2.create_joint(WOMC2.W[0])\n",
    "joint"
   ]
  },
  {
   "cell_type": "code",
   "execution_count": 854,
   "metadata": {},
   "outputs": [],
   "source": [
    "joint[1][1] = '1'\n",
    "joint[1][1] = '1'\n",
    "joint[2][1] = '0'\n",
    "joint[3][1] = '0'\n",
    "joint[4][1] = '1'\n",
    "joint[5][1] = '1'\n",
    "joint[6][1] = '1'\n",
    "joint[7][1] = '1'\n",
    "joint[8][1] = '1'\n",
    "joint[9][1] = '0'\n",
    "joint[10][1] = '0'\n",
    "joint[11][1] = '1'\n",
    "joint[12][1] = '0'\n",
    "joint[13][1] = '1'\n",
    "joint[14][1] = '1'\n",
    "joint[15][1] = '0'\n",
    "joint[16][1] = '0'\n",
    "joint[17][1] = '1'\n",
    "joint[18][1] = '0'\n",
    "joint[19][1] = '0'\n",
    "joint[20][1] = '0'\n",
    "joint[21][1] = '1'\n",
    "joint[22][1] = '0'\n",
    "joint[23][1] = '0'\n",
    "joint[24][1] = '1'\n",
    "joint[25][1] = '0'\n",
    "joint[26][1] = '0'\n",
    "joint[27][1] = '0'\n",
    "joint[28][1] = '1'\n",
    "joint[29][1] = '0'\n",
    "joint[30][1] = '0'\n",
    "joint[31][1] = '0'"
   ]
  },
  {
   "cell_type": "code",
   "execution_count": 185,
   "metadata": {},
   "outputs": [],
   "source": [
    "joint = [joint, joint]"
   ]
  },
  {
   "cell_type": "code",
   "execution_count": 275,
   "metadata": {},
   "outputs": [
    {
     "data": {
      "text/plain": [
       "array([1, 1, 1, 1, 0, 0, 1, 1])"
      ]
     },
     "execution_count": 275,
     "metadata": {},
     "output_type": "execute_result"
    }
   ],
   "source": [
    "joint[0][:,1].astype(int)"
   ]
  },
  {
   "cell_type": "code",
   "execution_count": 292,
   "metadata": {},
   "outputs": [],
   "source": [
    "W_matrices = WOMC2.create_w_matrices(WW,joint)\n",
    "#W_matrices = WOMC2.create_w_matrices(WOMC2.W,joint)"
   ]
  },
  {
   "cell_type": "code",
   "execution_count": 302,
   "metadata": {},
   "outputs": [
    {
     "data": {
      "text/plain": [
       "[array([[ 0., -1.,  0.],\n",
       "        [ 0., -1., -1.],\n",
       "        [ 0.,  0.,  0.]]),\n",
       " array([[ 0., -1.,  0.],\n",
       "        [ 0., -1.,  1.],\n",
       "        [ 0.,  0.,  0.]]),\n",
       " array([[ 0., -1.,  0.],\n",
       "        [ 0.,  1., -1.],\n",
       "        [ 0.,  0.,  0.]]),\n",
       " array([[ 0., -1.,  0.],\n",
       "        [ 0.,  1.,  1.],\n",
       "        [ 0.,  0.,  0.]]),\n",
       " array([[ 0.,  1.,  0.],\n",
       "        [ 0.,  1., -1.],\n",
       "        [ 0.,  0.,  0.]]),\n",
       " array([[0., 1., 0.],\n",
       "        [0., 1., 1.],\n",
       "        [0., 0., 0.]])]"
      ]
     },
     "execution_count": 302,
     "metadata": {},
     "output_type": "execute_result"
    }
   ],
   "source": [
    "W_matrices[0]"
   ]
  },
  {
   "cell_type": "code",
   "execution_count": 357,
   "metadata": {},
   "outputs": [
    {
     "data": {
      "text/plain": [
       "array([[-1.,  1., -1.],\n",
       "       [-1., -1., -1.],\n",
       "       [-1., -1., -1.]])"
      ]
     },
     "execution_count": 357,
     "metadata": {},
     "output_type": "execute_result"
    }
   ],
   "source": [
    "WOMC2.train[0][6:9, 3:6]"
   ]
  },
  {
   "cell_type": "code",
   "execution_count": 359,
   "metadata": {},
   "outputs": [
    {
     "name": "stdout",
     "output_type": "stream",
     "text": [
      "Elemento: -1.0, Contagem: 229650\n",
      "Elemento: 1.0, Contagem: 52590\n"
     ]
    }
   ],
   "source": [
    "elementos_unicos, contagens = np.unique(X2, return_counts=True)\n",
    "\n",
    "# Imprimir os resultados\n",
    "for elemento, contagem in zip(elementos_unicos, contagens):\n",
    "    print(f\"Elemento: {elemento}, Contagem: {contagem}\")\n"
   ]
  },
  {
   "cell_type": "code",
   "execution_count": 360,
   "metadata": {},
   "outputs": [
    {
     "data": {
      "text/plain": [
       "(array([0, 0, 0, ..., 8, 8, 8]),\n",
       " array([  265,   397,   497, ..., 31090, 31118, 31129]))"
      ]
     },
     "execution_count": 360,
     "metadata": {},
     "output_type": "execute_result"
    }
   ],
   "source": [
    "np.where(X2 == 1)"
   ]
  },
  {
   "cell_type": "code",
   "execution_count": 366,
   "metadata": {},
   "outputs": [
    {
     "data": {
      "text/plain": [
       "array([-1.,  1., -1., -1., -1., -1., -1., -1., -1.])"
      ]
     },
     "execution_count": 366,
     "metadata": {},
     "output_type": "execute_result"
    }
   ],
   "source": [
    "X2[:,264]"
   ]
  },
  {
   "cell_type": "code",
   "execution_count": 367,
   "metadata": {},
   "outputs": [
    {
     "data": {
      "text/plain": [
       "array([ 1., -1., -1., -3.,  3.,  1.,  1., -1.])"
      ]
     },
     "execution_count": 367,
     "metadata": {},
     "output_type": "execute_result"
    }
   ],
   "source": [
    "np.dot(nn_parameters['l0']['W0'], X2)[:,264]"
   ]
  },
  {
   "cell_type": "code",
   "execution_count": 368,
   "metadata": {},
   "outputs": [
    {
     "data": {
      "text/plain": [
       "(8, 31360)"
      ]
     },
     "execution_count": 368,
     "metadata": {},
     "output_type": "execute_result"
    }
   ],
   "source": [
    "(np.dot(nn_parameters['l0']['W0'], X2) + nn_parameters['l0']['b0']).shape"
   ]
  },
  {
   "cell_type": "code",
   "execution_count": 369,
   "metadata": {},
   "outputs": [
    {
     "data": {
      "text/plain": [
       "array([-1., -3., -3., -5.,  1., -1., -1., -3.])"
      ]
     },
     "execution_count": 369,
     "metadata": {},
     "output_type": "execute_result"
    }
   ],
   "source": [
    "Z = np.dot(nn_parameters['l0']['W0'], X2) + nn_parameters['l0']['b0']\n",
    "Z[:,264]"
   ]
  },
  {
   "cell_type": "code",
   "execution_count": 370,
   "metadata": {},
   "outputs": [
    {
     "data": {
      "text/plain": [
       "array([0, 0, 0, 0, 1, 0, 0, 0])"
      ]
     },
     "execution_count": 370,
     "metadata": {},
     "output_type": "execute_result"
    }
   ],
   "source": [
    "A = np.where(Z < 0, 0, 1)\n",
    "A[:,264]"
   ]
  },
  {
   "cell_type": "code",
   "execution_count": 371,
   "metadata": {},
   "outputs": [
    {
     "data": {
      "text/plain": [
       "array([1, 1, 1, 1, 0, 0, 1, 1])"
      ]
     },
     "execution_count": 371,
     "metadata": {},
     "output_type": "execute_result"
    }
   ],
   "source": [
    "nn_parameters['l0']['W1']"
   ]
  },
  {
   "cell_type": "code",
   "execution_count": 372,
   "metadata": {},
   "outputs": [],
   "source": [
    "ii = np.dot(nn_parameters['l0']['W1'], A)"
   ]
  },
  {
   "cell_type": "code",
   "execution_count": 375,
   "metadata": {},
   "outputs": [
    {
     "data": {
      "text/plain": [
       "0"
      ]
     },
     "execution_count": 375,
     "metadata": {},
     "output_type": "execute_result"
    }
   ],
   "source": [
    "ii[264]"
   ]
  },
  {
   "cell_type": "code",
   "execution_count": 373,
   "metadata": {},
   "outputs": [
    {
     "name": "stdout",
     "output_type": "stream",
     "text": [
      "Elemento: 0, Contagem: 766\n",
      "Elemento: 1, Contagem: 30594\n"
     ]
    }
   ],
   "source": [
    "elementos_unicos, contagens = np.unique(ii, return_counts=True)\n",
    "\n",
    "# Imprimir os resultados\n",
    "for elemento, contagem in zip(elementos_unicos, contagens):\n",
    "    print(f\"Elemento: {elemento}, Contagem: {contagem}\")"
   ]
  },
  {
   "cell_type": "code",
   "execution_count": 334,
   "metadata": {},
   "outputs": [],
   "source": [
    "ii[ii == 0] = -1"
   ]
  },
  {
   "cell_type": "code",
   "execution_count": 335,
   "metadata": {},
   "outputs": [
    {
     "name": "stdout",
     "output_type": "stream",
     "text": [
      "Elemento: -1, Contagem: 766\n",
      "Elemento: 1, Contagem: 30594\n"
     ]
    }
   ],
   "source": [
    "elementos_unicos, contagens = np.unique(ii, return_counts=True)\n",
    "\n",
    "# Imprimir os resultados\n",
    "for elemento, contagem in zip(elementos_unicos, contagens):\n",
    "    print(f\"Elemento: {elemento}, Contagem: {contagem}\")"
   ]
  },
  {
   "cell_type": "code",
   "execution_count": 376,
   "metadata": {},
   "outputs": [],
   "source": [
    "ii_img = WOMC.transform_image_forlayer(ii, WOMC.train_size)"
   ]
  },
  {
   "cell_type": "code",
   "execution_count": 377,
   "metadata": {},
   "outputs": [
    {
     "name": "stdout",
     "output_type": "stream",
     "text": [
      "Elemento: -1, Contagem: 13541\n",
      "Elemento: 1, Contagem: 268699\n"
     ]
    }
   ],
   "source": [
    "elementos_unicos, contagens = np.unique(ii_img, return_counts=True)\n",
    "\n",
    "# Imprimir os resultados\n",
    "for elemento, contagem in zip(elementos_unicos, contagens):\n",
    "    print(f\"Elemento: {elemento}, Contagem: {contagem}\")"
   ]
  },
  {
   "cell_type": "code",
   "execution_count": 379,
   "metadata": {},
   "outputs": [
    {
     "data": {
      "text/plain": [
       "(9, 31360)"
      ]
     },
     "execution_count": 379,
     "metadata": {},
     "output_type": "execute_result"
    }
   ],
   "source": [
    "ii_img.shape"
   ]
  },
  {
   "cell_type": "code",
   "execution_count": 381,
   "metadata": {},
   "outputs": [
    {
     "data": {
      "text/plain": [
       "array([ 1,  1,  1,  1, -1,  1,  1,  1,  1])"
      ]
     },
     "execution_count": 381,
     "metadata": {},
     "output_type": "execute_result"
    }
   ],
   "source": [
    "ii_img[:,264]"
   ]
  },
  {
   "cell_type": "code",
   "execution_count": 305,
   "metadata": {},
   "outputs": [
    {
     "data": {
      "text/plain": [
       "{'W0': array([[ 0., -1.,  0.,  0., -1., -1.,  0.,  0.,  0.],\n",
       "        [ 0., -1.,  0.,  0., -1.,  1.,  0.,  0.,  0.],\n",
       "        [ 0., -1.,  0.,  0.,  1., -1.,  0.,  0.,  0.],\n",
       "        [ 0., -1.,  0.,  0.,  1.,  1.,  0.,  0.,  0.],\n",
       "        [ 0.,  1.,  0.,  0., -1., -1.,  0.,  0.,  0.],\n",
       "        [ 0.,  1.,  0.,  0., -1.,  1.,  0.,  0.,  0.],\n",
       "        [ 0.,  1.,  0.,  0.,  1., -1.,  0.,  0.,  0.],\n",
       "        [ 0.,  1.,  0.,  0.,  1.,  1.,  0.,  0.,  0.]]),\n",
       " 'b0': array([[-2],\n",
       "        [-2],\n",
       "        [-2],\n",
       "        [-2],\n",
       "        [-2],\n",
       "        [-2],\n",
       "        [-2],\n",
       "        [-2]]),\n",
       " 'W1': array([1, 1, 1, 1, 0, 0, 1, 1]),\n",
       " 'b1': array([[0.]])}"
      ]
     },
     "execution_count": 305,
     "metadata": {},
     "output_type": "execute_result"
    }
   ],
   "source": [
    "nn_parameters['l0']"
   ]
  },
  {
   "cell_type": "code",
   "execution_count": 294,
   "metadata": {},
   "outputs": [
    {
     "data": {
      "text/plain": [
       "array([2., 2.])"
      ]
     },
     "execution_count": 294,
     "metadata": {},
     "output_type": "execute_result"
    }
   ],
   "source": [
    "bias = np.nansum(WW, axis=1) - 1\n",
    "#bias = np.nansum(WOMC2.W, axis=1) - 1\n",
    "bias"
   ]
  },
  {
   "cell_type": "code",
   "execution_count": 406,
   "metadata": {},
   "outputs": [],
   "source": [
    "Wtrain,w_error = WOMC2.window_error_generate_c(W_matrices, WOMC2.train, WOMC2.train_size,WOMC2.ytrain, WOMC2.error_type, 0, 0, bias )"
   ]
  },
  {
   "cell_type": "code",
   "execution_count": 407,
   "metadata": {},
   "outputs": [
    {
     "data": {
      "text/plain": [
       "0.9529606241667963"
      ]
     },
     "execution_count": 407,
     "metadata": {},
     "output_type": "execute_result"
    }
   ],
   "source": [
    "w_error"
   ]
  },
  {
   "cell_type": "code",
   "execution_count": 408,
   "metadata": {},
   "outputs": [
    {
     "data": {
      "text/plain": [
       "(10, 2, 56, 56)"
      ]
     },
     "execution_count": 408,
     "metadata": {},
     "output_type": "execute_result"
    }
   ],
   "source": [
    "Wtrain = np.array(Wtrain)\n",
    "Wtrain.shape"
   ]
  },
  {
   "cell_type": "code",
   "execution_count": 409,
   "metadata": {},
   "outputs": [],
   "source": [
    "Wtrain0 = np.array(Wtrain[:, 0, :, :])\n",
    "Wtrain1 = np.array(Wtrain[:, 1, :, :])"
   ]
  },
  {
   "cell_type": "code",
   "execution_count": 301,
   "metadata": {},
   "outputs": [
    {
     "name": "stdout",
     "output_type": "stream",
     "text": [
      "Elemento: -1.0, Contagem: 766\n",
      "Elemento: 1.0, Contagem: 30594\n"
     ]
    }
   ],
   "source": [
    "elementos_unicos, contagens = np.unique(Wtrain0, return_counts=True)\n",
    "\n",
    "# Imprimir os resultados\n",
    "for elemento, contagem in zip(elementos_unicos, contagens):\n",
    "    print(f\"Elemento: {elemento}, Contagem: {contagem}\")"
   ]
  },
  {
   "cell_type": "code",
   "execution_count": 354,
   "metadata": {},
   "outputs": [
    {
     "data": {
      "text/plain": [
       "(array([ 4,  7,  8, 11, 12, 12, 12, 15, 20, 22, 24, 24, 25, 25, 26, 27, 27,\n",
       "        28, 28, 29, 29, 29, 30, 30, 32, 33, 33, 34, 38, 42, 48, 52, 52, 52,\n",
       "        52, 52, 52, 52, 53, 54]),\n",
       " array([40,  4, 48, 10,  1,  4, 21, 25, 13, 52, 25, 26, 14, 24, 23, 21, 22,\n",
       "        20, 26, 18, 19, 34, 17, 22, 50,  2, 21, 45, 23,  5, 22, 27, 28, 29,\n",
       "        30, 31, 32, 33, 13, 15]))"
      ]
     },
     "execution_count": 354,
     "metadata": {},
     "output_type": "execute_result"
    }
   ],
   "source": [
    "np.where(Wtrain0[0] == -1)"
   ]
  },
  {
   "cell_type": "code",
   "execution_count": 355,
   "metadata": {},
   "outputs": [
    {
     "data": {
      "text/plain": [
       "-1.0"
      ]
     },
     "execution_count": 355,
     "metadata": {},
     "output_type": "execute_result"
    }
   ],
   "source": [
    "Wtrain0[0][7,4]"
   ]
  },
  {
   "cell_type": "code",
   "execution_count": null,
   "metadata": {},
   "outputs": [],
   "source": []
  },
  {
   "cell_type": "code",
   "execution_count": 300,
   "metadata": {},
   "outputs": [
    {
     "data": {
      "text/plain": [
       "array([[1., 1., 1., ..., 1., 1., 1.],\n",
       "       [1., 1., 1., ..., 1., 1., 1.],\n",
       "       [1., 1., 1., ..., 1., 1., 1.],\n",
       "       ...,\n",
       "       [1., 1., 1., ..., 1., 1., 1.],\n",
       "       [1., 1., 1., ..., 1., 1., 1.],\n",
       "       [1., 1., 1., ..., 1., 1., 1.]])"
      ]
     },
     "execution_count": 300,
     "metadata": {},
     "output_type": "execute_result"
    }
   ],
   "source": [
    "Wtrain0[0]"
   ]
  },
  {
   "cell_type": "code",
   "execution_count": 173,
   "metadata": {},
   "outputs": [
    {
     "data": {
      "text/plain": [
       "True"
      ]
     },
     "execution_count": 173,
     "metadata": {},
     "output_type": "execute_result"
    }
   ],
   "source": [
    "np.array_equal(Wtrain0, a_img)"
   ]
  },
  {
   "cell_type": "code",
   "execution_count": 410,
   "metadata": {},
   "outputs": [
    {
     "data": {
      "text/plain": [
       "True"
      ]
     },
     "execution_count": 410,
     "metadata": {},
     "output_type": "execute_result"
    }
   ],
   "source": [
    "np.array_equal(Wtrain1, a_img)"
   ]
  },
  {
   "cell_type": "code",
   "execution_count": 115,
   "metadata": {},
   "outputs": [
    {
     "data": {
      "text/plain": [
       "((10, 56, 56), dtype('int64'))"
      ]
     },
     "execution_count": 115,
     "metadata": {},
     "output_type": "execute_result"
    }
   ],
   "source": [
    "a_img.shape, a_img.dtype"
   ]
  },
  {
   "cell_type": "code",
   "execution_count": 116,
   "metadata": {},
   "outputs": [],
   "source": [
    "a_img_float64 = a_img.astype(np.float64)"
   ]
  },
  {
   "cell_type": "code",
   "execution_count": 112,
   "metadata": {},
   "outputs": [],
   "source": [
    "np_train = np.array(WOMC2.train)"
   ]
  },
  {
   "cell_type": "code",
   "execution_count": 114,
   "metadata": {},
   "outputs": [
    {
     "data": {
      "text/plain": [
       "((10, 56, 56), dtype('float64'))"
      ]
     },
     "execution_count": 114,
     "metadata": {},
     "output_type": "execute_result"
    }
   ],
   "source": [
    "np_train.shape, np_train.dtype"
   ]
  },
  {
   "cell_type": "code",
   "execution_count": 56,
   "metadata": {},
   "outputs": [
    {
     "data": {
      "text/plain": [
       "False"
      ]
     },
     "execution_count": 56,
     "metadata": {},
     "output_type": "execute_result"
    }
   ],
   "source": [
    "np.array_equal(Wtrain1, a_img)"
   ]
  },
  {
   "cell_type": "code",
   "execution_count": 632,
   "metadata": {},
   "outputs": [],
   "source": [
    "nn_parameters = WOMC.initialize_parameters_nn(WOMC.W)"
   ]
  },
  {
   "cell_type": "code",
   "execution_count": 638,
   "metadata": {},
   "outputs": [
    {
     "data": {
      "text/plain": [
       "(1, 32)"
      ]
     },
     "execution_count": 638,
     "metadata": {},
     "output_type": "execute_result"
    }
   ],
   "source": [
    "nn_parameters['l0']['W1'].shape"
   ]
  },
  {
   "cell_type": "code",
   "execution_count": 644,
   "metadata": {},
   "outputs": [
    {
     "data": {
      "text/plain": [
       "(1, 32)"
      ]
     },
     "execution_count": 644,
     "metadata": {},
     "output_type": "execute_result"
    }
   ],
   "source": [
    "np.random.randint(2, size=(1, 32)).shape"
   ]
  },
  {
   "cell_type": "code",
   "execution_count": 457,
   "metadata": {},
   "outputs": [
    {
     "name": "stdout",
     "output_type": "stream",
     "text": [
      "X: (9, 31360), y: (1, 31360)\n"
     ]
    }
   ],
   "source": [
    "train_b = copy.deepcopy(X2)\n",
    "ytrain_b = copy.deepcopy(y2)\n",
    "print(f\"X: {train_b.shape}, y: {ytrain_b.shape}\")"
   ]
  },
  {
   "cell_type": "code",
   "execution_count": 438,
   "metadata": {},
   "outputs": [],
   "source": [
    "AL, caches = WOMC.L_model_forward(train_b, nn_parameters)"
   ]
  },
  {
   "cell_type": "code",
   "execution_count": 439,
   "metadata": {},
   "outputs": [
    {
     "data": {
      "text/plain": [
       "0.9488385468786822"
      ]
     },
     "execution_count": 439,
     "metadata": {},
     "output_type": "execute_result"
    }
   ],
   "source": [
    "cost = WOMC.compute_cost(AL, ytrain_b)\n",
    "cost"
   ]
  },
  {
   "cell_type": "code",
   "execution_count": 440,
   "metadata": {},
   "outputs": [],
   "source": [
    "grads = WOMC.L_model_backward(AL, ytrain_b, caches, nn_parameters)"
   ]
  },
  {
   "cell_type": "code",
   "execution_count": 417,
   "metadata": {},
   "outputs": [
    {
     "data": {
      "text/plain": [
       "(1, 31360)"
      ]
     },
     "execution_count": 417,
     "metadata": {},
     "output_type": "execute_result"
    }
   ],
   "source": [
    "L = len(caches)\n",
    "dAL = WOMC.calculate_iou_derivative(ytrain_b, AL)\n",
    "\n",
    "LL = len(caches)-1\n",
    "dAL.shape"
   ]
  },
  {
   "cell_type": "code",
   "execution_count": 419,
   "metadata": {},
   "outputs": [
    {
     "name": "stdout",
     "output_type": "stream",
     "text": [
      "1 1\n",
      "1 0\n",
      "0 1\n",
      "0 0\n"
     ]
    }
   ],
   "source": [
    "for k in reversed(range(WOMC.nlayer)):\n",
    "    L = (len(nn_parameters['l'+str(k)]) // 2)\n",
    "    for l in reversed(range(L)):\n",
    "        print(k,l)"
   ]
  },
  {
   "cell_type": "code",
   "execution_count": 420,
   "metadata": {},
   "outputs": [
    {
     "ename": "ValueError",
     "evalue": "shapes (8,) and (1,31360) not aligned: 8 (dim 0) != 1 (dim 0)",
     "output_type": "error",
     "traceback": [
      "\u001b[0;31m---------------------------------------------------------------------------\u001b[0m",
      "\u001b[0;31mValueError\u001b[0m                                Traceback (most recent call last)",
      "\u001b[0;32m/var/folders/zs/n_wh27_s5ln1fk586vbgqnn00000gq/T/ipykernel_53165/396148400.py\u001b[0m in \u001b[0;36m<module>\u001b[0;34m\u001b[0m\n\u001b[1;32m      2\u001b[0m \u001b[0ml\u001b[0m\u001b[0;34m=\u001b[0m\u001b[0;36m1\u001b[0m\u001b[0;34m\u001b[0m\u001b[0;34m\u001b[0m\u001b[0m\n\u001b[1;32m      3\u001b[0m \u001b[0;32mif\u001b[0m \u001b[0mk\u001b[0m \u001b[0;34m==\u001b[0m \u001b[0mWOMC\u001b[0m\u001b[0;34m.\u001b[0m\u001b[0mnlayer\u001b[0m\u001b[0;34m-\u001b[0m\u001b[0;36m1\u001b[0m \u001b[0;32mand\u001b[0m \u001b[0ml\u001b[0m \u001b[0;34m==\u001b[0m \u001b[0mL\u001b[0m\u001b[0;34m-\u001b[0m\u001b[0;36m1\u001b[0m\u001b[0;34m:\u001b[0m\u001b[0;34m\u001b[0m\u001b[0;34m\u001b[0m\u001b[0m\n\u001b[0;32m----> 4\u001b[0;31m     \u001b[0mdA_prev_temp\u001b[0m\u001b[0;34m,\u001b[0m \u001b[0mdW_temp\u001b[0m\u001b[0;34m,\u001b[0m \u001b[0mdb_temp\u001b[0m \u001b[0;34m=\u001b[0m \u001b[0mWOMC\u001b[0m\u001b[0;34m.\u001b[0m\u001b[0mL_activation_backward\u001b[0m\u001b[0;34m(\u001b[0m\u001b[0mdAL\u001b[0m\u001b[0;34m,\u001b[0m \u001b[0mcaches\u001b[0m\u001b[0;34m[\u001b[0m\u001b[0mLL\u001b[0m\u001b[0;34m]\u001b[0m\u001b[0;34m)\u001b[0m\u001b[0;34m\u001b[0m\u001b[0;34m\u001b[0m\u001b[0m\n\u001b[0m\u001b[1;32m      5\u001b[0m \u001b[0;32melif\u001b[0m \u001b[0mk\u001b[0m\u001b[0;34m<\u001b[0m\u001b[0mWOMC\u001b[0m\u001b[0;34m.\u001b[0m\u001b[0mnlayer\u001b[0m\u001b[0;34m-\u001b[0m\u001b[0;36m1\u001b[0m \u001b[0;32mand\u001b[0m \u001b[0ml\u001b[0m \u001b[0;34m==\u001b[0m \u001b[0mL\u001b[0m\u001b[0;34m-\u001b[0m\u001b[0;36m1\u001b[0m\u001b[0;34m:\u001b[0m\u001b[0;34m\u001b[0m\u001b[0;34m\u001b[0m\u001b[0m\n\u001b[1;32m      6\u001b[0m     \u001b[0mdA_prev_temp\u001b[0m\u001b[0;34m,\u001b[0m \u001b[0mdW_temp\u001b[0m\u001b[0;34m,\u001b[0m \u001b[0mdb_temp\u001b[0m \u001b[0;34m=\u001b[0m \u001b[0mWOMC\u001b[0m\u001b[0;34m.\u001b[0m\u001b[0mL_activation_backward\u001b[0m\u001b[0;34m(\u001b[0m\u001b[0mdA_prev_temp\u001b[0m\u001b[0;34m,\u001b[0m \u001b[0mcaches\u001b[0m\u001b[0;34m[\u001b[0m\u001b[0mLL\u001b[0m\u001b[0;34m]\u001b[0m\u001b[0;34m,\u001b[0m \u001b[0mflag\u001b[0m \u001b[0;34m=\u001b[0m \u001b[0;32mTrue\u001b[0m\u001b[0;34m)\u001b[0m\u001b[0;34m\u001b[0m\u001b[0;34m\u001b[0m\u001b[0m\n",
      "\u001b[0;32m~/Documents/GitHub/USDMM/USDMM_v3.py\u001b[0m in \u001b[0;36mL_activation_backward\u001b[0;34m(self, dA, cache, flag)\u001b[0m\n\u001b[1;32m    833\u001b[0m \u001b[0;34m\u001b[0m\u001b[0m\n\u001b[1;32m    834\u001b[0m         \u001b[0mdZ\u001b[0m \u001b[0;34m=\u001b[0m \u001b[0mself\u001b[0m\u001b[0;34m.\u001b[0m\u001b[0mtanh_backward\u001b[0m\u001b[0;34m(\u001b[0m\u001b[0mdA\u001b[0m\u001b[0;34m,\u001b[0m \u001b[0mactivation_cache\u001b[0m\u001b[0;34m,\u001b[0m \u001b[0mflag\u001b[0m\u001b[0;34m)\u001b[0m\u001b[0;34m\u001b[0m\u001b[0;34m\u001b[0m\u001b[0m\n\u001b[0;32m--> 835\u001b[0;31m         \u001b[0mdA_prev\u001b[0m\u001b[0;34m,\u001b[0m \u001b[0mdW\u001b[0m\u001b[0;34m,\u001b[0m \u001b[0mdb\u001b[0m \u001b[0;34m=\u001b[0m \u001b[0mself\u001b[0m\u001b[0;34m.\u001b[0m\u001b[0mL_backward\u001b[0m\u001b[0;34m(\u001b[0m\u001b[0mdZ\u001b[0m\u001b[0;34m,\u001b[0m \u001b[0mlinear_cache\u001b[0m\u001b[0;34m)\u001b[0m\u001b[0;34m\u001b[0m\u001b[0;34m\u001b[0m\u001b[0m\n\u001b[0m\u001b[1;32m    836\u001b[0m \u001b[0;34m\u001b[0m\u001b[0m\n\u001b[1;32m    837\u001b[0m         \u001b[0;32mreturn\u001b[0m \u001b[0mdA_prev\u001b[0m\u001b[0;34m,\u001b[0m \u001b[0mdW\u001b[0m\u001b[0;34m,\u001b[0m \u001b[0mdb\u001b[0m\u001b[0;34m\u001b[0m\u001b[0;34m\u001b[0m\u001b[0m\n",
      "\u001b[0;32m~/Documents/GitHub/USDMM/USDMM_v3.py\u001b[0m in \u001b[0;36mL_backward\u001b[0;34m(self, dZ, cache)\u001b[0m\n\u001b[1;32m    796\u001b[0m         \u001b[0mdW\u001b[0m \u001b[0;34m=\u001b[0m \u001b[0mnp\u001b[0m\u001b[0;34m.\u001b[0m\u001b[0mdot\u001b[0m\u001b[0;34m(\u001b[0m\u001b[0mdZ\u001b[0m\u001b[0;34m,\u001b[0m \u001b[0mA_prev\u001b[0m\u001b[0;34m.\u001b[0m\u001b[0mT\u001b[0m\u001b[0;34m)\u001b[0m \u001b[0;34m/\u001b[0m \u001b[0mm\u001b[0m \u001b[0;31m# delta W = gradient * neurons_inputs\u001b[0m\u001b[0;34m\u001b[0m\u001b[0;34m\u001b[0m\u001b[0m\n\u001b[1;32m    797\u001b[0m         \u001b[0mdb\u001b[0m \u001b[0;34m=\u001b[0m \u001b[0mnp\u001b[0m\u001b[0;34m.\u001b[0m\u001b[0msum\u001b[0m\u001b[0;34m(\u001b[0m\u001b[0mdZ\u001b[0m\u001b[0;34m,\u001b[0m \u001b[0maxis\u001b[0m\u001b[0;34m=\u001b[0m\u001b[0;36m1\u001b[0m\u001b[0;34m,\u001b[0m \u001b[0mkeepdims\u001b[0m\u001b[0;34m=\u001b[0m\u001b[0;32mTrue\u001b[0m\u001b[0;34m)\u001b[0m \u001b[0;34m/\u001b[0m \u001b[0mm\u001b[0m \u001b[0;31m# delta bias = sigmoid derivative median\u001b[0m\u001b[0;34m\u001b[0m\u001b[0;34m\u001b[0m\u001b[0m\n\u001b[0;32m--> 798\u001b[0;31m         \u001b[0mdA_prev\u001b[0m \u001b[0;34m=\u001b[0m \u001b[0mnp\u001b[0m\u001b[0;34m.\u001b[0m\u001b[0mdot\u001b[0m\u001b[0;34m(\u001b[0m\u001b[0mW\u001b[0m\u001b[0;34m.\u001b[0m\u001b[0mT\u001b[0m\u001b[0;34m,\u001b[0m \u001b[0mdZ\u001b[0m\u001b[0;34m)\u001b[0m\u001b[0;34m\u001b[0m\u001b[0;34m\u001b[0m\u001b[0m\n\u001b[0m\u001b[1;32m    799\u001b[0m \u001b[0;34m\u001b[0m\u001b[0m\n\u001b[1;32m    800\u001b[0m         \u001b[0;32mreturn\u001b[0m \u001b[0mdA_prev\u001b[0m\u001b[0;34m,\u001b[0m \u001b[0mdW\u001b[0m\u001b[0;34m,\u001b[0m \u001b[0mdb\u001b[0m\u001b[0;34m\u001b[0m\u001b[0;34m\u001b[0m\u001b[0m\n",
      "\u001b[0;32m<__array_function__ internals>\u001b[0m in \u001b[0;36mdot\u001b[0;34m(*args, **kwargs)\u001b[0m\n",
      "\u001b[0;31mValueError\u001b[0m: shapes (8,) and (1,31360) not aligned: 8 (dim 0) != 1 (dim 0)"
     ]
    }
   ],
   "source": [
    "k=1\n",
    "l=1\n",
    "if k == WOMC.nlayer-1 and l == L-1:\n",
    "    dA_prev_temp, dW_temp, db_temp = WOMC.L_activation_backward(dAL, caches[LL])\n",
    "elif k<WOMC.nlayer-1 and l == L-1:\n",
    "    dA_prev_temp, dW_temp, db_temp = WOMC.L_activation_backward(dA_prev_temp, caches[LL], flag = True)\n",
    "else:\n",
    "    dA_prev_temp, dW_temp, db_temp = WOMC.L_activation_backward(dA_prev_temp, caches[LL])\n",
    "grads[\"l\"+str(k)+\"dA\" + str(l)] = dA_prev_temp\n",
    "grads[\"l\"+str(k)+\"dW\" + str(l)] = dW_temp\n",
    "grads[\"l\"+str(k)+\"db\" + str(l)] = db_temp\n",
    "\n",
    "LL-=1"
   ]
  },
  {
   "cell_type": "code",
   "execution_count": 421,
   "metadata": {},
   "outputs": [
    {
     "ename": "ValueError",
     "evalue": "shapes (8,) and (1,31360) not aligned: 8 (dim 0) != 1 (dim 0)",
     "output_type": "error",
     "traceback": [
      "\u001b[0;31m---------------------------------------------------------------------------\u001b[0m",
      "\u001b[0;31mValueError\u001b[0m                                Traceback (most recent call last)",
      "\u001b[0;32m/var/folders/zs/n_wh27_s5ln1fk586vbgqnn00000gq/T/ipykernel_53165/1188154747.py\u001b[0m in \u001b[0;36m<module>\u001b[0;34m\u001b[0m\n\u001b[0;32m----> 1\u001b[0;31m \u001b[0mWOMC\u001b[0m\u001b[0;34m.\u001b[0m\u001b[0mL_activation_backward\u001b[0m\u001b[0;34m(\u001b[0m\u001b[0mdAL\u001b[0m\u001b[0;34m,\u001b[0m \u001b[0mcaches\u001b[0m\u001b[0;34m[\u001b[0m\u001b[0mLL\u001b[0m\u001b[0;34m]\u001b[0m\u001b[0;34m)\u001b[0m\u001b[0;34m\u001b[0m\u001b[0;34m\u001b[0m\u001b[0m\n\u001b[0m",
      "\u001b[0;32m~/Documents/GitHub/USDMM/USDMM_v3.py\u001b[0m in \u001b[0;36mL_activation_backward\u001b[0;34m(self, dA, cache, flag)\u001b[0m\n\u001b[1;32m    833\u001b[0m \u001b[0;34m\u001b[0m\u001b[0m\n\u001b[1;32m    834\u001b[0m         \u001b[0mdZ\u001b[0m \u001b[0;34m=\u001b[0m \u001b[0mself\u001b[0m\u001b[0;34m.\u001b[0m\u001b[0mtanh_backward\u001b[0m\u001b[0;34m(\u001b[0m\u001b[0mdA\u001b[0m\u001b[0;34m,\u001b[0m \u001b[0mactivation_cache\u001b[0m\u001b[0;34m,\u001b[0m \u001b[0mflag\u001b[0m\u001b[0;34m)\u001b[0m\u001b[0;34m\u001b[0m\u001b[0;34m\u001b[0m\u001b[0m\n\u001b[0;32m--> 835\u001b[0;31m         \u001b[0mdA_prev\u001b[0m\u001b[0;34m,\u001b[0m \u001b[0mdW\u001b[0m\u001b[0;34m,\u001b[0m \u001b[0mdb\u001b[0m \u001b[0;34m=\u001b[0m \u001b[0mself\u001b[0m\u001b[0;34m.\u001b[0m\u001b[0mL_backward\u001b[0m\u001b[0;34m(\u001b[0m\u001b[0mdZ\u001b[0m\u001b[0;34m,\u001b[0m \u001b[0mlinear_cache\u001b[0m\u001b[0;34m)\u001b[0m\u001b[0;34m\u001b[0m\u001b[0;34m\u001b[0m\u001b[0m\n\u001b[0m\u001b[1;32m    836\u001b[0m \u001b[0;34m\u001b[0m\u001b[0m\n\u001b[1;32m    837\u001b[0m         \u001b[0;32mreturn\u001b[0m \u001b[0mdA_prev\u001b[0m\u001b[0;34m,\u001b[0m \u001b[0mdW\u001b[0m\u001b[0;34m,\u001b[0m \u001b[0mdb\u001b[0m\u001b[0;34m\u001b[0m\u001b[0;34m\u001b[0m\u001b[0m\n",
      "\u001b[0;32m~/Documents/GitHub/USDMM/USDMM_v3.py\u001b[0m in \u001b[0;36mL_backward\u001b[0;34m(self, dZ, cache)\u001b[0m\n\u001b[1;32m    796\u001b[0m         \u001b[0mdW\u001b[0m \u001b[0;34m=\u001b[0m \u001b[0mnp\u001b[0m\u001b[0;34m.\u001b[0m\u001b[0mdot\u001b[0m\u001b[0;34m(\u001b[0m\u001b[0mdZ\u001b[0m\u001b[0;34m,\u001b[0m \u001b[0mA_prev\u001b[0m\u001b[0;34m.\u001b[0m\u001b[0mT\u001b[0m\u001b[0;34m)\u001b[0m \u001b[0;34m/\u001b[0m \u001b[0mm\u001b[0m \u001b[0;31m# delta W = gradient * neurons_inputs\u001b[0m\u001b[0;34m\u001b[0m\u001b[0;34m\u001b[0m\u001b[0m\n\u001b[1;32m    797\u001b[0m         \u001b[0mdb\u001b[0m \u001b[0;34m=\u001b[0m \u001b[0mnp\u001b[0m\u001b[0;34m.\u001b[0m\u001b[0msum\u001b[0m\u001b[0;34m(\u001b[0m\u001b[0mdZ\u001b[0m\u001b[0;34m,\u001b[0m \u001b[0maxis\u001b[0m\u001b[0;34m=\u001b[0m\u001b[0;36m1\u001b[0m\u001b[0;34m,\u001b[0m \u001b[0mkeepdims\u001b[0m\u001b[0;34m=\u001b[0m\u001b[0;32mTrue\u001b[0m\u001b[0;34m)\u001b[0m \u001b[0;34m/\u001b[0m \u001b[0mm\u001b[0m \u001b[0;31m# delta bias = sigmoid derivative median\u001b[0m\u001b[0;34m\u001b[0m\u001b[0;34m\u001b[0m\u001b[0m\n\u001b[0;32m--> 798\u001b[0;31m         \u001b[0mdA_prev\u001b[0m \u001b[0;34m=\u001b[0m \u001b[0mnp\u001b[0m\u001b[0;34m.\u001b[0m\u001b[0mdot\u001b[0m\u001b[0;34m(\u001b[0m\u001b[0mW\u001b[0m\u001b[0;34m.\u001b[0m\u001b[0mT\u001b[0m\u001b[0;34m,\u001b[0m \u001b[0mdZ\u001b[0m\u001b[0;34m)\u001b[0m\u001b[0;34m\u001b[0m\u001b[0;34m\u001b[0m\u001b[0m\n\u001b[0m\u001b[1;32m    799\u001b[0m \u001b[0;34m\u001b[0m\u001b[0m\n\u001b[1;32m    800\u001b[0m         \u001b[0;32mreturn\u001b[0m \u001b[0mdA_prev\u001b[0m\u001b[0;34m,\u001b[0m \u001b[0mdW\u001b[0m\u001b[0;34m,\u001b[0m \u001b[0mdb\u001b[0m\u001b[0;34m\u001b[0m\u001b[0;34m\u001b[0m\u001b[0m\n",
      "\u001b[0;32m<__array_function__ internals>\u001b[0m in \u001b[0;36mdot\u001b[0;34m(*args, **kwargs)\u001b[0m\n",
      "\u001b[0;31mValueError\u001b[0m: shapes (8,) and (1,31360) not aligned: 8 (dim 0) != 1 (dim 0)"
     ]
    }
   ],
   "source": [
    "WOMC.L_activation_backward(dAL, caches[LL])"
   ]
  },
  {
   "cell_type": "code",
   "execution_count": 423,
   "metadata": {},
   "outputs": [],
   "source": [
    "linear_cache, activation_cache = caches[LL]"
   ]
  },
  {
   "cell_type": "code",
   "execution_count": 424,
   "metadata": {},
   "outputs": [
    {
     "data": {
      "text/plain": [
       "(1, 31360)"
      ]
     },
     "execution_count": 424,
     "metadata": {},
     "output_type": "execute_result"
    }
   ],
   "source": [
    "activation_cache.shape"
   ]
  },
  {
   "cell_type": "code",
   "execution_count": 422,
   "metadata": {},
   "outputs": [
    {
     "data": {
      "text/plain": [
       "(1, 31360)"
      ]
     },
     "execution_count": 422,
     "metadata": {},
     "output_type": "execute_result"
    }
   ],
   "source": [
    "dAL.shape"
   ]
  },
  {
   "cell_type": "code",
   "execution_count": 426,
   "metadata": {},
   "outputs": [],
   "source": [
    "dZ = WOMC.tanh_backward(dAL, activation_cache, False)"
   ]
  },
  {
   "cell_type": "code",
   "execution_count": 427,
   "metadata": {},
   "outputs": [
    {
     "ename": "ValueError",
     "evalue": "shapes (8,) and (1,31360) not aligned: 8 (dim 0) != 1 (dim 0)",
     "output_type": "error",
     "traceback": [
      "\u001b[0;31m---------------------------------------------------------------------------\u001b[0m",
      "\u001b[0;31mValueError\u001b[0m                                Traceback (most recent call last)",
      "\u001b[0;32m/var/folders/zs/n_wh27_s5ln1fk586vbgqnn00000gq/T/ipykernel_53165/1828083818.py\u001b[0m in \u001b[0;36m<module>\u001b[0;34m\u001b[0m\n\u001b[0;32m----> 1\u001b[0;31m \u001b[0mdA_prev\u001b[0m\u001b[0;34m,\u001b[0m \u001b[0mdW\u001b[0m\u001b[0;34m,\u001b[0m \u001b[0mdb\u001b[0m \u001b[0;34m=\u001b[0m \u001b[0mWOMC\u001b[0m\u001b[0;34m.\u001b[0m\u001b[0mL_backward\u001b[0m\u001b[0;34m(\u001b[0m\u001b[0mdZ\u001b[0m\u001b[0;34m,\u001b[0m \u001b[0mlinear_cache\u001b[0m\u001b[0;34m)\u001b[0m\u001b[0;34m\u001b[0m\u001b[0;34m\u001b[0m\u001b[0m\n\u001b[0m",
      "\u001b[0;32m~/Documents/GitHub/USDMM/USDMM_v3.py\u001b[0m in \u001b[0;36mL_backward\u001b[0;34m(self, dZ, cache)\u001b[0m\n\u001b[1;32m    796\u001b[0m         \u001b[0mdW\u001b[0m \u001b[0;34m=\u001b[0m \u001b[0mnp\u001b[0m\u001b[0;34m.\u001b[0m\u001b[0mdot\u001b[0m\u001b[0;34m(\u001b[0m\u001b[0mdZ\u001b[0m\u001b[0;34m,\u001b[0m \u001b[0mA_prev\u001b[0m\u001b[0;34m.\u001b[0m\u001b[0mT\u001b[0m\u001b[0;34m)\u001b[0m \u001b[0;34m/\u001b[0m \u001b[0mm\u001b[0m \u001b[0;31m# delta W = gradient * neurons_inputs\u001b[0m\u001b[0;34m\u001b[0m\u001b[0;34m\u001b[0m\u001b[0m\n\u001b[1;32m    797\u001b[0m         \u001b[0mdb\u001b[0m \u001b[0;34m=\u001b[0m \u001b[0mnp\u001b[0m\u001b[0;34m.\u001b[0m\u001b[0msum\u001b[0m\u001b[0;34m(\u001b[0m\u001b[0mdZ\u001b[0m\u001b[0;34m,\u001b[0m \u001b[0maxis\u001b[0m\u001b[0;34m=\u001b[0m\u001b[0;36m1\u001b[0m\u001b[0;34m,\u001b[0m \u001b[0mkeepdims\u001b[0m\u001b[0;34m=\u001b[0m\u001b[0;32mTrue\u001b[0m\u001b[0;34m)\u001b[0m \u001b[0;34m/\u001b[0m \u001b[0mm\u001b[0m \u001b[0;31m# delta bias = sigmoid derivative median\u001b[0m\u001b[0;34m\u001b[0m\u001b[0;34m\u001b[0m\u001b[0m\n\u001b[0;32m--> 798\u001b[0;31m         \u001b[0mdA_prev\u001b[0m \u001b[0;34m=\u001b[0m \u001b[0mnp\u001b[0m\u001b[0;34m.\u001b[0m\u001b[0mdot\u001b[0m\u001b[0;34m(\u001b[0m\u001b[0mW\u001b[0m\u001b[0;34m.\u001b[0m\u001b[0mT\u001b[0m\u001b[0;34m,\u001b[0m \u001b[0mdZ\u001b[0m\u001b[0;34m)\u001b[0m\u001b[0;34m\u001b[0m\u001b[0;34m\u001b[0m\u001b[0m\n\u001b[0m\u001b[1;32m    799\u001b[0m \u001b[0;34m\u001b[0m\u001b[0m\n\u001b[1;32m    800\u001b[0m         \u001b[0;32mreturn\u001b[0m \u001b[0mdA_prev\u001b[0m\u001b[0;34m,\u001b[0m \u001b[0mdW\u001b[0m\u001b[0;34m,\u001b[0m \u001b[0mdb\u001b[0m\u001b[0;34m\u001b[0m\u001b[0;34m\u001b[0m\u001b[0m\n",
      "\u001b[0;32m<__array_function__ internals>\u001b[0m in \u001b[0;36mdot\u001b[0;34m(*args, **kwargs)\u001b[0m\n",
      "\u001b[0;31mValueError\u001b[0m: shapes (8,) and (1,31360) not aligned: 8 (dim 0) != 1 (dim 0)"
     ]
    }
   ],
   "source": [
    "dA_prev, dW, db = WOMC.L_backward(dZ, linear_cache)"
   ]
  },
  {
   "cell_type": "code",
   "execution_count": 428,
   "metadata": {},
   "outputs": [
    {
     "data": {
      "text/plain": [
       "(1, 31360)"
      ]
     },
     "execution_count": 428,
     "metadata": {},
     "output_type": "execute_result"
    }
   ],
   "source": [
    "dZ.shape"
   ]
  },
  {
   "cell_type": "code",
   "execution_count": 429,
   "metadata": {},
   "outputs": [],
   "source": [
    "A_prev, W, b = linear_cache"
   ]
  },
  {
   "cell_type": "code",
   "execution_count": 430,
   "metadata": {},
   "outputs": [
    {
     "data": {
      "text/plain": [
       "31360"
      ]
     },
     "execution_count": 430,
     "metadata": {},
     "output_type": "execute_result"
    }
   ],
   "source": [
    "m = A_prev.shape[1]\n",
    "m"
   ]
  },
  {
   "cell_type": "code",
   "execution_count": 431,
   "metadata": {},
   "outputs": [],
   "source": [
    "dW = np.dot(dZ, A_prev.T) / m"
   ]
  },
  {
   "cell_type": "code",
   "execution_count": 432,
   "metadata": {},
   "outputs": [],
   "source": [
    "db = np.sum(dZ, axis=1, keepdims=True) / m"
   ]
  },
  {
   "cell_type": "code",
   "execution_count": 433,
   "metadata": {},
   "outputs": [
    {
     "ename": "ValueError",
     "evalue": "shapes (8,) and (1,31360) not aligned: 8 (dim 0) != 1 (dim 0)",
     "output_type": "error",
     "traceback": [
      "\u001b[0;31m---------------------------------------------------------------------------\u001b[0m",
      "\u001b[0;31mValueError\u001b[0m                                Traceback (most recent call last)",
      "\u001b[0;32m/var/folders/zs/n_wh27_s5ln1fk586vbgqnn00000gq/T/ipykernel_53165/3290047716.py\u001b[0m in \u001b[0;36m<module>\u001b[0;34m\u001b[0m\n\u001b[0;32m----> 1\u001b[0;31m \u001b[0mdA_prev\u001b[0m \u001b[0;34m=\u001b[0m \u001b[0mnp\u001b[0m\u001b[0;34m.\u001b[0m\u001b[0mdot\u001b[0m\u001b[0;34m(\u001b[0m\u001b[0mW\u001b[0m\u001b[0;34m.\u001b[0m\u001b[0mT\u001b[0m\u001b[0;34m,\u001b[0m \u001b[0mdZ\u001b[0m\u001b[0;34m)\u001b[0m\u001b[0;34m\u001b[0m\u001b[0;34m\u001b[0m\u001b[0m\n\u001b[0m",
      "\u001b[0;32m<__array_function__ internals>\u001b[0m in \u001b[0;36mdot\u001b[0;34m(*args, **kwargs)\u001b[0m\n",
      "\u001b[0;31mValueError\u001b[0m: shapes (8,) and (1,31360) not aligned: 8 (dim 0) != 1 (dim 0)"
     ]
    }
   ],
   "source": [
    "dA_prev = np.dot(W.T, dZ)"
   ]
  },
  {
   "cell_type": "code",
   "execution_count": 434,
   "metadata": {},
   "outputs": [
    {
     "data": {
      "text/plain": [
       "(8,)"
      ]
     },
     "execution_count": 434,
     "metadata": {},
     "output_type": "execute_result"
    }
   ],
   "source": [
    "W.shape"
   ]
  },
  {
   "cell_type": "code",
   "execution_count": 435,
   "metadata": {},
   "outputs": [
    {
     "data": {
      "text/plain": [
       "array([1, 1, 1, 1, 0, 0, 1, 1])"
      ]
     },
     "execution_count": 435,
     "metadata": {},
     "output_type": "execute_result"
    }
   ],
   "source": [
    "W"
   ]
  },
  {
   "cell_type": "code",
   "execution_count": 458,
   "metadata": {},
   "outputs": [
    {
     "name": "stdout",
     "output_type": "stream",
     "text": [
      "Cost after iteration 0: 0.9050127976210287\n",
      "Cost after iteration 10: 0.9138887857303235\n",
      "Cost after iteration 20: 0.914240147419747\n",
      "Cost after iteration 30: 0.8972088851925559\n",
      "Cost after iteration 40: 0.9035465564645488\n",
      "Cost after iteration 50: 0.9040021961158967\n",
      "Cost after iteration 60: 0.9008416183844286\n",
      "Cost after iteration 70: 0.9010373507506776\n",
      "Cost after iteration 80: 0.9016112372125695\n",
      "Cost after iteration 90: 0.9067660559017533\n",
      "Cost after iteration 100: 0.9010373507506776\n",
      "Cost after iteration 110: 0.9027849250206341\n",
      "Cost after iteration 120: 0.9060933933332589\n",
      "Cost after iteration 130: 0.904956349470076\n",
      "Cost after iteration 140: 0.9016432271465954\n",
      "Cost after iteration 150: 0.9040559488089357\n",
      "Cost after iteration 160: 0.9142764805190916\n",
      "Cost after iteration 170: 0.9016432271465954\n",
      "Cost after iteration 180: 0.9039263334213574\n",
      "Cost after iteration 190: 0.9039071542041709\n",
      "Cost after iteration 200: 0.9132640859010148\n",
      "Cost after iteration 210: 0.9040510911505336\n",
      "Cost after iteration 220: 0.9010646583939531\n",
      "Cost after iteration 230: 0.9016432271465954\n",
      "Cost after iteration 240: 0.9175500085674011\n",
      "Cost after iteration 250: 0.9132403209496636\n",
      "Cost after iteration 260: 0.9104082919473795\n",
      "Cost after iteration 270: 0.9039263334213574\n",
      "Cost after iteration 280: 0.9017128721633858\n",
      "Cost after iteration 290: 0.9114626609734555\n",
      "Cost after iteration 300: 0.9040559488089357\n",
      "Cost after iteration 310: 0.906985685559718\n",
      "Cost after iteration 320: 0.9142764805190916\n",
      "Cost after iteration 330: 0.9041044669654307\n",
      "Cost after iteration 340: 0.9040510911505336\n",
      "Cost after iteration 350: 0.901594944413916\n",
      "Cost after iteration 360: 0.9024553242412857\n",
      "Cost after iteration 370: 0.9016712934515893\n",
      "Cost after iteration 380: 0.9175500085674011\n",
      "Cost after iteration 390: 0.89986212705527\n",
      "Cost after iteration 400: 0.9016432271465954\n",
      "Cost after iteration 410: 0.9023278720586921\n",
      "Cost after iteration 420: 0.9142764805190916\n",
      "Cost after iteration 430: 0.9016848494564986\n",
      "Cost after iteration 440: 0.9175601906383338\n",
      "Cost after iteration 450: 0.895355088582982\n",
      "Cost after iteration 460: 0.8972990760462357\n",
      "Cost after iteration 470: 0.9023044439660304\n",
      "Cost after iteration 480: 0.9040510911505336\n",
      "Cost after iteration 490: 0.9016365488536253\n",
      "Cost after iteration 500: 0.9017128721633858\n",
      "Cost after iteration 510: 0.9142099177907713\n",
      "Cost after iteration 520: 0.9066803187452896\n",
      "Cost after iteration 530: 0.919839264918527\n",
      "Cost after iteration 540: 0.9040559488089357\n",
      "Cost after iteration 550: 0.9044933539361575\n",
      "Cost after iteration 560: 0.9017128721633858\n",
      "Cost after iteration 570: 0.9010403116887608\n",
      "Cost after iteration 580: 0.9040559488089357\n",
      "Cost after iteration 590: 0.906985685559718\n",
      "Cost after iteration 600: 0.8953790627174778\n",
      "Cost after iteration 610: 0.9114112506265627\n",
      "Cost after iteration 620: 0.9018922715426761\n",
      "Cost after iteration 630: 0.9016848494564986\n",
      "Cost after iteration 640: 0.9041044669654307\n",
      "Cost after iteration 650: 0.9079000904471247\n",
      "Cost after iteration 660: 0.8972990760462357\n",
      "Cost after iteration 670: 0.9129705479622574\n",
      "Cost after iteration 680: 0.9040559488089357\n",
      "Cost after iteration 690: 0.8998796419464636\n",
      "Cost after iteration 700: 0.904304824088066\n",
      "Cost after iteration 710: 0.9016712934515893\n",
      "Cost after iteration 720: 0.8972750028777057\n",
      "Cost after iteration 730: 0.9140755972237065\n",
      "Cost after iteration 740: 0.9141001004474771\n",
      "Cost after iteration 750: 0.9042673929902341\n",
      "Cost after iteration 760: 0.9077812065429491\n",
      "Cost after iteration 770: 0.9008930736710224\n",
      "Cost after iteration 780: 0.9039023531990464\n",
      "Cost after iteration 790: 0.9119024709103828\n",
      "Cost after iteration 800: 0.895274180723791\n",
      "Cost after iteration 810: 0.9059133124264299\n",
      "Cost after iteration 820: 0.9069471306594326\n",
      "Cost after iteration 830: 0.9142099177907713\n",
      "Cost after iteration 840: 0.907943253266677\n",
      "Cost after iteration 850: 0.9119263702900555\n",
      "Cost after iteration 860: 0.9008698603374847\n",
      "Cost after iteration 870: 0.9175232981302335\n",
      "Cost after iteration 880: 0.9040559488089357\n",
      "Cost after iteration 890: 0.9023044439660304\n",
      "Cost after iteration 900: 0.9016848494564986\n",
      "Cost after iteration 910: 0.9087914451547133\n",
      "Cost after iteration 920: 0.9079000904471247\n",
      "Cost after iteration 930: 0.9111174937259785\n",
      "Cost after iteration 940: 0.895274180723791\n",
      "Cost after iteration 950: 0.9070029670555098\n",
      "Cost after iteration 960: 0.9141664791644212\n",
      "Cost after iteration 970: 0.9016848494564986\n",
      "Cost after iteration 980: 0.9142764805190916\n",
      "Cost after iteration 990: 0.9175232981302335\n",
      "Cost after iteration 1000: 0.9175232981302335\n",
      "Cost after iteration 1010: 0.9040559488089357\n",
      "Cost after iteration 1020: 0.9046306083952347\n",
      "Cost after iteration 1030: 0.9119637940985053\n",
      "Cost after iteration 1040: 0.9040559488089357\n",
      "Cost after iteration 1050: 0.9131366580408515\n",
      "Cost after iteration 1060: 0.914012764637441\n",
      "Cost after iteration 1070: 0.9052441137260162\n",
      "Cost after iteration 1080: 0.9058616674055608\n",
      "Cost after iteration 1090: 0.9023764294661151\n",
      "Cost after iteration 1100: 0.9022141455066277\n",
      "Cost after iteration 1110: 0.9079000904471247\n",
      "Cost after iteration 1120: 0.905871751634202\n",
      "Cost after iteration 1130: 0.9153900632612327\n",
      "Cost after iteration 1140: 0.9119263702900555\n",
      "Cost after iteration 1150: 0.914012764637441\n",
      "Cost after iteration 1160: 0.9142764805190916\n",
      "Cost after iteration 1170: 0.9040510911505336\n",
      "Cost after iteration 1180: 0.9022573688027429\n",
      "Cost after iteration 1190: 0.9142764805190916\n",
      "Cost after iteration 1200: 0.9040996038545595\n",
      "Cost after iteration 1210: 0.9062483310331793\n",
      "Cost after iteration 1220: 0.9070029670555098\n",
      "Cost after iteration 1230: 0.9077990929050157\n",
      "Cost after iteration 1240: 0.8973783126749699\n",
      "Cost after iteration 1250: 0.9175601906383338\n",
      "Cost after iteration 1260: 0.8952981802858494\n",
      "Cost after iteration 1270: 0.9142764805190916\n",
      "Cost after iteration 1280: 0.914012764637441\n",
      "Cost after iteration 1290: 0.9027924073294915\n",
      "Cost after iteration 1300: 0.9142099177907713\n",
      "Cost after iteration 1310: 0.9160591280643269\n",
      "Cost after iteration 1320: 0.9175500085674011\n",
      "Cost after iteration 1330: 0.9016365488536253\n",
      "Cost after iteration 1340: 0.9023764294661151\n",
      "Cost after iteration 1350: 0.9077812065429491\n",
      "Cost after iteration 1360: 0.9059032426029212\n",
      "Cost after iteration 1370: 0.8998711017711842\n",
      "Cost after iteration 1380: 0.9026627753959676\n",
      "Cost after iteration 1390: 0.9010646583939531\n",
      "Cost after iteration 1400: 0.8998503786171105\n",
      "Cost after iteration 1410: 0.9117942622989608\n",
      "Cost after iteration 1420: 0.9043465424771858\n",
      "Cost after iteration 1430: 0.9122066275280674\n",
      "Cost after iteration 1440: 0.9175601906383338\n",
      "Cost after iteration 1450: 0.9175232981302335\n",
      "Cost after iteration 1460: 0.9028023572552094\n",
      "Cost after iteration 1470: 0.9171280799399846\n",
      "Cost after iteration 1480: 0.9142764805190916\n",
      "Cost after iteration 1490: 0.9027148672271783\n",
      "Cost after iteration 1500: 0.9175500085674011\n",
      "Cost after iteration 1510: 0.9016432271465954\n",
      "Cost after iteration 1520: 0.907943253266677\n",
      "Cost after iteration 1530: 0.9119637940985053\n",
      "Cost after iteration 1540: 0.9046765333812141\n",
      "Cost after iteration 1550: 0.9114626609734555\n",
      "Cost after iteration 1560: 0.895274180723791\n",
      "Cost after iteration 1570: 0.9040510911505336\n",
      "Cost after iteration 1580: 0.9142099177907713\n",
      "Cost after iteration 1590: 0.9027849250206341\n",
      "Cost after iteration 1600: 0.9040559488089357\n",
      "Cost after iteration 1610: 0.9095060028253984\n",
      "Cost after iteration 1620: 0.9052441137260162\n",
      "Cost after iteration 1630: 0.9040510911505336\n",
      "Cost after iteration 1640: 0.9027148672271783\n",
      "Cost after iteration 1650: 0.8998410080631416\n",
      "Cost after iteration 1660: 0.8998503786171105\n",
      "Cost after iteration 1670: 0.9141664791644212\n",
      "Cost after iteration 1680: 0.9119024709103828\n",
      "Cost after iteration 1690: 0.9041044669654307\n",
      "Cost after iteration 1700: 0.9023278720586921\n",
      "Cost after iteration 1710: 0.9041044669654307\n",
      "Cost after iteration 1720: 0.9141001004474771\n",
      "Cost after iteration 1730: 0.9022573688027429\n",
      "Cost after iteration 1740: 0.9044635047458952\n",
      "Cost after iteration 1750: 0.9140755972237065\n",
      "Cost after iteration 1760: 0.9153900632612327\n",
      "Cost after iteration 1770: 0.9079000904471247\n",
      "Cost after iteration 1780: 0.9041044669654307\n",
      "Cost after iteration 1790: 0.9040559488089357\n",
      "Cost after iteration 1800: 0.9016432271465954\n",
      "Cost after iteration 1810: 0.9049693008755879\n",
      "Cost after iteration 1820: 0.9040996038545595\n",
      "Cost after iteration 1830: 0.9026627753959676\n",
      "Cost after iteration 1840: 0.904956349470076\n",
      "Cost after iteration 1850: 0.9132403209496636\n",
      "Cost after iteration 1860: 0.9041044669654307\n",
      "Cost after iteration 1870: 0.9175500085674011\n",
      "Cost after iteration 1880: 0.9010691396747712\n",
      "Cost after iteration 1890: 0.9027148672271783\n",
      "Cost after iteration 1900: 0.907943253266677\n",
      "Cost after iteration 1910: 0.9141664791644212\n",
      "Cost after iteration 1920: 0.9119024709103828\n",
      "Cost after iteration 1930: 0.9067064786671265\n",
      "Cost after iteration 1940: 0.9023278720586921\n",
      "Cost after iteration 1950: 0.9088832471608127\n",
      "Cost after iteration 1960: 0.9119637940985053\n",
      "Cost after iteration 1970: 0.9048479185051825\n",
      "Cost after iteration 1980: 0.9040996038545595\n",
      "Cost after iteration 1990: 0.9046605448691576\n",
      "Cost after iteration 1999: 0.9067064786671265\n"
     ]
    }
   ],
   "source": [
    "parameters, costs = WOMC.nn_model_train(train_b, ytrain_b, nn_parameters, learning_rate=0.01, num_iterations = 2000\n",
    "                   , print_cost = True )"
   ]
  },
  {
   "cell_type": "code",
   "execution_count": 442,
   "metadata": {},
   "outputs": [
    {
     "data": {
      "text/plain": [
       "{'l0': {'W0': array([[0., 0., 0., 0., 0., 0., 0., 0., 0.],\n",
       "         [0., 0., 0., 0., 0., 1., 0., 0., 0.],\n",
       "         [0., 0., 0., 0., 1., 0., 0., 0., 0.],\n",
       "         [0., 0., 0., 0., 1., 1., 0., 0., 0.],\n",
       "         [0., 1., 0., 0., 0., 0., 0., 0., 0.],\n",
       "         [0., 1., 0., 0., 0., 1., 0., 0., 0.],\n",
       "         [0., 1., 0., 0., 1., 0., 0., 0., 0.],\n",
       "         [0., 1., 0., 0., 1., 1., 0., 0., 0.]]),\n",
       "  'b0': array([[-2],\n",
       "         [-2],\n",
       "         [-2],\n",
       "         [-2],\n",
       "         [-2],\n",
       "         [-2],\n",
       "         [-2],\n",
       "         [-2]]),\n",
       "  'W1': array([[1., 1., 1., 1., 0., 0., 1., 1.]]),\n",
       "  'b1': array([[0.]])},\n",
       " 'l1': {'W0': array([[0., 0., 0., 0., 0., 0., 0., 0., 0.],\n",
       "         [0., 0., 0., 0., 0., 1., 0., 0., 0.],\n",
       "         [0., 0., 0., 0., 1., 0., 0., 0., 0.],\n",
       "         [0., 0., 0., 0., 1., 1., 0., 0., 0.],\n",
       "         [0., 1., 0., 0., 0., 0., 0., 0., 0.],\n",
       "         [0., 1., 0., 0., 0., 1., 0., 0., 0.],\n",
       "         [0., 1., 0., 0., 1., 0., 0., 0., 0.],\n",
       "         [0., 1., 0., 0., 1., 1., 0., 0., 0.]]),\n",
       "  'b0': array([[-2],\n",
       "         [-2],\n",
       "         [-2],\n",
       "         [-2],\n",
       "         [-2],\n",
       "         [-2],\n",
       "         [-2],\n",
       "         [-2]]),\n",
       "  'W1': array([[1., 1., 1., 1., 0., 0., 1., 1.]]),\n",
       "  'b1': array([[0.]])}}"
      ]
     },
     "execution_count": 442,
     "metadata": {},
     "output_type": "execute_result"
    }
   ],
   "source": [
    "parameters"
   ]
  },
  {
   "cell_type": "code",
   "execution_count": 582,
   "metadata": {},
   "outputs": [
    {
     "data": {
      "text/plain": [
       "0.10746173469387756"
      ]
     },
     "execution_count": 582,
     "metadata": {},
     "output_type": "execute_result"
    }
   ],
   "source": [
    "v = ytrain_b * probas\n",
    "np.sum((np.maximum(0, 1 - v)) / probas.size)"
   ]
  },
  {
   "cell_type": "code",
   "execution_count": 584,
   "metadata": {},
   "outputs": [
    {
     "data": {
      "text/plain": [
       "0.1"
      ]
     },
     "execution_count": 584,
     "metadata": {},
     "output_type": "execute_result"
    }
   ],
   "source": [
    "union = np.sum(np.maximum(probas,ytrain_b)==1)\n",
    "interc = np.sum(probas +ytrain_b == 2)\n",
    "error = (1 - interc/union)\n",
    "error = error/10\n",
    "error"
   ]
  },
  {
   "cell_type": "code",
   "execution_count": 593,
   "metadata": {},
   "outputs": [
    {
     "data": {
      "text/plain": [
       "(1, 31360)"
      ]
     },
     "execution_count": 593,
     "metadata": {},
     "output_type": "execute_result"
    }
   ],
   "source": [
    "WOMC.hinge_loss_derivative(ytrain_b, probas).shape"
   ]
  },
  {
   "cell_type": "code",
   "execution_count": 594,
   "metadata": {},
   "outputs": [
    {
     "data": {
      "text/plain": [
       "(1, 31360)"
      ]
     },
     "execution_count": 594,
     "metadata": {},
     "output_type": "execute_result"
    }
   ],
   "source": [
    "WOMC.calculate_iou_derivative(ytrain_b, probas).shape"
   ]
  },
  {
   "cell_type": "code",
   "execution_count": 580,
   "metadata": {},
   "outputs": [
    {
     "data": {
      "text/plain": [
       "1.0"
      ]
     },
     "execution_count": 580,
     "metadata": {},
     "output_type": "execute_result"
    }
   ],
   "source": [
    "WOMC.apply_nn(train_b, ytrain_b, parameters)"
   ]
  },
  {
   "cell_type": "code",
   "execution_count": 591,
   "metadata": {},
   "outputs": [],
   "source": [
    "probas, _ = WOMC.L_model_forward(train_b, parameters)"
   ]
  },
  {
   "cell_type": "code",
   "execution_count": 586,
   "metadata": {},
   "outputs": [
    {
     "data": {
      "text/plain": [
       "array([[0, 0, 0, ..., 0, 0, 0]])"
      ]
     },
     "execution_count": 586,
     "metadata": {},
     "output_type": "execute_result"
    }
   ],
   "source": [
    "probas = np.where(probas < 0, 0, 1)\n",
    "probas"
   ]
  },
  {
   "cell_type": "code",
   "execution_count": 587,
   "metadata": {},
   "outputs": [],
   "source": [
    "probas = np.where(probas < 0, 0, 1)\n",
    "y_pred = WOMC.transform_nn_for_image(probas, WOMC.train_size)\n",
    "y_img = WOMC.transform_nn_for_image(ytrain_b, WOMC.train_size)\n",
    "n_samples = len(y_img)\n",
    "for k in range(n_samples):\n",
    "    y_z = copy.deepcopy(y_img[k])\n",
    "    y_z[y_z==-1]=0\n",
    "    union = np.sum(np.maximum(y_pred,y_z)==1)\n",
    "    interc = np.sum(y_pred +y_z == 2)\n",
    "    error += (1 - interc/union)\n",
    "error/n_samples "
   ]
  },
  {
   "cell_type": "code",
   "execution_count": 588,
   "metadata": {},
   "outputs": [
    {
     "data": {
      "text/plain": [
       "1.01"
      ]
     },
     "execution_count": 588,
     "metadata": {},
     "output_type": "execute_result"
    }
   ],
   "source": [
    "n_samples = len(y_img)\n",
    "for k in range(n_samples):\n",
    "    y_z = copy.deepcopy(y_img[k])\n",
    "    y_z[y_z==-1]=0\n",
    "    union = np.sum(np.maximum(y_pred,y_z)==1)\n",
    "    interc = np.sum(y_pred +y_z == 2)\n",
    "    error += (1 - interc/union)\n",
    "error/n_samples "
   ]
  },
  {
   "cell_type": "code",
   "execution_count": null,
   "metadata": {},
   "outputs": [],
   "source": []
  },
  {
   "cell_type": "code",
   "execution_count": 569,
   "metadata": {},
   "outputs": [],
   "source": [
    "y_pred = WOMC.transform_nn_for_image(probas, WOMC.train_size)"
   ]
  },
  {
   "cell_type": "code",
   "execution_count": 570,
   "metadata": {},
   "outputs": [
    {
     "data": {
      "text/plain": [
       "(10, 56, 56)"
      ]
     },
     "execution_count": 570,
     "metadata": {},
     "output_type": "execute_result"
    }
   ],
   "source": [
    "y_pred.shape"
   ]
  },
  {
   "cell_type": "code",
   "execution_count": 577,
   "metadata": {},
   "outputs": [
    {
     "data": {
      "text/plain": [
       "10"
      ]
     },
     "execution_count": 577,
     "metadata": {},
     "output_type": "execute_result"
    }
   ],
   "source": [
    "len(y_pred)"
   ]
  },
  {
   "cell_type": "code",
   "execution_count": null,
   "metadata": {},
   "outputs": [],
   "source": []
  },
  {
   "cell_type": "code",
   "execution_count": 533,
   "metadata": {},
   "outputs": [
    {
     "data": {
      "text/plain": [
       "array([[0., 0., 1., 0., 0., 0., 1., 1., 1., 1., 0., 0., 1., 0., 0., 0.,\n",
       "        0., 1., 0., 1., 0., 1., 0., 0., 0., 0., 0., 1., 1., 1., 1., 0.]])"
      ]
     },
     "execution_count": 533,
     "metadata": {},
     "output_type": "execute_result"
    }
   ],
   "source": [
    "parameters['l0']['W1']"
   ]
  },
  {
   "cell_type": "code",
   "execution_count": 547,
   "metadata": {},
   "outputs": [],
   "source": [
    "A, caches = WOMC.L_model_forward(train_b,nn_parameters )#parameters)"
   ]
  },
  {
   "cell_type": "code",
   "execution_count": 548,
   "metadata": {},
   "outputs": [
    {
     "data": {
      "text/plain": [
       "(1, 31360)"
      ]
     },
     "execution_count": 548,
     "metadata": {},
     "output_type": "execute_result"
    }
   ],
   "source": [
    "A.shape"
   ]
  },
  {
   "cell_type": "code",
   "execution_count": 556,
   "metadata": {},
   "outputs": [
    {
     "data": {
      "text/plain": [
       "(-0.7190001404670499, -0.7085682753071358)"
      ]
     },
     "execution_count": 556,
     "metadata": {},
     "output_type": "execute_result"
    }
   ],
   "source": [
    "min(min(A)), max(max(A))"
   ]
  },
  {
   "cell_type": "code",
   "execution_count": 558,
   "metadata": {},
   "outputs": [],
   "source": [
    "AA = A.copy()"
   ]
  },
  {
   "cell_type": "code",
   "execution_count": 560,
   "metadata": {},
   "outputs": [],
   "source": [
    "AA[AA<0] = -1\n",
    "AA[AA>0] = 1"
   ]
  },
  {
   "cell_type": "code",
   "execution_count": 561,
   "metadata": {},
   "outputs": [],
   "source": [
    "AA = np.where(AA < 0, -1, 1)"
   ]
  },
  {
   "cell_type": "code",
   "execution_count": 562,
   "metadata": {},
   "outputs": [
    {
     "data": {
      "text/plain": [
       "array([[-1, -1, -1, ..., -1, -1, -1]])"
      ]
     },
     "execution_count": 562,
     "metadata": {},
     "output_type": "execute_result"
    }
   ],
   "source": [
    "AA"
   ]
  },
  {
   "cell_type": "code",
   "execution_count": 549,
   "metadata": {},
   "outputs": [
    {
     "data": {
      "text/plain": [
       "array([-0.71900014, -0.71870236, -0.71862225, -0.71855132, -0.71853079,\n",
       "       -0.71846606, -0.71845258, -0.71844216, -0.71839648, -0.71832299,\n",
       "       -0.71830969, -0.71829837, -0.7182587 , -0.71823762, -0.71823096,\n",
       "       -0.71818222, -0.71814618, -0.71812863, -0.71811871, -0.71810711,\n",
       "       -0.71810027, -0.71809858, -0.71808837, -0.71807717, -0.71801699,\n",
       "       -0.71797594, -0.71795559, -0.71791826, -0.71791782, -0.71791003,\n",
       "       -0.71788775, -0.71788769, -0.7178821 , -0.71785792, -0.71784758,\n",
       "       -0.7178134 , -0.71780867, -0.71779975, -0.71779145, -0.7177847 ,\n",
       "       -0.71775142, -0.71774382, -0.71771952, -0.71771324, -0.71769967,\n",
       "       -0.71767875, -0.7176729 , -0.71765349, -0.71765109, -0.71764682,\n",
       "       -0.7176361 , -0.71763106, -0.71760294, -0.7176014 , -0.71759447,\n",
       "       -0.71756047, -0.71755814, -0.7175513 , -0.71754684, -0.71754337,\n",
       "       -0.71753672, -0.71752957, -0.71752109, -0.71751837, -0.71751799,\n",
       "       -0.71751751, -0.7175122 , -0.71750326, -0.7175016 , -0.71750073,\n",
       "       -0.71749566, -0.71749561, -0.71749494, -0.71749474, -0.71749311,\n",
       "       -0.71749187, -0.71748379, -0.71748232, -0.71746868, -0.71746787,\n",
       "       -0.71745763, -0.71744844, -0.71744361, -0.7174299 , -0.71741188,\n",
       "       -0.71740701, -0.71740562, -0.71740322, -0.71740174, -0.71740112,\n",
       "       -0.71739779, -0.71739262, -0.7173922 , -0.7173884 , -0.71738614,\n",
       "       -0.71738393, -0.7173829 , -0.71738289, -0.7173827 , -0.71738253,\n",
       "       -0.71738067, -0.71738045, -0.71737745, -0.7173701 , -0.71736802,\n",
       "       -0.71736694, -0.71736583, -0.71736485, -0.71735963, -0.71735875,\n",
       "       -0.71735446, -0.71735434, -0.71735334, -0.71735284, -0.7173514 ,\n",
       "       -0.71734944, -0.71734529, -0.71734376, -0.71734358, -0.71734241,\n",
       "       -0.71734235, -0.71734038, -0.71733698, -0.71733647, -0.71733553,\n",
       "       -0.71733359, -0.7173315 , -0.71733134, -0.71733093, -0.71733082,\n",
       "       -0.71732479, -0.71732358, -0.71732266, -0.71732225, -0.71732215,\n",
       "       -0.71732183, -0.71732009, -0.71731916, -0.71731887, -0.71731709,\n",
       "       -0.71731621, -0.71731461, -0.71731295, -0.71731236, -0.71731235,\n",
       "       -0.71731167, -0.71731056, -0.71730738, -0.71730728, -0.71730723,\n",
       "       -0.71730699, -0.71730597, -0.71730511, -0.71730488, -0.71730478,\n",
       "       -0.71730426, -0.71730419, -0.71730387, -0.71730374, -0.71730371,\n",
       "       -0.71730356, -0.71730345, -0.71730329, -0.71730309, -0.71730272,\n",
       "       -0.71730162, -0.71730162, -0.71730139, -0.71730126, -0.71730054,\n",
       "       -0.71730026, -0.7172993 , -0.71729885, -0.71729865, -0.71729794,\n",
       "       -0.71729774, -0.71729645, -0.71729516, -0.71729494, -0.71729281,\n",
       "       -0.71729238, -0.71729224, -0.71729204, -0.71729151, -0.71729136,\n",
       "       -0.71729132, -0.71729106, -0.71728942, -0.71728582, -0.71728503,\n",
       "       -0.71728405, -0.71728165, -0.71727945, -0.7172757 , -0.71727561,\n",
       "       -0.71727407, -0.71727326, -0.71727201, -0.71727101, -0.71726541,\n",
       "       -0.7172649 , -0.71726384, -0.71726381, -0.71725864, -0.71725678,\n",
       "       -0.71725419, -0.71725408, -0.71725091, -0.71724999, -0.71724921,\n",
       "       -0.71724837, -0.71724748, -0.71724599, -0.71724503, -0.7172434 ,\n",
       "       -0.71724205, -0.71724035, -0.71723919, -0.7172381 , -0.71723768,\n",
       "       -0.71723727, -0.71723647, -0.71723482, -0.71723399, -0.7172323 ,\n",
       "       -0.71723103, -0.7172308 , -0.7172305 , -0.71723016, -0.71723014,\n",
       "       -0.71722894, -0.71722844, -0.71722649, -0.71722621, -0.71722486,\n",
       "       -0.71722483, -0.71722341, -0.71722271, -0.71722253, -0.71722068,\n",
       "       -0.71721996, -0.71721625, -0.71721597, -0.71721458, -0.71721271,\n",
       "       -0.71721174, -0.71721118, -0.71721033, -0.71720934, -0.71720864,\n",
       "       -0.71720795, -0.71720708, -0.71720638, -0.71720229, -0.71720146,\n",
       "       -0.71720145, -0.71720132, -0.71720017, -0.71719905, -0.71719653,\n",
       "       -0.71719542, -0.71719501, -0.71719471, -0.71719388, -0.71719139,\n",
       "       -0.71718978, -0.71718904, -0.71718466, -0.71718076, -0.71718062,\n",
       "       -0.71717581, -0.71717539, -0.71717506, -0.71717445, -0.71717402,\n",
       "       -0.71717385, -0.71717182, -0.71717164, -0.71716757, -0.71716633,\n",
       "       -0.71716633, -0.71716524, -0.7171644 , -0.71716411, -0.7171639 ,\n",
       "       -0.71716306, -0.7171612 , -0.71716099, -0.71715852, -0.71715635,\n",
       "       -0.71715572, -0.71715434, -0.7171533 , -0.71715323, -0.71715087,\n",
       "       -0.71714928, -0.71714747, -0.71714683, -0.71714589, -0.71714483,\n",
       "       -0.7171448 , -0.71714375, -0.71714303, -0.71714287, -0.71713996,\n",
       "       -0.71713767, -0.7171347 , -0.71713423, -0.71713291, -0.71713064,\n",
       "       -0.71712991, -0.71712959, -0.71712437, -0.71712373, -0.71712296,\n",
       "       -0.71712119, -0.71711699, -0.71711675, -0.71711637, -0.71711526,\n",
       "       -0.71711293, -0.71711239, -0.71711233, -0.71711096, -0.71710623,\n",
       "       -0.71710494, -0.71710431, -0.7171032 , -0.71710129, -0.71710028,\n",
       "       -0.71709807, -0.71709759, -0.71709509, -0.71709491, -0.71709129,\n",
       "       -0.71709069, -0.71709052, -0.71709007, -0.71708919, -0.71708852,\n",
       "       -0.71708591, -0.7170845 , -0.71708322, -0.71707873, -0.71707274,\n",
       "       -0.71707217, -0.71707056, -0.71707003, -0.71706991, -0.71706945,\n",
       "       -0.71706944, -0.71706748, -0.71706643, -0.71706487, -0.71706475,\n",
       "       -0.71706204, -0.71706104, -0.71705834, -0.71705817, -0.71705779,\n",
       "       -0.71705661, -0.71705573, -0.71705434, -0.71705401, -0.71705353,\n",
       "       -0.71705049, -0.71704433, -0.71704326, -0.71703959, -0.71703914,\n",
       "       -0.71703876, -0.71703869, -0.71703738, -0.71703678, -0.71703329,\n",
       "       -0.71703296, -0.7170261 , -0.71702596, -0.71701631, -0.71701601,\n",
       "       -0.7170133 , -0.71700514, -0.71700502, -0.71700444, -0.71700366,\n",
       "       -0.71700067, -0.7169978 , -0.71699752, -0.71698893, -0.71698466,\n",
       "       -0.7169841 , -0.71697817, -0.71697634, -0.71697511, -0.71697451,\n",
       "       -0.71697258, -0.7169719 , -0.71696922, -0.71696817, -0.71696684,\n",
       "       -0.71696597, -0.71696592, -0.71696567, -0.71696516, -0.71696455,\n",
       "       -0.71696397, -0.71696385, -0.71696226, -0.71696106, -0.71695639,\n",
       "       -0.71695493, -0.71695057, -0.71694688, -0.71694569, -0.71694157,\n",
       "       -0.71693998, -0.71693628, -0.71693333, -0.71693215, -0.71693041,\n",
       "       -0.71693003, -0.71692824, -0.71692728, -0.71692586, -0.716925  ,\n",
       "       -0.71692457, -0.71692237, -0.71692196, -0.71692191, -0.71691951,\n",
       "       -0.71691897, -0.71691829, -0.71691449, -0.71691105, -0.71691071,\n",
       "       -0.71691052, -0.71690957, -0.7169045 , -0.71689956, -0.71689701,\n",
       "       -0.71689659, -0.71689489, -0.71689457, -0.71689337, -0.71688351,\n",
       "       -0.71688041, -0.71687687, -0.71687442, -0.71687349, -0.71686808,\n",
       "       -0.71686579, -0.71686405, -0.71685332, -0.71685219, -0.71684924,\n",
       "       -0.71684627, -0.71684366, -0.71683603, -0.71682806, -0.71682746,\n",
       "       -0.71682725, -0.71682472, -0.71682431, -0.71682365, -0.71682228,\n",
       "       -0.71682158, -0.71682065, -0.71681739, -0.71681573, -0.71681564,\n",
       "       -0.71680449, -0.71680335, -0.71679847, -0.71679752, -0.71679728,\n",
       "       -0.71679552, -0.71679533, -0.7167902 , -0.7167885 , -0.71678803,\n",
       "       -0.71678678, -0.71678491, -0.71678052, -0.71677768, -0.71677634,\n",
       "       -0.71676922, -0.71676783, -0.7167675 , -0.71676731, -0.71676546,\n",
       "       -0.71676176, -0.71674765, -0.71674172, -0.71673855, -0.71673774,\n",
       "       -0.71673444, -0.71672802, -0.7167266 , -0.71672558, -0.71671908,\n",
       "       -0.71671731, -0.71671612, -0.71669642, -0.71668997, -0.71667651,\n",
       "       -0.71666873, -0.71666519, -0.71666166, -0.71664822, -0.71664619,\n",
       "       -0.71663646, -0.71663533, -0.71663441, -0.71663207, -0.71661868,\n",
       "       -0.71655556, -0.71653393, -0.71652846, -0.71650885, -0.71648439,\n",
       "       -0.7164781 , -0.71647308, -0.71647273, -0.71646667, -0.71646638,\n",
       "       -0.71646296, -0.7164478 , -0.71643783, -0.71641215, -0.71640925,\n",
       "       -0.71640041, -0.71639823, -0.71639441, -0.71638314, -0.71636499,\n",
       "       -0.71636275, -0.7163362 , -0.71633379, -0.71632429, -0.71632153,\n",
       "       -0.71632091, -0.7163134 , -0.71631108, -0.71630874, -0.71630005,\n",
       "       -0.71629638, -0.71628712, -0.71628373, -0.71626761, -0.71624237,\n",
       "       -0.71622596, -0.71622587, -0.71622474, -0.71622288, -0.71622208,\n",
       "       -0.71620036, -0.71619458, -0.71619196, -0.71618551, -0.71614753,\n",
       "       -0.71613024, -0.71612768, -0.71612481, -0.71612377, -0.71611219,\n",
       "       -0.71609246, -0.71608311, -0.71608034, -0.71606614, -0.71605941,\n",
       "       -0.7160558 , -0.71605048, -0.71599331, -0.71598815, -0.71598294,\n",
       "       -0.71598053, -0.7159681 , -0.71595882, -0.71593877, -0.71591852,\n",
       "       -0.71590273, -0.71589846, -0.71587259, -0.71586846, -0.71586038,\n",
       "       -0.71583938, -0.71569816, -0.71568883, -0.71568865, -0.71564845,\n",
       "       -0.71559685, -0.71558557, -0.71534051, -0.71520169, -0.71514902,\n",
       "       -0.71512831, -0.71511685, -0.71503793, -0.71502311, -0.71501805,\n",
       "       -0.71500581, -0.71496355, -0.71491717, -0.71487347, -0.71484965,\n",
       "       -0.71484836, -0.71461211, -0.7145074 , -0.71443769, -0.71385877,\n",
       "       -0.71382096, -0.70982782, -0.70927528, -0.70856828])"
      ]
     },
     "execution_count": 549,
     "metadata": {},
     "output_type": "execute_result"
    }
   ],
   "source": [
    "np.unique(A)"
   ]
  },
  {
   "cell_type": "code",
   "execution_count": 550,
   "metadata": {},
   "outputs": [
    {
     "data": {
      "text/plain": [
       "array([[-0.09729398, -0.03888766,  0.03597967, -0.11317058, -0.16655322,\n",
       "        -0.01717888,  0.12285801,  0.00424202,  0.12193508,  0.13514559,\n",
       "        -0.06911945, -0.01363223,  0.12049994, -0.08342929, -0.06765651,\n",
       "        -0.04550644, -0.02053767,  0.11377926, -0.07030804,  0.09527589,\n",
       "        -0.13039654,  0.02502566, -0.14353526, -0.10055253, -0.03480217,\n",
       "        -0.15719908, -0.04317534,  0.14327622,  0.26272199,  0.03971955,\n",
       "         0.23795836, -0.270751  ]])"
      ]
     },
     "execution_count": 550,
     "metadata": {},
     "output_type": "execute_result"
    }
   ],
   "source": [
    "nn_parameters['l0']['W1']"
   ]
  },
  {
   "cell_type": "code",
   "execution_count": null,
   "metadata": {},
   "outputs": [],
   "source": [
    "imagem_shape = (WOMC.img_shape, WOMC.img_shape)\n",
    "img_reshape = np.reshape(img, (img_size, *imagem_shape))"
   ]
  },
  {
   "cell_type": "code",
   "execution_count": null,
   "metadata": {},
   "outputs": [],
   "source": []
  },
  {
   "cell_type": "code",
   "execution_count": null,
   "metadata": {},
   "outputs": [],
   "source": []
  },
  {
   "cell_type": "code",
   "execution_count": 385,
   "metadata": {},
   "outputs": [
    {
     "data": {
      "text/plain": [
       "(2, 2)"
      ]
     },
     "execution_count": 385,
     "metadata": {},
     "output_type": "execute_result"
    }
   ],
   "source": [
    "len(nn_parameters['l'+str(0)]) // 2,len(nn_parameters['l'+str(1)]) // 2"
   ]
  },
  {
   "cell_type": "code",
   "execution_count": 386,
   "metadata": {},
   "outputs": [],
   "source": [
    "caches = []"
   ]
  },
  {
   "cell_type": "code",
   "execution_count": 387,
   "metadata": {},
   "outputs": [],
   "source": [
    "k=0\n",
    "l=0\n",
    "A00, cache00 = WOMC.L_activation_forward(\n",
    "                    train_b, nn_parameters['l'+str(k)][\"W\" + str(l)], nn_parameters['l'+str(k)][\"b\" + str(l)])"
   ]
  },
  {
   "cell_type": "code",
   "execution_count": 388,
   "metadata": {},
   "outputs": [],
   "source": [
    "caches.append(cache00)"
   ]
  },
  {
   "cell_type": "code",
   "execution_count": 389,
   "metadata": {},
   "outputs": [
    {
     "data": {
      "text/plain": [
       "(32, 31360)"
      ]
     },
     "execution_count": 389,
     "metadata": {},
     "output_type": "execute_result"
    }
   ],
   "source": [
    "A00.shape"
   ]
  },
  {
   "cell_type": "code",
   "execution_count": 390,
   "metadata": {},
   "outputs": [],
   "source": [
    "A_prev = A00\n",
    "l=1\n",
    "A01, cache01 = WOMC.L_activation_forward(\n",
    "                    A_prev, nn_parameters['l'+str(k)][\"W\" + str(l)], nn_parameters['l'+str(k)][\"b\" + str(l)])"
   ]
  },
  {
   "cell_type": "code",
   "execution_count": 392,
   "metadata": {},
   "outputs": [],
   "source": [
    "caches.append(cache01)"
   ]
  },
  {
   "cell_type": "code",
   "execution_count": 393,
   "metadata": {},
   "outputs": [
    {
     "data": {
      "text/plain": [
       "(1, 31360)"
      ]
     },
     "execution_count": 393,
     "metadata": {},
     "output_type": "execute_result"
    }
   ],
   "source": [
    "A01.shape"
   ]
  },
  {
   "cell_type": "code",
   "execution_count": 394,
   "metadata": {},
   "outputs": [
    {
     "data": {
      "text/plain": [
       "(9, 31360)"
      ]
     },
     "execution_count": 394,
     "metadata": {},
     "output_type": "execute_result"
    }
   ],
   "source": [
    "A_ = WOMC.transform_image_forlayer(A01, 10)\n",
    "A_.shape"
   ]
  },
  {
   "cell_type": "code",
   "execution_count": 395,
   "metadata": {},
   "outputs": [
    {
     "data": {
      "text/plain": [
       "array([[-1.        , -1.        , -1.        , ...,  0.03790398,\n",
       "         0.03790398,  0.03790398],\n",
       "       [-1.        , -1.        , -1.        , ...,  0.03790398,\n",
       "         0.03790398,  0.03790398],\n",
       "       [-1.        , -1.        , -1.        , ...,  0.03790398,\n",
       "         0.03790398, -1.        ],\n",
       "       ...,\n",
       "       [-1.        ,  0.03790398,  0.03790398, ..., -1.        ,\n",
       "        -1.        , -1.        ],\n",
       "       [ 0.03790398,  0.03790398,  0.03790398, ..., -1.        ,\n",
       "        -1.        , -1.        ],\n",
       "       [ 0.03790398,  0.03790398,  0.03790398, ..., -1.        ,\n",
       "        -1.        , -1.        ]])"
      ]
     },
     "execution_count": 395,
     "metadata": {},
     "output_type": "execute_result"
    }
   ],
   "source": [
    "A_"
   ]
  },
  {
   "cell_type": "code",
   "execution_count": 396,
   "metadata": {},
   "outputs": [
    {
     "data": {
      "text/plain": [
       "array([-1.        , -1.        , -1.        , -1.        ,  0.03790398,\n",
       "        0.03790398, -1.        ,  0.03790398,  0.03790398])"
      ]
     },
     "execution_count": 396,
     "metadata": {},
     "output_type": "execute_result"
    }
   ],
   "source": [
    "A_[:,0]"
   ]
  },
  {
   "cell_type": "code",
   "execution_count": 397,
   "metadata": {},
   "outputs": [
    {
     "data": {
      "text/plain": [
       "array([[0.03790398, 0.03790398, 0.03790398, ..., 0.03790398, 0.03790398,\n",
       "        0.03790398]])"
      ]
     },
     "execution_count": 397,
     "metadata": {},
     "output_type": "execute_result"
    }
   ],
   "source": [
    "A"
   ]
  },
  {
   "cell_type": "code",
   "execution_count": 398,
   "metadata": {},
   "outputs": [],
   "source": [
    "k=1\n",
    "l=0\n",
    "A_prev = A_\n",
    "A10, cache10 = WOMC.L_activation_forward(\n",
    "                    A_prev, nn_parameters['l'+str(k)][\"W\" + str(l)], nn_parameters['l'+str(k)][\"b\" + str(l)])"
   ]
  },
  {
   "cell_type": "code",
   "execution_count": 399,
   "metadata": {},
   "outputs": [],
   "source": [
    "caches.append(cache10)"
   ]
  },
  {
   "cell_type": "code",
   "execution_count": 400,
   "metadata": {},
   "outputs": [
    {
     "data": {
      "text/plain": [
       "(32, 31360)"
      ]
     },
     "execution_count": 400,
     "metadata": {},
     "output_type": "execute_result"
    }
   ],
   "source": [
    "A10.shape"
   ]
  },
  {
   "cell_type": "code",
   "execution_count": 401,
   "metadata": {},
   "outputs": [],
   "source": [
    "A_prev = A10\n",
    "l=1\n",
    "A11, cache11 = WOMC.L_activation_forward(\n",
    "                    A_prev, nn_parameters['l'+str(k)][\"W\" + str(l)], nn_parameters['l'+str(k)][\"b\" + str(l)])"
   ]
  },
  {
   "cell_type": "code",
   "execution_count": 423,
   "metadata": {},
   "outputs": [],
   "source": [
    "caches.append(cache11)"
   ]
  },
  {
   "cell_type": "code",
   "execution_count": 402,
   "metadata": {},
   "outputs": [
    {
     "data": {
      "text/plain": [
       "False"
      ]
     },
     "execution_count": 402,
     "metadata": {},
     "output_type": "execute_result"
    }
   ],
   "source": [
    "k<WOMC.nlayer-1"
   ]
  },
  {
   "cell_type": "code",
   "execution_count": 403,
   "metadata": {},
   "outputs": [
    {
     "data": {
      "text/plain": [
       "(1, 31360)"
      ]
     },
     "execution_count": 403,
     "metadata": {},
     "output_type": "execute_result"
    }
   ],
   "source": [
    "A11.shape"
   ]
  },
  {
   "cell_type": "code",
   "execution_count": 520,
   "metadata": {},
   "outputs": [
    {
     "data": {
      "text/plain": [
       "0.3599063068568191"
      ]
     },
     "execution_count": 520,
     "metadata": {},
     "output_type": "execute_result"
    }
   ],
   "source": [
    "cost, v = WOMC.compute_cost(A11, ytrain_b)\n",
    "cost"
   ]
  },
  {
   "cell_type": "code",
   "execution_count": 405,
   "metadata": {},
   "outputs": [],
   "source": [
    "def hinge_loss_derivative(y, fx):\n",
    "    condition = 1 - y * fx > 0\n",
    "    derivative = -y * condition\n",
    "    return derivative"
   ]
  },
  {
   "cell_type": "code",
   "execution_count": 406,
   "metadata": {},
   "outputs": [
    {
     "data": {
      "text/plain": [
       "(1, 31360)"
      ]
     },
     "execution_count": 406,
     "metadata": {},
     "output_type": "execute_result"
    }
   ],
   "source": [
    "dAL = hinge_loss_derivative(ytrain_b, A11)\n",
    "dAL.shape"
   ]
  },
  {
   "cell_type": "code",
   "execution_count": 424,
   "metadata": {},
   "outputs": [
    {
     "data": {
      "text/plain": [
       "4"
      ]
     },
     "execution_count": 424,
     "metadata": {},
     "output_type": "execute_result"
    }
   ],
   "source": [
    "L = len(caches) \n",
    "L"
   ]
  },
  {
   "cell_type": "code",
   "execution_count": 425,
   "metadata": {},
   "outputs": [
    {
     "data": {
      "text/plain": [
       "((array([[-0.97123976, -0.99634593, -0.99634593, ..., -0.99634593,\n",
       "          -0.99634593, -0.97123976],\n",
       "         [-0.96660993, -0.99574898, -0.99574898, ..., -0.99993295,\n",
       "          -0.99993295, -0.9994657 ],\n",
       "         [-0.96660993, -0.99574898, -0.99574898, ..., -0.99574898,\n",
       "          -0.99574898, -0.9994657 ],\n",
       "         ...,\n",
       "         [-0.99998674, -0.99989434, -0.99989434, ..., -0.99989434,\n",
       "          -0.99989434, -0.9991581 ],\n",
       "         [-0.99998674, -0.99989434, -0.99989434, ..., -0.99330887,\n",
       "          -0.99330887, -0.9991581 ],\n",
       "         [-0.99998457, -0.99987704, -0.99987704, ..., -0.99987704,\n",
       "          -0.99987704, -0.99998457]]),\n",
       "  array([[ 0.14882804,  0.02730311,  0.01761361,  0.05846945,  0.16583191,\n",
       "          -0.00362824, -0.07882334, -0.11863586,  0.08707894,  0.04683465,\n",
       "           0.11962379,  0.05704743,  0.03664674, -0.02600384,  0.01059984,\n",
       "           0.11619086,  0.02175983, -0.00251241, -0.17436242,  0.15310105,\n",
       "          -0.04713002, -0.03215513,  0.09727703, -0.19055037,  0.23739324,\n",
       "          -0.02215391,  0.07228619,  0.00704666, -0.12283221,  0.08812345,\n",
       "           0.05376719,  0.09857185]]),\n",
       "  array([[0.]])),\n",
       " array([[-0.89737652, -0.8995534 , -0.8995534 , ..., -0.89964466,\n",
       "         -0.89964466, -0.88572395]]))"
      ]
     },
     "execution_count": 425,
     "metadata": {},
     "output_type": "execute_result"
    }
   ],
   "source": [
    "caches[3]"
   ]
  },
  {
   "cell_type": "code",
   "execution_count": 426,
   "metadata": {},
   "outputs": [
    {
     "data": {
      "text/plain": [
       "{'l0': {'W0': array([[ 0., -1.,  0., -1., -1., -1.,  0., -1.,  0.],\n",
       "         [ 0., -1.,  0., -1., -1., -1.,  0.,  1.,  0.],\n",
       "         [ 0., -1.,  0., -1., -1.,  1.,  0., -1.,  0.],\n",
       "         [ 0., -1.,  0., -1., -1.,  1.,  0.,  1.,  0.],\n",
       "         [ 0., -1.,  0., -1.,  1., -1.,  0., -1.,  0.],\n",
       "         [ 0., -1.,  0., -1.,  1., -1.,  0.,  1.,  0.],\n",
       "         [ 0., -1.,  0., -1.,  1.,  1.,  0., -1.,  0.],\n",
       "         [ 0., -1.,  0., -1.,  1.,  1.,  0.,  1.,  0.],\n",
       "         [ 0., -1.,  0.,  1., -1., -1.,  0., -1.,  0.],\n",
       "         [ 0., -1.,  0.,  1., -1., -1.,  0.,  1.,  0.],\n",
       "         [ 0., -1.,  0.,  1., -1.,  1.,  0., -1.,  0.],\n",
       "         [ 0., -1.,  0.,  1., -1.,  1.,  0.,  1.,  0.],\n",
       "         [ 0., -1.,  0.,  1.,  1., -1.,  0., -1.,  0.],\n",
       "         [ 0., -1.,  0.,  1.,  1., -1.,  0.,  1.,  0.],\n",
       "         [ 0., -1.,  0.,  1.,  1.,  1.,  0., -1.,  0.],\n",
       "         [ 0., -1.,  0.,  1.,  1.,  1.,  0.,  1.,  0.],\n",
       "         [ 0.,  1.,  0., -1., -1., -1.,  0., -1.,  0.],\n",
       "         [ 0.,  1.,  0., -1., -1., -1.,  0.,  1.,  0.],\n",
       "         [ 0.,  1.,  0., -1., -1.,  1.,  0., -1.,  0.],\n",
       "         [ 0.,  1.,  0., -1., -1.,  1.,  0.,  1.,  0.],\n",
       "         [ 0.,  1.,  0., -1.,  1., -1.,  0., -1.,  0.],\n",
       "         [ 0.,  1.,  0., -1.,  1., -1.,  0.,  1.,  0.],\n",
       "         [ 0.,  1.,  0., -1.,  1.,  1.,  0., -1.,  0.],\n",
       "         [ 0.,  1.,  0., -1.,  1.,  1.,  0.,  1.,  0.],\n",
       "         [ 0.,  1.,  0.,  1., -1., -1.,  0., -1.,  0.],\n",
       "         [ 0.,  1.,  0.,  1., -1., -1.,  0.,  1.,  0.],\n",
       "         [ 0.,  1.,  0.,  1., -1.,  1.,  0., -1.,  0.],\n",
       "         [ 0.,  1.,  0.,  1., -1.,  1.,  0.,  1.,  0.],\n",
       "         [ 0.,  1.,  0.,  1.,  1., -1.,  0., -1.,  0.],\n",
       "         [ 0.,  1.,  0.,  1.,  1., -1.,  0.,  1.,  0.],\n",
       "         [ 0.,  1.,  0.,  1.,  1.,  1.,  0., -1.,  0.],\n",
       "         [ 0.,  1.,  0.,  1.,  1.,  1.,  0.,  1.,  0.]]),\n",
       "  'b0': array([[-4],\n",
       "         [-4],\n",
       "         [-4],\n",
       "         [-4],\n",
       "         [-4],\n",
       "         [-4],\n",
       "         [-4],\n",
       "         [-4],\n",
       "         [-4],\n",
       "         [-4],\n",
       "         [-4],\n",
       "         [-4],\n",
       "         [-4],\n",
       "         [-4],\n",
       "         [-4],\n",
       "         [-4],\n",
       "         [-4],\n",
       "         [-4],\n",
       "         [-4],\n",
       "         [-4],\n",
       "         [-4],\n",
       "         [-4],\n",
       "         [-4],\n",
       "         [-4],\n",
       "         [-4],\n",
       "         [-4],\n",
       "         [-4],\n",
       "         [-4],\n",
       "         [-4],\n",
       "         [-4],\n",
       "         [-4],\n",
       "         [-4]]),\n",
       "  'W1': array([[-0.09729398, -0.03888766,  0.03597967, -0.11317058, -0.16655322,\n",
       "          -0.01717888,  0.12285801,  0.00424202,  0.12193508,  0.13514559,\n",
       "          -0.06911945, -0.01363223,  0.12049994, -0.08342929, -0.06765651,\n",
       "          -0.04550644, -0.02053767,  0.11377926, -0.07030804,  0.09527589,\n",
       "          -0.13039654,  0.02502566, -0.14353526, -0.10055253, -0.03480217,\n",
       "          -0.15719908, -0.04317534,  0.14327622,  0.26272199,  0.03971955,\n",
       "           0.23795836, -0.270751  ]]),\n",
       "  'b1': array([[0.]])},\n",
       " 'l1': {'W0': array([[ 0., -1.,  0., -1., -1., -1.,  0., -1.,  0.],\n",
       "         [ 0., -1.,  0., -1., -1., -1.,  0.,  1.,  0.],\n",
       "         [ 0., -1.,  0., -1., -1.,  1.,  0., -1.,  0.],\n",
       "         [ 0., -1.,  0., -1., -1.,  1.,  0.,  1.,  0.],\n",
       "         [ 0., -1.,  0., -1.,  1., -1.,  0., -1.,  0.],\n",
       "         [ 0., -1.,  0., -1.,  1., -1.,  0.,  1.,  0.],\n",
       "         [ 0., -1.,  0., -1.,  1.,  1.,  0., -1.,  0.],\n",
       "         [ 0., -1.,  0., -1.,  1.,  1.,  0.,  1.,  0.],\n",
       "         [ 0., -1.,  0.,  1., -1., -1.,  0., -1.,  0.],\n",
       "         [ 0., -1.,  0.,  1., -1., -1.,  0.,  1.,  0.],\n",
       "         [ 0., -1.,  0.,  1., -1.,  1.,  0., -1.,  0.],\n",
       "         [ 0., -1.,  0.,  1., -1.,  1.,  0.,  1.,  0.],\n",
       "         [ 0., -1.,  0.,  1.,  1., -1.,  0., -1.,  0.],\n",
       "         [ 0., -1.,  0.,  1.,  1., -1.,  0.,  1.,  0.],\n",
       "         [ 0., -1.,  0.,  1.,  1.,  1.,  0., -1.,  0.],\n",
       "         [ 0., -1.,  0.,  1.,  1.,  1.,  0.,  1.,  0.],\n",
       "         [ 0.,  1.,  0., -1., -1., -1.,  0., -1.,  0.],\n",
       "         [ 0.,  1.,  0., -1., -1., -1.,  0.,  1.,  0.],\n",
       "         [ 0.,  1.,  0., -1., -1.,  1.,  0., -1.,  0.],\n",
       "         [ 0.,  1.,  0., -1., -1.,  1.,  0.,  1.,  0.],\n",
       "         [ 0.,  1.,  0., -1.,  1., -1.,  0., -1.,  0.],\n",
       "         [ 0.,  1.,  0., -1.,  1., -1.,  0.,  1.,  0.],\n",
       "         [ 0.,  1.,  0., -1.,  1.,  1.,  0., -1.,  0.],\n",
       "         [ 0.,  1.,  0., -1.,  1.,  1.,  0.,  1.,  0.],\n",
       "         [ 0.,  1.,  0.,  1., -1., -1.,  0., -1.,  0.],\n",
       "         [ 0.,  1.,  0.,  1., -1., -1.,  0.,  1.,  0.],\n",
       "         [ 0.,  1.,  0.,  1., -1.,  1.,  0., -1.,  0.],\n",
       "         [ 0.,  1.,  0.,  1., -1.,  1.,  0.,  1.,  0.],\n",
       "         [ 0.,  1.,  0.,  1.,  1., -1.,  0., -1.,  0.],\n",
       "         [ 0.,  1.,  0.,  1.,  1., -1.,  0.,  1.,  0.],\n",
       "         [ 0.,  1.,  0.,  1.,  1.,  1.,  0., -1.,  0.],\n",
       "         [ 0.,  1.,  0.,  1.,  1.,  1.,  0.,  1.,  0.]]),\n",
       "  'b0': array([[-4],\n",
       "         [-4],\n",
       "         [-4],\n",
       "         [-4],\n",
       "         [-4],\n",
       "         [-4],\n",
       "         [-4],\n",
       "         [-4],\n",
       "         [-4],\n",
       "         [-4],\n",
       "         [-4],\n",
       "         [-4],\n",
       "         [-4],\n",
       "         [-4],\n",
       "         [-4],\n",
       "         [-4],\n",
       "         [-4],\n",
       "         [-4],\n",
       "         [-4],\n",
       "         [-4],\n",
       "         [-4],\n",
       "         [-4],\n",
       "         [-4],\n",
       "         [-4],\n",
       "         [-4],\n",
       "         [-4],\n",
       "         [-4],\n",
       "         [-4],\n",
       "         [-4],\n",
       "         [-4],\n",
       "         [-4],\n",
       "         [-4]]),\n",
       "  'W1': array([[ 0.14882804,  0.02730311,  0.01761361,  0.05846945,  0.16583191,\n",
       "          -0.00362824, -0.07882334, -0.11863586,  0.08707894,  0.04683465,\n",
       "           0.11962379,  0.05704743,  0.03664674, -0.02600384,  0.01059984,\n",
       "           0.11619086,  0.02175983, -0.00251241, -0.17436242,  0.15310105,\n",
       "          -0.04713002, -0.03215513,  0.09727703, -0.19055037,  0.23739324,\n",
       "          -0.02215391,  0.07228619,  0.00704666, -0.12283221,  0.08812345,\n",
       "           0.05376719,  0.09857185]]),\n",
       "  'b1': array([[0.]])}}"
      ]
     },
     "execution_count": 426,
     "metadata": {},
     "output_type": "execute_result"
    }
   ],
   "source": [
    "nn_parameters"
   ]
  },
  {
   "cell_type": "code",
   "execution_count": 409,
   "metadata": {},
   "outputs": [
    {
     "data": {
      "text/plain": [
       "((array([[-1.        , -1.        , -1.        , ...,  0.03790398,\n",
       "           0.03790398,  0.03790398],\n",
       "         [-1.        , -1.        , -1.        , ...,  0.03790398,\n",
       "           0.03790398,  0.03790398],\n",
       "         [-1.        , -1.        , -1.        , ...,  0.03790398,\n",
       "           0.03790398, -1.        ],\n",
       "         ...,\n",
       "         [-1.        ,  0.03790398,  0.03790398, ..., -1.        ,\n",
       "          -1.        , -1.        ],\n",
       "         [ 0.03790398,  0.03790398,  0.03790398, ..., -1.        ,\n",
       "          -1.        , -1.        ],\n",
       "         [ 0.03790398,  0.03790398,  0.03790398, ..., -1.        ,\n",
       "          -1.        , -1.        ]]),\n",
       "  array([[ 0., -1.,  0., -1., -1., -1.,  0., -1.,  0.],\n",
       "         [ 0., -1.,  0., -1., -1., -1.,  0.,  1.,  0.],\n",
       "         [ 0., -1.,  0., -1., -1.,  1.,  0., -1.,  0.],\n",
       "         [ 0., -1.,  0., -1., -1.,  1.,  0.,  1.,  0.],\n",
       "         [ 0., -1.,  0., -1.,  1., -1.,  0., -1.,  0.],\n",
       "         [ 0., -1.,  0., -1.,  1., -1.,  0.,  1.,  0.],\n",
       "         [ 0., -1.,  0., -1.,  1.,  1.,  0., -1.,  0.],\n",
       "         [ 0., -1.,  0., -1.,  1.,  1.,  0.,  1.,  0.],\n",
       "         [ 0., -1.,  0.,  1., -1., -1.,  0., -1.,  0.],\n",
       "         [ 0., -1.,  0.,  1., -1., -1.,  0.,  1.,  0.],\n",
       "         [ 0., -1.,  0.,  1., -1.,  1.,  0., -1.,  0.],\n",
       "         [ 0., -1.,  0.,  1., -1.,  1.,  0.,  1.,  0.],\n",
       "         [ 0., -1.,  0.,  1.,  1., -1.,  0., -1.,  0.],\n",
       "         [ 0., -1.,  0.,  1.,  1., -1.,  0.,  1.,  0.],\n",
       "         [ 0., -1.,  0.,  1.,  1.,  1.,  0., -1.,  0.],\n",
       "         [ 0., -1.,  0.,  1.,  1.,  1.,  0.,  1.,  0.],\n",
       "         [ 0.,  1.,  0., -1., -1., -1.,  0., -1.,  0.],\n",
       "         [ 0.,  1.,  0., -1., -1., -1.,  0.,  1.,  0.],\n",
       "         [ 0.,  1.,  0., -1., -1.,  1.,  0., -1.,  0.],\n",
       "         [ 0.,  1.,  0., -1., -1.,  1.,  0.,  1.,  0.],\n",
       "         [ 0.,  1.,  0., -1.,  1., -1.,  0., -1.,  0.],\n",
       "         [ 0.,  1.,  0., -1.,  1., -1.,  0.,  1.,  0.],\n",
       "         [ 0.,  1.,  0., -1.,  1.,  1.,  0., -1.,  0.],\n",
       "         [ 0.,  1.,  0., -1.,  1.,  1.,  0.,  1.,  0.],\n",
       "         [ 0.,  1.,  0.,  1., -1., -1.,  0., -1.,  0.],\n",
       "         [ 0.,  1.,  0.,  1., -1., -1.,  0.,  1.,  0.],\n",
       "         [ 0.,  1.,  0.,  1., -1.,  1.,  0., -1.,  0.],\n",
       "         [ 0.,  1.,  0.,  1., -1.,  1.,  0.,  1.,  0.],\n",
       "         [ 0.,  1.,  0.,  1.,  1., -1.,  0., -1.,  0.],\n",
       "         [ 0.,  1.,  0.,  1.,  1., -1.,  0.,  1.,  0.],\n",
       "         [ 0.,  1.,  0.,  1.,  1.,  1.,  0., -1.,  0.],\n",
       "         [ 0.,  1.,  0.,  1.,  1.,  1.,  0.,  1.,  0.]]),\n",
       "  array([[-4],\n",
       "         [-4],\n",
       "         [-4],\n",
       "         [-4],\n",
       "         [-4],\n",
       "         [-4],\n",
       "         [-4],\n",
       "         [-4],\n",
       "         [-4],\n",
       "         [-4],\n",
       "         [-4],\n",
       "         [-4],\n",
       "         [-4],\n",
       "         [-4],\n",
       "         [-4],\n",
       "         [-4],\n",
       "         [-4],\n",
       "         [-4],\n",
       "         [-4],\n",
       "         [-4],\n",
       "         [-4],\n",
       "         [-4],\n",
       "         [-4],\n",
       "         [-4],\n",
       "         [-4],\n",
       "         [-4],\n",
       "         [-4],\n",
       "         [-4],\n",
       "         [-4],\n",
       "         [-4],\n",
       "         [-4],\n",
       "         [-4]])),\n",
       " array([[-2.11371195, -3.15161594, -3.15161594, ..., -3.15161594,\n",
       "         -3.15161594, -2.11371195],\n",
       "        [-2.03790398, -3.07580797, -3.07580797, ..., -5.15161594,\n",
       "         -5.15161594, -4.11371195],\n",
       "        [-2.03790398, -3.07580797, -3.07580797, ..., -3.07580797,\n",
       "         -3.07580797, -4.11371195],\n",
       "        ...,\n",
       "        [-5.96209602, -4.92419203, -4.92419203, ..., -4.92419203,\n",
       "         -4.92419203, -3.88628805],\n",
       "        [-5.96209602, -4.92419203, -4.92419203, ..., -2.84838406,\n",
       "         -2.84838406, -3.88628805],\n",
       "        [-5.88628805, -4.84838406, -4.84838406, ..., -4.84838406,\n",
       "         -4.84838406, -5.88628805]]))"
      ]
     },
     "execution_count": 409,
     "metadata": {},
     "output_type": "execute_result"
    }
   ],
   "source": [
    "caches[L-1]"
   ]
  },
  {
   "cell_type": "code",
   "execution_count": 433,
   "metadata": {},
   "outputs": [],
   "source": [
    "current_cache = caches[L - 1]\n",
    "dA_prev_temp, dW_temp, db_temp = WOMC.L_activation_backward(dAL, current_cache)\n"
   ]
  },
  {
   "cell_type": "code",
   "execution_count": 441,
   "metadata": {},
   "outputs": [
    {
     "data": {
      "text/plain": [
       "((32, 31360), (1, 32), (1, 1))"
      ]
     },
     "execution_count": 441,
     "metadata": {},
     "output_type": "execute_result"
    }
   ],
   "source": [
    "dA_prev_temp.shape, dW_temp.shape, db_temp.shape"
   ]
  },
  {
   "cell_type": "code",
   "execution_count": 476,
   "metadata": {},
   "outputs": [],
   "source": [
    "LL = len(caches)-1\n",
    "k=1\n",
    "L=1\n",
    "dA_prev_temp, dW_temp, db_temp = WOMC.L_activation_backward(dAL, caches[LL])"
   ]
  },
  {
   "cell_type": "code",
   "execution_count": 477,
   "metadata": {},
   "outputs": [],
   "source": [
    "LL-=1\n",
    "k=1\n",
    "L = 0\n",
    "dA_prev_temp, dW_temp, db_temp = WOMC.L_activation_backward(dA_prev_temp, caches[LL])"
   ]
  },
  {
   "cell_type": "code",
   "execution_count": 478,
   "metadata": {},
   "outputs": [
    {
     "ename": "ValueError",
     "evalue": "shapes (32,1) and (9,31360) not aligned: 1 (dim 1) != 9 (dim 0)",
     "output_type": "error",
     "traceback": [
      "\u001b[0;31m---------------------------------------------------------------------------\u001b[0m",
      "\u001b[0;31mValueError\u001b[0m                                Traceback (most recent call last)",
      "\u001b[0;32m/var/folders/zs/n_wh27_s5ln1fk586vbgqnn00000gq/T/ipykernel_30707/2949404756.py\u001b[0m in \u001b[0;36m<module>\u001b[0;34m\u001b[0m\n\u001b[1;32m      2\u001b[0m \u001b[0mk\u001b[0m\u001b[0;34m=\u001b[0m\u001b[0;36m0\u001b[0m\u001b[0;34m\u001b[0m\u001b[0;34m\u001b[0m\u001b[0m\n\u001b[1;32m      3\u001b[0m \u001b[0mL\u001b[0m \u001b[0;34m=\u001b[0m \u001b[0;36m1\u001b[0m\u001b[0;34m\u001b[0m\u001b[0;34m\u001b[0m\u001b[0m\n\u001b[0;32m----> 4\u001b[0;31m \u001b[0mdA_prev_temp2\u001b[0m\u001b[0;34m,\u001b[0m \u001b[0mdW_temp\u001b[0m\u001b[0;34m,\u001b[0m \u001b[0mdb_temp\u001b[0m \u001b[0;34m=\u001b[0m \u001b[0mWOMC\u001b[0m\u001b[0;34m.\u001b[0m\u001b[0mL_activation_backward\u001b[0m\u001b[0;34m(\u001b[0m\u001b[0mdA_prev_temp\u001b[0m\u001b[0;34m,\u001b[0m \u001b[0mcaches\u001b[0m\u001b[0;34m[\u001b[0m\u001b[0mLL\u001b[0m\u001b[0;34m]\u001b[0m\u001b[0;34m)\u001b[0m\u001b[0;34m\u001b[0m\u001b[0;34m\u001b[0m\u001b[0m\n\u001b[0m",
      "\u001b[0;32m~/Documents/GitHub/USDMM/USDMM_v3.py\u001b[0m in \u001b[0;36mL_activation_backward\u001b[0;34m(self, dA, cache)\u001b[0m\n\u001b[1;32m    800\u001b[0m \u001b[0;34m\u001b[0m\u001b[0m\n\u001b[1;32m    801\u001b[0m         \u001b[0mdZ\u001b[0m \u001b[0;34m=\u001b[0m \u001b[0mself\u001b[0m\u001b[0;34m.\u001b[0m\u001b[0mtanh_backward\u001b[0m\u001b[0;34m(\u001b[0m\u001b[0mdA\u001b[0m\u001b[0;34m,\u001b[0m \u001b[0mactivation_cache\u001b[0m\u001b[0;34m)\u001b[0m\u001b[0;34m\u001b[0m\u001b[0;34m\u001b[0m\u001b[0m\n\u001b[0;32m--> 802\u001b[0;31m         \u001b[0mdA_prev\u001b[0m\u001b[0;34m,\u001b[0m \u001b[0mdW\u001b[0m\u001b[0;34m,\u001b[0m \u001b[0mdb\u001b[0m \u001b[0;34m=\u001b[0m \u001b[0mself\u001b[0m\u001b[0;34m.\u001b[0m\u001b[0mL_backward\u001b[0m\u001b[0;34m(\u001b[0m\u001b[0mdZ\u001b[0m\u001b[0;34m,\u001b[0m \u001b[0mlinear_cache\u001b[0m\u001b[0;34m)\u001b[0m\u001b[0;34m\u001b[0m\u001b[0;34m\u001b[0m\u001b[0m\n\u001b[0m\u001b[1;32m    803\u001b[0m \u001b[0;34m\u001b[0m\u001b[0m\n\u001b[1;32m    804\u001b[0m         \u001b[0;32mreturn\u001b[0m \u001b[0mdA_prev\u001b[0m\u001b[0;34m,\u001b[0m \u001b[0mdW\u001b[0m\u001b[0;34m,\u001b[0m \u001b[0mdb\u001b[0m\u001b[0;34m\u001b[0m\u001b[0;34m\u001b[0m\u001b[0m\n",
      "\u001b[0;32m~/Documents/GitHub/USDMM/USDMM_v3.py\u001b[0m in \u001b[0;36mL_backward\u001b[0;34m(self, dZ, cache)\u001b[0m\n\u001b[1;32m    781\u001b[0m         \u001b[0mdW\u001b[0m \u001b[0;34m=\u001b[0m \u001b[0mnp\u001b[0m\u001b[0;34m.\u001b[0m\u001b[0mdot\u001b[0m\u001b[0;34m(\u001b[0m\u001b[0mdZ\u001b[0m\u001b[0;34m,\u001b[0m \u001b[0mA_prev\u001b[0m\u001b[0;34m.\u001b[0m\u001b[0mT\u001b[0m\u001b[0;34m)\u001b[0m \u001b[0;34m/\u001b[0m \u001b[0mm\u001b[0m \u001b[0;31m# delta W = gradient * neurons_inputs\u001b[0m\u001b[0;34m\u001b[0m\u001b[0;34m\u001b[0m\u001b[0m\n\u001b[1;32m    782\u001b[0m         \u001b[0mdb\u001b[0m \u001b[0;34m=\u001b[0m \u001b[0mnp\u001b[0m\u001b[0;34m.\u001b[0m\u001b[0msum\u001b[0m\u001b[0;34m(\u001b[0m\u001b[0mdZ\u001b[0m\u001b[0;34m,\u001b[0m \u001b[0maxis\u001b[0m\u001b[0;34m=\u001b[0m\u001b[0;36m1\u001b[0m\u001b[0;34m,\u001b[0m \u001b[0mkeepdims\u001b[0m\u001b[0;34m=\u001b[0m\u001b[0;32mTrue\u001b[0m\u001b[0;34m)\u001b[0m \u001b[0;34m/\u001b[0m \u001b[0mm\u001b[0m \u001b[0;31m# delta bias = sigmoid derivative median\u001b[0m\u001b[0;34m\u001b[0m\u001b[0;34m\u001b[0m\u001b[0m\n\u001b[0;32m--> 783\u001b[0;31m         \u001b[0mdA_prev\u001b[0m \u001b[0;34m=\u001b[0m \u001b[0mnp\u001b[0m\u001b[0;34m.\u001b[0m\u001b[0mdot\u001b[0m\u001b[0;34m(\u001b[0m\u001b[0mW\u001b[0m\u001b[0;34m.\u001b[0m\u001b[0mT\u001b[0m\u001b[0;34m,\u001b[0m \u001b[0mdZ\u001b[0m\u001b[0;34m)\u001b[0m\u001b[0;34m\u001b[0m\u001b[0;34m\u001b[0m\u001b[0m\n\u001b[0m\u001b[1;32m    784\u001b[0m \u001b[0;34m\u001b[0m\u001b[0m\n\u001b[1;32m    785\u001b[0m         \u001b[0;32mreturn\u001b[0m \u001b[0mdA_prev\u001b[0m\u001b[0;34m,\u001b[0m \u001b[0mdW\u001b[0m\u001b[0;34m,\u001b[0m \u001b[0mdb\u001b[0m\u001b[0;34m\u001b[0m\u001b[0;34m\u001b[0m\u001b[0m\n",
      "\u001b[0;32m<__array_function__ internals>\u001b[0m in \u001b[0;36mdot\u001b[0;34m(*args, **kwargs)\u001b[0m\n",
      "\u001b[0;31mValueError\u001b[0m: shapes (32,1) and (9,31360) not aligned: 1 (dim 1) != 9 (dim 0)"
     ]
    }
   ],
   "source": [
    "LL-=1\n",
    "k=0\n",
    "L = 1\n",
    "dA_prev_temp2, dW_temp, db_temp = WOMC.L_activation_backward(dA_prev_temp, caches[LL])"
   ]
  },
  {
   "cell_type": "code",
   "execution_count": 482,
   "metadata": {},
   "outputs": [],
   "source": [
    "linear_cache, activation_cache = caches[LL]"
   ]
  },
  {
   "cell_type": "code",
   "execution_count": 502,
   "metadata": {},
   "outputs": [],
   "source": [
    "dZ = WOMC.tanh_backward(dA_prev_temp, activation_cache)"
   ]
  },
  {
   "cell_type": "code",
   "execution_count": 503,
   "metadata": {},
   "outputs": [
    {
     "data": {
      "text/plain": [
       "(9, 31360)"
      ]
     },
     "execution_count": 503,
     "metadata": {},
     "output_type": "execute_result"
    }
   ],
   "source": [
    "dZ.shape"
   ]
  },
  {
   "cell_type": "code",
   "execution_count": 504,
   "metadata": {},
   "outputs": [
    {
     "data": {
      "text/plain": [
       "4"
      ]
     },
     "execution_count": 504,
     "metadata": {},
     "output_type": "execute_result"
    }
   ],
   "source": [
    "middle_row_index = dZ.shape[0] // 2\n",
    "middle_row_index"
   ]
  },
  {
   "cell_type": "code",
   "execution_count": 505,
   "metadata": {},
   "outputs": [
    {
     "data": {
      "text/plain": [
       "(1, 31360)"
      ]
     },
     "execution_count": 505,
     "metadata": {},
     "output_type": "execute_result"
    }
   ],
   "source": [
    "dZ[middle_row_index].reshape(1, -1).shape"
   ]
  },
  {
   "cell_type": "code",
   "execution_count": 506,
   "metadata": {},
   "outputs": [],
   "source": [
    "dZ = dZ[middle_row_index].reshape(1, -1)"
   ]
  },
  {
   "cell_type": "code",
   "execution_count": 507,
   "metadata": {},
   "outputs": [],
   "source": [
    "dA_prev, dW, db = WOMC.L_backward(dZ, linear_cache)"
   ]
  },
  {
   "cell_type": "code",
   "execution_count": 500,
   "metadata": {},
   "outputs": [
    {
     "data": {
      "text/plain": [
       "31360"
      ]
     },
     "execution_count": 500,
     "metadata": {},
     "output_type": "execute_result"
    }
   ],
   "source": [
    "A_prev, W, b = linear_cache\n",
    "m = A_prev.shape[1]\n",
    "m"
   ]
  },
  {
   "cell_type": "code",
   "execution_count": 501,
   "metadata": {},
   "outputs": [
    {
     "ename": "AttributeError",
     "evalue": "'tuple' object has no attribute 'shape'",
     "output_type": "error",
     "traceback": [
      "\u001b[0;31m---------------------------------------------------------------------------\u001b[0m",
      "\u001b[0;31mAttributeError\u001b[0m                            Traceback (most recent call last)",
      "\u001b[0;32m/var/folders/zs/n_wh27_s5ln1fk586vbgqnn00000gq/T/ipykernel_30707/3230150282.py\u001b[0m in \u001b[0;36m<module>\u001b[0;34m\u001b[0m\n\u001b[0;32m----> 1\u001b[0;31m \u001b[0mdZ\u001b[0m\u001b[0;34m.\u001b[0m\u001b[0mshape\u001b[0m\u001b[0;34m,\u001b[0m \u001b[0mA_prev\u001b[0m\u001b[0;34m.\u001b[0m\u001b[0mT\u001b[0m\u001b[0;34m.\u001b[0m\u001b[0mshape\u001b[0m\u001b[0;34m\u001b[0m\u001b[0;34m\u001b[0m\u001b[0m\n\u001b[0m",
      "\u001b[0;31mAttributeError\u001b[0m: 'tuple' object has no attribute 'shape'"
     ]
    }
   ],
   "source": [
    "dZ.shape, A_prev.T.shape"
   ]
  },
  {
   "cell_type": "code",
   "execution_count": 488,
   "metadata": {},
   "outputs": [],
   "source": [
    "dW = np.dot(dZ, A_prev.T) / m "
   ]
  },
  {
   "cell_type": "code",
   "execution_count": 489,
   "metadata": {},
   "outputs": [],
   "source": [
    "db = np.sum(dZ, axis=1, keepdims=True) / m"
   ]
  },
  {
   "cell_type": "code",
   "execution_count": 490,
   "metadata": {},
   "outputs": [
    {
     "data": {
      "text/plain": [
       "((32, 1), (9, 31360))"
      ]
     },
     "execution_count": 490,
     "metadata": {},
     "output_type": "execute_result"
    }
   ],
   "source": [
    "W.T.shape, dZ.shape"
   ]
  },
  {
   "cell_type": "code",
   "execution_count": 510,
   "metadata": {},
   "outputs": [],
   "source": [
    "LL = len(caches)-1\n",
    "grads = {}\n",
    "for k in reversed(range(WOMC.nlayer)):\n",
    "    L = (len(nn_parameters['l'+str(k)]) // 2)\n",
    "    for j in reversed(range(L)):\n",
    "        if k == WOMC.nlayer-1 and j == L-1:\n",
    "            dA_prev_temp, dW_temp, db_temp = WOMC.L_activation_backward(dAL, caches[LL])\n",
    "        elif k<WOMC.nlayer-1 and j == L-1:\n",
    "            dA_prev_temp, dW_temp, db_temp = WOMC.L_activation_backward(dA_prev_temp, caches[LL], flag = True)\n",
    "        else:\n",
    "            dA_prev_temp, dW_temp, db_temp = WOMC.L_activation_backward(dA_prev_temp, caches[LL])\n",
    "        grads[\"l\"+str(k)+\"dA\" + str(L)] = dA_prev_temp\n",
    "        grads[\"l\"+str(k)+\"dW\" + str(L)] = dW_temp\n",
    "        grads[\"l\"+str(k)+\"db\" + str(L)] = db_temp\n",
    "        \n",
    "        LL-=1"
   ]
  },
  {
   "cell_type": "code",
   "execution_count": 468,
   "metadata": {},
   "outputs": [
    {
     "data": {
      "text/plain": [
       "-1"
      ]
     },
     "execution_count": 468,
     "metadata": {},
     "output_type": "execute_result"
    }
   ],
   "source": [
    "LL"
   ]
  },
  {
   "cell_type": "code",
   "execution_count": null,
   "metadata": {},
   "outputs": [],
   "source": [
    "nn_parameters['l'+str(k)][\"W\" + str(L)].shape"
   ]
  },
  {
   "cell_type": "code",
   "execution_count": 456,
   "metadata": {},
   "outputs": [],
   "source": [
    "#L = len(caches) "
   ]
  },
  {
   "cell_type": "code",
   "execution_count": 461,
   "metadata": {},
   "outputs": [],
   "source": [
    "grads = {}\n",
    "grads[\"l\"+str(k)+\"dA\" + str(L)] = dA_prev_temp\n",
    "grads[\"l\"+str(k)+\"dW\" + str(L)] = dW_temp\n",
    "grads[\"l\"+str(k)+\"db\" + str(L)] = db_temp"
   ]
  },
  {
   "cell_type": "code",
   "execution_count": 462,
   "metadata": {},
   "outputs": [
    {
     "data": {
      "text/plain": [
       "{'l1dA1': array([[0.07273959, 0.07251333, 0.07251333, ..., 0.07250385, 0.07250385,\n",
       "         0.07395691],\n",
       "        [0.01334437, 0.01330286, 0.01330286, ..., 0.01330113, 0.01330113,\n",
       "         0.01356769],\n",
       "        [0.00860864, 0.00858186, 0.00858186, ..., 0.00858074, 0.00858074,\n",
       "         0.00875271],\n",
       "        ...,\n",
       "        [0.04307027, 0.0429363 , 0.0429363 , ..., 0.04293069, 0.04293069,\n",
       "         0.04379106],\n",
       "        [0.02627867, 0.02619693, 0.02619693, ..., 0.02619351, 0.02619351,\n",
       "         0.02671845],\n",
       "        [0.04817691, 0.04802706, 0.04802706, ..., 0.04802078, 0.04802078,\n",
       "         0.04898317]]),\n",
       " 'l1dW1': array([[-0.43300747, -0.43306995, -0.43307676, -0.43308165, -0.43305373,\n",
       "         -0.43307301, -0.43309096, -0.43309267, -0.4330777 , -0.43310356,\n",
       "         -0.43312438, -0.43311873, -0.43308119, -0.43308072, -0.43314093,\n",
       "         -0.43315255, -0.43308342, -0.43312427, -0.43311662, -0.43313152,\n",
       "         -0.43308134, -0.43309455, -0.43310536, -0.4331261 , -0.43310913,\n",
       "         -0.43312497, -0.43313184, -0.43312853, -0.43308103, -0.43306384,\n",
       "         -0.43311433, -0.43310668]]),\n",
       " 'l1db1': array([[0.4334879]])}"
      ]
     },
     "execution_count": 462,
     "metadata": {},
     "output_type": "execute_result"
    }
   ],
   "source": [
    "grads"
   ]
  },
  {
   "cell_type": "code",
   "execution_count": null,
   "metadata": {},
   "outputs": [],
   "source": []
  },
  {
   "cell_type": "code",
   "execution_count": 432,
   "metadata": {},
   "outputs": [
    {
     "ename": "ValueError",
     "evalue": "operands could not be broadcast together with shapes (9,31360) (32,31360) ",
     "output_type": "error",
     "traceback": [
      "\u001b[0;31m---------------------------------------------------------------------------\u001b[0m",
      "\u001b[0;31mValueError\u001b[0m                                Traceback (most recent call last)",
      "\u001b[0;32m/var/folders/zs/n_wh27_s5ln1fk586vbgqnn00000gq/T/ipykernel_30707/2575937604.py\u001b[0m in \u001b[0;36m<module>\u001b[0;34m\u001b[0m\n\u001b[1;32m      1\u001b[0m \u001b[0;32mfor\u001b[0m \u001b[0ml\u001b[0m \u001b[0;32min\u001b[0m \u001b[0mreversed\u001b[0m\u001b[0;34m(\u001b[0m\u001b[0mrange\u001b[0m\u001b[0;34m(\u001b[0m\u001b[0mL\u001b[0m\u001b[0;34m-\u001b[0m\u001b[0;36m1\u001b[0m\u001b[0;34m)\u001b[0m\u001b[0;34m)\u001b[0m\u001b[0;34m:\u001b[0m\u001b[0;34m\u001b[0m\u001b[0;34m\u001b[0m\u001b[0m\n\u001b[1;32m      2\u001b[0m     \u001b[0mcurrent_cache\u001b[0m \u001b[0;34m=\u001b[0m \u001b[0mcaches\u001b[0m\u001b[0;34m[\u001b[0m\u001b[0ml\u001b[0m\u001b[0;34m]\u001b[0m\u001b[0;34m\u001b[0m\u001b[0;34m\u001b[0m\u001b[0m\n\u001b[0;32m----> 3\u001b[0;31m     dA_prev_temp, dW_temp, db_temp = WOMC.L_activation_backward(\n\u001b[0m\u001b[1;32m      4\u001b[0m         grads[\"dA\" + str(l + 1)], current_cache)\n\u001b[1;32m      5\u001b[0m     \u001b[0mgrads\u001b[0m\u001b[0;34m[\u001b[0m\u001b[0;34m\"dA\"\u001b[0m \u001b[0;34m+\u001b[0m \u001b[0mstr\u001b[0m\u001b[0;34m(\u001b[0m\u001b[0ml\u001b[0m\u001b[0;34m)\u001b[0m\u001b[0;34m]\u001b[0m \u001b[0;34m=\u001b[0m \u001b[0mdA_prev_temp\u001b[0m\u001b[0;34m\u001b[0m\u001b[0;34m\u001b[0m\u001b[0m\n",
      "\u001b[0;32m~/Documents/GitHub/USDMM/USDMM_v3.py\u001b[0m in \u001b[0;36mL_activation_backward\u001b[0;34m(self, dA, cache)\u001b[0m\n\u001b[1;32m    799\u001b[0m         \u001b[0mlinear_cache\u001b[0m\u001b[0;34m,\u001b[0m \u001b[0mactivation_cache\u001b[0m \u001b[0;34m=\u001b[0m \u001b[0mcache\u001b[0m\u001b[0;34m\u001b[0m\u001b[0;34m\u001b[0m\u001b[0m\n\u001b[1;32m    800\u001b[0m \u001b[0;34m\u001b[0m\u001b[0m\n\u001b[0;32m--> 801\u001b[0;31m         \u001b[0mdZ\u001b[0m \u001b[0;34m=\u001b[0m \u001b[0mself\u001b[0m\u001b[0;34m.\u001b[0m\u001b[0mtanh_backward\u001b[0m\u001b[0;34m(\u001b[0m\u001b[0mdA\u001b[0m\u001b[0;34m,\u001b[0m \u001b[0mactivation_cache\u001b[0m\u001b[0;34m)\u001b[0m\u001b[0;34m\u001b[0m\u001b[0;34m\u001b[0m\u001b[0m\n\u001b[0m\u001b[1;32m    802\u001b[0m         \u001b[0mdA_prev\u001b[0m\u001b[0;34m,\u001b[0m \u001b[0mdW\u001b[0m\u001b[0;34m,\u001b[0m \u001b[0mdb\u001b[0m \u001b[0;34m=\u001b[0m \u001b[0mself\u001b[0m\u001b[0;34m.\u001b[0m\u001b[0mL_backward\u001b[0m\u001b[0;34m(\u001b[0m\u001b[0mdZ\u001b[0m\u001b[0;34m,\u001b[0m \u001b[0mlinear_cache\u001b[0m\u001b[0;34m)\u001b[0m\u001b[0;34m\u001b[0m\u001b[0;34m\u001b[0m\u001b[0m\n\u001b[1;32m    803\u001b[0m \u001b[0;34m\u001b[0m\u001b[0m\n",
      "\u001b[0;32m~/Documents/GitHub/USDMM/USDMM_v3.py\u001b[0m in \u001b[0;36mtanh_backward\u001b[0;34m(self, dA, cache)\u001b[0m\n\u001b[1;32m    788\u001b[0m         \u001b[0mZ\u001b[0m \u001b[0;34m=\u001b[0m \u001b[0mcache\u001b[0m\u001b[0;34m\u001b[0m\u001b[0;34m\u001b[0m\u001b[0m\n\u001b[1;32m    789\u001b[0m         \u001b[0ms\u001b[0m \u001b[0;34m=\u001b[0m \u001b[0;36m1\u001b[0m \u001b[0;34m-\u001b[0m \u001b[0mnp\u001b[0m\u001b[0;34m.\u001b[0m\u001b[0mtanh\u001b[0m\u001b[0;34m(\u001b[0m\u001b[0mZ\u001b[0m\u001b[0;34m)\u001b[0m\u001b[0;34m**\u001b[0m\u001b[0;36m2\u001b[0m\u001b[0;34m\u001b[0m\u001b[0;34m\u001b[0m\u001b[0m\n\u001b[0;32m--> 790\u001b[0;31m         \u001b[0mdZ\u001b[0m \u001b[0;34m=\u001b[0m \u001b[0mdA\u001b[0m \u001b[0;34m*\u001b[0m \u001b[0ms\u001b[0m  \u001b[0;31m# gradient = tanh derivative * hingeloss derivative\u001b[0m\u001b[0;34m\u001b[0m\u001b[0;34m\u001b[0m\u001b[0m\n\u001b[0m\u001b[1;32m    791\u001b[0m         \u001b[0;32mreturn\u001b[0m \u001b[0mdZ\u001b[0m\u001b[0;34m\u001b[0m\u001b[0;34m\u001b[0m\u001b[0m\n\u001b[1;32m    792\u001b[0m \u001b[0;34m\u001b[0m\u001b[0m\n",
      "\u001b[0;31mValueError\u001b[0m: operands could not be broadcast together with shapes (9,31360) (32,31360) "
     ]
    }
   ],
   "source": [
    "for l in reversed(range(L-1)):\n",
    "    current_cache = caches[l]\n",
    "    dA_prev_temp, dW_temp, db_temp = WOMC.L_activation_backward(\n",
    "        grads[\"dA\" + str(l + 1)], current_cache)\n",
    "    grads[\"dA\" + str(l)] = dA_prev_temp\n",
    "    grads[\"dW\" + str(l + 1)] = dW_temp\n",
    "    grads[\"db\" + str(l + 1)] = db_temp"
   ]
  },
  {
   "cell_type": "code",
   "execution_count": null,
   "metadata": {},
   "outputs": [],
   "source": []
  },
  {
   "cell_type": "code",
   "execution_count": 354,
   "metadata": {},
   "outputs": [
    {
     "name": "stdout",
     "output_type": "stream",
     "text": [
      "IoU Derivative: [[0.   0.12 0.  ]\n",
      " [0.12 0.12 0.  ]\n",
      " [0.   0.   0.  ]]\n"
     ]
    }
   ],
   "source": [
    "def calculate_iou_derivative(G, P):\n",
    "    intersection = np.sum(G * P)\n",
    "    union = np.sum(G) + np.sum(P) - intersection\n",
    "\n",
    "    # Handle division by zero\n",
    "    if union == 0:\n",
    "        return 0.0\n",
    "\n",
    "    # Calculate the derivative\n",
    "    derivative = (G * (np.sum(P) + np.sum(G) - 2 * intersection)) / (union ** 2)\n",
    "\n",
    "    return derivative\n",
    "\n",
    "# Example usage:\n",
    "G = np.array([[0, 1, 0],\n",
    "              [1, 1, 0],\n",
    "              [0, 0, 0]])\n",
    "\n",
    "P = np.array([[1, 1, 0],\n",
    "              [0, 1, 1],\n",
    "              [0, 0, 0]])\n",
    "\n",
    "iou_derivative = calculate_iou_derivative(G, P)\n",
    "print(\"IoU Derivative:\", iou_derivative)"
   ]
  },
  {
   "cell_type": "code",
   "execution_count": 210,
   "metadata": {},
   "outputs": [],
   "source": [
    "A, cache = WOMC.L_model_forward(train_b, nn_parameters)"
   ]
  },
  {
   "cell_type": "code",
   "execution_count": 212,
   "metadata": {},
   "outputs": [
    {
     "data": {
      "text/plain": [
       "(9, 31360)"
      ]
     },
     "execution_count": 212,
     "metadata": {},
     "output_type": "execute_result"
    }
   ],
   "source": [
    "A.shape"
   ]
  },
  {
   "cell_type": "code",
   "execution_count": 67,
   "metadata": {},
   "outputs": [
    {
     "data": {
      "text/plain": [
       "(10, 2, 56, 56)"
      ]
     },
     "execution_count": 67,
     "metadata": {},
     "output_type": "execute_result"
    }
   ],
   "source": [
    "Wtrain.shape"
   ]
  },
  {
   "cell_type": "code",
   "execution_count": 9,
   "metadata": {},
   "outputs": [
    {
     "data": {
      "text/plain": [
       "([array([[ 0., -1.,  0.],\n",
       "         [-1., -1., -1.],\n",
       "         [ 0., -1.,  0.]]),\n",
       "  array([[ 0., -1.,  0.],\n",
       "         [-1., -1., -1.],\n",
       "         [ 0.,  1.,  0.]]),\n",
       "  array([[ 0., -1.,  0.],\n",
       "         [-1., -1.,  1.],\n",
       "         [ 0., -1.,  0.]]),\n",
       "  array([[ 0., -1.,  0.],\n",
       "         [-1., -1.,  1.],\n",
       "         [ 0.,  1.,  0.]]),\n",
       "  array([[ 0., -1.,  0.],\n",
       "         [-1.,  1., -1.],\n",
       "         [ 0., -1.,  0.]]),\n",
       "  array([[ 0., -1.,  0.],\n",
       "         [-1.,  1., -1.],\n",
       "         [ 0.,  1.,  0.]]),\n",
       "  array([[ 0., -1.,  0.],\n",
       "         [-1.,  1.,  1.],\n",
       "         [ 0., -1.,  0.]]),\n",
       "  array([[ 0., -1.,  0.],\n",
       "         [-1.,  1.,  1.],\n",
       "         [ 0.,  1.,  0.]]),\n",
       "  array([[ 0., -1.,  0.],\n",
       "         [ 1., -1., -1.],\n",
       "         [ 0., -1.,  0.]]),\n",
       "  array([[ 0., -1.,  0.],\n",
       "         [ 1., -1., -1.],\n",
       "         [ 0.,  1.,  0.]]),\n",
       "  array([[ 0., -1.,  0.],\n",
       "         [ 1., -1.,  1.],\n",
       "         [ 0., -1.,  0.]]),\n",
       "  array([[ 0., -1.,  0.],\n",
       "         [ 1., -1.,  1.],\n",
       "         [ 0.,  1.,  0.]]),\n",
       "  array([[ 0., -1.,  0.],\n",
       "         [ 1.,  1., -1.],\n",
       "         [ 0., -1.,  0.]]),\n",
       "  array([[ 0., -1.,  0.],\n",
       "         [ 1.,  1., -1.],\n",
       "         [ 0.,  1.,  0.]]),\n",
       "  array([[ 0., -1.,  0.],\n",
       "         [ 1.,  1.,  1.],\n",
       "         [ 0., -1.,  0.]]),\n",
       "  array([[ 0., -1.,  0.],\n",
       "         [ 1.,  1.,  1.],\n",
       "         [ 0.,  1.,  0.]]),\n",
       "  array([[ 0.,  1.,  0.],\n",
       "         [-1., -1., -1.],\n",
       "         [ 0., -1.,  0.]]),\n",
       "  array([[ 0.,  1.,  0.],\n",
       "         [-1., -1., -1.],\n",
       "         [ 0.,  1.,  0.]]),\n",
       "  array([[ 0.,  1.,  0.],\n",
       "         [-1., -1.,  1.],\n",
       "         [ 0., -1.,  0.]]),\n",
       "  array([[ 0.,  1.,  0.],\n",
       "         [-1., -1.,  1.],\n",
       "         [ 0.,  1.,  0.]]),\n",
       "  array([[ 0.,  1.,  0.],\n",
       "         [-1.,  1., -1.],\n",
       "         [ 0., -1.,  0.]]),\n",
       "  array([[ 0.,  1.,  0.],\n",
       "         [-1.,  1., -1.],\n",
       "         [ 0.,  1.,  0.]]),\n",
       "  array([[ 0.,  1.,  0.],\n",
       "         [-1.,  1.,  1.],\n",
       "         [ 0., -1.,  0.]]),\n",
       "  array([[ 0.,  1.,  0.],\n",
       "         [-1.,  1.,  1.],\n",
       "         [ 0.,  1.,  0.]]),\n",
       "  array([[ 0.,  1.,  0.],\n",
       "         [ 1., -1., -1.],\n",
       "         [ 0., -1.,  0.]]),\n",
       "  array([[ 0.,  1.,  0.],\n",
       "         [ 1., -1., -1.],\n",
       "         [ 0.,  1.,  0.]]),\n",
       "  array([[ 0.,  1.,  0.],\n",
       "         [ 1., -1.,  1.],\n",
       "         [ 0., -1.,  0.]]),\n",
       "  array([[ 0.,  1.,  0.],\n",
       "         [ 1., -1.,  1.],\n",
       "         [ 0.,  1.,  0.]]),\n",
       "  array([[ 0.,  1.,  0.],\n",
       "         [ 1.,  1., -1.],\n",
       "         [ 0., -1.,  0.]]),\n",
       "  array([[ 0.,  1.,  0.],\n",
       "         [ 1.,  1., -1.],\n",
       "         [ 0.,  1.,  0.]]),\n",
       "  array([[ 0.,  1.,  0.],\n",
       "         [ 1.,  1.,  1.],\n",
       "         [ 0., -1.,  0.]]),\n",
       "  array([[0., 1., 0.],\n",
       "         [1., 1., 1.],\n",
       "         [0., 1., 0.]])],\n",
       " [array([[ 0., -1.,  0.],\n",
       "         [-1., -1., -1.],\n",
       "         [ 0., -1.,  0.]]),\n",
       "  array([[ 0., -1.,  0.],\n",
       "         [-1., -1., -1.],\n",
       "         [ 0.,  1.,  0.]]),\n",
       "  array([[ 0., -1.,  0.],\n",
       "         [-1., -1.,  1.],\n",
       "         [ 0., -1.,  0.]]),\n",
       "  array([[ 0., -1.,  0.],\n",
       "         [-1., -1.,  1.],\n",
       "         [ 0.,  1.,  0.]]),\n",
       "  array([[ 0., -1.,  0.],\n",
       "         [-1.,  1., -1.],\n",
       "         [ 0., -1.,  0.]]),\n",
       "  array([[ 0., -1.,  0.],\n",
       "         [-1.,  1., -1.],\n",
       "         [ 0.,  1.,  0.]]),\n",
       "  array([[ 0., -1.,  0.],\n",
       "         [-1.,  1.,  1.],\n",
       "         [ 0., -1.,  0.]]),\n",
       "  array([[ 0., -1.,  0.],\n",
       "         [-1.,  1.,  1.],\n",
       "         [ 0.,  1.,  0.]]),\n",
       "  array([[ 0., -1.,  0.],\n",
       "         [ 1., -1., -1.],\n",
       "         [ 0., -1.,  0.]]),\n",
       "  array([[ 0., -1.,  0.],\n",
       "         [ 1., -1., -1.],\n",
       "         [ 0.,  1.,  0.]]),\n",
       "  array([[ 0., -1.,  0.],\n",
       "         [ 1., -1.,  1.],\n",
       "         [ 0., -1.,  0.]]),\n",
       "  array([[ 0., -1.,  0.],\n",
       "         [ 1., -1.,  1.],\n",
       "         [ 0.,  1.,  0.]]),\n",
       "  array([[ 0., -1.,  0.],\n",
       "         [ 1.,  1., -1.],\n",
       "         [ 0., -1.,  0.]]),\n",
       "  array([[ 0., -1.,  0.],\n",
       "         [ 1.,  1., -1.],\n",
       "         [ 0.,  1.,  0.]]),\n",
       "  array([[ 0., -1.,  0.],\n",
       "         [ 1.,  1.,  1.],\n",
       "         [ 0., -1.,  0.]]),\n",
       "  array([[ 0., -1.,  0.],\n",
       "         [ 1.,  1.,  1.],\n",
       "         [ 0.,  1.,  0.]]),\n",
       "  array([[ 0.,  1.,  0.],\n",
       "         [-1., -1., -1.],\n",
       "         [ 0., -1.,  0.]]),\n",
       "  array([[ 0.,  1.,  0.],\n",
       "         [-1., -1., -1.],\n",
       "         [ 0.,  1.,  0.]]),\n",
       "  array([[ 0.,  1.,  0.],\n",
       "         [-1., -1.,  1.],\n",
       "         [ 0., -1.,  0.]]),\n",
       "  array([[ 0.,  1.,  0.],\n",
       "         [-1., -1.,  1.],\n",
       "         [ 0.,  1.,  0.]]),\n",
       "  array([[ 0.,  1.,  0.],\n",
       "         [-1.,  1., -1.],\n",
       "         [ 0., -1.,  0.]]),\n",
       "  array([[ 0.,  1.,  0.],\n",
       "         [-1.,  1., -1.],\n",
       "         [ 0.,  1.,  0.]]),\n",
       "  array([[ 0.,  1.,  0.],\n",
       "         [-1.,  1.,  1.],\n",
       "         [ 0., -1.,  0.]]),\n",
       "  array([[ 0.,  1.,  0.],\n",
       "         [-1.,  1.,  1.],\n",
       "         [ 0.,  1.,  0.]]),\n",
       "  array([[ 0.,  1.,  0.],\n",
       "         [ 1., -1., -1.],\n",
       "         [ 0., -1.,  0.]]),\n",
       "  array([[ 0.,  1.,  0.],\n",
       "         [ 1., -1., -1.],\n",
       "         [ 0.,  1.,  0.]]),\n",
       "  array([[ 0.,  1.,  0.],\n",
       "         [ 1., -1.,  1.],\n",
       "         [ 0., -1.,  0.]]),\n",
       "  array([[ 0.,  1.,  0.],\n",
       "         [ 1., -1.,  1.],\n",
       "         [ 0.,  1.,  0.]]),\n",
       "  array([[ 0.,  1.,  0.],\n",
       "         [ 1.,  1., -1.],\n",
       "         [ 0., -1.,  0.]]),\n",
       "  array([[ 0.,  1.,  0.],\n",
       "         [ 1.,  1., -1.],\n",
       "         [ 0.,  1.,  0.]]),\n",
       "  array([[ 0.,  1.,  0.],\n",
       "         [ 1.,  1.,  1.],\n",
       "         [ 0., -1.,  0.]]),\n",
       "  array([[0., 1., 0.],\n",
       "         [1., 1., 1.],\n",
       "         [0., 1., 0.]])])"
      ]
     },
     "execution_count": 9,
     "metadata": {},
     "output_type": "execute_result"
    }
   ],
   "source": [
    "W_matrices"
   ]
  },
  {
   "cell_type": "code",
   "execution_count": 12,
   "metadata": {},
   "outputs": [
    {
     "data": {
      "text/plain": [
       "[array([[ 0., -1.,  0.],\n",
       "        [-1., -1., -1.],\n",
       "        [ 0., -1.,  0.]]),\n",
       " array([[ 0., -1.,  0.],\n",
       "        [-1., -1., -1.],\n",
       "        [ 0.,  1.,  0.]]),\n",
       " array([[ 0., -1.,  0.],\n",
       "        [-1., -1.,  1.],\n",
       "        [ 0., -1.,  0.]]),\n",
       " array([[ 0., -1.,  0.],\n",
       "        [-1., -1.,  1.],\n",
       "        [ 0.,  1.,  0.]]),\n",
       " array([[ 0., -1.,  0.],\n",
       "        [-1.,  1., -1.],\n",
       "        [ 0., -1.,  0.]]),\n",
       " array([[ 0., -1.,  0.],\n",
       "        [-1.,  1., -1.],\n",
       "        [ 0.,  1.,  0.]]),\n",
       " array([[ 0., -1.,  0.],\n",
       "        [-1.,  1.,  1.],\n",
       "        [ 0., -1.,  0.]]),\n",
       " array([[ 0., -1.,  0.],\n",
       "        [-1.,  1.,  1.],\n",
       "        [ 0.,  1.,  0.]]),\n",
       " array([[ 0., -1.,  0.],\n",
       "        [ 1., -1., -1.],\n",
       "        [ 0., -1.,  0.]]),\n",
       " array([[ 0., -1.,  0.],\n",
       "        [ 1., -1., -1.],\n",
       "        [ 0.,  1.,  0.]]),\n",
       " array([[ 0., -1.,  0.],\n",
       "        [ 1., -1.,  1.],\n",
       "        [ 0., -1.,  0.]]),\n",
       " array([[ 0., -1.,  0.],\n",
       "        [ 1., -1.,  1.],\n",
       "        [ 0.,  1.,  0.]]),\n",
       " array([[ 0., -1.,  0.],\n",
       "        [ 1.,  1., -1.],\n",
       "        [ 0., -1.,  0.]]),\n",
       " array([[ 0., -1.,  0.],\n",
       "        [ 1.,  1., -1.],\n",
       "        [ 0.,  1.,  0.]]),\n",
       " array([[ 0., -1.,  0.],\n",
       "        [ 1.,  1.,  1.],\n",
       "        [ 0., -1.,  0.]]),\n",
       " array([[ 0., -1.,  0.],\n",
       "        [ 1.,  1.,  1.],\n",
       "        [ 0.,  1.,  0.]]),\n",
       " array([[ 0.,  1.,  0.],\n",
       "        [-1., -1., -1.],\n",
       "        [ 0., -1.,  0.]]),\n",
       " array([[ 0.,  1.,  0.],\n",
       "        [-1., -1., -1.],\n",
       "        [ 0.,  1.,  0.]]),\n",
       " array([[ 0.,  1.,  0.],\n",
       "        [-1., -1.,  1.],\n",
       "        [ 0., -1.,  0.]]),\n",
       " array([[ 0.,  1.,  0.],\n",
       "        [-1., -1.,  1.],\n",
       "        [ 0.,  1.,  0.]]),\n",
       " array([[ 0.,  1.,  0.],\n",
       "        [-1.,  1., -1.],\n",
       "        [ 0., -1.,  0.]]),\n",
       " array([[ 0.,  1.,  0.],\n",
       "        [-1.,  1., -1.],\n",
       "        [ 0.,  1.,  0.]]),\n",
       " array([[ 0.,  1.,  0.],\n",
       "        [-1.,  1.,  1.],\n",
       "        [ 0., -1.,  0.]]),\n",
       " array([[ 0.,  1.,  0.],\n",
       "        [-1.,  1.,  1.],\n",
       "        [ 0.,  1.,  0.]]),\n",
       " array([[ 0.,  1.,  0.],\n",
       "        [ 1., -1., -1.],\n",
       "        [ 0., -1.,  0.]]),\n",
       " array([[ 0.,  1.,  0.],\n",
       "        [ 1., -1., -1.],\n",
       "        [ 0.,  1.,  0.]]),\n",
       " array([[ 0.,  1.,  0.],\n",
       "        [ 1., -1.,  1.],\n",
       "        [ 0., -1.,  0.]]),\n",
       " array([[ 0.,  1.,  0.],\n",
       "        [ 1., -1.,  1.],\n",
       "        [ 0.,  1.,  0.]]),\n",
       " array([[ 0.,  1.,  0.],\n",
       "        [ 1.,  1., -1.],\n",
       "        [ 0., -1.,  0.]]),\n",
       " array([[ 0.,  1.,  0.],\n",
       "        [ 1.,  1., -1.],\n",
       "        [ 0.,  1.,  0.]]),\n",
       " array([[ 0.,  1.,  0.],\n",
       "        [ 1.,  1.,  1.],\n",
       "        [ 0., -1.,  0.]]),\n",
       " array([[0., 1., 0.],\n",
       "        [1., 1., 1.],\n",
       "        [0., 1., 0.]])]"
      ]
     },
     "execution_count": 12,
     "metadata": {},
     "output_type": "execute_result"
    }
   ],
   "source": [
    "W_matrices[0]"
   ]
  },
  {
   "cell_type": "code",
   "execution_count": null,
   "metadata": {},
   "outputs": [],
   "source": [
    "w_matricke"
   ]
  },
  {
   "cell_type": "code",
   "execution_count": 17,
   "metadata": {},
   "outputs": [
    {
     "data": {
      "text/plain": [
       "1"
      ]
     },
     "execution_count": 17,
     "metadata": {},
     "output_type": "execute_result"
    }
   ],
   "source": [
    "weights[0][1]"
   ]
  },
  {
   "cell_type": "code",
   "execution_count": 15,
   "metadata": {},
   "outputs": [
    {
     "name": "stdout",
     "output_type": "stream",
     "text": [
      "0\n",
      "[[ 0. -1.  0.]\n",
      " [-1. -1. -1.]\n",
      " [ 0. -1.  0.]]\n",
      "---\n",
      "1\n",
      "[[ 0. -1.  0.]\n",
      " [-1. -1. -1.]\n",
      " [ 0.  1.  0.]]\n",
      "---\n",
      "2\n",
      "[[ 0. -1.  0.]\n",
      " [-1. -1.  1.]\n",
      " [ 0. -1.  0.]]\n",
      "---\n",
      "3\n",
      "[[ 0. -1.  0.]\n",
      " [-1. -1.  1.]\n",
      " [ 0.  1.  0.]]\n",
      "---\n",
      "4\n",
      "[[ 0. -1.  0.]\n",
      " [-1.  1. -1.]\n",
      " [ 0. -1.  0.]]\n",
      "---\n",
      "5\n",
      "[[ 0. -1.  0.]\n",
      " [-1.  1. -1.]\n",
      " [ 0.  1.  0.]]\n",
      "---\n",
      "6\n",
      "[[ 0. -1.  0.]\n",
      " [-1.  1.  1.]\n",
      " [ 0. -1.  0.]]\n",
      "---\n",
      "7\n",
      "[[ 0. -1.  0.]\n",
      " [-1.  1.  1.]\n",
      " [ 0.  1.  0.]]\n",
      "---\n",
      "8\n",
      "[[ 0. -1.  0.]\n",
      " [ 1. -1. -1.]\n",
      " [ 0. -1.  0.]]\n",
      "---\n",
      "9\n",
      "[[ 0. -1.  0.]\n",
      " [ 1. -1. -1.]\n",
      " [ 0.  1.  0.]]\n",
      "---\n",
      "10\n",
      "[[ 0. -1.  0.]\n",
      " [ 1. -1.  1.]\n",
      " [ 0. -1.  0.]]\n",
      "---\n",
      "11\n",
      "[[ 0. -1.  0.]\n",
      " [ 1. -1.  1.]\n",
      " [ 0.  1.  0.]]\n",
      "---\n",
      "12\n",
      "[[ 0. -1.  0.]\n",
      " [ 1.  1. -1.]\n",
      " [ 0. -1.  0.]]\n",
      "---\n",
      "13\n",
      "[[ 0. -1.  0.]\n",
      " [ 1.  1. -1.]\n",
      " [ 0.  1.  0.]]\n",
      "---\n",
      "14\n",
      "[[ 0. -1.  0.]\n",
      " [ 1.  1.  1.]\n",
      " [ 0. -1.  0.]]\n",
      "---\n",
      "15\n",
      "[[ 0. -1.  0.]\n",
      " [ 1.  1.  1.]\n",
      " [ 0.  1.  0.]]\n",
      "---\n",
      "16\n",
      "[[ 0.  1.  0.]\n",
      " [-1. -1. -1.]\n",
      " [ 0. -1.  0.]]\n",
      "---\n",
      "17\n",
      "[[ 0.  1.  0.]\n",
      " [-1. -1. -1.]\n",
      " [ 0.  1.  0.]]\n",
      "---\n",
      "18\n",
      "[[ 0.  1.  0.]\n",
      " [-1. -1.  1.]\n",
      " [ 0. -1.  0.]]\n",
      "---\n",
      "19\n",
      "[[ 0.  1.  0.]\n",
      " [-1. -1.  1.]\n",
      " [ 0.  1.  0.]]\n",
      "---\n",
      "20\n",
      "[[ 0.  1.  0.]\n",
      " [-1.  1. -1.]\n",
      " [ 0. -1.  0.]]\n",
      "---\n",
      "21\n",
      "[[ 0.  1.  0.]\n",
      " [-1.  1. -1.]\n",
      " [ 0.  1.  0.]]\n",
      "---\n",
      "22\n",
      "[[ 0.  1.  0.]\n",
      " [-1.  1.  1.]\n",
      " [ 0. -1.  0.]]\n",
      "---\n",
      "23\n",
      "[[ 0.  1.  0.]\n",
      " [-1.  1.  1.]\n",
      " [ 0.  1.  0.]]\n",
      "---\n",
      "24\n",
      "[[ 0.  1.  0.]\n",
      " [ 1. -1. -1.]\n",
      " [ 0. -1.  0.]]\n",
      "---\n",
      "25\n",
      "[[ 0.  1.  0.]\n",
      " [ 1. -1. -1.]\n",
      " [ 0.  1.  0.]]\n",
      "---\n",
      "26\n",
      "[[ 0.  1.  0.]\n",
      " [ 1. -1.  1.]\n",
      " [ 0. -1.  0.]]\n",
      "---\n",
      "27\n",
      "[[ 0.  1.  0.]\n",
      " [ 1. -1.  1.]\n",
      " [ 0.  1.  0.]]\n",
      "---\n",
      "28\n",
      "[[ 0.  1.  0.]\n",
      " [ 1.  1. -1.]\n",
      " [ 0. -1.  0.]]\n",
      "---\n",
      "29\n",
      "[[ 0.  1.  0.]\n",
      " [ 1.  1. -1.]\n",
      " [ 0.  1.  0.]]\n",
      "---\n",
      "30\n",
      "[[ 0.  1.  0.]\n",
      " [ 1.  1.  1.]\n",
      " [ 0. -1.  0.]]\n",
      "---\n",
      "31\n",
      "[[0. 1. 0.]\n",
      " [1. 1. 1.]\n",
      " [0. 1. 0.]]\n",
      "---\n"
     ]
    }
   ],
   "source": [
    "for i, kernel in enumerate(W_matrices[0]):\n",
    "    print(i)\n",
    "    print(kernel)\n",
    "    print('---')"
   ]
  },
  {
   "cell_type": "code",
   "execution_count": null,
   "metadata": {},
   "outputs": [],
   "source": []
  },
  {
   "cell_type": "code",
   "execution_count": 11,
   "metadata": {},
   "outputs": [
    {
     "data": {
      "text/plain": [
       "array([[[ 0., -0.,  0.],\n",
       "        [-0., -0., -0.],\n",
       "        [ 0., -0.,  0.]],\n",
       "\n",
       "       [[ 0., -1.,  0.],\n",
       "        [-1., -1., -1.],\n",
       "        [ 0.,  1.,  0.]],\n",
       "\n",
       "       [[ 0., -1.,  0.],\n",
       "        [-1., -1.,  1.],\n",
       "        [ 0., -1.,  0.]],\n",
       "\n",
       "       [[ 0., -0.,  0.],\n",
       "        [-0., -0.,  0.],\n",
       "        [ 0.,  0.,  0.]],\n",
       "\n",
       "       [[ 0., -0.,  0.],\n",
       "        [-0.,  0., -0.],\n",
       "        [ 0., -0.,  0.]],\n",
       "\n",
       "       [[ 0., -1.,  0.],\n",
       "        [-1.,  1., -1.],\n",
       "        [ 0.,  1.,  0.]],\n",
       "\n",
       "       [[ 0., -1.,  0.],\n",
       "        [-1.,  1.,  1.],\n",
       "        [ 0., -1.,  0.]],\n",
       "\n",
       "       [[ 0., -1.,  0.],\n",
       "        [-1.,  1.,  1.],\n",
       "        [ 0.,  1.,  0.]],\n",
       "\n",
       "       [[ 0., -1.,  0.],\n",
       "        [ 1., -1., -1.],\n",
       "        [ 0., -1.,  0.]],\n",
       "\n",
       "       [[ 0., -0.,  0.],\n",
       "        [ 0., -0., -0.],\n",
       "        [ 0.,  0.,  0.]],\n",
       "\n",
       "       [[ 0., -1.,  0.],\n",
       "        [ 1., -1.,  1.],\n",
       "        [ 0., -1.,  0.]],\n",
       "\n",
       "       [[ 0., -0.,  0.],\n",
       "        [ 0., -0.,  0.],\n",
       "        [ 0.,  0.,  0.]],\n",
       "\n",
       "       [[ 0., -0.,  0.],\n",
       "        [ 0.,  0., -0.],\n",
       "        [ 0., -0.,  0.]],\n",
       "\n",
       "       [[ 0., -1.,  0.],\n",
       "        [ 1.,  1., -1.],\n",
       "        [ 0.,  1.,  0.]],\n",
       "\n",
       "       [[ 0., -0.,  0.],\n",
       "        [ 0.,  0.,  0.],\n",
       "        [ 0., -0.,  0.]],\n",
       "\n",
       "       [[ 0., -0.,  0.],\n",
       "        [ 0.,  0.,  0.],\n",
       "        [ 0.,  0.,  0.]],\n",
       "\n",
       "       [[ 0.,  1.,  0.],\n",
       "        [-1., -1., -1.],\n",
       "        [ 0., -1.,  0.]],\n",
       "\n",
       "       [[ 0.,  0.,  0.],\n",
       "        [-0., -0., -0.],\n",
       "        [ 0.,  0.,  0.]],\n",
       "\n",
       "       [[ 0.,  0.,  0.],\n",
       "        [-0., -0.,  0.],\n",
       "        [ 0., -0.,  0.]],\n",
       "\n",
       "       [[ 0.,  1.,  0.],\n",
       "        [-1., -1.,  1.],\n",
       "        [ 0.,  1.,  0.]],\n",
       "\n",
       "       [[ 0.,  1.,  0.],\n",
       "        [-1.,  1., -1.],\n",
       "        [ 0., -1.,  0.]],\n",
       "\n",
       "       [[ 0.,  0.,  0.],\n",
       "        [-0.,  0., -0.],\n",
       "        [ 0.,  0.,  0.]],\n",
       "\n",
       "       [[ 0.,  0.,  0.],\n",
       "        [-0.,  0.,  0.],\n",
       "        [ 0., -0.,  0.]],\n",
       "\n",
       "       [[ 0.,  0.,  0.],\n",
       "        [-0.,  0.,  0.],\n",
       "        [ 0.,  0.,  0.]],\n",
       "\n",
       "       [[ 0.,  0.,  0.],\n",
       "        [ 0., -0., -0.],\n",
       "        [ 0., -0.,  0.]],\n",
       "\n",
       "       [[ 0.,  0.,  0.],\n",
       "        [ 0., -0., -0.],\n",
       "        [ 0.,  0.,  0.]],\n",
       "\n",
       "       [[ 0.,  1.,  0.],\n",
       "        [ 1., -1.,  1.],\n",
       "        [ 0., -1.,  0.]],\n",
       "\n",
       "       [[ 0.,  0.,  0.],\n",
       "        [ 0., -0.,  0.],\n",
       "        [ 0.,  0.,  0.]],\n",
       "\n",
       "       [[ 0.,  1.,  0.],\n",
       "        [ 1.,  1., -1.],\n",
       "        [ 0., -1.,  0.]],\n",
       "\n",
       "       [[ 0.,  0.,  0.],\n",
       "        [ 0.,  0., -0.],\n",
       "        [ 0.,  0.,  0.]],\n",
       "\n",
       "       [[ 0.,  1.,  0.],\n",
       "        [ 1.,  1.,  1.],\n",
       "        [ 0., -1.,  0.]],\n",
       "\n",
       "       [[ 0.,  0.,  0.],\n",
       "        [ 0.,  0.,  0.],\n",
       "        [ 0.,  0.,  0.]]])"
      ]
     },
     "execution_count": 11,
     "metadata": {},
     "output_type": "execute_result"
    }
   ],
   "source": [
    "np.array(W_matrices[0]) * weights[0][:, np.newaxis, np.newaxis]"
   ]
  },
  {
   "cell_type": "code",
   "execution_count": 5,
   "metadata": {},
   "outputs": [],
   "source": [
    "bias = np.nansum(WOMC.W, axis=1) - 1"
   ]
  },
  {
   "cell_type": "code",
   "execution_count": 68,
   "metadata": {},
   "outputs": [],
   "source": [
    "train_b, ytrain_b = WOMC.sort_images(WOMC.train,WOMC.ytrain, WOMC.batch, WOMC.train_size)"
   ]
  },
  {
   "cell_type": "code",
   "execution_count": 69,
   "metadata": {},
   "outputs": [],
   "source": [
    "Wtrain,w_error =  WOMC.window_error_generate_c(W_matrices, train_b, WOMC.batch,ytrain_b, WOMC.error_type, 0, 0, bias, weights)"
   ]
  },
  {
   "cell_type": "code",
   "execution_count": 70,
   "metadata": {},
   "outputs": [
    {
     "data": {
      "text/plain": [
       "0.8514739141678902"
      ]
     },
     "execution_count": 70,
     "metadata": {},
     "output_type": "execute_result"
    }
   ],
   "source": [
    "w_error"
   ]
  },
  {
   "cell_type": "code",
   "execution_count": 73,
   "metadata": {},
   "outputs": [],
   "source": [
    "Wtrain2 = np.array([train_b,train_b])"
   ]
  },
  {
   "cell_type": "code",
   "execution_count": 85,
   "metadata": {},
   "outputs": [],
   "source": [
    "Wtrain2 = np.array([train_b])\n",
    "Wtrain2 = np.vstack((Wtrain2, np.expand_dims(train_b, axis=0)))\n"
   ]
  },
  {
   "cell_type": "code",
   "execution_count": 86,
   "metadata": {},
   "outputs": [
    {
     "data": {
      "text/plain": [
       "(2, 10, 56, 56)"
      ]
     },
     "execution_count": 86,
     "metadata": {},
     "output_type": "execute_result"
    }
   ],
   "source": [
    "Wtrain2.shape"
   ]
  },
  {
   "cell_type": "code",
   "execution_count": 78,
   "metadata": {},
   "outputs": [],
   "source": [
    "Wtrain2 = [train_b]\n",
    "Wtrain2.append(train_b)\n"
   ]
  },
  {
   "cell_type": "code",
   "execution_count": 79,
   "metadata": {},
   "outputs": [
    {
     "ename": "AttributeError",
     "evalue": "'list' object has no attribute 'shape'",
     "output_type": "error",
     "traceback": [
      "\u001b[0;31m---------------------------------------------------------------------------\u001b[0m",
      "\u001b[0;31mAttributeError\u001b[0m                            Traceback (most recent call last)",
      "\u001b[0;32m/var/folders/zs/n_wh27_s5ln1fk586vbgqnn00000gq/T/ipykernel_79134/4084109342.py\u001b[0m in \u001b[0;36m<module>\u001b[0;34m\u001b[0m\n\u001b[0;32m----> 1\u001b[0;31m \u001b[0mWtrain2\u001b[0m\u001b[0;34m[\u001b[0m\u001b[0;36m0\u001b[0m\u001b[0;34m]\u001b[0m\u001b[0;34m.\u001b[0m\u001b[0mshape\u001b[0m\u001b[0;34m\u001b[0m\u001b[0;34m\u001b[0m\u001b[0m\n\u001b[0m",
      "\u001b[0;31mAttributeError\u001b[0m: 'list' object has no attribute 'shape'"
     ]
    }
   ],
   "source": [
    "Wtrain2[0].shape"
   ]
  },
  {
   "cell_type": "code",
   "execution_count": 75,
   "metadata": {},
   "outputs": [
    {
     "data": {
      "text/plain": [
       "((2, 10, 56, 56), (10, 2, 56, 56))"
      ]
     },
     "execution_count": 75,
     "metadata": {},
     "output_type": "execute_result"
    }
   ],
   "source": [
    "Wtrain2.shape, Wtrain.shape"
   ]
  },
  {
   "cell_type": "code",
   "execution_count": 72,
   "metadata": {},
   "outputs": [
    {
     "data": {
      "text/plain": [
       "(2, 56, 56)"
      ]
     },
     "execution_count": 72,
     "metadata": {},
     "output_type": "execute_result"
    }
   ],
   "source": [
    "Wtrain[0].shape"
   ]
  },
  {
   "cell_type": "code",
   "execution_count": 34,
   "metadata": {},
   "outputs": [
    {
     "data": {
      "text/plain": [
       "((10, 56, 56), 10)"
      ]
     },
     "execution_count": 34,
     "metadata": {},
     "output_type": "execute_result"
    }
   ],
   "source": [
    "Wtrain[:,-1].shape, len(ytrain_b)"
   ]
  },
  {
   "cell_type": "code",
   "execution_count": 20,
   "metadata": {},
   "outputs": [],
   "source": [
    "def mae_loss_gradient(predicted, target):\n",
    "    return -1 * np.sign(target - predicted) / len(target)"
   ]
  },
  {
   "cell_type": "code",
   "execution_count": 37,
   "metadata": {},
   "outputs": [
    {
     "data": {
      "text/plain": [
       "(10, 56, 56)"
      ]
     },
     "execution_count": 37,
     "metadata": {},
     "output_type": "execute_result"
    }
   ],
   "source": [
    "(mae_loss_gradient(Wtrain[:,-1], ytrain_b)* (1 - Wtrain[:,-1]**2)).shape"
   ]
  },
  {
   "cell_type": "code",
   "execution_count": null,
   "metadata": {},
   "outputs": [],
   "source": [
    "mae_loss_gradient(activated_result2, image[:, :, 0]) * (1 - activated_result2**2) "
   ]
  },
  {
   "cell_type": "code",
   "execution_count": 10,
   "metadata": {},
   "outputs": [],
   "source": [
    "def mae_derivative(y_true, y_pred):\n",
    "    n = len(y_true)\n",
    "    \n",
    "    # Calcula o sinal para cada exemplo\n",
    "    signs = [1 if y_pred[i] > y_true[i] else -1 if y_pred[i] < y_true[i] else 0 for i in range(n)]\n",
    "    \n",
    "    # Calcula a derivada parcial para cada exemplo\n",
    "    derivatives = [1/n * signs[i] for i in range(n)]\n",
    "    \n",
    "    return derivatives"
   ]
  },
  {
   "cell_type": "code",
   "execution_count": 51,
   "metadata": {},
   "outputs": [
    {
     "data": {
      "text/plain": [
       "(5, 3)"
      ]
     },
     "execution_count": 51,
     "metadata": {},
     "output_type": "execute_result"
    }
   ],
   "source": [
    "X = np.array([[1, 2, 3], [4, 5, 6],[1, 2, 3], [4, 5, 6],[1, 2, 3]])\n",
    "#X = np.transpose(X)\n",
    "X.shape"
   ]
  },
  {
   "cell_type": "code",
   "execution_count": 52,
   "metadata": {},
   "outputs": [
    {
     "data": {
      "text/plain": [
       "array([[1, 2, 3],\n",
       "       [4, 5, 6],\n",
       "       [1, 2, 3],\n",
       "       [4, 5, 6],\n",
       "       [1, 2, 3]])"
      ]
     },
     "execution_count": 52,
     "metadata": {},
     "output_type": "execute_result"
    }
   ],
   "source": [
    "X"
   ]
  },
  {
   "cell_type": "code",
   "execution_count": 53,
   "metadata": {},
   "outputs": [
    {
     "data": {
      "text/plain": [
       "array([[0.5       , 0.73105858, 0.5       , 0.73105858, 0.5       ]])"
      ]
     },
     "execution_count": 53,
     "metadata": {},
     "output_type": "execute_result"
    }
   ],
   "source": [
    "Y = np.array([0, 1, 0, 1, 1]).reshape(1,-1)\n",
    "A = np.array([0, 1, 0, 1, 0]).reshape(1,-1)\n",
    "AL = 1/(1+np.exp(-A))\n",
    "AL"
   ]
  },
  {
   "cell_type": "code",
   "execution_count": 54,
   "metadata": {},
   "outputs": [],
   "source": [
    "W_ = np.array([list(i) for i in itertools.product([-1, 1]\n",
    "                                                 , repeat=5)])\n",
    "b_ = np.array([-4]*32).reshape(32,1)"
   ]
  },
  {
   "cell_type": "code",
   "execution_count": 55,
   "metadata": {},
   "outputs": [],
   "source": [
    "Z = np.dot(W_, X) + b_"
   ]
  },
  {
   "cell_type": "code",
   "execution_count": 57,
   "metadata": {},
   "outputs": [
    {
     "data": {
      "text/plain": [
       "(32, 5)"
      ]
     },
     "execution_count": 57,
     "metadata": {},
     "output_type": "execute_result"
    }
   ],
   "source": [
    "W_.shape"
   ]
  },
  {
   "cell_type": "code",
   "execution_count": 58,
   "metadata": {},
   "outputs": [
    {
     "data": {
      "text/plain": [
       "(32, 3)"
      ]
     },
     "execution_count": 58,
     "metadata": {},
     "output_type": "execute_result"
    }
   ],
   "source": [
    "Z.shape"
   ]
  },
  {
   "cell_type": "code",
   "execution_count": 59,
   "metadata": {},
   "outputs": [
    {
     "data": {
      "text/plain": [
       "(32, 3)"
      ]
     },
     "execution_count": 59,
     "metadata": {},
     "output_type": "execute_result"
    }
   ],
   "source": [
    "A = 1/(1+np.exp(-Z))\n",
    "A.shape"
   ]
  },
  {
   "cell_type": "code",
   "execution_count": 60,
   "metadata": {},
   "outputs": [
    {
     "ename": "ValueError",
     "evalue": "operands could not be broadcast together with shapes (1,5) (32,3) ",
     "output_type": "error",
     "traceback": [
      "\u001b[0;31m---------------------------------------------------------------------------\u001b[0m",
      "\u001b[0;31mValueError\u001b[0m                                Traceback (most recent call last)",
      "\u001b[0;32m/var/folders/zs/n_wh27_s5ln1fk586vbgqnn00000gq/T/ipykernel_24411/2813938740.py\u001b[0m in \u001b[0;36m<module>\u001b[0;34m\u001b[0m\n\u001b[0;32m----> 1\u001b[0;31m \u001b[0mdAL\u001b[0m \u001b[0;34m=\u001b[0m \u001b[0;34m-\u001b[0m \u001b[0;34m(\u001b[0m\u001b[0mnp\u001b[0m\u001b[0;34m.\u001b[0m\u001b[0mdivide\u001b[0m\u001b[0;34m(\u001b[0m\u001b[0mY\u001b[0m\u001b[0;34m,\u001b[0m \u001b[0mA\u001b[0m\u001b[0;34m)\u001b[0m \u001b[0;34m-\u001b[0m \u001b[0mnp\u001b[0m\u001b[0;34m.\u001b[0m\u001b[0mdivide\u001b[0m\u001b[0;34m(\u001b[0m\u001b[0;36m1\u001b[0m \u001b[0;34m-\u001b[0m \u001b[0mY\u001b[0m\u001b[0;34m,\u001b[0m \u001b[0;36m1\u001b[0m \u001b[0;34m-\u001b[0m \u001b[0mA\u001b[0m\u001b[0;34m)\u001b[0m\u001b[0;34m)\u001b[0m\u001b[0;34m\u001b[0m\u001b[0;34m\u001b[0m\u001b[0m\n\u001b[0m\u001b[1;32m      2\u001b[0m \u001b[0mdAL\u001b[0m\u001b[0;34m.\u001b[0m\u001b[0mshape\u001b[0m\u001b[0;34m\u001b[0m\u001b[0;34m\u001b[0m\u001b[0m\n",
      "\u001b[0;31mValueError\u001b[0m: operands could not be broadcast together with shapes (1,5) (32,3) "
     ]
    }
   ],
   "source": [
    "dAL = - (np.divide(Y, A) - np.divide(1 - Y, 1 - A))\n",
    "dAL.shape"
   ]
  },
  {
   "cell_type": "code",
   "execution_count": 37,
   "metadata": {},
   "outputs": [
    {
     "data": {
      "text/plain": [
       "6"
      ]
     },
     "execution_count": 37,
     "metadata": {},
     "output_type": "execute_result"
    }
   ],
   "source": [
    "Y.shape[1]"
   ]
  },
  {
   "cell_type": "code",
   "execution_count": 38,
   "metadata": {},
   "outputs": [
    {
     "data": {
      "text/plain": [
       "array([[-0.69314718, -0.31326169, -0.69314718, -0.31326169, -0.69314718,\n",
       "        -0.69314718]])"
      ]
     },
     "execution_count": 38,
     "metadata": {},
     "output_type": "execute_result"
    }
   ],
   "source": [
    "Y *np.log(AL)+(1.0 - Y) * np.log(1.0 - AL)"
   ]
  },
  {
   "cell_type": "code",
   "execution_count": 23,
   "metadata": {},
   "outputs": [
    {
     "name": "stderr",
     "output_type": "stream",
     "text": [
      "/var/folders/zs/n_wh27_s5ln1fk586vbgqnn00000gq/T/ipykernel_24411/352357900.py:1: RuntimeWarning: divide by zero encountered in log\n",
      "  (1.0 - Y) * np.log(1.0 - AL)\n",
      "/var/folders/zs/n_wh27_s5ln1fk586vbgqnn00000gq/T/ipykernel_24411/352357900.py:1: RuntimeWarning: invalid value encountered in multiply\n",
      "  (1.0 - Y) * np.log(1.0 - AL)\n"
     ]
    },
    {
     "data": {
      "text/plain": [
       "array([[ 0., nan,  0., nan,  0.]])"
      ]
     },
     "execution_count": 23,
     "metadata": {},
     "output_type": "execute_result"
    }
   ],
   "source": [
    "(1.0 - Y) * np.log(1.0 - AL)"
   ]
  },
  {
   "cell_type": "code",
   "execution_count": 28,
   "metadata": {},
   "outputs": [
    {
     "data": {
      "text/plain": [
       "0.5411929833432563"
      ]
     },
     "execution_count": 28,
     "metadata": {},
     "output_type": "execute_result"
    }
   ],
   "source": [
    "\n",
    "m = Y.shape[1]\n",
    "cost = -(np.sum(Y * np.log(AL) + (1.0 - Y) * np.log(1.0 - AL))) / m # Logloss error\n",
    "cost = np.squeeze(cost)\n",
    "cost\n"
   ]
  },
  {
   "cell_type": "code",
   "execution_count": 29,
   "metadata": {},
   "outputs": [
    {
     "data": {
      "text/plain": [
       "array([[ 2.        , -1.36787944,  2.        , -1.36787944, -2.        ]])"
      ]
     },
     "execution_count": 29,
     "metadata": {},
     "output_type": "execute_result"
    }
   ],
   "source": [
    "- (np.divide(Y, AL) - np.divide(1 - Y, 1 - AL))"
   ]
  },
  {
   "cell_type": "code",
   "execution_count": 11,
   "metadata": {},
   "outputs": [
    {
     "ename": "ValueError",
     "evalue": "The truth value of an array with more than one element is ambiguous. Use a.any() or a.all()",
     "output_type": "error",
     "traceback": [
      "\u001b[0;31m---------------------------------------------------------------------------\u001b[0m",
      "\u001b[0;31mValueError\u001b[0m                                Traceback (most recent call last)",
      "\u001b[0;32m/var/folders/zs/n_wh27_s5ln1fk586vbgqnn00000gq/T/ipykernel_24411/452314104.py\u001b[0m in \u001b[0;36m<module>\u001b[0;34m\u001b[0m\n\u001b[0;32m----> 1\u001b[0;31m \u001b[0mmae_derivative\u001b[0m\u001b[0;34m(\u001b[0m\u001b[0mytrain_b\u001b[0m\u001b[0;34m,\u001b[0m \u001b[0mWtrain\u001b[0m\u001b[0;34m[\u001b[0m\u001b[0;34m:\u001b[0m\u001b[0;34m,\u001b[0m \u001b[0;34m-\u001b[0m\u001b[0;36m1\u001b[0m\u001b[0;34m]\u001b[0m\u001b[0;34m)\u001b[0m\u001b[0;34m\u001b[0m\u001b[0;34m\u001b[0m\u001b[0m\n\u001b[0m",
      "\u001b[0;32m/var/folders/zs/n_wh27_s5ln1fk586vbgqnn00000gq/T/ipykernel_24411/654282825.py\u001b[0m in \u001b[0;36mmae_derivative\u001b[0;34m(y_true, y_pred)\u001b[0m\n\u001b[1;32m      3\u001b[0m \u001b[0;34m\u001b[0m\u001b[0m\n\u001b[1;32m      4\u001b[0m     \u001b[0;31m# Calcula o sinal para cada exemplo\u001b[0m\u001b[0;34m\u001b[0m\u001b[0;34m\u001b[0m\u001b[0m\n\u001b[0;32m----> 5\u001b[0;31m     \u001b[0msigns\u001b[0m \u001b[0;34m=\u001b[0m \u001b[0;34m[\u001b[0m\u001b[0;36m1\u001b[0m \u001b[0;32mif\u001b[0m \u001b[0my_pred\u001b[0m\u001b[0;34m[\u001b[0m\u001b[0mi\u001b[0m\u001b[0;34m]\u001b[0m \u001b[0;34m>\u001b[0m \u001b[0my_true\u001b[0m\u001b[0;34m[\u001b[0m\u001b[0mi\u001b[0m\u001b[0;34m]\u001b[0m \u001b[0;32melse\u001b[0m \u001b[0;34m-\u001b[0m\u001b[0;36m1\u001b[0m \u001b[0;32mif\u001b[0m \u001b[0my_pred\u001b[0m\u001b[0;34m[\u001b[0m\u001b[0mi\u001b[0m\u001b[0;34m]\u001b[0m \u001b[0;34m<\u001b[0m \u001b[0my_true\u001b[0m\u001b[0;34m[\u001b[0m\u001b[0mi\u001b[0m\u001b[0;34m]\u001b[0m \u001b[0;32melse\u001b[0m \u001b[0;36m0\u001b[0m \u001b[0;32mfor\u001b[0m \u001b[0mi\u001b[0m \u001b[0;32min\u001b[0m \u001b[0mrange\u001b[0m\u001b[0;34m(\u001b[0m\u001b[0mn\u001b[0m\u001b[0;34m)\u001b[0m\u001b[0;34m]\u001b[0m\u001b[0;34m\u001b[0m\u001b[0;34m\u001b[0m\u001b[0m\n\u001b[0m\u001b[1;32m      6\u001b[0m \u001b[0;34m\u001b[0m\u001b[0m\n\u001b[1;32m      7\u001b[0m     \u001b[0;31m# Calcula a derivada parcial para cada exemplo\u001b[0m\u001b[0;34m\u001b[0m\u001b[0;34m\u001b[0m\u001b[0m\n",
      "\u001b[0;32m/var/folders/zs/n_wh27_s5ln1fk586vbgqnn00000gq/T/ipykernel_24411/654282825.py\u001b[0m in \u001b[0;36m<listcomp>\u001b[0;34m(.0)\u001b[0m\n\u001b[1;32m      3\u001b[0m \u001b[0;34m\u001b[0m\u001b[0m\n\u001b[1;32m      4\u001b[0m     \u001b[0;31m# Calcula o sinal para cada exemplo\u001b[0m\u001b[0;34m\u001b[0m\u001b[0;34m\u001b[0m\u001b[0m\n\u001b[0;32m----> 5\u001b[0;31m     \u001b[0msigns\u001b[0m \u001b[0;34m=\u001b[0m \u001b[0;34m[\u001b[0m\u001b[0;36m1\u001b[0m \u001b[0;32mif\u001b[0m \u001b[0my_pred\u001b[0m\u001b[0;34m[\u001b[0m\u001b[0mi\u001b[0m\u001b[0;34m]\u001b[0m \u001b[0;34m>\u001b[0m \u001b[0my_true\u001b[0m\u001b[0;34m[\u001b[0m\u001b[0mi\u001b[0m\u001b[0;34m]\u001b[0m \u001b[0;32melse\u001b[0m \u001b[0;34m-\u001b[0m\u001b[0;36m1\u001b[0m \u001b[0;32mif\u001b[0m \u001b[0my_pred\u001b[0m\u001b[0;34m[\u001b[0m\u001b[0mi\u001b[0m\u001b[0;34m]\u001b[0m \u001b[0;34m<\u001b[0m \u001b[0my_true\u001b[0m\u001b[0;34m[\u001b[0m\u001b[0mi\u001b[0m\u001b[0;34m]\u001b[0m \u001b[0;32melse\u001b[0m \u001b[0;36m0\u001b[0m \u001b[0;32mfor\u001b[0m \u001b[0mi\u001b[0m \u001b[0;32min\u001b[0m \u001b[0mrange\u001b[0m\u001b[0;34m(\u001b[0m\u001b[0mn\u001b[0m\u001b[0;34m)\u001b[0m\u001b[0;34m]\u001b[0m\u001b[0;34m\u001b[0m\u001b[0;34m\u001b[0m\u001b[0m\n\u001b[0m\u001b[1;32m      6\u001b[0m \u001b[0;34m\u001b[0m\u001b[0m\n\u001b[1;32m      7\u001b[0m     \u001b[0;31m# Calcula a derivada parcial para cada exemplo\u001b[0m\u001b[0;34m\u001b[0m\u001b[0;34m\u001b[0m\u001b[0m\n",
      "\u001b[0;31mValueError\u001b[0m: The truth value of an array with more than one element is ambiguous. Use a.any() or a.all()"
     ]
    }
   ],
   "source": [
    "mae_derivative(ytrain_b, Wtrain[:, -1])"
   ]
  },
  {
   "cell_type": "code",
   "execution_count": 31,
   "metadata": {},
   "outputs": [],
   "source": [
    "mm = mae_loss_gradient(Wtrain[:, -1], ytrain_b)"
   ]
  },
  {
   "cell_type": "code",
   "execution_count": 35,
   "metadata": {},
   "outputs": [
    {
     "data": {
      "text/plain": [
       "(10, 56, 56)"
      ]
     },
     "execution_count": 35,
     "metadata": {},
     "output_type": "execute_result"
    }
   ],
   "source": [
    "mm.shape"
   ]
  },
  {
   "cell_type": "code",
   "execution_count": null,
   "metadata": {},
   "outputs": [],
   "source": []
  },
  {
   "cell_type": "code",
   "execution_count": 58,
   "metadata": {},
   "outputs": [],
   "source": [
    "W_hood = WOMC.run_window_convolve(train_b, WOMC.batch, W_matrices, 0, 0, bias, weights)"
   ]
  },
  {
   "cell_type": "code",
   "execution_count": 14,
   "metadata": {},
   "outputs": [
    {
     "data": {
      "text/plain": [
       "0.85147391416789"
      ]
     },
     "execution_count": 14,
     "metadata": {},
     "output_type": "execute_result"
    }
   ],
   "source": [
    "w_error"
   ]
  },
  {
   "cell_type": "code",
   "execution_count": null,
   "metadata": {},
   "outputs": [],
   "source": [
    "h_z = h[0][-1]"
   ]
  },
  {
   "cell_type": "code",
   "execution_count": 62,
   "metadata": {},
   "outputs": [
    {
     "data": {
      "text/plain": [
       "0.16160714285714287"
      ]
     },
     "execution_count": 62,
     "metadata": {},
     "output_type": "execute_result"
    }
   ],
   "source": [
    "WOMC.calculate_error(ytrain_b,Wtrain, 'mae')"
   ]
  },
  {
   "cell_type": "code",
   "execution_count": 75,
   "metadata": {},
   "outputs": [
    {
     "data": {
      "text/plain": [
       "0.85147391416789"
      ]
     },
     "execution_count": 75,
     "metadata": {},
     "output_type": "execute_result"
    }
   ],
   "source": [
    "WOMC.calculate_error(ytrain_b,Wtrain, 'iou')"
   ]
  },
  {
   "cell_type": "code",
   "execution_count": 63,
   "metadata": {},
   "outputs": [],
   "source": [
    "Wtrain_np = np.array(Wtrain)[:, -1]"
   ]
  },
  {
   "cell_type": "code",
   "execution_count": 66,
   "metadata": {},
   "outputs": [],
   "source": [
    "hz = Wtrain_np[:, -1].copy()\n",
    "hz[hz==-1]=0"
   ]
  },
  {
   "cell_type": "code",
   "execution_count": 74,
   "metadata": {},
   "outputs": [
    {
     "data": {
      "text/plain": [
       "0.16160714285714287"
      ]
     },
     "execution_count": 74,
     "metadata": {},
     "output_type": "execute_result"
    }
   ],
   "source": [
    "np.abs(hz-ytrain_b).sum()/len(ytrain_b)/ytrain_b[0].size"
   ]
  },
  {
   "cell_type": "code",
   "execution_count": 76,
   "metadata": {},
   "outputs": [
    {
     "data": {
      "text/plain": [
       "0.0853486022229707"
      ]
     },
     "execution_count": 76,
     "metadata": {},
     "output_type": "execute_result"
    }
   ],
   "source": [
    "union = np.sum(np.maximum(hz,ytrain_b)==1)\n",
    "interc = np.sum(hz +ytrain_b == 2)\n",
    "error = (1 - interc/union)/len(ytrain_b)\n",
    "error"
   ]
  },
  {
   "cell_type": "code",
   "execution_count": 73,
   "metadata": {},
   "outputs": [
    {
     "data": {
      "text/plain": [
       "3136"
      ]
     },
     "execution_count": 73,
     "metadata": {},
     "output_type": "execute_result"
    }
   ],
   "source": [
    "ytrain_b[0].size"
   ]
  },
  {
   "cell_type": "code",
   "execution_count": 67,
   "metadata": {},
   "outputs": [
    {
     "data": {
      "text/plain": [
       "[array([[0., 0., 0., ..., 0., 0., 0.],\n",
       "        [0., 0., 0., ..., 0., 0., 0.],\n",
       "        [0., 0., 0., ..., 0., 0., 0.],\n",
       "        ...,\n",
       "        [0., 0., 0., ..., 0., 0., 0.],\n",
       "        [0., 0., 0., ..., 0., 0., 0.],\n",
       "        [0., 0., 0., ..., 0., 0., 0.]]),\n",
       " array([[0., 0., 0., ..., 0., 0., 0.],\n",
       "        [0., 0., 0., ..., 0., 0., 0.],\n",
       "        [0., 0., 0., ..., 0., 0., 0.],\n",
       "        ...,\n",
       "        [0., 0., 0., ..., 0., 0., 0.],\n",
       "        [0., 0., 0., ..., 0., 0., 0.],\n",
       "        [0., 0., 0., ..., 0., 0., 0.]]),\n",
       " array([[0., 0., 0., ..., 0., 0., 0.],\n",
       "        [0., 0., 0., ..., 0., 0., 0.],\n",
       "        [0., 0., 0., ..., 0., 0., 0.],\n",
       "        ...,\n",
       "        [0., 0., 0., ..., 0., 0., 0.],\n",
       "        [0., 0., 0., ..., 0., 0., 0.],\n",
       "        [0., 0., 0., ..., 0., 0., 0.]]),\n",
       " array([[0., 0., 0., ..., 0., 0., 0.],\n",
       "        [0., 0., 0., ..., 0., 0., 0.],\n",
       "        [0., 0., 0., ..., 0., 0., 0.],\n",
       "        ...,\n",
       "        [0., 0., 0., ..., 0., 0., 0.],\n",
       "        [0., 0., 0., ..., 0., 0., 0.],\n",
       "        [0., 0., 0., ..., 0., 0., 0.]]),\n",
       " array([[0., 0., 0., ..., 0., 0., 0.],\n",
       "        [0., 0., 0., ..., 0., 0., 0.],\n",
       "        [0., 0., 0., ..., 0., 0., 0.],\n",
       "        ...,\n",
       "        [0., 0., 0., ..., 0., 0., 0.],\n",
       "        [0., 0., 0., ..., 0., 0., 0.],\n",
       "        [0., 0., 0., ..., 0., 0., 0.]]),\n",
       " array([[0., 0., 0., ..., 0., 0., 0.],\n",
       "        [0., 0., 0., ..., 0., 0., 0.],\n",
       "        [0., 0., 0., ..., 0., 0., 0.],\n",
       "        ...,\n",
       "        [0., 0., 0., ..., 0., 0., 0.],\n",
       "        [0., 0., 0., ..., 0., 0., 0.],\n",
       "        [0., 0., 0., ..., 0., 0., 0.]]),\n",
       " array([[0., 0., 0., ..., 0., 0., 0.],\n",
       "        [0., 0., 0., ..., 0., 0., 0.],\n",
       "        [0., 0., 0., ..., 0., 0., 0.],\n",
       "        ...,\n",
       "        [0., 0., 0., ..., 0., 0., 0.],\n",
       "        [0., 0., 0., ..., 0., 0., 0.],\n",
       "        [0., 0., 0., ..., 0., 0., 0.]]),\n",
       " array([[0., 0., 0., ..., 0., 0., 0.],\n",
       "        [0., 0., 0., ..., 0., 0., 0.],\n",
       "        [0., 0., 0., ..., 0., 0., 0.],\n",
       "        ...,\n",
       "        [0., 0., 0., ..., 0., 0., 0.],\n",
       "        [0., 0., 0., ..., 0., 0., 0.],\n",
       "        [0., 0., 0., ..., 0., 0., 0.]]),\n",
       " array([[0., 0., 0., ..., 0., 0., 0.],\n",
       "        [0., 0., 0., ..., 0., 0., 0.],\n",
       "        [0., 0., 0., ..., 0., 0., 0.],\n",
       "        ...,\n",
       "        [0., 0., 0., ..., 0., 0., 0.],\n",
       "        [0., 0., 0., ..., 0., 0., 0.],\n",
       "        [0., 0., 0., ..., 0., 0., 0.]]),\n",
       " array([[0., 0., 0., ..., 0., 0., 0.],\n",
       "        [0., 0., 0., ..., 0., 0., 0.],\n",
       "        [0., 0., 0., ..., 0., 0., 0.],\n",
       "        ...,\n",
       "        [0., 0., 0., ..., 0., 0., 0.],\n",
       "        [0., 0., 0., ..., 0., 0., 0.],\n",
       "        [0., 0., 0., ..., 0., 0., 0.]])]"
      ]
     },
     "execution_count": 67,
     "metadata": {},
     "output_type": "execute_result"
    }
   ],
   "source": [
    "ytrain_b"
   ]
  },
  {
   "cell_type": "code",
   "execution_count": null,
   "metadata": {},
   "outputs": [],
   "source": [
    "hz = Wtr"
   ]
  },
  {
   "cell_type": "code",
   "execution_count": 29,
   "metadata": {},
   "outputs": [
    {
     "data": {
      "text/plain": [
       "array([[0., 0., 0., ..., 0., 1., 1.],\n",
       "       [0., 0., 0., ..., 1., 1., 0.],\n",
       "       [0., 0., 0., ..., 0., 1., 1.],\n",
       "       ...,\n",
       "       [0., 0., 0., ..., 0., 0., 0.],\n",
       "       [0., 0., 0., ..., 0., 0., 0.],\n",
       "       [0., 0., 0., ..., 0., 0., 0.]])"
      ]
     },
     "execution_count": 29,
     "metadata": {},
     "output_type": "execute_result"
    }
   ],
   "source": [
    "Wtrain[0][1]"
   ]
  },
  {
   "cell_type": "code",
   "execution_count": 30,
   "metadata": {},
   "outputs": [],
   "source": [
    "def mae_loss_gradient(predicted, target):\n",
    "    return -1 * np.sign(target - predicted) / len(target)"
   ]
  },
  {
   "cell_type": "code",
   "execution_count": 15,
   "metadata": {},
   "outputs": [
    {
     "ename": "TypeError",
     "evalue": "unsupported operand type(s) for ** or pow(): 'list' and 'int'",
     "output_type": "error",
     "traceback": [
      "\u001b[0;31m---------------------------------------------------------------------------\u001b[0m",
      "\u001b[0;31mTypeError\u001b[0m                                 Traceback (most recent call last)",
      "\u001b[0;32m/var/folders/zs/n_wh27_s5ln1fk586vbgqnn00000gq/T/ipykernel_52764/1343392821.py\u001b[0m in \u001b[0;36m<module>\u001b[0;34m\u001b[0m\n\u001b[0;32m----> 1\u001b[0;31m \u001b[0;34m-\u001b[0m\u001b[0;36m2\u001b[0m \u001b[0;34m*\u001b[0m \u001b[0mw_error\u001b[0m \u001b[0;34m*\u001b[0m \u001b[0;34m(\u001b[0m\u001b[0;36m1\u001b[0m \u001b[0;34m-\u001b[0m \u001b[0mWtrain\u001b[0m\u001b[0;34m[\u001b[0m\u001b[0;36m1\u001b[0m\u001b[0;34m]\u001b[0m\u001b[0;34m**\u001b[0m\u001b[0;36m2\u001b[0m\u001b[0;34m)\u001b[0m\u001b[0;34m\u001b[0m\u001b[0;34m\u001b[0m\u001b[0m\n\u001b[0m",
      "\u001b[0;31mTypeError\u001b[0m: unsupported operand type(s) for ** or pow(): 'list' and 'int'"
     ]
    }
   ],
   "source": [
    "dAl = "
   ]
  },
  {
   "cell_type": "code",
   "execution_count": null,
   "metadata": {},
   "outputs": [],
   "source": []
  }
 ],
 "metadata": {
  "kernelspec": {
   "display_name": "envpy",
   "language": "python",
   "name": "python3"
  },
  "language_info": {
   "codemirror_mode": {
    "name": "ipython",
    "version": 3
   },
   "file_extension": ".py",
   "mimetype": "text/x-python",
   "name": "python",
   "nbconvert_exporter": "python",
   "pygments_lexer": "ipython3",
   "version": "3.9.13"
  },
  "orig_nbformat": 4
 },
 "nbformat": 4,
 "nbformat_minor": 2
}
