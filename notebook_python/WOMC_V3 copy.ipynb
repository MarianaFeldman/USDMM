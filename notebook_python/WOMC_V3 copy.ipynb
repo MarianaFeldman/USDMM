{
 "cells": [
  {
   "cell_type": "code",
   "execution_count": 2,
   "id": "a5915bf1",
   "metadata": {},
   "outputs": [],
   "source": [
    "import numpy as np\n",
    "import itertools\n",
    "import cv2\n",
    "import random\n",
    "import copy\n",
    "from time import sleep, time\n",
    "import pickle"
   ]
  },
  {
   "cell_type": "markdown",
   "id": "0d3dd69f",
   "metadata": {},
   "source": [
    "### Parâmetros"
   ]
  },
  {
   "cell_type": "code",
   "execution_count": 3,
   "id": "7a0015cb",
   "metadata": {},
   "outputs": [],
   "source": [
    "def initialize_parameters(new):\n",
    "    params = {}\n",
    "    params['nlayer'] = 2\n",
    "    params['wlen'] = 3\n",
    "    params['wsize'] = params['wlen'] ** 2\n",
    "    params['dim'] = 56\n",
    "    params['train_size'] = 30\n",
    "    params['val_size'] = 10\n",
    "    params['test_size'] = 10\n",
    "\n",
    "    if new:\n",
    "        Wini = np.array([np.nan, 1., np.nan, 1., 1., 1., np.nan, 1., np.nan])\n",
    "        params['W'] = [Wini.copy() for _ in range(params['nlayer'])]\n",
    "        params['joint'] = [create_joint(Wini) for _ in range(params['nlayer'])]\n",
    "    else:\n",
    "        params['joint'] = np.load('joint.txt', allow_pickle=True)\n",
    "        params['W'] = np.load('W.txt', allow_pickle=True)\n",
    "\n",
    "    params['windows_continuos'] = np.load('windows_continuos.txt', allow_pickle=True)\n",
    "\n",
    "    return params"
   ]
  },
  {
   "cell_type": "code",
   "execution_count": 4,
   "id": "7091951b",
   "metadata": {},
   "outputs": [],
   "source": [
    "def create_joint(W):\n",
    "    Ji=[]\n",
    "    ni = int(W[~np.isnan(W)].sum())\n",
    "    for i in itertools.product([0, 1], repeat=ni):\n",
    "        Ji.append(''.join(np.array(i).astype(str)))\n",
    "    np.random.seed(0)\n",
    "    return np.c_[Ji, np.random.randint(2, size=len(Ji))]"
   ]
  },
  {
   "cell_type": "code",
   "execution_count": 5,
   "id": "61049b8d",
   "metadata": {},
   "outputs": [],
   "source": [
    "params = initialize_parameters(new = True)"
   ]
  },
  {
   "cell_type": "code",
   "execution_count": 6,
   "id": "3f699522",
   "metadata": {},
   "outputs": [],
   "source": [
    "nlayer = params['nlayer']\n",
    "wlen = params['wlen']\n",
    "wsize = params['wsize']\n",
    "dim = params['dim']\n",
    "train_size = params['train_size']\n",
    "val_size = params['val_size']\n",
    "test_size = params['test_size']\n",
    "W = params['W']\n",
    "joint = params['joint']\n",
    "windows_continuos = params['windows_continuos']"
   ]
  },
  {
   "cell_type": "code",
   "execution_count": 7,
   "id": "a328322f",
   "metadata": {},
   "outputs": [
    {
     "data": {
      "text/plain": [
       "[array([nan,  1., nan,  1.,  1.,  1., nan,  1., nan]),\n",
       " array([nan,  1., nan,  1.,  1.,  1., nan,  1., nan])]"
      ]
     },
     "execution_count": 7,
     "metadata": {},
     "output_type": "execute_result"
    }
   ],
   "source": [
    "W"
   ]
  },
  {
   "cell_type": "code",
   "execution_count": 8,
   "id": "bce31cf1",
   "metadata": {},
   "outputs": [],
   "source": [
    "\n",
    "def find_minterms(truth_table):\n",
    "    inputs = truth_table[:, 0]\n",
    "    results = truth_table[:, 1]\n",
    "    minterms = []\n",
    "    for i in np.where(results =='1')[0]:\n",
    "        minterms.append(inputs[i])\n",
    "    minterms\n",
    "\n",
    "    return minterms\n"
   ]
  },
  {
   "cell_type": "code",
   "execution_count": 9,
   "id": "2b408cb4",
   "metadata": {},
   "outputs": [],
   "source": [
    "def create_w_matrices(W):\n",
    "    matrices = []\n",
    "    for k in range(nlayer):\n",
    "        matrix_k = []\n",
    "        reduced_minterms = find_minterms(joint[k])\n",
    "        for minterm in range(len(reduced_minterms)):\n",
    "            matrix = np.copy(W[k])\n",
    "            c=0\n",
    "            for i in np.where(W[k]==1)[0]:\n",
    "                matrix[i] = reduced_minterms[minterm][c]\n",
    "                c+=1\n",
    "            matrix = np.where(matrix==0,-1,matrix)\n",
    "            matrix = np.nan_to_num(matrix)\n",
    "            #matrix = matrix.astype(int)\n",
    "            matrix_k.append(matrix)\n",
    "        matrices.append(matrix_k)\n",
    "    return matrices\n",
    "\n"
   ]
  },
  {
   "cell_type": "code",
   "execution_count": 10,
   "id": "274bc807",
   "metadata": {},
   "outputs": [
    {
     "data": {
      "text/plain": [
       "[[array([ 0., -1.,  0., -1., -1., -1.,  0.,  1.,  0.]),\n",
       "  array([ 0., -1.,  0., -1., -1.,  1.,  0., -1.,  0.]),\n",
       "  array([ 0., -1.,  0., -1.,  1., -1.,  0., -1.,  0.]),\n",
       "  array([ 0., -1.,  0., -1.,  1., -1.,  0.,  1.,  0.]),\n",
       "  array([ 0., -1.,  0., -1.,  1.,  1.,  0., -1.,  0.]),\n",
       "  array([ 0., -1.,  0., -1.,  1.,  1.,  0.,  1.,  0.]),\n",
       "  array([ 0., -1.,  0.,  1., -1., -1.,  0., -1.,  0.]),\n",
       "  array([ 0., -1.,  0.,  1., -1., -1.,  0.,  1.,  0.]),\n",
       "  array([ 0., -1.,  0.,  1., -1.,  1.,  0., -1.,  0.]),\n",
       "  array([ 0., -1.,  0.,  1.,  1., -1.,  0.,  1.,  0.]),\n",
       "  array([ 0.,  1.,  0., -1., -1.,  1.,  0.,  1.,  0.]),\n",
       "  array([ 0.,  1.,  0., -1.,  1., -1.,  0.,  1.,  0.]),\n",
       "  array([ 0.,  1.,  0., -1.,  1.,  1.,  0., -1.,  0.]),\n",
       "  array([ 0.,  1.,  0.,  1., -1., -1.,  0.,  1.,  0.]),\n",
       "  array([ 0.,  1.,  0.,  1., -1.,  1.,  0., -1.,  0.]),\n",
       "  array([ 0.,  1.,  0.,  1., -1.,  1.,  0.,  1.,  0.]),\n",
       "  array([ 0.,  1.,  0.,  1.,  1., -1.,  0., -1.,  0.]),\n",
       "  array([ 0.,  1.,  0.,  1.,  1.,  1.,  0., -1.,  0.])],\n",
       " [array([ 0., -1.,  0., -1., -1., -1.,  0.,  1.,  0.]),\n",
       "  array([ 0., -1.,  0., -1., -1.,  1.,  0., -1.,  0.]),\n",
       "  array([ 0., -1.,  0., -1.,  1., -1.,  0., -1.,  0.]),\n",
       "  array([ 0., -1.,  0., -1.,  1., -1.,  0.,  1.,  0.]),\n",
       "  array([ 0., -1.,  0., -1.,  1.,  1.,  0., -1.,  0.]),\n",
       "  array([ 0., -1.,  0., -1.,  1.,  1.,  0.,  1.,  0.]),\n",
       "  array([ 0., -1.,  0.,  1., -1., -1.,  0., -1.,  0.]),\n",
       "  array([ 0., -1.,  0.,  1., -1., -1.,  0.,  1.,  0.]),\n",
       "  array([ 0., -1.,  0.,  1., -1.,  1.,  0., -1.,  0.]),\n",
       "  array([ 0., -1.,  0.,  1.,  1., -1.,  0.,  1.,  0.]),\n",
       "  array([ 0.,  1.,  0., -1., -1.,  1.,  0.,  1.,  0.]),\n",
       "  array([ 0.,  1.,  0., -1.,  1., -1.,  0.,  1.,  0.]),\n",
       "  array([ 0.,  1.,  0., -1.,  1.,  1.,  0., -1.,  0.]),\n",
       "  array([ 0.,  1.,  0.,  1., -1., -1.,  0.,  1.,  0.]),\n",
       "  array([ 0.,  1.,  0.,  1., -1.,  1.,  0., -1.,  0.]),\n",
       "  array([ 0.,  1.,  0.,  1., -1.,  1.,  0.,  1.,  0.]),\n",
       "  array([ 0.,  1.,  0.,  1.,  1., -1.,  0., -1.,  0.]),\n",
       "  array([ 0.,  1.,  0.,  1.,  1.,  1.,  0., -1.,  0.])]]"
      ]
     },
     "execution_count": 10,
     "metadata": {},
     "output_type": "execute_result"
    }
   ],
   "source": [
    "W_matrices = create_w_matrices(W)\n",
    "W_matrices"
   ]
  },
  {
   "cell_type": "code",
   "execution_count": 11,
   "id": "c7c94028",
   "metadata": {},
   "outputs": [],
   "source": [
    "increase = int(round(wlen/2-0.1,0))"
   ]
  },
  {
   "cell_type": "code",
   "execution_count": 12,
   "id": "3fd3c2f6",
   "metadata": {},
   "outputs": [],
   "source": [
    "def convert_binary(img):\n",
    "    (T, img_bin) = cv2.threshold(img, 100, 255, cv2.THRESH_BINARY)\n",
    "    img_bin[(img_bin==0)]=1\n",
    "    img_bin[(img_bin==255)]=-1\n",
    "    img_bin = img_bin.astype(int)\n",
    "    return img_bin"
   ]
  },
  {
   "cell_type": "code",
   "execution_count": 13,
   "id": "79bf8e1c",
   "metadata": {},
   "outputs": [
    {
     "name": "stdout",
     "output_type": "stream",
     "text": [
      "entrada_test01.jpg\n",
      "entrada_test02.jpg\n",
      "entrada_test03.jpg\n",
      "entrada_test04.jpg\n"
     ]
    }
   ],
   "source": [
    "img_type = 'test'\n",
    "for img in range(1,5):\n",
    "    print(f'entrada_{img_type}{img:02d}.jpg')"
   ]
  },
  {
   "cell_type": "code",
   "execution_count": 14,
   "id": "5e42082b",
   "metadata": {},
   "outputs": [],
   "source": [
    "\n",
    "def _convert_binary(img):\n",
    "    (_, img_bin) = cv2.threshold(img, 100, 255, cv2.THRESH_BINARY)\n",
    "    #img_bin = img_bin.astype('float64')\n",
    "    img_bin[(img_bin==0)]=1\n",
    "    img_bin[(img_bin==255)]=0\n",
    "    img_bin = img_bin.astype(int)\n",
    "    #img_bin[(img_bin==0)]=-1\n",
    "    return img_bin\n",
    "\n",
    "def get_images(img_size, img_type):\n",
    "    ximg = []\n",
    "    yimg = []\n",
    "    for img in range(1,img_size+1):\n",
    "        x = cv2.imread(f'./x/{img_type}{img:02d}.jpg', cv2.IMREAD_GRAYSCALE)\n",
    "        y = cv2.imread(f'./y/{img_type}{img:02d}.jpg', cv2.IMREAD_GRAYSCALE)\n",
    "        ximg.append(_convert_binary(x))\n",
    "        yimg.append(_convert_binary(y))\n",
    "    return ximg, yimg"
   ]
  },
  {
   "cell_type": "code",
   "execution_count": 15,
   "id": "311fb2ed",
   "metadata": {},
   "outputs": [
    {
     "data": {
      "text/plain": [
       "([array([[0, 0, 0, ..., 0, 0, 0],\n",
       "         [0, 0, 0, ..., 0, 0, 0],\n",
       "         [0, 0, 0, ..., 0, 0, 0],\n",
       "         ...,\n",
       "         [0, 0, 0, ..., 0, 0, 0],\n",
       "         [0, 0, 0, ..., 0, 0, 0],\n",
       "         [0, 0, 0, ..., 0, 0, 0]]),\n",
       "  array([[0, 0, 0, ..., 0, 0, 0],\n",
       "         [0, 0, 0, ..., 0, 0, 0],\n",
       "         [0, 0, 0, ..., 0, 0, 0],\n",
       "         ...,\n",
       "         [0, 0, 0, ..., 0, 0, 0],\n",
       "         [0, 0, 0, ..., 0, 0, 0],\n",
       "         [0, 0, 0, ..., 0, 0, 0]]),\n",
       "  array([[0, 0, 0, ..., 0, 0, 0],\n",
       "         [0, 0, 0, ..., 0, 0, 0],\n",
       "         [0, 0, 0, ..., 0, 0, 0],\n",
       "         ...,\n",
       "         [0, 0, 0, ..., 0, 0, 0],\n",
       "         [0, 0, 0, ..., 0, 0, 0],\n",
       "         [0, 0, 0, ..., 0, 0, 0]]),\n",
       "  array([[0, 0, 0, ..., 0, 0, 0],\n",
       "         [0, 0, 0, ..., 1, 0, 0],\n",
       "         [0, 0, 0, ..., 0, 0, 0],\n",
       "         ...,\n",
       "         [0, 0, 0, ..., 0, 0, 0],\n",
       "         [0, 0, 0, ..., 0, 0, 0],\n",
       "         [0, 0, 0, ..., 0, 0, 0]]),\n",
       "  array([[0, 0, 0, ..., 0, 0, 0],\n",
       "         [0, 0, 0, ..., 0, 0, 0],\n",
       "         [0, 0, 0, ..., 0, 0, 0],\n",
       "         ...,\n",
       "         [0, 0, 0, ..., 0, 0, 0],\n",
       "         [0, 0, 0, ..., 0, 0, 0],\n",
       "         [0, 0, 0, ..., 0, 0, 0]]),\n",
       "  array([[0, 0, 0, ..., 0, 0, 0],\n",
       "         [0, 0, 0, ..., 0, 0, 0],\n",
       "         [0, 0, 0, ..., 0, 0, 0],\n",
       "         ...,\n",
       "         [0, 0, 0, ..., 0, 0, 0],\n",
       "         [0, 0, 0, ..., 0, 0, 0],\n",
       "         [0, 0, 0, ..., 0, 0, 0]]),\n",
       "  array([[0, 0, 0, ..., 0, 0, 0],\n",
       "         [0, 0, 0, ..., 0, 0, 0],\n",
       "         [0, 0, 0, ..., 0, 0, 0],\n",
       "         ...,\n",
       "         [0, 0, 0, ..., 0, 0, 0],\n",
       "         [0, 0, 0, ..., 0, 0, 0],\n",
       "         [0, 0, 0, ..., 0, 0, 0]]),\n",
       "  array([[0, 0, 0, ..., 0, 0, 0],\n",
       "         [0, 0, 0, ..., 0, 0, 0],\n",
       "         [0, 0, 0, ..., 0, 0, 0],\n",
       "         ...,\n",
       "         [0, 0, 0, ..., 0, 0, 0],\n",
       "         [0, 0, 0, ..., 0, 0, 0],\n",
       "         [0, 0, 0, ..., 0, 0, 0]]),\n",
       "  array([[0, 0, 0, ..., 0, 0, 0],\n",
       "         [0, 0, 0, ..., 0, 0, 0],\n",
       "         [0, 0, 0, ..., 0, 0, 0],\n",
       "         ...,\n",
       "         [0, 0, 0, ..., 0, 0, 0],\n",
       "         [0, 0, 0, ..., 0, 1, 0],\n",
       "         [0, 0, 0, ..., 0, 0, 0]]),\n",
       "  array([[0, 0, 0, ..., 0, 0, 0],\n",
       "         [0, 1, 0, ..., 0, 0, 0],\n",
       "         [0, 0, 0, ..., 0, 0, 0],\n",
       "         ...,\n",
       "         [0, 0, 0, ..., 0, 0, 0],\n",
       "         [0, 0, 0, ..., 0, 0, 0],\n",
       "         [0, 0, 0, ..., 0, 0, 0]])],\n",
       " [array([[0, 0, 0, ..., 0, 0, 0],\n",
       "         [0, 0, 0, ..., 0, 0, 0],\n",
       "         [0, 0, 0, ..., 0, 0, 0],\n",
       "         ...,\n",
       "         [0, 0, 0, ..., 0, 0, 0],\n",
       "         [0, 0, 0, ..., 0, 0, 0],\n",
       "         [0, 0, 0, ..., 0, 0, 0]]),\n",
       "  array([[0, 0, 0, ..., 0, 0, 0],\n",
       "         [0, 0, 0, ..., 0, 0, 0],\n",
       "         [0, 0, 0, ..., 0, 0, 0],\n",
       "         ...,\n",
       "         [0, 0, 0, ..., 0, 0, 0],\n",
       "         [0, 0, 0, ..., 0, 0, 0],\n",
       "         [0, 0, 0, ..., 0, 0, 0]]),\n",
       "  array([[0, 0, 0, ..., 0, 0, 0],\n",
       "         [0, 0, 0, ..., 0, 0, 0],\n",
       "         [0, 0, 0, ..., 0, 0, 0],\n",
       "         ...,\n",
       "         [0, 0, 0, ..., 0, 0, 0],\n",
       "         [0, 0, 0, ..., 0, 0, 0],\n",
       "         [0, 0, 0, ..., 0, 0, 0]]),\n",
       "  array([[0, 0, 0, ..., 0, 0, 0],\n",
       "         [0, 0, 0, ..., 0, 0, 0],\n",
       "         [0, 0, 0, ..., 0, 0, 0],\n",
       "         ...,\n",
       "         [0, 0, 0, ..., 0, 0, 0],\n",
       "         [0, 0, 0, ..., 0, 0, 0],\n",
       "         [0, 0, 0, ..., 0, 0, 0]]),\n",
       "  array([[0, 0, 0, ..., 0, 0, 0],\n",
       "         [0, 0, 0, ..., 0, 0, 0],\n",
       "         [0, 0, 0, ..., 0, 0, 0],\n",
       "         ...,\n",
       "         [0, 0, 0, ..., 0, 0, 0],\n",
       "         [0, 0, 0, ..., 0, 0, 0],\n",
       "         [0, 0, 0, ..., 0, 0, 0]]),\n",
       "  array([[0, 0, 0, ..., 0, 0, 0],\n",
       "         [0, 0, 0, ..., 0, 0, 0],\n",
       "         [0, 0, 0, ..., 0, 0, 0],\n",
       "         ...,\n",
       "         [0, 0, 0, ..., 0, 0, 0],\n",
       "         [0, 0, 0, ..., 0, 0, 0],\n",
       "         [0, 0, 0, ..., 0, 0, 0]]),\n",
       "  array([[0, 0, 0, ..., 0, 0, 0],\n",
       "         [0, 0, 0, ..., 0, 0, 0],\n",
       "         [0, 0, 0, ..., 0, 0, 0],\n",
       "         ...,\n",
       "         [0, 0, 0, ..., 0, 0, 0],\n",
       "         [0, 0, 0, ..., 0, 0, 0],\n",
       "         [0, 0, 0, ..., 0, 0, 0]]),\n",
       "  array([[0, 0, 0, ..., 0, 0, 0],\n",
       "         [0, 0, 0, ..., 0, 0, 0],\n",
       "         [0, 0, 0, ..., 0, 0, 0],\n",
       "         ...,\n",
       "         [0, 0, 0, ..., 0, 0, 0],\n",
       "         [0, 0, 0, ..., 0, 0, 0],\n",
       "         [0, 0, 0, ..., 0, 0, 0]]),\n",
       "  array([[0, 0, 0, ..., 0, 0, 0],\n",
       "         [0, 0, 0, ..., 0, 0, 0],\n",
       "         [0, 0, 0, ..., 0, 0, 0],\n",
       "         ...,\n",
       "         [0, 0, 0, ..., 0, 0, 0],\n",
       "         [0, 0, 0, ..., 0, 0, 0],\n",
       "         [0, 0, 0, ..., 0, 0, 0]]),\n",
       "  array([[0, 0, 0, ..., 0, 0, 0],\n",
       "         [0, 0, 0, ..., 0, 0, 0],\n",
       "         [0, 0, 0, ..., 0, 0, 0],\n",
       "         ...,\n",
       "         [0, 0, 0, ..., 0, 0, 0],\n",
       "         [0, 0, 0, ..., 0, 0, 0],\n",
       "         [0, 0, 0, ..., 0, 0, 0]])])"
      ]
     },
     "execution_count": 15,
     "metadata": {},
     "output_type": "execute_result"
    }
   ],
   "source": [
    "get_images(test_size, 'test')"
   ]
  },
  {
   "cell_type": "code",
   "execution_count": 16,
   "id": "2e049d40",
   "metadata": {},
   "outputs": [],
   "source": [
    "train, ytrain = get_images(train_size, 'train')\n",
    "val, yval = get_images(val_size, 'val')\n",
    "test, ytest = get_images(test_size, 'test')"
   ]
  },
  {
   "cell_type": "code",
   "execution_count": 17,
   "id": "b7f80fbd",
   "metadata": {},
   "outputs": [
    {
     "data": {
      "text/plain": [
       "((56, 56), (56, 56), (56, 56), (56, 56), (56, 56), (56, 56))"
      ]
     },
     "execution_count": 17,
     "metadata": {},
     "output_type": "execute_result"
    }
   ],
   "source": [
    "train[0].shape, ytrain[0].shape, val[0].shape, yval[0].shape, test[0].shape, ytest[0].shape"
   ]
  },
  {
   "cell_type": "code",
   "execution_count": 18,
   "id": "bdbcae03",
   "metadata": {},
   "outputs": [
    {
     "data": {
      "text/plain": [
       "(1, 0)"
      ]
     },
     "execution_count": 18,
     "metadata": {},
     "output_type": "execute_result"
    }
   ],
   "source": [
    "train[0].max(),train[0].min()"
   ]
  },
  {
   "cell_type": "code",
   "execution_count": 19,
   "id": "cee8e56a",
   "metadata": {},
   "outputs": [
    {
     "name": "stdout",
     "output_type": "stream",
     "text": [
      "Value 0 appears 2754 times.\n",
      "Value 1 appears 382 times.\n"
     ]
    }
   ],
   "source": [
    "unique_values, counts = np.unique(train[0], return_counts=True)\n",
    "\n",
    "# Create a dictionary to store the value-count pairs\n",
    "value_count_dict = dict(zip(unique_values, counts))\n",
    "\n",
    "# Print the value-count pairs\n",
    "for value, count in value_count_dict.items():\n",
    "    print(f\"Value {value} appears {count} times.\")"
   ]
  },
  {
   "cell_type": "code",
   "execution_count": 20,
   "id": "db58b73c",
   "metadata": {},
   "outputs": [],
   "source": [
    "def apply_window_(x, W_n, j_n):\n",
    "    Xl = np.c_[np.zeros([x.shape[0], increase], dtype=int), x, np.zeros([x.shape[0], increase], dtype=int)]\n",
    "    Xl = np.r_[np.zeros([increase, Xl.shape[1]], dtype=int), Xl, np.zeros([increase, Xl.shape[1]], dtype=int)]\n",
    "    \n",
    "    z = np.zeros([x.shape[0], x.shape[0]], dtype=int)\n",
    "    \n",
    "    for i in range(z.shape[0]):\n",
    "        for j in range(z.shape[1]):\n",
    "            p = Xl[i:i+wlen, j:j+wlen].flatten()\n",
    "            p = p * W_n\n",
    "            p = (p[~np.isnan(p)].astype(int))\n",
    "            p = ''.join(p.astype(str))\n",
    "            \n",
    "            indices = np.where(j_n[:, 0] == p)\n",
    "            if indices[0].size > 0 and j_n[indices[0], 1] == '1':\n",
    "                z[i, j] = 1\n",
    "                \n",
    "    return z"
   ]
  },
  {
   "cell_type": "code",
   "execution_count": 21,
   "id": "3a7cacbf",
   "metadata": {},
   "outputs": [],
   "source": [
    "def save_results(Wtrain, Wval, Wtest):\n",
    "    for img in range(len(Wtrain)):\n",
    "        s = str(img+1)\n",
    "        s = s.zfill(2)\n",
    "        x = copy.deepcopy(Wtrain[img][1])\n",
    "        x[(x==0)]=255\n",
    "        x[(x==1)]=0\n",
    "        cv2.imwrite('./results/train'+s+'.jpg', x)\n",
    "\n",
    "    for img in range(len(Wval)):\n",
    "        s = str(img+1)\n",
    "        s = s.zfill(2)\n",
    "        x = copy.deepcopy(Wval[img][1])\n",
    "        x[(x==0)]=255\n",
    "        x[(x==1)]=0\n",
    "        cv2.imwrite('./results/val'+s+'.jpg', x)\n",
    "        \n",
    "    for img in range(len(Wtest)):\n",
    "        s = str(img+1)\n",
    "        s = s.zfill(2)\n",
    "        x = copy.deepcopy(Wtest[img][1])\n",
    "        x[(x==0)]=255\n",
    "        x[(x==1)]=0\n",
    "        cv2.imwrite('./results/test'+s+'.jpg', x)\n",
    "    "
   ]
  },
  {
   "cell_type": "code",
   "execution_count": 22,
   "id": "a04f52f7",
   "metadata": {},
   "outputs": [],
   "source": [
    "def save_results_complet(Wtrain, Wval, Wtest):\n",
    "    for img in range(len(Wtrain)):\n",
    "        s = str(img+1)\n",
    "        s = s.zfill(2)\n",
    "        x = copy.deepcopy(Wtrain[img][0])\n",
    "        x[(x==0)]=255\n",
    "        x[(x==1)]=0\n",
    "        cv2.imwrite('./results_complet/train_op1_'+s+'.jpg', x)\n",
    "        x = copy.deepcopy(Wtrain[img][1])\n",
    "        x[(x==0)]=255\n",
    "        x[(x==1)]=0\n",
    "        cv2.imwrite('./results_complet/train_op2_'+s+'.jpg', x)\n",
    "\n",
    "    for img in range(len(Wval)):\n",
    "        s = str(img+1)\n",
    "        s = s.zfill(2)\n",
    "        x = copy.deepcopy(Wval[img][0])\n",
    "        x[(x==0)]=255\n",
    "        x[(x==1)]=0\n",
    "        cv2.imwrite('./results_complet/val_op1_'+s+'.jpg', x)\n",
    "        x = copy.deepcopy(Wval[img][1])\n",
    "        x[(x==0)]=255\n",
    "        x[(x==1)]=0\n",
    "        cv2.imwrite('./results_complet/val_op2_'+s+'.jpg', x)\n",
    "        \n",
    "    for img in range(len(Wtest)):\n",
    "        s = str(img+1)\n",
    "        s = s.zfill(2)\n",
    "        x = copy.deepcopy(Wtest[img][0])\n",
    "        x[(x==0)]=255\n",
    "        x[(x==1)]=0\n",
    "        cv2.imwrite('./results_complet/test_op1_'+s+'.jpg', x)\n",
    "        x = copy.deepcopy(Wtest[img][1])\n",
    "        x[(x==0)]=255\n",
    "        x[(x==1)]=0\n",
    "        cv2.imwrite('./results_complet/test_op2_'+s+'.jpg', x)\n",
    "    "
   ]
  },
  {
   "cell_type": "code",
   "execution_count": 23,
   "id": "23d25cf1",
   "metadata": {},
   "outputs": [],
   "source": [
    "def apply_window(x, W_n, j_n):\n",
    "    Xl = np.c_[np.zeros([x.shape[0], increase], dtype=int), x, np.zeros([x.shape[0], increase], dtype=int)]\n",
    "    Xl = np.r_[np.zeros([increase, Xl.shape[1]], dtype=int), Xl, np.zeros([increase, Xl.shape[1]], dtype=int)]\n",
    "    \n",
    "    z = np.zeros([x.shape[0], x.shape[0]], dtype=int)\n",
    "    \n",
    "    for i in range(z.shape[0]):\n",
    "        for j in range(z.shape[1]):\n",
    "            p = Xl[i:i+wlen, j:j+wlen].flatten()\n",
    "            p = p * W_n\n",
    "            p = (p[~np.isnan(p)].astype(int))\n",
    "            p = ''.join(p.astype(str))\n",
    "            \n",
    "            indices = np.where(j_n[:, 0] == p)\n",
    "            if indices[0].size > 0 and j_n[indices[0], 1] == '1':\n",
    "                z[i, j] = 1\n",
    "                \n",
    "    return z"
   ]
  },
  {
   "cell_type": "code",
   "execution_count": 24,
   "id": "009cf21f",
   "metadata": {},
   "outputs": [],
   "source": [
    "def run_window_hood(sample, sample_size, W_current, joint_current, Wlast, layer):\n",
    "    Wsample = []\n",
    "    for k in range(sample_size):\n",
    "        Wsample_k = [] \n",
    "        for i in range(nlayer):\n",
    "            if layer > i:\n",
    "                Wsample_k.append(Wlast[k][i])\n",
    "            elif i==0:\n",
    "                Wsample_k.append(apply_window(sample[k], W_current[i], joint_current[i]))\n",
    "            else:\n",
    "                Wsample_k.append(apply_window(Wsample_k[i-1], W_current[i], joint_current[i]))\n",
    "        Wsample.append(Wsample_k)\n",
    "    return Wsample"
   ]
  },
  {
   "cell_type": "code",
   "execution_count": 25,
   "id": "5c50f741",
   "metadata": {},
   "outputs": [
    {
     "data": {
      "text/plain": [
       "array([[-1, -1, -1, ..., -1, -1, -1],\n",
       "       [-1, -1, -1, ..., -1, -1, -1],\n",
       "       [-1, -1, -1, ..., -1, -1, -1],\n",
       "       ...,\n",
       "       [-1, -1, -1, ..., -1, -1, -1],\n",
       "       [-1, -1, -1, ..., -1, -1, -1],\n",
       "       [-1, -1, -1, ..., -1, -1, -1]])"
      ]
     },
     "execution_count": 25,
     "metadata": {},
     "output_type": "execute_result"
    }
   ],
   "source": [
    "train[0]-1"
   ]
  },
  {
   "cell_type": "code",
   "execution_count": 26,
   "id": "947d4114",
   "metadata": {},
   "outputs": [],
   "source": [
    "def apply_convolve(img, W_matrices, bias):\n",
    "    for kernel in W_matrices:\n",
    "        img = cv2.filter2D(img, -1, kernel)\n",
    "        img = img-bias\n",
    "        img[img >= 0] = 1\n",
    "        img[img < 0] = -1\n",
    "    return img"
   ]
  },
  {
   "cell_type": "code",
   "execution_count": 27,
   "id": "273cc8b8",
   "metadata": {},
   "outputs": [],
   "source": [
    "def run_window_convolve(sample, sample_size, W_matrices, Wlast, layer, bias):\n",
    "    Wsample = []\n",
    "    for k in range(sample_size):\n",
    "        Wsample_k = [] \n",
    "        for i in range(nlayer):\n",
    "            if layer > i:\n",
    "                Wsample_k.append(Wlast[k][i])\n",
    "            elif i==0:\n",
    "                Wsample_k.append(apply_convolve(sample[k], W_matrices[i], bias[i]))\n",
    "            else:\n",
    "                Wsample_k.append(apply_convolve(Wsample_k[i-1], W_matrices[i], bias[i]))\n",
    "        Wsample.append(Wsample_k)\n",
    "    return Wsample"
   ]
  },
  {
   "cell_type": "code",
   "execution_count": 245,
   "id": "e2e17232",
   "metadata": {},
   "outputs": [
    {
     "data": {
      "text/plain": [
       "18"
      ]
     },
     "execution_count": 245,
     "metadata": {},
     "output_type": "execute_result"
    }
   ],
   "source": [
    "len(W_matrices[0])"
   ]
  },
  {
   "cell_type": "code",
   "execution_count": 224,
   "id": "16ddbb79",
   "metadata": {},
   "outputs": [
    {
     "data": {
      "text/plain": [
       "[4.0, 4.0]"
      ]
     },
     "execution_count": 224,
     "metadata": {},
     "output_type": "execute_result"
    }
   ],
   "source": [
    "bias = []\n",
    "for i in range(nlayer):\n",
    "    bias.append(np.nansum(W[i])-1)\n",
    "bias"
   ]
  },
  {
   "cell_type": "code",
   "execution_count": 241,
   "id": "d5b2a41a",
   "metadata": {},
   "outputs": [],
   "source": [
    "Wtrain = run_window_convolve(train, train_size, W_matrices, W,0, bias)"
   ]
  },
  {
   "cell_type": "code",
   "execution_count": 242,
   "id": "89f9a83e",
   "metadata": {},
   "outputs": [
    {
     "data": {
      "text/plain": [
       "(30, (56, 56))"
      ]
     },
     "execution_count": 242,
     "metadata": {},
     "output_type": "execute_result"
    }
   ],
   "source": [
    "len(Wtrain), Wtrain[0][1].shape"
   ]
  },
  {
   "cell_type": "code",
   "execution_count": 243,
   "id": "f62f3bdb",
   "metadata": {},
   "outputs": [
    {
     "data": {
      "text/plain": [
       "array([-1.])"
      ]
     },
     "execution_count": 243,
     "metadata": {},
     "output_type": "execute_result"
    }
   ],
   "source": [
    "np.unique(Wtrain)"
   ]
  },
  {
   "cell_type": "code",
   "execution_count": 28,
   "id": "836310d3",
   "metadata": {},
   "outputs": [],
   "source": [
    "Wtrain = run_window_hood(train, train_size, W, joint, W, 0)"
   ]
  },
  {
   "cell_type": "code",
   "execution_count": 29,
   "id": "6fa404da",
   "metadata": {},
   "outputs": [
    {
     "name": "stdout",
     "output_type": "stream",
     "text": [
      "Value 0 appears 2755 times.\n",
      "Value 1 appears 381 times.\n"
     ]
    }
   ],
   "source": [
    "unique_values, counts = np.unique(Wtrain[0][1], return_counts=True)\n",
    "\n",
    "# Create a dictionary to store the value-count pairs\n",
    "value_count_dict = dict(zip(unique_values, counts))\n",
    "\n",
    "# Print the value-count pairs\n",
    "for value, count in value_count_dict.items():\n",
    "    print(f\"Value {value} appears {count} times.\")"
   ]
  },
  {
   "cell_type": "code",
   "execution_count": 30,
   "id": "d5f8db39",
   "metadata": {},
   "outputs": [
    {
     "name": "stdout",
     "output_type": "stream",
     "text": [
      "Value 0 appears 3022 times.\n",
      "Value 1 appears 114 times.\n"
     ]
    }
   ],
   "source": [
    "unique_values, counts = np.unique(ytrain[0], return_counts=True)\n",
    "\n",
    "# Create a dictionary to store the value-count pairs\n",
    "value_count_dict = dict(zip(unique_values, counts))\n",
    "\n",
    "# Print the value-count pairs\n",
    "for value, count in value_count_dict.items():\n",
    "    print(f\"Value {value} appears {count} times.\")"
   ]
  },
  {
   "cell_type": "code",
   "execution_count": 33,
   "id": "c19c22d5",
   "metadata": {},
   "outputs": [
    {
     "data": {
      "text/plain": [
       "0.14903273809523812"
      ]
     },
     "execution_count": 33,
     "metadata": {},
     "output_type": "execute_result"
    }
   ],
   "source": [
    "calculate_error(ytrain, Wtrain)"
   ]
  },
  {
   "cell_type": "code",
   "execution_count": 238,
   "id": "a96480ba",
   "metadata": {},
   "outputs": [
    {
     "data": {
      "text/plain": [
       "array([[0, 0, 0, ..., 0, 0, 0],\n",
       "       [0, 0, 0, ..., 0, 0, 0],\n",
       "       [0, 0, 0, ..., 0, 0, 0],\n",
       "       ...,\n",
       "       [0, 0, 0, ..., 0, 0, 0],\n",
       "       [0, 0, 0, ..., 0, 0, 0],\n",
       "       [0, 0, 0, ..., 0, 0, 0]])"
      ]
     },
     "execution_count": 238,
     "metadata": {},
     "output_type": "execute_result"
    }
   ],
   "source": [
    "Wtrain[0][0]"
   ]
  },
  {
   "cell_type": "code",
   "execution_count": 17,
   "id": "3da8dd33",
   "metadata": {},
   "outputs": [],
   "source": [
    "Wval = run_window_hood(val, val_size, W, joint, W, 0)"
   ]
  },
  {
   "cell_type": "code",
   "execution_count": 23,
   "id": "da6917ad",
   "metadata": {},
   "outputs": [],
   "source": [
    "Wtest = run_window_hood(test, test_size, W, joint, W, 0)"
   ]
  },
  {
   "cell_type": "code",
   "execution_count": 32,
   "id": "884a6cc9",
   "metadata": {},
   "outputs": [],
   "source": [
    "def calculate_error(y, h):\n",
    "    error = 0\n",
    "    n_samples = len(y)\n",
    "    for k in range(n_samples):\n",
    "        sample_error = np.abs(h[k][-1] - y[k]).sum()\n",
    "        error += sample_error / (y[k].size * n_samples)\n",
    "    return error     "
   ]
  },
  {
   "cell_type": "code",
   "execution_count": 34,
   "id": "6cfa023e",
   "metadata": {},
   "outputs": [],
   "source": [
    "def calculate_error(y, h, et = 'mae'):\n",
    "    error = 0\n",
    "    n_samples = len(y)\n",
    "    for k in range(n_samples):\n",
    "        if et == 'mae':\n",
    "            sample_error = np.abs(h[k][-1] - y[k]).sum()\n",
    "            error += sample_error / (y[k].size)\n",
    "        elif et== 'iou':\n",
    "            union = np.sum(np.maximum(h[k][-1],y[k])==1)\n",
    "            interc = np.sum(h[k][-1] +y[k] == 2)\n",
    "            error += (1 - interc/union)\n",
    "    return (error/n_samples)  "
   ]
  },
  {
   "cell_type": "code",
   "execution_count": 35,
   "id": "ce805fc7",
   "metadata": {},
   "outputs": [
    {
     "data": {
      "text/plain": [
       "0.857915697020591"
      ]
     },
     "execution_count": 35,
     "metadata": {},
     "output_type": "execute_result"
    }
   ],
   "source": [
    "calculate_error(ytrain, Wtrain, 'iou')"
   ]
  },
  {
   "cell_type": "code",
   "execution_count": 25,
   "id": "98300fc2",
   "metadata": {},
   "outputs": [],
   "source": [
    "def joint_history(joint, nlayer):\n",
    "    for k in range(nlayer):\n",
    "        if k==0:\n",
    "        #joint_temp.append(joint[k][:,1])\n",
    "            joint_hist = ''.join(joint[k][:,1])\n",
    "        else:\n",
    "            joint_hist = joint_hist+''.join(joint[k][:,1])\n",
    "    return joint_hist\n"
   ]
  },
  {
   "cell_type": "code",
   "execution_count": 26,
   "id": "19dd71af",
   "metadata": {},
   "outputs": [],
   "source": [
    "def window_history(W, nlayer, wsize):\n",
    "    for k in range(nlayer):\n",
    "        if k==0:\n",
    "            window_hist = ''.join([''.join(item) for item in np.reshape(W[k], (wsize,)).astype(str)])\n",
    "        else:\n",
    "            window_hist = window_hist+''.join([''.join(item) for item in np.reshape(W[k], (wsize,)).astype(str)])\n",
    "    return window_hist"
   ]
  },
  {
   "cell_type": "code",
   "execution_count": 27,
   "id": "9b43df06",
   "metadata": {},
   "outputs": [],
   "source": [
    "def get_error_window(W, joint, nlayer, train, train_size, Wtrain, ytrain):\n",
    "    start = time()\n",
    "    keep = True\n",
    "    w_error = calculate_error(ytrain, Wtrain)\n",
    "    joint_hist = []\n",
    "    print('----------')\n",
    "    print('Entrando no get error window')\n",
    "    print('start error: ', w_error)\n",
    "    qq = 0\n",
    "    flg2 = 0\n",
    "    while keep:\n",
    "        qq += 1\n",
    "        #print('Teste ', qq)\n",
    "        flg = 0\n",
    "        joint_hist.append(joint_history(joint, nlayer))\n",
    "        for k in range(nlayer):\n",
    "            for i in range(len(joint[k])):\n",
    "                # print('testing layer ', k)\n",
    "                # print('joint ', joint[k][i][0])\n",
    "                joint_temp = copy.deepcopy(joint)\n",
    "                if joint[k][i][1] == '1':\n",
    "                    joint_temp[k][i][1] = '0'\n",
    "                else:\n",
    "                    joint_temp[k][i][1] = '1'\n",
    "                j_temp = joint_history(joint_temp, nlayer)\n",
    "                if j_temp not in joint_hist:\n",
    "                    joint_hist.append(j_temp)\n",
    "                    W_hood = run_window_hood(train, train_size, W, joint_temp, Wtrain, k)\n",
    "                    error_hood = calculate_error(ytrain, W_hood)\n",
    "                    # print('error: ', error_hood)\n",
    "                    if error_hood < w_error:\n",
    "                        # print('erro menor')\n",
    "                        w_error = error_hood\n",
    "                        # print(w_error)\n",
    "                        joint_new = copy.deepcopy(joint_temp)\n",
    "                        Wtrain_new = copy.deepcopy(W_hood)\n",
    "                        flg = 1\n",
    "                        flg2 = 1\n",
    "                    # print('----------')\n",
    "        if flg == 0:\n",
    "            #print('Sem erros Menores no teste ', qq)\n",
    "            keep = False\n",
    "        else:\n",
    "            joint = copy.deepcopy(joint_new)\n",
    "            Wtrain = copy.deepcopy(Wtrain_new)\n",
    "            #print('error do teste ', qq, ': ', w_error)\n",
    "            # print('flg = 1 do teste ', qq)\n",
    "\n",
    "    #print('----------')\n",
    "    print('end of testing, fl2 = ', flg2)\n",
    "\n",
    "    if flg2 == 1:\n",
    "        Wval = run_window_hood(val, val_size, W, joint, W, 0)\n",
    "    error_val = calculate_error(yval, Wval)\n",
    "    error = np.array([w_error, error_val])\n",
    "\n",
    "    #print('-.-.-.-.-.-.-.-.-.-')\n",
    "    #end = time()\n",
    "    #print('tempo de execução: {}'.format(end - start))\n",
    "    save_results(Wtrain, Wval)\n",
    "\n",
    "    return (joint, error, flg2, Wtrain, Wval)"
   ]
  },
  {
   "cell_type": "code",
   "execution_count": 122,
   "id": "80ad2483",
   "metadata": {},
   "outputs": [
    {
     "name": "stdout",
     "output_type": "stream",
     "text": [
      "----------\n",
      "Entrando no get error window\n",
      "start error:  0.14903273809523812\n",
      "end of testing, fl2 =  1\n"
     ]
    }
   ],
   "source": [
    "joint, error, flg, Wtrain, Wval = get_error_window(W, joint, nlayer,train, train_size, Wtrain, ytrain)"
   ]
  },
  {
   "cell_type": "code",
   "execution_count": 123,
   "id": "145aedbb",
   "metadata": {},
   "outputs": [
    {
     "data": {
      "text/plain": [
       "array([0.01852679, 0.01817602])"
      ]
     },
     "execution_count": 123,
     "metadata": {},
     "output_type": "execute_result"
    }
   ],
   "source": [
    "error"
   ]
  },
  {
   "cell_type": "code",
   "execution_count": 28,
   "id": "1e8c6229",
   "metadata": {},
   "outputs": [],
   "source": [
    "def save_window(joint, W):\n",
    "\n",
    "    filename_joint = 'joint.txt'\n",
    "    pickle.dump(joint, open(filename_joint, 'wb'))\n",
    "\n",
    "    filename_W = 'W.txt'\n",
    "    pickle.dump(W, open(filename_W, 'wb'))"
   ]
  },
  {
   "cell_type": "code",
   "execution_count": 130,
   "id": "3fc58510",
   "metadata": {},
   "outputs": [],
   "source": [
    "save_window(joint, W)"
   ]
  },
  {
   "cell_type": "code",
   "execution_count": 29,
   "id": "690ad5a9",
   "metadata": {},
   "outputs": [],
   "source": [
    "def check_great_neighboors(W, nlayer, wsize, wlen, joint, train, train_size, Wtrain, ytrain, error):\n",
    "    global w_hist\n",
    "    flg = 0\n",
    "    print('\\n check_great_neighboors Start')\n",
    "    \n",
    "    for k in range(nlayer):\n",
    "        #print('testing layer ', k)\n",
    "        nan_idx = np.where(np.isnan(W[k]))[0]\n",
    "        w_line_temp_base = W[k].copy()\n",
    "        \n",
    "        for i in nan_idx:\n",
    "            W_line_temp = w_line_temp_base.copy()\n",
    "            W_line_temp[i] = 1\n",
    "            W_line_temp_NN = W_line_temp.copy()\n",
    "            W_line_temp_NN[np.isnan(W_line_temp_NN)] = 0\n",
    "            W_line_temp_NN = W_line_temp_NN.astype(int)\n",
    "                \n",
    "            if ''.join(W_line_temp_NN.astype(str)) in windows_continuos:\n",
    "                #print('W in windows continuos')\n",
    "                W_temp = W.copy()\n",
    "                W_temp[k] = W_line_temp\n",
    "                W_h = window_history(W_temp, nlayer, wsize)\n",
    "\n",
    "                if W_h not in w_hist['W']:\n",
    "                    joint_temp = joint.copy()\n",
    "                    joint_temp[k] = create_joint(W_temp[k])\n",
    "\n",
    "                    W_train_temp = run_window_hood(train, train_size, W_temp, joint_temp, Wtrain, k)\n",
    "\n",
    "                    joint_temp, w_error, flg2, W_train_temp, W_val_temp = get_error_window(W_temp, joint_temp, nlayer,train, train_size, W_train_temp, ytrain)\n",
    "                    #print('new Validation error: ', w_error[1])\n",
    "                    if w_error[1] < error[1]:\n",
    "                        #print('erro menor')\n",
    "                        error_new = w_error\n",
    "                        joint_new = joint_temp.copy()\n",
    "                        Wtrain_new = W_train_temp.copy()\n",
    "                        Wval_new = W_val_temp.copy()\n",
    "                        W_new = W_temp.copy()\n",
    "                        save_window(joint_new, W_new)\n",
    "                        flg = 1\n",
    "                    #print('----------')\n",
    "\n",
    "                    w_hist[\"W\"].append(W_h)\n",
    "                    w_hist[\"error\"].append(w_error)\n",
    "                    pickle.dump(w_hist, open('W_hist.txt', 'wb'))\n",
    "            #else:\n",
    "                #print('W not in window continuos')\n",
    "    print('flg = ',flg)\n",
    "    if flg == 1:\n",
    "        return W_new, joint_new, Wtrain_new, Wval_new, error, flg\n",
    "    else:\n",
    "        return W, joint, Wtrain, Wval, error, flg"
   ]
  },
  {
   "cell_type": "code",
   "execution_count": 30,
   "id": "85190b07",
   "metadata": {},
   "outputs": [],
   "source": [
    "def check_lesser_neighboors(W, nlayer, wsize, wlen, joint, train, train_size, Wtrain, ytrain, error):\n",
    "    global w_hist\n",
    "    flg = 0\n",
    "    print('\\n check_lesser_neighboors Start')\n",
    "    \n",
    "    \n",
    "    for k in range(nlayer):\n",
    "        #print('testing layer ', k)\n",
    "        nan_idx = np.where(W[k]==1)[0]\n",
    "        w_line_temp_base = W[k].copy()\n",
    "        \n",
    "        for i in nan_idx:\n",
    "            W_line_temp = w_line_temp_base.copy()\n",
    "            W_line_temp[i] = np.nan\n",
    "            W_line_temp_NN = W_line_temp.copy()\n",
    "            W_line_temp_NN[np.isnan(W_line_temp_NN)] = 0\n",
    "            W_line_temp_NN = W_line_temp_NN.astype(int)\n",
    "            \n",
    "            if ''.join(W_line_temp_NN.astype(str)) in windows_continuos:\n",
    "                #print('W in windows continuos')\n",
    "                W_temp = W.copy()\n",
    "                W_temp[k] = W_line_temp\n",
    "                W_h = window_history(W_temp, nlayer, wsize)\n",
    "                \n",
    "                if W_h not in w_hist['W']:\n",
    "                    joint_temp = joint.copy()\n",
    "                    joint_temp[k] = create_joint(W_temp[k])\n",
    "                    W_train_temp = run_window_hood(train, train_size, W_temp, joint_temp, Wtrain, k)\n",
    "                    \n",
    "                    joint_temp, w_error, flg2, W_train_temp, W_val_temp = get_error_window(W_temp, joint_temp, nlayer,train, train_size, W_train_temp, ytrain)\n",
    "                    #print('new Validation error: ', w_error[1])\n",
    "                    if w_error[1] < error[1]:\n",
    "                        print('error menor')\n",
    "                        error[0] = w_error[0]\n",
    "                        error[1] = w_error[1]\n",
    "                        joint_new = joint_temp.copy()\n",
    "                        Wtrain_new = W_train_temp.copy()\n",
    "                        Wval_new = W_val_temp.copy()\n",
    "                        W_new = W_temp.copy()\n",
    "                        print('W_new: ', W_new)\n",
    "                        save_window(joint_new, W_new)\n",
    "                        flg = 1\n",
    "                    #print('----------')\n",
    "                    \n",
    "                    w_hist[\"W\"].append(W_h)\n",
    "                    w_hist[\"error\"].append(w_error)\n",
    "                    pickle.dump(w_hist, open('W_hist.txt', 'wb'))\n",
    "                #else:\n",
    "                    #print('W already in history')\n",
    "            #else:\n",
    "                #print('W not in window continuos')\n",
    "    print('flg = ',flg)\n",
    "    if flg == 1:\n",
    "        return W_new, joint_new, Wtrain_new, Wval_new, error, flg\n",
    "    else:\n",
    "        return W, joint, Wtrain, Wval, error, flg"
   ]
  },
  {
   "cell_type": "code",
   "execution_count": 28,
   "id": "b76a1553",
   "metadata": {},
   "outputs": [
    {
     "name": "stdout",
     "output_type": "stream",
     "text": [
      "start Validation error:  0.018176020408163265\n",
      "----------\n",
      "Teste de Janela  1\n",
      "\n",
      " check_lesser_neighboors Start\n",
      "----------\n",
      "Entrando no get error window\n",
      "start error:  0.13271683673469387\n",
      "end of testing, fl2 =  1\n",
      "----------\n",
      "Entrando no get error window\n",
      "start error:  0.12164115646258505\n",
      "end of testing, fl2 =  1\n",
      "----------\n",
      "Entrando no get error window\n",
      "start error:  0.11312712585034013\n",
      "end of testing, fl2 =  1\n",
      "error menor\n",
      "W_new:  [array([nan,  1., nan,  1.,  1., nan, nan,  1., nan]), array([nan,  1., nan,  1.,  1.,  1., nan,  1., nan])]\n",
      "----------\n",
      "Entrando no get error window\n",
      "start error:  0.1110863095238095\n",
      "end of testing, fl2 =  1\n",
      "error menor\n",
      "W_new:  [array([nan,  1., nan,  1.,  1.,  1., nan, nan, nan]), array([nan,  1., nan,  1.,  1.,  1., nan,  1., nan])]\n",
      "----------\n",
      "Entrando no get error window\n",
      "start error:  0.08596938775510207\n",
      "end of testing, fl2 =  1\n",
      "----------\n",
      "Entrando no get error window\n",
      "start error:  0.0858843537414966\n",
      "end of testing, fl2 =  1\n",
      "----------\n",
      "Entrando no get error window\n",
      "start error:  0.06683673469387753\n",
      "end of testing, fl2 =  1\n",
      "----------\n",
      "Entrando no get error window\n",
      "start error:  0.06965348639455782\n",
      "end of testing, fl2 =  1\n",
      "flg =  1\n",
      "\n",
      " check_great_neighboors Start\n",
      "----------\n",
      "Entrando no get error window\n",
      "start error:  0.13297193877551022\n",
      "end of testing, fl2 =  1\n",
      "----------\n",
      "Entrando no get error window\n",
      "start error:  0.134375\n",
      "end of testing, fl2 =  1\n",
      "----------\n",
      "Entrando no get error window\n",
      "start error:  0.13443877551020408\n",
      "end of testing, fl2 =  1\n",
      "----------\n",
      "Entrando no get error window\n",
      "start error:  0.1373299319727891\n",
      "end of testing, fl2 =  1\n",
      "----------\n",
      "Entrando no get error window\n",
      "start error:  0.05102040816326531\n",
      "end of testing, fl2 =  1\n",
      "----------\n",
      "Entrando no get error window\n",
      "start error:  0.0741284013605442\n",
      "end of testing, fl2 =  1\n",
      "----------\n",
      "Entrando no get error window\n",
      "start error:  0.10097789115646258\n",
      "end of testing, fl2 =  1\n",
      "----------\n",
      "Entrando no get error window\n",
      "start error:  0.08642644557823127\n",
      "end of testing, fl2 =  1\n",
      "flg =  1\n",
      "[0.01743197 0.01702806]\n",
      "Teste de Janela  2\n",
      "\n",
      " check_lesser_neighboors Start\n",
      "----------\n",
      "Entrando no get error window\n",
      "start error:  0.0988201530612245\n",
      "end of testing, fl2 =  1\n",
      "----------\n",
      "Entrando no get error window\n",
      "start error:  0.09548256802721088\n",
      "end of testing, fl2 =  1\n",
      "----------\n",
      "Entrando no get error window\n",
      "start error:  0.08523596938775509\n",
      "end of testing, fl2 =  1\n",
      "----------\n",
      "Entrando no get error window\n",
      "start error:  0.06936649659863946\n",
      "end of testing, fl2 =  1\n",
      "----------\n",
      "Entrando no get error window\n",
      "start error:  0.07319302721088436\n",
      "end of testing, fl2 =  1\n",
      "----------\n",
      "Entrando no get error window\n",
      "start error:  0.08436437074829933\n",
      "end of testing, fl2 =  1\n",
      "----------\n",
      "Entrando no get error window\n",
      "start error:  0.08358843537414966\n",
      "end of testing, fl2 =  1\n",
      "flg =  0\n",
      "\n",
      " check_great_neighboors Start\n",
      "----------\n",
      "Entrando no get error window\n",
      "start error:  0.1228528911564626\n",
      "end of testing, fl2 =  1\n",
      "----------\n",
      "Entrando no get error window\n",
      "start error:  0.12182185374149658\n",
      "end of testing, fl2 =  1\n",
      "----------\n",
      "Entrando no get error window\n",
      "start error:  0.11817602040816327\n",
      "end of testing, fl2 =  1\n",
      "----------\n",
      "Entrando no get error window\n",
      "start error:  0.08970025510204081\n",
      "end of testing, fl2 =  1\n",
      "----------\n",
      "Entrando no get error window\n",
      "start error:  0.10928996598639455\n",
      "end of testing, fl2 =  1\n",
      "----------\n",
      "Entrando no get error window\n",
      "start error:  0.7841624149659864\n",
      "end of testing, fl2 =  1\n",
      "----------\n",
      "Entrando no get error window\n",
      "start error:  0.762266156462585\n",
      "end of testing, fl2 =  1\n",
      "----------\n",
      "Entrando no get error window\n",
      "start error:  0.7970025510204083\n",
      "end of testing, fl2 =  1\n",
      "flg =  1\n",
      "[0.01743197 0.01702806]\n",
      "end of testing, fl2 =  1\n",
      "tempo de execução: 133288.95909929276\n"
     ]
    }
   ],
   "source": [
    "start = time()\n",
    "keep = True\n",
    "print('start Validation error: ', error[1])\n",
    "print('----------')\n",
    "qq=0\n",
    "w_hist = {\"W\":[],\"error\":[]}\n",
    "w_hist[\"W\"].append(window_history(W, nlayer, wsize))\n",
    "w_hist[\"error\"].append(error)\n",
    "    \n",
    "pickle.dump(w_hist, open('W_hist.txt', 'wb'))\n",
    "\n",
    "while keep:\n",
    "#for i in range(len(windows_continuos)):\n",
    "    qq+=1\n",
    "    print('Teste de Janela ',qq)\n",
    "    \n",
    "    W, joint, Wtrain, Wval, error, flg1 = check_lesser_neighboors(W, nlayer, wsize, wlen, joint, train, train_size, Wtrain, ytrain, error)\n",
    "    W, joint, Wtrain, Wval, error, flg2 = check_great_neighboors(W, nlayer, wsize, wlen, joint, train, train_size, Wtrain, ytrain, error)\n",
    "    print(error)\n",
    "    \n",
    "    if flg1 ==0 & flg2 ==0 :\n",
    "        keep = False\n",
    "    else:\n",
    "        save_window(joint, W)\n",
    "        save_results(Wtrain, Wval)\n",
    "        \n",
    "    if qq>len(windows_continuos):\n",
    "        keep = False\n",
    "    \n",
    "print('end of testing, fl2 = ', flg2)\n",
    "end = time()\n",
    "print('tempo de execução: {}'.format(end - start))            \n"
   ]
  },
  {
   "cell_type": "code",
   "execution_count": 29,
   "id": "755188ec",
   "metadata": {},
   "outputs": [],
   "source": [
    "save_results(Wtrain, Wval, Wtest)"
   ]
  },
  {
   "cell_type": "code",
   "execution_count": 34,
   "id": "2bffbb60",
   "metadata": {},
   "outputs": [],
   "source": [
    "save_results_complet(Wtrain, Wval, Wtest)"
   ]
  },
  {
   "cell_type": "code",
   "execution_count": 36,
   "id": "646608f4",
   "metadata": {},
   "outputs": [
    {
     "data": {
      "text/plain": [
       "array([0.01743197, 0.01702806])"
      ]
     },
     "execution_count": 36,
     "metadata": {},
     "output_type": "execute_result"
    }
   ],
   "source": [
    "error"
   ]
  },
  {
   "cell_type": "code",
   "execution_count": 33,
   "id": "fb87a5fc",
   "metadata": {},
   "outputs": [
    {
     "data": {
      "text/plain": [
       "0.01728316326530612"
      ]
     },
     "execution_count": 33,
     "metadata": {},
     "output_type": "execute_result"
    }
   ],
   "source": [
    "calculate_error(ytest, Wtest)"
   ]
  },
  {
   "cell_type": "code",
   "execution_count": 35,
   "id": "911f1bd5",
   "metadata": {},
   "outputs": [
    {
     "data": {
      "text/plain": [
       "[array([nan,  1., nan,  1.,  1.,  1., nan, nan, nan]),\n",
       " array([nan,  1., nan,  1.,  1.,  1.,  1.,  1.,  1.])]"
      ]
     },
     "execution_count": 35,
     "metadata": {},
     "output_type": "execute_result"
    }
   ],
   "source": [
    "W"
   ]
  },
  {
   "cell_type": "code",
   "execution_count": 41,
   "id": "2645bec7",
   "metadata": {},
   "outputs": [
    {
     "data": {
      "text/plain": [
       "32"
      ]
     },
     "execution_count": 41,
     "metadata": {},
     "output_type": "execute_result"
    }
   ],
   "source": [
    "len(w_hist['W'])"
   ]
  },
  {
   "cell_type": "code",
   "execution_count": null,
   "id": "93e87db5",
   "metadata": {},
   "outputs": [],
   "source": []
  },
  {
   "cell_type": "code",
   "execution_count": null,
   "id": "1114715f",
   "metadata": {},
   "outputs": [],
   "source": []
  },
  {
   "cell_type": "code",
   "execution_count": null,
   "id": "d4e67c6a",
   "metadata": {},
   "outputs": [],
   "source": []
  },
  {
   "cell_type": "code",
   "execution_count": null,
   "id": "b82c3dff",
   "metadata": {},
   "outputs": [],
   "source": []
  }
 ],
 "metadata": {
  "kernelspec": {
   "display_name": "Python 3",
   "language": "python",
   "name": "python3"
  },
  "language_info": {
   "codemirror_mode": {
    "name": "ipython",
    "version": 3
   },
   "file_extension": ".py",
   "mimetype": "text/x-python",
   "name": "python",
   "nbconvert_exporter": "python",
   "pygments_lexer": "ipython3",
   "version": "3.8.8"
  }
 },
 "nbformat": 4,
 "nbformat_minor": 5
}
