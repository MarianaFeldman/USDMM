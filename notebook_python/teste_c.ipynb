{
 "cells": [
  {
   "cell_type": "code",
   "execution_count": 7,
   "metadata": {},
   "outputs": [],
   "source": [
    "%%script bash\n",
    "\n",
    "# Aqui é a célula de código onde você compila o seu código C\n",
    "gcc -shared -o womc.so -fPIC USDMM_teste.c\n"
   ]
  },
  {
   "cell_type": "code",
   "execution_count": 8,
   "metadata": {},
   "outputs": [
    {
     "name": "stdout",
     "output_type": "stream",
     "text": [
      "Valor de nlayer: 1\n"
     ]
    }
   ],
   "source": [
    "import ctypes\n",
    "\n",
    "# Carrega a biblioteca compartilhada\n",
    "lib = ctypes.CDLL('./womc.so')\n",
    "\n",
    "# Define os tipos de argumentos e retorno para a função create_WOMC\n",
    "lib.create_WOMC.argtypes = [\n",
    "    ctypes.c_int, ctypes.c_int, ctypes.c_int, ctypes.c_int, ctypes.c_int,\n",
    "    ctypes.c_char_p, ctypes.c_int, ctypes.c_int, ctypes.c_int,\n",
    "    ctypes.c_int, ctypes.c_char_p, ctypes.c_char_p, ctypes.c_int, ctypes.c_int,\n",
    "    ctypes.c_int, ctypes.c_int\n",
    "]\n",
    "lib.create_WOMC.restype = ctypes.POINTER(ctypes.c_void_p)\n",
    "\n",
    "# Chama a função create_WOMC\n",
    "womc_ptr = lib.create_WOMC(2, 3, 10, 10, 10, b\"iou\", 8, 100, 50, 10, b\"results\", b\"V2\", 0, 0, 50, 20)\n",
    "\n",
    "# A partir daqui, você pode acessar os campos do objeto WOMC através do ponteiro `womc_ptr`\n",
    "# Por exemplo, para acessar o campo nlayer, você faria assim:\n",
    "nlayer = ctypes.cast(womc_ptr, ctypes.POINTER(ctypes.c_int)).contents.value\n",
    "print(\"Valor de nlayer:\", nlayer)\n",
    "\n",
    "# Lembre-se de liberar a memória alocada para o objeto WOMC quando você terminar de usá-lo\n",
    "# Libere a memória alocada para o objeto WOMC\n",
    "#lib.free_WOMC.argtypes = [ctypes.POINTER(ctypes.c_void_p)]\n",
    "#lib.free_WOMC(womc_ptr)\n"
   ]
  },
  {
   "cell_type": "code",
   "execution_count": null,
   "metadata": {},
   "outputs": [],
   "source": [
    "(int nlayer, int wlen, int train_size, int val_size, int test_size, char* error_type, int neighbors_sample, int epoch_f, int epoch_w, int batch, char* path_results, char* name_save, int seed, int parallel, int early_stop_round_f, int early_stop_round_w) {\n"
   ]
  },
  {
   "cell_type": "code",
   "execution_count": null,
   "metadata": {},
   "outputs": [],
   "source": [
    "nlayer = 2, # INT -> Number of operators in each layer\n",
    "    wlen = 3,  # INT -> Size of the operator (wlen*wlen)\n",
    "    train_size = 10, # INT -> Number of images to train \n",
    "    val_size = 10, # INT -> Number of images to validate\n",
    "    test_size = 10, # INT -> Number of images to test\n",
    "    error_type = 'iou', # 'mae' / 'iou' -> type of error\n",
    "    neighbors_sample = 8, # INT/False -> Number of neighbors to sort\n",
    "    epoch_f = 100, # INT -> Number of epochs for the boolean function lattice (fixed windows)\n",
    "    epoch_w = 50, # INT -> Number of epochs for the windows lattice\n",
    "    batch = 1, # INT -> Batch size\n",
    "    path_results = 'results_V2', # STR -> file where we want to save the results\n",
    "    name_save='_V2', # STR -> pos fixed name for the results saved\n",
    "    seed = 0, #INT -> seed for reproducibilit\n",
    "    parallel = False, # True/False -> use parallel (True) or sequential (False)\n",
    "    early_stop_round_f = 1e6, #20, #INT -> max number of epochs without changes in the boolean function lattice\n",
    "    early_stop_round_w = 1e6"
   ]
  },
  {
   "cell_type": "code",
   "execution_count": 5,
   "metadata": {},
   "outputs": [
    {
     "name": "stdout",
     "output_type": "stream",
     "text": [
      "x86_64\n"
     ]
    }
   ],
   "source": [
    "import platform\n",
    "print(platform.machine())\n"
   ]
  },
  {
   "cell_type": "code",
   "execution_count": null,
   "metadata": {},
   "outputs": [],
   "source": []
  }
 ],
 "metadata": {
  "kernelspec": {
   "display_name": "envpy",
   "language": "python",
   "name": "python3"
  },
  "language_info": {
   "codemirror_mode": {
    "name": "ipython",
    "version": 3
   },
   "file_extension": ".py",
   "mimetype": "text/x-python",
   "name": "python",
   "nbconvert_exporter": "python",
   "pygments_lexer": "ipython3",
   "version": "3.9.13"
  },
  "orig_nbformat": 4
 },
 "nbformat": 4,
 "nbformat_minor": 2
}
