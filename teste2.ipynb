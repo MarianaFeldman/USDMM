{
 "cells": [
  {
   "cell_type": "code",
   "execution_count": 4,
   "metadata": {},
   "outputs": [],
   "source": [
    "import numpy as np\n",
    "import itertools\n",
    "import cv2\n",
    "import random\n",
    "import copy\n",
    "from time import sleep, time\n",
    "import pickle\n",
    "import concurrent.futures\n",
    "import os\n",
    "import pandas as pd"
   ]
  },
  {
   "cell_type": "code",
   "execution_count": 1,
   "metadata": {},
   "outputs": [
    {
     "name": "stdout",
     "output_type": "stream",
     "text": [
      "Janela Inicializada: [array([nan,  1., nan,  1.,  1.,  1., nan,  1., nan]), array([nan,  1., nan,  1.,  1.,  1., nan,  1., nan])]\n",
      "Resultados serão salvos em  results_V2\n",
      "------------------------------------------------------------------\n"
     ]
    }
   ],
   "source": [
    "import USDMM_v3 as USDMM\n",
    "\n",
    "WOMC = USDMM.WOMC(\n",
    "    new = True, # True/ STR -> If True inicialize with the cross operator/ If STR it will opens the file with the name passed\n",
    "    nlayer = 2, # INT -> Number of operators in each layer\n",
    "    wlen = 3,  # INT -> Size of the operator (wlen*wlen)\n",
    "    train_size = 10, # INT -> Number of images to train \n",
    "    val_size = 10, # INT -> Number of images to validate\n",
    "    test_size = 10, # INT -> Number of images to test\n",
    "    error_type = 'iou', # 'mae' / 'iou' -> type of error\n",
    "    neighbors_sample = False, # INT/False -> Number of neighbors to sort\n",
    "    epoch_f = 10, # INT -> Number of epochs for the boolean function lattice (fixed windows)\n",
    "    epoch_w = 50, # INT -> Number of epochs for the windows lattice\n",
    "    batch = 10, # INT -> Batch size\n",
    "    path_results = 'results_V2', # STR -> file where we want to save the results\n",
    "    name_save='_V2', # STR -> pos fixed name for the results saved\n",
    "    seed = 0, #INT -> seed for reproducibilit\n",
    "    parallel = True, # True/False -> use parallel (True) or sequential (False)\n",
    "    early_stop_round_f = 20, #INT -> max number of epochs without changes in the boolean function lattice\n",
    "    early_stop_round_w = 10 #INT -> max number of epochs without changes in the windows lattice\n",
    ")\n"
   ]
  },
  {
   "cell_type": "code",
   "execution_count": 5,
   "metadata": {},
   "outputs": [
    {
     "data": {
      "text/plain": [
       "-1.0"
      ]
     },
     "execution_count": 5,
     "metadata": {},
     "output_type": "execute_result"
    }
   ],
   "source": [
    "np.tanh(-100)"
   ]
  },
  {
   "cell_type": "code",
   "execution_count": 6,
   "metadata": {},
   "outputs": [
    {
     "data": {
      "text/plain": [
       "{'l0': {'W0': array([[-1, -1, -1, -1, -1],\n",
       "         [-1, -1, -1, -1,  1],\n",
       "         [-1, -1, -1,  1, -1],\n",
       "         [-1, -1, -1,  1,  1],\n",
       "         [-1, -1,  1, -1, -1],\n",
       "         [-1, -1,  1, -1,  1],\n",
       "         [-1, -1,  1,  1, -1],\n",
       "         [-1, -1,  1,  1,  1],\n",
       "         [-1,  1, -1, -1, -1],\n",
       "         [-1,  1, -1, -1,  1],\n",
       "         [-1,  1, -1,  1, -1],\n",
       "         [-1,  1, -1,  1,  1],\n",
       "         [-1,  1,  1, -1, -1],\n",
       "         [-1,  1,  1, -1,  1],\n",
       "         [-1,  1,  1,  1, -1],\n",
       "         [-1,  1,  1,  1,  1],\n",
       "         [ 1, -1, -1, -1, -1],\n",
       "         [ 1, -1, -1, -1,  1],\n",
       "         [ 1, -1, -1,  1, -1],\n",
       "         [ 1, -1, -1,  1,  1],\n",
       "         [ 1, -1,  1, -1, -1],\n",
       "         [ 1, -1,  1, -1,  1],\n",
       "         [ 1, -1,  1,  1, -1],\n",
       "         [ 1, -1,  1,  1,  1],\n",
       "         [ 1,  1, -1, -1, -1],\n",
       "         [ 1,  1, -1, -1,  1],\n",
       "         [ 1,  1, -1,  1, -1],\n",
       "         [ 1,  1, -1,  1,  1],\n",
       "         [ 1,  1,  1, -1, -1],\n",
       "         [ 1,  1,  1, -1,  1],\n",
       "         [ 1,  1,  1,  1, -1],\n",
       "         [ 1,  1,  1,  1,  1]]),\n",
       "  'b0': array([[-4],\n",
       "         [-4],\n",
       "         [-4],\n",
       "         [-4],\n",
       "         [-4],\n",
       "         [-4],\n",
       "         [-4],\n",
       "         [-4],\n",
       "         [-4],\n",
       "         [-4],\n",
       "         [-4],\n",
       "         [-4],\n",
       "         [-4],\n",
       "         [-4],\n",
       "         [-4],\n",
       "         [-4],\n",
       "         [-4],\n",
       "         [-4],\n",
       "         [-4],\n",
       "         [-4],\n",
       "         [-4],\n",
       "         [-4],\n",
       "         [-4],\n",
       "         [-4],\n",
       "         [-4],\n",
       "         [-4],\n",
       "         [-4],\n",
       "         [-4],\n",
       "         [-4],\n",
       "         [-4],\n",
       "         [-4],\n",
       "         [-4]]),\n",
       "  'W1': array([[-0.04420681, -0.00605961, -0.11338691, -0.01606021,  0.02795047,\n",
       "           0.06805789,  0.12742489, -0.08738852,  0.16242815, -0.08074503,\n",
       "          -0.02246777, -0.01323366,  0.17001564,  0.02972736,  0.06031805,\n",
       "           0.00621533, -0.11430498,  0.00883224,  0.09803959, -0.06214688,\n",
       "          -0.01411041,  0.02932707, -0.1436073 ,  0.01018753, -0.02642354,\n",
       "           0.05186061, -0.20851397,  0.09830018, -0.0031588 ,  0.14160709,\n",
       "          -0.04532496, -0.00400846]]),\n",
       "  'b1': array([[0.]])},\n",
       " 'l1': {'W0': array([[-1, -1, -1, -1, -1],\n",
       "         [-1, -1, -1, -1,  1],\n",
       "         [-1, -1, -1,  1, -1],\n",
       "         [-1, -1, -1,  1,  1],\n",
       "         [-1, -1,  1, -1, -1],\n",
       "         [-1, -1,  1, -1,  1],\n",
       "         [-1, -1,  1,  1, -1],\n",
       "         [-1, -1,  1,  1,  1],\n",
       "         [-1,  1, -1, -1, -1],\n",
       "         [-1,  1, -1, -1,  1],\n",
       "         [-1,  1, -1,  1, -1],\n",
       "         [-1,  1, -1,  1,  1],\n",
       "         [-1,  1,  1, -1, -1],\n",
       "         [-1,  1,  1, -1,  1],\n",
       "         [-1,  1,  1,  1, -1],\n",
       "         [-1,  1,  1,  1,  1],\n",
       "         [ 1, -1, -1, -1, -1],\n",
       "         [ 1, -1, -1, -1,  1],\n",
       "         [ 1, -1, -1,  1, -1],\n",
       "         [ 1, -1, -1,  1,  1],\n",
       "         [ 1, -1,  1, -1, -1],\n",
       "         [ 1, -1,  1, -1,  1],\n",
       "         [ 1, -1,  1,  1, -1],\n",
       "         [ 1, -1,  1,  1,  1],\n",
       "         [ 1,  1, -1, -1, -1],\n",
       "         [ 1,  1, -1, -1,  1],\n",
       "         [ 1,  1, -1,  1, -1],\n",
       "         [ 1,  1, -1,  1,  1],\n",
       "         [ 1,  1,  1, -1, -1],\n",
       "         [ 1,  1,  1, -1,  1],\n",
       "         [ 1,  1,  1,  1, -1],\n",
       "         [ 1,  1,  1,  1,  1]]),\n",
       "  'b0': array([[-4],\n",
       "         [-4],\n",
       "         [-4],\n",
       "         [-4],\n",
       "         [-4],\n",
       "         [-4],\n",
       "         [-4],\n",
       "         [-4],\n",
       "         [-4],\n",
       "         [-4],\n",
       "         [-4],\n",
       "         [-4],\n",
       "         [-4],\n",
       "         [-4],\n",
       "         [-4],\n",
       "         [-4],\n",
       "         [-4],\n",
       "         [-4],\n",
       "         [-4],\n",
       "         [-4],\n",
       "         [-4],\n",
       "         [-4],\n",
       "         [-4],\n",
       "         [-4],\n",
       "         [-4],\n",
       "         [-4],\n",
       "         [-4],\n",
       "         [-4],\n",
       "         [-4],\n",
       "         [-4],\n",
       "         [-4],\n",
       "         [-4]]),\n",
       "  'W1': array([[ 0.22067409, -0.34900812,  0.00675368, -0.10059024,  0.06112989,\n",
       "           0.06018706, -0.0920425 ,  0.02056587, -0.05388653, -0.03033231,\n",
       "          -0.13032859,  0.05192279, -0.00508634, -0.08209239, -0.03993466,\n",
       "           0.04408728, -0.05047441,  0.00657218, -0.04073581,  0.14116253,\n",
       "          -0.10623017,  0.0126308 ,  0.01283571, -0.13791326, -0.0608737 ,\n",
       "          -0.12476323, -0.10538191, -0.01359357,  0.01174215, -0.09602286,\n",
       "          -0.05875683,  0.13175942]]),\n",
       "  'b1': array([[0.]])}}"
      ]
     },
     "execution_count": 6,
     "metadata": {},
     "output_type": "execute_result"
    }
   ],
   "source": [
    "par = WOMC.initialize_parameters_nn([np.array([np.nan,  1., np.nan,  1.,  1.,  1., np.nan,  1., np.nan]),np.array([np.nan,  1., np.nan,  1.,  1.,  1., np.nan,  1., np.nan])])\n",
    "par"
   ]
  },
  {
   "cell_type": "code",
   "execution_count": null,
   "metadata": {},
   "outputs": [],
   "source": []
  },
  {
   "cell_type": "code",
   "execution_count": 4,
   "metadata": {},
   "outputs": [
    {
     "data": {
      "text/plain": [
       "2"
      ]
     },
     "execution_count": 4,
     "metadata": {},
     "output_type": "execute_result"
    }
   ],
   "source": [
    "len(par)"
   ]
  },
  {
   "cell_type": "code",
   "execution_count": 6,
   "metadata": {},
   "outputs": [
    {
     "data": {
      "text/plain": [
       "{'W0': array([[-1, -1, -1, -1, -1],\n",
       "        [-1, -1, -1, -1,  1],\n",
       "        [-1, -1, -1,  1, -1],\n",
       "        [-1, -1, -1,  1,  1],\n",
       "        [-1, -1,  1, -1, -1],\n",
       "        [-1, -1,  1, -1,  1],\n",
       "        [-1, -1,  1,  1, -1],\n",
       "        [-1, -1,  1,  1,  1],\n",
       "        [-1,  1, -1, -1, -1],\n",
       "        [-1,  1, -1, -1,  1],\n",
       "        [-1,  1, -1,  1, -1],\n",
       "        [-1,  1, -1,  1,  1],\n",
       "        [-1,  1,  1, -1, -1],\n",
       "        [-1,  1,  1, -1,  1],\n",
       "        [-1,  1,  1,  1, -1],\n",
       "        [-1,  1,  1,  1,  1],\n",
       "        [ 1, -1, -1, -1, -1],\n",
       "        [ 1, -1, -1, -1,  1],\n",
       "        [ 1, -1, -1,  1, -1],\n",
       "        [ 1, -1, -1,  1,  1],\n",
       "        [ 1, -1,  1, -1, -1],\n",
       "        [ 1, -1,  1, -1,  1],\n",
       "        [ 1, -1,  1,  1, -1],\n",
       "        [ 1, -1,  1,  1,  1],\n",
       "        [ 1,  1, -1, -1, -1],\n",
       "        [ 1,  1, -1, -1,  1],\n",
       "        [ 1,  1, -1,  1, -1],\n",
       "        [ 1,  1, -1,  1,  1],\n",
       "        [ 1,  1,  1, -1, -1],\n",
       "        [ 1,  1,  1, -1,  1],\n",
       "        [ 1,  1,  1,  1, -1],\n",
       "        [ 1,  1,  1,  1,  1]]),\n",
       " 'b0': array([[-4],\n",
       "        [-4],\n",
       "        [-4],\n",
       "        [-4],\n",
       "        [-4],\n",
       "        [-4],\n",
       "        [-4],\n",
       "        [-4],\n",
       "        [-4],\n",
       "        [-4],\n",
       "        [-4],\n",
       "        [-4],\n",
       "        [-4],\n",
       "        [-4],\n",
       "        [-4],\n",
       "        [-4],\n",
       "        [-4],\n",
       "        [-4],\n",
       "        [-4],\n",
       "        [-4],\n",
       "        [-4],\n",
       "        [-4],\n",
       "        [-4],\n",
       "        [-4],\n",
       "        [-4],\n",
       "        [-4],\n",
       "        [-4],\n",
       "        [-4],\n",
       "        [-4],\n",
       "        [-4],\n",
       "        [-4],\n",
       "        [-4]]),\n",
       " 'W1': array([[-0.07756909,  0.05002752, -0.07155376, -0.10710514, -0.09042236,\n",
       "          0.02383445,  0.08727371, -0.16267052, -0.03144215, -0.09312907,\n",
       "         -0.067334  ,  0.04396962,  0.17413874,  0.2049053 , -0.05622716,\n",
       "          0.10408664, -0.00753126,  0.04756858,  0.03777511, -0.02411096,\n",
       "          0.20130361, -0.06580343,  0.06687531, -0.16121213,  0.15330016,\n",
       "          0.07650532,  0.11023198,  0.04409808, -0.05152132,  0.08313955,\n",
       "          0.08678772, -0.09642367]]),\n",
       " 'b1': array([[0.]])}"
      ]
     },
     "execution_count": 6,
     "metadata": {},
     "output_type": "execute_result"
    }
   ],
   "source": [
    "par['l0']"
   ]
  },
  {
   "cell_type": "code",
   "execution_count": 9,
   "metadata": {},
   "outputs": [
    {
     "name": "stdout",
     "output_type": "stream",
     "text": [
      "l0 - W0 - (32, 5)\n",
      "l0 - b0 - (32, 1)\n",
      "l0 - W1 - (1, 32)\n",
      "l0 - b1 - (1, 1)\n",
      "l1 - W0 - (32, 5)\n",
      "l1 - b0 - (32, 1)\n",
      "l1 - W1 - (1, 32)\n",
      "l1 - b1 - (1, 1)\n"
     ]
    }
   ],
   "source": [
    "for i in par:\n",
    "    for j in par[i]:\n",
    "        print(f'{i} - {j} - {par[i][j].shape}')"
   ]
  },
  {
   "cell_type": "code",
   "execution_count": 13,
   "metadata": {},
   "outputs": [
    {
     "data": {
      "text/plain": [
       "array([[ 0.0119345 ],\n",
       "       [-0.19912914],\n",
       "       [ 0.07604493],\n",
       "       [-0.04787002],\n",
       "       [-0.08279938]])"
      ]
     },
     "execution_count": 13,
     "metadata": {},
     "output_type": "execute_result"
    }
   ],
   "source": [
    "par['W2']"
   ]
  },
  {
   "cell_type": "code",
   "execution_count": 4,
   "metadata": {},
   "outputs": [],
   "source": [
    "layer_dims = [5, 32, 1, 5, 32, 1]"
   ]
  },
  {
   "cell_type": "code",
   "execution_count": 9,
   "metadata": {},
   "outputs": [
    {
     "data": {
      "text/plain": [
       "array([[0.]])"
      ]
     },
     "execution_count": 9,
     "metadata": {},
     "output_type": "execute_result"
    }
   ],
   "source": [
    "np.zeros((1, 1))"
   ]
  },
  {
   "cell_type": "code",
   "execution_count": 4,
   "metadata": {},
   "outputs": [
    {
     "data": {
      "text/plain": [
       "array([[-4]])"
      ]
     },
     "execution_count": 4,
     "metadata": {},
     "output_type": "execute_result"
    }
   ],
   "source": [
    "np.array([-5+1]*1).reshape(1,1)"
   ]
  },
  {
   "cell_type": "code",
   "execution_count": 4,
   "metadata": {},
   "outputs": [
    {
     "data": {
      "text/plain": [
       "[5.0, 32.0, 1, 5.0, 32.0, 1]"
      ]
     },
     "execution_count": 4,
     "metadata": {},
     "output_type": "execute_result"
    }
   ],
   "source": [
    "np.array([-5+1]*layer_dims[index+1]).reshape(layer_dims[index+1],1)"
   ]
  },
  {
   "cell_type": "code",
   "execution_count": 6,
   "metadata": {},
   "outputs": [
    {
     "ename": "TypeError",
     "evalue": "int() argument must be a string, a bytes-like object or a number, not 'list'",
     "output_type": "error",
     "traceback": [
      "\u001b[1;31m---------------------------------------------------------------------------\u001b[0m",
      "\u001b[1;31mTypeError\u001b[0m                                 Traceback (most recent call last)",
      "\u001b[1;32m<ipython-input-6-602f274e0ffd>\u001b[0m in \u001b[0;36m<module>\u001b[1;34m\u001b[0m\n\u001b[0;32m      1\u001b[0m \u001b[0ml\u001b[0m \u001b[1;33m=\u001b[0m \u001b[1;33m[\u001b[0m\u001b[1;36m5.0\u001b[0m\u001b[1;33m,\u001b[0m \u001b[1;36m32.0\u001b[0m\u001b[1;33m,\u001b[0m \u001b[1;36m1\u001b[0m\u001b[1;33m,\u001b[0m \u001b[1;36m5.0\u001b[0m\u001b[1;33m,\u001b[0m \u001b[1;36m32.0\u001b[0m\u001b[1;33m,\u001b[0m \u001b[1;36m1\u001b[0m\u001b[1;33m]\u001b[0m\u001b[1;33m\u001b[0m\u001b[1;33m\u001b[0m\u001b[0m\n\u001b[1;32m----> 2\u001b[1;33m \u001b[0mint\u001b[0m\u001b[1;33m(\u001b[0m\u001b[0ml\u001b[0m\u001b[1;33m)\u001b[0m\u001b[1;33m\u001b[0m\u001b[1;33m\u001b[0m\u001b[0m\n\u001b[0m",
      "\u001b[1;31mTypeError\u001b[0m: int() argument must be a string, a bytes-like object or a number, not 'list'"
     ]
    }
   ],
   "source": [
    "l = [5.0, 32.0, 1, 5.0, 32.0, 1]\n",
    "int(l)"
   ]
  },
  {
   "cell_type": "code",
   "execution_count": 6,
   "metadata": {},
   "outputs": [
    {
     "ename": "TypeError",
     "evalue": "'float' object cannot be interpreted as an integer",
     "output_type": "error",
     "traceback": [
      "\u001b[1;31m---------------------------------------------------------------------------\u001b[0m",
      "\u001b[1;31mTypeError\u001b[0m                                 Traceback (most recent call last)",
      "\u001b[1;32m<ipython-input-6-5073e43d0239>\u001b[0m in \u001b[0;36m<module>\u001b[1;34m\u001b[0m\n\u001b[1;32m----> 1\u001b[1;33m \u001b[0mnp\u001b[0m\u001b[1;33m.\u001b[0m\u001b[0mrandom\u001b[0m\u001b[1;33m.\u001b[0m\u001b[0mrandn\u001b[0m\u001b[1;33m(\u001b[0m\u001b[0mpar\u001b[0m\u001b[1;33m[\u001b[0m\u001b[1;36m1\u001b[0m\u001b[1;33m+\u001b[0m\u001b[1;36m1\u001b[0m\u001b[1;33m]\u001b[0m\u001b[1;33m,\u001b[0m \u001b[1;36m32.\u001b[0m\u001b[1;33m)\u001b[0m \u001b[1;33m*\u001b[0m \u001b[1;36m0.1\u001b[0m\u001b[1;33m\u001b[0m\u001b[1;33m\u001b[0m\u001b[0m\n\u001b[0m",
      "\u001b[1;32mmtrand.pyx\u001b[0m in \u001b[0;36mnumpy.random.mtrand.RandomState.randn\u001b[1;34m()\u001b[0m\n",
      "\u001b[1;32mmtrand.pyx\u001b[0m in \u001b[0;36mnumpy.random.mtrand.RandomState.standard_normal\u001b[1;34m()\u001b[0m\n",
      "\u001b[1;32m_common.pyx\u001b[0m in \u001b[0;36mnumpy.random._common.cont\u001b[1;34m()\u001b[0m\n",
      "\u001b[1;31mTypeError\u001b[0m: 'float' object cannot be interpreted as an integer"
     ]
    }
   ],
   "source": [
    "np.random.randn(par[1+1], 32.) * 0.1"
   ]
  },
  {
   "cell_type": "code",
   "execution_count": null,
   "metadata": {},
   "outputs": [],
   "source": []
  }
 ],
 "metadata": {
  "kernelspec": {
   "display_name": "pyenv",
   "language": "python",
   "name": "python3"
  },
  "language_info": {
   "codemirror_mode": {
    "name": "ipython",
    "version": 3
   },
   "file_extension": ".py",
   "mimetype": "text/x-python",
   "name": "python",
   "nbconvert_exporter": "python",
   "pygments_lexer": "ipython3",
   "version": "3.8.8"
  }
 },
 "nbformat": 4,
 "nbformat_minor": 2
}
