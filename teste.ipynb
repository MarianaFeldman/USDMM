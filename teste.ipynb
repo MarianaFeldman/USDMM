{
 "cells": [
  {
   "cell_type": "code",
   "execution_count": 1,
   "metadata": {},
   "outputs": [],
   "source": [
    "import numpy as np\n",
    "import itertools\n",
    "import cv2\n",
    "import random\n",
    "import copy\n",
    "from time import sleep, time\n",
    "import pickle\n",
    "import concurrent.futures\n",
    "import os\n",
    "import pandas as pd"
   ]
  },
  {
   "cell_type": "code",
   "execution_count": 2,
   "metadata": {},
   "outputs": [
    {
     "name": "stdout",
     "output_type": "stream",
     "text": [
      "Janela Inicializada: [array([nan,  1., nan,  1.,  1.,  1., nan,  1., nan]), array([nan,  1., nan,  1.,  1.,  1., nan,  1., nan])]\n",
      "Joint Inicializada: [array([['00000', '1'],\n",
      "       ['00001', '0'],\n",
      "       ['00010', '0'],\n",
      "       ['00011', '1'],\n",
      "       ['00100', '0'],\n",
      "       ['00101', '1'],\n",
      "       ['00110', '1'],\n",
      "       ['00111', '1'],\n",
      "       ['01000', '1'],\n",
      "       ['01001', '1'],\n",
      "       ['01010', '1'],\n",
      "       ['01011', '0'],\n",
      "       ['01100', '1'],\n",
      "       ['01101', '0'],\n",
      "       ['01110', '0'],\n",
      "       ['01111', '1'],\n",
      "       ['10000', '0'],\n",
      "       ['10001', '0'],\n",
      "       ['10010', '1'],\n",
      "       ['10011', '0'],\n",
      "       ['10100', '1'],\n",
      "       ['10101', '0'],\n",
      "       ['10110', '1'],\n",
      "       ['10111', '1'],\n",
      "       ['11000', '0'],\n",
      "       ['11001', '0'],\n",
      "       ['11010', '0'],\n",
      "       ['11011', '1'],\n",
      "       ['11100', '0'],\n",
      "       ['11101', '0'],\n",
      "       ['11110', '0'],\n",
      "       ['11111', '0']], dtype='<U11'), array([['00000', '0'],\n",
      "       ['00001', '1'],\n",
      "       ['00010', '0'],\n",
      "       ['00011', '0'],\n",
      "       ['00100', '1'],\n",
      "       ['00101', '0'],\n",
      "       ['00110', '1'],\n",
      "       ['00111', '1'],\n",
      "       ['01000', '1'],\n",
      "       ['01001', '0'],\n",
      "       ['01010', '0'],\n",
      "       ['01011', '1'],\n",
      "       ['01100', '0'],\n",
      "       ['01101', '0'],\n",
      "       ['01110', '0'],\n",
      "       ['01111', '0'],\n",
      "       ['10000', '1'],\n",
      "       ['10001', '0'],\n",
      "       ['10010', '0'],\n",
      "       ['10011', '0'],\n",
      "       ['10100', '0'],\n",
      "       ['10101', '1'],\n",
      "       ['10110', '0'],\n",
      "       ['10111', '0'],\n",
      "       ['11000', '1'],\n",
      "       ['11001', '1'],\n",
      "       ['11010', '1'],\n",
      "       ['11011', '0'],\n",
      "       ['11100', '0'],\n",
      "       ['11101', '1'],\n",
      "       ['11110', '1'],\n",
      "       ['11111', '1']], dtype='<U11')]\n",
      "Resultados serão salvos em  results_V2\n",
      "------------------------------------------------------------------\n"
     ]
    }
   ],
   "source": [
    "import USDMM_v2 as USDMM_2\n",
    "\n",
    "WOMC = USDMM_2.WOMC(\n",
    "    new = True, # True/ STR -> If True inicialize with the cross operator/ If STR it will opens the file with the name passed\n",
    "    nlayer = 2, # INT -> Number of operators in each layer\n",
    "    wlen = 3,  # INT -> Size of the operator (wlen*wlen)\n",
    "    train_size = 10, # INT -> Number of images to train \n",
    "    val_size = 10, # INT -> Number of images to validate\n",
    "    test_size = 10, # INT -> Number of images to test\n",
    "    error_type = 'iou', # 'mae' / 'iou' -> type of error\n",
    "    neighbors_sample = False, # INT/False -> Number of neighbors to sort\n",
    "    epoch_f = 10, # INT -> Number of epochs for the boolean function lattice (fixed windows)\n",
    "    epoch_w = 50, # INT -> Number of epochs for the windows lattice\n",
    "    batch = 10, # INT -> Batch size\n",
    "    path_results = 'results_V2', # STR -> file where we want to save the results\n",
    "    name_save='_V2', # STR -> pos fixed name for the results saved\n",
    "    seed = 0, #INT -> seed for reproducibilit\n",
    "    parallel = True, # True/False -> use parallel (True) or sequential (False)\n",
    "    early_stop_round_f = 20, #INT -> max number of epochs without changes in the boolean function lattice\n",
    "    early_stop_round_w = 10 #INT -> max number of epochs without changes in the windows lattice\n",
    ")\n",
    "\n",
    "\n",
    "#WOMC.results_after_fit()"
   ]
  },
  {
   "cell_type": "code",
   "execution_count": 2,
   "metadata": {},
   "outputs": [],
   "source": [
    "Wtrain2,w_error2, W2, joint2 = WOMC.test2()"
   ]
  },
  {
   "cell_type": "code",
   "execution_count": 3,
   "metadata": {},
   "outputs": [
    {
     "name": "stdout",
     "output_type": "stream",
     "text": [
      "inicial error: 0.9819856336725579\n",
      "Epoch: 1: / error: 0.8794087900722621 / ix_run: 00\n",
      "Min error!!\n",
      "Epoch: 2: / error: 0.8202385515516838 / ix_run: 08\n",
      "Min error!!\n",
      "Epoch: 3: / error: 0.7492607248438035 / ix_run: 028\n",
      "Min error!!\n",
      "Epoch: 4: / error: 0.7325039955478129 / ix_run: 022\n",
      "Min error!!\n",
      "Epoch: 5: / error: 0.7143034455366941 / ix_run: 023\n",
      "Min error!!\n",
      "Epoch: 6: / error: 0.658144606811632 / ix_run: 07\n",
      "Min error!!\n",
      "Epoch: 7: / error: 0.6432813063414392 / ix_run: 015\n",
      "Min error!!\n",
      "Epoch: 8: / error: 0.6252427460365892 / ix_run: 027\n",
      "Min error!!\n",
      "Epoch: 9: / error: 0.6190743481502106 / ix_run: 06\n",
      "Min error!!\n",
      "Epoch: 10: / error: 0.6174760123377236 / ix_run: 012\n",
      "Min error!!\n"
     ]
    },
    {
     "data": {
      "text/plain": [
       "(array([0.61747601, 0.61736838]), 10)"
      ]
     },
     "execution_count": 3,
     "metadata": {},
     "output_type": "execute_result"
    }
   ],
   "source": [
    "joint3, error3,f_epoch_min = WOMC.get_error_window_parallel(W2,joint2,0)\n",
    "error3, f_epoch_min"
   ]
  },
  {
   "cell_type": "code",
   "execution_count": 5,
   "metadata": {},
   "outputs": [
    {
     "name": "stdout",
     "output_type": "stream",
     "text": [
      "Janela Inicializada: [array([nan,  1., nan,  1.,  1.,  1., nan,  1., nan]), array([nan,  1., nan,  1.,  1.,  1., nan,  1., nan])]\n",
      "Joint Inicializada: [array([['00000', '1'],\n",
      "       ['00001', '0'],\n",
      "       ['00010', '0'],\n",
      "       ['00011', '1'],\n",
      "       ['00100', '0'],\n",
      "       ['00101', '1'],\n",
      "       ['00110', '1'],\n",
      "       ['00111', '1'],\n",
      "       ['01000', '1'],\n",
      "       ['01001', '1'],\n",
      "       ['01010', '1'],\n",
      "       ['01011', '0'],\n",
      "       ['01100', '1'],\n",
      "       ['01101', '0'],\n",
      "       ['01110', '0'],\n",
      "       ['01111', '1'],\n",
      "       ['10000', '0'],\n",
      "       ['10001', '0'],\n",
      "       ['10010', '1'],\n",
      "       ['10011', '0'],\n",
      "       ['10100', '1'],\n",
      "       ['10101', '0'],\n",
      "       ['10110', '1'],\n",
      "       ['10111', '1'],\n",
      "       ['11000', '0'],\n",
      "       ['11001', '0'],\n",
      "       ['11010', '0'],\n",
      "       ['11011', '1'],\n",
      "       ['11100', '0'],\n",
      "       ['11101', '0'],\n",
      "       ['11110', '0'],\n",
      "       ['11111', '0']], dtype='<U11'), array([['00000', '0'],\n",
      "       ['00001', '1'],\n",
      "       ['00010', '0'],\n",
      "       ['00011', '0'],\n",
      "       ['00100', '1'],\n",
      "       ['00101', '0'],\n",
      "       ['00110', '1'],\n",
      "       ['00111', '1'],\n",
      "       ['01000', '1'],\n",
      "       ['01001', '0'],\n",
      "       ['01010', '0'],\n",
      "       ['01011', '1'],\n",
      "       ['01100', '0'],\n",
      "       ['01101', '0'],\n",
      "       ['01110', '0'],\n",
      "       ['01111', '0'],\n",
      "       ['10000', '1'],\n",
      "       ['10001', '0'],\n",
      "       ['10010', '0'],\n",
      "       ['10011', '0'],\n",
      "       ['10100', '0'],\n",
      "       ['10101', '1'],\n",
      "       ['10110', '0'],\n",
      "       ['10111', '0'],\n",
      "       ['11000', '1'],\n",
      "       ['11001', '1'],\n",
      "       ['11010', '1'],\n",
      "       ['11011', '0'],\n",
      "       ['11100', '0'],\n",
      "       ['11101', '1'],\n",
      "       ['11110', '1'],\n",
      "       ['11111', '1']], dtype='<U11')]\n",
      "Resultados serão salvos em  results_V4\n",
      "Resultados serão salvos em  results_V4\n",
      "------------------------------------------------------------------\n"
     ]
    }
   ],
   "source": [
    "import USDMM as USDMM\n",
    "\n",
    "WOMC = USDMM.WOMC(\n",
    "    new = True, # True/ STR -> If True inicialize with the cross operator/ If STR it will opens the file with the name passed\n",
    "    nlayer = 2, # INT -> Number of operators in each layer\n",
    "    wlen = 3,  # INT -> Size of the operator (wlen*wlen)\n",
    "    train_size = 10, # INT -> Number of images to train \n",
    "    val_size = 10, # INT -> Number of images to validate\n",
    "    test_size = 10, # INT -> Number of images to test\n",
    "    error_type = 'iou', # 'mae' / 'iou' -> type of error\n",
    "    neighbors_sample = False, # INT/False -> Number of neighbors to sort\n",
    "    epoch_f = 10, # INT -> Number of epochs for the boolean function lattice (fixed windows)\n",
    "    epoch_w = 50, # INT -> Number of epochs for the windows lattice\n",
    "    batch = 10, # INT -> Batch size\n",
    "    path_results = 'results_V4', # STR -> file where we want to save the results\n",
    "    name_save='_V4', # STR -> pos fixed name for the results saved\n",
    "    seed = 0, #INT -> seed for reproducibilit\n",
    "    parallel = True, # True/False -> use parallel (True) or sequential (False)\n",
    "    early_stop_round_f = 20, #INT -> max number of epochs without changes in the boolean function lattice\n",
    "    early_stop_round_w = 10 #INT -> max number of epochs without changes in the windows lattice\n",
    ")"
   ]
  },
  {
   "cell_type": "code",
   "execution_count": 6,
   "metadata": {},
   "outputs": [],
   "source": [
    "Wtrain,w_error, W, joint = WOMC.test2()"
   ]
  },
  {
   "cell_type": "code",
   "execution_count": 7,
   "metadata": {},
   "outputs": [
    {
     "name": "stdout",
     "output_type": "stream",
     "text": [
      "inicial error: 0.9819856336725579\n",
      "Epoch: 1: / error: 0.8794087900722621 / ix_run: 00\n"
     ]
    },
    {
     "ename": "KeyboardInterrupt",
     "evalue": "",
     "output_type": "error",
     "traceback": [
      "\u001b[1;31m---------------------------------------------------------------------------\u001b[0m",
      "\u001b[1;31mKeyboardInterrupt\u001b[0m                         Traceback (most recent call last)",
      "\u001b[1;32m<ipython-input-7-d0264306b780>\u001b[0m in \u001b[0;36m<module>\u001b[1;34m\u001b[0m\n\u001b[1;32m----> 1\u001b[1;33m \u001b[0mjoint4\u001b[0m\u001b[1;33m,\u001b[0m \u001b[0merror4\u001b[0m\u001b[1;33m,\u001b[0m\u001b[0mf_epoch_min\u001b[0m \u001b[1;33m=\u001b[0m \u001b[0mWOMC\u001b[0m\u001b[1;33m.\u001b[0m\u001b[0mget_error_window_parallel\u001b[0m\u001b[1;33m(\u001b[0m\u001b[0mW\u001b[0m\u001b[1;33m,\u001b[0m\u001b[0mjoint\u001b[0m\u001b[1;33m,\u001b[0m\u001b[1;36m0\u001b[0m\u001b[1;33m)\u001b[0m\u001b[1;33m\u001b[0m\u001b[1;33m\u001b[0m\u001b[0m\n\u001b[0m\u001b[0;32m      2\u001b[0m \u001b[0merror4\u001b[0m\u001b[1;33m,\u001b[0m \u001b[0mf_epoch_min\u001b[0m\u001b[1;33m\u001b[0m\u001b[1;33m\u001b[0m\u001b[0m\n",
      "\u001b[1;32mc:\\Users\\maria\\Documents\\GitHub\\WOMC\\USDMM.py\u001b[0m in \u001b[0;36mget_error_window_parallel\u001b[1;34m(self, W, joint, ep_w)\u001b[0m\n\u001b[0;32m    339\u001b[0m                     \u001b[0mneighbors_to_visit\u001b[0m \u001b[1;33m=\u001b[0m \u001b[0mself\u001b[0m\u001b[1;33m.\u001b[0m\u001b[0msort_neighbor\u001b[0m\u001b[1;33m(\u001b[0m\u001b[0mjoint\u001b[0m\u001b[1;33m[\u001b[0m\u001b[0mk\u001b[0m\u001b[1;33m]\u001b[0m\u001b[1;33m,\u001b[0m \u001b[0mself\u001b[0m\u001b[1;33m.\u001b[0m\u001b[0mneighbors_sample\u001b[0m\u001b[1;33m)\u001b[0m\u001b[1;33m\u001b[0m\u001b[1;33m\u001b[0m\u001b[0m\n\u001b[0;32m    340\u001b[0m                 \u001b[1;32mwith\u001b[0m \u001b[0mconcurrent\u001b[0m\u001b[1;33m.\u001b[0m\u001b[0mfutures\u001b[0m\u001b[1;33m.\u001b[0m\u001b[0mThreadPoolExecutor\u001b[0m\u001b[1;33m(\u001b[0m\u001b[1;33m)\u001b[0m \u001b[1;32mas\u001b[0m \u001b[0mexecutor\u001b[0m\u001b[1;33m:\u001b[0m\u001b[1;33m\u001b[0m\u001b[1;33m\u001b[0m\u001b[0m\n\u001b[1;32m--> 341\u001b[1;33m                     \u001b[1;33m[\u001b[0m\u001b[0mexecutor\u001b[0m\u001b[1;33m.\u001b[0m\u001b[0msubmit\u001b[0m\u001b[1;33m(\u001b[0m\u001b[0mself\u001b[0m\u001b[1;33m.\u001b[0m\u001b[0mcalculate_neighbors\u001b[0m\u001b[1;33m,\u001b[0m\u001b[0mW\u001b[0m\u001b[1;33m,\u001b[0m  \u001b[0mjoint\u001b[0m\u001b[1;33m,\u001b[0m \u001b[0mk\u001b[0m\u001b[1;33m,\u001b[0m \u001b[0mi\u001b[0m\u001b[1;33m,\u001b[0m \u001b[0mWtrain\u001b[0m\u001b[1;33m,\u001b[0m \u001b[0mtrain_b\u001b[0m\u001b[1;33m,\u001b[0m\u001b[0mytrain_b\u001b[0m\u001b[1;33m,\u001b[0m\u001b[0mep\u001b[0m\u001b[1;33m)\u001b[0m \u001b[1;32mfor\u001b[0m \u001b[0mi\u001b[0m \u001b[1;32min\u001b[0m \u001b[0mneighbors_to_visit\u001b[0m\u001b[1;33m]\u001b[0m\u001b[1;33m\u001b[0m\u001b[1;33m\u001b[0m\u001b[0m\n\u001b[0m\u001b[0;32m    342\u001b[0m \u001b[1;33m\u001b[0m\u001b[0m\n\u001b[0;32m    343\u001b[0m             \u001b[0merror_min_ep\u001b[0m \u001b[1;33m=\u001b[0m \u001b[0mmin\u001b[0m\u001b[1;33m(\u001b[0m\u001b[0mself\u001b[0m\u001b[1;33m.\u001b[0m\u001b[0merror_ep_f_hist\u001b[0m\u001b[1;33m[\u001b[0m\u001b[1;34m'error'\u001b[0m\u001b[1;33m]\u001b[0m\u001b[1;33m)\u001b[0m\u001b[1;33m\u001b[0m\u001b[1;33m\u001b[0m\u001b[0m\n",
      "\u001b[1;32mc:\\Users\\maria\\Anaconda3\\envs\\pyenv\\lib\\concurrent\\futures\\_base.py\u001b[0m in \u001b[0;36m__exit__\u001b[1;34m(self, exc_type, exc_val, exc_tb)\u001b[0m\n\u001b[0;32m    634\u001b[0m \u001b[1;33m\u001b[0m\u001b[0m\n\u001b[0;32m    635\u001b[0m     \u001b[1;32mdef\u001b[0m \u001b[0m__exit__\u001b[0m\u001b[1;33m(\u001b[0m\u001b[0mself\u001b[0m\u001b[1;33m,\u001b[0m \u001b[0mexc_type\u001b[0m\u001b[1;33m,\u001b[0m \u001b[0mexc_val\u001b[0m\u001b[1;33m,\u001b[0m \u001b[0mexc_tb\u001b[0m\u001b[1;33m)\u001b[0m\u001b[1;33m:\u001b[0m\u001b[1;33m\u001b[0m\u001b[1;33m\u001b[0m\u001b[0m\n\u001b[1;32m--> 636\u001b[1;33m         \u001b[0mself\u001b[0m\u001b[1;33m.\u001b[0m\u001b[0mshutdown\u001b[0m\u001b[1;33m(\u001b[0m\u001b[0mwait\u001b[0m\u001b[1;33m=\u001b[0m\u001b[1;32mTrue\u001b[0m\u001b[1;33m)\u001b[0m\u001b[1;33m\u001b[0m\u001b[1;33m\u001b[0m\u001b[0m\n\u001b[0m\u001b[0;32m    637\u001b[0m         \u001b[1;32mreturn\u001b[0m \u001b[1;32mFalse\u001b[0m\u001b[1;33m\u001b[0m\u001b[1;33m\u001b[0m\u001b[0m\n\u001b[0;32m    638\u001b[0m \u001b[1;33m\u001b[0m\u001b[0m\n",
      "\u001b[1;32mc:\\Users\\maria\\Anaconda3\\envs\\pyenv\\lib\\concurrent\\futures\\thread.py\u001b[0m in \u001b[0;36mshutdown\u001b[1;34m(self, wait)\u001b[0m\n\u001b[0;32m    234\u001b[0m         \u001b[1;32mif\u001b[0m \u001b[0mwait\u001b[0m\u001b[1;33m:\u001b[0m\u001b[1;33m\u001b[0m\u001b[1;33m\u001b[0m\u001b[0m\n\u001b[0;32m    235\u001b[0m             \u001b[1;32mfor\u001b[0m \u001b[0mt\u001b[0m \u001b[1;32min\u001b[0m \u001b[0mself\u001b[0m\u001b[1;33m.\u001b[0m\u001b[0m_threads\u001b[0m\u001b[1;33m:\u001b[0m\u001b[1;33m\u001b[0m\u001b[1;33m\u001b[0m\u001b[0m\n\u001b[1;32m--> 236\u001b[1;33m                 \u001b[0mt\u001b[0m\u001b[1;33m.\u001b[0m\u001b[0mjoin\u001b[0m\u001b[1;33m(\u001b[0m\u001b[1;33m)\u001b[0m\u001b[1;33m\u001b[0m\u001b[1;33m\u001b[0m\u001b[0m\n\u001b[0m\u001b[0;32m    237\u001b[0m     \u001b[0mshutdown\u001b[0m\u001b[1;33m.\u001b[0m\u001b[0m__doc__\u001b[0m \u001b[1;33m=\u001b[0m \u001b[0m_base\u001b[0m\u001b[1;33m.\u001b[0m\u001b[0mExecutor\u001b[0m\u001b[1;33m.\u001b[0m\u001b[0mshutdown\u001b[0m\u001b[1;33m.\u001b[0m\u001b[0m__doc__\u001b[0m\u001b[1;33m\u001b[0m\u001b[1;33m\u001b[0m\u001b[0m\n",
      "\u001b[1;32mc:\\Users\\maria\\Anaconda3\\envs\\pyenv\\lib\\threading.py\u001b[0m in \u001b[0;36mjoin\u001b[1;34m(self, timeout)\u001b[0m\n\u001b[0;32m   1009\u001b[0m \u001b[1;33m\u001b[0m\u001b[0m\n\u001b[0;32m   1010\u001b[0m         \u001b[1;32mif\u001b[0m \u001b[0mtimeout\u001b[0m \u001b[1;32mis\u001b[0m \u001b[1;32mNone\u001b[0m\u001b[1;33m:\u001b[0m\u001b[1;33m\u001b[0m\u001b[1;33m\u001b[0m\u001b[0m\n\u001b[1;32m-> 1011\u001b[1;33m             \u001b[0mself\u001b[0m\u001b[1;33m.\u001b[0m\u001b[0m_wait_for_tstate_lock\u001b[0m\u001b[1;33m(\u001b[0m\u001b[1;33m)\u001b[0m\u001b[1;33m\u001b[0m\u001b[1;33m\u001b[0m\u001b[0m\n\u001b[0m\u001b[0;32m   1012\u001b[0m         \u001b[1;32melse\u001b[0m\u001b[1;33m:\u001b[0m\u001b[1;33m\u001b[0m\u001b[1;33m\u001b[0m\u001b[0m\n\u001b[0;32m   1013\u001b[0m             \u001b[1;31m# the behavior of a negative timeout isn't documented, but\u001b[0m\u001b[1;33m\u001b[0m\u001b[1;33m\u001b[0m\u001b[1;33m\u001b[0m\u001b[0m\n",
      "\u001b[1;32mc:\\Users\\maria\\Anaconda3\\envs\\pyenv\\lib\\threading.py\u001b[0m in \u001b[0;36m_wait_for_tstate_lock\u001b[1;34m(self, block, timeout)\u001b[0m\n\u001b[0;32m   1025\u001b[0m         \u001b[1;32mif\u001b[0m \u001b[0mlock\u001b[0m \u001b[1;32mis\u001b[0m \u001b[1;32mNone\u001b[0m\u001b[1;33m:\u001b[0m  \u001b[1;31m# already determined that the C code is done\u001b[0m\u001b[1;33m\u001b[0m\u001b[1;33m\u001b[0m\u001b[0m\n\u001b[0;32m   1026\u001b[0m             \u001b[1;32massert\u001b[0m \u001b[0mself\u001b[0m\u001b[1;33m.\u001b[0m\u001b[0m_is_stopped\u001b[0m\u001b[1;33m\u001b[0m\u001b[1;33m\u001b[0m\u001b[0m\n\u001b[1;32m-> 1027\u001b[1;33m         \u001b[1;32melif\u001b[0m \u001b[0mlock\u001b[0m\u001b[1;33m.\u001b[0m\u001b[0macquire\u001b[0m\u001b[1;33m(\u001b[0m\u001b[0mblock\u001b[0m\u001b[1;33m,\u001b[0m \u001b[0mtimeout\u001b[0m\u001b[1;33m)\u001b[0m\u001b[1;33m:\u001b[0m\u001b[1;33m\u001b[0m\u001b[1;33m\u001b[0m\u001b[0m\n\u001b[0m\u001b[0;32m   1028\u001b[0m             \u001b[0mlock\u001b[0m\u001b[1;33m.\u001b[0m\u001b[0mrelease\u001b[0m\u001b[1;33m(\u001b[0m\u001b[1;33m)\u001b[0m\u001b[1;33m\u001b[0m\u001b[1;33m\u001b[0m\u001b[0m\n\u001b[0;32m   1029\u001b[0m             \u001b[0mself\u001b[0m\u001b[1;33m.\u001b[0m\u001b[0m_stop\u001b[0m\u001b[1;33m(\u001b[0m\u001b[1;33m)\u001b[0m\u001b[1;33m\u001b[0m\u001b[1;33m\u001b[0m\u001b[0m\n",
      "\u001b[1;31mKeyboardInterrupt\u001b[0m: "
     ]
    }
   ],
   "source": [
    "joint4, error4,f_epoch_min = WOMC.get_error_window_parallel(W,joint,0)\n",
    "error4, f_epoch_min"
   ]
  },
  {
   "cell_type": "code",
   "execution_count": 8,
   "metadata": {},
   "outputs": [],
   "source": [
    "import numpy as np\n",
    "error_hist = np.load('./results_V4/run/error_ep_1.txt', allow_pickle=True)\n",
    "error_hist2 = np.load('./results_V2/run/error_ep_1.txt', allow_pickle=True)"
   ]
  },
  {
   "cell_type": "code",
   "execution_count": 11,
   "metadata": {},
   "outputs": [
    {
     "data": {
      "text/plain": [
       "(0.8794087900722621, 0.9819856336725579)"
      ]
     },
     "execution_count": 11,
     "metadata": {},
     "output_type": "execute_result"
    }
   ],
   "source": [
    "min(error_hist['error']), min(error_hist2['error'])"
   ]
  },
  {
   "cell_type": "code",
   "execution_count": 14,
   "metadata": {},
   "outputs": [
    {
     "data": {
      "text/plain": [
       "(64, 64)"
      ]
     },
     "execution_count": 14,
     "metadata": {},
     "output_type": "execute_result"
    }
   ],
   "source": [
    "len(error_hist['error']), len(error_hist2['error'])"
   ]
  },
  {
   "cell_type": "code",
   "execution_count": 20,
   "metadata": {},
   "outputs": [
    {
     "data": {
      "text/plain": [
       "'1'"
      ]
     },
     "execution_count": 20,
     "metadata": {},
     "output_type": "execute_result"
    }
   ],
   "source": [
    "error_hist['joint'][0][0][0][1]"
   ]
  },
  {
   "cell_type": "code",
   "execution_count": 21,
   "metadata": {},
   "outputs": [
    {
     "name": "stdout",
     "output_type": "stream",
     "text": [
      "round - 0 / count =0\n",
      "round - 1 / count =0\n",
      "round - 2 / count =0\n",
      "round - 3 / count =0\n",
      "round - 4 / count =0\n",
      "round - 5 / count =0\n",
      "round - 6 / count =0\n",
      "round - 7 / count =0\n",
      "round - 8 / count =0\n",
      "round - 9 / count =0\n",
      "round - 10 / count =0\n",
      "round - 11 / count =0\n",
      "round - 12 / count =0\n",
      "round - 13 / count =0\n",
      "round - 14 / count =0\n",
      "round - 15 / count =0\n",
      "round - 16 / count =0\n",
      "round - 17 / count =0\n",
      "round - 18 / count =0\n",
      "round - 19 / count =0\n",
      "round - 20 / count =0\n",
      "round - 21 / count =0\n",
      "round - 22 / count =0\n",
      "round - 23 / count =0\n",
      "round - 24 / count =0\n",
      "round - 25 / count =0\n",
      "round - 26 / count =0\n",
      "round - 27 / count =0\n",
      "round - 28 / count =0\n",
      "round - 29 / count =0\n",
      "round - 30 / count =0\n",
      "round - 31 / count =0\n",
      "round - 32 / count =0\n",
      "round - 33 / count =0\n",
      "round - 34 / count =0\n",
      "round - 35 / count =0\n",
      "round - 36 / count =0\n",
      "round - 37 / count =0\n",
      "round - 38 / count =0\n",
      "round - 39 / count =0\n",
      "round - 40 / count =0\n",
      "round - 41 / count =0\n",
      "round - 42 / count =0\n",
      "round - 43 / count =0\n",
      "round - 44 / count =0\n",
      "round - 45 / count =0\n",
      "round - 46 / count =0\n",
      "round - 47 / count =0\n",
      "round - 48 / count =0\n",
      "round - 49 / count =0\n",
      "round - 50 / count =0\n",
      "round - 51 / count =0\n",
      "round - 52 / count =0\n",
      "round - 53 / count =0\n",
      "round - 54 / count =0\n",
      "round - 55 / count =0\n",
      "round - 56 / count =0\n",
      "round - 57 / count =0\n",
      "round - 58 / count =0\n",
      "round - 59 / count =0\n",
      "round - 60 / count =0\n",
      "round - 61 / count =0\n",
      "round - 62 / count =0\n",
      "round - 63 / count =0\n"
     ]
    }
   ],
   "source": [
    "for i in range(len(error_hist['joint'])):\n",
    "    #if error_hist['error'][i] !=error_hist2['error'][i]:\n",
    "        #print(i)\n",
    "    count = 0\n",
    "    for k in range(2):\n",
    "        for j in range(len(error_hist['joint'][i][k])):\n",
    "            if error_hist['joint'][i][k][j][1] != error_hist['joint'][i][k][j][1]:\n",
    "                count+=1\n",
    "    print(f'round - {i} / count ={count}')"
   ]
  },
  {
   "cell_type": "code",
   "execution_count": null,
   "metadata": {},
   "outputs": [],
   "source": []
  },
  {
   "cell_type": "code",
   "execution_count": null,
   "metadata": {},
   "outputs": [],
   "source": []
  },
  {
   "cell_type": "code",
   "execution_count": 7,
   "metadata": {},
   "outputs": [
    {
     "data": {
      "text/plain": [
       "(array([0.61383145, 0.60987238]), 14)"
      ]
     },
     "execution_count": 7,
     "metadata": {},
     "output_type": "execute_result"
    }
   ],
   "source": [
    "joint4, error4,f_epoch_min = WOMC.get_error_window_parallel(W,joint,0)\n",
    "error4, f_epoch_min"
   ]
  },
  {
   "cell_type": "code",
   "execution_count": 9,
   "metadata": {},
   "outputs": [],
   "source": [
    "import pickle\n",
    "pickle.dump(joint4, open('joint4', 'wb'))"
   ]
  },
  {
   "cell_type": "code",
   "execution_count": 3,
   "metadata": {},
   "outputs": [],
   "source": [
    "import pickle\n",
    "pickle.dump(W2, open('W', 'wb'))"
   ]
  },
  {
   "cell_type": "code",
   "execution_count": 6,
   "metadata": {},
   "outputs": [],
   "source": [
    "path_results = 'results_V4'\n",
    "name_save = '_V4'"
   ]
  },
  {
   "cell_type": "code",
   "execution_count": 7,
   "metadata": {},
   "outputs": [],
   "source": [
    "import numpy as np"
   ]
  },
  {
   "cell_type": "code",
   "execution_count": 8,
   "metadata": {},
   "outputs": [],
   "source": [
    "joint = np.load(f'{path_results}/joint{name_save}.txt', allow_pickle=True)\n",
    "W = np.load(f'{path_results}/W{name_save}.txt', allow_pickle=True)"
   ]
  },
  {
   "cell_type": "code",
   "execution_count": 10,
   "metadata": {},
   "outputs": [
    {
     "data": {
      "text/plain": [
       "[array([nan,  1., nan,  1.,  1.,  1., nan,  1., nan]),\n",
       " array([nan,  1., nan,  1.,  1.,  1., nan,  1., nan])]"
      ]
     },
     "execution_count": 10,
     "metadata": {},
     "output_type": "execute_result"
    }
   ],
   "source": [
    "W"
   ]
  },
  {
   "cell_type": "code",
   "execution_count": 5,
   "metadata": {},
   "outputs": [
    {
     "name": "stdout",
     "output_type": "stream",
     "text": [
      "Reading from: results_V4\n",
      "Train error: 0.6138314515405996 / Validation error: 0.609872383871108 / Test error: 0.6210821757434946\n"
     ]
    },
    {
     "ename": "TypeError",
     "evalue": "'int' object is not subscriptable",
     "output_type": "error",
     "traceback": [
      "\u001b[1;31m---------------------------------------------------------------------------\u001b[0m",
      "\u001b[1;31mTypeError\u001b[0m                                 Traceback (most recent call last)",
      "\u001b[1;32m<ipython-input-5-966954523b97>\u001b[0m in \u001b[0;36m<module>\u001b[1;34m\u001b[0m\n\u001b[1;32m----> 1\u001b[1;33m \u001b[0mWOMC\u001b[0m\u001b[1;33m.\u001b[0m\u001b[0mresults_after_fit\u001b[0m\u001b[1;33m(\u001b[0m\u001b[1;34m'results_V4'\u001b[0m\u001b[1;33m,\u001b[0m \u001b[1;34m'_V4'\u001b[0m\u001b[1;33m)\u001b[0m\u001b[1;33m\u001b[0m\u001b[1;33m\u001b[0m\u001b[0m\n\u001b[0m",
      "\u001b[1;32mc:\\Users\\maria\\Documents\\GitHub\\WOMC\\USDMM_v2.py\u001b[0m in \u001b[0;36mresults_after_fit\u001b[1;34m(self, path_results, name_save)\u001b[0m\n\u001b[0;32m    658\u001b[0m         \u001b[0mprint\u001b[0m\u001b[1;33m(\u001b[0m\u001b[1;34mf'Train error: {error_train} / Validation error: {error_val} / Test error: {error_test}'\u001b[0m\u001b[1;33m)\u001b[0m\u001b[1;33m\u001b[0m\u001b[1;33m\u001b[0m\u001b[0m\n\u001b[0;32m    659\u001b[0m \u001b[1;33m\u001b[0m\u001b[0m\n\u001b[1;32m--> 660\u001b[1;33m         \u001b[0mWtrain\u001b[0m \u001b[1;33m=\u001b[0m \u001b[0mself\u001b[0m\u001b[1;33m.\u001b[0m\u001b[0mrun_window_convolve\u001b[0m\u001b[1;33m(\u001b[0m\u001b[0mself\u001b[0m\u001b[1;33m.\u001b[0m\u001b[0mtrain\u001b[0m\u001b[1;33m,\u001b[0m \u001b[0mself\u001b[0m\u001b[1;33m.\u001b[0m\u001b[0mtrain_size\u001b[0m\u001b[1;33m,\u001b[0m \u001b[0mW\u001b[0m\u001b[1;33m,\u001b[0m \u001b[0mjoint\u001b[0m\u001b[1;33m,\u001b[0m \u001b[1;36m0\u001b[0m\u001b[1;33m,\u001b[0m \u001b[1;36m0\u001b[0m\u001b[1;33m)\u001b[0m\u001b[1;33m\u001b[0m\u001b[1;33m\u001b[0m\u001b[0m\n\u001b[0m\u001b[0;32m    661\u001b[0m         \u001b[0mWval\u001b[0m \u001b[1;33m=\u001b[0m \u001b[0mself\u001b[0m\u001b[1;33m.\u001b[0m\u001b[0mrun_window_convolve\u001b[0m\u001b[1;33m(\u001b[0m\u001b[0mself\u001b[0m\u001b[1;33m.\u001b[0m\u001b[0mval\u001b[0m\u001b[1;33m,\u001b[0m \u001b[0mself\u001b[0m\u001b[1;33m.\u001b[0m\u001b[0mval_size\u001b[0m\u001b[1;33m,\u001b[0m \u001b[0mW\u001b[0m\u001b[1;33m,\u001b[0m \u001b[0mjoint\u001b[0m\u001b[1;33m,\u001b[0m \u001b[1;36m0\u001b[0m\u001b[1;33m,\u001b[0m \u001b[1;36m0\u001b[0m\u001b[1;33m)\u001b[0m\u001b[1;33m\u001b[0m\u001b[1;33m\u001b[0m\u001b[0m\n\u001b[0;32m    662\u001b[0m         \u001b[0mWtest\u001b[0m \u001b[1;33m=\u001b[0m \u001b[0mself\u001b[0m\u001b[1;33m.\u001b[0m\u001b[0mrun_window_convolve\u001b[0m\u001b[1;33m(\u001b[0m\u001b[0mself\u001b[0m\u001b[1;33m.\u001b[0m\u001b[0mtest\u001b[0m\u001b[1;33m,\u001b[0m \u001b[0mself\u001b[0m\u001b[1;33m.\u001b[0m\u001b[0mtest_size\u001b[0m\u001b[1;33m,\u001b[0m \u001b[0mW\u001b[0m\u001b[1;33m,\u001b[0m \u001b[0mjoint\u001b[0m\u001b[1;33m,\u001b[0m \u001b[1;36m0\u001b[0m\u001b[1;33m,\u001b[0m \u001b[1;36m0\u001b[0m\u001b[1;33m)\u001b[0m\u001b[1;33m\u001b[0m\u001b[1;33m\u001b[0m\u001b[0m\n",
      "\u001b[1;32mc:\\Users\\maria\\Documents\\GitHub\\WOMC\\USDMM_v2.py\u001b[0m in \u001b[0;36mrun_window_convolve\u001b[1;34m(self, sample, sample_size, W_matrices, Wlast, layer, bias)\u001b[0m\n\u001b[0;32m    231\u001b[0m                     \u001b[0mWsample_k\u001b[0m\u001b[1;33m.\u001b[0m\u001b[0mappend\u001b[0m\u001b[1;33m(\u001b[0m\u001b[0mWlast\u001b[0m\u001b[1;33m[\u001b[0m\u001b[0mk\u001b[0m\u001b[1;33m]\u001b[0m\u001b[1;33m[\u001b[0m\u001b[0mi\u001b[0m\u001b[1;33m]\u001b[0m\u001b[1;33m)\u001b[0m\u001b[1;33m\u001b[0m\u001b[1;33m\u001b[0m\u001b[0m\n\u001b[0;32m    232\u001b[0m                 \u001b[1;32melif\u001b[0m \u001b[0mi\u001b[0m\u001b[1;33m==\u001b[0m\u001b[1;36m0\u001b[0m\u001b[1;33m:\u001b[0m\u001b[1;33m\u001b[0m\u001b[1;33m\u001b[0m\u001b[0m\n\u001b[1;32m--> 233\u001b[1;33m                     \u001b[0mWsample_k\u001b[0m\u001b[1;33m.\u001b[0m\u001b[0mappend\u001b[0m\u001b[1;33m(\u001b[0m\u001b[0mself\u001b[0m\u001b[1;33m.\u001b[0m\u001b[0mapply_convolve\u001b[0m\u001b[1;33m(\u001b[0m\u001b[0msample\u001b[0m\u001b[1;33m[\u001b[0m\u001b[0mk\u001b[0m\u001b[1;33m]\u001b[0m\u001b[1;33m,\u001b[0m \u001b[0mW_matrices\u001b[0m\u001b[1;33m[\u001b[0m\u001b[0mi\u001b[0m\u001b[1;33m]\u001b[0m\u001b[1;33m,\u001b[0m \u001b[0mbias\u001b[0m\u001b[1;33m[\u001b[0m\u001b[0mi\u001b[0m\u001b[1;33m]\u001b[0m\u001b[1;33m)\u001b[0m\u001b[1;33m)\u001b[0m\u001b[1;33m\u001b[0m\u001b[1;33m\u001b[0m\u001b[0m\n\u001b[0m\u001b[0;32m    234\u001b[0m                 \u001b[1;32melse\u001b[0m\u001b[1;33m:\u001b[0m\u001b[1;33m\u001b[0m\u001b[1;33m\u001b[0m\u001b[0m\n\u001b[0;32m    235\u001b[0m                     \u001b[0mWsample_k\u001b[0m\u001b[1;33m.\u001b[0m\u001b[0mappend\u001b[0m\u001b[1;33m(\u001b[0m\u001b[0mself\u001b[0m\u001b[1;33m.\u001b[0m\u001b[0mapply_convolve\u001b[0m\u001b[1;33m(\u001b[0m\u001b[0mWsample_k\u001b[0m\u001b[1;33m[\u001b[0m\u001b[0mi\u001b[0m\u001b[1;33m-\u001b[0m\u001b[1;36m1\u001b[0m\u001b[1;33m]\u001b[0m\u001b[1;33m,\u001b[0m \u001b[0mW_matrices\u001b[0m\u001b[1;33m[\u001b[0m\u001b[0mi\u001b[0m\u001b[1;33m]\u001b[0m\u001b[1;33m,\u001b[0m \u001b[0mbias\u001b[0m\u001b[1;33m[\u001b[0m\u001b[0mi\u001b[0m\u001b[1;33m]\u001b[0m\u001b[1;33m)\u001b[0m\u001b[1;33m)\u001b[0m\u001b[1;33m\u001b[0m\u001b[1;33m\u001b[0m\u001b[0m\n",
      "\u001b[1;31mTypeError\u001b[0m: 'int' object is not subscriptable"
     ]
    }
   ],
   "source": [
    "WOMC.results_after_fit('results_V4', '_V4')"
   ]
  },
  {
   "cell_type": "code",
   "execution_count": 8,
   "metadata": {},
   "outputs": [
    {
     "data": {
      "text/plain": [
       "[array([['00000', '0'],\n",
       "        ['00001', '0'],\n",
       "        ['00010', '0'],\n",
       "        ['00011', '1'],\n",
       "        ['00100', '0'],\n",
       "        ['00101', '0'],\n",
       "        ['00110', '0'],\n",
       "        ['00111', '0'],\n",
       "        ['01000', '0'],\n",
       "        ['01001', '1'],\n",
       "        ['01010', '0'],\n",
       "        ['01011', '1'],\n",
       "        ['01100', '0'],\n",
       "        ['01101', '0'],\n",
       "        ['01110', '1'],\n",
       "        ['01111', '0'],\n",
       "        ['10000', '0'],\n",
       "        ['10001', '0'],\n",
       "        ['10010', '1'],\n",
       "        ['10011', '0'],\n",
       "        ['10100', '1'],\n",
       "        ['10101', '0'],\n",
       "        ['10110', '0'],\n",
       "        ['10111', '0'],\n",
       "        ['11000', '0'],\n",
       "        ['11001', '0'],\n",
       "        ['11010', '0'],\n",
       "        ['11011', '0'],\n",
       "        ['11100', '1'],\n",
       "        ['11101', '0'],\n",
       "        ['11110', '0'],\n",
       "        ['11111', '0']], dtype='<U11'),\n",
       " array([['00000', '0'],\n",
       "        ['00001', '1'],\n",
       "        ['00010', '0'],\n",
       "        ['00011', '0'],\n",
       "        ['00100', '1'],\n",
       "        ['00101', '0'],\n",
       "        ['00110', '1'],\n",
       "        ['00111', '1'],\n",
       "        ['01000', '1'],\n",
       "        ['01001', '0'],\n",
       "        ['01010', '0'],\n",
       "        ['01011', '1'],\n",
       "        ['01100', '0'],\n",
       "        ['01101', '0'],\n",
       "        ['01110', '0'],\n",
       "        ['01111', '0'],\n",
       "        ['10000', '1'],\n",
       "        ['10001', '0'],\n",
       "        ['10010', '0'],\n",
       "        ['10011', '0'],\n",
       "        ['10100', '0'],\n",
       "        ['10101', '1'],\n",
       "        ['10110', '0'],\n",
       "        ['10111', '0'],\n",
       "        ['11000', '1'],\n",
       "        ['11001', '1'],\n",
       "        ['11010', '1'],\n",
       "        ['11011', '0'],\n",
       "        ['11100', '0'],\n",
       "        ['11101', '1'],\n",
       "        ['11110', '1'],\n",
       "        ['11111', '1']], dtype='<U11')]"
      ]
     },
     "execution_count": 8,
     "metadata": {},
     "output_type": "execute_result"
    }
   ],
   "source": [
    "joint4"
   ]
  },
  {
   "cell_type": "code",
   "execution_count": null,
   "metadata": {},
   "outputs": [],
   "source": [
    "error3==error4"
   ]
  },
  {
   "cell_type": "code",
   "execution_count": 11,
   "metadata": {},
   "outputs": [
    {
     "data": {
      "text/plain": [
       "(0.9819856336725579, 0.9819856336725579)"
      ]
     },
     "execution_count": 11,
     "metadata": {},
     "output_type": "execute_result"
    }
   ],
   "source": [
    "w_error == w_error2"
   ]
  },
  {
   "cell_type": "code",
   "execution_count": 42,
   "metadata": {},
   "outputs": [
    {
     "data": {
      "text/plain": [
       "(0.9819856336725579, 0.9825991306050732)"
      ]
     },
     "execution_count": 42,
     "metadata": {},
     "output_type": "execute_result"
    }
   ],
   "source": [
    "w_error, w_error2"
   ]
  },
  {
   "cell_type": "code",
   "execution_count": 12,
   "metadata": {},
   "outputs": [
    {
     "data": {
      "text/plain": [
       "0"
      ]
     },
     "execution_count": 12,
     "metadata": {},
     "output_type": "execute_result"
    }
   ],
   "source": [
    "count = 0\n",
    "for k in range(2):\n",
    "    for j in range(len(joint[k])):\n",
    "        if joint[k][j][1] != joint2[k][j][1]:\n",
    "            count+=1\n",
    "count"
   ]
  },
  {
   "cell_type": "code",
   "execution_count": 13,
   "metadata": {},
   "outputs": [
    {
     "data": {
      "text/plain": [
       "([array([nan,  1., nan,  1.,  1.,  1., nan,  1., nan]),\n",
       "  array([nan,  1., nan,  1.,  1.,  1., nan,  1., nan])],\n",
       " [array([nan,  1., nan,  1.,  1.,  1., nan,  1., nan]),\n",
       "  array([nan,  1., nan,  1.,  1.,  1., nan,  1., nan])])"
      ]
     },
     "execution_count": 13,
     "metadata": {},
     "output_type": "execute_result"
    }
   ],
   "source": [
    "W, W2"
   ]
  },
  {
   "cell_type": "code",
   "execution_count": 14,
   "metadata": {},
   "outputs": [
    {
     "data": {
      "text/plain": [
       "10"
      ]
     },
     "execution_count": 14,
     "metadata": {},
     "output_type": "execute_result"
    }
   ],
   "source": [
    "len(Wtrain)"
   ]
  },
  {
   "cell_type": "code",
   "execution_count": 15,
   "metadata": {},
   "outputs": [
    {
     "data": {
      "text/plain": [
       "2"
      ]
     },
     "execution_count": 15,
     "metadata": {},
     "output_type": "execute_result"
    }
   ],
   "source": [
    "len(Wtrain[0])"
   ]
  },
  {
   "cell_type": "code",
   "execution_count": 16,
   "metadata": {},
   "outputs": [
    {
     "data": {
      "text/plain": [
       "array([[ True,  True,  True, ...,  True,  True,  True],\n",
       "       [ True,  True,  True, ...,  True,  True,  True],\n",
       "       [ True,  True,  True, ...,  True,  True,  True],\n",
       "       ...,\n",
       "       [ True,  True,  True, ...,  True,  True,  True],\n",
       "       [ True,  True,  True, ...,  True,  True,  True],\n",
       "       [ True,  True,  True, ...,  True,  True,  True]])"
      ]
     },
     "execution_count": 16,
     "metadata": {},
     "output_type": "execute_result"
    }
   ],
   "source": [
    "Wtrain[0][1] == Wtrain2[0][1]"
   ]
  },
  {
   "cell_type": "code",
   "execution_count": 17,
   "metadata": {},
   "outputs": [],
   "source": [
    "import numpy as np"
   ]
  },
  {
   "cell_type": "code",
   "execution_count": 18,
   "metadata": {},
   "outputs": [
    {
     "name": "stdout",
     "output_type": "stream",
     "text": [
      "True\n",
      "True\n",
      "True\n",
      "True\n",
      "True\n",
      "True\n",
      "True\n",
      "True\n",
      "True\n",
      "True\n"
     ]
    }
   ],
   "source": [
    "for k in range(len(Wtrain)):\n",
    "    print(np.all(Wtrain[k][-1] == Wtrain2[k][-1]))"
   ]
  },
  {
   "cell_type": "code",
   "execution_count": 6,
   "metadata": {},
   "outputs": [],
   "source": [
    "train, ytrain = WOMC.get_images(10, 'train')"
   ]
  },
  {
   "cell_type": "code",
   "execution_count": 7,
   "metadata": {},
   "outputs": [
    {
     "data": {
      "text/plain": [
       "[array([[-1., -1., -1., ..., -1., -1., -1.],\n",
       "        [-1., -1., -1., ..., -1., -1., -1.],\n",
       "        [-1., -1., -1., ..., -1., -1., -1.],\n",
       "        ...,\n",
       "        [-1., -1., -1., ..., -1., -1., -1.],\n",
       "        [-1., -1., -1., ..., -1., -1., -1.],\n",
       "        [-1., -1., -1., ..., -1., -1., -1.]]),\n",
       " array([[-1., -1., -1., ..., -1., -1., -1.],\n",
       "        [-1., -1., -1., ..., -1., -1., -1.],\n",
       "        [-1., -1., -1., ..., -1., -1., -1.],\n",
       "        ...,\n",
       "        [-1., -1., -1., ..., -1., -1., -1.],\n",
       "        [-1., -1., -1., ..., -1., -1., -1.],\n",
       "        [-1., -1., -1., ..., -1., -1., -1.]]),\n",
       " array([[-1., -1., -1., ..., -1., -1., -1.],\n",
       "        [-1., -1.,  1., ..., -1., -1., -1.],\n",
       "        [-1., -1., -1., ..., -1., -1., -1.],\n",
       "        ...,\n",
       "        [-1., -1., -1., ..., -1., -1., -1.],\n",
       "        [-1.,  1., -1., ..., -1., -1., -1.],\n",
       "        [-1., -1., -1., ..., -1., -1., -1.]]),\n",
       " array([[-1., -1., -1., ..., -1., -1., -1.],\n",
       "        [-1., -1., -1., ..., -1., -1.,  1.],\n",
       "        [-1., -1., -1., ..., -1., -1., -1.],\n",
       "        ...,\n",
       "        [-1., -1., -1., ..., -1., -1., -1.],\n",
       "        [-1., -1., -1., ..., -1., -1., -1.],\n",
       "        [-1., -1., -1., ..., -1., -1., -1.]]),\n",
       " array([[-1., -1., -1., ..., -1., -1., -1.],\n",
       "        [-1., -1., -1., ..., -1., -1., -1.],\n",
       "        [-1., -1., -1., ..., -1., -1., -1.],\n",
       "        ...,\n",
       "        [-1., -1., -1., ..., -1., -1., -1.],\n",
       "        [-1., -1., -1., ..., -1., -1., -1.],\n",
       "        [-1., -1., -1., ..., -1., -1., -1.]]),\n",
       " array([[-1., -1., -1., ..., -1., -1., -1.],\n",
       "        [-1., -1., -1., ..., -1., -1., -1.],\n",
       "        [-1., -1., -1., ..., -1., -1., -1.],\n",
       "        ...,\n",
       "        [-1., -1., -1., ..., -1., -1., -1.],\n",
       "        [-1., -1., -1., ..., -1., -1., -1.],\n",
       "        [-1., -1., -1., ..., -1., -1., -1.]]),\n",
       " array([[-1., -1., -1., ..., -1., -1., -1.],\n",
       "        [-1., -1., -1., ..., -1., -1., -1.],\n",
       "        [-1., -1., -1., ..., -1., -1., -1.],\n",
       "        ...,\n",
       "        [-1., -1., -1., ..., -1., -1., -1.],\n",
       "        [-1.,  1., -1., ..., -1., -1., -1.],\n",
       "        [-1., -1., -1., ..., -1., -1., -1.]]),\n",
       " array([[-1., -1., -1., ..., -1., -1., -1.],\n",
       "        [-1., -1., -1., ..., -1., -1., -1.],\n",
       "        [-1., -1., -1., ..., -1., -1., -1.],\n",
       "        ...,\n",
       "        [-1., -1., -1., ..., -1., -1., -1.],\n",
       "        [-1., -1., -1., ..., -1., -1., -1.],\n",
       "        [-1., -1., -1., ..., -1., -1., -1.]]),\n",
       " array([[-1., -1., -1., ..., -1., -1., -1.],\n",
       "        [-1., -1., -1., ..., -1., -1., -1.],\n",
       "        [-1., -1., -1., ..., -1., -1., -1.],\n",
       "        ...,\n",
       "        [-1., -1., -1., ..., -1., -1., -1.],\n",
       "        [-1., -1., -1., ..., -1., -1., -1.],\n",
       "        [-1., -1., -1., ..., -1., -1., -1.]]),\n",
       " array([[-1., -1., -1., ..., -1., -1., -1.],\n",
       "        [-1., -1., -1., ..., -1., -1., -1.],\n",
       "        [-1., -1., -1., ..., -1., -1., -1.],\n",
       "        ...,\n",
       "        [-1., -1., -1., ..., -1., -1., -1.],\n",
       "        [-1., -1., -1., ..., -1., -1., -1.],\n",
       "        [-1., -1., -1., ..., -1., -1., -1.]])]"
      ]
     },
     "execution_count": 7,
     "metadata": {},
     "output_type": "execute_result"
    }
   ],
   "source": [
    "train"
   ]
  },
  {
   "cell_type": "code",
   "execution_count": 9,
   "metadata": {},
   "outputs": [
    {
     "data": {
      "text/plain": [
       "(56, 56)"
      ]
     },
     "execution_count": 9,
     "metadata": {},
     "output_type": "execute_result"
    }
   ],
   "source": [
    "train[0].shape"
   ]
  },
  {
   "cell_type": "code",
   "execution_count": 11,
   "metadata": {},
   "outputs": [],
   "source": [
    "import numpy as np"
   ]
  },
  {
   "cell_type": "code",
   "execution_count": 14,
   "metadata": {},
   "outputs": [
    {
     "data": {
      "text/plain": [
       "array([[ 1,  2,  3,  4],\n",
       "       [ 5,  6,  7,  8],\n",
       "       [ 9, 10, 11, 12],\n",
       "       [13, 14, 15, 16]])"
      ]
     },
     "execution_count": 14,
     "metadata": {},
     "output_type": "execute_result"
    }
   ],
   "source": [
    "np.array([[1,2,3,4], [5,6,7,8], [9,10,11,12],[13,14,15,16]])"
   ]
  },
  {
   "cell_type": "code",
   "execution_count": 18,
   "metadata": {},
   "outputs": [],
   "source": [
    "tt = np.array([[1,2,3,5,6,7,9,10,11],[2,3,4,6,7,8,10,11,12],[5,6,7,9,10,11,13,14,15],[6,7,8,10,11,12,14,15,16]])"
   ]
  },
  {
   "cell_type": "code",
   "execution_count": 19,
   "metadata": {},
   "outputs": [
    {
     "data": {
      "text/plain": [
       "array([[ 1,  2,  3,  5,  6,  7,  9, 10, 11],\n",
       "       [ 2,  3,  4,  6,  7,  8, 10, 11, 12],\n",
       "       [ 5,  6,  7,  9, 10, 11, 13, 14, 15],\n",
       "       [ 6,  7,  8, 10, 11, 12, 14, 15, 16]])"
      ]
     },
     "execution_count": 19,
     "metadata": {},
     "output_type": "execute_result"
    }
   ],
   "source": [
    "tt"
   ]
  },
  {
   "cell_type": "code",
   "execution_count": 20,
   "metadata": {},
   "outputs": [],
   "source": [
    "Wini = np.array([np.nan, 1., np.nan, 1., 1., 1., np.nan, 1., np.nan])"
   ]
  },
  {
   "cell_type": "code",
   "execution_count": 41,
   "metadata": {},
   "outputs": [
    {
     "data": {
      "text/plain": [
       "array([[nan,  2., nan,  5.,  6.,  7., nan, 10., nan],\n",
       "       [nan,  3., nan,  6.,  7.,  8., nan, 11., nan],\n",
       "       [nan,  6., nan,  9., 10., 11., nan, 14., nan],\n",
       "       [nan,  7., nan, 10., 11., 12., nan, 15., nan]])"
      ]
     },
     "execution_count": 41,
     "metadata": {},
     "output_type": "execute_result"
    }
   ],
   "source": [
    "arr = tt*Wini\n",
    "arr"
   ]
  },
  {
   "cell_type": "code",
   "execution_count": 42,
   "metadata": {},
   "outputs": [
    {
     "data": {
      "text/plain": [
       "array([[ 2.,  5.,  6.,  7., 10.],\n",
       "       [ 3.,  6.,  7.,  8., 11.],\n",
       "       [ 6.,  9., 10., 11., 14.],\n",
       "       [ 7., 10., 11., 12., 15.]])"
      ]
     },
     "execution_count": 42,
     "metadata": {},
     "output_type": "execute_result"
    }
   ],
   "source": [
    "cleaned_array = [row[~np.isnan(row)] for row in arr]\n",
    "result_array = np.array(cleaned_array)\n",
    "result_array"
   ]
  },
  {
   "cell_type": "code",
   "execution_count": 23,
   "metadata": {},
   "outputs": [],
   "source": [
    "wlen = 3\n",
    "increase = int(round(wlen/2-0.1,0))"
   ]
  },
  {
   "cell_type": "code",
   "execution_count": 69,
   "metadata": {},
   "outputs": [],
   "source": [
    "def get_images(img_size, img_type):\n",
    "    ximg = []\n",
    "    yimg = []\n",
    "    for img in range(1,img_size+1):\n",
    "        x = cv2.imread(f'./data/x/{img_type}{img:02d}.jpg', cv2.IMREAD_GRAYSCALE)\n",
    "        y = cv2.imread(f'./data/y/{img_type}{img:02d}.jpg', cv2.IMREAD_GRAYSCALE)\n",
    "        xbin = _convert_binary(x)\n",
    "        xbin_inc = increase_zero(xbin)\n",
    "        ybin = _convert_binary(y)\n",
    "        for i in range(xbin.shape[0]):\n",
    "            for j in range(xbin.shape[1]):\n",
    "                window = np.array(xbin_inc[i:i + wlen, j:j + wlen]).flatten()\n",
    "                window = (xbin_inc[i:i + wlen, j:j + wlen]).flatten()\n",
    "                ximg.append(window)\n",
    "                yimg.append(ybin[i, j])\n",
    "    return np.vstack(ximg) , np.array(yimg)\n",
    "\n",
    "def increase_zero(img):\n",
    "    img_inc = -np.ones((img.shape[0]+increase*2, img.shape[1]+increase*2), dtype=img.dtype)\n",
    "    img_inc[increase:img_inc.shape[0]-increase,increase:img_inc.shape[1]-increase] = img\n",
    "    return img_inc\n",
    "\n",
    "def _convert_binary(img):\n",
    "    (_, img_bin) = cv2.threshold(img, 100, 255, cv2.THRESH_BINARY)\n",
    "    img_bin = img_bin.astype('float64')\n",
    "    img_bin[(img_bin==0)]=1\n",
    "    img_bin[(img_bin==255)]=-1    \n",
    "    return img_bin"
   ]
  },
  {
   "cell_type": "code",
   "execution_count": 70,
   "metadata": {},
   "outputs": [],
   "source": [
    "train_size = 10\n",
    "img_type = 'train'"
   ]
  },
  {
   "cell_type": "code",
   "execution_count": 71,
   "metadata": {},
   "outputs": [],
   "source": [
    "x, y = get_images(train_size, 'train')"
   ]
  },
  {
   "cell_type": "code",
   "execution_count": 74,
   "metadata": {},
   "outputs": [
    {
     "data": {
      "text/plain": [
       "((31360, 9), (31360,))"
      ]
     },
     "execution_count": 74,
     "metadata": {},
     "output_type": "execute_result"
    }
   ],
   "source": [
    "x.shape, y.shape"
   ]
  },
  {
   "cell_type": "code",
   "execution_count": 78,
   "metadata": {},
   "outputs": [
    {
     "data": {
      "text/plain": [
       "56"
      ]
     },
     "execution_count": 78,
     "metadata": {},
     "output_type": "execute_result"
    }
   ],
   "source": [
    "xbin.shape[0]"
   ]
  },
  {
   "cell_type": "code",
   "execution_count": 87,
   "metadata": {},
   "outputs": [
    {
     "data": {
      "text/plain": [
       "array([5., 5.])"
      ]
     },
     "execution_count": 87,
     "metadata": {},
     "output_type": "execute_result"
    }
   ],
   "source": [
    "W = []\n",
    "W.append(np.array([np.nan, 1., np.nan, 1., 1., 1., np.nan, 1., np.nan]))\n",
    "W.append(np.array([np.nan, 1., np.nan, 1., 1., 1., np.nan, 1., np.nan]))\n",
    "np.nansum(W, axis=1)"
   ]
  },
  {
   "cell_type": "code",
   "execution_count": null,
   "metadata": {},
   "outputs": [],
   "source": []
  },
  {
   "cell_type": "code",
   "execution_count": 84,
   "metadata": {},
   "outputs": [
    {
     "data": {
      "text/plain": [
       "32"
      ]
     },
     "execution_count": 84,
     "metadata": {},
     "output_type": "execute_result"
    }
   ],
   "source": [
    "2**5"
   ]
  },
  {
   "cell_type": "code",
   "execution_count": 65,
   "metadata": {},
   "outputs": [],
   "source": [
    "a = np.array([[1, 2, 3, 4, 5],\n",
    "                  [6, 7, 8, 9, 10],\n",
    "                  [11, 12, 13, 14, 15]])"
   ]
  },
  {
   "cell_type": "code",
   "execution_count": 68,
   "metadata": {},
   "outputs": [
    {
     "ename": "AttributeError",
     "evalue": "'numpy.ndarray' object has no attribute 'values'",
     "output_type": "error",
     "traceback": [
      "\u001b[1;31m---------------------------------------------------------------------------\u001b[0m",
      "\u001b[1;31mAttributeError\u001b[0m                            Traceback (most recent call last)",
      "\u001b[1;32m<ipython-input-68-1dd066a4488a>\u001b[0m in \u001b[0;36m<module>\u001b[1;34m\u001b[0m\n\u001b[1;32m----> 1\u001b[1;33m \u001b[0ma\u001b[0m\u001b[1;33m.\u001b[0m\u001b[0mflatten\u001b[0m\u001b[1;33m(\u001b[0m\u001b[1;33m)\u001b[0m\u001b[1;33m.\u001b[0m\u001b[0mvalues\u001b[0m\u001b[1;33m\u001b[0m\u001b[1;33m\u001b[0m\u001b[0m\n\u001b[0m",
      "\u001b[1;31mAttributeError\u001b[0m: 'numpy.ndarray' object has no attribute 'values'"
     ]
    }
   ],
   "source": [
    "a.flatten().values"
   ]
  },
  {
   "cell_type": "code",
   "execution_count": null,
   "metadata": {},
   "outputs": [],
   "source": []
  },
  {
   "cell_type": "code",
   "execution_count": null,
   "metadata": {},
   "outputs": [],
   "source": []
  },
  {
   "cell_type": "code",
   "execution_count": null,
   "metadata": {},
   "outputs": [],
   "source": []
  },
  {
   "cell_type": "code",
   "execution_count": 17,
   "metadata": {},
   "outputs": [
    {
     "name": "stdout",
     "output_type": "stream",
     "text": [
      "[[1 2]\n",
      " [6 7]]\n",
      "[[2 3]\n",
      " [7 8]]\n",
      "[[3 4]\n",
      " [8 9]]\n",
      "[[ 4  5]\n",
      " [ 9 10]]\n",
      "[[ 6  7]\n",
      " [11 12]]\n",
      "[[ 7  8]\n",
      " [12 13]]\n",
      "[[ 8  9]\n",
      " [13 14]]\n",
      "[[ 9 10]\n",
      " [14 15]]\n"
     ]
    }
   ],
   "source": [
    "import numpy as np\n",
    "\n",
    "def sliding_window(matrix, window_size):\n",
    "    \"\"\"\n",
    "    Generate submatrices using a sliding window over a 2D matrix.\n",
    "\n",
    "    Args:\n",
    "        matrix (numpy.ndarray): The input 2D matrix.\n",
    "        window_size (tuple): A tuple (height, width) representing the window size.\n",
    "\n",
    "    Yields:\n",
    "        numpy.ndarray: Submatrices corresponding to each position of the sliding window.\n",
    "    \"\"\"\n",
    "    if not isinstance(matrix, np.ndarray):\n",
    "        matrix = np.array(matrix)\n",
    "\n",
    "    if not isinstance(window_size, tuple) or len(window_size) != 2:\n",
    "        raise ValueError(\"window_size must be a tuple of two integers (height, width).\")\n",
    "\n",
    "    height, width = window_size\n",
    "    matrix_height, matrix_width = matrix.shape\n",
    "\n",
    "    if height > matrix_height or width > matrix_width:\n",
    "        raise ValueError(\"Window size exceeds the matrix dimensions.\")\n",
    "\n",
    "    for i in range(matrix_height - height + 1):\n",
    "        for j in range(matrix_width - width + 1):\n",
    "            window = matrix[i:i + height, j:j + width].fl\n",
    "            yield window\n",
    "\n",
    "# Example usage:\n",
    "matrix = np.array([[1, 2, 3, 4, 5],\n",
    "                  [6, 7, 8, 9, 10],\n",
    "                  [11, 12, 13, 14, 15]])\n",
    "\n",
    "window_size = (2, 2)\n",
    "\n",
    "for submatrix in sliding_window(matrix, window_size):\n",
    "    print(submatrix)\n"
   ]
  },
  {
   "cell_type": "code",
   "execution_count": 37,
   "metadata": {},
   "outputs": [
    {
     "data": {
      "text/plain": [
       "array([ 9, 10, 14, 15])"
      ]
     },
     "execution_count": 37,
     "metadata": {},
     "output_type": "execute_result"
    }
   ],
   "source": [
    "np.array(submatrix).flatten()"
   ]
  },
  {
   "cell_type": "code",
   "execution_count": 35,
   "metadata": {},
   "outputs": [
    {
     "data": {
      "text/plain": [
       "array([1, 2, 3, 4])"
      ]
     },
     "execution_count": 35,
     "metadata": {},
     "output_type": "execute_result"
    }
   ],
   "source": [
    "a = np.array([[1,2], [3,4]])\n",
    "a.flatten()"
   ]
  },
  {
   "cell_type": "code",
   "execution_count": 2,
   "metadata": {},
   "outputs": [
    {
     "name": "stdout",
     "output_type": "stream",
     "text": [
      "Janela Inicializada: [array([nan,  1., nan,  1.,  1.,  1., nan,  1., nan]), array([nan,  1., nan,  1.,  1.,  1., nan,  1., nan])]\n",
      "Joint Inicializada: [array([['00000', '1'],\n",
      "       ['00001', '0'],\n",
      "       ['00010', '0'],\n",
      "       ['00011', '1'],\n",
      "       ['00100', '0'],\n",
      "       ['00101', '1'],\n",
      "       ['00110', '1'],\n",
      "       ['00111', '1'],\n",
      "       ['01000', '1'],\n",
      "       ['01001', '1'],\n",
      "       ['01010', '1'],\n",
      "       ['01011', '0'],\n",
      "       ['01100', '1'],\n",
      "       ['01101', '0'],\n",
      "       ['01110', '0'],\n",
      "       ['01111', '1'],\n",
      "       ['10000', '0'],\n",
      "       ['10001', '0'],\n",
      "       ['10010', '1'],\n",
      "       ['10011', '0'],\n",
      "       ['10100', '1'],\n",
      "       ['10101', '0'],\n",
      "       ['10110', '1'],\n",
      "       ['10111', '1'],\n",
      "       ['11000', '0'],\n",
      "       ['11001', '0'],\n",
      "       ['11010', '0'],\n",
      "       ['11011', '1'],\n",
      "       ['11100', '0'],\n",
      "       ['11101', '0'],\n",
      "       ['11110', '0'],\n",
      "       ['11111', '0']], dtype='<U11'), array([['00000', '0'],\n",
      "       ['00001', '1'],\n",
      "       ['00010', '0'],\n",
      "       ['00011', '0'],\n",
      "       ['00100', '1'],\n",
      "       ['00101', '0'],\n",
      "       ['00110', '1'],\n",
      "       ['00111', '1'],\n",
      "       ['01000', '1'],\n",
      "       ['01001', '0'],\n",
      "       ['01010', '0'],\n",
      "       ['01011', '1'],\n",
      "       ['01100', '0'],\n",
      "       ['01101', '0'],\n",
      "       ['01110', '0'],\n",
      "       ['01111', '0'],\n",
      "       ['10000', '1'],\n",
      "       ['10001', '0'],\n",
      "       ['10010', '0'],\n",
      "       ['10011', '0'],\n",
      "       ['10100', '0'],\n",
      "       ['10101', '1'],\n",
      "       ['10110', '0'],\n",
      "       ['10111', '0'],\n",
      "       ['11000', '1'],\n",
      "       ['11001', '1'],\n",
      "       ['11010', '1'],\n",
      "       ['11011', '0'],\n",
      "       ['11100', '0'],\n",
      "       ['11101', '1'],\n",
      "       ['11110', '1'],\n",
      "       ['11111', '1']], dtype='<U11')]\n",
      "Resultados serão salvos em  results_V4\n",
      "------------------------------------------------------------------\n"
     ]
    }
   ],
   "source": [
    "import USDMM_v3 as USDMM\n",
    "\n",
    "WOMC = USDMM.WOMC(\n",
    "    new = True, # True/ STR -> If True inicialize with the cross operator/ If STR it will opens the file with the name passed\n",
    "    nlayer = 2, # INT -> Number of operators in each layer\n",
    "    wlen = 3,  # INT -> Size of the operator (wlen*wlen)\n",
    "    train_size = 10, # INT -> Number of images to train \n",
    "    val_size = 10, # INT -> Number of images to validate\n",
    "    test_size = 10, # INT -> Number of images to test\n",
    "    error_type = 'iou', # 'mae' / 'iou' -> type of error\n",
    "    neighbors_sample = False, # INT/False -> Number of neighbors to sort\n",
    "    epoch_f = 10, # INT -> Number of epochs for the boolean function lattice (fixed windows)\n",
    "    epoch_w = 50, # INT -> Number of epochs for the windows lattice\n",
    "    batch = 10, # INT -> Batch size\n",
    "    path_results = 'results_V4', # STR -> file where we want to save the results\n",
    "    name_save='_V4', # STR -> pos fixed name for the results saved\n",
    "    seed = 0, #INT -> seed for reproducibilit\n",
    "    parallel = True, # True/False -> use parallel (True) or sequential (False)\n",
    "    early_stop_round_f = 20, #INT -> max number of epochs without changes in the boolean function lattice\n",
    "    early_stop_round_w = 10 #INT -> max number of epochs without changes in the windows lattice\n",
    ")"
   ]
  },
  {
   "cell_type": "code",
   "execution_count": 3,
   "metadata": {},
   "outputs": [
    {
     "ename": "AttributeError",
     "evalue": "module 'USDMM_v3' has no attribute 'initialize_parameters_nn'",
     "output_type": "error",
     "traceback": [
      "\u001b[1;31m---------------------------------------------------------------------------\u001b[0m",
      "\u001b[1;31mAttributeError\u001b[0m                            Traceback (most recent call last)",
      "\u001b[1;32m<ipython-input-3-209f437a4a36>\u001b[0m in \u001b[0;36m<module>\u001b[1;34m\u001b[0m\n\u001b[1;32m----> 1\u001b[1;33m \u001b[0mUSDMM\u001b[0m\u001b[1;33m.\u001b[0m\u001b[0minitialize_parameters_nn\u001b[0m\u001b[1;33m(\u001b[0m\u001b[1;33m[\u001b[0m\u001b[0mnp\u001b[0m\u001b[1;33m.\u001b[0m\u001b[0marray\u001b[0m\u001b[1;33m(\u001b[0m\u001b[1;33m[\u001b[0m\u001b[0mnp\u001b[0m\u001b[1;33m.\u001b[0m\u001b[0mnan\u001b[0m\u001b[1;33m,\u001b[0m  \u001b[1;36m1.\u001b[0m\u001b[1;33m,\u001b[0m \u001b[0mnp\u001b[0m\u001b[1;33m.\u001b[0m\u001b[0mnan\u001b[0m\u001b[1;33m,\u001b[0m  \u001b[1;36m1.\u001b[0m\u001b[1;33m,\u001b[0m  \u001b[1;36m1.\u001b[0m\u001b[1;33m,\u001b[0m  \u001b[1;36m1.\u001b[0m\u001b[1;33m,\u001b[0m \u001b[0mnp\u001b[0m\u001b[1;33m.\u001b[0m\u001b[0mnan\u001b[0m\u001b[1;33m,\u001b[0m  \u001b[1;36m1.\u001b[0m\u001b[1;33m,\u001b[0m \u001b[0mnp\u001b[0m\u001b[1;33m.\u001b[0m\u001b[0mnan\u001b[0m\u001b[1;33m]\u001b[0m\u001b[1;33m)\u001b[0m\u001b[1;33m,\u001b[0m\u001b[0mnp\u001b[0m\u001b[1;33m.\u001b[0m\u001b[0marray\u001b[0m\u001b[1;33m(\u001b[0m\u001b[1;33m[\u001b[0m\u001b[0mnp\u001b[0m\u001b[1;33m.\u001b[0m\u001b[0mnan\u001b[0m\u001b[1;33m,\u001b[0m  \u001b[1;36m1.\u001b[0m\u001b[1;33m,\u001b[0m \u001b[0mnp\u001b[0m\u001b[1;33m.\u001b[0m\u001b[0mnan\u001b[0m\u001b[1;33m,\u001b[0m  \u001b[1;36m1.\u001b[0m\u001b[1;33m,\u001b[0m  \u001b[1;36m1.\u001b[0m\u001b[1;33m,\u001b[0m  \u001b[1;36m1.\u001b[0m\u001b[1;33m,\u001b[0m \u001b[0mnp\u001b[0m\u001b[1;33m.\u001b[0m\u001b[0mnan\u001b[0m\u001b[1;33m,\u001b[0m  \u001b[1;36m1.\u001b[0m\u001b[1;33m,\u001b[0m \u001b[0mnp\u001b[0m\u001b[1;33m.\u001b[0m\u001b[0mnan\u001b[0m\u001b[1;33m]\u001b[0m\u001b[1;33m)\u001b[0m\u001b[1;33m]\u001b[0m\u001b[1;33m)\u001b[0m\u001b[1;33m\u001b[0m\u001b[1;33m\u001b[0m\u001b[0m\n\u001b[0m",
      "\u001b[1;31mAttributeError\u001b[0m: module 'USDMM_v3' has no attribute 'initialize_parameters_nn'"
     ]
    }
   ],
   "source": [
    "USDMM.initialize_parameters_nn([np.array([np.nan,  1., np.nan,  1.,  1.,  1., np.nan,  1., np.nan]),np.array([np.nan,  1., np.nan,  1.,  1.,  1., np.nan,  1., np.nan])])"
   ]
  },
  {
   "cell_type": "code",
   "execution_count": null,
   "metadata": {},
   "outputs": [],
   "source": []
  }
 ],
 "metadata": {
  "kernelspec": {
   "display_name": "pyenv",
   "language": "python",
   "name": "python3"
  },
  "language_info": {
   "codemirror_mode": {
    "name": "ipython",
    "version": 3
   },
   "file_extension": ".py",
   "mimetype": "text/x-python",
   "name": "python",
   "nbconvert_exporter": "python",
   "pygments_lexer": "ipython3",
   "version": "3.8.8"
  }
 },
 "nbformat": 4,
 "nbformat_minor": 2
}
