{
 "cells": [
  {
   "cell_type": "code",
   "execution_count": 1,
   "metadata": {},
   "outputs": [],
   "source": [
    "import numpy as np\n",
    "import itertools\n",
    "import cv2\n",
    "import random\n",
    "import copy\n",
    "from time import sleep, time\n",
    "import pickle\n",
    "import concurrent.futures\n",
    "import os\n",
    "import pandas as pd"
   ]
  },
  {
   "cell_type": "code",
   "execution_count": 2,
   "metadata": {},
   "outputs": [],
   "source": [
    "import USDMM\n",
    "import USDMM_v2\n",
    "import USDMM_v3"
   ]
  },
  {
   "cell_type": "code",
   "execution_count": 3,
   "metadata": {},
   "outputs": [
    {
     "name": "stdout",
     "output_type": "stream",
     "text": [
      "Janela Inicializada: [array([nan,  1., nan,  1.,  1.,  1., nan,  1., nan]), array([nan,  1., nan,  1.,  1.,  1., nan,  1., nan])]\n",
      "Joint Inicializada: [array([['00000', '1'],\n",
      "       ['00001', '0'],\n",
      "       ['00010', '0'],\n",
      "       ['00011', '1'],\n",
      "       ['00100', '0'],\n",
      "       ['00101', '1'],\n",
      "       ['00110', '1'],\n",
      "       ['00111', '1'],\n",
      "       ['01000', '1'],\n",
      "       ['01001', '1'],\n",
      "       ['01010', '1'],\n",
      "       ['01011', '0'],\n",
      "       ['01100', '1'],\n",
      "       ['01101', '0'],\n",
      "       ['01110', '0'],\n",
      "       ['01111', '1'],\n",
      "       ['10000', '0'],\n",
      "       ['10001', '0'],\n",
      "       ['10010', '1'],\n",
      "       ['10011', '0'],\n",
      "       ['10100', '1'],\n",
      "       ['10101', '0'],\n",
      "       ['10110', '1'],\n",
      "       ['10111', '1'],\n",
      "       ['11000', '0'],\n",
      "       ['11001', '0'],\n",
      "       ['11010', '0'],\n",
      "       ['11011', '1'],\n",
      "       ['11100', '0'],\n",
      "       ['11101', '0'],\n",
      "       ['11110', '0'],\n",
      "       ['11111', '0']], dtype='<U21'), array([['00000', '0'],\n",
      "       ['00001', '1'],\n",
      "       ['00010', '0'],\n",
      "       ['00011', '0'],\n",
      "       ['00100', '1'],\n",
      "       ['00101', '0'],\n",
      "       ['00110', '1'],\n",
      "       ['00111', '1'],\n",
      "       ['01000', '1'],\n",
      "       ['01001', '0'],\n",
      "       ['01010', '0'],\n",
      "       ['01011', '1'],\n",
      "       ['01100', '0'],\n",
      "       ['01101', '0'],\n",
      "       ['01110', '0'],\n",
      "       ['01111', '0'],\n",
      "       ['10000', '1'],\n",
      "       ['10001', '0'],\n",
      "       ['10010', '0'],\n",
      "       ['10011', '0'],\n",
      "       ['10100', '0'],\n",
      "       ['10101', '1'],\n",
      "       ['10110', '0'],\n",
      "       ['10111', '0'],\n",
      "       ['11000', '1'],\n",
      "       ['11001', '1'],\n",
      "       ['11010', '1'],\n",
      "       ['11011', '0'],\n",
      "       ['11100', '0'],\n",
      "       ['11101', '1'],\n",
      "       ['11110', '1'],\n",
      "       ['11111', '1']], dtype='<U21')]\n",
      "Resultados serão salvos em  results_V2\n",
      "Resultados serão salvos em  results_V2\n",
      "------------------------------------------------------------------\n"
     ]
    }
   ],
   "source": [
    "WOMC = USDMM.WOMC(\n",
    "    new = True, # True/ STR -> If True inicialize with the cross operator/ If STR it will opens the file with the name passed\n",
    "    nlayer = 2, # INT -> Number of operators in each layer\n",
    "    wlen = 3,  # INT -> Size of the operator (wlen*wlen)\n",
    "    train_size = 10, # INT -> Number of images to train \n",
    "    val_size = 10, # INT -> Number of images to validate\n",
    "    test_size = 10, # INT -> Number of images to test\n",
    "    error_type = 'iou', # 'mae' / 'iou' -> type of error\n",
    "    neighbors_sample = False, # INT/False -> Number of neighbors to sort\n",
    "    epoch_f = 10, # INT -> Number of epochs for the boolean function lattice (fixed windows)\n",
    "    epoch_w = 50, # INT -> Number of epochs for the windows lattice\n",
    "    batch = 10, # INT -> Batch size\n",
    "    path_results = 'results_V2', # STR -> file where we want to save the results\n",
    "    name_save='_V2', # STR -> pos fixed name for the results saved\n",
    "    seed = 0, #INT -> seed for reproducibilit\n",
    "    parallel = True, # True/False -> use parallel (True) or sequential (False)\n",
    "    early_stop_round_f = 20, #INT -> max number of epochs without changes in the boolean function lattice\n",
    "    early_stop_round_w = 10 #INT -> max number of epochs without changes in the windows lattice\n",
    ")"
   ]
  },
  {
   "cell_type": "code",
   "execution_count": 4,
   "metadata": {},
   "outputs": [
    {
     "name": "stdout",
     "output_type": "stream",
     "text": [
      "Janela Inicializada: [array([nan,  1., nan,  1.,  1.,  1., nan,  1., nan]), array([nan,  1., nan,  1.,  1.,  1., nan,  1., nan])]\n",
      "Joint Inicializada: [array([['00000', '1'],\n",
      "       ['00001', '0'],\n",
      "       ['00010', '0'],\n",
      "       ['00011', '1'],\n",
      "       ['00100', '0'],\n",
      "       ['00101', '1'],\n",
      "       ['00110', '1'],\n",
      "       ['00111', '1'],\n",
      "       ['01000', '1'],\n",
      "       ['01001', '1'],\n",
      "       ['01010', '1'],\n",
      "       ['01011', '0'],\n",
      "       ['01100', '1'],\n",
      "       ['01101', '0'],\n",
      "       ['01110', '0'],\n",
      "       ['01111', '1'],\n",
      "       ['10000', '0'],\n",
      "       ['10001', '0'],\n",
      "       ['10010', '1'],\n",
      "       ['10011', '0'],\n",
      "       ['10100', '1'],\n",
      "       ['10101', '0'],\n",
      "       ['10110', '1'],\n",
      "       ['10111', '1'],\n",
      "       ['11000', '0'],\n",
      "       ['11001', '0'],\n",
      "       ['11010', '0'],\n",
      "       ['11011', '1'],\n",
      "       ['11100', '0'],\n",
      "       ['11101', '0'],\n",
      "       ['11110', '0'],\n",
      "       ['11111', '0']], dtype='<U21'), array([['00000', '0'],\n",
      "       ['00001', '1'],\n",
      "       ['00010', '0'],\n",
      "       ['00011', '0'],\n",
      "       ['00100', '1'],\n",
      "       ['00101', '0'],\n",
      "       ['00110', '1'],\n",
      "       ['00111', '1'],\n",
      "       ['01000', '1'],\n",
      "       ['01001', '0'],\n",
      "       ['01010', '0'],\n",
      "       ['01011', '1'],\n",
      "       ['01100', '0'],\n",
      "       ['01101', '0'],\n",
      "       ['01110', '0'],\n",
      "       ['01111', '0'],\n",
      "       ['10000', '1'],\n",
      "       ['10001', '0'],\n",
      "       ['10010', '0'],\n",
      "       ['10011', '0'],\n",
      "       ['10100', '0'],\n",
      "       ['10101', '1'],\n",
      "       ['10110', '0'],\n",
      "       ['10111', '0'],\n",
      "       ['11000', '1'],\n",
      "       ['11001', '1'],\n",
      "       ['11010', '1'],\n",
      "       ['11011', '0'],\n",
      "       ['11100', '0'],\n",
      "       ['11101', '1'],\n",
      "       ['11110', '1'],\n",
      "       ['11111', '1']], dtype='<U21')]\n",
      "Resultados serão salvos em  results_V2\n",
      "------------------------------------------------------------------\n"
     ]
    }
   ],
   "source": [
    "WOMC2 = USDMM_v2.WOMC(\n",
    "    new = True, # True/ STR -> If True inicialize with the cross operator/ If STR it will opens the file with the name passed\n",
    "    nlayer = 2, # INT -> Number of operators in each layer\n",
    "    wlen = 3,  # INT -> Size of the operator (wlen*wlen)\n",
    "    train_size = 10, # INT -> Number of images to train \n",
    "    val_size = 10, # INT -> Number of images to validate\n",
    "    test_size = 10, # INT -> Number of images to test\n",
    "    error_type = 'iou', # 'mae' / 'iou' -> type of error\n",
    "    neighbors_sample = False, # INT/False -> Number of neighbors to sort\n",
    "    epoch_f = 10, # INT -> Number of epochs for the boolean function lattice (fixed windows)\n",
    "    epoch_w = 50, # INT -> Number of epochs for the windows lattice\n",
    "    batch = 10, # INT -> Batch size\n",
    "    path_results = 'results_V2', # STR -> file where we want to save the results\n",
    "    name_save='_V2', # STR -> pos fixed name for the results saved\n",
    "    seed = 0, #INT -> seed for reproducibilit\n",
    "    parallel = True, # True/False -> use parallel (True) or sequential (False)\n",
    "    early_stop_round_f = 20, #INT -> max number of epochs without changes in the boolean function lattice\n",
    "    early_stop_round_w = 10 #INT -> max number of epochs without changes in the windows lattice\n",
    ")"
   ]
  },
  {
   "cell_type": "code",
   "execution_count": 5,
   "metadata": {},
   "outputs": [
    {
     "name": "stdout",
     "output_type": "stream",
     "text": [
      "Janela Inicializada: [array([nan,  1., nan,  1.,  1.,  1., nan,  1., nan]), array([nan,  1., nan,  1.,  1.,  1., nan,  1., nan])]\n",
      "Resultados serão salvos em  results_V2\n",
      "------------------------------------------------------------------\n"
     ]
    }
   ],
   "source": [
    "WOMC3 = USDMM_v3.WOMC(\n",
    "    new = True, # True/ STR -> If True inicialize with the cross operator/ If STR it will opens the file with the name passed\n",
    "    nlayer = 2, # INT -> Number of operators in each layer\n",
    "    wlen = 3,  # INT -> Size of the operator (wlen*wlen)\n",
    "    train_size = 10, # INT -> Number of images to train \n",
    "    val_size = 10, # INT -> Number of images to validate\n",
    "    test_size = 10, # INT -> Number of images to test\n",
    "    error_type = 'iou', # 'mae' / 'iou' -> type of error\n",
    "    neighbors_sample = False, # INT/False -> Number of neighbors to sort\n",
    "    epoch_f = 10, # INT -> Number of epochs for the boolean function lattice (fixed windows)\n",
    "    epoch_w = 50, # INT -> Number of epochs for the windows lattice\n",
    "    batch = 10, # INT -> Batch size\n",
    "    path_results = 'results_V2', # STR -> file where we want to save the results\n",
    "    name_save='_V2', # STR -> pos fixed name for the results saved\n",
    "    seed = 0, #INT -> seed for reproducibilit\n",
    "    parallel = True, # True/False -> use parallel (True) or sequential (False)\n",
    "    early_stop_round_f = 20, #INT -> max number of epochs without changes in the boolean function lattice\n",
    "    early_stop_round_w = 10 #INT -> max number of epochs without changes in the windows lattice\n",
    ")"
   ]
  },
  {
   "cell_type": "code",
   "execution_count": 6,
   "metadata": {},
   "outputs": [],
   "source": [
    "(joint, error, epoch_min) = WOMC.get_error_window(WOMC.W, WOMC.joint, 0)"
   ]
  },
  {
   "cell_type": "code",
   "execution_count": 7,
   "metadata": {},
   "outputs": [
    {
     "data": {
      "text/plain": [
       "array([0.61747601, 0.61736838])"
      ]
     },
     "execution_count": 7,
     "metadata": {},
     "output_type": "execute_result"
    }
   ],
   "source": [
    "error"
   ]
  },
  {
   "cell_type": "code",
   "execution_count": 37,
   "metadata": {},
   "outputs": [
    {
     "data": {
      "text/plain": [
       "array([0.61747601, 0.61736838])"
      ]
     },
     "execution_count": 37,
     "metadata": {},
     "output_type": "execute_result"
    }
   ],
   "source": [
    "(joint, error, epoch_min) = WOMC.get_error_window_parallel(WOMC.W, WOMC.joint, 0)\n",
    "error"
   ]
  },
  {
   "cell_type": "code",
   "execution_count": 8,
   "metadata": {},
   "outputs": [
    {
     "data": {
      "text/plain": [
       "9"
      ]
     },
     "execution_count": 8,
     "metadata": {},
     "output_type": "execute_result"
    }
   ],
   "source": [
    "epoch_min"
   ]
  },
  {
   "cell_type": "code",
   "execution_count": 9,
   "metadata": {},
   "outputs": [],
   "source": [
    "(joint, error, epoch_min) = WOMC2.get_error_window(WOMC.W, WOMC.joint, 0)"
   ]
  },
  {
   "cell_type": "code",
   "execution_count": 38,
   "metadata": {},
   "outputs": [
    {
     "data": {
      "text/plain": [
       "array([0.61747601, 0.61736838])"
      ]
     },
     "execution_count": 38,
     "metadata": {},
     "output_type": "execute_result"
    }
   ],
   "source": [
    "(joint, error, epoch_min) = WOMC2.get_error_window_parallel(WOMC.W, WOMC.joint, 0)\n",
    "error"
   ]
  },
  {
   "cell_type": "code",
   "execution_count": 28,
   "metadata": {},
   "outputs": [
    {
     "data": {
      "text/plain": [
       "[array([nan,  1., nan,  1.,  1.,  1., nan,  1., nan]),\n",
       " array([nan,  1., nan,  1.,  1.,  1., nan,  1., nan])]"
      ]
     },
     "execution_count": 28,
     "metadata": {},
     "output_type": "execute_result"
    }
   ],
   "source": [
    "WOMC2.W"
   ]
  },
  {
   "cell_type": "code",
   "execution_count": 29,
   "metadata": {},
   "outputs": [],
   "source": [
    "W = np.array([np.nan, np.nan,np.nan,np.nan, 1., 1., np.nan, np.nan, np.nan])"
   ]
  },
  {
   "cell_type": "code",
   "execution_count": 33,
   "metadata": {},
   "outputs": [],
   "source": [
    "W = [W,W]"
   ]
  },
  {
   "cell_type": "code",
   "execution_count": 31,
   "metadata": {},
   "outputs": [],
   "source": [
    "joint = WOMC2.create_joint(W)"
   ]
  },
  {
   "cell_type": "code",
   "execution_count": 34,
   "metadata": {},
   "outputs": [],
   "source": [
    "joint = [joint, joint]"
   ]
  },
  {
   "cell_type": "code",
   "execution_count": 36,
   "metadata": {},
   "outputs": [
    {
     "data": {
      "text/plain": [
       "[array([['00', '1'],\n",
       "        ['01', '0'],\n",
       "        ['10', '0'],\n",
       "        ['11', '1']], dtype='<U21'),\n",
       " array([['00', '1'],\n",
       "        ['01', '0'],\n",
       "        ['10', '0'],\n",
       "        ['11', '1']], dtype='<U21')]"
      ]
     },
     "execution_count": 36,
     "metadata": {},
     "output_type": "execute_result"
    }
   ],
   "source": [
    "joint"
   ]
  },
  {
   "cell_type": "code",
   "execution_count": 35,
   "metadata": {},
   "outputs": [
    {
     "data": {
      "text/plain": [
       "[[array([[ 0.,  0.,  0.],\n",
       "         [ 0., -1., -1.],\n",
       "         [ 0.,  0.,  0.]]),\n",
       "  array([[0., 0., 0.],\n",
       "         [0., 1., 1.],\n",
       "         [0., 0., 0.]])],\n",
       " [array([[ 0.,  0.,  0.],\n",
       "         [ 0., -1., -1.],\n",
       "         [ 0.,  0.,  0.]]),\n",
       "  array([[0., 0., 0.],\n",
       "         [0., 1., 1.],\n",
       "         [0., 0., 0.]])]]"
      ]
     },
     "execution_count": 35,
     "metadata": {},
     "output_type": "execute_result"
    }
   ],
   "source": [
    "WOMC2.create_w_matrices(W,joint)"
   ]
  },
  {
   "cell_type": "code",
   "execution_count": 10,
   "metadata": {},
   "outputs": [
    {
     "data": {
      "text/plain": [
       "array([0.61747601, 0.61736838])"
      ]
     },
     "execution_count": 10,
     "metadata": {},
     "output_type": "execute_result"
    }
   ],
   "source": [
    "error"
   ]
  },
  {
   "cell_type": "code",
   "execution_count": 11,
   "metadata": {},
   "outputs": [
    {
     "data": {
      "text/plain": [
       "9"
      ]
     },
     "execution_count": 11,
     "metadata": {},
     "output_type": "execute_result"
    }
   ],
   "source": [
    "epoch_min"
   ]
  },
  {
   "cell_type": "code",
   "execution_count": 24,
   "metadata": {},
   "outputs": [],
   "source": [
    "X, y, x_shape = WOMC3.get_images_2(WOMC3.train_size, 'train')"
   ]
  },
  {
   "cell_type": "code",
   "execution_count": 25,
   "metadata": {},
   "outputs": [],
   "source": [
    "nn_parameters = WOMC3.initialize_parameters_nn(WOMC3.W)"
   ]
  },
  {
   "cell_type": "code",
   "execution_count": 16,
   "metadata": {},
   "outputs": [
    {
     "name": "stdout",
     "output_type": "stream",
     "text": [
      "Cost after iteration 1999: 0.9067064786671265\n"
     ]
    }
   ],
   "source": [
    "parameters, costs = WOMC3.nn_model_train(X, y, nn_parameters, learning_rate=0.01, num_iterations = 2000, print_cost = False )"
   ]
  },
  {
   "cell_type": "code",
   "execution_count": 20,
   "metadata": {},
   "outputs": [
    {
     "name": "stdout",
     "output_type": "stream",
     "text": [
      "Cost after iteration 1999: 0.9023278720586921\n"
     ]
    }
   ],
   "source": [
    "parameters, costs = WOMC3.nn_model_train(X, y, nn_parameters, learning_rate=0.1, num_iterations = 2000, print_cost = False )"
   ]
  },
  {
   "cell_type": "code",
   "execution_count": 23,
   "metadata": {},
   "outputs": [
    {
     "name": "stdout",
     "output_type": "stream",
     "text": [
      "Cost after iteration 1999: 0.9022375244514118\n"
     ]
    }
   ],
   "source": [
    "parameters, costs = WOMC3.nn_model_train(X, y, nn_parameters, learning_rate=0.5, num_iterations = 2000, print_cost = False )"
   ]
  },
  {
   "cell_type": "code",
   "execution_count": 26,
   "metadata": {},
   "outputs": [
    {
     "name": "stdout",
     "output_type": "stream",
     "text": [
      "Cost after iteration 1999: 0.9141664791644212\n"
     ]
    }
   ],
   "source": [
    "parameters, costs = WOMC3.nn_model_train(X, y, nn_parameters, learning_rate=1, num_iterations = 2000, print_cost = False )"
   ]
  },
  {
   "cell_type": "code",
   "execution_count": null,
   "metadata": {},
   "outputs": [],
   "source": []
  }
 ],
 "metadata": {
  "kernelspec": {
   "display_name": "envpy",
   "language": "python",
   "name": "python3"
  },
  "language_info": {
   "codemirror_mode": {
    "name": "ipython",
    "version": 3
   },
   "file_extension": ".py",
   "mimetype": "text/x-python",
   "name": "python",
   "nbconvert_exporter": "python",
   "pygments_lexer": "ipython3",
   "version": "3.9.13"
  },
  "orig_nbformat": 4
 },
 "nbformat": 4,
 "nbformat_minor": 2
}
