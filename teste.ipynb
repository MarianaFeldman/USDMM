{
 "cells": [
  {
   "cell_type": "code",
   "execution_count": 13,
   "metadata": {},
   "outputs": [],
   "source": [
    "import numpy as np\n",
    "import itertools\n",
    "import cv2\n",
    "import random\n",
    "import copy\n",
    "from time import sleep, time\n",
    "import pickle\n",
    "import concurrent.futures\n",
    "import os\n",
    "import pandas as pd"
   ]
  },
  {
   "cell_type": "code",
   "execution_count": 25,
   "metadata": {},
   "outputs": [
    {
     "data": {
      "text/plain": [
       "<module 'USDMM' from '/Users/mariana.feldman/Documents/GitHub/USDMM/USDMM.py'>"
      ]
     },
     "execution_count": 25,
     "metadata": {},
     "output_type": "execute_result"
    }
   ],
   "source": [
    "import USDMM as USDMM\n",
    "import importlib\n",
    "\n",
    "importlib.reload(USDMM)"
   ]
  },
  {
   "cell_type": "code",
   "execution_count": 26,
   "metadata": {},
   "outputs": [
    {
     "name": "stdout",
     "output_type": "stream",
     "text": [
      "Janela Inicializada: [array([nan,  1., nan,  1.,  1.,  1., nan,  1., nan]), array([nan,  1., nan,  1.,  1.,  1., nan,  1., nan])]\n",
      "Joint Inicializada: [array([['00000', '1'],\n",
      "       ['00001', '0'],\n",
      "       ['00010', '0'],\n",
      "       ['00011', '1'],\n",
      "       ['00100', '0'],\n",
      "       ['00101', '1'],\n",
      "       ['00110', '1'],\n",
      "       ['00111', '1'],\n",
      "       ['01000', '1'],\n",
      "       ['01001', '1'],\n",
      "       ['01010', '1'],\n",
      "       ['01011', '0'],\n",
      "       ['01100', '1'],\n",
      "       ['01101', '0'],\n",
      "       ['01110', '0'],\n",
      "       ['01111', '1'],\n",
      "       ['10000', '0'],\n",
      "       ['10001', '0'],\n",
      "       ['10010', '1'],\n",
      "       ['10011', '0'],\n",
      "       ['10100', '1'],\n",
      "       ['10101', '0'],\n",
      "       ['10110', '1'],\n",
      "       ['10111', '1'],\n",
      "       ['11000', '0'],\n",
      "       ['11001', '0'],\n",
      "       ['11010', '0'],\n",
      "       ['11011', '1'],\n",
      "       ['11100', '0'],\n",
      "       ['11101', '0'],\n",
      "       ['11110', '0'],\n",
      "       ['11111', '0']], dtype='<U21'), array([['00000', '0'],\n",
      "       ['00001', '1'],\n",
      "       ['00010', '0'],\n",
      "       ['00011', '0'],\n",
      "       ['00100', '1'],\n",
      "       ['00101', '0'],\n",
      "       ['00110', '1'],\n",
      "       ['00111', '1'],\n",
      "       ['01000', '1'],\n",
      "       ['01001', '0'],\n",
      "       ['01010', '0'],\n",
      "       ['01011', '1'],\n",
      "       ['01100', '0'],\n",
      "       ['01101', '0'],\n",
      "       ['01110', '0'],\n",
      "       ['01111', '0'],\n",
      "       ['10000', '1'],\n",
      "       ['10001', '0'],\n",
      "       ['10010', '0'],\n",
      "       ['10011', '0'],\n",
      "       ['10100', '0'],\n",
      "       ['10101', '1'],\n",
      "       ['10110', '0'],\n",
      "       ['10111', '0'],\n",
      "       ['11000', '1'],\n",
      "       ['11001', '1'],\n",
      "       ['11010', '1'],\n",
      "       ['11011', '0'],\n",
      "       ['11100', '0'],\n",
      "       ['11101', '1'],\n",
      "       ['11110', '1'],\n",
      "       ['11111', '1']], dtype='<U21')]\n",
      "Resultados serão salvos em  results_V2\n",
      "------------------------------------------------------------------\n"
     ]
    }
   ],
   "source": [
    "import USDMM as USDMM\n",
    "\n",
    "WOMC = USDMM.WOMC(\n",
    "    new = True, # True/ STR -> If True inicialize with the cross operator/ If STR it will opens the file with the name passed\n",
    "    nlayer = 2, # INT -> Number of operators in each layer\n",
    "    wlen = 3,  # INT -> Size of the operator (wlen*wlen)\n",
    "    train_size = 10, # INT -> Number of images to train \n",
    "    val_size = 10, # INT -> Number of images to validate\n",
    "    test_size = 10, # INT -> Number of images to test\n",
    "    error_type = 'iou', # 'mae' / 'iou' -> type of error\n",
    "    neighbors_sample = 8, # INT/False -> Number of neighbors to sort\n",
    "    epoch_f = 100, # INT -> Number of epochs for the boolean function lattice (fixed windows)\n",
    "    epoch_w = 50, # INT -> Number of epochs for the windows lattice\n",
    "    batch = 1, # INT -> Batch size\n",
    "    path_results = 'results_V2', # STR -> file where we want to save the results\n",
    "    name_save='_V2', # STR -> pos fixed name for the results saved\n",
    "    seed = 0, #INT -> seed for reproducibilit\n",
    "    parallel = False, # True/False -> use parallel (True) or sequential (False)\n",
    "    early_stop_round_f = 1e6, #20, #INT -> max number of epochs without changes in the boolean function lattice\n",
    "    early_stop_round_w = 1e6 #10 #INT -> max number of epochs without changes in the windows lattice\n",
    ")\n",
    "\n",
    "\n",
    "#WOMC.results_after_fit()"
   ]
  },
  {
   "cell_type": "code",
   "execution_count": 19,
   "metadata": {},
   "outputs": [],
   "source": [
    "joint, error,f_epoch_min = WOMC.get_error_window_parallel(WOMC.W,WOMC.joint,0)"
   ]
  },
  {
   "cell_type": "code",
   "execution_count": 4,
   "metadata": {},
   "outputs": [],
   "source": [
    "joint, error,f_epoch_min = WOMC.get_error_window_parallel(WOMC.W,WOMC.joint,0)"
   ]
  },
  {
   "cell_type": "code",
   "execution_count": 27,
   "metadata": {},
   "outputs": [],
   "source": [
    "joint2, error2,f_epoch_min2 = WOMC.get_error_window(WOMC.W,WOMC.joint,0)"
   ]
  },
  {
   "cell_type": "code",
   "execution_count": 28,
   "metadata": {},
   "outputs": [
    {
     "name": "stdout",
     "output_type": "stream",
     "text": [
      "Time: 0.03 | Epoch 0 / 50 - start Validation error:  0.4690175399714055\n",
      "Time: 0.63 | Epoch 1 / 50 - Validation error: 0.29444630435423375\n",
      "Time: 1.43 | Epoch 2 / 50 - Validation error: 0.15260267876352274\n",
      "Time: 2.38 | Epoch 3 / 50 - Validation error: 0.1485179077708802\n",
      "Time: 3.10 | Epoch 4 / 50 - Validation error: 0.14936695356539378\n",
      "Time: 3.53 | Epoch 5 / 50 - Validation error: 0.1774624953032378\n",
      "Time: 4.26 | Epoch 6 / 50 - Validation error: 0.12598143601001968\n",
      "Time: 4.90 | Epoch 7 / 50 - Validation error: 0.10592777151772652\n",
      "Time: 5.59 | Epoch 8 / 50 - Validation error: 0.08308826535713619\n",
      "Time: 6.71 | Epoch 9 / 50 - Validation error: 0.14858957962846353\n",
      "Time: 7.38 | Epoch 10 / 50 - Validation error: 0.1219705476179532\n",
      "Time: 8.29 | Epoch 11 / 50 - Validation error: 0.11412356828011005\n",
      "Time: 9.59 | Epoch 12 / 50 - Validation error: 0.09123680214563798\n",
      "Time: 11.08 | Epoch 13 / 50 - Validation error: 0.14448880878619746\n",
      "Time: 12.41 | Epoch 14 / 50 - Validation error: 0.20402598967973487\n",
      "Time: 13.28 | Epoch 15 / 50 - Validation error: 0.16660250508918734\n",
      "Time: 13.95 | Epoch 16 / 50 - Validation error: 0.1601918683039866\n",
      "Time: 14.60 | Epoch 17 / 50 - Validation error: 0.13976063009745027\n",
      "Time: 15.52 | Epoch 18 / 50 - Validation error: 0.1551486464888357\n",
      "Time: 16.25 | Epoch 19 / 50 - Validation error: 0.12296115292313772\n",
      "Time: 17.05 | Epoch 20 / 50 - Validation error: 0.12731720847422284\n",
      "Time: 17.79 | Epoch 21 / 50 - Validation error: 0.14283028916368315\n",
      "Time: 18.72 | Epoch 22 / 50 - Validation error: 0.07496464865097949\n",
      "Time: 19.95 | Epoch 23 / 50 - Validation error: 0.0693375761539872\n",
      "Time: 20.94 | Epoch 24 / 50 - Validation error: 0.07754159303460802\n",
      "Time: 21.87 | Epoch 25 / 50 - Validation error: 0.11528580551477452\n",
      "Time: 23.11 | Epoch 26 / 50 - Validation error: 0.16250069336619416\n",
      "Time: 23.98 | Epoch 27 / 50 - Validation error: 0.15320696370132175\n",
      "Time: 25.18 | Epoch 28 / 50 - Validation error: 0.1425761656771401\n",
      "Time: 27.06 | Epoch 29 / 50 - Validation error: 0.1940317476852743\n",
      "Time: 28.44 | Epoch 30 / 50 - Validation error: 0.22435003221420402\n",
      "Time: 29.18 | Epoch 31 / 50 - Validation error: 0.142398184800218\n",
      "Time: 29.76 | Epoch 32 / 50 - Validation error: 0.1310101482016554\n",
      "Time: 30.27 | Epoch 33 / 50 - Validation error: 0.13779681409226502\n",
      "Time: 30.83 | Epoch 34 / 50 - Validation error: 0.15500391855856177\n",
      "Time: 31.45 | Epoch 35 / 50 - Validation error: 0.18541463884545156\n",
      "Time: 31.94 | Epoch 36 / 50 - Validation error: 0.1598373215927807\n",
      "Time: 32.55 | Epoch 37 / 50 - Validation error: 0.18812634680563897\n",
      "Time: 33.11 | Epoch 38 / 50 - Validation error: 0.15984340076066317\n",
      "Time: 34.03 | Epoch 39 / 50 - Validation error: 0.15363896928690507\n",
      "Time: 34.76 | Epoch 40 / 50 - Validation error: 0.15949644044288322\n",
      "Time: 35.18 | Epoch 41 / 50 - Validation error: 0.20240303002678575\n",
      "Time: 35.41 | Epoch 42 / 50 - Validation error: 0.16036027898596822\n",
      "Time: 35.89 | Epoch 43 / 50 - Validation error: 0.13215243768856824\n",
      "Time: 36.66 | Epoch 44 / 50 - Validation error: 0.11111587445956836\n",
      "Time: 38.02 | Epoch 45 / 50 - Validation error: 0.07558530908575684\n",
      "Time: 39.52 | Epoch 46 / 50 - Validation error: 0.07432317978478781\n",
      "Time: 41.16 | Epoch 47 / 50 - Validation error: 0.07558530908575684\n",
      "Time: 42.20 | Epoch 48 / 50 - Validation error: 0.07490513436916083\n",
      "Time: 43.55 | Epoch 49 / 50 - Validation error: 0.07262328728611572\n",
      "Time: 44.74 | Epoch 50 / 50 - Validation error: 0.07004052759144447\n",
      "----------------------------------------------------------------------\n",
      "End of testing\n",
      "Time: 44.74 | Min-Epoch 23 / 50 - Train error: 0.06667746261440376 / Validation error: 0.0693375761539872 / Test error: 0.06534499345554363\n",
      "Janela Final Aprendida: [array([nan,  1., nan,  1.,  1.,  1.,  1.,  1.,  1.]), array([nan, nan, nan, nan,  1.,  1.,  1.,  1., nan])]\n",
      "Joint Final Aprendida: [array([['0000000', '1'],\n",
      "       ['0000001', '1'],\n",
      "       ['0000010', '1'],\n",
      "       ['0000011', '1'],\n",
      "       ['0000100', '1'],\n",
      "       ['0000101', '1'],\n",
      "       ['0000110', '1'],\n",
      "       ['0000111', '0'],\n",
      "       ['0001000', '1'],\n",
      "       ['0001001', '0'],\n",
      "       ['0001010', '1'],\n",
      "       ['0001011', '0'],\n",
      "       ['0001100', '1'],\n",
      "       ['0001101', '0'],\n",
      "       ['0001110', '1'],\n",
      "       ['0001111', '0'],\n",
      "       ['0010000', '1'],\n",
      "       ['0010001', '1'],\n",
      "       ['0010010', '1'],\n",
      "       ['0010011', '0'],\n",
      "       ['0010100', '0'],\n",
      "       ['0010101', '0'],\n",
      "       ['0010110', '1'],\n",
      "       ['0010111', '0'],\n",
      "       ['0011000', '0'],\n",
      "       ['0011001', '0'],\n",
      "       ['0011010', '1'],\n",
      "       ['0011011', '0'],\n",
      "       ['0011100', '0'],\n",
      "       ['0011101', '0'],\n",
      "       ['0011110', '0'],\n",
      "       ['0011111', '0'],\n",
      "       ['0100000', '1'],\n",
      "       ['0100001', '1'],\n",
      "       ['0100010', '0'],\n",
      "       ['0100011', '1'],\n",
      "       ['0100100', '1'],\n",
      "       ['0100101', '1'],\n",
      "       ['0100110', '0'],\n",
      "       ['0100111', '0'],\n",
      "       ['0101000', '1'],\n",
      "       ['0101001', '0'],\n",
      "       ['0101010', '1'],\n",
      "       ['0101011', '0'],\n",
      "       ['0101100', '1'],\n",
      "       ['0101101', '1'],\n",
      "       ['0101110', '0'],\n",
      "       ['0101111', '0'],\n",
      "       ['0110000', '0'],\n",
      "       ['0110001', '1'],\n",
      "       ['0110010', '0'],\n",
      "       ['0110011', '0'],\n",
      "       ['0110100', '1'],\n",
      "       ['0110101', '0'],\n",
      "       ['0110110', '0'],\n",
      "       ['0110111', '0'],\n",
      "       ['0111000', '0'],\n",
      "       ['0111001', '1'],\n",
      "       ['0111010', '0'],\n",
      "       ['0111011', '1'],\n",
      "       ['0111100', '1'],\n",
      "       ['0111101', '1'],\n",
      "       ['0111110', '1'],\n",
      "       ['0111111', '1'],\n",
      "       ['1000000', '1'],\n",
      "       ['1000001', '1'],\n",
      "       ['1000010', '1'],\n",
      "       ['1000011', '1'],\n",
      "       ['1000100', '1'],\n",
      "       ['1000101', '0'],\n",
      "       ['1000110', '1'],\n",
      "       ['1000111', '1'],\n",
      "       ['1001000', '0'],\n",
      "       ['1001001', '0'],\n",
      "       ['1001010', '1'],\n",
      "       ['1001011', '0'],\n",
      "       ['1001100', '0'],\n",
      "       ['1001101', '1'],\n",
      "       ['1001110', '1'],\n",
      "       ['1001111', '0'],\n",
      "       ['1010000', '1'],\n",
      "       ['1010001', '1'],\n",
      "       ['1010010', '0'],\n",
      "       ['1010011', '0'],\n",
      "       ['1010100', '1'],\n",
      "       ['1010101', '0'],\n",
      "       ['1010110', '0'],\n",
      "       ['1010111', '1'],\n",
      "       ['1011000', '0'],\n",
      "       ['1011001', '0'],\n",
      "       ['1011010', '1'],\n",
      "       ['1011011', '1'],\n",
      "       ['1011100', '1'],\n",
      "       ['1011101', '1'],\n",
      "       ['1011110', '0'],\n",
      "       ['1011111', '1'],\n",
      "       ['1100000', '0'],\n",
      "       ['1100001', '1'],\n",
      "       ['1100010', '0'],\n",
      "       ['1100011', '1'],\n",
      "       ['1100100', '0'],\n",
      "       ['1100101', '0'],\n",
      "       ['1100110', '0'],\n",
      "       ['1100111', '0'],\n",
      "       ['1101000', '0'],\n",
      "       ['1101001', '0'],\n",
      "       ['1101010', '1'],\n",
      "       ['1101011', '1'],\n",
      "       ['1101100', '1'],\n",
      "       ['1101101', '1'],\n",
      "       ['1101110', '1'],\n",
      "       ['1101111', '1'],\n",
      "       ['1110000', '0'],\n",
      "       ['1110001', '0'],\n",
      "       ['1110010', '1'],\n",
      "       ['1110011', '0'],\n",
      "       ['1110100', '0'],\n",
      "       ['1110101', '1'],\n",
      "       ['1110110', '0'],\n",
      "       ['1110111', '1'],\n",
      "       ['1111000', '0'],\n",
      "       ['1111001', '1'],\n",
      "       ['1111010', '1'],\n",
      "       ['1111011', '1'],\n",
      "       ['1111100', '1'],\n",
      "       ['1111101', '1'],\n",
      "       ['1111110', '1'],\n",
      "       ['1111111', '1']], dtype='<U21'), array([['0000', '1'],\n",
      "       ['0001', '1'],\n",
      "       ['0010', '0'],\n",
      "       ['0011', '1'],\n",
      "       ['0100', '1'],\n",
      "       ['0101', '1'],\n",
      "       ['0110', '1'],\n",
      "       ['0111', '1'],\n",
      "       ['1000', '0'],\n",
      "       ['1001', '1'],\n",
      "       ['1010', '0'],\n",
      "       ['1011', '0'],\n",
      "       ['1100', '0'],\n",
      "       ['1101', '0'],\n",
      "       ['1110', '0'],\n",
      "       ['1111', '0']], dtype='<U21')]\n"
     ]
    }
   ],
   "source": [
    "WOMC.fit()"
   ]
  },
  {
   "cell_type": "code",
   "execution_count": 6,
   "metadata": {},
   "outputs": [],
   "source": [
    "W, joint, error_min_ep = WOMC.check_great_neighboors(WOMC.W,WOMC.joint,0)"
   ]
  },
  {
   "cell_type": "code",
   "execution_count": 7,
   "metadata": {},
   "outputs": [
    {
     "data": {
      "text/plain": [
       "array([0.54796682, 0.5519151 ])"
      ]
     },
     "execution_count": 7,
     "metadata": {},
     "output_type": "execute_result"
    }
   ],
   "source": [
    "error_min_ep"
   ]
  },
  {
   "cell_type": "code",
   "execution_count": 8,
   "metadata": {},
   "outputs": [],
   "source": [
    "W, joint, error_min_ep = WOMC.check_lesser_neighboors(WOMC.W,WOMC.joint,0)"
   ]
  },
  {
   "cell_type": "code",
   "execution_count": 10,
   "metadata": {},
   "outputs": [
    {
     "data": {
      "text/plain": [
       "array([0.42084617, 0.4141181 ])"
      ]
     },
     "execution_count": 10,
     "metadata": {},
     "output_type": "execute_result"
    }
   ],
   "source": [
    "error_min_ep"
   ]
  },
  {
   "cell_type": "code",
   "execution_count": 60,
   "metadata": {},
   "outputs": [
    {
     "data": {
      "text/plain": [
       "<module 'USDMM_v2' from '/Users/mariana.feldman/Documents/GitHub/USDMM/USDMM_v2.py'>"
      ]
     },
     "execution_count": 60,
     "metadata": {},
     "output_type": "execute_result"
    }
   ],
   "source": [
    "import USDMM_v2 as USDMM2\n",
    "import importlib\n",
    "\n",
    "importlib.reload(USDMM2)"
   ]
  },
  {
   "cell_type": "code",
   "execution_count": 61,
   "metadata": {},
   "outputs": [
    {
     "name": "stdout",
     "output_type": "stream",
     "text": [
      "Janela Inicializada: [array([nan,  1., nan,  1.,  1.,  1., nan,  1., nan]), array([nan,  1., nan,  1.,  1.,  1., nan,  1., nan])]\n",
      "Joint Inicializada: [array([['00000', '1'],\n",
      "       ['00001', '0'],\n",
      "       ['00010', '0'],\n",
      "       ['00011', '1'],\n",
      "       ['00100', '0'],\n",
      "       ['00101', '1'],\n",
      "       ['00110', '1'],\n",
      "       ['00111', '1'],\n",
      "       ['01000', '1'],\n",
      "       ['01001', '1'],\n",
      "       ['01010', '1'],\n",
      "       ['01011', '0'],\n",
      "       ['01100', '1'],\n",
      "       ['01101', '0'],\n",
      "       ['01110', '0'],\n",
      "       ['01111', '1'],\n",
      "       ['10000', '0'],\n",
      "       ['10001', '0'],\n",
      "       ['10010', '1'],\n",
      "       ['10011', '0'],\n",
      "       ['10100', '1'],\n",
      "       ['10101', '0'],\n",
      "       ['10110', '1'],\n",
      "       ['10111', '1'],\n",
      "       ['11000', '0'],\n",
      "       ['11001', '0'],\n",
      "       ['11010', '0'],\n",
      "       ['11011', '1'],\n",
      "       ['11100', '0'],\n",
      "       ['11101', '0'],\n",
      "       ['11110', '0'],\n",
      "       ['11111', '0']], dtype='<U21'), array([['00000', '0'],\n",
      "       ['00001', '1'],\n",
      "       ['00010', '0'],\n",
      "       ['00011', '0'],\n",
      "       ['00100', '1'],\n",
      "       ['00101', '0'],\n",
      "       ['00110', '1'],\n",
      "       ['00111', '1'],\n",
      "       ['01000', '1'],\n",
      "       ['01001', '0'],\n",
      "       ['01010', '0'],\n",
      "       ['01011', '1'],\n",
      "       ['01100', '0'],\n",
      "       ['01101', '0'],\n",
      "       ['01110', '0'],\n",
      "       ['01111', '0'],\n",
      "       ['10000', '1'],\n",
      "       ['10001', '0'],\n",
      "       ['10010', '0'],\n",
      "       ['10011', '0'],\n",
      "       ['10100', '0'],\n",
      "       ['10101', '1'],\n",
      "       ['10110', '0'],\n",
      "       ['10111', '0'],\n",
      "       ['11000', '1'],\n",
      "       ['11001', '1'],\n",
      "       ['11010', '1'],\n",
      "       ['11011', '0'],\n",
      "       ['11100', '0'],\n",
      "       ['11101', '1'],\n",
      "       ['11110', '1'],\n",
      "       ['11111', '1']], dtype='<U21')]\n",
      "Resultados serão salvos em  results_V2\n",
      "------------------------------------------------------------------\n"
     ]
    }
   ],
   "source": [
    "import USDMM_v2 as USDMM2\n",
    "\n",
    "WOMC2 = USDMM2.WOMC(\n",
    "    new = True, # True/ STR -> If True inicialize with the cross operator/ If STR it will opens the file with the name passed\n",
    "    nlayer = 2, # INT -> Number of operators in each layer\n",
    "    wlen = 3,  # INT -> Size of the operator (wlen*wlen)\n",
    "    train_size = 10, # INT -> Number of images to train \n",
    "    val_size = 10, # INT -> Number of images to validate\n",
    "    test_size = 10, # INT -> Number of images to test\n",
    "    error_type = 'iou', # 'mae' / 'iou' -> type of error\n",
    "    neighbors_sample = False, # INT/False -> Number of neighbors to sort\n",
    "    epoch_f = 10, # INT -> Number of epochs for the boolean function lattice (fixed windows)\n",
    "    epoch_w = 50, # INT -> Number of epochs for the windows lattice\n",
    "    batch = 10, # INT -> Batch size\n",
    "    path_results = 'results_V2', # STR -> file where we want to save the results\n",
    "    name_save='_V2', # STR -> pos fixed name for the results saved\n",
    "    seed = 0, #INT -> seed for reproducibilit\n",
    "    parallel = True, # True/False -> use parallel (True) or sequential (False)\n",
    "    early_stop_round_f = 20, #INT -> max number of epochs without changes in the boolean function lattice\n",
    "    early_stop_round_w = 10 #INT -> max number of epochs without changes in the windows lattice\n",
    ")\n"
   ]
  },
  {
   "cell_type": "code",
   "execution_count": 64,
   "metadata": {},
   "outputs": [
    {
     "ename": "TypeError",
     "evalue": "'list' object is not callable",
     "output_type": "error",
     "traceback": [
      "\u001b[0;31m---------------------------------------------------------------------------\u001b[0m",
      "\u001b[0;31mTypeError\u001b[0m                                 Traceback (most recent call last)",
      "\u001b[0;32m/var/folders/zs/n_wh27_s5ln1fk586vbgqnn00000gq/T/ipykernel_54035/1675690940.py\u001b[0m in \u001b[0;36m<module>\u001b[0;34m\u001b[0m\n\u001b[0;32m----> 1\u001b[0;31m \u001b[0mWOMC2\u001b[0m\u001b[0;34m.\u001b[0m\u001b[0mtest\u001b[0m\u001b[0;34m(\u001b[0m\u001b[0;34m)\u001b[0m\u001b[0;34m\u001b[0m\u001b[0;34m\u001b[0m\u001b[0m\n\u001b[0m",
      "\u001b[0;31mTypeError\u001b[0m: 'list' object is not callable"
     ]
    }
   ],
   "source": [
    "WOMC2.test()"
   ]
  },
  {
   "cell_type": "code",
   "execution_count": 65,
   "metadata": {},
   "outputs": [],
   "source": [
    "def test():\n",
    "    start = time()\n",
    "\n",
    "    if WOMC2.parallel:\n",
    "        _, error,f_epoch_min = WOMC2.get_error_window_parallel(WOMC2.W,WOMC2.joint,0)\n",
    "    else:\n",
    "        _, error,f_epoch_min = WOMC2.get_error_window(WOMC2.W,WOMC2.joint,0)\n",
    "\n",
    "    end = time()\n",
    "    print('tempo de execução: {}'.format(end - start))\n",
    "    print(f'época-min: {f_epoch_min} - com erro: {error}')"
   ]
  },
  {
   "cell_type": "code",
   "execution_count": 66,
   "metadata": {},
   "outputs": [
    {
     "name": "stdout",
     "output_type": "stream",
     "text": [
      "tempo de execução: 61.41774797439575\n",
      "época-min: 10 - com erro: [0.74200815 0.74901014]\n"
     ]
    }
   ],
   "source": [
    "test()"
   ]
  },
  {
   "cell_type": "code",
   "execution_count": 19,
   "metadata": {},
   "outputs": [],
   "source": [
    "WOMC2.check_great_neighboors(WOMC2.W,WOMC2.joint,0)"
   ]
  },
  {
   "cell_type": "code",
   "execution_count": null,
   "metadata": {},
   "outputs": [
    {
     "data": {
      "text/plain": [
       "array([0.54796682, 0.5519151 ])"
      ]
     },
     "metadata": {},
     "output_type": "display_data"
    }
   ],
   "source": [
    "error_min_ep"
   ]
  },
  {
   "cell_type": "code",
   "execution_count": 20,
   "metadata": {},
   "outputs": [],
   "source": [
    "W, joint, error_min_ep = WOMC.check_lesser_neighboors(WOMC.W,WOMC.joint,0)"
   ]
  },
  {
   "cell_type": "code",
   "execution_count": null,
   "metadata": {},
   "outputs": [
    {
     "data": {
      "text/plain": [
       "array([0.42084617, 0.4141181 ])"
      ]
     },
     "metadata": {},
     "output_type": "display_data"
    }
   ],
   "source": [
    "error_min_ep"
   ]
  },
  {
   "cell_type": "code",
   "execution_count": 29,
   "metadata": {},
   "outputs": [
    {
     "name": "stdout",
     "output_type": "stream",
     "text": [
      "error_train:  0.44723934003988575\n",
      "error_val:  0.4476914625743703\n",
      "Time: 98.09\n"
     ]
    }
   ],
   "source": [
    "WOMC2.test_neightbors()"
   ]
  },
  {
   "cell_type": "code",
   "execution_count": 32,
   "metadata": {},
   "outputs": [
    {
     "name": "stdout",
     "output_type": "stream",
     "text": [
      "error_train:  0.44723934003988575\n",
      "error_val:  0.4476914625743703\n",
      "Time: 96.46\n"
     ]
    }
   ],
   "source": [
    "WOMC2.test_neightbors()"
   ]
  },
  {
   "cell_type": "code",
   "execution_count": 35,
   "metadata": {},
   "outputs": [
    {
     "name": "stdout",
     "output_type": "stream",
     "text": [
      "error_train:  0.4676324458203219\n",
      "error_val:  0.46828096143571274\n",
      "Time: 155.69\n"
     ]
    }
   ],
   "source": [
    "WOMC2.test_neightbors()"
   ]
  },
  {
   "cell_type": "code",
   "execution_count": null,
   "metadata": {},
   "outputs": [],
   "source": []
  },
  {
   "cell_type": "code",
   "execution_count": 2,
   "metadata": {},
   "outputs": [],
   "source": [
    "Wtrain2,w_error2, W2, joint2 = WOMC.test2()"
   ]
  },
  {
   "cell_type": "code",
   "execution_count": 3,
   "metadata": {},
   "outputs": [
    {
     "name": "stdout",
     "output_type": "stream",
     "text": [
      "inicial error: 0.9819856336725579\n",
      "Epoch: 1: / error: 0.8794087900722621 / ix_run: 00\n",
      "Min error!!\n",
      "Epoch: 2: / error: 0.8202385515516838 / ix_run: 08\n",
      "Min error!!\n",
      "Epoch: 3: / error: 0.7492607248438035 / ix_run: 028\n",
      "Min error!!\n",
      "Epoch: 4: / error: 0.7325039955478129 / ix_run: 022\n",
      "Min error!!\n",
      "Epoch: 5: / error: 0.7143034455366941 / ix_run: 023\n",
      "Min error!!\n",
      "Epoch: 6: / error: 0.658144606811632 / ix_run: 07\n",
      "Min error!!\n",
      "Epoch: 7: / error: 0.6432813063414392 / ix_run: 015\n",
      "Min error!!\n",
      "Epoch: 8: / error: 0.6252427460365892 / ix_run: 027\n",
      "Min error!!\n",
      "Epoch: 9: / error: 0.6190743481502106 / ix_run: 06\n",
      "Min error!!\n",
      "Epoch: 10: / error: 0.6174760123377236 / ix_run: 012\n",
      "Min error!!\n"
     ]
    },
    {
     "data": {
      "text/plain": [
       "(array([0.61747601, 0.61736838]), 10)"
      ]
     },
     "execution_count": 3,
     "metadata": {},
     "output_type": "execute_result"
    }
   ],
   "source": [
    "joint3, error3,f_epoch_min = WOMC.get_error_window_parallel(W2,joint2,0)\n",
    "error3, f_epoch_min"
   ]
  },
  {
   "cell_type": "code",
   "execution_count": 5,
   "metadata": {},
   "outputs": [
    {
     "name": "stdout",
     "output_type": "stream",
     "text": [
      "Janela Inicializada: [array([nan,  1., nan,  1.,  1.,  1., nan,  1., nan]), array([nan,  1., nan,  1.,  1.,  1., nan,  1., nan])]\n",
      "Joint Inicializada: [array([['00000', '1'],\n",
      "       ['00001', '0'],\n",
      "       ['00010', '0'],\n",
      "       ['00011', '1'],\n",
      "       ['00100', '0'],\n",
      "       ['00101', '1'],\n",
      "       ['00110', '1'],\n",
      "       ['00111', '1'],\n",
      "       ['01000', '1'],\n",
      "       ['01001', '1'],\n",
      "       ['01010', '1'],\n",
      "       ['01011', '0'],\n",
      "       ['01100', '1'],\n",
      "       ['01101', '0'],\n",
      "       ['01110', '0'],\n",
      "       ['01111', '1'],\n",
      "       ['10000', '0'],\n",
      "       ['10001', '0'],\n",
      "       ['10010', '1'],\n",
      "       ['10011', '0'],\n",
      "       ['10100', '1'],\n",
      "       ['10101', '0'],\n",
      "       ['10110', '1'],\n",
      "       ['10111', '1'],\n",
      "       ['11000', '0'],\n",
      "       ['11001', '0'],\n",
      "       ['11010', '0'],\n",
      "       ['11011', '1'],\n",
      "       ['11100', '0'],\n",
      "       ['11101', '0'],\n",
      "       ['11110', '0'],\n",
      "       ['11111', '0']], dtype='<U11'), array([['00000', '0'],\n",
      "       ['00001', '1'],\n",
      "       ['00010', '0'],\n",
      "       ['00011', '0'],\n",
      "       ['00100', '1'],\n",
      "       ['00101', '0'],\n",
      "       ['00110', '1'],\n",
      "       ['00111', '1'],\n",
      "       ['01000', '1'],\n",
      "       ['01001', '0'],\n",
      "       ['01010', '0'],\n",
      "       ['01011', '1'],\n",
      "       ['01100', '0'],\n",
      "       ['01101', '0'],\n",
      "       ['01110', '0'],\n",
      "       ['01111', '0'],\n",
      "       ['10000', '1'],\n",
      "       ['10001', '0'],\n",
      "       ['10010', '0'],\n",
      "       ['10011', '0'],\n",
      "       ['10100', '0'],\n",
      "       ['10101', '1'],\n",
      "       ['10110', '0'],\n",
      "       ['10111', '0'],\n",
      "       ['11000', '1'],\n",
      "       ['11001', '1'],\n",
      "       ['11010', '1'],\n",
      "       ['11011', '0'],\n",
      "       ['11100', '0'],\n",
      "       ['11101', '1'],\n",
      "       ['11110', '1'],\n",
      "       ['11111', '1']], dtype='<U11')]\n",
      "Resultados serão salvos em  results_V4\n",
      "Resultados serão salvos em  results_V4\n",
      "------------------------------------------------------------------\n"
     ]
    }
   ],
   "source": [
    "import USDMM as USDMM\n",
    "\n",
    "WOMC = USDMM.WOMC(\n",
    "    new = True, # True/ STR -> If True inicialize with the cross operator/ If STR it will opens the file with the name passed\n",
    "    nlayer = 2, # INT -> Number of operators in each layer\n",
    "    wlen = 3,  # INT -> Size of the operator (wlen*wlen)\n",
    "    train_size = 10, # INT -> Number of images to train \n",
    "    val_size = 10, # INT -> Number of images to validate\n",
    "    test_size = 10, # INT -> Number of images to test\n",
    "    error_type = 'iou', # 'mae' / 'iou' -> type of error\n",
    "    neighbors_sample = False, # INT/False -> Number of neighbors to sort\n",
    "    epoch_f = 10, # INT -> Number of epochs for the boolean function lattice (fixed windows)\n",
    "    epoch_w = 50, # INT -> Number of epochs for the windows lattice\n",
    "    batch = 10, # INT -> Batch size\n",
    "    path_results = 'results_V4', # STR -> file where we want to save the results\n",
    "    name_save='_V4', # STR -> pos fixed name for the results saved\n",
    "    seed = 0, #INT -> seed for reproducibilit\n",
    "    parallel = True, # True/False -> use parallel (True) or sequential (False)\n",
    "    early_stop_round_f = 20, #INT -> max number of epochs without changes in the boolean function lattice\n",
    "    early_stop_round_w = 10 #INT -> max number of epochs without changes in the windows lattice\n",
    ")"
   ]
  },
  {
   "cell_type": "code",
   "execution_count": 6,
   "metadata": {},
   "outputs": [],
   "source": [
    "Wtrain,w_error, W, joint = WOMC.test2()"
   ]
  },
  {
   "cell_type": "code",
   "execution_count": 7,
   "metadata": {},
   "outputs": [
    {
     "name": "stdout",
     "output_type": "stream",
     "text": [
      "inicial error: 0.9819856336725579\n",
      "Epoch: 1: / error: 0.8794087900722621 / ix_run: 00\n"
     ]
    },
    {
     "ename": "KeyboardInterrupt",
     "evalue": "",
     "output_type": "error",
     "traceback": [
      "\u001b[1;31m---------------------------------------------------------------------------\u001b[0m",
      "\u001b[1;31mKeyboardInterrupt\u001b[0m                         Traceback (most recent call last)",
      "\u001b[1;32m<ipython-input-7-d0264306b780>\u001b[0m in \u001b[0;36m<module>\u001b[1;34m\u001b[0m\n\u001b[1;32m----> 1\u001b[1;33m \u001b[0mjoint4\u001b[0m\u001b[1;33m,\u001b[0m \u001b[0merror4\u001b[0m\u001b[1;33m,\u001b[0m\u001b[0mf_epoch_min\u001b[0m \u001b[1;33m=\u001b[0m \u001b[0mWOMC\u001b[0m\u001b[1;33m.\u001b[0m\u001b[0mget_error_window_parallel\u001b[0m\u001b[1;33m(\u001b[0m\u001b[0mW\u001b[0m\u001b[1;33m,\u001b[0m\u001b[0mjoint\u001b[0m\u001b[1;33m,\u001b[0m\u001b[1;36m0\u001b[0m\u001b[1;33m)\u001b[0m\u001b[1;33m\u001b[0m\u001b[1;33m\u001b[0m\u001b[0m\n\u001b[0m\u001b[0;32m      2\u001b[0m \u001b[0merror4\u001b[0m\u001b[1;33m,\u001b[0m \u001b[0mf_epoch_min\u001b[0m\u001b[1;33m\u001b[0m\u001b[1;33m\u001b[0m\u001b[0m\n",
      "\u001b[1;32mc:\\Users\\maria\\Documents\\GitHub\\WOMC\\USDMM.py\u001b[0m in \u001b[0;36mget_error_window_parallel\u001b[1;34m(self, W, joint, ep_w)\u001b[0m\n\u001b[0;32m    339\u001b[0m                     \u001b[0mneighbors_to_visit\u001b[0m \u001b[1;33m=\u001b[0m \u001b[0mself\u001b[0m\u001b[1;33m.\u001b[0m\u001b[0msort_neighbor\u001b[0m\u001b[1;33m(\u001b[0m\u001b[0mjoint\u001b[0m\u001b[1;33m[\u001b[0m\u001b[0mk\u001b[0m\u001b[1;33m]\u001b[0m\u001b[1;33m,\u001b[0m \u001b[0mself\u001b[0m\u001b[1;33m.\u001b[0m\u001b[0mneighbors_sample\u001b[0m\u001b[1;33m)\u001b[0m\u001b[1;33m\u001b[0m\u001b[1;33m\u001b[0m\u001b[0m\n\u001b[0;32m    340\u001b[0m                 \u001b[1;32mwith\u001b[0m \u001b[0mconcurrent\u001b[0m\u001b[1;33m.\u001b[0m\u001b[0mfutures\u001b[0m\u001b[1;33m.\u001b[0m\u001b[0mThreadPoolExecutor\u001b[0m\u001b[1;33m(\u001b[0m\u001b[1;33m)\u001b[0m \u001b[1;32mas\u001b[0m \u001b[0mexecutor\u001b[0m\u001b[1;33m:\u001b[0m\u001b[1;33m\u001b[0m\u001b[1;33m\u001b[0m\u001b[0m\n\u001b[1;32m--> 341\u001b[1;33m                     \u001b[1;33m[\u001b[0m\u001b[0mexecutor\u001b[0m\u001b[1;33m.\u001b[0m\u001b[0msubmit\u001b[0m\u001b[1;33m(\u001b[0m\u001b[0mself\u001b[0m\u001b[1;33m.\u001b[0m\u001b[0mcalculate_neighbors\u001b[0m\u001b[1;33m,\u001b[0m\u001b[0mW\u001b[0m\u001b[1;33m,\u001b[0m  \u001b[0mjoint\u001b[0m\u001b[1;33m,\u001b[0m \u001b[0mk\u001b[0m\u001b[1;33m,\u001b[0m \u001b[0mi\u001b[0m\u001b[1;33m,\u001b[0m \u001b[0mWtrain\u001b[0m\u001b[1;33m,\u001b[0m \u001b[0mtrain_b\u001b[0m\u001b[1;33m,\u001b[0m\u001b[0mytrain_b\u001b[0m\u001b[1;33m,\u001b[0m\u001b[0mep\u001b[0m\u001b[1;33m)\u001b[0m \u001b[1;32mfor\u001b[0m \u001b[0mi\u001b[0m \u001b[1;32min\u001b[0m \u001b[0mneighbors_to_visit\u001b[0m\u001b[1;33m]\u001b[0m\u001b[1;33m\u001b[0m\u001b[1;33m\u001b[0m\u001b[0m\n\u001b[0m\u001b[0;32m    342\u001b[0m \u001b[1;33m\u001b[0m\u001b[0m\n\u001b[0;32m    343\u001b[0m             \u001b[0merror_min_ep\u001b[0m \u001b[1;33m=\u001b[0m \u001b[0mmin\u001b[0m\u001b[1;33m(\u001b[0m\u001b[0mself\u001b[0m\u001b[1;33m.\u001b[0m\u001b[0merror_ep_f_hist\u001b[0m\u001b[1;33m[\u001b[0m\u001b[1;34m'error'\u001b[0m\u001b[1;33m]\u001b[0m\u001b[1;33m)\u001b[0m\u001b[1;33m\u001b[0m\u001b[1;33m\u001b[0m\u001b[0m\n",
      "\u001b[1;32mc:\\Users\\maria\\Anaconda3\\envs\\pyenv\\lib\\concurrent\\futures\\_base.py\u001b[0m in \u001b[0;36m__exit__\u001b[1;34m(self, exc_type, exc_val, exc_tb)\u001b[0m\n\u001b[0;32m    634\u001b[0m \u001b[1;33m\u001b[0m\u001b[0m\n\u001b[0;32m    635\u001b[0m     \u001b[1;32mdef\u001b[0m \u001b[0m__exit__\u001b[0m\u001b[1;33m(\u001b[0m\u001b[0mself\u001b[0m\u001b[1;33m,\u001b[0m \u001b[0mexc_type\u001b[0m\u001b[1;33m,\u001b[0m \u001b[0mexc_val\u001b[0m\u001b[1;33m,\u001b[0m \u001b[0mexc_tb\u001b[0m\u001b[1;33m)\u001b[0m\u001b[1;33m:\u001b[0m\u001b[1;33m\u001b[0m\u001b[1;33m\u001b[0m\u001b[0m\n\u001b[1;32m--> 636\u001b[1;33m         \u001b[0mself\u001b[0m\u001b[1;33m.\u001b[0m\u001b[0mshutdown\u001b[0m\u001b[1;33m(\u001b[0m\u001b[0mwait\u001b[0m\u001b[1;33m=\u001b[0m\u001b[1;32mTrue\u001b[0m\u001b[1;33m)\u001b[0m\u001b[1;33m\u001b[0m\u001b[1;33m\u001b[0m\u001b[0m\n\u001b[0m\u001b[0;32m    637\u001b[0m         \u001b[1;32mreturn\u001b[0m \u001b[1;32mFalse\u001b[0m\u001b[1;33m\u001b[0m\u001b[1;33m\u001b[0m\u001b[0m\n\u001b[0;32m    638\u001b[0m \u001b[1;33m\u001b[0m\u001b[0m\n",
      "\u001b[1;32mc:\\Users\\maria\\Anaconda3\\envs\\pyenv\\lib\\concurrent\\futures\\thread.py\u001b[0m in \u001b[0;36mshutdown\u001b[1;34m(self, wait)\u001b[0m\n\u001b[0;32m    234\u001b[0m         \u001b[1;32mif\u001b[0m \u001b[0mwait\u001b[0m\u001b[1;33m:\u001b[0m\u001b[1;33m\u001b[0m\u001b[1;33m\u001b[0m\u001b[0m\n\u001b[0;32m    235\u001b[0m             \u001b[1;32mfor\u001b[0m \u001b[0mt\u001b[0m \u001b[1;32min\u001b[0m \u001b[0mself\u001b[0m\u001b[1;33m.\u001b[0m\u001b[0m_threads\u001b[0m\u001b[1;33m:\u001b[0m\u001b[1;33m\u001b[0m\u001b[1;33m\u001b[0m\u001b[0m\n\u001b[1;32m--> 236\u001b[1;33m                 \u001b[0mt\u001b[0m\u001b[1;33m.\u001b[0m\u001b[0mjoin\u001b[0m\u001b[1;33m(\u001b[0m\u001b[1;33m)\u001b[0m\u001b[1;33m\u001b[0m\u001b[1;33m\u001b[0m\u001b[0m\n\u001b[0m\u001b[0;32m    237\u001b[0m     \u001b[0mshutdown\u001b[0m\u001b[1;33m.\u001b[0m\u001b[0m__doc__\u001b[0m \u001b[1;33m=\u001b[0m \u001b[0m_base\u001b[0m\u001b[1;33m.\u001b[0m\u001b[0mExecutor\u001b[0m\u001b[1;33m.\u001b[0m\u001b[0mshutdown\u001b[0m\u001b[1;33m.\u001b[0m\u001b[0m__doc__\u001b[0m\u001b[1;33m\u001b[0m\u001b[1;33m\u001b[0m\u001b[0m\n",
      "\u001b[1;32mc:\\Users\\maria\\Anaconda3\\envs\\pyenv\\lib\\threading.py\u001b[0m in \u001b[0;36mjoin\u001b[1;34m(self, timeout)\u001b[0m\n\u001b[0;32m   1009\u001b[0m \u001b[1;33m\u001b[0m\u001b[0m\n\u001b[0;32m   1010\u001b[0m         \u001b[1;32mif\u001b[0m \u001b[0mtimeout\u001b[0m \u001b[1;32mis\u001b[0m \u001b[1;32mNone\u001b[0m\u001b[1;33m:\u001b[0m\u001b[1;33m\u001b[0m\u001b[1;33m\u001b[0m\u001b[0m\n\u001b[1;32m-> 1011\u001b[1;33m             \u001b[0mself\u001b[0m\u001b[1;33m.\u001b[0m\u001b[0m_wait_for_tstate_lock\u001b[0m\u001b[1;33m(\u001b[0m\u001b[1;33m)\u001b[0m\u001b[1;33m\u001b[0m\u001b[1;33m\u001b[0m\u001b[0m\n\u001b[0m\u001b[0;32m   1012\u001b[0m         \u001b[1;32melse\u001b[0m\u001b[1;33m:\u001b[0m\u001b[1;33m\u001b[0m\u001b[1;33m\u001b[0m\u001b[0m\n\u001b[0;32m   1013\u001b[0m             \u001b[1;31m# the behavior of a negative timeout isn't documented, but\u001b[0m\u001b[1;33m\u001b[0m\u001b[1;33m\u001b[0m\u001b[1;33m\u001b[0m\u001b[0m\n",
      "\u001b[1;32mc:\\Users\\maria\\Anaconda3\\envs\\pyenv\\lib\\threading.py\u001b[0m in \u001b[0;36m_wait_for_tstate_lock\u001b[1;34m(self, block, timeout)\u001b[0m\n\u001b[0;32m   1025\u001b[0m         \u001b[1;32mif\u001b[0m \u001b[0mlock\u001b[0m \u001b[1;32mis\u001b[0m \u001b[1;32mNone\u001b[0m\u001b[1;33m:\u001b[0m  \u001b[1;31m# already determined that the C code is done\u001b[0m\u001b[1;33m\u001b[0m\u001b[1;33m\u001b[0m\u001b[0m\n\u001b[0;32m   1026\u001b[0m             \u001b[1;32massert\u001b[0m \u001b[0mself\u001b[0m\u001b[1;33m.\u001b[0m\u001b[0m_is_stopped\u001b[0m\u001b[1;33m\u001b[0m\u001b[1;33m\u001b[0m\u001b[0m\n\u001b[1;32m-> 1027\u001b[1;33m         \u001b[1;32melif\u001b[0m \u001b[0mlock\u001b[0m\u001b[1;33m.\u001b[0m\u001b[0macquire\u001b[0m\u001b[1;33m(\u001b[0m\u001b[0mblock\u001b[0m\u001b[1;33m,\u001b[0m \u001b[0mtimeout\u001b[0m\u001b[1;33m)\u001b[0m\u001b[1;33m:\u001b[0m\u001b[1;33m\u001b[0m\u001b[1;33m\u001b[0m\u001b[0m\n\u001b[0m\u001b[0;32m   1028\u001b[0m             \u001b[0mlock\u001b[0m\u001b[1;33m.\u001b[0m\u001b[0mrelease\u001b[0m\u001b[1;33m(\u001b[0m\u001b[1;33m)\u001b[0m\u001b[1;33m\u001b[0m\u001b[1;33m\u001b[0m\u001b[0m\n\u001b[0;32m   1029\u001b[0m             \u001b[0mself\u001b[0m\u001b[1;33m.\u001b[0m\u001b[0m_stop\u001b[0m\u001b[1;33m(\u001b[0m\u001b[1;33m)\u001b[0m\u001b[1;33m\u001b[0m\u001b[1;33m\u001b[0m\u001b[0m\n",
      "\u001b[1;31mKeyboardInterrupt\u001b[0m: "
     ]
    }
   ],
   "source": [
    "joint4, error4,f_epoch_min = WOMC.get_error_window_parallel(W,joint,0)\n",
    "error4, f_epoch_min"
   ]
  },
  {
   "cell_type": "code",
   "execution_count": 8,
   "metadata": {},
   "outputs": [],
   "source": [
    "import numpy as np\n",
    "error_hist = np.load('./results_V4/run/error_ep_1.txt', allow_pickle=True)\n",
    "error_hist2 = np.load('./results_V2/run/error_ep_1.txt', allow_pickle=True)"
   ]
  },
  {
   "cell_type": "code",
   "execution_count": 11,
   "metadata": {},
   "outputs": [
    {
     "data": {
      "text/plain": [
       "(0.8794087900722621, 0.9819856336725579)"
      ]
     },
     "execution_count": 11,
     "metadata": {},
     "output_type": "execute_result"
    }
   ],
   "source": [
    "min(error_hist['error']), min(error_hist2['error'])"
   ]
  },
  {
   "cell_type": "code",
   "execution_count": 14,
   "metadata": {},
   "outputs": [
    {
     "data": {
      "text/plain": [
       "(64, 64)"
      ]
     },
     "execution_count": 14,
     "metadata": {},
     "output_type": "execute_result"
    }
   ],
   "source": [
    "len(error_hist['error']), len(error_hist2['error'])"
   ]
  },
  {
   "cell_type": "code",
   "execution_count": 20,
   "metadata": {},
   "outputs": [
    {
     "data": {
      "text/plain": [
       "'1'"
      ]
     },
     "execution_count": 20,
     "metadata": {},
     "output_type": "execute_result"
    }
   ],
   "source": [
    "error_hist['joint'][0][0][0][1]"
   ]
  },
  {
   "cell_type": "code",
   "execution_count": 21,
   "metadata": {},
   "outputs": [
    {
     "name": "stdout",
     "output_type": "stream",
     "text": [
      "round - 0 / count =0\n",
      "round - 1 / count =0\n",
      "round - 2 / count =0\n",
      "round - 3 / count =0\n",
      "round - 4 / count =0\n",
      "round - 5 / count =0\n",
      "round - 6 / count =0\n",
      "round - 7 / count =0\n",
      "round - 8 / count =0\n",
      "round - 9 / count =0\n",
      "round - 10 / count =0\n",
      "round - 11 / count =0\n",
      "round - 12 / count =0\n",
      "round - 13 / count =0\n",
      "round - 14 / count =0\n",
      "round - 15 / count =0\n",
      "round - 16 / count =0\n",
      "round - 17 / count =0\n",
      "round - 18 / count =0\n",
      "round - 19 / count =0\n",
      "round - 20 / count =0\n",
      "round - 21 / count =0\n",
      "round - 22 / count =0\n",
      "round - 23 / count =0\n",
      "round - 24 / count =0\n",
      "round - 25 / count =0\n",
      "round - 26 / count =0\n",
      "round - 27 / count =0\n",
      "round - 28 / count =0\n",
      "round - 29 / count =0\n",
      "round - 30 / count =0\n",
      "round - 31 / count =0\n",
      "round - 32 / count =0\n",
      "round - 33 / count =0\n",
      "round - 34 / count =0\n",
      "round - 35 / count =0\n",
      "round - 36 / count =0\n",
      "round - 37 / count =0\n",
      "round - 38 / count =0\n",
      "round - 39 / count =0\n",
      "round - 40 / count =0\n",
      "round - 41 / count =0\n",
      "round - 42 / count =0\n",
      "round - 43 / count =0\n",
      "round - 44 / count =0\n",
      "round - 45 / count =0\n",
      "round - 46 / count =0\n",
      "round - 47 / count =0\n",
      "round - 48 / count =0\n",
      "round - 49 / count =0\n",
      "round - 50 / count =0\n",
      "round - 51 / count =0\n",
      "round - 52 / count =0\n",
      "round - 53 / count =0\n",
      "round - 54 / count =0\n",
      "round - 55 / count =0\n",
      "round - 56 / count =0\n",
      "round - 57 / count =0\n",
      "round - 58 / count =0\n",
      "round - 59 / count =0\n",
      "round - 60 / count =0\n",
      "round - 61 / count =0\n",
      "round - 62 / count =0\n",
      "round - 63 / count =0\n"
     ]
    }
   ],
   "source": [
    "for i in range(len(error_hist['joint'])):\n",
    "    #if error_hist['error'][i] !=error_hist2['error'][i]:\n",
    "        #print(i)\n",
    "    count = 0\n",
    "    for k in range(2):\n",
    "        for j in range(len(error_hist['joint'][i][k])):\n",
    "            if error_hist['joint'][i][k][j][1] != error_hist['joint'][i][k][j][1]:\n",
    "                count+=1\n",
    "    print(f'round - {i} / count ={count}')"
   ]
  },
  {
   "cell_type": "code",
   "execution_count": null,
   "metadata": {},
   "outputs": [],
   "source": []
  },
  {
   "cell_type": "code",
   "execution_count": null,
   "metadata": {},
   "outputs": [],
   "source": []
  },
  {
   "cell_type": "code",
   "execution_count": 7,
   "metadata": {},
   "outputs": [
    {
     "data": {
      "text/plain": [
       "(array([0.61383145, 0.60987238]), 14)"
      ]
     },
     "execution_count": 7,
     "metadata": {},
     "output_type": "execute_result"
    }
   ],
   "source": [
    "joint4, error4,f_epoch_min = WOMC.get_error_window_parallel(W,joint,0)\n",
    "error4, f_epoch_min"
   ]
  },
  {
   "cell_type": "code",
   "execution_count": 9,
   "metadata": {},
   "outputs": [],
   "source": [
    "import pickle\n",
    "pickle.dump(joint4, open('joint4', 'wb'))"
   ]
  },
  {
   "cell_type": "code",
   "execution_count": 3,
   "metadata": {},
   "outputs": [],
   "source": [
    "import pickle\n",
    "pickle.dump(W2, open('W', 'wb'))"
   ]
  },
  {
   "cell_type": "code",
   "execution_count": 3,
   "metadata": {},
   "outputs": [],
   "source": [
    "path_results = 'results_V4'\n",
    "name_save = '_V4'"
   ]
  },
  {
   "cell_type": "code",
   "execution_count": 4,
   "metadata": {},
   "outputs": [],
   "source": [
    "import numpy as np"
   ]
  },
  {
   "cell_type": "code",
   "execution_count": 5,
   "metadata": {},
   "outputs": [],
   "source": [
    "joint = np.load(f'{path_results}/joint{name_save}.txt', allow_pickle=True)\n",
    "W = np.load(f'{path_results}/W{name_save}.txt', allow_pickle=True)"
   ]
  },
  {
   "cell_type": "code",
   "execution_count": 6,
   "metadata": {},
   "outputs": [
    {
     "data": {
      "text/plain": [
       "[array([nan,  1., nan,  1.,  1.,  1., nan,  1., nan]),\n",
       " array([nan,  1., nan,  1.,  1.,  1., nan,  1., nan])]"
      ]
     },
     "execution_count": 6,
     "metadata": {},
     "output_type": "execute_result"
    }
   ],
   "source": [
    "W"
   ]
  },
  {
   "cell_type": "code",
   "execution_count": 5,
   "metadata": {},
   "outputs": [
    {
     "name": "stdout",
     "output_type": "stream",
     "text": [
      "Reading from: results_V4\n",
      "Train error: 0.6138314515405996 / Validation error: 0.609872383871108 / Test error: 0.6210821757434946\n"
     ]
    },
    {
     "ename": "TypeError",
     "evalue": "'int' object is not subscriptable",
     "output_type": "error",
     "traceback": [
      "\u001b[1;31m---------------------------------------------------------------------------\u001b[0m",
      "\u001b[1;31mTypeError\u001b[0m                                 Traceback (most recent call last)",
      "\u001b[1;32m<ipython-input-5-966954523b97>\u001b[0m in \u001b[0;36m<module>\u001b[1;34m\u001b[0m\n\u001b[1;32m----> 1\u001b[1;33m \u001b[0mWOMC\u001b[0m\u001b[1;33m.\u001b[0m\u001b[0mresults_after_fit\u001b[0m\u001b[1;33m(\u001b[0m\u001b[1;34m'results_V4'\u001b[0m\u001b[1;33m,\u001b[0m \u001b[1;34m'_V4'\u001b[0m\u001b[1;33m)\u001b[0m\u001b[1;33m\u001b[0m\u001b[1;33m\u001b[0m\u001b[0m\n\u001b[0m",
      "\u001b[1;32mc:\\Users\\maria\\Documents\\GitHub\\WOMC\\USDMM_v2.py\u001b[0m in \u001b[0;36mresults_after_fit\u001b[1;34m(self, path_results, name_save)\u001b[0m\n\u001b[0;32m    658\u001b[0m         \u001b[0mprint\u001b[0m\u001b[1;33m(\u001b[0m\u001b[1;34mf'Train error: {error_train} / Validation error: {error_val} / Test error: {error_test}'\u001b[0m\u001b[1;33m)\u001b[0m\u001b[1;33m\u001b[0m\u001b[1;33m\u001b[0m\u001b[0m\n\u001b[0;32m    659\u001b[0m \u001b[1;33m\u001b[0m\u001b[0m\n\u001b[1;32m--> 660\u001b[1;33m         \u001b[0mWtrain\u001b[0m \u001b[1;33m=\u001b[0m \u001b[0mself\u001b[0m\u001b[1;33m.\u001b[0m\u001b[0mrun_window_convolve\u001b[0m\u001b[1;33m(\u001b[0m\u001b[0mself\u001b[0m\u001b[1;33m.\u001b[0m\u001b[0mtrain\u001b[0m\u001b[1;33m,\u001b[0m \u001b[0mself\u001b[0m\u001b[1;33m.\u001b[0m\u001b[0mtrain_size\u001b[0m\u001b[1;33m,\u001b[0m \u001b[0mW\u001b[0m\u001b[1;33m,\u001b[0m \u001b[0mjoint\u001b[0m\u001b[1;33m,\u001b[0m \u001b[1;36m0\u001b[0m\u001b[1;33m,\u001b[0m \u001b[1;36m0\u001b[0m\u001b[1;33m)\u001b[0m\u001b[1;33m\u001b[0m\u001b[1;33m\u001b[0m\u001b[0m\n\u001b[0m\u001b[0;32m    661\u001b[0m         \u001b[0mWval\u001b[0m \u001b[1;33m=\u001b[0m \u001b[0mself\u001b[0m\u001b[1;33m.\u001b[0m\u001b[0mrun_window_convolve\u001b[0m\u001b[1;33m(\u001b[0m\u001b[0mself\u001b[0m\u001b[1;33m.\u001b[0m\u001b[0mval\u001b[0m\u001b[1;33m,\u001b[0m \u001b[0mself\u001b[0m\u001b[1;33m.\u001b[0m\u001b[0mval_size\u001b[0m\u001b[1;33m,\u001b[0m \u001b[0mW\u001b[0m\u001b[1;33m,\u001b[0m \u001b[0mjoint\u001b[0m\u001b[1;33m,\u001b[0m \u001b[1;36m0\u001b[0m\u001b[1;33m,\u001b[0m \u001b[1;36m0\u001b[0m\u001b[1;33m)\u001b[0m\u001b[1;33m\u001b[0m\u001b[1;33m\u001b[0m\u001b[0m\n\u001b[0;32m    662\u001b[0m         \u001b[0mWtest\u001b[0m \u001b[1;33m=\u001b[0m \u001b[0mself\u001b[0m\u001b[1;33m.\u001b[0m\u001b[0mrun_window_convolve\u001b[0m\u001b[1;33m(\u001b[0m\u001b[0mself\u001b[0m\u001b[1;33m.\u001b[0m\u001b[0mtest\u001b[0m\u001b[1;33m,\u001b[0m \u001b[0mself\u001b[0m\u001b[1;33m.\u001b[0m\u001b[0mtest_size\u001b[0m\u001b[1;33m,\u001b[0m \u001b[0mW\u001b[0m\u001b[1;33m,\u001b[0m \u001b[0mjoint\u001b[0m\u001b[1;33m,\u001b[0m \u001b[1;36m0\u001b[0m\u001b[1;33m,\u001b[0m \u001b[1;36m0\u001b[0m\u001b[1;33m)\u001b[0m\u001b[1;33m\u001b[0m\u001b[1;33m\u001b[0m\u001b[0m\n",
      "\u001b[1;32mc:\\Users\\maria\\Documents\\GitHub\\WOMC\\USDMM_v2.py\u001b[0m in \u001b[0;36mrun_window_convolve\u001b[1;34m(self, sample, sample_size, W_matrices, Wlast, layer, bias)\u001b[0m\n\u001b[0;32m    231\u001b[0m                     \u001b[0mWsample_k\u001b[0m\u001b[1;33m.\u001b[0m\u001b[0mappend\u001b[0m\u001b[1;33m(\u001b[0m\u001b[0mWlast\u001b[0m\u001b[1;33m[\u001b[0m\u001b[0mk\u001b[0m\u001b[1;33m]\u001b[0m\u001b[1;33m[\u001b[0m\u001b[0mi\u001b[0m\u001b[1;33m]\u001b[0m\u001b[1;33m)\u001b[0m\u001b[1;33m\u001b[0m\u001b[1;33m\u001b[0m\u001b[0m\n\u001b[0;32m    232\u001b[0m                 \u001b[1;32melif\u001b[0m \u001b[0mi\u001b[0m\u001b[1;33m==\u001b[0m\u001b[1;36m0\u001b[0m\u001b[1;33m:\u001b[0m\u001b[1;33m\u001b[0m\u001b[1;33m\u001b[0m\u001b[0m\n\u001b[1;32m--> 233\u001b[1;33m                     \u001b[0mWsample_k\u001b[0m\u001b[1;33m.\u001b[0m\u001b[0mappend\u001b[0m\u001b[1;33m(\u001b[0m\u001b[0mself\u001b[0m\u001b[1;33m.\u001b[0m\u001b[0mapply_convolve\u001b[0m\u001b[1;33m(\u001b[0m\u001b[0msample\u001b[0m\u001b[1;33m[\u001b[0m\u001b[0mk\u001b[0m\u001b[1;33m]\u001b[0m\u001b[1;33m,\u001b[0m \u001b[0mW_matrices\u001b[0m\u001b[1;33m[\u001b[0m\u001b[0mi\u001b[0m\u001b[1;33m]\u001b[0m\u001b[1;33m,\u001b[0m \u001b[0mbias\u001b[0m\u001b[1;33m[\u001b[0m\u001b[0mi\u001b[0m\u001b[1;33m]\u001b[0m\u001b[1;33m)\u001b[0m\u001b[1;33m)\u001b[0m\u001b[1;33m\u001b[0m\u001b[1;33m\u001b[0m\u001b[0m\n\u001b[0m\u001b[0;32m    234\u001b[0m                 \u001b[1;32melse\u001b[0m\u001b[1;33m:\u001b[0m\u001b[1;33m\u001b[0m\u001b[1;33m\u001b[0m\u001b[0m\n\u001b[0;32m    235\u001b[0m                     \u001b[0mWsample_k\u001b[0m\u001b[1;33m.\u001b[0m\u001b[0mappend\u001b[0m\u001b[1;33m(\u001b[0m\u001b[0mself\u001b[0m\u001b[1;33m.\u001b[0m\u001b[0mapply_convolve\u001b[0m\u001b[1;33m(\u001b[0m\u001b[0mWsample_k\u001b[0m\u001b[1;33m[\u001b[0m\u001b[0mi\u001b[0m\u001b[1;33m-\u001b[0m\u001b[1;36m1\u001b[0m\u001b[1;33m]\u001b[0m\u001b[1;33m,\u001b[0m \u001b[0mW_matrices\u001b[0m\u001b[1;33m[\u001b[0m\u001b[0mi\u001b[0m\u001b[1;33m]\u001b[0m\u001b[1;33m,\u001b[0m \u001b[0mbias\u001b[0m\u001b[1;33m[\u001b[0m\u001b[0mi\u001b[0m\u001b[1;33m]\u001b[0m\u001b[1;33m)\u001b[0m\u001b[1;33m)\u001b[0m\u001b[1;33m\u001b[0m\u001b[1;33m\u001b[0m\u001b[0m\n",
      "\u001b[1;31mTypeError\u001b[0m: 'int' object is not subscriptable"
     ]
    }
   ],
   "source": [
    "WOMC.results_after_fit('results_V4', '_V4')"
   ]
  },
  {
   "cell_type": "code",
   "execution_count": 8,
   "metadata": {},
   "outputs": [
    {
     "data": {
      "text/plain": [
       "[array([['00000', '0'],\n",
       "        ['00001', '0'],\n",
       "        ['00010', '0'],\n",
       "        ['00011', '1'],\n",
       "        ['00100', '0'],\n",
       "        ['00101', '0'],\n",
       "        ['00110', '0'],\n",
       "        ['00111', '0'],\n",
       "        ['01000', '0'],\n",
       "        ['01001', '1'],\n",
       "        ['01010', '0'],\n",
       "        ['01011', '1'],\n",
       "        ['01100', '0'],\n",
       "        ['01101', '0'],\n",
       "        ['01110', '1'],\n",
       "        ['01111', '0'],\n",
       "        ['10000', '0'],\n",
       "        ['10001', '0'],\n",
       "        ['10010', '1'],\n",
       "        ['10011', '0'],\n",
       "        ['10100', '1'],\n",
       "        ['10101', '0'],\n",
       "        ['10110', '0'],\n",
       "        ['10111', '0'],\n",
       "        ['11000', '0'],\n",
       "        ['11001', '0'],\n",
       "        ['11010', '0'],\n",
       "        ['11011', '0'],\n",
       "        ['11100', '1'],\n",
       "        ['11101', '0'],\n",
       "        ['11110', '0'],\n",
       "        ['11111', '0']], dtype='<U11'),\n",
       " array([['00000', '0'],\n",
       "        ['00001', '1'],\n",
       "        ['00010', '0'],\n",
       "        ['00011', '0'],\n",
       "        ['00100', '1'],\n",
       "        ['00101', '0'],\n",
       "        ['00110', '1'],\n",
       "        ['00111', '1'],\n",
       "        ['01000', '1'],\n",
       "        ['01001', '0'],\n",
       "        ['01010', '0'],\n",
       "        ['01011', '1'],\n",
       "        ['01100', '0'],\n",
       "        ['01101', '0'],\n",
       "        ['01110', '0'],\n",
       "        ['01111', '0'],\n",
       "        ['10000', '1'],\n",
       "        ['10001', '0'],\n",
       "        ['10010', '0'],\n",
       "        ['10011', '0'],\n",
       "        ['10100', '0'],\n",
       "        ['10101', '1'],\n",
       "        ['10110', '0'],\n",
       "        ['10111', '0'],\n",
       "        ['11000', '1'],\n",
       "        ['11001', '1'],\n",
       "        ['11010', '1'],\n",
       "        ['11011', '0'],\n",
       "        ['11100', '0'],\n",
       "        ['11101', '1'],\n",
       "        ['11110', '1'],\n",
       "        ['11111', '1']], dtype='<U11')]"
      ]
     },
     "execution_count": 8,
     "metadata": {},
     "output_type": "execute_result"
    }
   ],
   "source": [
    "joint4"
   ]
  },
  {
   "cell_type": "code",
   "execution_count": null,
   "metadata": {},
   "outputs": [],
   "source": [
    "error3==error4"
   ]
  },
  {
   "cell_type": "code",
   "execution_count": 11,
   "metadata": {},
   "outputs": [
    {
     "data": {
      "text/plain": [
       "(0.9819856336725579, 0.9819856336725579)"
      ]
     },
     "execution_count": 11,
     "metadata": {},
     "output_type": "execute_result"
    }
   ],
   "source": [
    "w_error == w_error2"
   ]
  },
  {
   "cell_type": "code",
   "execution_count": 42,
   "metadata": {},
   "outputs": [
    {
     "data": {
      "text/plain": [
       "(0.9819856336725579, 0.9825991306050732)"
      ]
     },
     "execution_count": 42,
     "metadata": {},
     "output_type": "execute_result"
    }
   ],
   "source": [
    "w_error, w_error2"
   ]
  },
  {
   "cell_type": "code",
   "execution_count": 12,
   "metadata": {},
   "outputs": [
    {
     "data": {
      "text/plain": [
       "0"
      ]
     },
     "execution_count": 12,
     "metadata": {},
     "output_type": "execute_result"
    }
   ],
   "source": [
    "count = 0\n",
    "for k in range(2):\n",
    "    for j in range(len(joint[k])):\n",
    "        if joint[k][j][1] != joint2[k][j][1]:\n",
    "            count+=1\n",
    "count"
   ]
  },
  {
   "cell_type": "code",
   "execution_count": 13,
   "metadata": {},
   "outputs": [
    {
     "data": {
      "text/plain": [
       "([array([nan,  1., nan,  1.,  1.,  1., nan,  1., nan]),\n",
       "  array([nan,  1., nan,  1.,  1.,  1., nan,  1., nan])],\n",
       " [array([nan,  1., nan,  1.,  1.,  1., nan,  1., nan]),\n",
       "  array([nan,  1., nan,  1.,  1.,  1., nan,  1., nan])])"
      ]
     },
     "execution_count": 13,
     "metadata": {},
     "output_type": "execute_result"
    }
   ],
   "source": [
    "W, W2"
   ]
  },
  {
   "cell_type": "code",
   "execution_count": 14,
   "metadata": {},
   "outputs": [
    {
     "data": {
      "text/plain": [
       "10"
      ]
     },
     "execution_count": 14,
     "metadata": {},
     "output_type": "execute_result"
    }
   ],
   "source": [
    "len(Wtrain)"
   ]
  },
  {
   "cell_type": "code",
   "execution_count": 15,
   "metadata": {},
   "outputs": [
    {
     "data": {
      "text/plain": [
       "2"
      ]
     },
     "execution_count": 15,
     "metadata": {},
     "output_type": "execute_result"
    }
   ],
   "source": [
    "len(Wtrain[0])"
   ]
  },
  {
   "cell_type": "code",
   "execution_count": 16,
   "metadata": {},
   "outputs": [
    {
     "data": {
      "text/plain": [
       "array([[ True,  True,  True, ...,  True,  True,  True],\n",
       "       [ True,  True,  True, ...,  True,  True,  True],\n",
       "       [ True,  True,  True, ...,  True,  True,  True],\n",
       "       ...,\n",
       "       [ True,  True,  True, ...,  True,  True,  True],\n",
       "       [ True,  True,  True, ...,  True,  True,  True],\n",
       "       [ True,  True,  True, ...,  True,  True,  True]])"
      ]
     },
     "execution_count": 16,
     "metadata": {},
     "output_type": "execute_result"
    }
   ],
   "source": [
    "Wtrain[0][1] == Wtrain2[0][1]"
   ]
  },
  {
   "cell_type": "code",
   "execution_count": 17,
   "metadata": {},
   "outputs": [],
   "source": [
    "import numpy as np"
   ]
  },
  {
   "cell_type": "code",
   "execution_count": 18,
   "metadata": {},
   "outputs": [
    {
     "name": "stdout",
     "output_type": "stream",
     "text": [
      "True\n",
      "True\n",
      "True\n",
      "True\n",
      "True\n",
      "True\n",
      "True\n",
      "True\n",
      "True\n",
      "True\n"
     ]
    }
   ],
   "source": [
    "for k in range(len(Wtrain)):\n",
    "    print(np.all(Wtrain[k][-1] == Wtrain2[k][-1]))"
   ]
  },
  {
   "cell_type": "code",
   "execution_count": 6,
   "metadata": {},
   "outputs": [],
   "source": [
    "train, ytrain = WOMC.get_images(10, 'train')"
   ]
  },
  {
   "cell_type": "code",
   "execution_count": 7,
   "metadata": {},
   "outputs": [
    {
     "data": {
      "text/plain": [
       "[array([[-1., -1., -1., ..., -1., -1., -1.],\n",
       "        [-1., -1., -1., ..., -1., -1., -1.],\n",
       "        [-1., -1., -1., ..., -1., -1., -1.],\n",
       "        ...,\n",
       "        [-1., -1., -1., ..., -1., -1., -1.],\n",
       "        [-1., -1., -1., ..., -1., -1., -1.],\n",
       "        [-1., -1., -1., ..., -1., -1., -1.]]),\n",
       " array([[-1., -1., -1., ..., -1., -1., -1.],\n",
       "        [-1., -1., -1., ..., -1., -1., -1.],\n",
       "        [-1., -1., -1., ..., -1., -1., -1.],\n",
       "        ...,\n",
       "        [-1., -1., -1., ..., -1., -1., -1.],\n",
       "        [-1., -1., -1., ..., -1., -1., -1.],\n",
       "        [-1., -1., -1., ..., -1., -1., -1.]]),\n",
       " array([[-1., -1., -1., ..., -1., -1., -1.],\n",
       "        [-1., -1.,  1., ..., -1., -1., -1.],\n",
       "        [-1., -1., -1., ..., -1., -1., -1.],\n",
       "        ...,\n",
       "        [-1., -1., -1., ..., -1., -1., -1.],\n",
       "        [-1.,  1., -1., ..., -1., -1., -1.],\n",
       "        [-1., -1., -1., ..., -1., -1., -1.]]),\n",
       " array([[-1., -1., -1., ..., -1., -1., -1.],\n",
       "        [-1., -1., -1., ..., -1., -1.,  1.],\n",
       "        [-1., -1., -1., ..., -1., -1., -1.],\n",
       "        ...,\n",
       "        [-1., -1., -1., ..., -1., -1., -1.],\n",
       "        [-1., -1., -1., ..., -1., -1., -1.],\n",
       "        [-1., -1., -1., ..., -1., -1., -1.]]),\n",
       " array([[-1., -1., -1., ..., -1., -1., -1.],\n",
       "        [-1., -1., -1., ..., -1., -1., -1.],\n",
       "        [-1., -1., -1., ..., -1., -1., -1.],\n",
       "        ...,\n",
       "        [-1., -1., -1., ..., -1., -1., -1.],\n",
       "        [-1., -1., -1., ..., -1., -1., -1.],\n",
       "        [-1., -1., -1., ..., -1., -1., -1.]]),\n",
       " array([[-1., -1., -1., ..., -1., -1., -1.],\n",
       "        [-1., -1., -1., ..., -1., -1., -1.],\n",
       "        [-1., -1., -1., ..., -1., -1., -1.],\n",
       "        ...,\n",
       "        [-1., -1., -1., ..., -1., -1., -1.],\n",
       "        [-1., -1., -1., ..., -1., -1., -1.],\n",
       "        [-1., -1., -1., ..., -1., -1., -1.]]),\n",
       " array([[-1., -1., -1., ..., -1., -1., -1.],\n",
       "        [-1., -1., -1., ..., -1., -1., -1.],\n",
       "        [-1., -1., -1., ..., -1., -1., -1.],\n",
       "        ...,\n",
       "        [-1., -1., -1., ..., -1., -1., -1.],\n",
       "        [-1.,  1., -1., ..., -1., -1., -1.],\n",
       "        [-1., -1., -1., ..., -1., -1., -1.]]),\n",
       " array([[-1., -1., -1., ..., -1., -1., -1.],\n",
       "        [-1., -1., -1., ..., -1., -1., -1.],\n",
       "        [-1., -1., -1., ..., -1., -1., -1.],\n",
       "        ...,\n",
       "        [-1., -1., -1., ..., -1., -1., -1.],\n",
       "        [-1., -1., -1., ..., -1., -1., -1.],\n",
       "        [-1., -1., -1., ..., -1., -1., -1.]]),\n",
       " array([[-1., -1., -1., ..., -1., -1., -1.],\n",
       "        [-1., -1., -1., ..., -1., -1., -1.],\n",
       "        [-1., -1., -1., ..., -1., -1., -1.],\n",
       "        ...,\n",
       "        [-1., -1., -1., ..., -1., -1., -1.],\n",
       "        [-1., -1., -1., ..., -1., -1., -1.],\n",
       "        [-1., -1., -1., ..., -1., -1., -1.]]),\n",
       " array([[-1., -1., -1., ..., -1., -1., -1.],\n",
       "        [-1., -1., -1., ..., -1., -1., -1.],\n",
       "        [-1., -1., -1., ..., -1., -1., -1.],\n",
       "        ...,\n",
       "        [-1., -1., -1., ..., -1., -1., -1.],\n",
       "        [-1., -1., -1., ..., -1., -1., -1.],\n",
       "        [-1., -1., -1., ..., -1., -1., -1.]])]"
      ]
     },
     "execution_count": 7,
     "metadata": {},
     "output_type": "execute_result"
    }
   ],
   "source": [
    "train"
   ]
  },
  {
   "cell_type": "code",
   "execution_count": 9,
   "metadata": {},
   "outputs": [
    {
     "data": {
      "text/plain": [
       "(56, 56)"
      ]
     },
     "execution_count": 9,
     "metadata": {},
     "output_type": "execute_result"
    }
   ],
   "source": [
    "train[0].shape"
   ]
  },
  {
   "cell_type": "code",
   "execution_count": 11,
   "metadata": {},
   "outputs": [],
   "source": [
    "import numpy as np"
   ]
  },
  {
   "cell_type": "code",
   "execution_count": 7,
   "metadata": {},
   "outputs": [],
   "source": [
    "img = np.array([[1,2,3,4], [5,6,7,8], [9,10,11,12],[13,14,15,16]])"
   ]
  },
  {
   "cell_type": "code",
   "execution_count": 20,
   "metadata": {},
   "outputs": [
    {
     "data": {
      "text/plain": [
       "array([[ 1., -1., -1., -1.],\n",
       "       [ 1.,  1., -1., -1.],\n",
       "       [ 1.,  1.,  1.,  1.],\n",
       "       [-1., -1.,  1.,  1.]], dtype=float32)"
      ]
     },
     "execution_count": 20,
     "metadata": {},
     "output_type": "execute_result"
    }
   ],
   "source": [
    "img = np.array([[1,-1,-1,-1], [1,1,-1,-1], [1,1,1,1],[-1,-1,1,1]], dtype=np.float32)\n",
    "img"
   ]
  },
  {
   "cell_type": "code",
   "execution_count": 34,
   "metadata": {},
   "outputs": [],
   "source": [
    "def find_minterms(truth_table):\n",
    "    inputs = truth_table[:, 0]\n",
    "    results = truth_table[:, 1]\n",
    "    minterms = []\n",
    "    for i in np.where(results =='1')[0]:\n",
    "        minterms.append(inputs[i])\n",
    "    minterms\n",
    "\n",
    "    return minterms\n",
    "\n",
    "def create_w_matrices(W, joint):\n",
    "    matrices = []\n",
    "    for k in range(2):\n",
    "        matrix_k = []\n",
    "        reduced_minterms = find_minterms(joint[k])\n",
    "        for minterm in range(len(reduced_minterms)):\n",
    "            matrix = np.copy(W[k])\n",
    "            c=0\n",
    "            for i in np.where(W[k]==1)[0]:\n",
    "                matrix[i] = reduced_minterms[minterm][c]\n",
    "                c+=1\n",
    "            matrix = np.where(matrix==0,-1,matrix)\n",
    "            matrix = np.nan_to_num(matrix)\n",
    "            matrix_k.append(matrix.reshape((3, 3)))\n",
    "        matrices.append(matrix_k)\n",
    "    return matrices"
   ]
  },
  {
   "cell_type": "code",
   "execution_count": 33,
   "metadata": {},
   "outputs": [
    {
     "data": {
      "text/plain": [
       "array([['00000', '0'],\n",
       "       ['00001', '1'],\n",
       "       ['00010', '0'],\n",
       "       ['00011', '0'],\n",
       "       ['00100', '1'],\n",
       "       ['00101', '0'],\n",
       "       ['00110', '1'],\n",
       "       ['00111', '1'],\n",
       "       ['01000', '1'],\n",
       "       ['01001', '0'],\n",
       "       ['01010', '0'],\n",
       "       ['01011', '1'],\n",
       "       ['01100', '0'],\n",
       "       ['01101', '0'],\n",
       "       ['01110', '0'],\n",
       "       ['01111', '0'],\n",
       "       ['10000', '1'],\n",
       "       ['10001', '0'],\n",
       "       ['10010', '0'],\n",
       "       ['10011', '0'],\n",
       "       ['10100', '0'],\n",
       "       ['10101', '1'],\n",
       "       ['10110', '0'],\n",
       "       ['10111', '0'],\n",
       "       ['11000', '1'],\n",
       "       ['11001', '1'],\n",
       "       ['11010', '1'],\n",
       "       ['11011', '0'],\n",
       "       ['11100', '0'],\n",
       "       ['11101', '1'],\n",
       "       ['11110', '1'],\n",
       "       ['11111', '1']], dtype='<U11')"
      ]
     },
     "execution_count": 33,
     "metadata": {},
     "output_type": "execute_result"
    }
   ],
   "source": [
    "joint[1]"
   ]
  },
  {
   "cell_type": "code",
   "execution_count": 35,
   "metadata": {},
   "outputs": [],
   "source": [
    "W_matrices = create_w_matrices(W, joint)"
   ]
  },
  {
   "cell_type": "code",
   "execution_count": 36,
   "metadata": {},
   "outputs": [
    {
     "name": "stdout",
     "output_type": "stream",
     "text": [
      "[[ 0. -1.  0.]\n",
      " [-1. -1.  1.]\n",
      " [ 0.  1.  0.]]\n",
      "[[ 0. -1.  0.]\n",
      " [ 1. -1. -1.]\n",
      " [ 0.  1.  0.]]\n",
      "[[ 0. -1.  0.]\n",
      " [ 1. -1.  1.]\n",
      " [ 0.  1.  0.]]\n",
      "[[ 0. -1.  0.]\n",
      " [ 1.  1.  1.]\n",
      " [ 0. -1.  0.]]\n",
      "[[ 0.  1.  0.]\n",
      " [-1. -1.  1.]\n",
      " [ 0. -1.  0.]]\n",
      "[[ 0.  1.  0.]\n",
      " [-1.  1. -1.]\n",
      " [ 0. -1.  0.]]\n",
      "[[ 0.  1.  0.]\n",
      " [ 1.  1. -1.]\n",
      " [ 0. -1.  0.]]\n"
     ]
    }
   ],
   "source": [
    "for kernel in W_matrices[0]:\n",
    "    print(kernel)"
   ]
  },
  {
   "cell_type": "code",
   "execution_count": 37,
   "metadata": {},
   "outputs": [
    {
     "data": {
      "text/plain": [
       "array([[-1.,  1., -1., -1.],\n",
       "       [-1., -1.,  1., -1.],\n",
       "       [-1., -1., -1., -1.],\n",
       "       [-1.,  1., -1.,  1.]])"
      ]
     },
     "execution_count": 37,
     "metadata": {},
     "output_type": "execute_result"
    }
   ],
   "source": [
    "img_c = np.zeros([img.shape[0], img.shape[1]], dtype=float)\n",
    "for kernel in W_matrices[0]:\n",
    "    img_b = cv2.copyMakeBorder(img, 1, 1, 1, 1, cv2.BORDER_CONSTANT, None, value = -1) \n",
    "    img_r = cv2.filter2D(img_b, -1, kernel)\n",
    "    img_r = img_r-4\n",
    "    img_r = (img_r > 0).astype(float)\n",
    "    img_c += img_r[1:img_r.shape[0]-1, 1:img_r.shape[1]-1]\n",
    "img_c[img_c == 0] = -1\n",
    "img_c"
   ]
  },
  {
   "cell_type": "code",
   "execution_count": 40,
   "metadata": {},
   "outputs": [
    {
     "data": {
      "text/plain": [
       "[array([[ 0., -1.,  0.],\n",
       "        [-1., -1., -1.],\n",
       "        [ 0.,  1.,  0.]]),\n",
       " array([[ 0., -1.,  0.],\n",
       "        [-1.,  1., -1.],\n",
       "        [ 0., -1.,  0.]]),\n",
       " array([[ 0., -1.,  0.],\n",
       "        [-1.,  1.,  1.],\n",
       "        [ 0., -1.,  0.]]),\n",
       " array([[ 0., -1.,  0.],\n",
       "        [-1.,  1.,  1.],\n",
       "        [ 0.,  1.,  0.]]),\n",
       " array([[ 0., -1.,  0.],\n",
       "        [ 1., -1., -1.],\n",
       "        [ 0., -1.,  0.]]),\n",
       " array([[ 0., -1.,  0.],\n",
       "        [ 1., -1.,  1.],\n",
       "        [ 0.,  1.,  0.]]),\n",
       " array([[ 0.,  1.,  0.],\n",
       "        [-1., -1., -1.],\n",
       "        [ 0., -1.,  0.]]),\n",
       " array([[ 0.,  1.,  0.],\n",
       "        [-1.,  1., -1.],\n",
       "        [ 0.,  1.,  0.]]),\n",
       " array([[ 0.,  1.,  0.],\n",
       "        [ 1., -1., -1.],\n",
       "        [ 0., -1.,  0.]]),\n",
       " array([[ 0.,  1.,  0.],\n",
       "        [ 1., -1., -1.],\n",
       "        [ 0.,  1.,  0.]]),\n",
       " array([[ 0.,  1.,  0.],\n",
       "        [ 1., -1.,  1.],\n",
       "        [ 0., -1.,  0.]]),\n",
       " array([[ 0.,  1.,  0.],\n",
       "        [ 1.,  1., -1.],\n",
       "        [ 0.,  1.,  0.]]),\n",
       " array([[ 0.,  1.,  0.],\n",
       "        [ 1.,  1.,  1.],\n",
       "        [ 0., -1.,  0.]]),\n",
       " array([[0., 1., 0.],\n",
       "        [1., 1., 1.],\n",
       "        [0., 1., 0.]])]"
      ]
     },
     "execution_count": 40,
     "metadata": {},
     "output_type": "execute_result"
    }
   ],
   "source": [
    "W_matrices[1]"
   ]
  },
  {
   "cell_type": "code",
   "execution_count": 24,
   "metadata": {},
   "outputs": [
    {
     "data": {
      "text/plain": [
       "array([[[-0.06577144,  0.18124466,  0.13609102],\n",
       "        [-0.07447521, -0.86875002, -0.79689841],\n",
       "        [-0.79329713, -0.30520855,  0.31954863]],\n",
       "\n",
       "       [[-0.36840675, -0.02148489, -0.18242121],\n",
       "        [ 1.29503907,  0.10903903, -0.21521149],\n",
       "        [-0.58317074, -0.53785977, -0.01604245]],\n",
       "\n",
       "       [[ 0.26258116,  0.64577224,  0.55541722],\n",
       "        [ 0.69212453, -0.46089375, -0.30454234],\n",
       "        [ 1.81784468,  0.374458  , -2.02508485]]])"
      ]
     },
     "execution_count": 24,
     "metadata": {},
     "output_type": "execute_result"
    }
   ],
   "source": [
    "np.random.randn(3, 3, 3)"
   ]
  },
  {
   "cell_type": "code",
   "execution_count": 41,
   "metadata": {},
   "outputs": [
    {
     "data": {
      "text/plain": [
       "array([[[0, 0, 1],\n",
       "        [0, 0, 1],\n",
       "        [0, 0, 0],\n",
       "        ...,\n",
       "        [1, 1, 0],\n",
       "        [0, 0, 0],\n",
       "        [0, 0, 1]],\n",
       "\n",
       "       [[1, 0, 1],\n",
       "        [1, 1, 0],\n",
       "        [1, 0, 1],\n",
       "        ...,\n",
       "        [1, 1, 0],\n",
       "        [1, 0, 1],\n",
       "        [1, 1, 0]],\n",
       "\n",
       "       [[0, 0, 0],\n",
       "        [0, 1, 0],\n",
       "        [1, 1, 1],\n",
       "        ...,\n",
       "        [1, 0, 1],\n",
       "        [1, 0, 1],\n",
       "        [1, 0, 0]],\n",
       "\n",
       "       ...,\n",
       "\n",
       "       [[0, 1, 1],\n",
       "        [0, 0, 1],\n",
       "        [0, 1, 0],\n",
       "        ...,\n",
       "        [1, 1, 0],\n",
       "        [1, 1, 1],\n",
       "        [1, 1, 0]],\n",
       "\n",
       "       [[0, 1, 0],\n",
       "        [0, 1, 1],\n",
       "        [1, 1, 1],\n",
       "        ...,\n",
       "        [1, 1, 1],\n",
       "        [1, 0, 1],\n",
       "        [0, 0, 1]],\n",
       "\n",
       "       [[1, 0, 0],\n",
       "        [1, 1, 0],\n",
       "        [0, 1, 1],\n",
       "        ...,\n",
       "        [1, 0, 1],\n",
       "        [1, 1, 1],\n",
       "        [1, 1, 1]]])"
      ]
     },
     "execution_count": 41,
     "metadata": {},
     "output_type": "execute_result"
    }
   ],
   "source": [
    "np.random.randint(0, 2, size=(56, 56, 3))"
   ]
  },
  {
   "cell_type": "code",
   "execution_count": 57,
   "metadata": {},
   "outputs": [],
   "source": [
    "Wt = np.array([ np.nan,  np.nan,  np.nan,   np.nan,  1.,  1.,  np.nan,  1.,  np.nan])"
   ]
  },
  {
   "cell_type": "code",
   "execution_count": 62,
   "metadata": {},
   "outputs": [],
   "source": [
    "def create_joint(W):\n",
    "    Ji=[]\n",
    "    ni = int(W[~np.isnan(W)].sum())\n",
    "    for i in itertools.product([0, 1], repeat=ni):\n",
    "        Ji.append(''.join(np.array(i).astype(str)))\n",
    "    return Ji"
   ]
  },
  {
   "cell_type": "code",
   "execution_count": 59,
   "metadata": {},
   "outputs": [],
   "source": [
    "def find_minterms(truth_table):\n",
    "    inputs = truth_table[:, 0]\n",
    "    results = truth_table[:, 1]\n",
    "    minterms = []\n",
    "    for i in np.where(results =='1')[0]:\n",
    "        minterms.append(inputs[i])\n",
    "    minterms\n",
    "\n",
    "    return minterms"
   ]
  },
  {
   "cell_type": "code",
   "execution_count": 64,
   "metadata": {},
   "outputs": [],
   "source": [
    "def create_w_matrices(W):\n",
    "    matrices = []\n",
    "    for k in range(1):\n",
    "        matrix_k = []\n",
    "        reduced_minterms = create_joint(W[k])\n",
    "        for minterm in range(len(reduced_minterms)):\n",
    "            matrix = np.copy(W[k])\n",
    "            c=0\n",
    "            for i in np.where(W[k]==1)[0]:\n",
    "                matrix[i] = reduced_minterms[minterm][c]\n",
    "                c+=1\n",
    "            matrix = np.where(matrix==0,-1,matrix)\n",
    "            matrix = np.nan_to_num(matrix)\n",
    "            matrix_k.append(matrix.reshape((3, 3)))\n",
    "        matrices.append(matrix_k)\n",
    "    return matrices"
   ]
  },
  {
   "cell_type": "code",
   "execution_count": 66,
   "metadata": {},
   "outputs": [
    {
     "data": {
      "text/plain": [
       "[array([[ 0.,  0.,  0.],\n",
       "        [ 0., -1., -1.],\n",
       "        [ 0., -1.,  0.]]),\n",
       " array([[ 0.,  0.,  0.],\n",
       "        [ 0., -1., -1.],\n",
       "        [ 0.,  1.,  0.]]),\n",
       " array([[ 0.,  0.,  0.],\n",
       "        [ 0., -1.,  1.],\n",
       "        [ 0., -1.,  0.]]),\n",
       " array([[ 0.,  0.,  0.],\n",
       "        [ 0., -1.,  1.],\n",
       "        [ 0.,  1.,  0.]]),\n",
       " array([[ 0.,  0.,  0.],\n",
       "        [ 0.,  1., -1.],\n",
       "        [ 0., -1.,  0.]]),\n",
       " array([[ 0.,  0.,  0.],\n",
       "        [ 0.,  1., -1.],\n",
       "        [ 0.,  1.,  0.]]),\n",
       " array([[ 0.,  0.,  0.],\n",
       "        [ 0.,  1.,  1.],\n",
       "        [ 0., -1.,  0.]]),\n",
       " array([[0., 0., 0.],\n",
       "        [0., 1., 1.],\n",
       "        [0., 1., 0.]])]"
      ]
     },
     "execution_count": 66,
     "metadata": {},
     "output_type": "execute_result"
    }
   ],
   "source": [
    "W_m = create_w_matrices([Wt])[0]\n",
    "W_m"
   ]
  },
  {
   "cell_type": "code",
   "execution_count": 83,
   "metadata": {},
   "outputs": [
    {
     "name": "stdout",
     "output_type": "stream",
     "text": [
      "Lista de W: (1, 1, 1, 1, 1)\n",
      "Lista de weights: ([0.1, 0.2, 0.3], [0.1, 0.2, 0.3], [0.1, 0.2, 0.3], [0.1, 0.2, 0.3], [0.1, 0.2, 0.3])\n"
     ]
    }
   ],
   "source": [
    "def create_joint_t():\n",
    "    # Suponha que a função retorna valores fictícios para W e weights\n",
    "    W = 1\n",
    "    weights = [0.1, 0.2, 0.3]\n",
    "    return W, weights\n",
    "\n",
    "# Número de vezes que você deseja chamar a função\n",
    "n = 5\n",
    "\n",
    "# Use list comprehensions para gerar as listas\n",
    "list_W, list_weights = zip(*[create_joint_t() for _ in range(n)])\n",
    "\n",
    "# Exemplo de saída\n",
    "print(\"Lista de W:\", list_W)\n",
    "print(\"Lista de weights:\", list_weights)"
   ]
  },
  {
   "cell_type": "code",
   "execution_count": 85,
   "metadata": {},
   "outputs": [
    {
     "data": {
      "text/plain": [
       "1"
      ]
     },
     "execution_count": 85,
     "metadata": {},
     "output_type": "execute_result"
    }
   ],
   "source": [
    "list_W[0]"
   ]
  },
  {
   "cell_type": "code",
   "execution_count": 82,
   "metadata": {},
   "outputs": [
    {
     "data": {
      "text/plain": [
       "array([1, 1, 0, 0, 1, 0, 0, 0])"
      ]
     },
     "execution_count": 82,
     "metadata": {},
     "output_type": "execute_result"
    }
   ],
   "source": [
    "np.random.randint(2, size=len(W_m))"
   ]
  },
  {
   "cell_type": "code",
   "execution_count": 71,
   "metadata": {},
   "outputs": [
    {
     "data": {
      "text/plain": [
       "array([1, 0, 0, 0, 0, 0, 0, 1])"
      ]
     },
     "execution_count": 71,
     "metadata": {},
     "output_type": "execute_result"
    }
   ],
   "source": [
    "_w = np.array([1, 0, 0, 0, 0, 0, 0, 1])\n",
    "_w"
   ]
  },
  {
   "cell_type": "code",
   "execution_count": 81,
   "metadata": {},
   "outputs": [
    {
     "name": "stdout",
     "output_type": "stream",
     "text": [
      "[[ 0.  0.  0.]\n",
      " [ 0. -1. -1.]\n",
      " [ 0. -1.  0.]]\n",
      "-----\n",
      "[[ 0.  0.  0.]\n",
      " [ 0. -0. -0.]\n",
      " [ 0.  0.  0.]]\n",
      "-----\n",
      "[[ 0.  0.  0.]\n",
      " [ 0. -0.  0.]\n",
      " [ 0. -0.  0.]]\n",
      "-----\n",
      "[[ 0.  0.  0.]\n",
      " [ 0. -0.  0.]\n",
      " [ 0.  0.  0.]]\n",
      "-----\n",
      "[[ 0.  0.  0.]\n",
      " [ 0.  0. -0.]\n",
      " [ 0. -0.  0.]]\n",
      "-----\n",
      "[[ 0.  0.  0.]\n",
      " [ 0.  0. -0.]\n",
      " [ 0.  0.  0.]]\n",
      "-----\n",
      "[[ 0.  0.  0.]\n",
      " [ 0.  0.  0.]\n",
      " [ 0. -0.  0.]]\n",
      "-----\n",
      "[[0. 0. 0.]\n",
      " [0. 1. 1.]\n",
      " [0. 1. 0.]]\n",
      "-----\n"
     ]
    }
   ],
   "source": [
    "for ii in np.array(W_m) * _w[:, np.newaxis, np.newaxis]:\n",
    "    print(ii)\n",
    "    print('-----')"
   ]
  },
  {
   "cell_type": "code",
   "execution_count": null,
   "metadata": {},
   "outputs": [],
   "source": []
  },
  {
   "cell_type": "code",
   "execution_count": 72,
   "metadata": {},
   "outputs": [
    {
     "data": {
      "text/plain": [
       "[array([[ 0.,  0.,  0.],\n",
       "        [ 0., -1., -1.],\n",
       "        [ 0., -1.,  0.]]),\n",
       " array([[0., 0., 0.],\n",
       "        [0., 1., 1.],\n",
       "        [0., 1., 0.]])]"
      ]
     },
     "execution_count": 72,
     "metadata": {},
     "output_type": "execute_result"
    }
   ],
   "source": [
    "[array * weight for array, weight in zip(W_m, _w) if weight == 1]"
   ]
  },
  {
   "cell_type": "code",
   "execution_count": 76,
   "metadata": {},
   "outputs": [
    {
     "data": {
      "text/plain": [
       "(8, 1, 1)"
      ]
     },
     "execution_count": 76,
     "metadata": {},
     "output_type": "execute_result"
    }
   ],
   "source": [
    "_w[:, np.newaxis, np.newaxis].shape"
   ]
  },
  {
   "cell_type": "code",
   "execution_count": 77,
   "metadata": {},
   "outputs": [
    {
     "data": {
      "text/plain": [
       "array([[0., 1., 0., 1.],\n",
       "       [0., 1., 1., 0.],\n",
       "       [1., 0., 0., 1.],\n",
       "       [1., 1., 1., 1.]])"
      ]
     },
     "execution_count": 77,
     "metadata": {},
     "output_type": "execute_result"
    }
   ],
   "source": [
    "img = np.array([[-1,2,-3,4], [-5,6,7,-8], [9,-10,-11,12],[13,14,15,16]])\n",
    "(img > 0).astype(float)"
   ]
  },
  {
   "cell_type": "code",
   "execution_count": 78,
   "metadata": {},
   "outputs": [
    {
     "data": {
      "text/plain": [
       "array([[-4., -4., -4.],\n",
       "       [-4., -4., -4.],\n",
       "       [-4., -4., -4.]])"
      ]
     },
     "execution_count": 78,
     "metadata": {},
     "output_type": "execute_result"
    }
   ],
   "source": [
    "#crie uma matriz 3x3 de zeros\n",
    "\n",
    "img = np.zeros((3,3)) - 4\n",
    "img"
   ]
  },
  {
   "cell_type": "code",
   "execution_count": 79,
   "metadata": {},
   "outputs": [
    {
     "data": {
      "text/plain": [
       "array([[0., 0., 0.],\n",
       "       [0., 0., 0.],\n",
       "       [0., 0., 0.]])"
      ]
     },
     "execution_count": 79,
     "metadata": {},
     "output_type": "execute_result"
    }
   ],
   "source": [
    "(img > 0).astype(float)"
   ]
  },
  {
   "cell_type": "code",
   "execution_count": 73,
   "metadata": {},
   "outputs": [
    {
     "data": {
      "text/plain": [
       "array([[[ 0.,  0.,  0.],\n",
       "        [ 0., -1., -1.],\n",
       "        [ 0., -1.,  0.]],\n",
       "\n",
       "       [[ 0.,  0.,  0.],\n",
       "        [ 0., -0., -0.],\n",
       "        [ 0.,  0.,  0.]],\n",
       "\n",
       "       [[ 0.,  0.,  0.],\n",
       "        [ 0., -0.,  0.],\n",
       "        [ 0., -0.,  0.]],\n",
       "\n",
       "       [[ 0.,  0.,  0.],\n",
       "        [ 0., -0.,  0.],\n",
       "        [ 0.,  0.,  0.]],\n",
       "\n",
       "       [[ 0.,  0.,  0.],\n",
       "        [ 0.,  0., -0.],\n",
       "        [ 0., -0.,  0.]],\n",
       "\n",
       "       [[ 0.,  0.,  0.],\n",
       "        [ 0.,  0., -0.],\n",
       "        [ 0.,  0.,  0.]],\n",
       "\n",
       "       [[ 0.,  0.,  0.],\n",
       "        [ 0.,  0.,  0.],\n",
       "        [ 0., -0.,  0.]],\n",
       "\n",
       "       [[ 0.,  0.,  0.],\n",
       "        [ 0.,  1.,  1.],\n",
       "        [ 0.,  1.,  0.]]])"
      ]
     },
     "execution_count": 73,
     "metadata": {},
     "output_type": "execute_result"
    }
   ],
   "source": [
    "np.array(W_m) * _w[:, np.newaxis, np.newaxis]"
   ]
  },
  {
   "cell_type": "code",
   "execution_count": 70,
   "metadata": {},
   "outputs": [
    {
     "ename": "ValueError",
     "evalue": "operands could not be broadcast together with shapes (8,) (8,3,3) ",
     "output_type": "error",
     "traceback": [
      "\u001b[0;31m---------------------------------------------------------------------------\u001b[0m",
      "\u001b[0;31mValueError\u001b[0m                                Traceback (most recent call last)",
      "\u001b[0;32m/var/folders/zs/n_wh27_s5ln1fk586vbgqnn00000gq/T/ipykernel_40033/4038528827.py\u001b[0m in \u001b[0;36m<module>\u001b[0;34m\u001b[0m\n\u001b[0;32m----> 1\u001b[0;31m \u001b[0m_w\u001b[0m\u001b[0;34m*\u001b[0m \u001b[0mW_m\u001b[0m\u001b[0;34m\u001b[0m\u001b[0;34m\u001b[0m\u001b[0m\n\u001b[0m",
      "\u001b[0;31mValueError\u001b[0m: operands could not be broadcast together with shapes (8,) (8,3,3) "
     ]
    }
   ],
   "source": [
    "_w* W_m"
   ]
  },
  {
   "cell_type": "code",
   "execution_count": 67,
   "metadata": {},
   "outputs": [
    {
     "data": {
      "text/plain": [
       "8"
      ]
     },
     "execution_count": 67,
     "metadata": {},
     "output_type": "execute_result"
    }
   ],
   "source": [
    "len(W_m)"
   ]
  },
  {
   "cell_type": "code",
   "execution_count": 63,
   "metadata": {},
   "outputs": [
    {
     "data": {
      "text/plain": [
       "['000', '001', '010', '011', '100', '101', '110', '111']"
      ]
     },
     "execution_count": 63,
     "metadata": {},
     "output_type": "execute_result"
    }
   ],
   "source": [
    "jt = create_joint(Wt)\n",
    "jt"
   ]
  },
  {
   "cell_type": "code",
   "execution_count": 61,
   "metadata": {},
   "outputs": [
    {
     "data": {
      "text/plain": [
       "['000', '001', '010', '011', '100', '101', '110', '111']"
      ]
     },
     "execution_count": 61,
     "metadata": {},
     "output_type": "execute_result"
    }
   ],
   "source": [
    "find_minterms(jt)"
   ]
  },
  {
   "cell_type": "code",
   "execution_count": 99,
   "metadata": {},
   "outputs": [
    {
     "name": "stdout",
     "output_type": "stream",
     "text": [
      "1\n",
      "0\n"
     ]
    }
   ],
   "source": [
    "nlayer=2\n",
    "for k in reversed(range(nlayer)):\n",
    "    print(k)"
   ]
  },
  {
   "cell_type": "code",
   "execution_count": 94,
   "metadata": {},
   "outputs": [],
   "source": [
    "a = list(range(5))"
   ]
  },
  {
   "cell_type": "code",
   "execution_count": 95,
   "metadata": {},
   "outputs": [],
   "source": [
    "a.reverse()"
   ]
  },
  {
   "cell_type": "code",
   "execution_count": 1,
   "metadata": {},
   "outputs": [
    {
     "ename": "NameError",
     "evalue": "name 'Wtrain' is not defined",
     "output_type": "error",
     "traceback": [
      "\u001b[0;31m---------------------------------------------------------------------------\u001b[0m",
      "\u001b[0;31mNameError\u001b[0m                                 Traceback (most recent call last)",
      "\u001b[0;32m/var/folders/zs/n_wh27_s5ln1fk586vbgqnn00000gq/T/ipykernel_97750/3576981295.py\u001b[0m in \u001b[0;36m<module>\u001b[0;34m\u001b[0m\n\u001b[0;32m----> 1\u001b[0;31m \u001b[0mWtrain\u001b[0m\u001b[0;34m\u001b[0m\u001b[0;34m\u001b[0m\u001b[0m\n\u001b[0m",
      "\u001b[0;31mNameError\u001b[0m: name 'Wtrain' is not defined"
     ]
    }
   ],
   "source": [
    "Wtrain"
   ]
  },
  {
   "cell_type": "code",
   "execution_count": null,
   "metadata": {},
   "outputs": [],
   "source": []
  },
  {
   "cell_type": "code",
   "execution_count": 100,
   "metadata": {},
   "outputs": [
    {
     "ename": "error",
     "evalue": "OpenCV(4.7.0) /Users/runner/work/opencv-python/opencv-python/opencv/modules/imgproc/src/filter.simd.hpp:3297: error: (-213:The function/feature is not implemented) Unsupported combination of source format (=4), and destination format (=4) in function 'getLinearFilter'\n",
     "output_type": "error",
     "traceback": [
      "\u001b[0;31m---------------------------------------------------------------------------\u001b[0m",
      "\u001b[0;31merror\u001b[0m                                     Traceback (most recent call last)",
      "\u001b[0;32m/var/folders/zs/n_wh27_s5ln1fk586vbgqnn00000gq/T/ipykernel_40033/3303835862.py\u001b[0m in \u001b[0;36m<module>\u001b[0;34m\u001b[0m\n\u001b[1;32m     68\u001b[0m \u001b[0;31m# Suponha que 'color_images' seja uma lista de imagens coloridas (3 canais)\u001b[0m\u001b[0;34m\u001b[0m\u001b[0;34m\u001b[0m\u001b[0m\n\u001b[1;32m     69\u001b[0m \u001b[0mcolor_images\u001b[0m \u001b[0;34m=\u001b[0m \u001b[0;34m[\u001b[0m\u001b[0mnp\u001b[0m\u001b[0;34m.\u001b[0m\u001b[0mrandom\u001b[0m\u001b[0;34m.\u001b[0m\u001b[0mrandint\u001b[0m\u001b[0;34m(\u001b[0m\u001b[0;36m0\u001b[0m\u001b[0;34m,\u001b[0m \u001b[0;36m2\u001b[0m\u001b[0;34m,\u001b[0m \u001b[0msize\u001b[0m\u001b[0;34m=\u001b[0m\u001b[0;34m(\u001b[0m\u001b[0;36m56\u001b[0m\u001b[0;34m,\u001b[0m \u001b[0;36m56\u001b[0m\u001b[0;34m,\u001b[0m \u001b[0;36m3\u001b[0m\u001b[0;34m)\u001b[0m\u001b[0;34m)\u001b[0m \u001b[0;32mfor\u001b[0m \u001b[0m_\u001b[0m \u001b[0;32min\u001b[0m \u001b[0mrange\u001b[0m\u001b[0;34m(\u001b[0m\u001b[0;36m100000\u001b[0m\u001b[0;34m)\u001b[0m\u001b[0;34m]\u001b[0m\u001b[0;34m\u001b[0m\u001b[0;34m\u001b[0m\u001b[0m\n\u001b[0;32m---> 70\u001b[0;31m \u001b[0mtrained_filters_layer1\u001b[0m\u001b[0;34m,\u001b[0m \u001b[0mtrained_filters_layer2\u001b[0m \u001b[0;34m=\u001b[0m \u001b[0mtrain_cnn_2_layers\u001b[0m\u001b[0;34m(\u001b[0m\u001b[0mcolor_images\u001b[0m\u001b[0;34m)\u001b[0m\u001b[0;34m\u001b[0m\u001b[0;34m\u001b[0m\u001b[0m\n\u001b[0m",
      "\u001b[0;32m/var/folders/zs/n_wh27_s5ln1fk586vbgqnn00000gq/T/ipykernel_40033/3303835862.py\u001b[0m in \u001b[0;36mtrain_cnn_2_layers\u001b[0;34m(images, epochs, learning_rate)\u001b[0m\n\u001b[1;32m     56\u001b[0m         \u001b[0;32mfor\u001b[0m \u001b[0mimage\u001b[0m \u001b[0;32min\u001b[0m \u001b[0mimages\u001b[0m\u001b[0;34m:\u001b[0m\u001b[0;34m\u001b[0m\u001b[0;34m\u001b[0m\u001b[0m\n\u001b[1;32m     57\u001b[0m             \u001b[0;31m# Forward pass\u001b[0m\u001b[0;34m\u001b[0m\u001b[0;34m\u001b[0m\u001b[0m\n\u001b[0;32m---> 58\u001b[0;31m             conv_result1, activated_result1, conv_result2, activated_result2 = forward_propagation(\n\u001b[0m\u001b[1;32m     59\u001b[0m                 image, filters_layer1, filters_layer2)\n\u001b[1;32m     60\u001b[0m \u001b[0;34m\u001b[0m\u001b[0m\n",
      "\u001b[0;32m/var/folders/zs/n_wh27_s5ln1fk586vbgqnn00000gq/T/ipykernel_40033/3303835862.py\u001b[0m in \u001b[0;36mforward_propagation\u001b[0;34m(image, filters_layer1, filters_layer2)\u001b[0m\n\u001b[1;32m     21\u001b[0m \u001b[0;34m\u001b[0m\u001b[0m\n\u001b[1;32m     22\u001b[0m     \u001b[0;32mfor\u001b[0m \u001b[0mchannel\u001b[0m \u001b[0;32min\u001b[0m \u001b[0mrange\u001b[0m\u001b[0;34m(\u001b[0m\u001b[0mfilters_layer1\u001b[0m\u001b[0;34m.\u001b[0m\u001b[0mshape\u001b[0m\u001b[0;34m[\u001b[0m\u001b[0;36m2\u001b[0m\u001b[0;34m]\u001b[0m\u001b[0;34m)\u001b[0m\u001b[0;34m:\u001b[0m\u001b[0;34m\u001b[0m\u001b[0;34m\u001b[0m\u001b[0m\n\u001b[0;32m---> 23\u001b[0;31m         \u001b[0mconv_result1\u001b[0m\u001b[0;34m[\u001b[0m\u001b[0;34m:\u001b[0m\u001b[0;34m,\u001b[0m \u001b[0;34m:\u001b[0m\u001b[0;34m,\u001b[0m \u001b[0mchannel\u001b[0m\u001b[0;34m]\u001b[0m \u001b[0;34m=\u001b[0m \u001b[0mconvolution\u001b[0m\u001b[0;34m(\u001b[0m\u001b[0mimage\u001b[0m\u001b[0;34m[\u001b[0m\u001b[0;34m:\u001b[0m\u001b[0;34m,\u001b[0m \u001b[0;34m:\u001b[0m\u001b[0;34m,\u001b[0m \u001b[0mchannel\u001b[0m\u001b[0;34m]\u001b[0m\u001b[0;34m,\u001b[0m \u001b[0mfilters_layer1\u001b[0m\u001b[0;34m[\u001b[0m\u001b[0;34m:\u001b[0m\u001b[0;34m,\u001b[0m \u001b[0;34m:\u001b[0m\u001b[0;34m,\u001b[0m \u001b[0mchannel\u001b[0m\u001b[0;34m]\u001b[0m\u001b[0;34m)\u001b[0m\u001b[0;34m\u001b[0m\u001b[0;34m\u001b[0m\u001b[0m\n\u001b[0m\u001b[1;32m     24\u001b[0m \u001b[0;34m\u001b[0m\u001b[0m\n\u001b[1;32m     25\u001b[0m     \u001b[0mactivated_result1\u001b[0m \u001b[0;34m=\u001b[0m \u001b[0mtanh\u001b[0m\u001b[0;34m(\u001b[0m\u001b[0mconv_result1\u001b[0m\u001b[0;34m)\u001b[0m\u001b[0;34m\u001b[0m\u001b[0;34m\u001b[0m\u001b[0m\n",
      "\u001b[0;32m/var/folders/zs/n_wh27_s5ln1fk586vbgqnn00000gq/T/ipykernel_40033/3303835862.py\u001b[0m in \u001b[0;36mconvolution\u001b[0;34m(image, kernel)\u001b[0m\n\u001b[1;32m      3\u001b[0m \u001b[0;34m\u001b[0m\u001b[0m\n\u001b[1;32m      4\u001b[0m \u001b[0;32mdef\u001b[0m \u001b[0mconvolution\u001b[0m\u001b[0;34m(\u001b[0m\u001b[0mimage\u001b[0m\u001b[0;34m,\u001b[0m \u001b[0mkernel\u001b[0m\u001b[0;34m)\u001b[0m\u001b[0;34m:\u001b[0m\u001b[0;34m\u001b[0m\u001b[0;34m\u001b[0m\u001b[0m\n\u001b[0;32m----> 5\u001b[0;31m     \u001b[0;32mreturn\u001b[0m \u001b[0mcv2\u001b[0m\u001b[0;34m.\u001b[0m\u001b[0mfilter2D\u001b[0m\u001b[0;34m(\u001b[0m\u001b[0mimage\u001b[0m\u001b[0;34m,\u001b[0m \u001b[0;34m-\u001b[0m\u001b[0;36m1\u001b[0m\u001b[0;34m,\u001b[0m \u001b[0mkernel\u001b[0m\u001b[0;34m)\u001b[0m\u001b[0;34m\u001b[0m\u001b[0;34m\u001b[0m\u001b[0m\n\u001b[0m\u001b[1;32m      6\u001b[0m \u001b[0;34m\u001b[0m\u001b[0m\n\u001b[1;32m      7\u001b[0m \u001b[0;32mdef\u001b[0m \u001b[0mtanh\u001b[0m\u001b[0;34m(\u001b[0m\u001b[0mx\u001b[0m\u001b[0;34m)\u001b[0m\u001b[0;34m:\u001b[0m\u001b[0;34m\u001b[0m\u001b[0;34m\u001b[0m\u001b[0m\n",
      "\u001b[0;31merror\u001b[0m: OpenCV(4.7.0) /Users/runner/work/opencv-python/opencv-python/opencv/modules/imgproc/src/filter.simd.hpp:3297: error: (-213:The function/feature is not implemented) Unsupported combination of source format (=4), and destination format (=4) in function 'getLinearFilter'\n"
     ]
    }
   ],
   "source": [
    "import numpy as np\n",
    "import cv2\n",
    "\n",
    "def convolution(image, kernel):\n",
    "    return cv2.filter2D(image, -1, kernel)\n",
    "\n",
    "def tanh(x):\n",
    "    return np.tanh(x)\n",
    "\n",
    "def initialize_parameters_2_layers(num_channels):\n",
    "    np.random.seed(42)\n",
    "    filters_layer1 = np.random.randn(3, 3, num_channels)  # Example: 3x3 filter for the first layer with 3 channels\n",
    "    filters_layer2 = np.random.randn(3, 3)  # Example: 3x3 filter for the second layer (assuming 1 channel output)\n",
    "    return filters_layer1, filters_layer2\n",
    "\n",
    "def forward_propagation(image, filters_layer1, filters_layer2):\n",
    "    # First convolution layer\n",
    "    conv_result1 = np.zeros((image.shape[0] - filters_layer1.shape[0] + 1,\n",
    "                             image.shape[1] - filters_layer1.shape[1] + 1,\n",
    "                             filters_layer1.shape[2]))\n",
    "\n",
    "    for channel in range(filters_layer1.shape[2]):\n",
    "        conv_result1[:, :, channel] = convolution(image[:, :, channel], filters_layer1[:, :, channel])\n",
    "\n",
    "    activated_result1 = tanh(conv_result1)\n",
    "\n",
    "    # Second convolution layer\n",
    "    conv_result2 = convolution(activated_result1.sum(axis=2), filters_layer2)\n",
    "    activated_result2 = tanh(conv_result2)\n",
    "\n",
    "    return conv_result1, activated_result1, conv_result2, activated_result2\n",
    "\n",
    "def backward_propagation(image, conv_result1, activated_result1, conv_result2, activated_result2,\n",
    "                         filters_layer1, filters_layer2, learning_rate=0.01):\n",
    "    # Backward pass for the second layer\n",
    "    error2 = image[:, :, 0] - activated_result2\n",
    "    gradient2 = -2 * error2 * (1 - activated_result2**2)  # Derivative of tanh\n",
    "    filters_layer2 -= learning_rate * convolution(activated_result1.sum(axis=2), gradient2)\n",
    "\n",
    "    # Backward pass for the first layer\n",
    "    error1 = np.zeros_like(conv_result1)\n",
    "    for channel in range(filters_layer1.shape[2]):\n",
    "        error1[:, :, channel] = convolution(gradient2, filters_layer2[:, :, 0])\n",
    "    \n",
    "    gradient1 = -2 * error1 * (1 - activated_result1**2)  # Derivative of tanh\n",
    "    for channel in range(filters_layer1.shape[2]):\n",
    "        filters_layer1[:, :, channel] -= learning_rate * convolution(image[:, :, channel], gradient1[:, :, channel])\n",
    "\n",
    "def train_cnn_2_layers(images, epochs=100, learning_rate=0.01):\n",
    "    # Initialize parameters\n",
    "    num_channels = images[0].shape[2]\n",
    "    filters_layer1, filters_layer2 = initialize_parameters_2_layers(num_channels)\n",
    "\n",
    "    # Training loop\n",
    "    for epoch in range(epochs):\n",
    "        for image in images:\n",
    "            # Forward pass\n",
    "            conv_result1, activated_result1, conv_result2, activated_result2 = forward_propagation(\n",
    "                image, filters_layer1, filters_layer2)\n",
    "\n",
    "            # Backward pass (gradient descent)\n",
    "            backward_propagation(image, conv_result1, activated_result1, conv_result2, activated_result2,\n",
    "                                 filters_layer1, filters_layer2, learning_rate)\n",
    "\n",
    "    return filters_layer1, filters_layer2\n",
    "\n",
    "# Exemplo de uso\n",
    "# Suponha que 'color_images' seja uma lista de imagens coloridas (3 canais)\n",
    "color_images = [np.random.randint(0, 2, size=(56, 56, 3)) for _ in range(100000)]\n",
    "trained_filters_layer1, trained_filters_layer2 = train_cnn_2_layers(color_images)\n"
   ]
  },
  {
   "cell_type": "code",
   "execution_count": 102,
   "metadata": {},
   "outputs": [
    {
     "data": {
      "text/plain": [
       "array([[[1, 1, 0],\n",
       "        [0, 1, 0],\n",
       "        [1, 0, 1],\n",
       "        ...,\n",
       "        [1, 1, 0],\n",
       "        [1, 1, 0],\n",
       "        [0, 1, 1]],\n",
       "\n",
       "       [[1, 1, 1],\n",
       "        [0, 1, 1],\n",
       "        [1, 1, 1],\n",
       "        ...,\n",
       "        [1, 0, 0],\n",
       "        [0, 0, 1],\n",
       "        [0, 1, 1]],\n",
       "\n",
       "       [[0, 0, 0],\n",
       "        [0, 0, 1],\n",
       "        [1, 0, 0],\n",
       "        ...,\n",
       "        [1, 1, 0],\n",
       "        [1, 0, 1],\n",
       "        [0, 1, 0]],\n",
       "\n",
       "       ...,\n",
       "\n",
       "       [[0, 0, 1],\n",
       "        [0, 0, 0],\n",
       "        [0, 1, 0],\n",
       "        ...,\n",
       "        [1, 1, 1],\n",
       "        [1, 1, 1],\n",
       "        [0, 0, 1]],\n",
       "\n",
       "       [[0, 0, 1],\n",
       "        [0, 0, 0],\n",
       "        [0, 0, 1],\n",
       "        ...,\n",
       "        [0, 0, 1],\n",
       "        [1, 0, 1],\n",
       "        [1, 0, 1]],\n",
       "\n",
       "       [[0, 0, 1],\n",
       "        [0, 0, 0],\n",
       "        [1, 0, 0],\n",
       "        ...,\n",
       "        [0, 1, 1],\n",
       "        [1, 0, 1],\n",
       "        [0, 0, 1]]])"
      ]
     },
     "execution_count": 102,
     "metadata": {},
     "output_type": "execute_result"
    }
   ],
   "source": [
    "color_images[0]"
   ]
  },
  {
   "cell_type": "code",
   "execution_count": null,
   "metadata": {},
   "outputs": [],
   "source": []
  },
  {
   "cell_type": "code",
   "execution_count": null,
   "metadata": {},
   "outputs": [],
   "source": [
    "import numpy as np\n",
    "import cv2\n",
    "\n",
    "def convolution(image, kernel):\n",
    "    return cv2.filter2D(image, -1, kernel)\n",
    "\n",
    "def relu(x):\n",
    "    return np.maximum(0, x)\n",
    "\n",
    "def initialize_parameters_2_layers(num_channels):\n",
    "    np.random.seed(42)\n",
    "    filters_layer1 = np.random.randn(3, 3, num_channels)  # Example: 3x3 filter for the first layer with 3 channels\n",
    "    filters_layer2 = np.random.randn(3, 3)  # Example: 3x3 filter for the second layer (assuming 1 channel output)\n",
    "    return filters_layer1, filters_layer2\n",
    "\n",
    "def forward_propagation(image, filters_layer1, filters_layer2):\n",
    "    # First convolution layer\n",
    "    conv_result1 = np.zeros((image.shape[0] - filters_layer1.shape[0] + 1,\n",
    "                             image.shape[1] - filters_layer1.shape[1] + 1,\n",
    "                             filters_layer1.shape[2]))\n",
    "\n",
    "    for channel in range(filters_layer1.shape[2]):\n",
    "        conv_result1[:, :, channel] = convolution(image[:, :, channel], filters_layer1[:, :, channel])\n",
    "\n",
    "    activated_result1 = relu(conv_result1)\n",
    "\n",
    "    # Second convolution layer\n",
    "    conv_result2 = convolution(activated_result1.sum(axis=2), filters_layer2)\n",
    "    activated_result2 = relu(conv_result2)\n",
    "\n",
    "    return conv_result1, activated_result1, conv_result2, activated_result2\n",
    "\n",
    "def backward_propagation(image, conv_result1, activated_result1, conv_result2, activated_result2,\n",
    "                         filters_layer1, filters_layer2, learning_rate=0.01):\n",
    "    # Backward pass for the second layer\n",
    "    error2 = image[:, :, 0] - activated_result2\n",
    "    gradient2 = -2 * error2 * (conv_result2 > 0)\n",
    "    filters_layer2 -= learning_rate * convolution(activated_result1.sum(axis=2), gradient2)\n",
    "\n",
    "    # Backward pass for the first layer\n",
    "    error1 = np.zeros_like(conv_result1)\n",
    "    for channel in range(filters_layer1.shape[2]):\n",
    "        error1[:, :, channel] = convolution(gradient2, filters_layer2[:, :, 0])\n",
    "    \n",
    "    gradient1 = -2 * error1 * (conv_result1 > 0)\n",
    "    for channel in range(filters_layer1.shape[2]):\n",
    "        filters_layer1[:, :, channel] -= learning_rate * convolution(image[:, :, channel], gradient1[:, :, channel])\n",
    "\n",
    "def train_cnn_2_layers(images, epochs=100, learning_rate=0.01):\n",
    "    # Initialize parameters\n",
    "    num_channels = images[0].shape[2]\n",
    "    filters_layer1, filters_layer2 = initialize_parameters_2_layers(num_channels)\n",
    "\n",
    "    # Training loop\n",
    "    for epoch in range(epochs):\n",
    "        for image in images:\n",
    "            # Forward pass\n",
    "            conv_result1, activated_result1, conv_result2, activated_result2 = forward_propagation(\n",
    "                image, filters_layer1, filters_layer2)\n",
    "\n",
    "            # Backward pass (gradient descent)\n",
    "            backward_propagation(image, conv_result1, activated_result1, conv_result2, activated_result2,\n",
    "                                 filters_layer1, filters_layer2, learning_rate)\n",
    "\n",
    "    return filters_layer1, filters_layer2\n",
    "\n",
    "# Exemplo de uso\n",
    "# Suponha que 'color_images' seja uma lista de imagens coloridas (3 canais)\n",
    "color_images = [np.random.randint(0, 2, size=(56, 56, 3)) for _ in range(100000)]\n",
    "trained_filters_layer1, trained_filters_layer2 = train_cnn_2_layers(color_images)"
   ]
  },
  {
   "cell_type": "code",
   "execution_count": null,
   "metadata": {},
   "outputs": [],
   "source": [
    "import numpy as np\n",
    "import cv2\n",
    "\n",
    "def convolution(image, kernel):\n",
    "    return cv2.filter2D(image, -1, kernel)\n",
    "\n",
    "def relu(x):\n",
    "    return np.maximum(0, x)\n",
    "\n",
    "def initialize_parameters_2_layers():\n",
    "    np.random.seed(42)\n",
    "    filters_layer1 = np.random.randn(3, 3)  # Example: 3x3 filter for the first layer\n",
    "    filters_layer2 = np.random.randn(3, 3)  # Example: 3x3 filter for the second layer\n",
    "    return filters_layer1, filters_layer2\n",
    "\n",
    "def forward_propagation(image, filters_layer1, filters_layer2):\n",
    "    # First convolution layer\n",
    "    conv_result1 = convolution(image, filters_layer1)\n",
    "    activated_result1 = relu(conv_result1)\n",
    "\n",
    "    # Second convolution layer\n",
    "    conv_result2 = convolution(activated_result1, filters_layer2)\n",
    "    activated_result2 = relu(conv_result2)\n",
    "\n",
    "    return conv_result1, activated_result1, conv_result2, activated_result2\n",
    "\n",
    "def backward_propagation(image, conv_result1, activated_result1, conv_result2, activated_result2,\n",
    "                         filters_layer1, filters_layer2, learning_rate=0.01):\n",
    "    # Backward pass for the second layer\n",
    "    error2 = image - activated_result2\n",
    "    gradient2 = -2 * error2 * (conv_result2 > 0)\n",
    "    filters_layer2 -= learning_rate * convolution(activated_result1, gradient2)\n",
    "\n",
    "    # Backward pass for the first layer\n",
    "    error1 = convolution(gradient2, filters_layer2.T)\n",
    "    gradient1 = -2 * error1 * (conv_result1 > 0)\n",
    "    filters_layer1 -= learning_rate * convolution(image, gradient1)\n",
    "\n",
    "def train_cnn_2_layers(images, epochs=100, learning_rate=0.01):\n",
    "    # Initialize parameters\n",
    "    filters_layer1, filters_layer2 = initialize_parameters_2_layers()\n",
    "\n",
    "    # Training loop\n",
    "    for epoch in range(epochs):\n",
    "        for image in images:\n",
    "            # Forward pass\n",
    "            conv_result1, activated_result1, conv_result2, activated_result2 = forward_propagation(\n",
    "                image, filters_layer1, filters_layer2)\n",
    "\n",
    "            # Backward pass (gradient descent)\n",
    "            backward_propagation(image, conv_result1, activated_result1, conv_result2, activated_result2,\n",
    "                                 filters_layer1, filters_layer2, learning_rate)\n",
    "\n",
    "    return filters_layer1, filters_layer2\n",
    "\n",
    "# Exemplo de uso\n",
    "# Suponha que 'binary_images' seja uma lista de imagens binárias (matrizes 2D de 0s e 1s)\n",
    "trained_filters_layer1, trained_filters_layer2 = train_cnn_2_layers(binary_images)\n"
   ]
  },
  {
   "cell_type": "code",
   "execution_count": null,
   "metadata": {},
   "outputs": [],
   "source": []
  },
  {
   "cell_type": "code",
   "execution_count": null,
   "metadata": {},
   "outputs": [],
   "source": []
  },
  {
   "cell_type": "code",
   "execution_count": null,
   "metadata": {},
   "outputs": [],
   "source": []
  },
  {
   "cell_type": "code",
   "execution_count": null,
   "metadata": {},
   "outputs": [],
   "source": []
  },
  {
   "cell_type": "code",
   "execution_count": 18,
   "metadata": {},
   "outputs": [],
   "source": [
    "tt = np.array([[1,2,3,5,6,7,9,10,11],[2,3,4,6,7,8,10,11,12],[5,6,7,9,10,11,13,14,15],[6,7,8,10,11,12,14,15,16]])"
   ]
  },
  {
   "cell_type": "code",
   "execution_count": 19,
   "metadata": {},
   "outputs": [
    {
     "data": {
      "text/plain": [
       "array([[ 1,  2,  3,  5,  6,  7,  9, 10, 11],\n",
       "       [ 2,  3,  4,  6,  7,  8, 10, 11, 12],\n",
       "       [ 5,  6,  7,  9, 10, 11, 13, 14, 15],\n",
       "       [ 6,  7,  8, 10, 11, 12, 14, 15, 16]])"
      ]
     },
     "execution_count": 19,
     "metadata": {},
     "output_type": "execute_result"
    }
   ],
   "source": [
    "tt"
   ]
  },
  {
   "cell_type": "code",
   "execution_count": 20,
   "metadata": {},
   "outputs": [],
   "source": [
    "Wini = np.array([np.nan, 1., np.nan, 1., 1., 1., np.nan, 1., np.nan])"
   ]
  },
  {
   "cell_type": "code",
   "execution_count": 41,
   "metadata": {},
   "outputs": [
    {
     "data": {
      "text/plain": [
       "array([[nan,  2., nan,  5.,  6.,  7., nan, 10., nan],\n",
       "       [nan,  3., nan,  6.,  7.,  8., nan, 11., nan],\n",
       "       [nan,  6., nan,  9., 10., 11., nan, 14., nan],\n",
       "       [nan,  7., nan, 10., 11., 12., nan, 15., nan]])"
      ]
     },
     "execution_count": 41,
     "metadata": {},
     "output_type": "execute_result"
    }
   ],
   "source": [
    "arr = tt*Wini\n",
    "arr"
   ]
  },
  {
   "cell_type": "code",
   "execution_count": 42,
   "metadata": {},
   "outputs": [
    {
     "data": {
      "text/plain": [
       "array([[ 2.,  5.,  6.,  7., 10.],\n",
       "       [ 3.,  6.,  7.,  8., 11.],\n",
       "       [ 6.,  9., 10., 11., 14.],\n",
       "       [ 7., 10., 11., 12., 15.]])"
      ]
     },
     "execution_count": 42,
     "metadata": {},
     "output_type": "execute_result"
    }
   ],
   "source": [
    "cleaned_array = [row[~np.isnan(row)] for row in arr]\n",
    "result_array = np.array(cleaned_array)\n",
    "result_array"
   ]
  },
  {
   "cell_type": "code",
   "execution_count": 23,
   "metadata": {},
   "outputs": [],
   "source": [
    "wlen = 3\n",
    "increase = int(round(wlen/2-0.1,0))"
   ]
  },
  {
   "cell_type": "code",
   "execution_count": 69,
   "metadata": {},
   "outputs": [],
   "source": [
    "def get_images(img_size, img_type):\n",
    "    ximg = []\n",
    "    yimg = []\n",
    "    for img in range(1,img_size+1):\n",
    "        x = cv2.imread(f'./data/x/{img_type}{img:02d}.jpg', cv2.IMREAD_GRAYSCALE)\n",
    "        y = cv2.imread(f'./data/y/{img_type}{img:02d}.jpg', cv2.IMREAD_GRAYSCALE)\n",
    "        xbin = _convert_binary(x)\n",
    "        xbin_inc = increase_zero(xbin)\n",
    "        ybin = _convert_binary(y)\n",
    "        for i in range(xbin.shape[0]):\n",
    "            for j in range(xbin.shape[1]):\n",
    "                window = np.array(xbin_inc[i:i + wlen, j:j + wlen]).flatten()\n",
    "                window = (xbin_inc[i:i + wlen, j:j + wlen]).flatten()\n",
    "                ximg.append(window)\n",
    "                yimg.append(ybin[i, j])\n",
    "    return np.vstack(ximg) , np.array(yimg)\n",
    "\n",
    "def increase_zero(img):\n",
    "    img_inc = -np.ones((img.shape[0]+increase*2, img.shape[1]+increase*2), dtype=img.dtype)\n",
    "    img_inc[increase:img_inc.shape[0]-increase,increase:img_inc.shape[1]-increase] = img\n",
    "    return img_inc\n",
    "\n",
    "def _convert_binary(img):\n",
    "    (_, img_bin) = cv2.threshold(img, 100, 255, cv2.THRESH_BINARY)\n",
    "    img_bin = img_bin.astype('float64')\n",
    "    img_bin[(img_bin==0)]=1\n",
    "    img_bin[(img_bin==255)]=-1    \n",
    "    return img_bin"
   ]
  },
  {
   "cell_type": "code",
   "execution_count": 70,
   "metadata": {},
   "outputs": [],
   "source": [
    "train_size = 10\n",
    "img_type = 'train'"
   ]
  },
  {
   "cell_type": "code",
   "execution_count": 71,
   "metadata": {},
   "outputs": [],
   "source": [
    "x, y = get_images(train_size, 'train')"
   ]
  },
  {
   "cell_type": "code",
   "execution_count": 74,
   "metadata": {},
   "outputs": [
    {
     "data": {
      "text/plain": [
       "((31360, 9), (31360,))"
      ]
     },
     "execution_count": 74,
     "metadata": {},
     "output_type": "execute_result"
    }
   ],
   "source": [
    "x.shape, y.shape"
   ]
  },
  {
   "cell_type": "code",
   "execution_count": 78,
   "metadata": {},
   "outputs": [
    {
     "data": {
      "text/plain": [
       "56"
      ]
     },
     "execution_count": 78,
     "metadata": {},
     "output_type": "execute_result"
    }
   ],
   "source": [
    "xbin.shape[0]"
   ]
  },
  {
   "cell_type": "code",
   "execution_count": 87,
   "metadata": {},
   "outputs": [
    {
     "data": {
      "text/plain": [
       "array([5., 5.])"
      ]
     },
     "execution_count": 87,
     "metadata": {},
     "output_type": "execute_result"
    }
   ],
   "source": [
    "W = []\n",
    "W.append(np.array([np.nan, 1., np.nan, 1., 1., 1., np.nan, 1., np.nan]))\n",
    "W.append(np.array([np.nan, 1., np.nan, 1., 1., 1., np.nan, 1., np.nan]))\n",
    "np.nansum(W, axis=1)"
   ]
  },
  {
   "cell_type": "code",
   "execution_count": null,
   "metadata": {},
   "outputs": [],
   "source": []
  },
  {
   "cell_type": "code",
   "execution_count": 84,
   "metadata": {},
   "outputs": [
    {
     "data": {
      "text/plain": [
       "32"
      ]
     },
     "execution_count": 84,
     "metadata": {},
     "output_type": "execute_result"
    }
   ],
   "source": [
    "2**5"
   ]
  },
  {
   "cell_type": "code",
   "execution_count": 65,
   "metadata": {},
   "outputs": [],
   "source": [
    "a = np.array([[1, 2, 3, 4, 5],\n",
    "                  [6, 7, 8, 9, 10],\n",
    "                  [11, 12, 13, 14, 15]])"
   ]
  },
  {
   "cell_type": "code",
   "execution_count": 68,
   "metadata": {},
   "outputs": [
    {
     "ename": "AttributeError",
     "evalue": "'numpy.ndarray' object has no attribute 'values'",
     "output_type": "error",
     "traceback": [
      "\u001b[1;31m---------------------------------------------------------------------------\u001b[0m",
      "\u001b[1;31mAttributeError\u001b[0m                            Traceback (most recent call last)",
      "\u001b[1;32m<ipython-input-68-1dd066a4488a>\u001b[0m in \u001b[0;36m<module>\u001b[1;34m\u001b[0m\n\u001b[1;32m----> 1\u001b[1;33m \u001b[0ma\u001b[0m\u001b[1;33m.\u001b[0m\u001b[0mflatten\u001b[0m\u001b[1;33m(\u001b[0m\u001b[1;33m)\u001b[0m\u001b[1;33m.\u001b[0m\u001b[0mvalues\u001b[0m\u001b[1;33m\u001b[0m\u001b[1;33m\u001b[0m\u001b[0m\n\u001b[0m",
      "\u001b[1;31mAttributeError\u001b[0m: 'numpy.ndarray' object has no attribute 'values'"
     ]
    }
   ],
   "source": [
    "a.flatten().values"
   ]
  },
  {
   "cell_type": "code",
   "execution_count": null,
   "metadata": {},
   "outputs": [],
   "source": []
  },
  {
   "cell_type": "code",
   "execution_count": null,
   "metadata": {},
   "outputs": [],
   "source": []
  },
  {
   "cell_type": "code",
   "execution_count": null,
   "metadata": {},
   "outputs": [],
   "source": []
  },
  {
   "cell_type": "code",
   "execution_count": 17,
   "metadata": {},
   "outputs": [
    {
     "name": "stdout",
     "output_type": "stream",
     "text": [
      "[[1 2]\n",
      " [6 7]]\n",
      "[[2 3]\n",
      " [7 8]]\n",
      "[[3 4]\n",
      " [8 9]]\n",
      "[[ 4  5]\n",
      " [ 9 10]]\n",
      "[[ 6  7]\n",
      " [11 12]]\n",
      "[[ 7  8]\n",
      " [12 13]]\n",
      "[[ 8  9]\n",
      " [13 14]]\n",
      "[[ 9 10]\n",
      " [14 15]]\n"
     ]
    }
   ],
   "source": [
    "import numpy as np\n",
    "\n",
    "def sliding_window(matrix, window_size):\n",
    "    \"\"\"\n",
    "    Generate submatrices using a sliding window over a 2D matrix.\n",
    "\n",
    "    Args:\n",
    "        matrix (numpy.ndarray): The input 2D matrix.\n",
    "        window_size (tuple): A tuple (height, width) representing the window size.\n",
    "\n",
    "    Yields:\n",
    "        numpy.ndarray: Submatrices corresponding to each position of the sliding window.\n",
    "    \"\"\"\n",
    "    if not isinstance(matrix, np.ndarray):\n",
    "        matrix = np.array(matrix)\n",
    "\n",
    "    if not isinstance(window_size, tuple) or len(window_size) != 2:\n",
    "        raise ValueError(\"window_size must be a tuple of two integers (height, width).\")\n",
    "\n",
    "    height, width = window_size\n",
    "    matrix_height, matrix_width = matrix.shape\n",
    "\n",
    "    if height > matrix_height or width > matrix_width:\n",
    "        raise ValueError(\"Window size exceeds the matrix dimensions.\")\n",
    "\n",
    "    for i in range(matrix_height - height + 1):\n",
    "        for j in range(matrix_width - width + 1):\n",
    "            window = matrix[i:i + height, j:j + width].fl\n",
    "            yield window\n",
    "\n",
    "# Example usage:\n",
    "matrix = np.array([[1, 2, 3, 4, 5],\n",
    "                  [6, 7, 8, 9, 10],\n",
    "                  [11, 12, 13, 14, 15]])\n",
    "\n",
    "window_size = (2, 2)\n",
    "\n",
    "for submatrix in sliding_window(matrix, window_size):\n",
    "    print(submatrix)\n"
   ]
  },
  {
   "cell_type": "code",
   "execution_count": 37,
   "metadata": {},
   "outputs": [
    {
     "data": {
      "text/plain": [
       "array([ 9, 10, 14, 15])"
      ]
     },
     "execution_count": 37,
     "metadata": {},
     "output_type": "execute_result"
    }
   ],
   "source": [
    "np.array(submatrix).flatten()"
   ]
  },
  {
   "cell_type": "code",
   "execution_count": 35,
   "metadata": {},
   "outputs": [
    {
     "data": {
      "text/plain": [
       "array([1, 2, 3, 4])"
      ]
     },
     "execution_count": 35,
     "metadata": {},
     "output_type": "execute_result"
    }
   ],
   "source": [
    "a = np.array([[1,2], [3,4]])\n",
    "a.flatten()"
   ]
  },
  {
   "cell_type": "code",
   "execution_count": 2,
   "metadata": {},
   "outputs": [
    {
     "name": "stdout",
     "output_type": "stream",
     "text": [
      "Janela Inicializada: [array([nan,  1., nan,  1.,  1.,  1., nan,  1., nan]), array([nan,  1., nan,  1.,  1.,  1., nan,  1., nan])]\n",
      "Joint Inicializada: [array([['00000', '1'],\n",
      "       ['00001', '0'],\n",
      "       ['00010', '0'],\n",
      "       ['00011', '1'],\n",
      "       ['00100', '0'],\n",
      "       ['00101', '1'],\n",
      "       ['00110', '1'],\n",
      "       ['00111', '1'],\n",
      "       ['01000', '1'],\n",
      "       ['01001', '1'],\n",
      "       ['01010', '1'],\n",
      "       ['01011', '0'],\n",
      "       ['01100', '1'],\n",
      "       ['01101', '0'],\n",
      "       ['01110', '0'],\n",
      "       ['01111', '1'],\n",
      "       ['10000', '0'],\n",
      "       ['10001', '0'],\n",
      "       ['10010', '1'],\n",
      "       ['10011', '0'],\n",
      "       ['10100', '1'],\n",
      "       ['10101', '0'],\n",
      "       ['10110', '1'],\n",
      "       ['10111', '1'],\n",
      "       ['11000', '0'],\n",
      "       ['11001', '0'],\n",
      "       ['11010', '0'],\n",
      "       ['11011', '1'],\n",
      "       ['11100', '0'],\n",
      "       ['11101', '0'],\n",
      "       ['11110', '0'],\n",
      "       ['11111', '0']], dtype='<U11'), array([['00000', '0'],\n",
      "       ['00001', '1'],\n",
      "       ['00010', '0'],\n",
      "       ['00011', '0'],\n",
      "       ['00100', '1'],\n",
      "       ['00101', '0'],\n",
      "       ['00110', '1'],\n",
      "       ['00111', '1'],\n",
      "       ['01000', '1'],\n",
      "       ['01001', '0'],\n",
      "       ['01010', '0'],\n",
      "       ['01011', '1'],\n",
      "       ['01100', '0'],\n",
      "       ['01101', '0'],\n",
      "       ['01110', '0'],\n",
      "       ['01111', '0'],\n",
      "       ['10000', '1'],\n",
      "       ['10001', '0'],\n",
      "       ['10010', '0'],\n",
      "       ['10011', '0'],\n",
      "       ['10100', '0'],\n",
      "       ['10101', '1'],\n",
      "       ['10110', '0'],\n",
      "       ['10111', '0'],\n",
      "       ['11000', '1'],\n",
      "       ['11001', '1'],\n",
      "       ['11010', '1'],\n",
      "       ['11011', '0'],\n",
      "       ['11100', '0'],\n",
      "       ['11101', '1'],\n",
      "       ['11110', '1'],\n",
      "       ['11111', '1']], dtype='<U11')]\n",
      "Resultados serão salvos em  results_V4\n",
      "------------------------------------------------------------------\n"
     ]
    }
   ],
   "source": [
    "import USDMM_v3 as USDMM\n",
    "\n",
    "WOMC = USDMM.WOMC(\n",
    "    new = True, # True/ STR -> If True inicialize with the cross operator/ If STR it will opens the file with the name passed\n",
    "    nlayer = 2, # INT -> Number of operators in each layer\n",
    "    wlen = 3,  # INT -> Size of the operator (wlen*wlen)\n",
    "    train_size = 10, # INT -> Number of images to train \n",
    "    val_size = 10, # INT -> Number of images to validate\n",
    "    test_size = 10, # INT -> Number of images to test\n",
    "    error_type = 'iou', # 'mae' / 'iou' -> type of error\n",
    "    neighbors_sample = False, # INT/False -> Number of neighbors to sort\n",
    "    epoch_f = 10, # INT -> Number of epochs for the boolean function lattice (fixed windows)\n",
    "    epoch_w = 50, # INT -> Number of epochs for the windows lattice\n",
    "    batch = 10, # INT -> Batch size\n",
    "    path_results = 'results_V4', # STR -> file where we want to save the results\n",
    "    name_save='_V4', # STR -> pos fixed name for the results saved\n",
    "    seed = 0, #INT -> seed for reproducibilit\n",
    "    parallel = True, # True/False -> use parallel (True) or sequential (False)\n",
    "    early_stop_round_f = 20, #INT -> max number of epochs without changes in the boolean function lattice\n",
    "    early_stop_round_w = 10 #INT -> max number of epochs without changes in the windows lattice\n",
    ")"
   ]
  },
  {
   "cell_type": "code",
   "execution_count": 3,
   "metadata": {},
   "outputs": [
    {
     "ename": "AttributeError",
     "evalue": "module 'USDMM_v3' has no attribute 'initialize_parameters_nn'",
     "output_type": "error",
     "traceback": [
      "\u001b[1;31m---------------------------------------------------------------------------\u001b[0m",
      "\u001b[1;31mAttributeError\u001b[0m                            Traceback (most recent call last)",
      "\u001b[1;32m<ipython-input-3-209f437a4a36>\u001b[0m in \u001b[0;36m<module>\u001b[1;34m\u001b[0m\n\u001b[1;32m----> 1\u001b[1;33m \u001b[0mUSDMM\u001b[0m\u001b[1;33m.\u001b[0m\u001b[0minitialize_parameters_nn\u001b[0m\u001b[1;33m(\u001b[0m\u001b[1;33m[\u001b[0m\u001b[0mnp\u001b[0m\u001b[1;33m.\u001b[0m\u001b[0marray\u001b[0m\u001b[1;33m(\u001b[0m\u001b[1;33m[\u001b[0m\u001b[0mnp\u001b[0m\u001b[1;33m.\u001b[0m\u001b[0mnan\u001b[0m\u001b[1;33m,\u001b[0m  \u001b[1;36m1.\u001b[0m\u001b[1;33m,\u001b[0m \u001b[0mnp\u001b[0m\u001b[1;33m.\u001b[0m\u001b[0mnan\u001b[0m\u001b[1;33m,\u001b[0m  \u001b[1;36m1.\u001b[0m\u001b[1;33m,\u001b[0m  \u001b[1;36m1.\u001b[0m\u001b[1;33m,\u001b[0m  \u001b[1;36m1.\u001b[0m\u001b[1;33m,\u001b[0m \u001b[0mnp\u001b[0m\u001b[1;33m.\u001b[0m\u001b[0mnan\u001b[0m\u001b[1;33m,\u001b[0m  \u001b[1;36m1.\u001b[0m\u001b[1;33m,\u001b[0m \u001b[0mnp\u001b[0m\u001b[1;33m.\u001b[0m\u001b[0mnan\u001b[0m\u001b[1;33m]\u001b[0m\u001b[1;33m)\u001b[0m\u001b[1;33m,\u001b[0m\u001b[0mnp\u001b[0m\u001b[1;33m.\u001b[0m\u001b[0marray\u001b[0m\u001b[1;33m(\u001b[0m\u001b[1;33m[\u001b[0m\u001b[0mnp\u001b[0m\u001b[1;33m.\u001b[0m\u001b[0mnan\u001b[0m\u001b[1;33m,\u001b[0m  \u001b[1;36m1.\u001b[0m\u001b[1;33m,\u001b[0m \u001b[0mnp\u001b[0m\u001b[1;33m.\u001b[0m\u001b[0mnan\u001b[0m\u001b[1;33m,\u001b[0m  \u001b[1;36m1.\u001b[0m\u001b[1;33m,\u001b[0m  \u001b[1;36m1.\u001b[0m\u001b[1;33m,\u001b[0m  \u001b[1;36m1.\u001b[0m\u001b[1;33m,\u001b[0m \u001b[0mnp\u001b[0m\u001b[1;33m.\u001b[0m\u001b[0mnan\u001b[0m\u001b[1;33m,\u001b[0m  \u001b[1;36m1.\u001b[0m\u001b[1;33m,\u001b[0m \u001b[0mnp\u001b[0m\u001b[1;33m.\u001b[0m\u001b[0mnan\u001b[0m\u001b[1;33m]\u001b[0m\u001b[1;33m)\u001b[0m\u001b[1;33m]\u001b[0m\u001b[1;33m)\u001b[0m\u001b[1;33m\u001b[0m\u001b[1;33m\u001b[0m\u001b[0m\n\u001b[0m",
      "\u001b[1;31mAttributeError\u001b[0m: module 'USDMM_v3' has no attribute 'initialize_parameters_nn'"
     ]
    }
   ],
   "source": [
    "USDMM.initialize_parameters_nn([np.array([np.nan,  1., np.nan,  1.,  1.,  1., np.nan,  1., np.nan]),np.array([np.nan,  1., np.nan,  1.,  1.,  1., np.nan,  1., np.nan])])"
   ]
  },
  {
   "cell_type": "code",
   "execution_count": 36,
   "metadata": {},
   "outputs": [],
   "source": [
    "def mat(a,b):\n",
    "    c = a+b\n",
    "    "
   ]
  },
  {
   "cell_type": "code",
   "execution_count": 37,
   "metadata": {},
   "outputs": [],
   "source": [
    "mat(1,2)"
   ]
  },
  {
   "cell_type": "code",
   "execution_count": 41,
   "metadata": {},
   "outputs": [
    {
     "data": {
      "text/plain": [
       "4"
      ]
     },
     "execution_count": 41,
     "metadata": {},
     "output_type": "execute_result"
    }
   ],
   "source": [
    "2**2"
   ]
  },
  {
   "cell_type": "code",
   "execution_count": 49,
   "metadata": {},
   "outputs": [],
   "source": [
    "for i in range(100000000):\n",
    "    mat(i,i**2)"
   ]
  },
  {
   "cell_type": "code",
   "execution_count": 51,
   "metadata": {},
   "outputs": [],
   "source": [
    "from multiprocessing import Pool"
   ]
  },
  {
   "cell_type": "code",
   "execution_count": 52,
   "metadata": {},
   "outputs": [
    {
     "ename": "TypeError",
     "evalue": "'int' object is not iterable",
     "output_type": "error",
     "traceback": [
      "\u001b[0;31m---------------------------------------------------------------------------\u001b[0m",
      "\u001b[0;31mTypeError\u001b[0m                                 Traceback (most recent call last)",
      "\u001b[0;32m/var/folders/zs/n_wh27_s5ln1fk586vbgqnn00000gq/T/ipykernel_53167/46307703.py\u001b[0m in \u001b[0;36m<module>\u001b[0;34m\u001b[0m\n\u001b[1;32m      1\u001b[0m \u001b[0;32mwith\u001b[0m \u001b[0mPool\u001b[0m\u001b[0;34m(\u001b[0m\u001b[0;36m8\u001b[0m\u001b[0;34m)\u001b[0m \u001b[0;32mas\u001b[0m \u001b[0mp\u001b[0m\u001b[0;34m:\u001b[0m\u001b[0;34m\u001b[0m\u001b[0;34m\u001b[0m\u001b[0m\n\u001b[0;32m----> 2\u001b[0;31m     \u001b[0mp\u001b[0m\u001b[0;34m.\u001b[0m\u001b[0mmap\u001b[0m\u001b[0;34m(\u001b[0m\u001b[0mmat\u001b[0m\u001b[0;34m,\u001b[0m\u001b[0mi\u001b[0m\u001b[0;34m,\u001b[0m\u001b[0mi\u001b[0m\u001b[0;34m**\u001b[0m\u001b[0;36m2\u001b[0m\u001b[0;34m)\u001b[0m\u001b[0;34m\u001b[0m\u001b[0;34m\u001b[0m\u001b[0m\n\u001b[0m",
      "\u001b[0;32m~/opt/anaconda3/envs/envpy/lib/python3.9/multiprocessing/pool.py\u001b[0m in \u001b[0;36mmap\u001b[0;34m(self, func, iterable, chunksize)\u001b[0m\n\u001b[1;32m    362\u001b[0m         \u001b[0;32min\u001b[0m \u001b[0ma\u001b[0m \u001b[0mlist\u001b[0m \u001b[0mthat\u001b[0m \u001b[0;32mis\u001b[0m \u001b[0mreturned\u001b[0m\u001b[0;34m.\u001b[0m\u001b[0;34m\u001b[0m\u001b[0;34m\u001b[0m\u001b[0m\n\u001b[1;32m    363\u001b[0m         '''\n\u001b[0;32m--> 364\u001b[0;31m         \u001b[0;32mreturn\u001b[0m \u001b[0mself\u001b[0m\u001b[0;34m.\u001b[0m\u001b[0m_map_async\u001b[0m\u001b[0;34m(\u001b[0m\u001b[0mfunc\u001b[0m\u001b[0;34m,\u001b[0m \u001b[0miterable\u001b[0m\u001b[0;34m,\u001b[0m \u001b[0mmapstar\u001b[0m\u001b[0;34m,\u001b[0m \u001b[0mchunksize\u001b[0m\u001b[0;34m)\u001b[0m\u001b[0;34m.\u001b[0m\u001b[0mget\u001b[0m\u001b[0;34m(\u001b[0m\u001b[0;34m)\u001b[0m\u001b[0;34m\u001b[0m\u001b[0;34m\u001b[0m\u001b[0m\n\u001b[0m\u001b[1;32m    365\u001b[0m \u001b[0;34m\u001b[0m\u001b[0m\n\u001b[1;32m    366\u001b[0m     \u001b[0;32mdef\u001b[0m \u001b[0mstarmap\u001b[0m\u001b[0;34m(\u001b[0m\u001b[0mself\u001b[0m\u001b[0;34m,\u001b[0m \u001b[0mfunc\u001b[0m\u001b[0;34m,\u001b[0m \u001b[0miterable\u001b[0m\u001b[0;34m,\u001b[0m \u001b[0mchunksize\u001b[0m\u001b[0;34m=\u001b[0m\u001b[0;32mNone\u001b[0m\u001b[0;34m)\u001b[0m\u001b[0;34m:\u001b[0m\u001b[0;34m\u001b[0m\u001b[0;34m\u001b[0m\u001b[0m\n",
      "\u001b[0;32m~/opt/anaconda3/envs/envpy/lib/python3.9/multiprocessing/pool.py\u001b[0m in \u001b[0;36m_map_async\u001b[0;34m(self, func, iterable, mapper, chunksize, callback, error_callback)\u001b[0m\n\u001b[1;32m    473\u001b[0m         \u001b[0mself\u001b[0m\u001b[0;34m.\u001b[0m\u001b[0m_check_running\u001b[0m\u001b[0;34m(\u001b[0m\u001b[0;34m)\u001b[0m\u001b[0;34m\u001b[0m\u001b[0;34m\u001b[0m\u001b[0m\n\u001b[1;32m    474\u001b[0m         \u001b[0;32mif\u001b[0m \u001b[0;32mnot\u001b[0m \u001b[0mhasattr\u001b[0m\u001b[0;34m(\u001b[0m\u001b[0miterable\u001b[0m\u001b[0;34m,\u001b[0m \u001b[0;34m'__len__'\u001b[0m\u001b[0;34m)\u001b[0m\u001b[0;34m:\u001b[0m\u001b[0;34m\u001b[0m\u001b[0;34m\u001b[0m\u001b[0m\n\u001b[0;32m--> 475\u001b[0;31m             \u001b[0miterable\u001b[0m \u001b[0;34m=\u001b[0m \u001b[0mlist\u001b[0m\u001b[0;34m(\u001b[0m\u001b[0miterable\u001b[0m\u001b[0;34m)\u001b[0m\u001b[0;34m\u001b[0m\u001b[0;34m\u001b[0m\u001b[0m\n\u001b[0m\u001b[1;32m    476\u001b[0m \u001b[0;34m\u001b[0m\u001b[0m\n\u001b[1;32m    477\u001b[0m         \u001b[0;32mif\u001b[0m \u001b[0mchunksize\u001b[0m \u001b[0;32mis\u001b[0m \u001b[0;32mNone\u001b[0m\u001b[0;34m:\u001b[0m\u001b[0;34m\u001b[0m\u001b[0;34m\u001b[0m\u001b[0m\n",
      "\u001b[0;31mTypeError\u001b[0m: 'int' object is not iterable"
     ]
    }
   ],
   "source": [
    "with Pool(8) as p:\n",
    "    p.map(mat,i,i**2)"
   ]
  },
  {
   "cell_type": "code",
   "execution_count": 50,
   "metadata": {},
   "outputs": [
    {
     "ename": "KeyboardInterrupt",
     "evalue": "",
     "output_type": "error",
     "traceback": [
      "\u001b[0;31m---------------------------------------------------------------------------\u001b[0m",
      "\u001b[0;31mKeyboardInterrupt\u001b[0m                         Traceback (most recent call last)",
      "\u001b[0;32m/var/folders/zs/n_wh27_s5ln1fk586vbgqnn00000gq/T/ipykernel_53167/3331922621.py\u001b[0m in \u001b[0;36m<module>\u001b[0;34m\u001b[0m\n\u001b[1;32m      1\u001b[0m \u001b[0;32mwith\u001b[0m \u001b[0mconcurrent\u001b[0m\u001b[0;34m.\u001b[0m\u001b[0mfutures\u001b[0m\u001b[0;34m.\u001b[0m\u001b[0mThreadPoolExecutor\u001b[0m\u001b[0;34m(\u001b[0m\u001b[0;34m)\u001b[0m \u001b[0;32mas\u001b[0m \u001b[0mexecutor\u001b[0m\u001b[0;34m:\u001b[0m\u001b[0;34m\u001b[0m\u001b[0;34m\u001b[0m\u001b[0m\n\u001b[0;32m----> 2\u001b[0;31m     \u001b[0;34m[\u001b[0m\u001b[0mexecutor\u001b[0m\u001b[0;34m.\u001b[0m\u001b[0msubmit\u001b[0m\u001b[0;34m(\u001b[0m\u001b[0mmat\u001b[0m\u001b[0;34m,\u001b[0m\u001b[0mi\u001b[0m\u001b[0;34m,\u001b[0m\u001b[0mi\u001b[0m\u001b[0;34m**\u001b[0m\u001b[0;36m2\u001b[0m\u001b[0;34m)\u001b[0m \u001b[0;32mfor\u001b[0m \u001b[0mi\u001b[0m \u001b[0;32min\u001b[0m \u001b[0mrange\u001b[0m\u001b[0;34m(\u001b[0m\u001b[0;36m100000000\u001b[0m\u001b[0;34m)\u001b[0m\u001b[0;34m]\u001b[0m\u001b[0;34m\u001b[0m\u001b[0;34m\u001b[0m\u001b[0m\n\u001b[0m",
      "\u001b[0;32m/var/folders/zs/n_wh27_s5ln1fk586vbgqnn00000gq/T/ipykernel_53167/3331922621.py\u001b[0m in \u001b[0;36m<listcomp>\u001b[0;34m(.0)\u001b[0m\n\u001b[1;32m      1\u001b[0m \u001b[0;32mwith\u001b[0m \u001b[0mconcurrent\u001b[0m\u001b[0;34m.\u001b[0m\u001b[0mfutures\u001b[0m\u001b[0;34m.\u001b[0m\u001b[0mThreadPoolExecutor\u001b[0m\u001b[0;34m(\u001b[0m\u001b[0;34m)\u001b[0m \u001b[0;32mas\u001b[0m \u001b[0mexecutor\u001b[0m\u001b[0;34m:\u001b[0m\u001b[0;34m\u001b[0m\u001b[0;34m\u001b[0m\u001b[0m\n\u001b[0;32m----> 2\u001b[0;31m     \u001b[0;34m[\u001b[0m\u001b[0mexecutor\u001b[0m\u001b[0;34m.\u001b[0m\u001b[0msubmit\u001b[0m\u001b[0;34m(\u001b[0m\u001b[0mmat\u001b[0m\u001b[0;34m,\u001b[0m\u001b[0mi\u001b[0m\u001b[0;34m,\u001b[0m\u001b[0mi\u001b[0m\u001b[0;34m**\u001b[0m\u001b[0;36m2\u001b[0m\u001b[0;34m)\u001b[0m \u001b[0;32mfor\u001b[0m \u001b[0mi\u001b[0m \u001b[0;32min\u001b[0m \u001b[0mrange\u001b[0m\u001b[0;34m(\u001b[0m\u001b[0;36m100000000\u001b[0m\u001b[0;34m)\u001b[0m\u001b[0;34m]\u001b[0m\u001b[0;34m\u001b[0m\u001b[0;34m\u001b[0m\u001b[0m\n\u001b[0m",
      "\u001b[0;32m~/opt/anaconda3/envs/envpy/lib/python3.9/concurrent/futures/thread.py\u001b[0m in \u001b[0;36msubmit\u001b[0;34m(self, fn, *args, **kwargs)\u001b[0m\n\u001b[1;32m    174\u001b[0m \u001b[0;34m\u001b[0m\u001b[0m\n\u001b[1;32m    175\u001b[0m             \u001b[0mself\u001b[0m\u001b[0;34m.\u001b[0m\u001b[0m_work_queue\u001b[0m\u001b[0;34m.\u001b[0m\u001b[0mput\u001b[0m\u001b[0;34m(\u001b[0m\u001b[0mw\u001b[0m\u001b[0;34m)\u001b[0m\u001b[0;34m\u001b[0m\u001b[0;34m\u001b[0m\u001b[0m\n\u001b[0;32m--> 176\u001b[0;31m             \u001b[0mself\u001b[0m\u001b[0;34m.\u001b[0m\u001b[0m_adjust_thread_count\u001b[0m\u001b[0;34m(\u001b[0m\u001b[0;34m)\u001b[0m\u001b[0;34m\u001b[0m\u001b[0;34m\u001b[0m\u001b[0m\n\u001b[0m\u001b[1;32m    177\u001b[0m             \u001b[0;32mreturn\u001b[0m \u001b[0mf\u001b[0m\u001b[0;34m\u001b[0m\u001b[0;34m\u001b[0m\u001b[0m\n\u001b[1;32m    178\u001b[0m     \u001b[0msubmit\u001b[0m\u001b[0;34m.\u001b[0m\u001b[0m__doc__\u001b[0m \u001b[0;34m=\u001b[0m \u001b[0m_base\u001b[0m\u001b[0;34m.\u001b[0m\u001b[0mExecutor\u001b[0m\u001b[0;34m.\u001b[0m\u001b[0msubmit\u001b[0m\u001b[0;34m.\u001b[0m\u001b[0m__doc__\u001b[0m\u001b[0;34m\u001b[0m\u001b[0;34m\u001b[0m\u001b[0m\n",
      "\u001b[0;32m~/opt/anaconda3/envs/envpy/lib/python3.9/concurrent/futures/thread.py\u001b[0m in \u001b[0;36m_adjust_thread_count\u001b[0;34m(self)\u001b[0m\n\u001b[1;32m    180\u001b[0m     \u001b[0;32mdef\u001b[0m \u001b[0m_adjust_thread_count\u001b[0m\u001b[0;34m(\u001b[0m\u001b[0mself\u001b[0m\u001b[0;34m)\u001b[0m\u001b[0;34m:\u001b[0m\u001b[0;34m\u001b[0m\u001b[0;34m\u001b[0m\u001b[0m\n\u001b[1;32m    181\u001b[0m         \u001b[0;31m# if idle threads are available, don't spin new threads\u001b[0m\u001b[0;34m\u001b[0m\u001b[0;34m\u001b[0m\u001b[0m\n\u001b[0;32m--> 182\u001b[0;31m         \u001b[0;32mif\u001b[0m \u001b[0mself\u001b[0m\u001b[0;34m.\u001b[0m\u001b[0m_idle_semaphore\u001b[0m\u001b[0;34m.\u001b[0m\u001b[0macquire\u001b[0m\u001b[0;34m(\u001b[0m\u001b[0mtimeout\u001b[0m\u001b[0;34m=\u001b[0m\u001b[0;36m0\u001b[0m\u001b[0;34m)\u001b[0m\u001b[0;34m:\u001b[0m\u001b[0;34m\u001b[0m\u001b[0;34m\u001b[0m\u001b[0m\n\u001b[0m\u001b[1;32m    183\u001b[0m             \u001b[0;32mreturn\u001b[0m\u001b[0;34m\u001b[0m\u001b[0;34m\u001b[0m\u001b[0m\n\u001b[1;32m    184\u001b[0m \u001b[0;34m\u001b[0m\u001b[0m\n",
      "\u001b[0;31mKeyboardInterrupt\u001b[0m: "
     ]
    }
   ],
   "source": [
    "with concurrent.futures.ThreadPoolExecutor() as executor:\n",
    "    [executor.submit(mat,i,i**2) for i in range(100000000)]"
   ]
  },
  {
   "cell_type": "code",
   "execution_count": 53,
   "metadata": {},
   "outputs": [],
   "source": [
    "def f(x):\n",
    "    return x*x"
   ]
  },
  {
   "cell_type": "code",
   "execution_count": 55,
   "metadata": {},
   "outputs": [
    {
     "name": "stderr",
     "output_type": "stream",
     "text": [
      "Process SpawnPoolWorker-20:\n",
      "Process SpawnPoolWorker-19:\n",
      "Process SpawnPoolWorker-21:\n",
      "Traceback (most recent call last):\n",
      "Traceback (most recent call last):\n",
      "  File \"/Users/mariana.feldman/opt/anaconda3/envs/envpy/lib/python3.9/multiprocessing/process.py\", line 315, in _bootstrap\n",
      "    self.run()\n",
      "  File \"/Users/mariana.feldman/opt/anaconda3/envs/envpy/lib/python3.9/multiprocessing/process.py\", line 108, in run\n",
      "    self._target(*self._args, **self._kwargs)\n",
      "  File \"/Users/mariana.feldman/opt/anaconda3/envs/envpy/lib/python3.9/multiprocessing/pool.py\", line 114, in worker\n",
      "    task = get()\n",
      "  File \"/Users/mariana.feldman/opt/anaconda3/envs/envpy/lib/python3.9/multiprocessing/process.py\", line 315, in _bootstrap\n",
      "    self.run()\n",
      "  File \"/Users/mariana.feldman/opt/anaconda3/envs/envpy/lib/python3.9/multiprocessing/queues.py\", line 367, in get\n",
      "    return _ForkingPickler.loads(res)\n",
      "AttributeError: Can't get attribute 'f' on <module '__main__' (built-in)>\n",
      "  File \"/Users/mariana.feldman/opt/anaconda3/envs/envpy/lib/python3.9/multiprocessing/process.py\", line 108, in run\n",
      "    self._target(*self._args, **self._kwargs)\n",
      "  File \"/Users/mariana.feldman/opt/anaconda3/envs/envpy/lib/python3.9/multiprocessing/pool.py\", line 114, in worker\n",
      "    task = get()\n",
      "  File \"/Users/mariana.feldman/opt/anaconda3/envs/envpy/lib/python3.9/multiprocessing/queues.py\", line 367, in get\n",
      "    return _ForkingPickler.loads(res)\n",
      "AttributeError: Can't get attribute 'f' on <module '__main__' (built-in)>\n",
      "Traceback (most recent call last):\n",
      "  File \"/Users/mariana.feldman/opt/anaconda3/envs/envpy/lib/python3.9/multiprocessing/process.py\", line 315, in _bootstrap\n",
      "    self.run()\n",
      "  File \"/Users/mariana.feldman/opt/anaconda3/envs/envpy/lib/python3.9/multiprocessing/process.py\", line 108, in run\n",
      "    self._target(*self._args, **self._kwargs)\n",
      "  File \"/Users/mariana.feldman/opt/anaconda3/envs/envpy/lib/python3.9/multiprocessing/pool.py\", line 114, in worker\n",
      "    task = get()\n",
      "  File \"/Users/mariana.feldman/opt/anaconda3/envs/envpy/lib/python3.9/multiprocessing/queues.py\", line 367, in get\n",
      "    return _ForkingPickler.loads(res)\n",
      "AttributeError: Can't get attribute 'f' on <module '__main__' (built-in)>\n"
     ]
    },
    {
     "ename": "KeyboardInterrupt",
     "evalue": "",
     "output_type": "error",
     "traceback": [
      "\u001b[0;31m---------------------------------------------------------------------------\u001b[0m",
      "\u001b[0;31mKeyboardInterrupt\u001b[0m                         Traceback (most recent call last)",
      "\u001b[0;32m/var/folders/zs/n_wh27_s5ln1fk586vbgqnn00000gq/T/ipykernel_53167/2406241051.py\u001b[0m in \u001b[0;36m<module>\u001b[0;34m\u001b[0m\n\u001b[1;32m      1\u001b[0m \u001b[0;32mwith\u001b[0m \u001b[0mPool\u001b[0m\u001b[0;34m(\u001b[0m\u001b[0;36m5\u001b[0m\u001b[0;34m)\u001b[0m \u001b[0;32mas\u001b[0m \u001b[0mp\u001b[0m\u001b[0;34m:\u001b[0m\u001b[0;34m\u001b[0m\u001b[0;34m\u001b[0m\u001b[0m\n\u001b[0;32m----> 2\u001b[0;31m     \u001b[0mprint\u001b[0m\u001b[0;34m(\u001b[0m\u001b[0mp\u001b[0m\u001b[0;34m.\u001b[0m\u001b[0mmap\u001b[0m\u001b[0;34m(\u001b[0m\u001b[0mf\u001b[0m\u001b[0;34m,\u001b[0m \u001b[0;34m[\u001b[0m\u001b[0;36m1\u001b[0m\u001b[0;34m,\u001b[0m \u001b[0;36m2\u001b[0m\u001b[0;34m,\u001b[0m \u001b[0;36m3\u001b[0m\u001b[0;34m]\u001b[0m\u001b[0;34m)\u001b[0m\u001b[0;34m)\u001b[0m\u001b[0;34m\u001b[0m\u001b[0;34m\u001b[0m\u001b[0m\n\u001b[0m",
      "\u001b[0;32m~/opt/anaconda3/envs/envpy/lib/python3.9/multiprocessing/pool.py\u001b[0m in \u001b[0;36mmap\u001b[0;34m(self, func, iterable, chunksize)\u001b[0m\n\u001b[1;32m    362\u001b[0m         \u001b[0;32min\u001b[0m \u001b[0ma\u001b[0m \u001b[0mlist\u001b[0m \u001b[0mthat\u001b[0m \u001b[0;32mis\u001b[0m \u001b[0mreturned\u001b[0m\u001b[0;34m.\u001b[0m\u001b[0;34m\u001b[0m\u001b[0;34m\u001b[0m\u001b[0m\n\u001b[1;32m    363\u001b[0m         '''\n\u001b[0;32m--> 364\u001b[0;31m         \u001b[0;32mreturn\u001b[0m \u001b[0mself\u001b[0m\u001b[0;34m.\u001b[0m\u001b[0m_map_async\u001b[0m\u001b[0;34m(\u001b[0m\u001b[0mfunc\u001b[0m\u001b[0;34m,\u001b[0m \u001b[0miterable\u001b[0m\u001b[0;34m,\u001b[0m \u001b[0mmapstar\u001b[0m\u001b[0;34m,\u001b[0m \u001b[0mchunksize\u001b[0m\u001b[0;34m)\u001b[0m\u001b[0;34m.\u001b[0m\u001b[0mget\u001b[0m\u001b[0;34m(\u001b[0m\u001b[0;34m)\u001b[0m\u001b[0;34m\u001b[0m\u001b[0;34m\u001b[0m\u001b[0m\n\u001b[0m\u001b[1;32m    365\u001b[0m \u001b[0;34m\u001b[0m\u001b[0m\n\u001b[1;32m    366\u001b[0m     \u001b[0;32mdef\u001b[0m \u001b[0mstarmap\u001b[0m\u001b[0;34m(\u001b[0m\u001b[0mself\u001b[0m\u001b[0;34m,\u001b[0m \u001b[0mfunc\u001b[0m\u001b[0;34m,\u001b[0m \u001b[0miterable\u001b[0m\u001b[0;34m,\u001b[0m \u001b[0mchunksize\u001b[0m\u001b[0;34m=\u001b[0m\u001b[0;32mNone\u001b[0m\u001b[0;34m)\u001b[0m\u001b[0;34m:\u001b[0m\u001b[0;34m\u001b[0m\u001b[0;34m\u001b[0m\u001b[0m\n",
      "\u001b[0;32m~/opt/anaconda3/envs/envpy/lib/python3.9/multiprocessing/pool.py\u001b[0m in \u001b[0;36mget\u001b[0;34m(self, timeout)\u001b[0m\n\u001b[1;32m    763\u001b[0m \u001b[0;34m\u001b[0m\u001b[0m\n\u001b[1;32m    764\u001b[0m     \u001b[0;32mdef\u001b[0m \u001b[0mget\u001b[0m\u001b[0;34m(\u001b[0m\u001b[0mself\u001b[0m\u001b[0;34m,\u001b[0m \u001b[0mtimeout\u001b[0m\u001b[0;34m=\u001b[0m\u001b[0;32mNone\u001b[0m\u001b[0;34m)\u001b[0m\u001b[0;34m:\u001b[0m\u001b[0;34m\u001b[0m\u001b[0;34m\u001b[0m\u001b[0m\n\u001b[0;32m--> 765\u001b[0;31m         \u001b[0mself\u001b[0m\u001b[0;34m.\u001b[0m\u001b[0mwait\u001b[0m\u001b[0;34m(\u001b[0m\u001b[0mtimeout\u001b[0m\u001b[0;34m)\u001b[0m\u001b[0;34m\u001b[0m\u001b[0;34m\u001b[0m\u001b[0m\n\u001b[0m\u001b[1;32m    766\u001b[0m         \u001b[0;32mif\u001b[0m \u001b[0;32mnot\u001b[0m \u001b[0mself\u001b[0m\u001b[0;34m.\u001b[0m\u001b[0mready\u001b[0m\u001b[0;34m(\u001b[0m\u001b[0;34m)\u001b[0m\u001b[0;34m:\u001b[0m\u001b[0;34m\u001b[0m\u001b[0;34m\u001b[0m\u001b[0m\n\u001b[1;32m    767\u001b[0m             \u001b[0;32mraise\u001b[0m \u001b[0mTimeoutError\u001b[0m\u001b[0;34m\u001b[0m\u001b[0;34m\u001b[0m\u001b[0m\n",
      "\u001b[0;32m~/opt/anaconda3/envs/envpy/lib/python3.9/multiprocessing/pool.py\u001b[0m in \u001b[0;36mwait\u001b[0;34m(self, timeout)\u001b[0m\n\u001b[1;32m    760\u001b[0m \u001b[0;34m\u001b[0m\u001b[0m\n\u001b[1;32m    761\u001b[0m     \u001b[0;32mdef\u001b[0m \u001b[0mwait\u001b[0m\u001b[0;34m(\u001b[0m\u001b[0mself\u001b[0m\u001b[0;34m,\u001b[0m \u001b[0mtimeout\u001b[0m\u001b[0;34m=\u001b[0m\u001b[0;32mNone\u001b[0m\u001b[0;34m)\u001b[0m\u001b[0;34m:\u001b[0m\u001b[0;34m\u001b[0m\u001b[0;34m\u001b[0m\u001b[0m\n\u001b[0;32m--> 762\u001b[0;31m         \u001b[0mself\u001b[0m\u001b[0;34m.\u001b[0m\u001b[0m_event\u001b[0m\u001b[0;34m.\u001b[0m\u001b[0mwait\u001b[0m\u001b[0;34m(\u001b[0m\u001b[0mtimeout\u001b[0m\u001b[0;34m)\u001b[0m\u001b[0;34m\u001b[0m\u001b[0;34m\u001b[0m\u001b[0m\n\u001b[0m\u001b[1;32m    763\u001b[0m \u001b[0;34m\u001b[0m\u001b[0m\n\u001b[1;32m    764\u001b[0m     \u001b[0;32mdef\u001b[0m \u001b[0mget\u001b[0m\u001b[0;34m(\u001b[0m\u001b[0mself\u001b[0m\u001b[0;34m,\u001b[0m \u001b[0mtimeout\u001b[0m\u001b[0;34m=\u001b[0m\u001b[0;32mNone\u001b[0m\u001b[0;34m)\u001b[0m\u001b[0;34m:\u001b[0m\u001b[0;34m\u001b[0m\u001b[0;34m\u001b[0m\u001b[0m\n",
      "\u001b[0;32m~/opt/anaconda3/envs/envpy/lib/python3.9/threading.py\u001b[0m in \u001b[0;36mwait\u001b[0;34m(self, timeout)\u001b[0m\n\u001b[1;32m    579\u001b[0m             \u001b[0msignaled\u001b[0m \u001b[0;34m=\u001b[0m \u001b[0mself\u001b[0m\u001b[0;34m.\u001b[0m\u001b[0m_flag\u001b[0m\u001b[0;34m\u001b[0m\u001b[0;34m\u001b[0m\u001b[0m\n\u001b[1;32m    580\u001b[0m             \u001b[0;32mif\u001b[0m \u001b[0;32mnot\u001b[0m \u001b[0msignaled\u001b[0m\u001b[0;34m:\u001b[0m\u001b[0;34m\u001b[0m\u001b[0;34m\u001b[0m\u001b[0m\n\u001b[0;32m--> 581\u001b[0;31m                 \u001b[0msignaled\u001b[0m \u001b[0;34m=\u001b[0m \u001b[0mself\u001b[0m\u001b[0;34m.\u001b[0m\u001b[0m_cond\u001b[0m\u001b[0;34m.\u001b[0m\u001b[0mwait\u001b[0m\u001b[0;34m(\u001b[0m\u001b[0mtimeout\u001b[0m\u001b[0;34m)\u001b[0m\u001b[0;34m\u001b[0m\u001b[0;34m\u001b[0m\u001b[0m\n\u001b[0m\u001b[1;32m    582\u001b[0m             \u001b[0;32mreturn\u001b[0m \u001b[0msignaled\u001b[0m\u001b[0;34m\u001b[0m\u001b[0;34m\u001b[0m\u001b[0m\n\u001b[1;32m    583\u001b[0m \u001b[0;34m\u001b[0m\u001b[0m\n",
      "\u001b[0;32m~/opt/anaconda3/envs/envpy/lib/python3.9/threading.py\u001b[0m in \u001b[0;36mwait\u001b[0;34m(self, timeout)\u001b[0m\n\u001b[1;32m    310\u001b[0m         \u001b[0;32mtry\u001b[0m\u001b[0;34m:\u001b[0m    \u001b[0;31m# restore state no matter what (e.g., KeyboardInterrupt)\u001b[0m\u001b[0;34m\u001b[0m\u001b[0;34m\u001b[0m\u001b[0m\n\u001b[1;32m    311\u001b[0m             \u001b[0;32mif\u001b[0m \u001b[0mtimeout\u001b[0m \u001b[0;32mis\u001b[0m \u001b[0;32mNone\u001b[0m\u001b[0;34m:\u001b[0m\u001b[0;34m\u001b[0m\u001b[0;34m\u001b[0m\u001b[0m\n\u001b[0;32m--> 312\u001b[0;31m                 \u001b[0mwaiter\u001b[0m\u001b[0;34m.\u001b[0m\u001b[0macquire\u001b[0m\u001b[0;34m(\u001b[0m\u001b[0;34m)\u001b[0m\u001b[0;34m\u001b[0m\u001b[0;34m\u001b[0m\u001b[0m\n\u001b[0m\u001b[1;32m    313\u001b[0m                 \u001b[0mgotit\u001b[0m \u001b[0;34m=\u001b[0m \u001b[0;32mTrue\u001b[0m\u001b[0;34m\u001b[0m\u001b[0;34m\u001b[0m\u001b[0m\n\u001b[1;32m    314\u001b[0m             \u001b[0;32melse\u001b[0m\u001b[0;34m:\u001b[0m\u001b[0;34m\u001b[0m\u001b[0;34m\u001b[0m\u001b[0m\n",
      "\u001b[0;31mKeyboardInterrupt\u001b[0m: "
     ]
    }
   ],
   "source": [
    "with Pool(5) as p:\n",
    "    print(p.map(f, [1, 2, 3]))"
   ]
  },
  {
   "cell_type": "code",
   "execution_count": 1,
   "metadata": {},
   "outputs": [],
   "source": [
    "def fib(n):\n",
    "    return n if n < 2 else fib(n - 2) + fib(n - 1)"
   ]
  },
  {
   "cell_type": "code",
   "execution_count": 2,
   "metadata": {},
   "outputs": [],
   "source": [
    "import os\n",
    "import threading"
   ]
  },
  {
   "cell_type": "code",
   "execution_count": 3,
   "metadata": {},
   "outputs": [
    {
     "data": {
      "text/plain": [
       "8"
      ]
     },
     "execution_count": 3,
     "metadata": {},
     "output_type": "execute_result"
    }
   ],
   "source": [
    "os.cpu_count()"
   ]
  },
  {
   "cell_type": "code",
   "execution_count": 4,
   "metadata": {},
   "outputs": [],
   "source": [
    "for _ in range(os.cpu_count()):\n",
    "    threading.Thread(target=fib, args=(35,)).start()"
   ]
  },
  {
   "cell_type": "code",
   "execution_count": 7,
   "metadata": {},
   "outputs": [
    {
     "data": {
      "text/plain": [
       "102334155"
      ]
     },
     "execution_count": 7,
     "metadata": {},
     "output_type": "execute_result"
    }
   ],
   "source": [
    "fib(40)"
   ]
  },
  {
   "cell_type": "code",
   "execution_count": 8,
   "metadata": {},
   "outputs": [],
   "source": [
    "for _ in range(os.cpu_count()):\n",
    "    threading.Thread(target=fib, args=(40,)).start()"
   ]
  },
  {
   "cell_type": "code",
   "execution_count": 10,
   "metadata": {},
   "outputs": [],
   "source": [
    "import multiprocessing\n"
   ]
  },
  {
   "cell_type": "code",
   "execution_count": 12,
   "metadata": {},
   "outputs": [
    {
     "name": "stdout",
     "output_type": "stream",
     "text": [
      "1\n",
      "10\n"
     ]
    }
   ],
   "source": [
    "for b in [1,10]:\n",
    "    print(b)"
   ]
  },
  {
   "cell_type": "code",
   "execution_count": 11,
   "metadata": {},
   "outputs": [
    {
     "name": "stderr",
     "output_type": "stream",
     "text": [
      "Traceback (most recent call last):\n",
      "  File \"<string>\", line 1, in <module>\n",
      "  File \"/Users/mariana.feldman/opt/anaconda3/envs/envpy/lib/python3.9/multiprocessing/spawn.py\", line 116, in spawn_main\n",
      "    exitcode = _main(fd, parent_sentinel)\n",
      "  File \"/Users/mariana.feldman/opt/anaconda3/envs/envpy/lib/python3.9/multiprocessing/spawn.py\", line 126, in _main\n",
      "    self = reduction.pickle.load(from_parent)\n",
      "AttributeError: Can't get attribute 'fib' on <module '__main__' (built-in)>\n",
      "Traceback (most recent call last):\n",
      "  File \"<string>\", line 1, in <module>\n",
      "  File \"/Users/mariana.feldman/opt/anaconda3/envs/envpy/lib/python3.9/multiprocessing/spawn.py\", line 116, in spawn_main\n",
      "    exitcode = _main(fd, parent_sentinel)\n",
      "  File \"/Users/mariana.feldman/opt/anaconda3/envs/envpy/lib/python3.9/multiprocessing/spawn.py\", line 126, in _main\n",
      "    self = reduction.pickle.load(from_parent)\n",
      "AttributeError: Can't get attribute 'fib' on <module '__main__' (built-in)>\n",
      "Traceback (most recent call last):\n",
      "  File \"<string>\", line 1, in <module>\n",
      "  File \"/Users/mariana.feldman/opt/anaconda3/envs/envpy/lib/python3.9/multiprocessing/spawn.py\", line 116, in spawn_main\n",
      "    exitcode = _main(fd, parent_sentinel)\n",
      "  File \"/Users/mariana.feldman/opt/anaconda3/envs/envpy/lib/python3.9/multiprocessing/spawn.py\", line 126, in _main\n",
      "    self = reduction.pickle.load(from_parent)\n",
      "AttributeError: Can't get attribute 'fib' on <module '__main__' (built-in)>\n",
      "Traceback (most recent call last):\n",
      "  File \"<string>\", line 1, in <module>\n",
      "  File \"/Users/mariana.feldman/opt/anaconda3/envs/envpy/lib/python3.9/multiprocessing/spawn.py\", line 116, in spawn_main\n",
      "    exitcode = _main(fd, parent_sentinel)\n",
      "  File \"/Users/mariana.feldman/opt/anaconda3/envs/envpy/lib/python3.9/multiprocessing/spawn.py\", line 126, in _main\n",
      "    self = reduction.pickle.load(from_parent)\n",
      "AttributeError: Can't get attribute 'fib' on <module '__main__' (built-in)>\n",
      "Traceback (most recent call last):\n",
      "  File \"<string>\", line 1, in <module>\n",
      "  File \"/Users/mariana.feldman/opt/anaconda3/envs/envpy/lib/python3.9/multiprocessing/spawn.py\", line 116, in spawn_main\n",
      "    exitcode = _main(fd, parent_sentinel)\n",
      "  File \"/Users/mariana.feldman/opt/anaconda3/envs/envpy/lib/python3.9/multiprocessing/spawn.py\", line 126, in _main\n",
      "    self = reduction.pickle.load(from_parent)\n",
      "AttributeError: Can't get attribute 'fib' on <module '__main__' (built-in)>\n",
      "Traceback (most recent call last):\n",
      "  File \"<string>\", line 1, in <module>\n",
      "  File \"/Users/mariana.feldman/opt/anaconda3/envs/envpy/lib/python3.9/multiprocessing/spawn.py\", line 116, in spawn_main\n",
      "    exitcode = _main(fd, parent_sentinel)\n",
      "  File \"/Users/mariana.feldman/opt/anaconda3/envs/envpy/lib/python3.9/multiprocessing/spawn.py\", line 126, in _main\n",
      "    self = reduction.pickle.load(from_parent)\n",
      "AttributeError: Can't get attribute 'fib' on <module '__main__' (built-in)>\n",
      "Traceback (most recent call last):\n",
      "  File \"<string>\", line 1, in <module>\n",
      "  File \"/Users/mariana.feldman/opt/anaconda3/envs/envpy/lib/python3.9/multiprocessing/spawn.py\", line 116, in spawn_main\n",
      "    exitcode = _main(fd, parent_sentinel)\n",
      "  File \"/Users/mariana.feldman/opt/anaconda3/envs/envpy/lib/python3.9/multiprocessing/spawn.py\", line 126, in _main\n",
      "    self = reduction.pickle.load(from_parent)\n",
      "AttributeError: Can't get attribute 'fib' on <module '__main__' (built-in)>\n",
      "Traceback (most recent call last):\n",
      "  File \"<string>\", line 1, in <module>\n",
      "  File \"/Users/mariana.feldman/opt/anaconda3/envs/envpy/lib/python3.9/multiprocessing/spawn.py\", line 116, in spawn_main\n",
      "    exitcode = _main(fd, parent_sentinel)\n",
      "  File \"/Users/mariana.feldman/opt/anaconda3/envs/envpy/lib/python3.9/multiprocessing/spawn.py\", line 126, in _main\n",
      "    self = reduction.pickle.load(from_parent)\n",
      "AttributeError: Can't get attribute 'fib' on <module '__main__' (built-in)>\n"
     ]
    }
   ],
   "source": [
    "if __name__ == \"__main__\":\n",
    "    for _ in range(multiprocessing.cpu_count()):\n",
    "        multiprocessing.Process(target=fib, args=(40,)).start()"
   ]
  },
  {
   "cell_type": "code",
   "execution_count": 57,
   "metadata": {},
   "outputs": [],
   "source": [
    "error_ep = [[0.2, 5, 2], [0.7, 3, 1],[np.inf ,np.nan ,np.inf ], [0.1, 2, 9], [0.1, 3, 1]]"
   ]
  },
  {
   "cell_type": "code",
   "execution_count": 58,
   "metadata": {},
   "outputs": [
    {
     "data": {
      "text/plain": [
       "[[0.1, 3, 1], [0.1, 2, 9], [0.2, 5, 2], [0.7, 3, 1], [inf, nan, inf]]"
      ]
     },
     "execution_count": 58,
     "metadata": {},
     "output_type": "execute_result"
    }
   ],
   "source": [
    "sorted_error_ep = sorted(error_ep, key=lambda x: (x[0], x[2]))\n",
    "sorted_error_ep"
   ]
  },
  {
   "cell_type": "code",
   "execution_count": 59,
   "metadata": {},
   "outputs": [
    {
     "data": {
      "text/plain": [
       "[0.1, 3, 1]"
      ]
     },
     "execution_count": 59,
     "metadata": {},
     "output_type": "execute_result"
    }
   ],
   "source": [
    "sorted_error_ep[0]"
   ]
  },
  {
   "cell_type": "code",
   "execution_count": 43,
   "metadata": {},
   "outputs": [
    {
     "data": {
      "text/plain": [
       "[0.1, 2, 9]"
      ]
     },
     "execution_count": 43,
     "metadata": {},
     "output_type": "execute_result"
    }
   ],
   "source": [
    "min(error_ep, key=lambda x: x[0])"
   ]
  },
  {
   "cell_type": "code",
   "execution_count": 44,
   "metadata": {},
   "outputs": [
    {
     "data": {
      "text/plain": [
       "[[0.1, 3, 1], [0.1, 2, 9], [0.2, 5, 2], [0.7, 3, 1]]"
      ]
     },
     "execution_count": 44,
     "metadata": {},
     "output_type": "execute_result"
    }
   ],
   "source": [
    "sorted_error_ep = sorted(error_ep, key=lambda x: (x[0], x[2]))\n",
    "sorted_error_ep"
   ]
  },
  {
   "cell_type": "code",
   "execution_count": 45,
   "metadata": {},
   "outputs": [],
   "source": [
    "min_error, min_joint, min_ix = sorted_error_ep[0]"
   ]
  },
  {
   "cell_type": "code",
   "execution_count": 237,
   "metadata": {},
   "outputs": [
    {
     "data": {
      "text/plain": [
       "<module 'USDMM_C' from '/Users/mariana.feldman/Documents/GitHub/USDMM/USDMM_C.py'>"
      ]
     },
     "execution_count": 237,
     "metadata": {},
     "output_type": "execute_result"
    }
   ],
   "source": [
    "import USDMM_C as USDMM_\n",
    "import importlib\n",
    "\n",
    "importlib.reload(USDMM_)"
   ]
  },
  {
   "cell_type": "code",
   "execution_count": 238,
   "metadata": {},
   "outputs": [
    {
     "name": "stdout",
     "output_type": "stream",
     "text": [
      "Janela Inicializada: [array([nan,  1., nan,  1.,  1.,  1., nan,  1., nan]), array([nan,  1., nan,  1.,  1.,  1., nan,  1., nan])]\n",
      "Resultados serão salvos em  results_V2\n",
      "------------------------------------------------------------------\n"
     ]
    }
   ],
   "source": [
    "#import USDMM_v2 as USDMM_\n",
    "\n",
    "WOMC = USDMM_.WOMC(\n",
    "    new = True, # True/ STR -> If True inicialize with the cross operator/ If STR it will opens the file with the name passed\n",
    "    nlayer = 2, # INT -> Number of operators in each layer\n",
    "    wlen = 3,  # INT -> Size of the operator (wlen*wlen)\n",
    "    train_size = 10, # INT -> Number of images to train \n",
    "    val_size = 10, # INT -> Number of images to validate\n",
    "    test_size = 10, # INT -> Number of images to test\n",
    "    error_type = 'iou', # 'mae' / 'iou' -> type of error\n",
    "    neighbors_sample = 8, # INT/False -> Number of neighbors to sort\n",
    "    epoch_f = 100, # INT -> Number of epochs for the boolean function lattice (fixed windows)\n",
    "    epoch_w = 50, # INT -> Number of epochs for the windows lattice\n",
    "    batch = 10, # INT -> Batch size\n",
    "    path_results = 'results_V2', # STR -> file where we want to save the results\n",
    "    name_save='_V2', # STR -> pos fixed name for the results saved\n",
    "    seed = 0, #INT -> seed for reproducibilit\n",
    "    parallel = 'no-parallel', # True/False -> use parallel (True) or sequential (False)\n",
    "    early_stop_round_f = 1e6, #20, #INT -> max number of epochs without changes in the boolean function lattice\n",
    "    early_stop_round_w = 1e6 #10 #INT -> max number of epochs without changes in the windows lattice\n",
    ")\n",
    "\n",
    "\n",
    "#WOMC.results_after_fit()"
   ]
  },
  {
   "cell_type": "code",
   "execution_count": 233,
   "metadata": {},
   "outputs": [
    {
     "name": "stdout",
     "output_type": "stream",
     "text": [
      "tempo de execução: 11.618115901947021\n",
      "época-min: 30 - com erro: [0.3253212  0.33167273]\n",
      "    ep      time\n",
      "0    0  0.147493\n",
      "1    1  0.132849\n",
      "2    2  0.127130\n",
      "3    3  0.128139\n",
      "4    4  0.126706\n",
      "..  ..       ...\n",
      "95  95  0.105710\n",
      "96  96  0.106285\n",
      "97  97  0.107106\n",
      "98  98  0.104808\n",
      "99  99  0.100635\n",
      "\n",
      "[100 rows x 2 columns]\n",
      "Tempo Médio por época:  0.11589075803756714\n",
      "Tempo média por vizinho:  0.00633184164762497\n"
     ]
    }
   ],
   "source": [
    "WOMC.test_window()"
   ]
  },
  {
   "cell_type": "code",
   "execution_count": 239,
   "metadata": {},
   "outputs": [
    {
     "name": "stdout",
     "output_type": "stream",
     "text": [
      "tempo de execução: 42.341394901275635\n",
      "época-min: 73 - com erro: [0.16470954 0.18708382]\n",
      "    ep      time\n",
      "0    0  0.574500\n",
      "1    1  0.592694\n",
      "2    2  0.591506\n",
      "3    3  0.612962\n",
      "4    4  0.590285\n",
      "..  ..       ...\n",
      "95  95  0.400011\n",
      "96  96  0.384687\n",
      "97  97  0.375905\n",
      "98  98  0.385974\n",
      "99  99  0.373098\n",
      "\n",
      "[100 rows x 2 columns]\n",
      "Tempo Médio por época:  0.4226468014717102\n",
      "Tempo média por vizinho:  0.022745513170957566\n"
     ]
    }
   ],
   "source": [
    "WOMC.test_window()"
   ]
  },
  {
   "cell_type": "code",
   "execution_count": 232,
   "metadata": {},
   "outputs": [
    {
     "name": "stdout",
     "output_type": "stream",
     "text": [
      "tempo de execução: 11.029366731643677\n",
      "época-min: 99 - com erro: [0.38450649 0.39442105]\n",
      "    ep      time\n",
      "0    0  0.143047\n",
      "1    1  0.158468\n",
      "2    2  0.135008\n",
      "3    3  0.139180\n",
      "4    4  0.136884\n",
      "..  ..       ...\n",
      "95  95  0.103672\n",
      "96  96  0.106595\n",
      "97  97  0.107053\n",
      "98  98  0.111236\n",
      "99  99  0.100679\n",
      "\n",
      "[100 rows x 2 columns]\n",
      "Tempo Médio por época:  0.11003267765045166\n",
      "Tempo média por vizinho:  0.0060051846504211425\n",
      "tempo de execução: 12.13615608215332\n",
      "época-min: 87 - com erro: [0.23854684 0.2451368 ]\n",
      "    ep      time\n",
      "0    0  0.154161\n",
      "1    1  0.142382\n",
      "2    2  0.129756\n",
      "3    3  0.123708\n",
      "4    4  0.125144\n",
      "..  ..       ...\n",
      "95  95  0.113912\n",
      "96  96  0.116894\n",
      "97  97  0.114993\n",
      "98  98  0.110336\n",
      "99  99  0.113483\n",
      "\n",
      "[100 rows x 2 columns]\n",
      "Tempo Médio por época:  0.12118847370147705\n",
      "Tempo média por vizinho:  0.0065910561382770535\n",
      "tempo de execução: 10.440345048904419\n",
      "época-min: 58 - com erro: [0.42145894 0.42928691]\n",
      "    ep      time\n",
      "0    0  0.127316\n",
      "1    1  0.158978\n",
      "2    2  0.135404\n",
      "3    3  0.131630\n",
      "4    4  0.133258\n",
      "..  ..       ...\n",
      "95  95  0.095241\n",
      "96  96  0.091802\n",
      "97  97  0.089113\n",
      "98  98  0.084171\n",
      "99  99  0.083252\n",
      "\n",
      "[100 rows x 2 columns]\n",
      "Tempo Médio por época:  0.10425296306610107\n",
      "Tempo média por vizinho:  0.005669454038143158\n",
      "tempo de execução: 10.868955135345459\n",
      "época-min: 51 - com erro: [0.23673284 0.25702237]\n",
      "    ep      time\n",
      "0    0  0.125944\n",
      "1    1  0.127364\n",
      "2    2  0.123486\n",
      "3    3  0.126874\n",
      "4    4  0.129731\n",
      "..  ..       ...\n",
      "95  95  0.103367\n",
      "96  96  0.105103\n",
      "97  97  0.103719\n",
      "98  98  0.106745\n",
      "99  99  0.107364\n",
      "\n",
      "[100 rows x 2 columns]\n",
      "Tempo Médio por época:  0.10852450609207154\n",
      "Tempo média por vizinho:  0.005868077725172043\n"
     ]
    },
    {
     "ename": "KeyboardInterrupt",
     "evalue": "",
     "output_type": "error",
     "traceback": [
      "\u001b[0;31m---------------------------------------------------------------------------\u001b[0m",
      "\u001b[0;31mKeyboardInterrupt\u001b[0m                         Traceback (most recent call last)",
      "\u001b[0;32m/var/folders/zs/n_wh27_s5ln1fk586vbgqnn00000gq/T/ipykernel_53024/60407776.py\u001b[0m in \u001b[0;36m<module>\u001b[0;34m\u001b[0m\n\u001b[0;32m----> 1\u001b[0;31m \u001b[0mget_ipython\u001b[0m\u001b[0;34m(\u001b[0m\u001b[0;34m)\u001b[0m\u001b[0;34m.\u001b[0m\u001b[0mrun_cell_magic\u001b[0m\u001b[0;34m(\u001b[0m\u001b[0;34m'timeit'\u001b[0m\u001b[0;34m,\u001b[0m \u001b[0;34m''\u001b[0m\u001b[0;34m,\u001b[0m \u001b[0;34m'WOMC.test_window()\\n'\u001b[0m\u001b[0;34m)\u001b[0m\u001b[0;34m\u001b[0m\u001b[0;34m\u001b[0m\u001b[0m\n\u001b[0m",
      "\u001b[0;32m~/opt/anaconda3/envs/envpy/lib/python3.9/site-packages/IPython/core/interactiveshell.py\u001b[0m in \u001b[0;36mrun_cell_magic\u001b[0;34m(self, magic_name, line, cell)\u001b[0m\n\u001b[1;32m   2417\u001b[0m             \u001b[0;32mwith\u001b[0m \u001b[0mself\u001b[0m\u001b[0;34m.\u001b[0m\u001b[0mbuiltin_trap\u001b[0m\u001b[0;34m:\u001b[0m\u001b[0;34m\u001b[0m\u001b[0;34m\u001b[0m\u001b[0m\n\u001b[1;32m   2418\u001b[0m                 \u001b[0margs\u001b[0m \u001b[0;34m=\u001b[0m \u001b[0;34m(\u001b[0m\u001b[0mmagic_arg_s\u001b[0m\u001b[0;34m,\u001b[0m \u001b[0mcell\u001b[0m\u001b[0;34m)\u001b[0m\u001b[0;34m\u001b[0m\u001b[0;34m\u001b[0m\u001b[0m\n\u001b[0;32m-> 2419\u001b[0;31m                 \u001b[0mresult\u001b[0m \u001b[0;34m=\u001b[0m \u001b[0mfn\u001b[0m\u001b[0;34m(\u001b[0m\u001b[0;34m*\u001b[0m\u001b[0margs\u001b[0m\u001b[0;34m,\u001b[0m \u001b[0;34m**\u001b[0m\u001b[0mkwargs\u001b[0m\u001b[0;34m)\u001b[0m\u001b[0;34m\u001b[0m\u001b[0;34m\u001b[0m\u001b[0m\n\u001b[0m\u001b[1;32m   2420\u001b[0m             \u001b[0;32mreturn\u001b[0m \u001b[0mresult\u001b[0m\u001b[0;34m\u001b[0m\u001b[0;34m\u001b[0m\u001b[0m\n\u001b[1;32m   2421\u001b[0m \u001b[0;34m\u001b[0m\u001b[0m\n",
      "\u001b[0;32m~/opt/anaconda3/envs/envpy/lib/python3.9/site-packages/decorator.py\u001b[0m in \u001b[0;36mfun\u001b[0;34m(*args, **kw)\u001b[0m\n\u001b[1;32m    230\u001b[0m             \u001b[0;32mif\u001b[0m \u001b[0;32mnot\u001b[0m \u001b[0mkwsyntax\u001b[0m\u001b[0;34m:\u001b[0m\u001b[0;34m\u001b[0m\u001b[0;34m\u001b[0m\u001b[0m\n\u001b[1;32m    231\u001b[0m                 \u001b[0margs\u001b[0m\u001b[0;34m,\u001b[0m \u001b[0mkw\u001b[0m \u001b[0;34m=\u001b[0m \u001b[0mfix\u001b[0m\u001b[0;34m(\u001b[0m\u001b[0margs\u001b[0m\u001b[0;34m,\u001b[0m \u001b[0mkw\u001b[0m\u001b[0;34m,\u001b[0m \u001b[0msig\u001b[0m\u001b[0;34m)\u001b[0m\u001b[0;34m\u001b[0m\u001b[0;34m\u001b[0m\u001b[0m\n\u001b[0;32m--> 232\u001b[0;31m             \u001b[0;32mreturn\u001b[0m \u001b[0mcaller\u001b[0m\u001b[0;34m(\u001b[0m\u001b[0mfunc\u001b[0m\u001b[0;34m,\u001b[0m \u001b[0;34m*\u001b[0m\u001b[0;34m(\u001b[0m\u001b[0mextras\u001b[0m \u001b[0;34m+\u001b[0m \u001b[0margs\u001b[0m\u001b[0;34m)\u001b[0m\u001b[0;34m,\u001b[0m \u001b[0;34m**\u001b[0m\u001b[0mkw\u001b[0m\u001b[0;34m)\u001b[0m\u001b[0;34m\u001b[0m\u001b[0;34m\u001b[0m\u001b[0m\n\u001b[0m\u001b[1;32m    233\u001b[0m     \u001b[0mfun\u001b[0m\u001b[0;34m.\u001b[0m\u001b[0m__name__\u001b[0m \u001b[0;34m=\u001b[0m \u001b[0mfunc\u001b[0m\u001b[0;34m.\u001b[0m\u001b[0m__name__\u001b[0m\u001b[0;34m\u001b[0m\u001b[0;34m\u001b[0m\u001b[0m\n\u001b[1;32m    234\u001b[0m     \u001b[0mfun\u001b[0m\u001b[0;34m.\u001b[0m\u001b[0m__doc__\u001b[0m \u001b[0;34m=\u001b[0m \u001b[0mfunc\u001b[0m\u001b[0;34m.\u001b[0m\u001b[0m__doc__\u001b[0m\u001b[0;34m\u001b[0m\u001b[0;34m\u001b[0m\u001b[0m\n",
      "\u001b[0;32m~/opt/anaconda3/envs/envpy/lib/python3.9/site-packages/IPython/core/magic.py\u001b[0m in \u001b[0;36m<lambda>\u001b[0;34m(f, *a, **k)\u001b[0m\n\u001b[1;32m    185\u001b[0m     \u001b[0;31m# but it's overkill for just that one bit of state.\u001b[0m\u001b[0;34m\u001b[0m\u001b[0;34m\u001b[0m\u001b[0m\n\u001b[1;32m    186\u001b[0m     \u001b[0;32mdef\u001b[0m \u001b[0mmagic_deco\u001b[0m\u001b[0;34m(\u001b[0m\u001b[0marg\u001b[0m\u001b[0;34m)\u001b[0m\u001b[0;34m:\u001b[0m\u001b[0;34m\u001b[0m\u001b[0;34m\u001b[0m\u001b[0m\n\u001b[0;32m--> 187\u001b[0;31m         \u001b[0mcall\u001b[0m \u001b[0;34m=\u001b[0m \u001b[0;32mlambda\u001b[0m \u001b[0mf\u001b[0m\u001b[0;34m,\u001b[0m \u001b[0;34m*\u001b[0m\u001b[0ma\u001b[0m\u001b[0;34m,\u001b[0m \u001b[0;34m**\u001b[0m\u001b[0mk\u001b[0m\u001b[0;34m:\u001b[0m \u001b[0mf\u001b[0m\u001b[0;34m(\u001b[0m\u001b[0;34m*\u001b[0m\u001b[0ma\u001b[0m\u001b[0;34m,\u001b[0m \u001b[0;34m**\u001b[0m\u001b[0mk\u001b[0m\u001b[0;34m)\u001b[0m\u001b[0;34m\u001b[0m\u001b[0;34m\u001b[0m\u001b[0m\n\u001b[0m\u001b[1;32m    188\u001b[0m \u001b[0;34m\u001b[0m\u001b[0m\n\u001b[1;32m    189\u001b[0m         \u001b[0;32mif\u001b[0m \u001b[0mcallable\u001b[0m\u001b[0;34m(\u001b[0m\u001b[0marg\u001b[0m\u001b[0;34m)\u001b[0m\u001b[0;34m:\u001b[0m\u001b[0;34m\u001b[0m\u001b[0;34m\u001b[0m\u001b[0m\n",
      "\u001b[0;32m~/opt/anaconda3/envs/envpy/lib/python3.9/site-packages/IPython/core/magics/execution.py\u001b[0m in \u001b[0;36mtimeit\u001b[0;34m(self, line, cell, local_ns)\u001b[0m\n\u001b[1;32m   1182\u001b[0m                     \u001b[0;32mbreak\u001b[0m\u001b[0;34m\u001b[0m\u001b[0;34m\u001b[0m\u001b[0m\n\u001b[1;32m   1183\u001b[0m \u001b[0;34m\u001b[0m\u001b[0m\n\u001b[0;32m-> 1184\u001b[0;31m         \u001b[0mall_runs\u001b[0m \u001b[0;34m=\u001b[0m \u001b[0mtimer\u001b[0m\u001b[0;34m.\u001b[0m\u001b[0mrepeat\u001b[0m\u001b[0;34m(\u001b[0m\u001b[0mrepeat\u001b[0m\u001b[0;34m,\u001b[0m \u001b[0mnumber\u001b[0m\u001b[0;34m)\u001b[0m\u001b[0;34m\u001b[0m\u001b[0;34m\u001b[0m\u001b[0m\n\u001b[0m\u001b[1;32m   1185\u001b[0m         \u001b[0mbest\u001b[0m \u001b[0;34m=\u001b[0m \u001b[0mmin\u001b[0m\u001b[0;34m(\u001b[0m\u001b[0mall_runs\u001b[0m\u001b[0;34m)\u001b[0m \u001b[0;34m/\u001b[0m \u001b[0mnumber\u001b[0m\u001b[0;34m\u001b[0m\u001b[0;34m\u001b[0m\u001b[0m\n\u001b[1;32m   1186\u001b[0m         \u001b[0mworst\u001b[0m \u001b[0;34m=\u001b[0m \u001b[0mmax\u001b[0m\u001b[0;34m(\u001b[0m\u001b[0mall_runs\u001b[0m\u001b[0;34m)\u001b[0m \u001b[0;34m/\u001b[0m \u001b[0mnumber\u001b[0m\u001b[0;34m\u001b[0m\u001b[0;34m\u001b[0m\u001b[0m\n",
      "\u001b[0;32m~/opt/anaconda3/envs/envpy/lib/python3.9/timeit.py\u001b[0m in \u001b[0;36mrepeat\u001b[0;34m(self, repeat, number)\u001b[0m\n\u001b[1;32m    203\u001b[0m         \u001b[0mr\u001b[0m \u001b[0;34m=\u001b[0m \u001b[0;34m[\u001b[0m\u001b[0;34m]\u001b[0m\u001b[0;34m\u001b[0m\u001b[0;34m\u001b[0m\u001b[0m\n\u001b[1;32m    204\u001b[0m         \u001b[0;32mfor\u001b[0m \u001b[0mi\u001b[0m \u001b[0;32min\u001b[0m \u001b[0mrange\u001b[0m\u001b[0;34m(\u001b[0m\u001b[0mrepeat\u001b[0m\u001b[0;34m)\u001b[0m\u001b[0;34m:\u001b[0m\u001b[0;34m\u001b[0m\u001b[0;34m\u001b[0m\u001b[0m\n\u001b[0;32m--> 205\u001b[0;31m             \u001b[0mt\u001b[0m \u001b[0;34m=\u001b[0m \u001b[0mself\u001b[0m\u001b[0;34m.\u001b[0m\u001b[0mtimeit\u001b[0m\u001b[0;34m(\u001b[0m\u001b[0mnumber\u001b[0m\u001b[0;34m)\u001b[0m\u001b[0;34m\u001b[0m\u001b[0;34m\u001b[0m\u001b[0m\n\u001b[0m\u001b[1;32m    206\u001b[0m             \u001b[0mr\u001b[0m\u001b[0;34m.\u001b[0m\u001b[0mappend\u001b[0m\u001b[0;34m(\u001b[0m\u001b[0mt\u001b[0m\u001b[0;34m)\u001b[0m\u001b[0;34m\u001b[0m\u001b[0;34m\u001b[0m\u001b[0m\n\u001b[1;32m    207\u001b[0m         \u001b[0;32mreturn\u001b[0m \u001b[0mr\u001b[0m\u001b[0;34m\u001b[0m\u001b[0;34m\u001b[0m\u001b[0m\n",
      "\u001b[0;32m~/opt/anaconda3/envs/envpy/lib/python3.9/site-packages/IPython/core/magics/execution.py\u001b[0m in \u001b[0;36mtimeit\u001b[0;34m(self, number)\u001b[0m\n\u001b[1;32m    167\u001b[0m         \u001b[0mgc\u001b[0m\u001b[0;34m.\u001b[0m\u001b[0mdisable\u001b[0m\u001b[0;34m(\u001b[0m\u001b[0;34m)\u001b[0m\u001b[0;34m\u001b[0m\u001b[0;34m\u001b[0m\u001b[0m\n\u001b[1;32m    168\u001b[0m         \u001b[0;32mtry\u001b[0m\u001b[0;34m:\u001b[0m\u001b[0;34m\u001b[0m\u001b[0;34m\u001b[0m\u001b[0m\n\u001b[0;32m--> 169\u001b[0;31m             \u001b[0mtiming\u001b[0m \u001b[0;34m=\u001b[0m \u001b[0mself\u001b[0m\u001b[0;34m.\u001b[0m\u001b[0minner\u001b[0m\u001b[0;34m(\u001b[0m\u001b[0mit\u001b[0m\u001b[0;34m,\u001b[0m \u001b[0mself\u001b[0m\u001b[0;34m.\u001b[0m\u001b[0mtimer\u001b[0m\u001b[0;34m)\u001b[0m\u001b[0;34m\u001b[0m\u001b[0;34m\u001b[0m\u001b[0m\n\u001b[0m\u001b[1;32m    170\u001b[0m         \u001b[0;32mfinally\u001b[0m\u001b[0;34m:\u001b[0m\u001b[0;34m\u001b[0m\u001b[0;34m\u001b[0m\u001b[0m\n\u001b[1;32m    171\u001b[0m             \u001b[0;32mif\u001b[0m \u001b[0mgcold\u001b[0m\u001b[0;34m:\u001b[0m\u001b[0;34m\u001b[0m\u001b[0;34m\u001b[0m\u001b[0m\n",
      "\u001b[0;32m<magic-timeit>\u001b[0m in \u001b[0;36minner\u001b[0;34m(_it, _timer)\u001b[0m\n",
      "\u001b[0;32m~/Documents/GitHub/USDMM/USDMM_C.py\u001b[0m in \u001b[0;36mtest_window\u001b[0;34m(self)\u001b[0m\n\u001b[1;32m    994\u001b[0m \u001b[0;34m\u001b[0m\u001b[0m\n\u001b[1;32m    995\u001b[0m         \u001b[0;32mif\u001b[0m \u001b[0mself\u001b[0m\u001b[0;34m.\u001b[0m\u001b[0mparallel\u001b[0m \u001b[0;34m==\u001b[0m \u001b[0;34m'no-parallel'\u001b[0m\u001b[0;34m:\u001b[0m\u001b[0;34m\u001b[0m\u001b[0;34m\u001b[0m\u001b[0m\n\u001b[0;32m--> 996\u001b[0;31m              \u001b[0m_\u001b[0m\u001b[0;34m,\u001b[0m \u001b[0merror\u001b[0m\u001b[0;34m,\u001b[0m\u001b[0mf_epoch_min\u001b[0m \u001b[0;34m=\u001b[0m \u001b[0mself\u001b[0m\u001b[0;34m.\u001b[0m\u001b[0mget_error_window\u001b[0m\u001b[0;34m(\u001b[0m\u001b[0mself\u001b[0m\u001b[0;34m.\u001b[0m\u001b[0mW\u001b[0m\u001b[0;34m,\u001b[0m\u001b[0mself\u001b[0m\u001b[0;34m.\u001b[0m\u001b[0mjoint\u001b[0m\u001b[0;34m,\u001b[0m\u001b[0;36m0\u001b[0m\u001b[0;34m)\u001b[0m\u001b[0;34m\u001b[0m\u001b[0;34m\u001b[0m\u001b[0m\n\u001b[0m\u001b[1;32m    997\u001b[0m         \u001b[0;32melif\u001b[0m \u001b[0mself\u001b[0m\u001b[0;34m.\u001b[0m\u001b[0mparallel\u001b[0m \u001b[0;34m==\u001b[0m \u001b[0;34m'parallel-window'\u001b[0m\u001b[0;34m:\u001b[0m\u001b[0;34m\u001b[0m\u001b[0;34m\u001b[0m\u001b[0m\n\u001b[1;32m    998\u001b[0m              \u001b[0m_\u001b[0m\u001b[0;34m,\u001b[0m \u001b[0merror\u001b[0m\u001b[0;34m,\u001b[0m\u001b[0mf_epoch_min\u001b[0m \u001b[0;34m=\u001b[0m \u001b[0mself\u001b[0m\u001b[0;34m.\u001b[0m\u001b[0mget_error_window\u001b[0m\u001b[0;34m(\u001b[0m\u001b[0mself\u001b[0m\u001b[0;34m.\u001b[0m\u001b[0mW\u001b[0m\u001b[0;34m,\u001b[0m\u001b[0mself\u001b[0m\u001b[0;34m.\u001b[0m\u001b[0mjoint\u001b[0m\u001b[0;34m,\u001b[0m\u001b[0;36m0\u001b[0m\u001b[0;34m)\u001b[0m\u001b[0;34m\u001b[0m\u001b[0;34m\u001b[0m\u001b[0m\n",
      "\u001b[0;32m~/Documents/GitHub/USDMM/USDMM_C.py\u001b[0m in \u001b[0;36mget_error_window\u001b[0;34m(self, W, joint, ep_w)\u001b[0m\n\u001b[1;32m    359\u001b[0m \u001b[0;34m\u001b[0m\u001b[0m\n\u001b[1;32m    360\u001b[0m                     \u001b[0;32mfor\u001b[0m \u001b[0mnv\u001b[0m \u001b[0;32min\u001b[0m \u001b[0mneighbors_to_visit\u001b[0m\u001b[0;34m:\u001b[0m\u001b[0;34m\u001b[0m\u001b[0;34m\u001b[0m\u001b[0m\n\u001b[0;32m--> 361\u001b[0;31m                         \u001b[0merror_ep_f_hist\u001b[0m\u001b[0;34m.\u001b[0m\u001b[0mappend\u001b[0m\u001b[0;34m(\u001b[0m\u001b[0mself\u001b[0m\u001b[0;34m.\u001b[0m\u001b[0mcalculate_neighbors\u001b[0m\u001b[0;34m(\u001b[0m\u001b[0mW\u001b[0m\u001b[0;34m,\u001b[0m  \u001b[0mjoint\u001b[0m\u001b[0;34m,\u001b[0m \u001b[0mk\u001b[0m\u001b[0;34m,\u001b[0m \u001b[0mWtrain\u001b[0m\u001b[0;34m,\u001b[0m \u001b[0mtrain_b\u001b[0m\u001b[0;34m[\u001b[0m\u001b[0mb\u001b[0m\u001b[0;34m]\u001b[0m\u001b[0;34m,\u001b[0m\u001b[0mytrain_b\u001b[0m\u001b[0;34m[\u001b[0m\u001b[0mb\u001b[0m\u001b[0;34m]\u001b[0m\u001b[0;34m,\u001b[0m\u001b[0mbias\u001b[0m\u001b[0;34m,\u001b[0m \u001b[0mnv\u001b[0m\u001b[0;34m)\u001b[0m\u001b[0;34m)\u001b[0m\u001b[0;34m\u001b[0m\u001b[0;34m\u001b[0m\u001b[0m\n\u001b[0m\u001b[1;32m    362\u001b[0m \u001b[0;34m\u001b[0m\u001b[0m\n\u001b[1;32m    363\u001b[0m                 \u001b[0merror_ep_f_hist_np\u001b[0m \u001b[0;34m=\u001b[0m \u001b[0mnp\u001b[0m\u001b[0;34m.\u001b[0m\u001b[0marray\u001b[0m\u001b[0;34m(\u001b[0m\u001b[0merror_ep_f_hist\u001b[0m\u001b[0;34m,\u001b[0m \u001b[0mdtype\u001b[0m\u001b[0;34m=\u001b[0m\u001b[0mobject\u001b[0m\u001b[0;34m)\u001b[0m\u001b[0;34m\u001b[0m\u001b[0;34m\u001b[0m\u001b[0m\n",
      "\u001b[0;32m~/Documents/GitHub/USDMM/USDMM_C.py\u001b[0m in \u001b[0;36mcalculate_neighbors\u001b[0;34m(self, W, joint, k, Wlast, img, yimg, bias, i)\u001b[0m\n\u001b[1;32m    289\u001b[0m             \u001b[0mjoint_temp\u001b[0m\u001b[0;34m[\u001b[0m\u001b[0mk\u001b[0m\u001b[0;34m]\u001b[0m\u001b[0;34m[\u001b[0m\u001b[0mi\u001b[0m\u001b[0;34m]\u001b[0m\u001b[0;34m[\u001b[0m\u001b[0;36m1\u001b[0m\u001b[0;34m]\u001b[0m \u001b[0;34m=\u001b[0m \u001b[0;34m'1'\u001b[0m\u001b[0;34m\u001b[0m\u001b[0;34m\u001b[0m\u001b[0m\n\u001b[1;32m    290\u001b[0m         \u001b[0mW_matrices\u001b[0m \u001b[0;34m=\u001b[0m \u001b[0mself\u001b[0m\u001b[0;34m.\u001b[0m\u001b[0mcreate_w_matrices\u001b[0m\u001b[0;34m(\u001b[0m\u001b[0mW\u001b[0m\u001b[0;34m,\u001b[0m \u001b[0mjoint_temp\u001b[0m\u001b[0;34m)\u001b[0m\u001b[0;34m\u001b[0m\u001b[0;34m\u001b[0m\u001b[0m\n\u001b[0;32m--> 291\u001b[0;31m         \u001b[0m_\u001b[0m\u001b[0;34m,\u001b[0m\u001b[0merror_hood\u001b[0m \u001b[0;34m=\u001b[0m \u001b[0mself\u001b[0m\u001b[0;34m.\u001b[0m\u001b[0mwindow_error_generate_c\u001b[0m\u001b[0;34m(\u001b[0m\u001b[0mW_matrices\u001b[0m\u001b[0;34m,\u001b[0m \u001b[0mimg\u001b[0m\u001b[0;34m,\u001b[0m \u001b[0mself\u001b[0m\u001b[0;34m.\u001b[0m\u001b[0mbatch\u001b[0m\u001b[0;34m,\u001b[0m \u001b[0myimg\u001b[0m\u001b[0;34m,\u001b[0m \u001b[0mself\u001b[0m\u001b[0;34m.\u001b[0m\u001b[0merror_type\u001b[0m\u001b[0;34m,\u001b[0m \u001b[0mWlast\u001b[0m\u001b[0;34m,\u001b[0m \u001b[0mk\u001b[0m\u001b[0;34m,\u001b[0m \u001b[0mbias\u001b[0m\u001b[0;34m)\u001b[0m\u001b[0;34m\u001b[0m\u001b[0;34m\u001b[0m\u001b[0m\n\u001b[0m\u001b[1;32m    292\u001b[0m         \u001b[0mend_time\u001b[0m \u001b[0;34m=\u001b[0m \u001b[0mtime\u001b[0m\u001b[0;34m(\u001b[0m\u001b[0;34m)\u001b[0m\u001b[0;34m\u001b[0m\u001b[0;34m\u001b[0m\u001b[0m\n\u001b[1;32m    293\u001b[0m         \u001b[0mself\u001b[0m\u001b[0;34m.\u001b[0m\u001b[0mtime_test_neightbor\u001b[0m\u001b[0;34m.\u001b[0m\u001b[0mappend\u001b[0m\u001b[0;34m(\u001b[0m\u001b[0;34m(\u001b[0m\u001b[0mend_time\u001b[0m \u001b[0;34m-\u001b[0m \u001b[0mstart_time\u001b[0m\u001b[0;34m)\u001b[0m\u001b[0;34m)\u001b[0m\u001b[0;34m\u001b[0m\u001b[0;34m\u001b[0m\u001b[0m\n",
      "\u001b[0;32m~/Documents/GitHub/USDMM/USDMM_C.py\u001b[0m in \u001b[0;36mwindow_error_generate_c\u001b[0;34m(self, W_matrices, sample, sample_size, y, error_type, Wlast, layer, bias)\u001b[0m\n\u001b[1;32m    164\u001b[0m \u001b[0;34m\u001b[0m\u001b[0m\n\u001b[1;32m    165\u001b[0m     \u001b[0;32mdef\u001b[0m \u001b[0mwindow_error_generate_c\u001b[0m\u001b[0;34m(\u001b[0m\u001b[0mself\u001b[0m\u001b[0;34m,\u001b[0m \u001b[0mW_matrices\u001b[0m\u001b[0;34m,\u001b[0m \u001b[0msample\u001b[0m\u001b[0;34m,\u001b[0m \u001b[0msample_size\u001b[0m\u001b[0;34m,\u001b[0m \u001b[0my\u001b[0m\u001b[0;34m,\u001b[0m \u001b[0merror_type\u001b[0m\u001b[0;34m,\u001b[0m \u001b[0mWlast\u001b[0m\u001b[0;34m,\u001b[0m \u001b[0mlayer\u001b[0m\u001b[0;34m,\u001b[0m \u001b[0mbias\u001b[0m\u001b[0;34m)\u001b[0m\u001b[0;34m:\u001b[0m\u001b[0;34m\u001b[0m\u001b[0;34m\u001b[0m\u001b[0m\n\u001b[0;32m--> 166\u001b[0;31m         \u001b[0mW_hood\u001b[0m \u001b[0;34m=\u001b[0m \u001b[0mself\u001b[0m\u001b[0;34m.\u001b[0m\u001b[0mrun_window_convolve\u001b[0m\u001b[0;34m(\u001b[0m\u001b[0msample\u001b[0m\u001b[0;34m,\u001b[0m \u001b[0msample_size\u001b[0m\u001b[0;34m,\u001b[0m \u001b[0mW_matrices\u001b[0m\u001b[0;34m,\u001b[0m \u001b[0mWlast\u001b[0m\u001b[0;34m,\u001b[0m \u001b[0mlayer\u001b[0m\u001b[0;34m,\u001b[0m \u001b[0mbias\u001b[0m\u001b[0;34m)\u001b[0m\u001b[0;34m\u001b[0m\u001b[0;34m\u001b[0m\u001b[0m\n\u001b[0m\u001b[1;32m    167\u001b[0m         \u001b[0merror_hood\u001b[0m \u001b[0;34m=\u001b[0m \u001b[0mself\u001b[0m\u001b[0;34m.\u001b[0m\u001b[0mcalculate_error\u001b[0m\u001b[0;34m(\u001b[0m\u001b[0my\u001b[0m\u001b[0;34m,\u001b[0m \u001b[0mW_hood\u001b[0m\u001b[0;34m,\u001b[0m \u001b[0merror_type\u001b[0m\u001b[0;34m)\u001b[0m\u001b[0;34m\u001b[0m\u001b[0;34m\u001b[0m\u001b[0m\n\u001b[1;32m    168\u001b[0m         \u001b[0;32mreturn\u001b[0m \u001b[0mW_hood\u001b[0m\u001b[0;34m,\u001b[0m\u001b[0merror_hood\u001b[0m\u001b[0;34m\u001b[0m\u001b[0;34m\u001b[0m\u001b[0m\n",
      "\u001b[0;32m~/Documents/GitHub/USDMM/USDMM_C.py\u001b[0m in \u001b[0;36mrun_window_convolve\u001b[0;34m(self, sample, sample_size, W_matrices, Wlast, layer, bias)\u001b[0m\n\u001b[1;32m    208\u001b[0m                     \u001b[0mWsample_k\u001b[0m\u001b[0;34m.\u001b[0m\u001b[0mappend\u001b[0m\u001b[0;34m(\u001b[0m\u001b[0mself\u001b[0m\u001b[0;34m.\u001b[0m\u001b[0mapply_convolve\u001b[0m\u001b[0;34m(\u001b[0m\u001b[0msample_b\u001b[0m\u001b[0;34m[\u001b[0m\u001b[0mk\u001b[0m\u001b[0;34m]\u001b[0m\u001b[0;34m,\u001b[0m \u001b[0mW_matrices\u001b[0m\u001b[0;34m[\u001b[0m\u001b[0mi\u001b[0m\u001b[0;34m]\u001b[0m\u001b[0;34m,\u001b[0m \u001b[0mbias\u001b[0m\u001b[0;34m[\u001b[0m\u001b[0mi\u001b[0m\u001b[0;34m]\u001b[0m\u001b[0;34m)\u001b[0m\u001b[0;34m)\u001b[0m\u001b[0;34m\u001b[0m\u001b[0;34m\u001b[0m\u001b[0m\n\u001b[1;32m    209\u001b[0m                 \u001b[0;32melse\u001b[0m\u001b[0;34m:\u001b[0m\u001b[0;34m\u001b[0m\u001b[0;34m\u001b[0m\u001b[0m\n\u001b[0;32m--> 210\u001b[0;31m                     \u001b[0mWsample_k\u001b[0m\u001b[0;34m.\u001b[0m\u001b[0mappend\u001b[0m\u001b[0;34m(\u001b[0m\u001b[0mself\u001b[0m\u001b[0;34m.\u001b[0m\u001b[0mapply_convolve\u001b[0m\u001b[0;34m(\u001b[0m\u001b[0mWsample_b\u001b[0m\u001b[0;34m[\u001b[0m\u001b[0mk\u001b[0m\u001b[0;34m]\u001b[0m\u001b[0;34m,\u001b[0m \u001b[0mW_matrices\u001b[0m\u001b[0;34m[\u001b[0m\u001b[0mi\u001b[0m\u001b[0;34m]\u001b[0m\u001b[0;34m,\u001b[0m \u001b[0mbias\u001b[0m\u001b[0;34m[\u001b[0m\u001b[0mi\u001b[0m\u001b[0;34m]\u001b[0m\u001b[0;34m)\u001b[0m\u001b[0;34m)\u001b[0m\u001b[0;34m\u001b[0m\u001b[0;34m\u001b[0m\u001b[0m\n\u001b[0m\u001b[1;32m    211\u001b[0m             \u001b[0mWsample_b\u001b[0m \u001b[0;34m=\u001b[0m \u001b[0mnp\u001b[0m\u001b[0;34m.\u001b[0m\u001b[0mpad\u001b[0m\u001b[0;34m(\u001b[0m\u001b[0mWsample_k\u001b[0m\u001b[0;34m,\u001b[0m \u001b[0;34m(\u001b[0m\u001b[0;34m(\u001b[0m\u001b[0;36m0\u001b[0m\u001b[0;34m,\u001b[0m \u001b[0;36m0\u001b[0m\u001b[0;34m)\u001b[0m\u001b[0;34m,\u001b[0m \u001b[0;34m(\u001b[0m\u001b[0mself\u001b[0m\u001b[0;34m.\u001b[0m\u001b[0mincrease\u001b[0m\u001b[0;34m,\u001b[0m \u001b[0mself\u001b[0m\u001b[0;34m.\u001b[0m\u001b[0mincrease\u001b[0m\u001b[0;34m)\u001b[0m\u001b[0;34m,\u001b[0m \u001b[0;34m(\u001b[0m\u001b[0mself\u001b[0m\u001b[0;34m.\u001b[0m\u001b[0mincrease\u001b[0m\u001b[0;34m,\u001b[0m \u001b[0mself\u001b[0m\u001b[0;34m.\u001b[0m\u001b[0mincrease\u001b[0m\u001b[0;34m)\u001b[0m\u001b[0;34m)\u001b[0m\u001b[0;34m,\u001b[0m \u001b[0mmode\u001b[0m\u001b[0;34m=\u001b[0m\u001b[0;34m'constant'\u001b[0m\u001b[0;34m,\u001b[0m \u001b[0mconstant_values\u001b[0m\u001b[0;34m=\u001b[0m\u001b[0;34m-\u001b[0m\u001b[0;36m1\u001b[0m\u001b[0;34m)\u001b[0m\u001b[0;34m\u001b[0m\u001b[0;34m\u001b[0m\u001b[0m\n\u001b[1;32m    212\u001b[0m             \u001b[0mWsample\u001b[0m\u001b[0;34m.\u001b[0m\u001b[0mappend\u001b[0m\u001b[0;34m(\u001b[0m\u001b[0mWsample_k\u001b[0m\u001b[0;34m)\u001b[0m\u001b[0;34m\u001b[0m\u001b[0;34m\u001b[0m\u001b[0m\n",
      "\u001b[0;32m~/Documents/GitHub/USDMM/USDMM_C.py\u001b[0m in \u001b[0;36mapply_convolve\u001b[0;34m(self, img, W_matrices, bias)\u001b[0m\n\u001b[1;32m    233\u001b[0m             \u001b[0;31m#img_b = cv2.copyMakeBorder(img, self.increase, self.increase, self.increase, self.increase, cv2.BORDER_CONSTANT, None, value = -1)\u001b[0m\u001b[0;34m\u001b[0m\u001b[0;34m\u001b[0m\u001b[0m\n\u001b[1;32m    234\u001b[0m             \u001b[0;31m#img_b = np.pad(img, ((self.increase, self.increase), (self.increase, self.increase)), mode='constant', constant_values=-1)\u001b[0m\u001b[0;34m\u001b[0m\u001b[0;34m\u001b[0m\u001b[0m\n\u001b[0;32m--> 235\u001b[0;31m             \u001b[0mimg_r\u001b[0m \u001b[0;34m=\u001b[0m \u001b[0mcv2\u001b[0m\u001b[0;34m.\u001b[0m\u001b[0mfilter2D\u001b[0m\u001b[0;34m(\u001b[0m\u001b[0mimg\u001b[0m\u001b[0;34m,\u001b[0m \u001b[0;34m-\u001b[0m\u001b[0;36m1\u001b[0m\u001b[0;34m,\u001b[0m \u001b[0mkernel\u001b[0m\u001b[0;34m)\u001b[0m\u001b[0;34m-\u001b[0m\u001b[0mbias\u001b[0m\u001b[0;34m\u001b[0m\u001b[0;34m\u001b[0m\u001b[0m\n\u001b[0m\u001b[1;32m    236\u001b[0m             \u001b[0mnp\u001b[0m\u001b[0;34m.\u001b[0m\u001b[0mmaximum\u001b[0m\u001b[0;34m(\u001b[0m\u001b[0mimg_r\u001b[0m\u001b[0;34m,\u001b[0m \u001b[0;36m0\u001b[0m\u001b[0;34m,\u001b[0m \u001b[0mout\u001b[0m\u001b[0;34m=\u001b[0m\u001b[0mimg_r\u001b[0m\u001b[0;34m)\u001b[0m\u001b[0;34m\u001b[0m\u001b[0;34m\u001b[0m\u001b[0m\n\u001b[1;32m    237\u001b[0m             \u001b[0mimg_c\u001b[0m \u001b[0;34m+=\u001b[0m \u001b[0mimg_r\u001b[0m\u001b[0;34m\u001b[0m\u001b[0;34m\u001b[0m\u001b[0m\n",
      "\u001b[0;31mKeyboardInterrupt\u001b[0m: "
     ]
    }
   ],
   "source": [
    "%%timeit\n",
    "WOMC.test_window()"
   ]
  },
  {
   "cell_type": "code",
   "execution_count": 228,
   "metadata": {},
   "outputs": [
    {
     "data": {
      "text/plain": [
       "0.9512152470691504"
      ]
     },
     "execution_count": 228,
     "metadata": {},
     "output_type": "execute_result"
    }
   ],
   "source": [
    "W_matrices = WOMC.create_w_matrices(WOMC.W, WOMC.joint)\n",
    "bias = np.nansum(WOMC.W, axis=1) - 1\n",
    "Wsample = WOMC.run_window_convolve(WOMC.train, WOMC.train_size, W_matrices, 0, 0, bias)\n",
    "WOMC.calculate_error(WOMC.ytrain, Wsample, 'iou')"
   ]
  },
  {
   "cell_type": "code",
   "execution_count": 197,
   "metadata": {},
   "outputs": [
    {
     "data": {
      "text/plain": [
       "(10, 56, 56)"
      ]
     },
     "execution_count": 197,
     "metadata": {},
     "output_type": "execute_result"
    }
   ],
   "source": [
    "np.array(Wsample[-1]).shape"
   ]
  },
  {
   "cell_type": "code",
   "execution_count": 195,
   "metadata": {},
   "outputs": [],
   "source": [
    "ll = np.array(Wsample)"
   ]
  },
  {
   "cell_type": "code",
   "execution_count": 196,
   "metadata": {},
   "outputs": [
    {
     "data": {
      "text/plain": [
       "(2, 10, 56, 56)"
      ]
     },
     "execution_count": 196,
     "metadata": {},
     "output_type": "execute_result"
    }
   ],
   "source": [
    "ll.shape"
   ]
  },
  {
   "cell_type": "code",
   "execution_count": null,
   "metadata": {},
   "outputs": [],
   "source": []
  },
  {
   "cell_type": "code",
   "execution_count": 51,
   "metadata": {},
   "outputs": [
    {
     "name": "stdout",
     "output_type": "stream",
     "text": [
      "Lista 0 : [6, 1, 0]\n",
      "Lista 1 : [2, 5, 7, 8]\n",
      "Lista 2 : [1, 0]\n"
     ]
    },
    {
     "name": "stderr",
     "output_type": "stream",
     "text": [
      "/var/folders/zs/n_wh27_s5ln1fk586vbgqnn00000gq/T/ipykernel_51368/2271667111.py:1: VisibleDeprecationWarning: Creating an ndarray from ragged nested sequences (which is a list-or-tuple of lists-or-tuples-or ndarrays with different lengths or shapes) is deprecated. If you meant to do this, you must specify 'dtype=object' when creating the ndarray.\n",
      "  n = np.array([[6, 1, 0], [2, 5, 7, 8], [1, 0]])\n"
     ]
    }
   ],
   "source": [
    "n = np.array([[6, 1, 0], [2, 5, 7, 8], [1, 0]])\n",
    "\n",
    "for index, element in np.ndenumerate(n):\n",
    "    print(\"Lista\", index[0], \":\", element)"
   ]
  },
  {
   "cell_type": "code",
   "execution_count": 62,
   "metadata": {},
   "outputs": [
    {
     "data": {
      "text/plain": [
       "[0, 1, 2, 0, 1, 2, 3, 4, 5, 6]"
      ]
     },
     "execution_count": 62,
     "metadata": {},
     "output_type": "execute_result"
    }
   ],
   "source": [
    "nn = []\n",
    "nn.extend(range(3))\n",
    "nn.extend(range(7))\n",
    "nn "
   ]
  },
  {
   "cell_type": "code",
   "execution_count": 55,
   "metadata": {},
   "outputs": [],
   "source": [
    "a = np.array([np.array([1, 2])\n",
    "              , np.array([3, 4])\n",
    "              , np.array([5, 6,7])]\n",
    "              , dtype=object)"
   ]
  },
  {
   "cell_type": "code",
   "execution_count": 59,
   "metadata": {},
   "outputs": [
    {
     "name": "stdout",
     "output_type": "stream",
     "text": [
      "() <numpy.ndenumerate object at 0x7fb1716d5b20>\n"
     ]
    }
   ],
   "source": [
    "#a = np.array([[1, 2], [3, 4], [5, 6,7]])\n",
    "for index1, x in np.ndenumerate(np.ndenumerate(a)):\n",
    "    print(index1, x)"
   ]
  },
  {
   "cell_type": "code",
   "execution_count": 47,
   "metadata": {},
   "outputs": [
    {
     "data": {
      "text/plain": [
       "(2,)"
      ]
     },
     "execution_count": 47,
     "metadata": {},
     "output_type": "execute_result"
    }
   ],
   "source": [
    "index"
   ]
  },
  {
   "cell_type": "code",
   "execution_count": 66,
   "metadata": {},
   "outputs": [
    {
     "data": {
      "text/plain": [
       "[3, 3, 3, 3, 3]"
      ]
     },
     "execution_count": 66,
     "metadata": {},
     "output_type": "execute_result"
    }
   ],
   "source": [
    "n = 5  # número de vezes que deseja repetir\n",
    "i = 3   # número que deseja repetir\n",
    "\n",
    "my_list = [i] * n\n",
    "my_list"
   ]
  },
  {
   "cell_type": "code",
   "execution_count": 86,
   "metadata": {},
   "outputs": [],
   "source": [
    "parallel = 'no-parallel'\n",
    "pp = 'parallel'"
   ]
  },
  {
   "cell_type": "code",
   "execution_count": 89,
   "metadata": {},
   "outputs": [
    {
     "data": {
      "text/plain": [
       "[5, 5]"
      ]
     },
     "execution_count": 89,
     "metadata": {},
     "output_type": "execute_result"
    }
   ],
   "source": [
    "W_size = []\n",
    "for i in range(WOMC.nlayer):\n",
    "    W_size.append(np.sum((WOMC.W[i] == 1)))\n",
    "W_size"
   ]
  },
  {
   "cell_type": "code",
   "execution_count": 90,
   "metadata": {},
   "outputs": [
    {
     "data": {
      "text/plain": [
       "[5, 5]"
      ]
     },
     "execution_count": 90,
     "metadata": {},
     "output_type": "execute_result"
    }
   ],
   "source": [
    "W_size = [np.count_nonzero(layer == 1) for layer in WOMC.W]\n",
    "W_size\n"
   ]
  },
  {
   "cell_type": "code",
   "execution_count": 92,
   "metadata": {},
   "outputs": [
    {
     "name": "stdout",
     "output_type": "stream",
     "text": [
      "0.8444218515250481\n",
      "0.7579544029403025\n",
      "0.420571580830845\n",
      "0.25891675029296335\n",
      "0.5112747213686085\n",
      "0.4049341374504143\n",
      "0.7837985890347726\n",
      "0.30331272607892745\n",
      "0.4765969541523558\n",
      "0.5833820394550312\n"
     ]
    }
   ],
   "source": [
    "import random\n",
    "random.seed(0)\n",
    "for i in range(10):\n",
    "    print(random.random())\n"
   ]
  },
  {
   "cell_type": "code",
   "execution_count": 99,
   "metadata": {},
   "outputs": [
    {
     "data": {
      "text/plain": [
       "[array([nan,  1., nan,  1.,  1.,  1., nan,  1., nan]),\n",
       " array([nan,  1., nan,  1.,  1.,  1., nan,  1., nan])]"
      ]
     },
     "execution_count": 99,
     "metadata": {},
     "output_type": "execute_result"
    }
   ],
   "source": [
    "WOMC.W"
   ]
  },
  {
   "cell_type": "code",
   "execution_count": 100,
   "metadata": {},
   "outputs": [
    {
     "data": {
      "text/plain": [
       "10"
      ]
     },
     "execution_count": 100,
     "metadata": {},
     "output_type": "execute_result"
    }
   ],
   "source": [
    "ni"
   ]
  },
  {
   "cell_type": "code",
   "execution_count": 56,
   "metadata": {},
   "outputs": [],
   "source": [
    "def create_joint(W):\n",
    "    ni = np.sum(~np.isnan(W))\n",
    "    binary_combinations = np.array(list(itertools.product([0, 1], repeat=int(ni))))\n",
    "    random_values = np.random.randint(2, size=len(binary_combinations))\n",
    "    return np.column_stack((binary_combinations, random_values))\n",
    "\n",
    "def create_w_matrices( W, joint):\n",
    "    matrices = []\n",
    "    for k in range(WOMC.nlayer):\n",
    "        matrix_k = []\n",
    "        reduced_minterms = find_minterms(joint[k])\n",
    "        for minterm in reduced_minterms:\n",
    "            matrix = W[k].copy()\n",
    "            matrix[np.where(W[k] == 1)] = minterm\n",
    "            matrix = np.where(matrix == 0, -1, matrix)\n",
    "            matrix = np.nan_to_num(matrix)\n",
    "            matrix_k.append(matrix.reshape((3, 3)))\n",
    "        matrices.append(matrix_k)\n",
    "    return matrices\n",
    "\n",
    "def find_minterms( truth_table):\n",
    "    return truth_table[truth_table[:, -1] == 1][:, :-1]"
   ]
  },
  {
   "cell_type": "code",
   "execution_count": 57,
   "metadata": {},
   "outputs": [],
   "source": [
    "Wini = np.array([np.nan, np.nan, np.nan, 1., 1., 1., np.nan, np.nan, np.nan])\n",
    "W_ = [Wini.copy() for _ in range(WOMC.nlayer)]\n",
    "joint_ = [create_joint(W_[i]) for i in range(WOMC.nlayer)]\n",
    "W_matrices = create_w_matrices(W_, joint_)"
   ]
  },
  {
   "cell_type": "code",
   "execution_count": 61,
   "metadata": {},
   "outputs": [
    {
     "data": {
      "text/plain": [
       "1"
      ]
     },
     "execution_count": 61,
     "metadata": {},
     "output_type": "execute_result"
    }
   ],
   "source": [
    "joint_[0][0][-1]"
   ]
  },
  {
   "cell_type": "code",
   "execution_count": 63,
   "metadata": {},
   "outputs": [
    {
     "data": {
      "text/plain": [
       "(56, 56)"
      ]
     },
     "execution_count": 63,
     "metadata": {},
     "output_type": "execute_result"
    }
   ],
   "source": [
    "WOMC.train[0].shape"
   ]
  },
  {
   "cell_type": "code",
   "execution_count": 65,
   "metadata": {},
   "outputs": [],
   "source": [
    "W_matrices = WOMC.create_w_matrices(WOMC.W, WOMC.joint)\n",
    "bias = np.nansum(WOMC.W, axis=1) - 1"
   ]
  },
  {
   "cell_type": "code",
   "execution_count": 96,
   "metadata": {},
   "outputs": [],
   "source": [
    "x1 = WOMC.apply_convolve(WOMC.train[0], W_matrices[0], bias[0])"
   ]
  },
  {
   "cell_type": "code",
   "execution_count": null,
   "metadata": {},
   "outputs": [],
   "source": []
  },
  {
   "cell_type": "code",
   "execution_count": 70,
   "metadata": {},
   "outputs": [],
   "source": [
    "def np_apply_convolve(img, W_matrices, bias):\n",
    "    img_b = np.pad(img, ((WOMC.increase, WOMC.increase), (WOMC.increase, WOMC.increase)), mode='constant', constant_values=-1)\n",
    "    img_r = sum(np.convolve(img_b.ravel(), kernel.ravel(), mode='same').reshape(img.shape) for kernel in W_matrices) - bias\n",
    "    img_c = (img_r > 0).astype(float)\n",
    "    img_c[img_c == 0] = -1\n",
    "    return img_c"
   ]
  },
  {
   "cell_type": "code",
   "execution_count": 97,
   "metadata": {},
   "outputs": [],
   "source": [
    "def np_apply_convolve(img, W_matrices, bias):\n",
    "    img_c = np.zeros_like(img, dtype=float)\n",
    "    for kernel in W_matrices:\n",
    "        img_b = np.pad(img, ((WOMC.increase, WOMC.increase), (WOMC.increase, WOMC.increase)), mode='constant', constant_values=-1)\n",
    "        img_r = np.convolve(img_b.ravel(), kernel.ravel(), mode='same').reshape(img_b.shape)\n",
    "        img_r = (img_r - bias > 0).astype(float)\n",
    "        img_c += img_r[WOMC.increase:img_r.shape[0]-WOMC.increase, WOMC.increase:img_r.shape[1]-WOMC.increase]\n",
    "    img_c[img_c == 0] = -1\n",
    "    return img_c"
   ]
  },
  {
   "cell_type": "code",
   "execution_count": 106,
   "metadata": {},
   "outputs": [],
   "source": [
    "from scipy.signal import convolve2d\n",
    "\n",
    "def apply_convolve_sc(self, img, W_matrices, bias):\n",
    "    img_b = np.pad(img, ((self.increase, self.increase), (self.increase, self.increase)), mode='constant', constant_values=-1)\n",
    "    img_r = sum(convolve2d(img_b, kernel, mode='same') for kernel in W_matrices) - bias\n",
    "    img_c = (img_r > 0).astype(float)\n",
    "    img_c[img_c == 0] = -1\n",
    "    img_c = img_c[self.increase:img_c.shape[0]-self.increase, self.increase:img_c.shape[1]-self.increase]\n",
    "    return img_c"
   ]
  },
  {
   "cell_type": "code",
   "execution_count": 148,
   "metadata": {},
   "outputs": [],
   "source": [
    "img_b = np.pad(WOMC.train[0], ((WOMC.increase, WOMC.increase), (WOMC.increase, WOMC.increase)), mode='constant', constant_values=-1)"
   ]
  },
  {
   "cell_type": "code",
   "execution_count": 153,
   "metadata": {},
   "outputs": [
    {
     "data": {
      "text/plain": [
       "(58, 58)"
      ]
     },
     "execution_count": 153,
     "metadata": {},
     "output_type": "execute_result"
    }
   ],
   "source": [
    "img_b.shape"
   ]
  },
  {
   "cell_type": "code",
   "execution_count": 166,
   "metadata": {},
   "outputs": [
    {
     "ename": "IndexError",
     "evalue": "list index out of range",
     "output_type": "error",
     "traceback": [
      "\u001b[0;31m---------------------------------------------------------------------------\u001b[0m",
      "\u001b[0;31mIndexError\u001b[0m                                Traceback (most recent call last)",
      "\u001b[0;32m/var/folders/zs/n_wh27_s5ln1fk586vbgqnn00000gq/T/ipykernel_53024/3077944411.py\u001b[0m in \u001b[0;36m<module>\u001b[0;34m\u001b[0m\n\u001b[1;32m      1\u001b[0m \u001b[0mW_matrices\u001b[0m \u001b[0;34m=\u001b[0m \u001b[0mWOMC\u001b[0m\u001b[0;34m.\u001b[0m\u001b[0mcreate_w_matrices\u001b[0m\u001b[0;34m(\u001b[0m\u001b[0mWOMC\u001b[0m\u001b[0;34m.\u001b[0m\u001b[0mW\u001b[0m\u001b[0;34m,\u001b[0m \u001b[0mWOMC\u001b[0m\u001b[0;34m.\u001b[0m\u001b[0mjoint\u001b[0m\u001b[0;34m)\u001b[0m\u001b[0;34m\u001b[0m\u001b[0;34m\u001b[0m\u001b[0m\n\u001b[1;32m      2\u001b[0m \u001b[0mbias\u001b[0m \u001b[0;34m=\u001b[0m \u001b[0mnp\u001b[0m\u001b[0;34m.\u001b[0m\u001b[0mnansum\u001b[0m\u001b[0;34m(\u001b[0m\u001b[0mWOMC\u001b[0m\u001b[0;34m.\u001b[0m\u001b[0mW\u001b[0m\u001b[0;34m,\u001b[0m \u001b[0maxis\u001b[0m\u001b[0;34m=\u001b[0m\u001b[0;36m1\u001b[0m\u001b[0;34m)\u001b[0m \u001b[0;34m-\u001b[0m \u001b[0;36m1\u001b[0m\u001b[0;34m\u001b[0m\u001b[0;34m\u001b[0m\u001b[0m\n\u001b[0;32m----> 3\u001b[0;31m \u001b[0mWsample\u001b[0m \u001b[0;34m=\u001b[0m \u001b[0mWOMC\u001b[0m\u001b[0;34m.\u001b[0m\u001b[0mrun_window_convolve\u001b[0m\u001b[0;34m(\u001b[0m\u001b[0mWOMC\u001b[0m\u001b[0;34m.\u001b[0m\u001b[0mtrain\u001b[0m\u001b[0;34m,\u001b[0m \u001b[0mWOMC\u001b[0m\u001b[0;34m.\u001b[0m\u001b[0mtrain_size\u001b[0m\u001b[0;34m,\u001b[0m \u001b[0mW_matrices\u001b[0m\u001b[0;34m,\u001b[0m \u001b[0;36m0\u001b[0m\u001b[0;34m,\u001b[0m \u001b[0;36m0\u001b[0m\u001b[0;34m,\u001b[0m \u001b[0mbias\u001b[0m\u001b[0;34m)\u001b[0m\u001b[0;34m\u001b[0m\u001b[0;34m\u001b[0m\u001b[0m\n\u001b[0m",
      "\u001b[0;32m~/Documents/GitHub/USDMM/USDMM_C.py\u001b[0m in \u001b[0;36mrun_window_convolve\u001b[0;34m(self, sample, sample_size, W_matrices, Wlast, layer, bias)\u001b[0m\n\u001b[1;32m    207\u001b[0m                     \u001b[0mWsample_k\u001b[0m\u001b[0;34m.\u001b[0m\u001b[0mappend\u001b[0m\u001b[0;34m(\u001b[0m\u001b[0mself\u001b[0m\u001b[0;34m.\u001b[0m\u001b[0mapply_convolve\u001b[0m\u001b[0;34m(\u001b[0m\u001b[0msample\u001b[0m\u001b[0;34m[\u001b[0m\u001b[0mk\u001b[0m\u001b[0;34m]\u001b[0m\u001b[0;34m,\u001b[0m \u001b[0mW_matrices\u001b[0m\u001b[0;34m[\u001b[0m\u001b[0mi\u001b[0m\u001b[0;34m]\u001b[0m\u001b[0;34m,\u001b[0m \u001b[0mbias\u001b[0m\u001b[0;34m[\u001b[0m\u001b[0mi\u001b[0m\u001b[0;34m]\u001b[0m\u001b[0;34m)\u001b[0m\u001b[0;34m)\u001b[0m\u001b[0;34m\u001b[0m\u001b[0;34m\u001b[0m\u001b[0m\n\u001b[1;32m    208\u001b[0m                 \u001b[0;32melse\u001b[0m\u001b[0;34m:\u001b[0m\u001b[0;34m\u001b[0m\u001b[0;34m\u001b[0m\u001b[0m\n\u001b[0;32m--> 209\u001b[0;31m                     \u001b[0mWsample_k\u001b[0m\u001b[0;34m.\u001b[0m\u001b[0mappend\u001b[0m\u001b[0;34m(\u001b[0m\u001b[0mself\u001b[0m\u001b[0;34m.\u001b[0m\u001b[0mapply_convolve\u001b[0m\u001b[0;34m(\u001b[0m\u001b[0mWsample_k\u001b[0m\u001b[0;34m[\u001b[0m\u001b[0mi\u001b[0m\u001b[0;34m-\u001b[0m\u001b[0;36m1\u001b[0m\u001b[0;34m]\u001b[0m\u001b[0;34m,\u001b[0m \u001b[0mW_matrices\u001b[0m\u001b[0;34m[\u001b[0m\u001b[0mi\u001b[0m\u001b[0;34m]\u001b[0m\u001b[0;34m,\u001b[0m \u001b[0mbias\u001b[0m\u001b[0;34m[\u001b[0m\u001b[0mi\u001b[0m\u001b[0;34m]\u001b[0m\u001b[0;34m)\u001b[0m\u001b[0;34m)\u001b[0m\u001b[0;34m\u001b[0m\u001b[0;34m\u001b[0m\u001b[0m\n\u001b[0m\u001b[1;32m    210\u001b[0m             \u001b[0mWsample\u001b[0m\u001b[0;34m.\u001b[0m\u001b[0mappend\u001b[0m\u001b[0;34m(\u001b[0m\u001b[0mWsample_k\u001b[0m\u001b[0;34m)\u001b[0m\u001b[0;34m\u001b[0m\u001b[0;34m\u001b[0m\u001b[0m\n\u001b[1;32m    211\u001b[0m         \u001b[0;32mreturn\u001b[0m \u001b[0mWsample\u001b[0m\u001b[0;34m\u001b[0m\u001b[0;34m\u001b[0m\u001b[0m\n",
      "\u001b[0;31mIndexError\u001b[0m: list index out of range"
     ]
    }
   ],
   "source": [
    "W_matrices = WOMC.create_w_matrices(WOMC.W, WOMC.joint)\n",
    "bias = np.nansum(WOMC.W, axis=1) - 1\n",
    "Wsample = WOMC.run_window_convolve(WOMC.train, WOMC.train_size, W_matrices, 0, 0, bias)"
   ]
  },
  {
   "cell_type": "code",
   "execution_count": 122,
   "metadata": {},
   "outputs": [],
   "source": [
    "Wsample = np.array(Wsample)"
   ]
  },
  {
   "cell_type": "code",
   "execution_count": 154,
   "metadata": {},
   "outputs": [
    {
     "data": {
      "text/plain": [
       "(10, 2, 56, 56)"
      ]
     },
     "execution_count": 154,
     "metadata": {},
     "output_type": "execute_result"
    }
   ],
   "source": [
    "Wsample.shape"
   ]
  },
  {
   "cell_type": "code",
   "execution_count": 157,
   "metadata": {},
   "outputs": [
    {
     "data": {
      "text/plain": [
       "(56, 56)"
      ]
     },
     "execution_count": 157,
     "metadata": {},
     "output_type": "execute_result"
    }
   ],
   "source": [
    "Wsample[0][-1].shape"
   ]
  },
  {
   "cell_type": "code",
   "execution_count": 125,
   "metadata": {},
   "outputs": [
    {
     "data": {
      "text/plain": [
       "array([[-1., -1., -1., ..., -1., -1., -1.],\n",
       "       [-1., -1., -1., ..., -1., -1., -1.],\n",
       "       [-1., -1., -1., ..., -1., -1., -1.],\n",
       "       ...,\n",
       "       [-1., -1., -1., ..., -1., -1., -1.],\n",
       "       [-1., -1., -1., ..., -1., -1., -1.],\n",
       "       [-1., -1., -1., ..., -1., -1., -1.]])"
      ]
     },
     "execution_count": 125,
     "metadata": {},
     "output_type": "execute_result"
    }
   ],
   "source": [
    "Wsample[0][0]"
   ]
  },
  {
   "cell_type": "code",
   "execution_count": 149,
   "metadata": {},
   "outputs": [],
   "source": [
    "X_img_with_border = np.pad(WOMC.train, ((0, 0), (WOMC.increase, WOMC.increase), (WOMC.increase, WOMC.increase)), mode='constant', constant_values=-1)\n"
   ]
  },
  {
   "cell_type": "code",
   "execution_count": 152,
   "metadata": {},
   "outputs": [
    {
     "data": {
      "text/plain": [
       "((10, 58, 58), (10, 56, 56))"
      ]
     },
     "execution_count": 152,
     "metadata": {},
     "output_type": "execute_result"
    }
   ],
   "source": [
    "X_img_with_border.shape, WOMC.train.shape"
   ]
  },
  {
   "cell_type": "code",
   "execution_count": 128,
   "metadata": {},
   "outputs": [],
   "source": [
    "W_matrices_stacked = np.stack([W_matrices[0]] * WOMC.train_size, axis=0)  # Repetindo W_matrices 100 vezes"
   ]
  },
  {
   "cell_type": "code",
   "execution_count": 135,
   "metadata": {},
   "outputs": [],
   "source": [
    "import cv2"
   ]
  },
  {
   "cell_type": "code",
   "execution_count": 136,
   "metadata": {},
   "outputs": [
    {
     "ename": "error",
     "evalue": "OpenCV(4.7.0) /Users/runner/work/opencv-python/opencv-python/opencv/modules/imgproc/src/filterengine.hpp:367: error: (-215:Assertion failed) anchor.inside(Rect(0, 0, ksize.width, ksize.height)) in function 'normalizeAnchor'\n",
     "output_type": "error",
     "traceback": [
      "\u001b[0;31m---------------------------------------------------------------------------\u001b[0m",
      "\u001b[0;31merror\u001b[0m                                     Traceback (most recent call last)",
      "\u001b[0;32m/var/folders/zs/n_wh27_s5ln1fk586vbgqnn00000gq/T/ipykernel_53024/4166904638.py\u001b[0m in \u001b[0;36m<module>\u001b[0;34m\u001b[0m\n\u001b[0;32m----> 1\u001b[0;31m \u001b[0mX_conv\u001b[0m \u001b[0;34m=\u001b[0m \u001b[0mcv2\u001b[0m\u001b[0;34m.\u001b[0m\u001b[0mfilter2D\u001b[0m\u001b[0;34m(\u001b[0m\u001b[0mX_img_with_border\u001b[0m\u001b[0;34m,\u001b[0m \u001b[0;34m-\u001b[0m\u001b[0;36m1\u001b[0m\u001b[0;34m,\u001b[0m \u001b[0mW_matrices_stacked\u001b[0m\u001b[0;34m)\u001b[0m\u001b[0;34m\u001b[0m\u001b[0;34m\u001b[0m\u001b[0m\n\u001b[0m",
      "\u001b[0;31merror\u001b[0m: OpenCV(4.7.0) /Users/runner/work/opencv-python/opencv-python/opencv/modules/imgproc/src/filterengine.hpp:367: error: (-215:Assertion failed) anchor.inside(Rect(0, 0, ksize.width, ksize.height)) in function 'normalizeAnchor'\n"
     ]
    }
   ],
   "source": [
    "X_conv = cv2.filter2D(X_img_with_border, -1, W_matrices_stacked)\n"
   ]
  },
  {
   "cell_type": "code",
   "execution_count": 143,
   "metadata": {},
   "outputs": [
    {
     "data": {
      "text/plain": [
       "(18, 3, 3)"
      ]
     },
     "execution_count": 143,
     "metadata": {},
     "output_type": "execute_result"
    }
   ],
   "source": [
    "np.array(W_matrices[0]).shape"
   ]
  },
  {
   "cell_type": "code",
   "execution_count": 144,
   "metadata": {},
   "outputs": [
    {
     "ename": "ValueError",
     "evalue": "convolve2d inputs must both be 2-D arrays",
     "output_type": "error",
     "traceback": [
      "\u001b[0;31m---------------------------------------------------------------------------\u001b[0m",
      "\u001b[0;31mValueError\u001b[0m                                Traceback (most recent call last)",
      "\u001b[0;32m/var/folders/zs/n_wh27_s5ln1fk586vbgqnn00000gq/T/ipykernel_53024/1843491709.py\u001b[0m in \u001b[0;36m<module>\u001b[0;34m\u001b[0m\n\u001b[1;32m      4\u001b[0m \u001b[0;34m\u001b[0m\u001b[0m\n\u001b[1;32m      5\u001b[0m \u001b[0;31m# Realizando a convolução em lote\u001b[0m\u001b[0;34m\u001b[0m\u001b[0;34m\u001b[0m\u001b[0m\n\u001b[0;32m----> 6\u001b[0;31m \u001b[0mconvolutions\u001b[0m \u001b[0;34m=\u001b[0m \u001b[0mconvolve2d\u001b[0m\u001b[0;34m(\u001b[0m\u001b[0mX_img_with_border_expanded\u001b[0m\u001b[0;34m,\u001b[0m \u001b[0mW_matrices_expanded\u001b[0m\u001b[0;34m,\u001b[0m \u001b[0mmode\u001b[0m\u001b[0;34m=\u001b[0m\u001b[0;34m'valid'\u001b[0m\u001b[0;34m)\u001b[0m\u001b[0;34m\u001b[0m\u001b[0;34m\u001b[0m\u001b[0m\n\u001b[0m\u001b[1;32m      7\u001b[0m \u001b[0;34m\u001b[0m\u001b[0m\n\u001b[1;32m      8\u001b[0m \u001b[0;31m# Somando os resultados ao longo do eixo das kernels\u001b[0m\u001b[0;34m\u001b[0m\u001b[0;34m\u001b[0m\u001b[0m\n",
      "\u001b[0;32m~/opt/anaconda3/envs/envpy/lib/python3.9/site-packages/scipy/signal/_signaltools.py\u001b[0m in \u001b[0;36mconvolve2d\u001b[0;34m(in1, in2, mode, boundary, fillvalue)\u001b[0m\n\u001b[1;32m   1708\u001b[0m \u001b[0;34m\u001b[0m\u001b[0m\n\u001b[1;32m   1709\u001b[0m     \u001b[0;32mif\u001b[0m \u001b[0;32mnot\u001b[0m \u001b[0min1\u001b[0m\u001b[0;34m.\u001b[0m\u001b[0mndim\u001b[0m \u001b[0;34m==\u001b[0m \u001b[0min2\u001b[0m\u001b[0;34m.\u001b[0m\u001b[0mndim\u001b[0m \u001b[0;34m==\u001b[0m \u001b[0;36m2\u001b[0m\u001b[0;34m:\u001b[0m\u001b[0;34m\u001b[0m\u001b[0;34m\u001b[0m\u001b[0m\n\u001b[0;32m-> 1710\u001b[0;31m         \u001b[0;32mraise\u001b[0m \u001b[0mValueError\u001b[0m\u001b[0;34m(\u001b[0m\u001b[0;34m'convolve2d inputs must both be 2-D arrays'\u001b[0m\u001b[0;34m)\u001b[0m\u001b[0;34m\u001b[0m\u001b[0;34m\u001b[0m\u001b[0m\n\u001b[0m\u001b[1;32m   1711\u001b[0m \u001b[0;34m\u001b[0m\u001b[0m\n\u001b[1;32m   1712\u001b[0m     \u001b[0;32mif\u001b[0m \u001b[0m_inputs_swap_needed\u001b[0m\u001b[0;34m(\u001b[0m\u001b[0mmode\u001b[0m\u001b[0;34m,\u001b[0m \u001b[0min1\u001b[0m\u001b[0;34m.\u001b[0m\u001b[0mshape\u001b[0m\u001b[0;34m,\u001b[0m \u001b[0min2\u001b[0m\u001b[0;34m.\u001b[0m\u001b[0mshape\u001b[0m\u001b[0;34m)\u001b[0m\u001b[0;34m:\u001b[0m\u001b[0;34m\u001b[0m\u001b[0;34m\u001b[0m\u001b[0m\n",
      "\u001b[0;31mValueError\u001b[0m: convolve2d inputs must both be 2-D arrays"
     ]
    }
   ],
   "source": [
    "from scipy.signal import convolve2d\n",
    "X_img_with_border_expanded = X_img_with_border[:, np.newaxis, :, :]\n",
    "W_matrices_expanded = np.array(W_matrices[0])[np.newaxis, :, :, :]\n",
    "\n",
    "# Realizando a convolução em lote\n",
    "convolutions = convolve2d(X_img_with_border_expanded, W_matrices_expanded, mode='valid')\n",
    "\n",
    "# Somando os resultados ao longo do eixo das kernels\n",
    "X_conv = np.sum(convolutions, axis=1)\n"
   ]
  },
  {
   "cell_type": "code",
   "execution_count": null,
   "metadata": {},
   "outputs": [],
   "source": []
  },
  {
   "cell_type": "code",
   "execution_count": 132,
   "metadata": {},
   "outputs": [
    {
     "data": {
      "text/plain": [
       "(18, 3, 3)"
      ]
     },
     "execution_count": 132,
     "metadata": {},
     "output_type": "execute_result"
    }
   ],
   "source": [
    "np.array(W_matrices[0]).shape"
   ]
  },
  {
   "cell_type": "code",
   "execution_count": 129,
   "metadata": {},
   "outputs": [
    {
     "data": {
      "text/plain": [
       "(10, 18, 3, 3)"
      ]
     },
     "execution_count": 129,
     "metadata": {},
     "output_type": "execute_result"
    }
   ],
   "source": [
    "W_matrices_stacked.shape"
   ]
  },
  {
   "cell_type": "code",
   "execution_count": 127,
   "metadata": {},
   "outputs": [
    {
     "data": {
      "text/plain": [
       "(10, 58, 58)"
      ]
     },
     "execution_count": 127,
     "metadata": {},
     "output_type": "execute_result"
    }
   ],
   "source": [
    "X_img_with_border.shape"
   ]
  },
  {
   "cell_type": "code",
   "execution_count": 112,
   "metadata": {},
   "outputs": [
    {
     "data": {
      "text/plain": [
       "10"
      ]
     },
     "execution_count": 112,
     "metadata": {},
     "output_type": "execute_result"
    }
   ],
   "source": [
    "len(Wsample)"
   ]
  },
  {
   "cell_type": "code",
   "execution_count": 115,
   "metadata": {},
   "outputs": [
    {
     "data": {
      "text/plain": [
       "2"
      ]
     },
     "execution_count": 115,
     "metadata": {},
     "output_type": "execute_result"
    }
   ],
   "source": [
    "len(Wsample[0])"
   ]
  },
  {
   "cell_type": "code",
   "execution_count": 119,
   "metadata": {},
   "outputs": [],
   "source": [
    "ll = np.array([0,1,2,3,4,5])\n",
    "lll = np.array([10,11,12,13,14,15])\n",
    "#l_final = [[0,10],[1,11],[2,12],[3,13],[4,14],[5,15]]"
   ]
  },
  {
   "cell_type": "code",
   "execution_count": 120,
   "metadata": {},
   "outputs": [],
   "source": [
    "l_final = np.column_stack((ll, lll))"
   ]
  },
  {
   "cell_type": "code",
   "execution_count": 121,
   "metadata": {},
   "outputs": [
    {
     "data": {
      "text/plain": [
       "(6, 2)"
      ]
     },
     "execution_count": 121,
     "metadata": {},
     "output_type": "execute_result"
    }
   ],
   "source": [
    "l_final.shape"
   ]
  },
  {
   "cell_type": "code",
   "execution_count": null,
   "metadata": {},
   "outputs": [],
   "source": [
    "\n",
    "[[0,10],[1,11],[2,12],[3,13],[4,14],[5,15]]"
   ]
  },
  {
   "cell_type": "code",
   "execution_count": 107,
   "metadata": {},
   "outputs": [],
   "source": [
    "x2 = apply_convolve_sc(WOMC, WOMC.train[0], W_matrices[0], bias[0])"
   ]
  },
  {
   "cell_type": "code",
   "execution_count": 108,
   "metadata": {},
   "outputs": [
    {
     "data": {
      "text/plain": [
       "(56, 56)"
      ]
     },
     "execution_count": 108,
     "metadata": {},
     "output_type": "execute_result"
    }
   ],
   "source": [
    "x2.shape"
   ]
  },
  {
   "cell_type": "code",
   "execution_count": 109,
   "metadata": {},
   "outputs": [
    {
     "data": {
      "text/plain": [
       "False"
      ]
     },
     "execution_count": 109,
     "metadata": {},
     "output_type": "execute_result"
    }
   ],
   "source": [
    "np.array_equal(x1, x2)"
   ]
  },
  {
   "cell_type": "code",
   "execution_count": 76,
   "metadata": {},
   "outputs": [],
   "source": [
    "img = WOMC.train[0].copy()"
   ]
  },
  {
   "cell_type": "code",
   "execution_count": 77,
   "metadata": {},
   "outputs": [],
   "source": [
    "img_c = np.zeros_like(img, dtype=float)"
   ]
  },
  {
   "cell_type": "code",
   "execution_count": 79,
   "metadata": {},
   "outputs": [
    {
     "data": {
      "text/plain": [
       "array([[ 0., -1.,  0.],\n",
       "       [-1., -1., -1.],\n",
       "       [ 0.,  1.,  0.]])"
      ]
     },
     "execution_count": 79,
     "metadata": {},
     "output_type": "execute_result"
    }
   ],
   "source": [
    "W_matrices[0][0]"
   ]
  },
  {
   "cell_type": "code",
   "execution_count": 80,
   "metadata": {},
   "outputs": [],
   "source": [
    "img_b = np.pad(img, ((WOMC.increase, WOMC.increase), (WOMC.increase, WOMC.increase)), mode='constant', constant_values=-1)"
   ]
  },
  {
   "cell_type": "code",
   "execution_count": 82,
   "metadata": {},
   "outputs": [
    {
     "data": {
      "text/plain": [
       "((58, 58), (56, 56))"
      ]
     },
     "execution_count": 82,
     "metadata": {},
     "output_type": "execute_result"
    }
   ],
   "source": [
    "img_b.shape, img.shape"
   ]
  },
  {
   "cell_type": "code",
   "execution_count": 84,
   "metadata": {},
   "outputs": [],
   "source": [
    "img_r = np.convolve(img_b.ravel(), kernel.ravel(), mode='same').reshape(img_b.shape)"
   ]
  },
  {
   "cell_type": "code",
   "execution_count": 86,
   "metadata": {},
   "outputs": [
    {
     "ename": "ValueError",
     "evalue": "cannot reshape array of size 3364 into shape (56,56)",
     "output_type": "error",
     "traceback": [
      "\u001b[0;31m---------------------------------------------------------------------------\u001b[0m",
      "\u001b[0;31mValueError\u001b[0m                                Traceback (most recent call last)",
      "\u001b[0;32m/var/folders/zs/n_wh27_s5ln1fk586vbgqnn00000gq/T/ipykernel_53024/1153438581.py\u001b[0m in \u001b[0;36m<module>\u001b[0;34m\u001b[0m\n\u001b[0;32m----> 1\u001b[0;31m \u001b[0mx2\u001b[0m \u001b[0;34m=\u001b[0m \u001b[0mnp_apply_convolve\u001b[0m\u001b[0;34m(\u001b[0m\u001b[0mWOMC\u001b[0m\u001b[0;34m.\u001b[0m\u001b[0mtrain\u001b[0m\u001b[0;34m[\u001b[0m\u001b[0;36m0\u001b[0m\u001b[0;34m]\u001b[0m\u001b[0;34m,\u001b[0m \u001b[0mW_matrices\u001b[0m\u001b[0;34m[\u001b[0m\u001b[0;36m0\u001b[0m\u001b[0;34m]\u001b[0m\u001b[0;34m,\u001b[0m \u001b[0mbias\u001b[0m\u001b[0;34m[\u001b[0m\u001b[0;36m0\u001b[0m\u001b[0;34m]\u001b[0m\u001b[0;34m)\u001b[0m\u001b[0;34m\u001b[0m\u001b[0;34m\u001b[0m\u001b[0m\n\u001b[0m",
      "\u001b[0;32m/var/folders/zs/n_wh27_s5ln1fk586vbgqnn00000gq/T/ipykernel_53024/3847010002.py\u001b[0m in \u001b[0;36mnp_apply_convolve\u001b[0;34m(img, W_matrices, bias)\u001b[0m\n\u001b[1;32m      1\u001b[0m \u001b[0;32mdef\u001b[0m \u001b[0mnp_apply_convolve\u001b[0m\u001b[0;34m(\u001b[0m\u001b[0mimg\u001b[0m\u001b[0;34m,\u001b[0m \u001b[0mW_matrices\u001b[0m\u001b[0;34m,\u001b[0m \u001b[0mbias\u001b[0m\u001b[0;34m)\u001b[0m\u001b[0;34m:\u001b[0m\u001b[0;34m\u001b[0m\u001b[0;34m\u001b[0m\u001b[0m\n\u001b[1;32m      2\u001b[0m     \u001b[0mimg_b\u001b[0m \u001b[0;34m=\u001b[0m \u001b[0mnp\u001b[0m\u001b[0;34m.\u001b[0m\u001b[0mpad\u001b[0m\u001b[0;34m(\u001b[0m\u001b[0mimg\u001b[0m\u001b[0;34m,\u001b[0m \u001b[0;34m(\u001b[0m\u001b[0;34m(\u001b[0m\u001b[0mWOMC\u001b[0m\u001b[0;34m.\u001b[0m\u001b[0mincrease\u001b[0m\u001b[0;34m,\u001b[0m \u001b[0mWOMC\u001b[0m\u001b[0;34m.\u001b[0m\u001b[0mincrease\u001b[0m\u001b[0;34m)\u001b[0m\u001b[0;34m,\u001b[0m \u001b[0;34m(\u001b[0m\u001b[0mWOMC\u001b[0m\u001b[0;34m.\u001b[0m\u001b[0mincrease\u001b[0m\u001b[0;34m,\u001b[0m \u001b[0mWOMC\u001b[0m\u001b[0;34m.\u001b[0m\u001b[0mincrease\u001b[0m\u001b[0;34m)\u001b[0m\u001b[0;34m)\u001b[0m\u001b[0;34m,\u001b[0m \u001b[0mmode\u001b[0m\u001b[0;34m=\u001b[0m\u001b[0;34m'constant'\u001b[0m\u001b[0;34m,\u001b[0m \u001b[0mconstant_values\u001b[0m\u001b[0;34m=\u001b[0m\u001b[0;34m-\u001b[0m\u001b[0;36m1\u001b[0m\u001b[0;34m)\u001b[0m\u001b[0;34m\u001b[0m\u001b[0;34m\u001b[0m\u001b[0m\n\u001b[0;32m----> 3\u001b[0;31m     \u001b[0mimg_r\u001b[0m \u001b[0;34m=\u001b[0m \u001b[0msum\u001b[0m\u001b[0;34m(\u001b[0m\u001b[0mnp\u001b[0m\u001b[0;34m.\u001b[0m\u001b[0mconvolve\u001b[0m\u001b[0;34m(\u001b[0m\u001b[0mimg_b\u001b[0m\u001b[0;34m.\u001b[0m\u001b[0mravel\u001b[0m\u001b[0;34m(\u001b[0m\u001b[0;34m)\u001b[0m\u001b[0;34m,\u001b[0m \u001b[0mkernel\u001b[0m\u001b[0;34m.\u001b[0m\u001b[0mravel\u001b[0m\u001b[0;34m(\u001b[0m\u001b[0;34m)\u001b[0m\u001b[0;34m,\u001b[0m \u001b[0mmode\u001b[0m\u001b[0;34m=\u001b[0m\u001b[0;34m'same'\u001b[0m\u001b[0;34m)\u001b[0m\u001b[0;34m.\u001b[0m\u001b[0mreshape\u001b[0m\u001b[0;34m(\u001b[0m\u001b[0mimg\u001b[0m\u001b[0;34m.\u001b[0m\u001b[0mshape\u001b[0m\u001b[0;34m)\u001b[0m \u001b[0;32mfor\u001b[0m \u001b[0mkernel\u001b[0m \u001b[0;32min\u001b[0m \u001b[0mW_matrices\u001b[0m\u001b[0;34m)\u001b[0m \u001b[0;34m-\u001b[0m \u001b[0mbias\u001b[0m\u001b[0;34m\u001b[0m\u001b[0;34m\u001b[0m\u001b[0m\n\u001b[0m\u001b[1;32m      4\u001b[0m     \u001b[0mimg_c\u001b[0m \u001b[0;34m=\u001b[0m \u001b[0;34m(\u001b[0m\u001b[0mimg_r\u001b[0m \u001b[0;34m>\u001b[0m \u001b[0;36m0\u001b[0m\u001b[0;34m)\u001b[0m\u001b[0;34m.\u001b[0m\u001b[0mastype\u001b[0m\u001b[0;34m(\u001b[0m\u001b[0mfloat\u001b[0m\u001b[0;34m)\u001b[0m\u001b[0;34m\u001b[0m\u001b[0;34m\u001b[0m\u001b[0m\n\u001b[1;32m      5\u001b[0m     \u001b[0mimg_c\u001b[0m\u001b[0;34m[\u001b[0m\u001b[0mimg_c\u001b[0m \u001b[0;34m==\u001b[0m \u001b[0;36m0\u001b[0m\u001b[0;34m]\u001b[0m \u001b[0;34m=\u001b[0m \u001b[0;34m-\u001b[0m\u001b[0;36m1\u001b[0m\u001b[0;34m\u001b[0m\u001b[0;34m\u001b[0m\u001b[0m\n",
      "\u001b[0;32m/var/folders/zs/n_wh27_s5ln1fk586vbgqnn00000gq/T/ipykernel_53024/3847010002.py\u001b[0m in \u001b[0;36m<genexpr>\u001b[0;34m(.0)\u001b[0m\n\u001b[1;32m      1\u001b[0m \u001b[0;32mdef\u001b[0m \u001b[0mnp_apply_convolve\u001b[0m\u001b[0;34m(\u001b[0m\u001b[0mimg\u001b[0m\u001b[0;34m,\u001b[0m \u001b[0mW_matrices\u001b[0m\u001b[0;34m,\u001b[0m \u001b[0mbias\u001b[0m\u001b[0;34m)\u001b[0m\u001b[0;34m:\u001b[0m\u001b[0;34m\u001b[0m\u001b[0;34m\u001b[0m\u001b[0m\n\u001b[1;32m      2\u001b[0m     \u001b[0mimg_b\u001b[0m \u001b[0;34m=\u001b[0m \u001b[0mnp\u001b[0m\u001b[0;34m.\u001b[0m\u001b[0mpad\u001b[0m\u001b[0;34m(\u001b[0m\u001b[0mimg\u001b[0m\u001b[0;34m,\u001b[0m \u001b[0;34m(\u001b[0m\u001b[0;34m(\u001b[0m\u001b[0mWOMC\u001b[0m\u001b[0;34m.\u001b[0m\u001b[0mincrease\u001b[0m\u001b[0;34m,\u001b[0m \u001b[0mWOMC\u001b[0m\u001b[0;34m.\u001b[0m\u001b[0mincrease\u001b[0m\u001b[0;34m)\u001b[0m\u001b[0;34m,\u001b[0m \u001b[0;34m(\u001b[0m\u001b[0mWOMC\u001b[0m\u001b[0;34m.\u001b[0m\u001b[0mincrease\u001b[0m\u001b[0;34m,\u001b[0m \u001b[0mWOMC\u001b[0m\u001b[0;34m.\u001b[0m\u001b[0mincrease\u001b[0m\u001b[0;34m)\u001b[0m\u001b[0;34m)\u001b[0m\u001b[0;34m,\u001b[0m \u001b[0mmode\u001b[0m\u001b[0;34m=\u001b[0m\u001b[0;34m'constant'\u001b[0m\u001b[0;34m,\u001b[0m \u001b[0mconstant_values\u001b[0m\u001b[0;34m=\u001b[0m\u001b[0;34m-\u001b[0m\u001b[0;36m1\u001b[0m\u001b[0;34m)\u001b[0m\u001b[0;34m\u001b[0m\u001b[0;34m\u001b[0m\u001b[0m\n\u001b[0;32m----> 3\u001b[0;31m     \u001b[0mimg_r\u001b[0m \u001b[0;34m=\u001b[0m \u001b[0msum\u001b[0m\u001b[0;34m(\u001b[0m\u001b[0mnp\u001b[0m\u001b[0;34m.\u001b[0m\u001b[0mconvolve\u001b[0m\u001b[0;34m(\u001b[0m\u001b[0mimg_b\u001b[0m\u001b[0;34m.\u001b[0m\u001b[0mravel\u001b[0m\u001b[0;34m(\u001b[0m\u001b[0;34m)\u001b[0m\u001b[0;34m,\u001b[0m \u001b[0mkernel\u001b[0m\u001b[0;34m.\u001b[0m\u001b[0mravel\u001b[0m\u001b[0;34m(\u001b[0m\u001b[0;34m)\u001b[0m\u001b[0;34m,\u001b[0m \u001b[0mmode\u001b[0m\u001b[0;34m=\u001b[0m\u001b[0;34m'same'\u001b[0m\u001b[0;34m)\u001b[0m\u001b[0;34m.\u001b[0m\u001b[0mreshape\u001b[0m\u001b[0;34m(\u001b[0m\u001b[0mimg\u001b[0m\u001b[0;34m.\u001b[0m\u001b[0mshape\u001b[0m\u001b[0;34m)\u001b[0m \u001b[0;32mfor\u001b[0m \u001b[0mkernel\u001b[0m \u001b[0;32min\u001b[0m \u001b[0mW_matrices\u001b[0m\u001b[0;34m)\u001b[0m \u001b[0;34m-\u001b[0m \u001b[0mbias\u001b[0m\u001b[0;34m\u001b[0m\u001b[0;34m\u001b[0m\u001b[0m\n\u001b[0m\u001b[1;32m      4\u001b[0m     \u001b[0mimg_c\u001b[0m \u001b[0;34m=\u001b[0m \u001b[0;34m(\u001b[0m\u001b[0mimg_r\u001b[0m \u001b[0;34m>\u001b[0m \u001b[0;36m0\u001b[0m\u001b[0;34m)\u001b[0m\u001b[0;34m.\u001b[0m\u001b[0mastype\u001b[0m\u001b[0;34m(\u001b[0m\u001b[0mfloat\u001b[0m\u001b[0;34m)\u001b[0m\u001b[0;34m\u001b[0m\u001b[0;34m\u001b[0m\u001b[0m\n\u001b[1;32m      5\u001b[0m     \u001b[0mimg_c\u001b[0m\u001b[0;34m[\u001b[0m\u001b[0mimg_c\u001b[0m \u001b[0;34m==\u001b[0m \u001b[0;36m0\u001b[0m\u001b[0;34m]\u001b[0m \u001b[0;34m=\u001b[0m \u001b[0;34m-\u001b[0m\u001b[0;36m1\u001b[0m\u001b[0;34m\u001b[0m\u001b[0;34m\u001b[0m\u001b[0m\n",
      "\u001b[0;31mValueError\u001b[0m: cannot reshape array of size 3364 into shape (56,56)"
     ]
    }
   ],
   "source": [
    "x2 = np_apply_convolve(WOMC.train[0], W_matrices[0], bias[0])"
   ]
  },
  {
   "cell_type": "code",
   "execution_count": 59,
   "metadata": {},
   "outputs": [
    {
     "data": {
      "text/plain": [
       "[array([[ 0.,  0.,  0.],\n",
       "        [-1., -1., -1.],\n",
       "        [ 0.,  0.,  0.]]),\n",
       " array([[ 0.,  0.,  0.],\n",
       "        [-1.,  1., -1.],\n",
       "        [ 0.,  0.,  0.]]),\n",
       " array([[ 0.,  0.,  0.],\n",
       "        [-1.,  1.,  1.],\n",
       "        [ 0.,  0.,  0.]]),\n",
       " array([[ 0.,  0.,  0.],\n",
       "        [ 1., -1., -1.],\n",
       "        [ 0.,  0.,  0.]])]"
      ]
     },
     "execution_count": 59,
     "metadata": {},
     "output_type": "execute_result"
    }
   ],
   "source": [
    "W_matrices[0]"
   ]
  },
  {
   "cell_type": "code",
   "execution_count": 51,
   "metadata": {},
   "outputs": [],
   "source": [
    "reduced_minterms = find_minterms(joint_[0])"
   ]
  },
  {
   "cell_type": "code",
   "execution_count": 52,
   "metadata": {},
   "outputs": [
    {
     "data": {
      "text/plain": [
       "array([[0, 0, 1],\n",
       "       [1, 0, 0],\n",
       "       [1, 0, 1],\n",
       "       [1, 1, 0],\n",
       "       [1, 1, 1]])"
      ]
     },
     "execution_count": 52,
     "metadata": {},
     "output_type": "execute_result"
    }
   ],
   "source": [
    "reduced_minterms"
   ]
  },
  {
   "cell_type": "code",
   "execution_count": 47,
   "metadata": {},
   "outputs": [
    {
     "data": {
      "text/plain": [
       "array([3, 4, 5])"
      ]
     },
     "execution_count": 47,
     "metadata": {},
     "output_type": "execute_result"
    }
   ],
   "source": [
    "np.where(W_[0]==1)[0]"
   ]
  },
  {
   "cell_type": "code",
   "execution_count": 48,
   "metadata": {},
   "outputs": [
    {
     "data": {
      "text/plain": [
       "array([nan, nan, nan,  1.,  1.,  1., nan, nan, nan])"
      ]
     },
     "execution_count": 48,
     "metadata": {},
     "output_type": "execute_result"
    }
   ],
   "source": [
    "matrix = W_[0].copy()\n",
    "matrix"
   ]
  },
  {
   "cell_type": "code",
   "execution_count": 50,
   "metadata": {},
   "outputs": [
    {
     "data": {
      "text/plain": [
       "array([0, 0, 1])"
      ]
     },
     "execution_count": 50,
     "metadata": {},
     "output_type": "execute_result"
    }
   ],
   "source": [
    "reduced_minterms[0]"
   ]
  },
  {
   "cell_type": "code",
   "execution_count": 53,
   "metadata": {},
   "outputs": [
    {
     "data": {
      "text/plain": [
       "array([nan, nan, nan,  1.,  0.,  0., nan, nan, nan])"
      ]
     },
     "execution_count": 53,
     "metadata": {},
     "output_type": "execute_result"
    }
   ],
   "source": [
    "matrix = W_[0].copy()\n",
    "matrix[np.where(W_[0] == 1)] = reduced_minterms[1]\n",
    "matrix"
   ]
  },
  {
   "cell_type": "code",
   "execution_count": 55,
   "metadata": {},
   "outputs": [
    {
     "data": {
      "text/plain": [
       "array([ 0.,  0.,  0.,  1., -1., -1.,  0.,  0.,  0.])"
      ]
     },
     "execution_count": 55,
     "metadata": {},
     "output_type": "execute_result"
    }
   ],
   "source": [
    "matrix = np.where(matrix == 0, -1, matrix)\n",
    "matrix = np.nan_to_num(matrix)\n",
    "matrix"
   ]
  },
  {
   "cell_type": "code",
   "execution_count": 45,
   "metadata": {},
   "outputs": [
    {
     "data": {
      "text/plain": [
       "[array([[nan, nan, nan],\n",
       "        [-1., -1.,  1.],\n",
       "        [nan, nan, nan]]),\n",
       " array([[nan, nan, nan],\n",
       "        [ 1., -1., -1.],\n",
       "        [nan, nan, nan]]),\n",
       " array([[nan, nan, nan],\n",
       "        [ 1., -1.,  1.],\n",
       "        [nan, nan, nan]]),\n",
       " array([[nan, nan, nan],\n",
       "        [ 1.,  1., -1.],\n",
       "        [nan, nan, nan]]),\n",
       " array([[nan, nan, nan],\n",
       "        [ 1.,  1.,  1.],\n",
       "        [nan, nan, nan]])]"
      ]
     },
     "execution_count": 45,
     "metadata": {},
     "output_type": "execute_result"
    }
   ],
   "source": [
    "W_matrices[0]"
   ]
  },
  {
   "cell_type": "code",
   "execution_count": 43,
   "metadata": {},
   "outputs": [
    {
     "data": {
      "text/plain": [
       "array([[0, 0, 0, 1],\n",
       "       [0, 0, 1, 1],\n",
       "       [0, 1, 0, 0],\n",
       "       [0, 1, 1, 0],\n",
       "       [1, 0, 0, 1],\n",
       "       [1, 0, 1, 1],\n",
       "       [1, 1, 0, 0],\n",
       "       [1, 1, 1, 1]])"
      ]
     },
     "execution_count": 43,
     "metadata": {},
     "output_type": "execute_result"
    }
   ],
   "source": [
    "joint_[0]"
   ]
  },
  {
   "cell_type": "code",
   "execution_count": 40,
   "metadata": {},
   "outputs": [
    {
     "data": {
      "text/plain": [
       "array([[0, 0, 0],\n",
       "       [0, 0, 1],\n",
       "       [0, 1, 0],\n",
       "       [0, 1, 1],\n",
       "       [1, 0, 0],\n",
       "       [1, 0, 1],\n",
       "       [1, 1, 0],\n",
       "       [1, 1, 1]])"
      ]
     },
     "execution_count": 40,
     "metadata": {},
     "output_type": "execute_result"
    }
   ],
   "source": [
    "joint_[0][:, :-1]"
   ]
  },
  {
   "cell_type": "code",
   "execution_count": 39,
   "metadata": {},
   "outputs": [],
   "source": [
    "reduced_minterms = WOMC.find_minterms(WOMC.joint[0])"
   ]
  },
  {
   "cell_type": "code",
   "execution_count": null,
   "metadata": {},
   "outputs": [],
   "source": []
  },
  {
   "cell_type": "code",
   "execution_count": 25,
   "metadata": {},
   "outputs": [
    {
     "data": {
      "text/plain": [
       "[array([[0, 0, 0, 1],\n",
       "        [0, 0, 1, 1],\n",
       "        [0, 1, 0, 0],\n",
       "        [0, 1, 1, 0],\n",
       "        [1, 0, 0, 1],\n",
       "        [1, 0, 1, 1],\n",
       "        [1, 1, 0, 0],\n",
       "        [1, 1, 1, 1]]),\n",
       " array([[0, 0, 0, 1],\n",
       "        [0, 0, 1, 1],\n",
       "        [0, 1, 0, 1],\n",
       "        [0, 1, 1, 1],\n",
       "        [1, 0, 0, 1],\n",
       "        [1, 0, 1, 0],\n",
       "        [1, 1, 0, 0],\n",
       "        [1, 1, 1, 1]])]"
      ]
     },
     "execution_count": 25,
     "metadata": {},
     "output_type": "execute_result"
    }
   ],
   "source": [
    "joint_"
   ]
  },
  {
   "cell_type": "code",
   "execution_count": 27,
   "metadata": {},
   "outputs": [
    {
     "data": {
      "text/plain": [
       "[array([[nan, nan, nan],\n",
       "        [-1., -1., -1.],\n",
       "        [nan, nan, nan]]),\n",
       " array([[nan, nan, nan],\n",
       "        [-1., -1., -1.],\n",
       "        [nan, nan, nan]]),\n",
       " array([[nan, nan, nan],\n",
       "        [ 1.,  1.,  1.],\n",
       "        [nan, nan, nan]]),\n",
       " array([[nan, nan, nan],\n",
       "        [ 1.,  1.,  1.],\n",
       "        [nan, nan, nan]])]"
      ]
     },
     "execution_count": 27,
     "metadata": {},
     "output_type": "execute_result"
    }
   ],
   "source": [
    "W_matrices[0]"
   ]
  },
  {
   "cell_type": "code",
   "execution_count": 26,
   "metadata": {},
   "outputs": [
    {
     "data": {
      "text/plain": [
       "[[array([[ 0., -1.,  0.],\n",
       "         [-1., -1., -1.],\n",
       "         [ 0.,  1.,  0.]]),\n",
       "  array([[ 0., -1.,  0.],\n",
       "         [-1., -1.,  1.],\n",
       "         [ 0., -1.,  0.]]),\n",
       "  array([[ 0., -1.,  0.],\n",
       "         [-1.,  1., -1.],\n",
       "         [ 0., -1.,  0.]]),\n",
       "  array([[ 0., -1.,  0.],\n",
       "         [-1.,  1., -1.],\n",
       "         [ 0.,  1.,  0.]]),\n",
       "  array([[ 0., -1.,  0.],\n",
       "         [-1.,  1.,  1.],\n",
       "         [ 0., -1.,  0.]]),\n",
       "  array([[ 0., -1.,  0.],\n",
       "         [-1.,  1.,  1.],\n",
       "         [ 0.,  1.,  0.]]),\n",
       "  array([[ 0., -1.,  0.],\n",
       "         [ 1., -1., -1.],\n",
       "         [ 0., -1.,  0.]]),\n",
       "  array([[ 0., -1.,  0.],\n",
       "         [ 1., -1., -1.],\n",
       "         [ 0.,  1.,  0.]]),\n",
       "  array([[ 0., -1.,  0.],\n",
       "         [ 1., -1.,  1.],\n",
       "         [ 0., -1.,  0.]]),\n",
       "  array([[ 0., -1.,  0.],\n",
       "         [ 1.,  1., -1.],\n",
       "         [ 0.,  1.,  0.]]),\n",
       "  array([[ 0.,  1.,  0.],\n",
       "         [-1., -1.,  1.],\n",
       "         [ 0.,  1.,  0.]]),\n",
       "  array([[ 0.,  1.,  0.],\n",
       "         [-1.,  1., -1.],\n",
       "         [ 0.,  1.,  0.]]),\n",
       "  array([[ 0.,  1.,  0.],\n",
       "         [-1.,  1.,  1.],\n",
       "         [ 0., -1.,  0.]]),\n",
       "  array([[ 0.,  1.,  0.],\n",
       "         [ 1., -1., -1.],\n",
       "         [ 0.,  1.,  0.]]),\n",
       "  array([[ 0.,  1.,  0.],\n",
       "         [ 1., -1.,  1.],\n",
       "         [ 0., -1.,  0.]]),\n",
       "  array([[ 0.,  1.,  0.],\n",
       "         [ 1., -1.,  1.],\n",
       "         [ 0.,  1.,  0.]]),\n",
       "  array([[ 0.,  1.,  0.],\n",
       "         [ 1.,  1., -1.],\n",
       "         [ 0., -1.,  0.]]),\n",
       "  array([[ 0.,  1.,  0.],\n",
       "         [ 1.,  1.,  1.],\n",
       "         [ 0., -1.,  0.]])],\n",
       " [array([[ 0., -1.,  0.],\n",
       "         [-1., -1., -1.],\n",
       "         [ 0., -1.,  0.]]),\n",
       "  array([[ 0., -1.,  0.],\n",
       "         [-1., -1.,  1.],\n",
       "         [ 0., -1.,  0.]]),\n",
       "  array([[ 0., -1.,  0.],\n",
       "         [-1., -1.,  1.],\n",
       "         [ 0.,  1.,  0.]]),\n",
       "  array([[ 0., -1.,  0.],\n",
       "         [-1.,  1., -1.],\n",
       "         [ 0.,  1.,  0.]]),\n",
       "  array([[ 0., -1.,  0.],\n",
       "         [-1.,  1.,  1.],\n",
       "         [ 0., -1.,  0.]]),\n",
       "  array([[ 0., -1.,  0.],\n",
       "         [ 1., -1., -1.],\n",
       "         [ 0.,  1.,  0.]]),\n",
       "  array([[ 0., -1.,  0.],\n",
       "         [ 1., -1.,  1.],\n",
       "         [ 0.,  1.,  0.]]),\n",
       "  array([[ 0., -1.,  0.],\n",
       "         [ 1.,  1., -1.],\n",
       "         [ 0., -1.,  0.]]),\n",
       "  array([[ 0., -1.,  0.],\n",
       "         [ 1.,  1., -1.],\n",
       "         [ 0.,  1.,  0.]]),\n",
       "  array([[ 0., -1.,  0.],\n",
       "         [ 1.,  1.,  1.],\n",
       "         [ 0., -1.,  0.]]),\n",
       "  array([[ 0., -1.,  0.],\n",
       "         [ 1.,  1.,  1.],\n",
       "         [ 0.,  1.,  0.]]),\n",
       "  array([[ 0.,  1.,  0.],\n",
       "         [-1., -1., -1.],\n",
       "         [ 0.,  1.,  0.]]),\n",
       "  array([[ 0.,  1.,  0.],\n",
       "         [-1., -1.,  1.],\n",
       "         [ 0.,  1.,  0.]]),\n",
       "  array([[ 0.,  1.,  0.],\n",
       "         [-1.,  1., -1.],\n",
       "         [ 0., -1.,  0.]]),\n",
       "  array([[ 0.,  1.,  0.],\n",
       "         [-1.,  1., -1.],\n",
       "         [ 0.,  1.,  0.]]),\n",
       "  array([[ 0.,  1.,  0.],\n",
       "         [-1.,  1.,  1.],\n",
       "         [ 0., -1.,  0.]]),\n",
       "  array([[ 0.,  1.,  0.],\n",
       "         [ 1., -1., -1.],\n",
       "         [ 0., -1.,  0.]]),\n",
       "  array([[ 0.,  1.,  0.],\n",
       "         [ 1., -1.,  1.],\n",
       "         [ 0.,  1.,  0.]]),\n",
       "  array([[ 0.,  1.,  0.],\n",
       "         [ 1.,  1., -1.],\n",
       "         [ 0., -1.,  0.]]),\n",
       "  array([[ 0.,  1.,  0.],\n",
       "         [ 1.,  1.,  1.],\n",
       "         [ 0., -1.,  0.]])]]"
      ]
     },
     "execution_count": 26,
     "metadata": {},
     "output_type": "execute_result"
    }
   ],
   "source": [
    "WOMC.create_w_matrices(WOMC.W, WOMC.joint)"
   ]
  },
  {
   "cell_type": "code",
   "execution_count": null,
   "metadata": {},
   "outputs": [],
   "source": []
  },
  {
   "cell_type": "code",
   "execution_count": null,
   "metadata": {},
   "outputs": [],
   "source": []
  },
  {
   "cell_type": "code",
   "execution_count": 113,
   "metadata": {},
   "outputs": [
    {
     "data": {
      "text/plain": [
       "{'W_key': [],\n",
       " 'epoch_w': [],\n",
       " 'epoch_f': [],\n",
       " 'error': [],\n",
       " 'time': [],\n",
       " 'window_size_0': [],\n",
       " 'window_size_1': []}"
      ]
     },
     "execution_count": 113,
     "metadata": {},
     "output_type": "execute_result"
    }
   ],
   "source": [
    "error_ep_f = {\"W_key\": [], \"epoch_w\": [], \"epoch_f\":[], \"error\":[], \"time\":[] }\n",
    "wind_size_dict = {f'window_size_{i}': [] for i in range(WOMC.nlayer)}\n",
    "error_ep_f = {key: value for d in [error_ep_f, wind_size_dict] for key, value in d.items()}\n",
    "error_ep_f"
   ]
  },
  {
   "cell_type": "code",
   "execution_count": 114,
   "metadata": {},
   "outputs": [],
   "source": [
    "aa = np.array([[1,2,3], [4,5,6], [7,8,9]])"
   ]
  },
  {
   "cell_type": "code",
   "execution_count": 116,
   "metadata": {},
   "outputs": [
    {
     "data": {
      "text/plain": [
       "array([[1, 2, 3],\n",
       "       [4, 5, 6],\n",
       "       [7, 8, 9]])"
      ]
     },
     "execution_count": 116,
     "metadata": {},
     "output_type": "execute_result"
    }
   ],
   "source": [
    "aa"
   ]
  },
  {
   "cell_type": "code",
   "execution_count": 118,
   "metadata": {},
   "outputs": [
    {
     "data": {
      "text/plain": [
       "array([1, 2, 3])"
      ]
     },
     "execution_count": 118,
     "metadata": {},
     "output_type": "execute_result"
    }
   ],
   "source": [
    "aa[0]"
   ]
  },
  {
   "cell_type": "code",
   "execution_count": 122,
   "metadata": {},
   "outputs": [
    {
     "data": {
      "text/plain": [
       "array([[ 1,  2,  3],\n",
       "       [ 4,  5,  6],\n",
       "       [ 7,  8,  9],\n",
       "       [10, 20, 30]])"
      ]
     },
     "execution_count": 122,
     "metadata": {},
     "output_type": "execute_result"
    }
   ],
   "source": [
    "np.vstack((aa, np.array([10,20,30])))"
   ]
  },
  {
   "cell_type": "code",
   "execution_count": 1,
   "metadata": {},
   "outputs": [],
   "source": [
    "import numpy as np\n",
    "import itertools\n",
    "\n",
    "def create_joint(W):\n",
    "    ni = np.sum(~np.isnan(W))\n",
    "    binary_combinations = np.array(list(itertools.product([0, 1], repeat=int(ni))))\n",
    "    random_values = np.random.randint(2, size=len(binary_combinations))\n",
    "    return np.column_stack((binary_combinations, random_values))"
   ]
  },
  {
   "cell_type": "code",
   "execution_count": 112,
   "metadata": {},
   "outputs": [
    {
     "data": {
      "text/plain": [
       "array([['00000', '1'],\n",
       "       ['00001', '1'],\n",
       "       ['00010', '1'],\n",
       "       ['00011', '0'],\n",
       "       ['00100', '0'],\n",
       "       ['00101', '1'],\n",
       "       ['00110', '1'],\n",
       "       ['00111', '0'],\n",
       "       ['01000', '1'],\n",
       "       ['01001', '0'],\n",
       "       ['01010', '0'],\n",
       "       ['01011', '0'],\n",
       "       ['01100', '1'],\n",
       "       ['01101', '0'],\n",
       "       ['01110', '1'],\n",
       "       ['01111', '0'],\n",
       "       ['10000', '1'],\n",
       "       ['10001', '1'],\n",
       "       ['10010', '0'],\n",
       "       ['10011', '0'],\n",
       "       ['10100', '0'],\n",
       "       ['10101', '1'],\n",
       "       ['10110', '0'],\n",
       "       ['10111', '1'],\n",
       "       ['11000', '0'],\n",
       "       ['11001', '1'],\n",
       "       ['11010', '0'],\n",
       "       ['11011', '0'],\n",
       "       ['11100', '1'],\n",
       "       ['11101', '0'],\n",
       "       ['11110', '0'],\n",
       "       ['11111', '0']], dtype='<U21')"
      ]
     },
     "execution_count": 112,
     "metadata": {},
     "output_type": "execute_result"
    }
   ],
   "source": [
    "create_joint(WOMC.W[0])"
   ]
  },
  {
   "cell_type": "code",
   "execution_count": 101,
   "metadata": {},
   "outputs": [
    {
     "data": {
      "text/plain": [
       "array([[0, 0, 0, 0, 0],\n",
       "       [0, 0, 0, 0, 1],\n",
       "       [0, 0, 0, 1, 0],\n",
       "       [0, 0, 0, 1, 1],\n",
       "       [0, 0, 1, 0, 0],\n",
       "       [0, 0, 1, 0, 1],\n",
       "       [0, 0, 1, 1, 0],\n",
       "       [0, 0, 1, 1, 1],\n",
       "       [0, 1, 0, 0, 0],\n",
       "       [0, 1, 0, 0, 1],\n",
       "       [0, 1, 0, 1, 0],\n",
       "       [0, 1, 0, 1, 1],\n",
       "       [0, 1, 1, 0, 0],\n",
       "       [0, 1, 1, 0, 1],\n",
       "       [0, 1, 1, 1, 0],\n",
       "       [0, 1, 1, 1, 1],\n",
       "       [1, 0, 0, 0, 0],\n",
       "       [1, 0, 0, 0, 1],\n",
       "       [1, 0, 0, 1, 0],\n",
       "       [1, 0, 0, 1, 1],\n",
       "       [1, 0, 1, 0, 0],\n",
       "       [1, 0, 1, 0, 1],\n",
       "       [1, 0, 1, 1, 0],\n",
       "       [1, 0, 1, 1, 1],\n",
       "       [1, 1, 0, 0, 0],\n",
       "       [1, 1, 0, 0, 1],\n",
       "       [1, 1, 0, 1, 0],\n",
       "       [1, 1, 0, 1, 1],\n",
       "       [1, 1, 1, 0, 0],\n",
       "       [1, 1, 1, 0, 1],\n",
       "       [1, 1, 1, 1, 0],\n",
       "       [1, 1, 1, 1, 1]])"
      ]
     },
     "execution_count": 101,
     "metadata": {},
     "output_type": "execute_result"
    }
   ],
   "source": [
    "import itertools\n",
    "ni = int(np.sum(~np.isnan(WOMC.W[0])))\n",
    "binary_combinations = np.array(list(itertools.product([0, 1], repeat=ni)))\n",
    "binary_combinations"
   ]
  },
  {
   "cell_type": "code",
   "execution_count": 107,
   "metadata": {},
   "outputs": [
    {
     "data": {
      "text/plain": [
       "32"
      ]
     },
     "execution_count": 107,
     "metadata": {},
     "output_type": "execute_result"
    }
   ],
   "source": [
    "len(binary_combinations)"
   ]
  },
  {
   "cell_type": "code",
   "execution_count": 108,
   "metadata": {},
   "outputs": [
    {
     "data": {
      "text/plain": [
       "array([0, 0, 0, 0, 0])"
      ]
     },
     "execution_count": 108,
     "metadata": {},
     "output_type": "execute_result"
    }
   ],
   "source": [
    "binary_combinations[0]"
   ]
  },
  {
   "cell_type": "code",
   "execution_count": 103,
   "metadata": {},
   "outputs": [],
   "source": [
    "random_values = np.random.randint(2, size=len(binary_combinations))"
   ]
  },
  {
   "cell_type": "code",
   "execution_count": 104,
   "metadata": {},
   "outputs": [
    {
     "data": {
      "text/plain": [
       "array([1, 1, 1, 1, 1, 1, 0, 0, 0, 0, 0, 0, 0, 0, 0, 1, 1, 1, 0, 0, 0, 1,\n",
       "       1, 0, 1, 0, 1, 1, 0, 0, 1, 1])"
      ]
     },
     "execution_count": 104,
     "metadata": {},
     "output_type": "execute_result"
    }
   ],
   "source": [
    "random_values"
   ]
  },
  {
   "cell_type": "code",
   "execution_count": 105,
   "metadata": {},
   "outputs": [
    {
     "data": {
      "text/plain": [
       "array([[0, 0, 0, 0, 0, 1],\n",
       "       [0, 0, 0, 0, 1, 1],\n",
       "       [0, 0, 0, 1, 0, 1],\n",
       "       [0, 0, 0, 1, 1, 1],\n",
       "       [0, 0, 1, 0, 0, 1],\n",
       "       [0, 0, 1, 0, 1, 1],\n",
       "       [0, 0, 1, 1, 0, 0],\n",
       "       [0, 0, 1, 1, 1, 0],\n",
       "       [0, 1, 0, 0, 0, 0],\n",
       "       [0, 1, 0, 0, 1, 0],\n",
       "       [0, 1, 0, 1, 0, 0],\n",
       "       [0, 1, 0, 1, 1, 0],\n",
       "       [0, 1, 1, 0, 0, 0],\n",
       "       [0, 1, 1, 0, 1, 0],\n",
       "       [0, 1, 1, 1, 0, 0],\n",
       "       [0, 1, 1, 1, 1, 1],\n",
       "       [1, 0, 0, 0, 0, 1],\n",
       "       [1, 0, 0, 0, 1, 1],\n",
       "       [1, 0, 0, 1, 0, 0],\n",
       "       [1, 0, 0, 1, 1, 0],\n",
       "       [1, 0, 1, 0, 0, 0],\n",
       "       [1, 0, 1, 0, 1, 1],\n",
       "       [1, 0, 1, 1, 0, 1],\n",
       "       [1, 0, 1, 1, 1, 0],\n",
       "       [1, 1, 0, 0, 0, 1],\n",
       "       [1, 1, 0, 0, 1, 0],\n",
       "       [1, 1, 0, 1, 0, 1],\n",
       "       [1, 1, 0, 1, 1, 1],\n",
       "       [1, 1, 1, 0, 0, 0],\n",
       "       [1, 1, 1, 0, 1, 0],\n",
       "       [1, 1, 1, 1, 0, 1],\n",
       "       [1, 1, 1, 1, 1, 1]])"
      ]
     },
     "execution_count": 105,
     "metadata": {},
     "output_type": "execute_result"
    }
   ],
   "source": [
    "np.column_stack((binary_combinations, random_values))"
   ]
  },
  {
   "cell_type": "code",
   "execution_count": 109,
   "metadata": {},
   "outputs": [],
   "source": [
    "aa = np.column_stack((binary_strings, random_values))"
   ]
  },
  {
   "cell_type": "code",
   "execution_count": 110,
   "metadata": {},
   "outputs": [
    {
     "data": {
      "text/plain": [
       "array(['00000', '1'], dtype='<U21')"
      ]
     },
     "execution_count": 110,
     "metadata": {},
     "output_type": "execute_result"
    }
   ],
   "source": [
    "aa[0]"
   ]
  },
  {
   "cell_type": "code",
   "execution_count": 102,
   "metadata": {},
   "outputs": [
    {
     "data": {
      "text/plain": [
       "['00000',\n",
       " '00001',\n",
       " '00010',\n",
       " '00011',\n",
       " '00100',\n",
       " '00101',\n",
       " '00110',\n",
       " '00111',\n",
       " '01000',\n",
       " '01001',\n",
       " '01010',\n",
       " '01011',\n",
       " '01100',\n",
       " '01101',\n",
       " '01110',\n",
       " '01111',\n",
       " '10000',\n",
       " '10001',\n",
       " '10010',\n",
       " '10011',\n",
       " '10100',\n",
       " '10101',\n",
       " '10110',\n",
       " '10111',\n",
       " '11000',\n",
       " '11001',\n",
       " '11010',\n",
       " '11011',\n",
       " '11100',\n",
       " '11101',\n",
       " '11110',\n",
       " '11111']"
      ]
     },
     "execution_count": 102,
     "metadata": {},
     "output_type": "execute_result"
    }
   ],
   "source": [
    "binary_strings = [''.join(map(str, row)) for row in binary_combinations]\n",
    "binary_strings"
   ]
  },
  {
   "cell_type": "code",
   "execution_count": null,
   "metadata": {},
   "outputs": [],
   "source": []
  },
  {
   "cell_type": "code",
   "execution_count": 94,
   "metadata": {},
   "outputs": [
    {
     "name": "stdout",
     "output_type": "stream",
     "text": [
      "0.9081128851953352\n",
      "0.5046868558173903\n",
      "0.28183784439970383\n",
      "0.7558042041572239\n",
      "0.6183689966753316\n",
      "0.25050634136244054\n",
      "0.9097462559682401\n",
      "0.9827854760376531\n",
      "0.8102172359965896\n",
      "0.9021659504395827\n"
     ]
    }
   ],
   "source": [
    "for i in range(10):\n",
    "    print(random.random())"
   ]
  },
  {
   "cell_type": "code",
   "execution_count": 88,
   "metadata": {},
   "outputs": [
    {
     "data": {
      "text/plain": [
       "False"
      ]
     },
     "execution_count": 88,
     "metadata": {},
     "output_type": "execute_result"
    }
   ],
   "source": [
    "pp in ('no-parallel','parallel-window','parallel-func','parallel-func-layer')"
   ]
  },
  {
   "cell_type": "code",
   "execution_count": 82,
   "metadata": {},
   "outputs": [],
   "source": [
    "neighbors_to_visit, ix = WOMC.get_random_neighbors(WOMC.joint)"
   ]
  },
  {
   "cell_type": "code",
   "execution_count": 83,
   "metadata": {},
   "outputs": [
    {
     "data": {
      "text/plain": [
       "[25, 17, 18, 28, 31, 10, 13, 20, 9, 31, 1, 25, 3, 16, 11, 18]"
      ]
     },
     "execution_count": 83,
     "metadata": {},
     "output_type": "execute_result"
    }
   ],
   "source": [
    "neighbors_to_visit"
   ]
  },
  {
   "cell_type": "code",
   "execution_count": 84,
   "metadata": {},
   "outputs": [
    {
     "data": {
      "text/plain": [
       "[0, 0, 0, 0, 0, 0, 0, 0, 1, 1, 1, 1, 1, 1, 1, 1]"
      ]
     },
     "execution_count": 84,
     "metadata": {},
     "output_type": "execute_result"
    }
   ],
   "source": [
    "ix"
   ]
  },
  {
   "cell_type": "code",
   "execution_count": 79,
   "metadata": {},
   "outputs": [
    {
     "data": {
      "text/plain": [
       "(16, 16)"
      ]
     },
     "execution_count": 79,
     "metadata": {},
     "output_type": "execute_result"
    }
   ],
   "source": [
    "len(ix), len(neighbors_to_visit)"
   ]
  },
  {
   "cell_type": "code",
   "execution_count": 44,
   "metadata": {},
   "outputs": [
    {
     "data": {
      "text/plain": [
       "array([[ 6, 28, 13, 16,  4, 24, 18, 30],\n",
       "       [ 0, 20,  3, 28, 11, 13, 30,  7]])"
      ]
     },
     "execution_count": 44,
     "metadata": {},
     "output_type": "execute_result"
    }
   ],
   "source": [
    "WOMC.get_random_neighbors(WOMC.joint)"
   ]
  },
  {
   "cell_type": "code",
   "execution_count": 4,
   "metadata": {},
   "outputs": [
    {
     "data": {
      "text/plain": [
       "[array([nan,  1., nan,  1.,  1.,  1., nan,  1., nan]),\n",
       " array([nan,  1., nan,  1.,  1.,  1., nan,  1., nan])]"
      ]
     },
     "execution_count": 4,
     "metadata": {},
     "output_type": "execute_result"
    }
   ],
   "source": [
    "WOMC.W"
   ]
  },
  {
   "cell_type": "code",
   "execution_count": 5,
   "metadata": {},
   "outputs": [],
   "source": [
    "w_hist = {\"W_key\": [],\"W\":[],\"error\":[], \"f_epoch_min\":[]}"
   ]
  },
  {
   "cell_type": "code",
   "execution_count": 6,
   "metadata": {},
   "outputs": [],
   "source": [
    "w_hist[\"W\"].append(WOMC.W)"
   ]
  },
  {
   "cell_type": "code",
   "execution_count": 8,
   "metadata": {},
   "outputs": [],
   "source": [
    "import numpy as np"
   ]
  },
  {
   "cell_type": "code",
   "execution_count": 9,
   "metadata": {},
   "outputs": [],
   "source": [
    "W2 = [np.array([np.nan,  1., np.nan,  1.,  1.,  1., np.nan,  1., 1]),\n",
    " np.array([np.nan,  1., np.nan,  1.,  1.,  1., np.nan,  1., np.nan])]"
   ]
  },
  {
   "cell_type": "code",
   "execution_count": 16,
   "metadata": {},
   "outputs": [],
   "source": [
    "W3 = [np.array([np.nan,  1., np.nan,  1.,  1.,  1., np.nan,  1., 1]),\n",
    " np.array([np.nan,  1., np.nan,  1.,  1.,  1., np.nan,  1., 1])]"
   ]
  },
  {
   "cell_type": "code",
   "execution_count": 10,
   "metadata": {},
   "outputs": [],
   "source": [
    "w_hist[\"W\"].append(W2)"
   ]
  },
  {
   "cell_type": "code",
   "execution_count": 12,
   "metadata": {},
   "outputs": [
    {
     "data": {
      "text/plain": [
       "[[array([nan,  1., nan,  1.,  1.,  1., nan,  1., nan]),\n",
       "  array([nan,  1., nan,  1.,  1.,  1., nan,  1., nan])],\n",
       " [array([nan,  1., nan,  1.,  1.,  1., nan,  1.,  1.]),\n",
       "  array([nan,  1., nan,  1.,  1.,  1., nan,  1., nan])]]"
      ]
     },
     "execution_count": 12,
     "metadata": {},
     "output_type": "execute_result"
    }
   ],
   "source": [
    "w_hist[\"W\"]"
   ]
  },
  {
   "cell_type": "code",
   "execution_count": 20,
   "metadata": {},
   "outputs": [
    {
     "name": "stdout",
     "output_type": "stream",
     "text": [
      "W2 está na lista w_hist.\n"
     ]
    }
   ],
   "source": [
    "W2_in_w_hist = any(\n",
    "    all(np.allclose(w1, w2, equal_nan=True) for w1, w2 in zip(sublist, WOMC.W))\n",
    "    for sublist in w_hist[\"W\"]\n",
    ")\n",
    "\n",
    "if not W2_in_w_hist:\n",
    "    print(\"W2 não está na lista w_hist.\")\n",
    "else:\n",
    "    print(\"W2 está na lista w_hist.\")"
   ]
  },
  {
   "cell_type": "code",
   "execution_count": 13,
   "metadata": {},
   "outputs": [
    {
     "ename": "ValueError",
     "evalue": "The truth value of an array with more than one element is ambiguous. Use a.any() or a.all()",
     "output_type": "error",
     "traceback": [
      "\u001b[0;31m---------------------------------------------------------------------------\u001b[0m",
      "\u001b[0;31mValueError\u001b[0m                                Traceback (most recent call last)",
      "\u001b[0;32m/var/folders/zs/n_wh27_s5ln1fk586vbgqnn00000gq/T/ipykernel_51368/7899290.py\u001b[0m in \u001b[0;36m<module>\u001b[0;34m\u001b[0m\n\u001b[0;32m----> 1\u001b[0;31m \u001b[0;32mif\u001b[0m \u001b[0mW2\u001b[0m \u001b[0;32mnot\u001b[0m \u001b[0;32min\u001b[0m \u001b[0mw_hist\u001b[0m\u001b[0;34m[\u001b[0m\u001b[0;34m\"W\"\u001b[0m\u001b[0;34m]\u001b[0m\u001b[0;34m:\u001b[0m\u001b[0;34m\u001b[0m\u001b[0;34m\u001b[0m\u001b[0m\n\u001b[0m\u001b[1;32m      2\u001b[0m     \u001b[0mprint\u001b[0m\u001b[0;34m(\u001b[0m\u001b[0;34m'not in'\u001b[0m\u001b[0;34m)\u001b[0m\u001b[0;34m\u001b[0m\u001b[0;34m\u001b[0m\u001b[0m\n\u001b[1;32m      3\u001b[0m \u001b[0;32melse\u001b[0m\u001b[0;34m:\u001b[0m\u001b[0;34m\u001b[0m\u001b[0;34m\u001b[0m\u001b[0m\n\u001b[1;32m      4\u001b[0m     \u001b[0mprint\u001b[0m\u001b[0;34m(\u001b[0m\u001b[0;34m'in'\u001b[0m\u001b[0;34m)\u001b[0m\u001b[0;34m\u001b[0m\u001b[0;34m\u001b[0m\u001b[0m\n",
      "\u001b[0;31mValueError\u001b[0m: The truth value of an array with more than one element is ambiguous. Use a.any() or a.all()"
     ]
    }
   ],
   "source": [
    "if W2 not in w_hist[\"W\"]:\n",
    "    print('not in')\n",
    "else:\n",
    "    print('in')"
   ]
  },
  {
   "cell_type": "code",
   "execution_count": 170,
   "metadata": {},
   "outputs": [
    {
     "name": "stdout",
     "output_type": "stream",
     "text": [
      "Time: 0.51 | Epoch 0 / 50 - start Validation error:  0.49614101435745434\n"
     ]
    },
    {
     "ename": "KeyboardInterrupt",
     "evalue": "",
     "output_type": "error",
     "traceback": [
      "\u001b[0;31m---------------------------------------------------------------------------\u001b[0m",
      "\u001b[0;31mKeyboardInterrupt\u001b[0m                         Traceback (most recent call last)",
      "\u001b[0;32m/var/folders/zs/n_wh27_s5ln1fk586vbgqnn00000gq/T/ipykernel_54035/940696888.py\u001b[0m in \u001b[0;36m<module>\u001b[0;34m\u001b[0m\n\u001b[0;32m----> 1\u001b[0;31m \u001b[0mWOMC\u001b[0m\u001b[0;34m.\u001b[0m\u001b[0mfit\u001b[0m\u001b[0;34m(\u001b[0m\u001b[0;34m)\u001b[0m\u001b[0;34m\u001b[0m\u001b[0;34m\u001b[0m\u001b[0m\n\u001b[0m",
      "\u001b[0;32m~/Documents/GitHub/USDMM/USDMM_v2.py\u001b[0m in \u001b[0;36mfit\u001b[0;34m(self)\u001b[0m\n\u001b[1;32m    558\u001b[0m             \u001b[0merror_ep_\u001b[0m \u001b[0;34m=\u001b[0m \u001b[0;34m{\u001b[0m\u001b[0;34m\"error_train\"\u001b[0m\u001b[0;34m:\u001b[0m\u001b[0;34m[\u001b[0m\u001b[0;34m]\u001b[0m\u001b[0;34m,\u001b[0m\u001b[0;34m\"error_val\"\u001b[0m\u001b[0;34m:\u001b[0m\u001b[0;34m[\u001b[0m\u001b[0;34m]\u001b[0m\u001b[0;34m,\u001b[0m\u001b[0;34m\"W\"\u001b[0m\u001b[0;34m:\u001b[0m\u001b[0;34m[\u001b[0m\u001b[0;34m]\u001b[0m\u001b[0;34m,\u001b[0m\u001b[0;34m\"joint\"\u001b[0m\u001b[0;34m:\u001b[0m\u001b[0;34m[\u001b[0m\u001b[0;34m]\u001b[0m\u001b[0;34m}\u001b[0m\u001b[0;34m\u001b[0m\u001b[0;34m\u001b[0m\u001b[0m\n\u001b[1;32m    559\u001b[0m             \u001b[0merror_ep_\u001b[0m \u001b[0;34m=\u001b[0m \u001b[0mself\u001b[0m\u001b[0;34m.\u001b[0m\u001b[0mcheck_lesser_neighboors\u001b[0m\u001b[0;34m(\u001b[0m\u001b[0mW\u001b[0m\u001b[0;34m,\u001b[0m\u001b[0mjoint\u001b[0m\u001b[0;34m,\u001b[0m\u001b[0mep\u001b[0m\u001b[0;34m,\u001b[0m\u001b[0merror_ep_\u001b[0m\u001b[0;34m)\u001b[0m\u001b[0;34m\u001b[0m\u001b[0;34m\u001b[0m\u001b[0m\n\u001b[0;32m--> 560\u001b[0;31m             \u001b[0merror_ep_\u001b[0m \u001b[0;34m=\u001b[0m \u001b[0mself\u001b[0m\u001b[0;34m.\u001b[0m\u001b[0mcheck_great_neighboors\u001b[0m\u001b[0;34m(\u001b[0m\u001b[0mW\u001b[0m\u001b[0;34m,\u001b[0m \u001b[0mjoint\u001b[0m\u001b[0;34m,\u001b[0m\u001b[0mep\u001b[0m\u001b[0;34m,\u001b[0m\u001b[0merror_ep_\u001b[0m\u001b[0;34m)\u001b[0m\u001b[0;34m\u001b[0m\u001b[0;34m\u001b[0m\u001b[0m\n\u001b[0m\u001b[1;32m    561\u001b[0m \u001b[0;34m\u001b[0m\u001b[0m\n\u001b[1;32m    562\u001b[0m             \u001b[0;32mif\u001b[0m \u001b[0merror_ep_\u001b[0m\u001b[0;34m[\u001b[0m\u001b[0;34m\"error_train\"\u001b[0m\u001b[0;34m]\u001b[0m\u001b[0;34m:\u001b[0m\u001b[0;34m\u001b[0m\u001b[0;34m\u001b[0m\u001b[0m\n",
      "\u001b[0;32m~/Documents/GitHub/USDMM/USDMM_v2.py\u001b[0m in \u001b[0;36mcheck_great_neighboors\u001b[0;34m(self, W, joint, ep_w, error_ep)\u001b[0m\n\u001b[1;32m    504\u001b[0m             \u001b[0mw_line_temp_base\u001b[0m \u001b[0;34m=\u001b[0m \u001b[0mW\u001b[0m\u001b[0;34m[\u001b[0m\u001b[0mk\u001b[0m\u001b[0;34m]\u001b[0m\u001b[0;34m.\u001b[0m\u001b[0mcopy\u001b[0m\u001b[0;34m(\u001b[0m\u001b[0;34m)\u001b[0m\u001b[0;34m\u001b[0m\u001b[0;34m\u001b[0m\u001b[0m\n\u001b[1;32m    505\u001b[0m             \u001b[0;32mfor\u001b[0m \u001b[0mi\u001b[0m \u001b[0;32min\u001b[0m \u001b[0mnan_idx\u001b[0m\u001b[0;34m:\u001b[0m\u001b[0;34m\u001b[0m\u001b[0;34m\u001b[0m\u001b[0m\n\u001b[0;32m--> 506\u001b[0;31m                 \u001b[0merror_ep\u001b[0m \u001b[0;34m=\u001b[0m \u001b[0mself\u001b[0m\u001b[0;34m.\u001b[0m\u001b[0mgreat_neighboors_func\u001b[0m\u001b[0;34m(\u001b[0m\u001b[0mw_line_temp_base\u001b[0m\u001b[0;34m,\u001b[0m \u001b[0mi\u001b[0m\u001b[0;34m,\u001b[0m \u001b[0mW\u001b[0m\u001b[0;34m,\u001b[0m \u001b[0mjoint\u001b[0m\u001b[0;34m,\u001b[0m \u001b[0mk\u001b[0m\u001b[0;34m,\u001b[0m\u001b[0mep_w\u001b[0m\u001b[0;34m,\u001b[0m\u001b[0merror_ep\u001b[0m\u001b[0;34m,\u001b[0m \u001b[0;36m1\u001b[0m\u001b[0;34m)\u001b[0m\u001b[0;34m\u001b[0m\u001b[0;34m\u001b[0m\u001b[0m\n\u001b[0m\u001b[1;32m    507\u001b[0m             \u001b[0;31m#with concurrent.futures.ThreadPoolExecutor() as executor:\u001b[0m\u001b[0;34m\u001b[0m\u001b[0;34m\u001b[0m\u001b[0m\n\u001b[1;32m    508\u001b[0m             \u001b[0;31m#    [executor.submit(self.great_neighboors_func,w_line_temp_base, i, W, joint, k,ep_w,error_ep, 1) for i in nan_idx]\u001b[0m\u001b[0;34m\u001b[0m\u001b[0;34m\u001b[0m\u001b[0m\n",
      "\u001b[0;32m~/Documents/GitHub/USDMM/USDMM_v2.py\u001b[0m in \u001b[0;36mgreat_neighboors_func\u001b[0;34m(self, w_line_temp_base, i, W, joint, k, ep_w, error_ep, type)\u001b[0m\n\u001b[1;32m    483\u001b[0m                     \u001b[0mjoint_temp\u001b[0m\u001b[0;34m,\u001b[0m \u001b[0mw_error\u001b[0m\u001b[0;34m,\u001b[0m \u001b[0mf_epoch_min\u001b[0m \u001b[0;34m=\u001b[0m \u001b[0mself\u001b[0m\u001b[0;34m.\u001b[0m\u001b[0mget_error_window_parallel\u001b[0m\u001b[0;34m(\u001b[0m\u001b[0mW_temp\u001b[0m\u001b[0;34m,\u001b[0m \u001b[0mjoint_temp\u001b[0m\u001b[0;34m,\u001b[0m \u001b[0mep_w\u001b[0m\u001b[0;34m)\u001b[0m\u001b[0;34m\u001b[0m\u001b[0;34m\u001b[0m\u001b[0m\n\u001b[1;32m    484\u001b[0m                 \u001b[0;32melse\u001b[0m\u001b[0;34m:\u001b[0m\u001b[0;34m\u001b[0m\u001b[0;34m\u001b[0m\u001b[0m\n\u001b[0;32m--> 485\u001b[0;31m                     \u001b[0mjoint_temp\u001b[0m\u001b[0;34m,\u001b[0m \u001b[0mw_error\u001b[0m\u001b[0;34m,\u001b[0m \u001b[0mf_epoch_min\u001b[0m \u001b[0;34m=\u001b[0m \u001b[0mself\u001b[0m\u001b[0;34m.\u001b[0m\u001b[0mget_error_window\u001b[0m\u001b[0;34m(\u001b[0m\u001b[0mW_temp\u001b[0m\u001b[0;34m,\u001b[0m \u001b[0mjoint_temp\u001b[0m\u001b[0;34m,\u001b[0m \u001b[0mep_w\u001b[0m\u001b[0;34m)\u001b[0m\u001b[0;34m\u001b[0m\u001b[0;34m\u001b[0m\u001b[0m\n\u001b[0m\u001b[1;32m    486\u001b[0m                 \u001b[0merror_ep\u001b[0m\u001b[0;34m[\u001b[0m\u001b[0;34m'error_train'\u001b[0m\u001b[0;34m]\u001b[0m\u001b[0;34m.\u001b[0m\u001b[0mappend\u001b[0m\u001b[0;34m(\u001b[0m\u001b[0mw_error\u001b[0m\u001b[0;34m[\u001b[0m\u001b[0;36m0\u001b[0m\u001b[0;34m]\u001b[0m\u001b[0;34m)\u001b[0m\u001b[0;34m\u001b[0m\u001b[0;34m\u001b[0m\u001b[0m\n\u001b[1;32m    487\u001b[0m                 \u001b[0merror_ep\u001b[0m\u001b[0;34m[\u001b[0m\u001b[0;34m'error_val'\u001b[0m\u001b[0;34m]\u001b[0m\u001b[0;34m.\u001b[0m\u001b[0mappend\u001b[0m\u001b[0;34m(\u001b[0m\u001b[0mw_error\u001b[0m\u001b[0;34m[\u001b[0m\u001b[0;36m1\u001b[0m\u001b[0;34m]\u001b[0m\u001b[0;34m)\u001b[0m\u001b[0;34m\u001b[0m\u001b[0;34m\u001b[0m\u001b[0m\n",
      "\u001b[0;32m~/Documents/GitHub/USDMM/USDMM_v2.py\u001b[0m in \u001b[0;36mget_error_window\u001b[0;34m(self, W, joint, ep_w)\u001b[0m\n\u001b[1;32m    347\u001b[0m                         \u001b[0mneighbors_to_visit\u001b[0m \u001b[0;34m=\u001b[0m \u001b[0mself\u001b[0m\u001b[0;34m.\u001b[0m\u001b[0msort_neighbor\u001b[0m\u001b[0;34m(\u001b[0m\u001b[0mjoint\u001b[0m\u001b[0;34m[\u001b[0m\u001b[0mk\u001b[0m\u001b[0;34m]\u001b[0m\u001b[0;34m,\u001b[0m \u001b[0mself\u001b[0m\u001b[0;34m.\u001b[0m\u001b[0mneighbors_sample\u001b[0m\u001b[0;34m)\u001b[0m\u001b[0;34m\u001b[0m\u001b[0;34m\u001b[0m\u001b[0m\n\u001b[1;32m    348\u001b[0m                     \u001b[0;32mfor\u001b[0m \u001b[0mi\u001b[0m \u001b[0;32min\u001b[0m \u001b[0mneighbors_to_visit\u001b[0m\u001b[0;34m:\u001b[0m\u001b[0;34m\u001b[0m\u001b[0;34m\u001b[0m\u001b[0m\n\u001b[0;32m--> 349\u001b[0;31m                         \u001b[0mself\u001b[0m\u001b[0;34m.\u001b[0m\u001b[0mcalculate_neighbors\u001b[0m\u001b[0;34m(\u001b[0m\u001b[0mW\u001b[0m\u001b[0;34m,\u001b[0m  \u001b[0mjoint\u001b[0m\u001b[0;34m,\u001b[0m \u001b[0mk\u001b[0m\u001b[0;34m,\u001b[0m \u001b[0mi\u001b[0m\u001b[0;34m,\u001b[0m \u001b[0mWtrain\u001b[0m\u001b[0;34m,\u001b[0m \u001b[0mtrain_b\u001b[0m\u001b[0;34m[\u001b[0m\u001b[0mb\u001b[0m\u001b[0;34m]\u001b[0m\u001b[0;34m,\u001b[0m\u001b[0mytrain_b\u001b[0m\u001b[0;34m[\u001b[0m\u001b[0mb\u001b[0m\u001b[0;34m]\u001b[0m\u001b[0;34m,\u001b[0m\u001b[0mep\u001b[0m\u001b[0;34m,\u001b[0m \u001b[0mbias\u001b[0m\u001b[0;34m)\u001b[0m\u001b[0;34m\u001b[0m\u001b[0;34m\u001b[0m\u001b[0m\n\u001b[0m\u001b[1;32m    350\u001b[0m \u001b[0;34m\u001b[0m\u001b[0m\n\u001b[1;32m    351\u001b[0m \u001b[0;34m\u001b[0m\u001b[0m\n",
      "\u001b[0;32m~/Documents/GitHub/USDMM/USDMM_v2.py\u001b[0m in \u001b[0;36mcalculate_neighbors\u001b[0;34m(self, W, joint, k, i, Wlast, img, yimg, ep, bias)\u001b[0m\n\u001b[1;32m    390\u001b[0m         \u001b[0;32mif\u001b[0m \u001b[0mj_temp\u001b[0m \u001b[0;32mnot\u001b[0m \u001b[0;32min\u001b[0m \u001b[0mself\u001b[0m\u001b[0;34m.\u001b[0m\u001b[0mjoint_hist\u001b[0m\u001b[0;34m:\u001b[0m\u001b[0;34m\u001b[0m\u001b[0;34m\u001b[0m\u001b[0m\n\u001b[1;32m    391\u001b[0m             \u001b[0mself\u001b[0m\u001b[0;34m.\u001b[0m\u001b[0mjoint_hist\u001b[0m\u001b[0;34m.\u001b[0m\u001b[0mappend\u001b[0m\u001b[0;34m(\u001b[0m\u001b[0mj_temp\u001b[0m\u001b[0;34m)\u001b[0m\u001b[0;34m\u001b[0m\u001b[0;34m\u001b[0m\u001b[0m\n\u001b[0;32m--> 392\u001b[0;31m             \u001b[0mW_matrices\u001b[0m \u001b[0;34m=\u001b[0m \u001b[0mself\u001b[0m\u001b[0;34m.\u001b[0m\u001b[0mcreate_w_matrices\u001b[0m\u001b[0;34m(\u001b[0m\u001b[0mW\u001b[0m\u001b[0;34m,\u001b[0m \u001b[0mjoint_temp\u001b[0m\u001b[0;34m)\u001b[0m\u001b[0;34m\u001b[0m\u001b[0;34m\u001b[0m\u001b[0m\n\u001b[0m\u001b[1;32m    393\u001b[0m             \u001b[0m_\u001b[0m\u001b[0;34m,\u001b[0m\u001b[0merror_hood\u001b[0m \u001b[0;34m=\u001b[0m \u001b[0mself\u001b[0m\u001b[0;34m.\u001b[0m\u001b[0mwindow_error_generate_c\u001b[0m\u001b[0;34m(\u001b[0m\u001b[0mW_matrices\u001b[0m\u001b[0;34m,\u001b[0m \u001b[0mimg\u001b[0m\u001b[0;34m,\u001b[0m \u001b[0mself\u001b[0m\u001b[0;34m.\u001b[0m\u001b[0mbatch\u001b[0m\u001b[0;34m,\u001b[0m \u001b[0myimg\u001b[0m\u001b[0;34m,\u001b[0m \u001b[0mself\u001b[0m\u001b[0;34m.\u001b[0m\u001b[0merror_type\u001b[0m\u001b[0;34m,\u001b[0m \u001b[0mWlast\u001b[0m\u001b[0;34m,\u001b[0m \u001b[0mk\u001b[0m\u001b[0;34m,\u001b[0m \u001b[0mbias\u001b[0m\u001b[0;34m)\u001b[0m\u001b[0;34m\u001b[0m\u001b[0;34m\u001b[0m\u001b[0m\n\u001b[1;32m    394\u001b[0m             \u001b[0mself\u001b[0m\u001b[0;34m.\u001b[0m\u001b[0merror_ep_f_hist\u001b[0m\u001b[0;34m[\u001b[0m\u001b[0;34m\"error\"\u001b[0m\u001b[0;34m]\u001b[0m\u001b[0;34m.\u001b[0m\u001b[0mappend\u001b[0m\u001b[0;34m(\u001b[0m\u001b[0merror_hood\u001b[0m\u001b[0;34m)\u001b[0m\u001b[0;34m\u001b[0m\u001b[0;34m\u001b[0m\u001b[0m\n",
      "\u001b[0;32m~/Documents/GitHub/USDMM/USDMM_v2.py\u001b[0m in \u001b[0;36mcreate_w_matrices\u001b[0;34m(self, W, joint)\u001b[0m\n\u001b[1;32m    128\u001b[0m                     \u001b[0mc\u001b[0m\u001b[0;34m+=\u001b[0m\u001b[0;36m1\u001b[0m\u001b[0;34m\u001b[0m\u001b[0;34m\u001b[0m\u001b[0m\n\u001b[1;32m    129\u001b[0m                 \u001b[0mmatrix\u001b[0m \u001b[0;34m=\u001b[0m \u001b[0mnp\u001b[0m\u001b[0;34m.\u001b[0m\u001b[0mwhere\u001b[0m\u001b[0;34m(\u001b[0m\u001b[0mmatrix\u001b[0m\u001b[0;34m==\u001b[0m\u001b[0;36m0\u001b[0m\u001b[0;34m,\u001b[0m\u001b[0;34m-\u001b[0m\u001b[0;36m1\u001b[0m\u001b[0;34m,\u001b[0m\u001b[0mmatrix\u001b[0m\u001b[0;34m)\u001b[0m\u001b[0;34m\u001b[0m\u001b[0;34m\u001b[0m\u001b[0m\n\u001b[0;32m--> 130\u001b[0;31m                 \u001b[0mmatrix\u001b[0m \u001b[0;34m=\u001b[0m \u001b[0mnp\u001b[0m\u001b[0;34m.\u001b[0m\u001b[0mnan_to_num\u001b[0m\u001b[0;34m(\u001b[0m\u001b[0mmatrix\u001b[0m\u001b[0;34m)\u001b[0m\u001b[0;34m\u001b[0m\u001b[0;34m\u001b[0m\u001b[0m\n\u001b[0m\u001b[1;32m    131\u001b[0m                 \u001b[0mmatrix_k\u001b[0m\u001b[0;34m.\u001b[0m\u001b[0mappend\u001b[0m\u001b[0;34m(\u001b[0m\u001b[0mmatrix\u001b[0m\u001b[0;34m.\u001b[0m\u001b[0mreshape\u001b[0m\u001b[0;34m(\u001b[0m\u001b[0;34m(\u001b[0m\u001b[0;36m3\u001b[0m\u001b[0;34m,\u001b[0m \u001b[0;36m3\u001b[0m\u001b[0;34m)\u001b[0m\u001b[0;34m)\u001b[0m\u001b[0;34m)\u001b[0m\u001b[0;34m\u001b[0m\u001b[0;34m\u001b[0m\u001b[0m\n\u001b[1;32m    132\u001b[0m             \u001b[0mmatrices\u001b[0m\u001b[0;34m.\u001b[0m\u001b[0mappend\u001b[0m\u001b[0;34m(\u001b[0m\u001b[0mmatrix_k\u001b[0m\u001b[0;34m)\u001b[0m\u001b[0;34m\u001b[0m\u001b[0;34m\u001b[0m\u001b[0m\n",
      "\u001b[0;32m<__array_function__ internals>\u001b[0m in \u001b[0;36mnan_to_num\u001b[0;34m(*args, **kwargs)\u001b[0m\n",
      "\u001b[0;32m~/opt/anaconda3/envs/envpy/lib/python3.9/site-packages/numpy/lib/type_check.py\u001b[0m in \u001b[0;36mnan_to_num\u001b[0;34m(x, copy, nan, posinf, neginf)\u001b[0m\n\u001b[1;32m    517\u001b[0m         \u001b[0midx_neginf\u001b[0m \u001b[0;34m=\u001b[0m \u001b[0misneginf\u001b[0m\u001b[0;34m(\u001b[0m\u001b[0md\u001b[0m\u001b[0;34m)\u001b[0m\u001b[0;34m\u001b[0m\u001b[0;34m\u001b[0m\u001b[0m\n\u001b[1;32m    518\u001b[0m         \u001b[0m_nx\u001b[0m\u001b[0;34m.\u001b[0m\u001b[0mcopyto\u001b[0m\u001b[0;34m(\u001b[0m\u001b[0md\u001b[0m\u001b[0;34m,\u001b[0m \u001b[0mnan\u001b[0m\u001b[0;34m,\u001b[0m \u001b[0mwhere\u001b[0m\u001b[0;34m=\u001b[0m\u001b[0midx_nan\u001b[0m\u001b[0;34m)\u001b[0m\u001b[0;34m\u001b[0m\u001b[0;34m\u001b[0m\u001b[0m\n\u001b[0;32m--> 519\u001b[0;31m         \u001b[0m_nx\u001b[0m\u001b[0;34m.\u001b[0m\u001b[0mcopyto\u001b[0m\u001b[0;34m(\u001b[0m\u001b[0md\u001b[0m\u001b[0;34m,\u001b[0m \u001b[0mmaxf\u001b[0m\u001b[0;34m,\u001b[0m \u001b[0mwhere\u001b[0m\u001b[0;34m=\u001b[0m\u001b[0midx_posinf\u001b[0m\u001b[0;34m)\u001b[0m\u001b[0;34m\u001b[0m\u001b[0;34m\u001b[0m\u001b[0m\n\u001b[0m\u001b[1;32m    520\u001b[0m         \u001b[0m_nx\u001b[0m\u001b[0;34m.\u001b[0m\u001b[0mcopyto\u001b[0m\u001b[0;34m(\u001b[0m\u001b[0md\u001b[0m\u001b[0;34m,\u001b[0m \u001b[0mminf\u001b[0m\u001b[0;34m,\u001b[0m \u001b[0mwhere\u001b[0m\u001b[0;34m=\u001b[0m\u001b[0midx_neginf\u001b[0m\u001b[0;34m)\u001b[0m\u001b[0;34m\u001b[0m\u001b[0;34m\u001b[0m\u001b[0m\n\u001b[1;32m    521\u001b[0m     \u001b[0;32mreturn\u001b[0m \u001b[0mx\u001b[0m\u001b[0;34m[\u001b[0m\u001b[0;34m(\u001b[0m\u001b[0;34m)\u001b[0m\u001b[0;34m]\u001b[0m \u001b[0;32mif\u001b[0m \u001b[0misscalar\u001b[0m \u001b[0;32melse\u001b[0m \u001b[0mx\u001b[0m\u001b[0;34m\u001b[0m\u001b[0;34m\u001b[0m\u001b[0m\n",
      "\u001b[0;32m<__array_function__ internals>\u001b[0m in \u001b[0;36mcopyto\u001b[0;34m(*args, **kwargs)\u001b[0m\n",
      "\u001b[0;31mKeyboardInterrupt\u001b[0m: "
     ]
    }
   ],
   "source": [
    "WOMC.fit()"
   ]
  },
  {
   "cell_type": "code",
   "execution_count": 212,
   "metadata": {},
   "outputs": [
    {
     "name": "stdout",
     "output_type": "stream",
     "text": [
      "tempo de execução: 26.317917108535767\n",
      "época-min: 36 - com erro: [0.76059653 0.56037741]\n"
     ]
    }
   ],
   "source": [
    "WOMC.test_window() # batch = 1"
   ]
  },
  {
   "cell_type": "code",
   "execution_count": 207,
   "metadata": {},
   "outputs": [
    {
     "name": "stdout",
     "output_type": "stream",
     "text": [
      "tempo de execução: 16.778737783432007\n",
      "época-min: 45 - com erro: [0.68093239 0.35338207]\n"
     ]
    }
   ],
   "source": [
    "WOMC.test_window() # batch = 5"
   ]
  },
  {
   "cell_type": "code",
   "execution_count": 204,
   "metadata": {},
   "outputs": [
    {
     "name": "stdout",
     "output_type": "stream",
     "text": [
      "tempo de execução: 11.692376852035522\n",
      "época-min: 66 - com erro: [0.28914547 0.28867364]\n"
     ]
    }
   ],
   "source": [
    "WOMC.test_window() # batch = 10"
   ]
  },
  {
   "cell_type": "code",
   "execution_count": null,
   "metadata": {},
   "outputs": [],
   "source": []
  },
  {
   "cell_type": "code",
   "execution_count": 157,
   "metadata": {},
   "outputs": [
    {
     "name": "stdout",
     "output_type": "stream",
     "text": [
      "tempo de execução: 20.498048067092896\n",
      "época-min: 7 - com erro: [0.70812137 0.53005347]\n"
     ]
    }
   ],
   "source": [
    "WOMC.test_window() # 2"
   ]
  },
  {
   "cell_type": "code",
   "execution_count": 164,
   "metadata": {},
   "outputs": [
    {
     "name": "stdout",
     "output_type": "stream",
     "text": [
      "end of lesser\n",
      "end of greater\n",
      "error_train:  0.13544277714640507\n",
      "error_val:  0.14600231693322482\n",
      "W:  [array([nan,  1., nan,  1.,  1.,  1., nan,  1., nan]), array([nan,  1., nan,  1.,  1.,  1.,  1.,  1., nan])]\n",
      "Time: 206.09\n"
     ]
    }
   ],
   "source": [
    "WOMC.test_neightbors()"
   ]
  },
  {
   "cell_type": "code",
   "execution_count": 160,
   "metadata": {},
   "outputs": [
    {
     "name": "stdout",
     "output_type": "stream",
     "text": [
      "tempo de execução: 11.154130935668945\n",
      "época-min: 46 - com erro: [0.28914547 0.28867364]\n"
     ]
    }
   ],
   "source": [
    "WOMC.test_window() # 10"
   ]
  },
  {
   "cell_type": "code",
   "execution_count": 108,
   "metadata": {},
   "outputs": [],
   "source": [
    "if WOMC.batch==1:\n",
    "    train_b = [copy.deepcopy(WOMC.train)]\n",
    "    ytrain_b = [copy.deepcopy(WOMC.ytrain)]"
   ]
  },
  {
   "cell_type": "code",
   "execution_count": 1,
   "metadata": {},
   "outputs": [
    {
     "ename": "NameError",
     "evalue": "name 'train_b' is not defined",
     "output_type": "error",
     "traceback": [
      "\u001b[0;31m---------------------------------------------------------------------------\u001b[0m",
      "\u001b[0;31mNameError\u001b[0m                                 Traceback (most recent call last)",
      "\u001b[0;32m/var/folders/zs/n_wh27_s5ln1fk586vbgqnn00000gq/T/ipykernel_51368/3129644700.py\u001b[0m in \u001b[0;36m<module>\u001b[0;34m\u001b[0m\n\u001b[0;32m----> 1\u001b[0;31m \u001b[0mlen\u001b[0m\u001b[0;34m(\u001b[0m\u001b[0mtrain_b\u001b[0m\u001b[0;34m)\u001b[0m\u001b[0;34m,\u001b[0m \u001b[0mlen\u001b[0m\u001b[0;34m(\u001b[0m\u001b[0mytrain_b\u001b[0m\u001b[0;34m)\u001b[0m\u001b[0;34m\u001b[0m\u001b[0;34m\u001b[0m\u001b[0m\n\u001b[0m",
      "\u001b[0;31mNameError\u001b[0m: name 'train_b' is not defined"
     ]
    }
   ],
   "source": [
    "len(train_b), len(ytrain_b)"
   ]
  },
  {
   "cell_type": "code",
   "execution_count": null,
   "metadata": {},
   "outputs": [],
   "source": [
    "for b in range(WOMC.num_batches):"
   ]
  },
  {
   "cell_type": "code",
   "execution_count": 218,
   "metadata": {},
   "outputs": [
    {
     "data": {
      "text/plain": [
       "(32, 2)"
      ]
     },
     "execution_count": 218,
     "metadata": {},
     "output_type": "execute_result"
    }
   ],
   "source": [
    "WOMC.joint[0].shape"
   ]
  },
  {
   "cell_type": "code",
   "execution_count": 224,
   "metadata": {},
   "outputs": [
    {
     "data": {
      "text/plain": [
       "[array([nan,  1., nan,  1.,  1.,  1., nan,  1., nan]),\n",
       " array([nan,  1., nan,  1.,  1.,  1., nan,  1., nan])]"
      ]
     },
     "execution_count": 224,
     "metadata": {},
     "output_type": "execute_result"
    }
   ],
   "source": [
    "WOMC.W"
   ]
  },
  {
   "cell_type": "code",
   "execution_count": 225,
   "metadata": {},
   "outputs": [
    {
     "data": {
      "text/plain": [
       "array([0, 2, 6, 8])"
      ]
     },
     "execution_count": 225,
     "metadata": {},
     "output_type": "execute_result"
    }
   ],
   "source": [
    "np.where(np.isnan(WOMC.W[0]))[0]"
   ]
  },
  {
   "cell_type": "code",
   "execution_count": 227,
   "metadata": {},
   "outputs": [
    {
     "data": {
      "text/plain": [
       "range(0, 9)"
      ]
     },
     "execution_count": 227,
     "metadata": {},
     "output_type": "execute_result"
    }
   ],
   "source": [
    "range(len(WOMC.W[0]))"
   ]
  },
  {
   "cell_type": "code",
   "execution_count": 228,
   "metadata": {},
   "outputs": [
    {
     "data": {
      "text/plain": [
       "array([nan,  1., nan,  1.,  1.,  1., nan,  1., nan])"
      ]
     },
     "execution_count": 228,
     "metadata": {},
     "output_type": "execute_result"
    }
   ],
   "source": [
    "w_line_temp_base = WOMC.W[0].copy()\n",
    "w_line_temp_base"
   ]
  },
  {
   "cell_type": "code",
   "execution_count": 232,
   "metadata": {},
   "outputs": [
    {
     "data": {
      "text/plain": [
       "False"
      ]
     },
     "execution_count": 232,
     "metadata": {},
     "output_type": "execute_result"
    }
   ],
   "source": [
    "np.isnan(w_line_temp_base[1])"
   ]
  },
  {
   "cell_type": "code",
   "execution_count": 239,
   "metadata": {},
   "outputs": [
    {
     "name": "stdout",
     "output_type": "stream",
     "text": [
      "0 0\n",
      "0\n",
      "1 1\n",
      "1\n"
     ]
    }
   ],
   "source": [
    "for i, k in zip(range(9), range(2)):\n",
    "    print(i, k)\n",
    "    print(i*k)"
   ]
  },
  {
   "cell_type": "code",
   "execution_count": 240,
   "metadata": {},
   "outputs": [
    {
     "name": "stdout",
     "output_type": "stream",
     "text": [
      "0\n",
      "1\n"
     ]
    }
   ],
   "source": [
    "a = range(10)\n",
    "b = range(2)\n",
    "\n",
    "for elemento_a, elemento_b in zip(a, b):\n",
    "    resultado = elemento_a * elemento_b\n",
    "    print(resultado)\n"
   ]
  },
  {
   "cell_type": "code",
   "execution_count": 241,
   "metadata": {},
   "outputs": [
    {
     "name": "stdout",
     "output_type": "stream",
     "text": [
      "[0, 1]\n"
     ]
    }
   ],
   "source": [
    "a = range(10)\n",
    "b = range(2)\n",
    "\n",
    "resultados = [elemento_a * elemento_b for elemento_a, elemento_b in zip(a, b)]\n",
    "print(resultados)\n"
   ]
  },
  {
   "cell_type": "code",
   "execution_count": 244,
   "metadata": {},
   "outputs": [
    {
     "name": "stdout",
     "output_type": "stream",
     "text": [
      "0\n",
      "0\n",
      "0\n",
      "1\n",
      "0\n",
      "2\n",
      "0\n",
      "3\n",
      "0\n",
      "4\n",
      "0\n",
      "5\n",
      "0\n",
      "6\n",
      "0\n",
      "7\n",
      "0\n",
      "8\n",
      "0\n",
      "9\n"
     ]
    }
   ],
   "source": [
    "for a in range(10):\n",
    "    for b in range(2):\n",
    "        print(a*b)"
   ]
  },
  {
   "cell_type": "code",
   "execution_count": 251,
   "metadata": {},
   "outputs": [],
   "source": [
    "error_train= [0.3165430033851045, 0.26310246237816604, 0.22161838865028144, 0.24001051263923476, 0.4559419911627568, 0.40389981142297443, 0.35709604976230835, 0.27196964702569737, 0.21616377000647885, 0.19688021729782074, 0.1570680751316897, 0.4236009132576033, 0.4786330006101567, 0.4563234663281059, 0.2985257319315842, 0.1625613495842161]"
   ]
  },
  {
   "cell_type": "code",
   "execution_count": 249,
   "metadata": {},
   "outputs": [],
   "source": [
    "error_train2= [0.33165430033851045, 0.26310246237816604, 0.22161838865028144, 0.24001051263923476, 0.4559419911627568, 0.40389981142297443, 0.35709604976230835, 0.27196964702569737, 0.21616377000647885, 0.19688021729782074, 0.1570680751316897, 0.4236009132576033, 0.4786330006101567, 0.4563234663281059, 0.2985257319315842, 0.1625613495842161]"
   ]
  },
  {
   "cell_type": "code",
   "execution_count": 252,
   "metadata": {},
   "outputs": [
    {
     "data": {
      "text/plain": [
       "False"
      ]
     },
     "execution_count": 252,
     "metadata": {},
     "output_type": "execute_result"
    }
   ],
   "source": [
    "error_train == error_train2"
   ]
  },
  {
   "cell_type": "code",
   "execution_count": 26,
   "metadata": {},
   "outputs": [
    {
     "data": {
      "text/plain": [
       "array([ 0,  1,  2,  3,  4,  5,  6,  7,  8,  9, 10, 11, 12, 13, 14, 15, 16,\n",
       "       17, 18, 19, 20, 21, 22, 23, 24, 25, 26, 27, 28, 29, 30, 31])"
      ]
     },
     "execution_count": 26,
     "metadata": {},
     "output_type": "execute_result"
    }
   ],
   "source": [
    "np.array(range(len(WOMC.joint[0])))"
   ]
  },
  {
   "cell_type": "code",
   "execution_count": 21,
   "metadata": {},
   "outputs": [
    {
     "data": {
      "text/plain": [
       "1"
      ]
     },
     "execution_count": 21,
     "metadata": {},
     "output_type": "execute_result"
    }
   ],
   "source": [
    "lista_de_listas = np.array([\n",
    "    [0.1, 0.3, [1, 2, 3], \"A\", 3],\n",
    "    [0.2, 0.3, [4, 5, 6], \"B\", 2],\n",
    "    [0.5, np.inf, [7, 8, 9], \"C\", 1],\n",
    "    # Adicione mais listas conforme necessário\n",
    "],dtype=object)\n",
    "\n",
    "# Obter os índices dos elementos mínimos\n",
    "min_index = np.lexsort((lista_de_listas[:, 4], lista_de_listas[:, 1]))[0]\n",
    "min_index"
   ]
  },
  {
   "cell_type": "code",
   "execution_count": 24,
   "metadata": {},
   "outputs": [
    {
     "data": {
      "text/plain": [
       "array([0.3, 0.3, inf], dtype=object)"
      ]
     },
     "execution_count": 24,
     "metadata": {},
     "output_type": "execute_result"
    }
   ],
   "source": [
    "lista_de_listas[:, 1]"
   ]
  },
  {
   "cell_type": "code",
   "execution_count": 22,
   "metadata": {},
   "outputs": [
    {
     "data": {
      "text/plain": [
       "array([1, 0, 2])"
      ]
     },
     "execution_count": 22,
     "metadata": {},
     "output_type": "execute_result"
    }
   ],
   "source": [
    "np.lexsort((lista_de_listas[:, 4], lista_de_listas[:, 1]))"
   ]
  },
  {
   "cell_type": "code",
   "execution_count": 265,
   "metadata": {},
   "outputs": [
    {
     "data": {
      "text/plain": [
       "array([0.2, 0.3, list([4, 5, 6]), 'B', 2], dtype=object)"
      ]
     },
     "execution_count": 265,
     "metadata": {},
     "output_type": "execute_result"
    }
   ],
   "source": [
    "lista_de_listas[min_index]"
   ]
  },
  {
   "cell_type": "code",
   "execution_count": 267,
   "metadata": {},
   "outputs": [
    {
     "name": "stdout",
     "output_type": "stream",
     "text": [
      " layer k - 0 / i - 0\n",
      " layer k - 0 / i - 1\n",
      " layer k - 0 / i - 2\n",
      " layer k - 0 / i - 3\n",
      " layer k - 0 / i - 4\n",
      " layer k - 0 / i - 5\n",
      " layer k - 0 / i - 6\n",
      " layer k - 0 / i - 7\n",
      " layer k - 0 / i - 8\n",
      " layer k - 1 / i - 0\n",
      " layer k - 1 / i - 1\n",
      " layer k - 1 / i - 2\n",
      " layer k - 1 / i - 3\n",
      " layer k - 1 / i - 4\n",
      " layer k - 1 / i - 5\n",
      " layer k - 1 / i - 6\n",
      " layer k - 1 / i - 7\n",
      " layer k - 1 / i - 8\n"
     ]
    }
   ],
   "source": [
    "for k,i in product(range(WOMC.nlayer), range(len(WOMC.W[0]))):\n",
    "    print(f' layer k - {k} / i - {i}')"
   ]
  },
  {
   "cell_type": "code",
   "execution_count": 246,
   "metadata": {},
   "outputs": [
    {
     "name": "stdout",
     "output_type": "stream",
     "text": [
      "0\n",
      "0\n",
      "0\n",
      "1\n",
      "0\n",
      "2\n",
      "0\n",
      "3\n",
      "0\n",
      "4\n",
      "0\n",
      "5\n",
      "0\n",
      "6\n",
      "0\n",
      "7\n",
      "0\n",
      "8\n",
      "0\n",
      "9\n"
     ]
    }
   ],
   "source": [
    "from itertools import product\n",
    "\n",
    "a = range(10)\n",
    "b = range(2)\n",
    "\n",
    "for elemento_a, elemento_b in product(a, b):\n",
    "    resultado = elemento_a * elemento_b\n",
    "    print(resultado)\n"
   ]
  },
  {
   "cell_type": "code",
   "execution_count": 237,
   "metadata": {},
   "outputs": [
    {
     "name": "stdout",
     "output_type": "stream",
     "text": [
      "0\n",
      "1\n",
      "2\n",
      "3\n",
      "4\n",
      "5\n",
      "6\n",
      "7\n",
      "8\n"
     ]
    }
   ],
   "source": [
    "for i in range(len(WOMC.W[0])):\n",
    "    print(i)"
   ]
  },
  {
   "cell_type": "code",
   "execution_count": 223,
   "metadata": {},
   "outputs": [
    {
     "data": {
      "text/plain": [
       "array(['00000', '1'], dtype='<U21')"
      ]
     },
     "execution_count": 223,
     "metadata": {},
     "output_type": "execute_result"
    }
   ],
   "source": [
    "WOMC.joint[0][0]"
   ]
  },
  {
   "cell_type": "code",
   "execution_count": 222,
   "metadata": {},
   "outputs": [
    {
     "data": {
      "text/plain": [
       "'1'"
      ]
     },
     "execution_count": 222,
     "metadata": {},
     "output_type": "execute_result"
    }
   ],
   "source": [
    "WOMC.joint[0][0][1]"
   ]
  },
  {
   "cell_type": "code",
   "execution_count": 215,
   "metadata": {},
   "outputs": [
    {
     "data": {
      "text/plain": [
       "2"
      ]
     },
     "execution_count": 215,
     "metadata": {},
     "output_type": "execute_result"
    }
   ],
   "source": [
    "len(WOMC.joint)"
   ]
  },
  {
   "cell_type": "code",
   "execution_count": 213,
   "metadata": {},
   "outputs": [
    {
     "data": {
      "text/plain": [
       "[[array([[ 0., -1.,  0.],\n",
       "         [-1., -1., -1.],\n",
       "         [ 0., -1.,  0.]]),\n",
       "  array([[ 0., -1.,  0.],\n",
       "         [-1., -1.,  1.],\n",
       "         [ 0.,  1.,  0.]]),\n",
       "  array([[ 0., -1.,  0.],\n",
       "         [-1.,  1., -1.],\n",
       "         [ 0.,  1.,  0.]]),\n",
       "  array([[ 0., -1.,  0.],\n",
       "         [-1.,  1.,  1.],\n",
       "         [ 0., -1.,  0.]]),\n",
       "  array([[ 0., -1.,  0.],\n",
       "         [-1.,  1.,  1.],\n",
       "         [ 0.,  1.,  0.]]),\n",
       "  array([[ 0., -1.,  0.],\n",
       "         [ 1., -1., -1.],\n",
       "         [ 0., -1.,  0.]]),\n",
       "  array([[ 0., -1.,  0.],\n",
       "         [ 1., -1., -1.],\n",
       "         [ 0.,  1.,  0.]]),\n",
       "  array([[ 0., -1.,  0.],\n",
       "         [ 1., -1.,  1.],\n",
       "         [ 0., -1.,  0.]]),\n",
       "  array([[ 0., -1.,  0.],\n",
       "         [ 1.,  1., -1.],\n",
       "         [ 0., -1.,  0.]]),\n",
       "  array([[ 0., -1.,  0.],\n",
       "         [ 1.,  1.,  1.],\n",
       "         [ 0.,  1.,  0.]]),\n",
       "  array([[ 0.,  1.,  0.],\n",
       "         [-1., -1.,  1.],\n",
       "         [ 0., -1.,  0.]]),\n",
       "  array([[ 0.,  1.,  0.],\n",
       "         [-1.,  1., -1.],\n",
       "         [ 0., -1.,  0.]]),\n",
       "  array([[ 0.,  1.,  0.],\n",
       "         [-1.,  1.,  1.],\n",
       "         [ 0., -1.,  0.]]),\n",
       "  array([[ 0.,  1.,  0.],\n",
       "         [-1.,  1.,  1.],\n",
       "         [ 0.,  1.,  0.]]),\n",
       "  array([[ 0.,  1.,  0.],\n",
       "         [ 1., -1.,  1.],\n",
       "         [ 0.,  1.,  0.]])],\n",
       " [array([[ 0., -1.,  0.],\n",
       "         [-1., -1., -1.],\n",
       "         [ 0.,  1.,  0.]]),\n",
       "  array([[ 0., -1.,  0.],\n",
       "         [-1.,  1., -1.],\n",
       "         [ 0., -1.,  0.]]),\n",
       "  array([[ 0., -1.,  0.],\n",
       "         [-1.,  1.,  1.],\n",
       "         [ 0., -1.,  0.]]),\n",
       "  array([[ 0., -1.,  0.],\n",
       "         [-1.,  1.,  1.],\n",
       "         [ 0.,  1.,  0.]]),\n",
       "  array([[ 0., -1.,  0.],\n",
       "         [ 1., -1., -1.],\n",
       "         [ 0., -1.,  0.]]),\n",
       "  array([[ 0., -1.,  0.],\n",
       "         [ 1., -1.,  1.],\n",
       "         [ 0.,  1.,  0.]]),\n",
       "  array([[ 0.,  1.,  0.],\n",
       "         [-1., -1., -1.],\n",
       "         [ 0., -1.,  0.]]),\n",
       "  array([[ 0.,  1.,  0.],\n",
       "         [-1.,  1., -1.],\n",
       "         [ 0.,  1.,  0.]]),\n",
       "  array([[ 0.,  1.,  0.],\n",
       "         [ 1., -1., -1.],\n",
       "         [ 0., -1.,  0.]]),\n",
       "  array([[ 0.,  1.,  0.],\n",
       "         [ 1., -1., -1.],\n",
       "         [ 0.,  1.,  0.]]),\n",
       "  array([[ 0.,  1.,  0.],\n",
       "         [ 1., -1.,  1.],\n",
       "         [ 0., -1.,  0.]]),\n",
       "  array([[ 0.,  1.,  0.],\n",
       "         [ 1.,  1., -1.],\n",
       "         [ 0.,  1.,  0.]]),\n",
       "  array([[ 0.,  1.,  0.],\n",
       "         [ 1.,  1.,  1.],\n",
       "         [ 0., -1.,  0.]]),\n",
       "  array([[0., 1., 0.],\n",
       "         [1., 1., 1.],\n",
       "         [0., 1., 0.]])]]"
      ]
     },
     "execution_count": 213,
     "metadata": {},
     "output_type": "execute_result"
    }
   ],
   "source": [
    "WOMC.create_w_matrices(WOMC.W, WOMC.joint)"
   ]
  },
  {
   "cell_type": "code",
   "execution_count": 116,
   "metadata": {},
   "outputs": [
    {
     "data": {
      "text/plain": [
       "[array([0, 1, 2, 3, 4, 5, 6, 7, 8, 9])]"
      ]
     },
     "execution_count": 116,
     "metadata": {},
     "output_type": "execute_result"
    }
   ],
   "source": [
    "np.array_split(range(10),1)"
   ]
  },
  {
   "cell_type": "code",
   "execution_count": 110,
   "metadata": {},
   "outputs": [
    {
     "name": "stdout",
     "output_type": "stream",
     "text": [
      "0\n",
      "1\n",
      "2\n",
      "3\n",
      "4\n",
      "5\n",
      "6\n",
      "7\n",
      "8\n",
      "9\n"
     ]
    }
   ],
   "source": [
    "for b in range(WOMC.num_batches):\n",
    "    print(b)"
   ]
  },
  {
   "cell_type": "code",
   "execution_count": 134,
   "metadata": {},
   "outputs": [],
   "source": [
    "X_batch, y_batch = WOMC.get_batches(WOMC.train,WOMC.ytrain, WOMC.batch, WOMC.train_size)"
   ]
  },
  {
   "cell_type": "code",
   "execution_count": 135,
   "metadata": {},
   "outputs": [
    {
     "data": {
      "text/plain": [
       "10"
      ]
     },
     "execution_count": 135,
     "metadata": {},
     "output_type": "execute_result"
    }
   ],
   "source": [
    "len(X_batch)"
   ]
  },
  {
   "cell_type": "code",
   "execution_count": 76,
   "metadata": {},
   "outputs": [
    {
     "data": {
      "text/plain": [
       "(2, 56, 56)"
      ]
     },
     "execution_count": 76,
     "metadata": {},
     "output_type": "execute_result"
    }
   ],
   "source": [
    "X_batch[0].shape"
   ]
  },
  {
   "cell_type": "code",
   "execution_count": 79,
   "metadata": {},
   "outputs": [
    {
     "data": {
      "text/plain": [
       "(56, 56)"
      ]
     },
     "execution_count": 79,
     "metadata": {},
     "output_type": "execute_result"
    }
   ],
   "source": [
    "X_batch[0][0].shape"
   ]
  },
  {
   "cell_type": "code",
   "execution_count": 83,
   "metadata": {},
   "outputs": [],
   "source": [
    "xx = [WOMC.train]"
   ]
  },
  {
   "cell_type": "code",
   "execution_count": 84,
   "metadata": {},
   "outputs": [
    {
     "data": {
      "text/plain": [
       "1"
      ]
     },
     "execution_count": 84,
     "metadata": {},
     "output_type": "execute_result"
    }
   ],
   "source": [
    "len(xx)"
   ]
  },
  {
   "cell_type": "code",
   "execution_count": 86,
   "metadata": {},
   "outputs": [
    {
     "data": {
      "text/plain": [
       "10"
      ]
     },
     "execution_count": 86,
     "metadata": {},
     "output_type": "execute_result"
    }
   ],
   "source": [
    "len(xx[0])"
   ]
  },
  {
   "cell_type": "code",
   "execution_count": 87,
   "metadata": {},
   "outputs": [
    {
     "data": {
      "text/plain": [
       "(56, 56)"
      ]
     },
     "execution_count": 87,
     "metadata": {},
     "output_type": "execute_result"
    }
   ],
   "source": [
    "xx[0][0].shape"
   ]
  },
  {
   "cell_type": "code",
   "execution_count": 81,
   "metadata": {},
   "outputs": [
    {
     "data": {
      "text/plain": [
       "2"
      ]
     },
     "execution_count": 81,
     "metadata": {},
     "output_type": "execute_result"
    }
   ],
   "source": [
    "len(X_batch[0])"
   ]
  },
  {
   "cell_type": "code",
   "execution_count": 82,
   "metadata": {},
   "outputs": [
    {
     "name": "stdout",
     "output_type": "stream",
     "text": [
      "Lote 1: (2, 56, 56)\n",
      "Imagem 1: (56, 56)\n",
      "Imagem 2: (56, 56)\n",
      "Lote 2: (2, 56, 56)\n",
      "Imagem 1: (56, 56)\n",
      "Imagem 2: (56, 56)\n",
      "Lote 3: (2, 56, 56)\n",
      "Imagem 1: (56, 56)\n",
      "Imagem 2: (56, 56)\n",
      "Lote 4: (2, 56, 56)\n",
      "Imagem 1: (56, 56)\n",
      "Imagem 2: (56, 56)\n",
      "Lote 5: (2, 56, 56)\n",
      "Imagem 1: (56, 56)\n",
      "Imagem 2: (56, 56)\n"
     ]
    }
   ],
   "source": [
    "for i, batch in enumerate(X_batch):\n",
    "    print(f\"Lote {i + 1}: {batch.shape}\")\n",
    "    for j,img in enumerate(batch):\n",
    "        print(f\"Imagem {j + 1}: {img.shape}\")"
   ]
  },
  {
   "cell_type": "code",
   "execution_count": 74,
   "metadata": {},
   "outputs": [
    {
     "data": {
      "text/plain": [
       "10"
      ]
     },
     "execution_count": 74,
     "metadata": {},
     "output_type": "execute_result"
    }
   ],
   "source": [
    "len(WOMC.train)"
   ]
  },
  {
   "cell_type": "code",
   "execution_count": 77,
   "metadata": {},
   "outputs": [
    {
     "data": {
      "text/plain": [
       "(56, 56)"
      ]
     },
     "execution_count": 77,
     "metadata": {},
     "output_type": "execute_result"
    }
   ],
   "source": [
    "WOMC.train[0].shape"
   ]
  },
  {
   "cell_type": "code",
   "execution_count": null,
   "metadata": {},
   "outputs": [],
   "source": [
    "imgX_batches = np.array_split(imgX, num_batches)"
   ]
  },
  {
   "cell_type": "code",
   "execution_count": 191,
   "metadata": {},
   "outputs": [],
   "source": [
    "def test_parallel(i, error):\n",
    "    error[\"error\"].append(i)\n",
    "    error[\"joint\"].append(i**2)\n",
    "    error[\"ix\"].append(str('teste_')+str(i))\n",
    "    return error    "
   ]
  },
  {
   "cell_type": "code",
   "execution_count": 192,
   "metadata": {},
   "outputs": [],
   "source": [
    "error_ep_f_hist={\"error\":[], \"joint\":[], \"ix\":[]}"
   ]
  },
  {
   "cell_type": "code",
   "execution_count": 193,
   "metadata": {},
   "outputs": [],
   "source": [
    "with concurrent.futures.ThreadPoolExecutor() as executor:\n",
    "    futures = [executor.submit(test_parallel,i, error_ep_f_hist) for i in range(10)]\n"
   ]
  },
  {
   "cell_type": "code",
   "execution_count": 194,
   "metadata": {},
   "outputs": [
    {
     "name": "stdout",
     "output_type": "stream",
     "text": [
      "{'error': [0, 1, 2, 3, 4, 5, 6, 7, 8, 9], 'joint': [0, 1, 4, 9, 16, 25, 36, 49, 64, 81], 'ix': ['teste_0', 'teste_1', 'teste_2', 'teste_3', 'teste_4', 'teste_5', 'teste_6', 'teste_7', 'teste_8', 'teste_9']}\n",
      "{'error': [0, 1, 2, 3, 4, 5, 6, 7, 8, 9], 'joint': [0, 1, 4, 9, 16, 25, 36, 49, 64, 81], 'ix': ['teste_0', 'teste_1', 'teste_2', 'teste_3', 'teste_4', 'teste_5', 'teste_6', 'teste_7', 'teste_8', 'teste_9']}\n",
      "{'error': [0, 1, 2, 3, 4, 5, 6, 7, 8, 9], 'joint': [0, 1, 4, 9, 16, 25, 36, 49, 64, 81], 'ix': ['teste_0', 'teste_1', 'teste_2', 'teste_3', 'teste_4', 'teste_5', 'teste_6', 'teste_7', 'teste_8', 'teste_9']}\n",
      "{'error': [0, 1, 2, 3, 4, 5, 6, 7, 8, 9], 'joint': [0, 1, 4, 9, 16, 25, 36, 49, 64, 81], 'ix': ['teste_0', 'teste_1', 'teste_2', 'teste_3', 'teste_4', 'teste_5', 'teste_6', 'teste_7', 'teste_8', 'teste_9']}\n",
      "{'error': [0, 1, 2, 3, 4, 5, 6, 7, 8, 9], 'joint': [0, 1, 4, 9, 16, 25, 36, 49, 64, 81], 'ix': ['teste_0', 'teste_1', 'teste_2', 'teste_3', 'teste_4', 'teste_5', 'teste_6', 'teste_7', 'teste_8', 'teste_9']}\n",
      "{'error': [0, 1, 2, 3, 4, 5, 6, 7, 8, 9], 'joint': [0, 1, 4, 9, 16, 25, 36, 49, 64, 81], 'ix': ['teste_0', 'teste_1', 'teste_2', 'teste_3', 'teste_4', 'teste_5', 'teste_6', 'teste_7', 'teste_8', 'teste_9']}\n",
      "{'error': [0, 1, 2, 3, 4, 5, 6, 7, 8, 9], 'joint': [0, 1, 4, 9, 16, 25, 36, 49, 64, 81], 'ix': ['teste_0', 'teste_1', 'teste_2', 'teste_3', 'teste_4', 'teste_5', 'teste_6', 'teste_7', 'teste_8', 'teste_9']}\n",
      "{'error': [0, 1, 2, 3, 4, 5, 6, 7, 8, 9], 'joint': [0, 1, 4, 9, 16, 25, 36, 49, 64, 81], 'ix': ['teste_0', 'teste_1', 'teste_2', 'teste_3', 'teste_4', 'teste_5', 'teste_6', 'teste_7', 'teste_8', 'teste_9']}\n",
      "{'error': [0, 1, 2, 3, 4, 5, 6, 7, 8, 9], 'joint': [0, 1, 4, 9, 16, 25, 36, 49, 64, 81], 'ix': ['teste_0', 'teste_1', 'teste_2', 'teste_3', 'teste_4', 'teste_5', 'teste_6', 'teste_7', 'teste_8', 'teste_9']}\n",
      "{'error': [0, 1, 2, 3, 4, 5, 6, 7, 8, 9], 'joint': [0, 1, 4, 9, 16, 25, 36, 49, 64, 81], 'ix': ['teste_0', 'teste_1', 'teste_2', 'teste_3', 'teste_4', 'teste_5', 'teste_6', 'teste_7', 'teste_8', 'teste_9']}\n"
     ]
    }
   ],
   "source": [
    "for future in concurrent.futures.as_completed(futures):\n",
    "    print(future.result())"
   ]
  },
  {
   "cell_type": "code",
   "execution_count": 196,
   "metadata": {},
   "outputs": [
    {
     "data": {
      "text/plain": [
       "<Future at 0x7fdc49200730 state=finished returned dict>"
      ]
     },
     "execution_count": 196,
     "metadata": {},
     "output_type": "execute_result"
    }
   ],
   "source": [
    "futures[0]"
   ]
  },
  {
   "cell_type": "code",
   "execution_count": 198,
   "metadata": {},
   "outputs": [
    {
     "ename": "RuntimeError",
     "evalue": "This event loop is already running",
     "output_type": "error",
     "traceback": [
      "\u001b[0;31m---------------------------------------------------------------------------\u001b[0m",
      "\u001b[0;31mRuntimeError\u001b[0m                              Traceback (most recent call last)",
      "\u001b[0;32m/var/folders/zs/n_wh27_s5ln1fk586vbgqnn00000gq/T/ipykernel_54035/63793376.py\u001b[0m in \u001b[0;36m<module>\u001b[0;34m\u001b[0m\n\u001b[1;32m      1\u001b[0m \u001b[0;32mimport\u001b[0m \u001b[0masyncio\u001b[0m\u001b[0;34m\u001b[0m\u001b[0;34m\u001b[0m\u001b[0m\n\u001b[1;32m      2\u001b[0m \u001b[0mloop\u001b[0m \u001b[0;34m=\u001b[0m \u001b[0masyncio\u001b[0m\u001b[0;34m.\u001b[0m\u001b[0mget_event_loop\u001b[0m\u001b[0;34m(\u001b[0m\u001b[0;34m)\u001b[0m\u001b[0;34m\u001b[0m\u001b[0;34m\u001b[0m\u001b[0m\n\u001b[0;32m----> 3\u001b[0;31m \u001b[0mresult\u001b[0m \u001b[0;34m=\u001b[0m \u001b[0mloop\u001b[0m\u001b[0;34m.\u001b[0m\u001b[0mrun_until_complete\u001b[0m\u001b[0;34m(\u001b[0m\u001b[0mfutures\u001b[0m\u001b[0;34m[\u001b[0m\u001b[0;36m0\u001b[0m\u001b[0;34m]\u001b[0m\u001b[0;34m)\u001b[0m\u001b[0;34m\u001b[0m\u001b[0;34m\u001b[0m\u001b[0m\n\u001b[0m\u001b[1;32m      4\u001b[0m \u001b[0;34m\u001b[0m\u001b[0m\n\u001b[1;32m      5\u001b[0m \u001b[0;31m#result = asyncio.run(futures[0])\u001b[0m\u001b[0;34m\u001b[0m\u001b[0;34m\u001b[0m\u001b[0m\n",
      "\u001b[0;32m~/opt/anaconda3/envs/envpy/lib/python3.9/asyncio/base_events.py\u001b[0m in \u001b[0;36mrun_until_complete\u001b[0;34m(self, future)\u001b[0m\n\u001b[1;32m    621\u001b[0m         \"\"\"\n\u001b[1;32m    622\u001b[0m         \u001b[0mself\u001b[0m\u001b[0;34m.\u001b[0m\u001b[0m_check_closed\u001b[0m\u001b[0;34m(\u001b[0m\u001b[0;34m)\u001b[0m\u001b[0;34m\u001b[0m\u001b[0;34m\u001b[0m\u001b[0m\n\u001b[0;32m--> 623\u001b[0;31m         \u001b[0mself\u001b[0m\u001b[0;34m.\u001b[0m\u001b[0m_check_running\u001b[0m\u001b[0;34m(\u001b[0m\u001b[0;34m)\u001b[0m\u001b[0;34m\u001b[0m\u001b[0;34m\u001b[0m\u001b[0m\n\u001b[0m\u001b[1;32m    624\u001b[0m \u001b[0;34m\u001b[0m\u001b[0m\n\u001b[1;32m    625\u001b[0m         \u001b[0mnew_task\u001b[0m \u001b[0;34m=\u001b[0m \u001b[0;32mnot\u001b[0m \u001b[0mfutures\u001b[0m\u001b[0;34m.\u001b[0m\u001b[0misfuture\u001b[0m\u001b[0;34m(\u001b[0m\u001b[0mfuture\u001b[0m\u001b[0;34m)\u001b[0m\u001b[0;34m\u001b[0m\u001b[0;34m\u001b[0m\u001b[0m\n",
      "\u001b[0;32m~/opt/anaconda3/envs/envpy/lib/python3.9/asyncio/base_events.py\u001b[0m in \u001b[0;36m_check_running\u001b[0;34m(self)\u001b[0m\n\u001b[1;32m    581\u001b[0m     \u001b[0;32mdef\u001b[0m \u001b[0m_check_running\u001b[0m\u001b[0;34m(\u001b[0m\u001b[0mself\u001b[0m\u001b[0;34m)\u001b[0m\u001b[0;34m:\u001b[0m\u001b[0;34m\u001b[0m\u001b[0;34m\u001b[0m\u001b[0m\n\u001b[1;32m    582\u001b[0m         \u001b[0;32mif\u001b[0m \u001b[0mself\u001b[0m\u001b[0;34m.\u001b[0m\u001b[0mis_running\u001b[0m\u001b[0;34m(\u001b[0m\u001b[0;34m)\u001b[0m\u001b[0;34m:\u001b[0m\u001b[0;34m\u001b[0m\u001b[0;34m\u001b[0m\u001b[0m\n\u001b[0;32m--> 583\u001b[0;31m             \u001b[0;32mraise\u001b[0m \u001b[0mRuntimeError\u001b[0m\u001b[0;34m(\u001b[0m\u001b[0;34m'This event loop is already running'\u001b[0m\u001b[0;34m)\u001b[0m\u001b[0;34m\u001b[0m\u001b[0;34m\u001b[0m\u001b[0m\n\u001b[0m\u001b[1;32m    584\u001b[0m         \u001b[0;32mif\u001b[0m \u001b[0mevents\u001b[0m\u001b[0;34m.\u001b[0m\u001b[0m_get_running_loop\u001b[0m\u001b[0;34m(\u001b[0m\u001b[0;34m)\u001b[0m \u001b[0;32mis\u001b[0m \u001b[0;32mnot\u001b[0m \u001b[0;32mNone\u001b[0m\u001b[0;34m:\u001b[0m\u001b[0;34m\u001b[0m\u001b[0;34m\u001b[0m\u001b[0m\n\u001b[1;32m    585\u001b[0m             raise RuntimeError(\n",
      "\u001b[0;31mRuntimeError\u001b[0m: This event loop is already running"
     ]
    }
   ],
   "source": [
    "import asyncio\n",
    "loop = asyncio.get_event_loop()\n",
    "result = loop.run_until_complete(futures[0])\n",
    "\n",
    "#result = asyncio.run(futures[0])\n",
    "result_dict = dict(result)\n",
    "print(result_dict)\n"
   ]
  },
  {
   "cell_type": "markdown",
   "metadata": {},
   "source": []
  },
  {
   "cell_type": "code",
   "execution_count": null,
   "metadata": {},
   "outputs": [],
   "source": []
  }
 ],
 "metadata": {
  "kernelspec": {
   "display_name": "pyenv",
   "language": "python",
   "name": "python3"
  },
  "language_info": {
   "codemirror_mode": {
    "name": "ipython",
    "version": 3
   },
   "file_extension": ".py",
   "mimetype": "text/x-python",
   "name": "python",
   "nbconvert_exporter": "python",
   "pygments_lexer": "ipython3",
   "version": "3.9.13"
  }
 },
 "nbformat": 4,
 "nbformat_minor": 2
}
