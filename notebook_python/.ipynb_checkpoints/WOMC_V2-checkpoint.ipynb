{
 "cells": [
  {
   "cell_type": "code",
   "execution_count": 1,
   "id": "a5915bf1",
   "metadata": {},
   "outputs": [],
   "source": [
    "import numpy as np\n",
    "import itertools\n",
    "import cv2\n",
    "import random\n",
    "import copy\n",
    "from time import sleep, time\n",
    "import pickle\n",
    "from numba import jit, prange"
   ]
  },
  {
   "cell_type": "markdown",
   "id": "0d3dd69f",
   "metadata": {},
   "source": [
    "### Parâmetros"
   ]
  },
  {
   "cell_type": "code",
   "execution_count": 2,
   "id": "7a0015cb",
   "metadata": {},
   "outputs": [],
   "source": [
    "def initialize_parameters(new):\n",
    "    params = {}\n",
    "    params['nlayer'] = 2\n",
    "    params['wlen'] = 3\n",
    "    params['wsize'] = params['wlen'] ** 2\n",
    "    params['dim'] = 56\n",
    "    params['train_size'] = 30\n",
    "    params['val_size'] = 10\n",
    "    params['test_size'] = 10\n",
    "    params['error_type'] = 'iou'\n",
    "    params['neighbors_sample'] = 10\n",
    "    params['epoch_f'] = 100\n",
    "    params['epoch_w'] = 50\n",
    "    params['batch'] = 30\n",
    "    \n",
    "    params['windows_continuos'] = np.load('windows_continuos.txt', allow_pickle=True)\n",
    "\n",
    "    if new:\n",
    "        #Wini = np.array([np.nan, 1., np.nan, 1., 1., 1., np.nan, 1., np.nan])\n",
    "        params['W'] = [create_window(params['windows_continuos']) for _ in range(params['nlayer'])]\n",
    "        params['joint'] = [create_joint(params['W'][i]) for i in range(params['nlayer'])]\n",
    "        params['w_hist'] = {\"W\":[],\"error\":[]}\n",
    "    else:\n",
    "        params['joint'] = np.load('joint.txt', allow_pickle=True)\n",
    "        params['W'] = np.load('W.txt', allow_pickle=True)\n",
    "        params['w_hist'] = np.load('W_hist.txt', allow_pickle=True)\n",
    "\n",
    "    return params"
   ]
  },
  {
   "cell_type": "code",
   "execution_count": 3,
   "id": "3aa62b17",
   "metadata": {},
   "outputs": [],
   "source": [
    "def create_window(windows_continuos):\n",
    "    #np.random.seed(0)\n",
    "    wind =  random.randint(0, len(windows_continuos)-1)\n",
    "    W = np.array([1. if i=='1' else np.nan for i in windows_continuos[wind]])\n",
    "    return W"
   ]
  },
  {
   "cell_type": "code",
   "execution_count": 4,
   "id": "7091951b",
   "metadata": {},
   "outputs": [],
   "source": [
    "def create_joint(W):\n",
    "    Ji=[]\n",
    "    ni = int(W[~np.isnan(W)].sum())\n",
    "    for i in itertools.product([0, 1], repeat=ni):\n",
    "        Ji.append(''.join(np.array(i).astype(str)))\n",
    "    np.random.seed(0)\n",
    "    return np.c_[Ji, np.random.randint(2, size=len(Ji))]"
   ]
  },
  {
   "cell_type": "code",
   "execution_count": 5,
   "id": "61049b8d",
   "metadata": {},
   "outputs": [],
   "source": [
    "params = initialize_parameters(new = True)"
   ]
  },
  {
   "cell_type": "code",
   "execution_count": 53,
   "id": "3f699522",
   "metadata": {},
   "outputs": [],
   "source": [
    "nlayer = params['nlayer']\n",
    "wlen = params['wlen']\n",
    "wsize = params['wsize']\n",
    "dim = params['dim']\n",
    "train_size = params['train_size']\n",
    "val_size = params['val_size']\n",
    "test_size = params['test_size']\n",
    "W = params['W']\n",
    "joint = params['joint']\n",
    "windows_continuos = params['windows_continuos']\n",
    "error_type = params['error_type']\n",
    "w_hist =  params['w_hist']\n",
    "neighbors_sample = params['neighbors_sample']\n",
    "epoch_f = params['epoch_f']\n",
    "epoch_w = params['epoch_w']\n",
    "batch = params['batch']\n"
   ]
  },
  {
   "cell_type": "code",
   "execution_count": 57,
   "id": "4e9af2a2",
   "metadata": {},
   "outputs": [],
   "source": [
    "w_hist = {\"W\":[],\"error\":[]}"
   ]
  },
  {
   "cell_type": "code",
   "execution_count": 54,
   "id": "915cf4f0",
   "metadata": {},
   "outputs": [
    {
     "data": {
      "text/plain": [
       "[array([nan,  1., nan,  1.,  1., nan, nan, nan, nan]),\n",
       " array([ 1.,  1., nan, nan, nan, nan, nan, nan, nan])]"
      ]
     },
     "execution_count": 54,
     "metadata": {},
     "output_type": "execute_result"
    }
   ],
   "source": [
    "W"
   ]
  },
  {
   "cell_type": "code",
   "execution_count": 55,
   "id": "c7c2bcad",
   "metadata": {},
   "outputs": [
    {
     "data": {
      "text/plain": [
       "[array([['000', '0'],\n",
       "        ['001', '1'],\n",
       "        ['010', '1'],\n",
       "        ['011', '0'],\n",
       "        ['100', '1'],\n",
       "        ['101', '1'],\n",
       "        ['110', '1'],\n",
       "        ['111', '1']], dtype='<U11'),\n",
       " array([['00', '0'],\n",
       "        ['01', '1'],\n",
       "        ['10', '1'],\n",
       "        ['11', '0']], dtype='<U11')]"
      ]
     },
     "execution_count": 55,
     "metadata": {},
     "output_type": "execute_result"
    }
   ],
   "source": [
    "joint"
   ]
  },
  {
   "cell_type": "code",
   "execution_count": 45,
   "id": "c7c94028",
   "metadata": {},
   "outputs": [],
   "source": [
    "increase = int(round(wlen/2-0.1,0))"
   ]
  },
  {
   "cell_type": "code",
   "execution_count": 10,
   "id": "3fd3c2f6",
   "metadata": {},
   "outputs": [],
   "source": [
    "def convert_binary(img):\n",
    "    (T, img_bin) = cv2.threshold(img, 100, 255, cv2.THRESH_BINARY)\n",
    "    img_bin[(img_bin==0)]=1\n",
    "    img_bin[(img_bin==255)]=0\n",
    "    img_bin = img_bin.astype(int)\n",
    "    return img_bin"
   ]
  },
  {
   "cell_type": "code",
   "execution_count": 11,
   "id": "e9954664",
   "metadata": {},
   "outputs": [],
   "source": [
    "train = []\n",
    "ytrain = []\n",
    "for img in range(1,train_size+1):\n",
    "    s = str(img)\n",
    "    s = s.zfill(2)\n",
    "    x = cv2.imread('./x/train'+s+'.jpg', cv2.IMREAD_GRAYSCALE)\n",
    "    y = cv2.imread('./y/train'+s+'.jpg', cv2.IMREAD_GRAYSCALE)\n",
    "    train.append(convert_binary(x))\n",
    "    ytrain.append(convert_binary(y))"
   ]
  },
  {
   "cell_type": "code",
   "execution_count": 12,
   "id": "127afc9e",
   "metadata": {},
   "outputs": [],
   "source": [
    "val = []\n",
    "yval = []\n",
    "for img in range(1,val_size+1):\n",
    "    s = str(img)\n",
    "    s = s.zfill(2)\n",
    "    x = cv2.imread('./x/val'+s+'.jpg', cv2.IMREAD_GRAYSCALE)\n",
    "    y = cv2.imread('./y/val'+s+'.jpg', cv2.IMREAD_GRAYSCALE)\n",
    "    val.append(convert_binary(x))\n",
    "    yval.append(convert_binary(y))"
   ]
  },
  {
   "cell_type": "code",
   "execution_count": 13,
   "id": "4fb464e9",
   "metadata": {},
   "outputs": [],
   "source": [
    "test = []\n",
    "ytest = []\n",
    "for img in range(1,test_size+1):\n",
    "    s = str(img)\n",
    "    s = s.zfill(2)\n",
    "    x = cv2.imread('./x/test'+s+'.jpg', cv2.IMREAD_GRAYSCALE)\n",
    "    y = cv2.imread('./y/test'+s+'.jpg', cv2.IMREAD_GRAYSCALE)\n",
    "    test.append(convert_binary(x))\n",
    "    ytest.append(convert_binary(y))"
   ]
  },
  {
   "cell_type": "code",
   "execution_count": 14,
   "id": "b7f80fbd",
   "metadata": {},
   "outputs": [
    {
     "data": {
      "text/plain": [
       "((56, 56), (56, 56), (56, 56), (56, 56), (56, 56), (56, 56))"
      ]
     },
     "execution_count": 14,
     "metadata": {},
     "output_type": "execute_result"
    }
   ],
   "source": [
    "train[0].shape, ytrain[0].shape, val[0].shape, yval[0].shape, test[0].shape, ytest[0].shape"
   ]
  },
  {
   "cell_type": "code",
   "execution_count": 15,
   "id": "3a7cacbf",
   "metadata": {},
   "outputs": [],
   "source": [
    "def save_results(Wtrain, Wval, Wtest):\n",
    "    for img in range(len(Wtrain)):\n",
    "        s = str(img+1)\n",
    "        s = s.zfill(2)\n",
    "        x = copy.deepcopy(Wtrain[img][1])\n",
    "        x[(x==0)]=255\n",
    "        x[(x==1)]=0\n",
    "        cv2.imwrite('./results/train'+s+'.jpg', x)\n",
    "\n",
    "    for img in range(len(Wval)):\n",
    "        s = str(img+1)\n",
    "        s = s.zfill(2)\n",
    "        x = copy.deepcopy(Wval[img][1])\n",
    "        x[(x==0)]=255\n",
    "        x[(x==1)]=0\n",
    "        cv2.imwrite('./results/val'+s+'.jpg', x)\n",
    "        \n",
    "    for img in range(len(Wtest)):\n",
    "        s = str(img+1)\n",
    "        s = s.zfill(2)\n",
    "        x = copy.deepcopy(Wtest[img][1])\n",
    "        x[(x==0)]=255\n",
    "        x[(x==1)]=0\n",
    "        cv2.imwrite('./results/test'+s+'.jpg', x)\n",
    "    "
   ]
  },
  {
   "cell_type": "code",
   "execution_count": 16,
   "id": "a04f52f7",
   "metadata": {},
   "outputs": [],
   "source": [
    "def save_results_complet(Wtrain, Wval, Wtest):\n",
    "    for img in range(len(Wtrain)):\n",
    "        s = str(img+1)\n",
    "        s = s.zfill(2)\n",
    "        x = copy.deepcopy(Wtrain[img][0])\n",
    "        x[(x==0)]=255\n",
    "        x[(x==1)]=0\n",
    "        cv2.imwrite('./results_complet/train_op1_'+s+'.jpg', x)\n",
    "        x = copy.deepcopy(Wtrain[img][1])\n",
    "        x[(x==0)]=255\n",
    "        x[(x==1)]=0\n",
    "        cv2.imwrite('./results_complet/train_op2_'+s+'.jpg', x)\n",
    "\n",
    "    for img in range(len(Wval)):\n",
    "        s = str(img+1)\n",
    "        s = s.zfill(2)\n",
    "        x = copy.deepcopy(Wval[img][0])\n",
    "        x[(x==0)]=255\n",
    "        x[(x==1)]=0\n",
    "        cv2.imwrite('./results_complet/val_op1_'+s+'.jpg', x)\n",
    "        x = copy.deepcopy(Wval[img][1])\n",
    "        x[(x==0)]=255\n",
    "        x[(x==1)]=0\n",
    "        cv2.imwrite('./results_complet/val_op2_'+s+'.jpg', x)\n",
    "        \n",
    "    for img in range(len(Wtest)):\n",
    "        s = str(img+1)\n",
    "        s = s.zfill(2)\n",
    "        x = copy.deepcopy(Wtest[img][0])\n",
    "        x[(x==0)]=255\n",
    "        x[(x==1)]=0\n",
    "        cv2.imwrite('./results_complet/test_op1_'+s+'.jpg', x)\n",
    "        x = copy.deepcopy(Wtest[img][1])\n",
    "        x[(x==0)]=255\n",
    "        x[(x==1)]=0\n",
    "        cv2.imwrite('./results_complet/test_op2_'+s+'.jpg', x)\n",
    "    "
   ]
  },
  {
   "cell_type": "code",
   "execution_count": 17,
   "id": "23d25cf1",
   "metadata": {},
   "outputs": [],
   "source": [
    "def apply_window(x, W_n, j_n):\n",
    "    Xl = np.c_[np.zeros([x.shape[0], increase], dtype=int), x, np.zeros([x.shape[0], increase], dtype=int)]\n",
    "    Xl = np.r_[np.zeros([increase, Xl.shape[1]], dtype=int), Xl, np.zeros([increase, Xl.shape[1]], dtype=int)]\n",
    "    \n",
    "    z = np.zeros([x.shape[0], x.shape[0]], dtype=int)\n",
    "    \n",
    "    for i in range(z.shape[0]):\n",
    "        for j in range(z.shape[1]):\n",
    "            p = Xl[i:i+wlen, j:j+wlen].flatten()\n",
    "            p = p * W_n\n",
    "            p = (p[~np.isnan(p)].astype(int))\n",
    "            p = ''.join(p.astype(str))\n",
    "            \n",
    "            indices = np.where(j_n[:, 0] == p)\n",
    "            if indices[0].size > 0 and j_n[indices[0], 1] == '1':\n",
    "                z[i, j] = 1\n",
    "                \n",
    "    return z"
   ]
  },
  {
   "cell_type": "code",
   "execution_count": 18,
   "id": "009cf21f",
   "metadata": {},
   "outputs": [],
   "source": [
    "def run_window_hood(sample, sample_size, W_current, joint_current, Wlast, layer):\n",
    "    Wsample = []\n",
    "    for k in range(sample_size):\n",
    "        Wsample_k = [] \n",
    "        for i in range(nlayer):\n",
    "            if layer > i:\n",
    "                Wsample_k.append(Wlast[k][i])\n",
    "            elif i==0:\n",
    "                Wsample_k.append(apply_window(sample[k], W_current[i], joint_current[i]))\n",
    "            else:\n",
    "                Wsample_k.append(apply_window(Wsample_k[i-1], W_current[i], joint_current[i]))\n",
    "        Wsample.append(Wsample_k)\n",
    "    return Wsample"
   ]
  },
  {
   "cell_type": "code",
   "execution_count": 19,
   "id": "836310d3",
   "metadata": {},
   "outputs": [],
   "source": [
    "#Wtrain = run_window_hood(train, train_size, W, joint, W, 0)"
   ]
  },
  {
   "cell_type": "code",
   "execution_count": 20,
   "id": "3da8dd33",
   "metadata": {},
   "outputs": [],
   "source": [
    "#Wval = run_window_hood(val, val_size, W, joint, W, 0)"
   ]
  },
  {
   "cell_type": "code",
   "execution_count": 21,
   "id": "da6917ad",
   "metadata": {},
   "outputs": [],
   "source": [
    "#Wtest = run_window_hood(test, test_size, W, joint, W, 0)"
   ]
  },
  {
   "cell_type": "code",
   "execution_count": 29,
   "id": "884a6cc9",
   "metadata": {},
   "outputs": [],
   "source": [
    "def calculate_error(y, h, et = 'mae'):\n",
    "    error = 0\n",
    "    n_samples = len(y)\n",
    "    for k in range(n_samples):\n",
    "        if et == 'mae':\n",
    "            sample_error = np.abs(h[k][-1] - y[k]).sum()\n",
    "            error += sample_error / (y[k].size)\n",
    "        elif et== 'iou':\n",
    "            tot = np.sum(np.maximum(h[k][-1],y[k])==1)\n",
    "            interc = np.sum(h[k][-1] +y[k] == 2)\n",
    "            error += (1 - interc/tot)\n",
    "    return (error/n_samples)     "
   ]
  },
  {
   "cell_type": "code",
   "execution_count": 23,
   "id": "98300fc2",
   "metadata": {},
   "outputs": [],
   "source": [
    "def joint_history(joint, nlayer):\n",
    "    for k in range(nlayer):\n",
    "        if k==0:\n",
    "        #joint_temp.append(joint[k][:,1])\n",
    "            joint_hist = ''.join(joint[k][:,1])\n",
    "        else:\n",
    "            joint_hist = joint_hist+''.join(joint[k][:,1])\n",
    "    return joint_hist\n"
   ]
  },
  {
   "cell_type": "code",
   "execution_count": 24,
   "id": "19dd71af",
   "metadata": {},
   "outputs": [],
   "source": [
    "def window_history(W, nlayer, wsize):\n",
    "    for k in range(nlayer):\n",
    "        if k==0:\n",
    "            window_hist = ''.join([''.join(item) for item in np.reshape(W[k], (wsize,)).astype(str)])\n",
    "        else:\n",
    "            window_hist = window_hist+''.join([''.join(item) for item in np.reshape(W[k], (wsize,)).astype(str)])\n",
    "    return window_hist"
   ]
  },
  {
   "cell_type": "code",
   "execution_count": 25,
   "id": "4555b66b",
   "metadata": {},
   "outputs": [],
   "source": [
    "def sort_neighbot(v, n):\n",
    "    if n<len(v):\n",
    "        ix = random.sample(range(len(v)), n)\n",
    "    else:\n",
    "        ix = range(len(v))\n",
    "    return ix"
   ]
  },
  {
   "cell_type": "code",
   "execution_count": 26,
   "id": "9b43df06",
   "metadata": {},
   "outputs": [],
   "source": [
    "def get_error_window(W, joint):\n",
    "    start = time()\n",
    "    keep = True\n",
    "    Wtrain = run_window_hood(train, train_size, W, joint, W, 0)\n",
    "    w_error = calculate_error(ytrain, Wtrain,error_type)\n",
    "    joint_hist = []\n",
    "    print('----------')\n",
    "    print('Entrando no get error window')\n",
    "    print('start error: ', w_error)\n",
    "    flg2 = 0\n",
    "    epoch_min = 0\n",
    "    #while keep:\n",
    "    for ep in range(epoch_f):\n",
    "        #print('Teste ', qq)\n",
    "        flg = 0\n",
    "        joint_hist.append(joint_history(joint, nlayer))\n",
    "        for k in range(nlayer):\n",
    "            if not neighbors_sample:\n",
    "                neighbors_to_visit = range(len(joint[k]))\n",
    "            else:\n",
    "                neighbors_to_visit = sort_neighbot(joint[k], neighbors_sample)\n",
    "            for i in neighbors_to_visit:\n",
    "                #print('testing layer ', k)\n",
    "                #print('joint ', joint[k][i][0])\n",
    "                joint_temp = copy.deepcopy(joint)\n",
    "                if joint[k][i][1] == '1':\n",
    "                    joint_temp[k][i][1] = '0'\n",
    "                else:\n",
    "                    joint_temp[k][i][1] = '1'\n",
    "                j_temp = joint_history(joint_temp, nlayer)\n",
    "                if j_temp not in joint_hist:\n",
    "                    joint_hist.append(j_temp)\n",
    "                    W_hood = run_window_hood(train, train_size, W, joint_temp, Wtrain, k)\n",
    "                    error_hood = calculate_error(ytrain, W_hood,error_type)\n",
    "                    #print('error: ', error_hood)\n",
    "                    if error_hood < w_error:\n",
    "                        #print('erro menor')\n",
    "                        w_error = error_hood\n",
    "                        #print(w_error)\n",
    "                        joint_new = copy.deepcopy(joint_temp)\n",
    "                        Wtrain_new = copy.deepcopy(W_hood)\n",
    "                        flg = 1\n",
    "                        flg2 = 1\n",
    "                    #print('----------')\n",
    "        if flg == 0:\n",
    "            #print('Sem erros Menores no teste ', qq)\n",
    "            keep = False\n",
    "        else:\n",
    "            joint = copy.deepcopy(joint_new)\n",
    "            Wtrain = copy.deepcopy(Wtrain_new)\n",
    "            #print('error do teste ', qq, ': ', w_error)\n",
    "            #print('flg = 1 do teste ', qq)\n",
    "            epoch_min = ep\n",
    "\n",
    "    print('----------')\n",
    "    print('end of testing, fl2 = ', flg2)\n",
    "\n",
    "    Wval = run_window_hood(val, val_size, W, joint, W, 0)\n",
    "    \n",
    "    error_val = calculate_error(yval, Wval,error_type)\n",
    "    error = np.array([w_error, error_val])\n",
    "    print('error da época ', epoch_min, ': ', w_error)\n",
    "    print('-.-.-.-.-.-.-.-.-.-')\n",
    "    end = time()\n",
    "    print('tempo de execução: {}'.format(end - start))\n",
    "    #save_results(Wtrain, Wval,Wtest)\n",
    "\n",
    "    return (joint, error, flg2, Wtrain, Wval)"
   ]
  },
  {
   "cell_type": "code",
   "execution_count": 46,
   "id": "80ad2483",
   "metadata": {},
   "outputs": [
    {
     "name": "stdout",
     "output_type": "stream",
     "text": [
      "----------\n",
      "Entrando no get error window\n",
      "start error:  0.9413971332919037\n",
      "----------\n",
      "end of testing, fl2 =  1\n",
      "error da época  4 :  0.8625842749742083\n",
      "-.-.-.-.-.-.-.-.-.-\n",
      "tempo de execução: 180.48940515518188\n"
     ]
    }
   ],
   "source": [
    "joint, error, flg, Wtrain, Wval = get_error_window(W, joint)"
   ]
  },
  {
   "cell_type": "code",
   "execution_count": 58,
   "id": "145aedbb",
   "metadata": {},
   "outputs": [
    {
     "data": {
      "text/plain": [
       "array([0.86258427, 0.86251288])"
      ]
     },
     "execution_count": 58,
     "metadata": {},
     "output_type": "execute_result"
    }
   ],
   "source": [
    "error"
   ]
  },
  {
   "cell_type": "code",
   "execution_count": 48,
   "id": "1e8c6229",
   "metadata": {},
   "outputs": [],
   "source": [
    "def save_window(joint, W):\n",
    "\n",
    "    filename_joint = 'joint.txt'\n",
    "    pickle.dump(joint, open(filename_joint, 'wb'))\n",
    "\n",
    "    filename_W = 'W.txt'\n",
    "    pickle.dump(W, open(filename_W, 'wb'))"
   ]
  },
  {
   "cell_type": "code",
   "execution_count": 49,
   "id": "3fc58510",
   "metadata": {},
   "outputs": [],
   "source": [
    "save_window(joint, W)"
   ]
  },
  {
   "cell_type": "code",
   "execution_count": 59,
   "id": "690ad5a9",
   "metadata": {},
   "outputs": [
    {
     "ename": "SyntaxError",
     "evalue": "invalid syntax (<ipython-input-59-a4fde94d79f7>, line 25)",
     "output_type": "error",
     "traceback": [
      "\u001b[1;36m  File \u001b[1;32m\"<ipython-input-59-a4fde94d79f7>\"\u001b[1;36m, line \u001b[1;32m25\u001b[0m\n\u001b[1;33m    print('layer ', k, '/ window ' W_line_temp)\u001b[0m\n\u001b[1;37m                                   ^\u001b[0m\n\u001b[1;31mSyntaxError\u001b[0m\u001b[1;31m:\u001b[0m invalid syntax\n"
     ]
    }
   ],
   "source": [
    "def check_great_neighboors(W,joint, error):#(W, nlayer, wsize, wlen, joint, train, train_size, Wtrain, ytrain, error):\n",
    "    global w_hist\n",
    "    flg = 0\n",
    "    print('\\n check_great_neighboors Start')\n",
    "    \n",
    "    for k in range(nlayer):\n",
    "        #print('testing layer ', k)\n",
    "        nan_idx = np.where(np.isnan(W[k]))[0]\n",
    "        w_line_temp_base = W[k].copy()\n",
    "        \n",
    "        for i in nan_idx:\n",
    "            W_line_temp = w_line_temp_base.copy()\n",
    "            W_line_temp[i] = 1\n",
    "            W_line_temp_NN = W_line_temp.copy()\n",
    "            W_line_temp_NN[np.isnan(W_line_temp_NN)] = 0\n",
    "            W_line_temp_NN = W_line_temp_NN.astype(int)\n",
    "                \n",
    "            if ''.join(W_line_temp_NN.astype(str)) in windows_continuos:\n",
    "                #print('W in windows continuos')\n",
    "                W_temp = W.copy()\n",
    "                W_temp[k] = W_line_temp\n",
    "                W_h = window_history(W_temp, nlayer, wsize)\n",
    "\n",
    "                if W_h not in w_hist['W']:\n",
    "                    print('layer ', k, '/ window ', W_line_temp)\n",
    "                    joint_temp = joint.copy()\n",
    "                    joint_temp[k] = create_joint(W_temp[k])\n",
    "\n",
    "                    joint_temp, w_error, flg2, W_train_temp, W_val_temp = get_error_window(W_temp, joint_temp)\n",
    "                    #print('new Validation error: ', w_error[1])\n",
    "                    if w_error[1] < error[1]:\n",
    "                        #print('erro menor')\n",
    "                        error_new = w_error\n",
    "                        joint_new = joint_temp.copy()\n",
    "                        Wtrain_new = W_train_temp.copy()\n",
    "                        Wval_new = W_val_temp.copy()\n",
    "                        W_new = W_temp.copy()\n",
    "                        save_window(joint_new, W_new)\n",
    "                        flg = 1\n",
    "                    #print('----------')\n",
    "\n",
    "                    w_hist[\"W\"].append(W_h)\n",
    "                    w_hist[\"error\"].append(w_error)\n",
    "                    pickle.dump(w_hist, open('W_hist.txt', 'wb'))\n",
    "            #else:\n",
    "                #print('W not in window continuos')\n",
    "    print('flg = ',flg)\n",
    "    if flg == 1:\n",
    "        return W_new, joint_new, Wtrain_new, Wval_new, error, flg\n",
    "    else:\n",
    "        return W, joint, Wtrain, Wval, error, flg"
   ]
  },
  {
   "cell_type": "code",
   "execution_count": 60,
   "id": "85190b07",
   "metadata": {},
   "outputs": [
    {
     "ename": "SyntaxError",
     "evalue": "invalid syntax (<ipython-input-60-4848698810dc>, line 26)",
     "output_type": "error",
     "traceback": [
      "\u001b[1;36m  File \u001b[1;32m\"<ipython-input-60-4848698810dc>\"\u001b[1;36m, line \u001b[1;32m26\u001b[0m\n\u001b[1;33m    print('layer ', k, '/ window ' W_line_temp)\u001b[0m\n\u001b[1;37m                                   ^\u001b[0m\n\u001b[1;31mSyntaxError\u001b[0m\u001b[1;31m:\u001b[0m invalid syntax\n"
     ]
    }
   ],
   "source": [
    "def check_lesser_neighboors(W,joint, error):#(W, nlayer, wsize, wlen, joint, train, train_size, Wtrain, ytrain, error):\n",
    "    global w_hist\n",
    "    flg = 0\n",
    "    print('\\n check_lesser_neighboors Start')\n",
    "    Wval_new = Wval.copy()\n",
    "    \n",
    "    for k in range(nlayer):\n",
    "        #print('testing layer ', k)\n",
    "        nan_idx = np.where(W[k]==1)[0]\n",
    "        w_line_temp_base = W[k].copy()\n",
    "        \n",
    "        for i in nan_idx:\n",
    "            W_line_temp = w_line_temp_base.copy()\n",
    "            W_line_temp[i] = np.nan\n",
    "            W_line_temp_NN = W_line_temp.copy()\n",
    "            W_line_temp_NN[np.isnan(W_line_temp_NN)] = 0\n",
    "            W_line_temp_NN = W_line_temp_NN.astype(int)\n",
    "            \n",
    "            if ''.join(W_line_temp_NN.astype(str)) in windows_continuos:\n",
    "                #print('W in windows continuos')\n",
    "                W_temp = W.copy()\n",
    "                W_temp[k] = W_line_temp\n",
    "                W_h = window_history(W_temp, nlayer, wsize)\n",
    "                \n",
    "                if W_h not in w_hist['W']:\n",
    "                    print('layer ', k, '/ window ', W_line_temp)\n",
    "                    joint_temp = joint.copy()\n",
    "                    joint_temp[k] = create_joint(W_temp[k])\n",
    "                    \n",
    "                    joint_temp, w_error, flg2, W_train_temp, W_val_temp = get_error_window(W_temp, joint_temp)\n",
    "                    #print('new Validation error: ', w_error[1])\n",
    "                    if w_error[1] < error[1]:\n",
    "                        print('error menor')\n",
    "                        error[0] = w_error[0]\n",
    "                        error[1] = w_error[1]\n",
    "                        joint_new = joint_temp.copy()\n",
    "                        Wtrain_new = W_train_temp.copy()\n",
    "                        Wval_new = W_val_temp.copy()\n",
    "                        W_new = W_temp.copy()\n",
    "                        print('W_new: ', W_new)\n",
    "                        save_window(joint_new, W_new)\n",
    "                        flg = 1\n",
    "                    #print('----------')\n",
    "                    \n",
    "                    w_hist[\"W\"].append(W_h)\n",
    "                    w_hist[\"error\"].append(w_error)\n",
    "                    pickle.dump(w_hist, open('W_hist.txt', 'wb'))\n",
    "                #else:\n",
    "                    #print('W already in history')\n",
    "            #else:\n",
    "                #print('W not in window continuos')\n",
    "    print('flg = ',flg)\n",
    "    if flg == 1:\n",
    "        return W_new, joint_new, Wtrain_new, Wval_new, error, flg\n",
    "    else:\n",
    "        return W, joint, Wtrain, Wval, error, flg"
   ]
  },
  {
   "cell_type": "code",
   "execution_count": null,
   "id": "b76a1553",
   "metadata": {
    "scrolled": true
   },
   "outputs": [
    {
     "name": "stdout",
     "output_type": "stream",
     "text": [
      "start Validation error:  0.8625128771231857\n",
      "----------\n",
      "Teste da Época  0\n",
      "\n",
      " check_lesser_neighboors Start\n",
      "----------\n",
      "Entrando no get error window\n",
      "start error:  0.9184266334221245\n",
      "----------\n",
      "end of testing, fl2 =  0\n",
      "error da época  0 :  0.9184266334221245\n",
      "-.-.-.-.-.-.-.-.-.-\n",
      "tempo de execução: 24.140464305877686\n",
      "----------\n",
      "Entrando no get error window\n",
      "start error:  0.9425247303145274\n",
      "----------\n",
      "end of testing, fl2 =  0\n",
      "error da época  0 :  0.9425247303145274\n",
      "-.-.-.-.-.-.-.-.-.-\n",
      "tempo de execução: 24.269041299819946\n",
      "----------\n",
      "Entrando no get error window\n",
      "start error:  0.874090711822739\n",
      "----------\n",
      "end of testing, fl2 =  1\n",
      "error da época  2 :  0.8625842749742083\n",
      "-.-.-.-.-.-.-.-.-.-\n",
      "tempo de execução: 103.76534867286682\n",
      "----------\n",
      "Entrando no get error window\n",
      "start error:  0.8821969610819812\n",
      "----------\n",
      "end of testing, fl2 =  1\n",
      "error da época  4 :  0.8675766958841519\n",
      "-.-.-.-.-.-.-.-.-.-\n",
      "tempo de execução: 151.08977675437927\n",
      "flg =  0\n",
      "\n",
      " check_great_neighboors Start\n",
      "----------\n",
      "Entrando no get error window\n",
      "start error:  0.9290359904583398\n",
      "----------\n",
      "end of testing, fl2 =  1\n",
      "error da época  10 :  0.8589026717461615\n",
      "-.-.-.-.-.-.-.-.-.-\n",
      "tempo de execução: 466.7031342983246\n",
      "----------\n",
      "Entrando no get error window\n",
      "start error:  0.8832803903651316\n",
      "----------\n",
      "end of testing, fl2 =  1\n",
      "error da época  6 :  0.7842430604550156\n",
      "-.-.-.-.-.-.-.-.-.-\n",
      "tempo de execução: 345.2825074195862\n",
      "----------\n",
      "Entrando no get error window\n",
      "start error:  0.8564177976933478\n",
      "----------\n",
      "end of testing, fl2 =  1\n",
      "error da época  8 :  0.6748338695358332\n",
      "-.-.-.-.-.-.-.-.-.-\n",
      "tempo de execução: 395.9325602054596\n",
      "----------\n",
      "Entrando no get error window\n",
      "start error:  0.9430529102959686\n",
      "----------\n",
      "end of testing, fl2 =  1\n",
      "error da época  8 :  0.85259694174304\n",
      "-.-.-.-.-.-.-.-.-.-\n",
      "tempo de execução: 383.4408211708069\n",
      "----------\n",
      "Entrando no get error window\n",
      "start error:  0.9029756613845107\n"
     ]
    }
   ],
   "source": [
    "start = time()\n",
    "keep = True\n",
    "print('start Validation error: ', error[1])\n",
    "print('----------')\n",
    "\n",
    "w_hist[\"W\"].append(window_history(W, nlayer, wsize))\n",
    "w_hist[\"error\"].append(error)\n",
    "    \n",
    "pickle.dump(w_hist, open('W_hist.txt', 'wb'))\n",
    "ep_min=0\n",
    "#while keep:\n",
    "for ep in range(epoch_w):\n",
    "    print('Teste da Época ',ep)\n",
    "    \n",
    "    W_l, joint_l, Wtrain_l, Wval_l, error_l, flg_l = check_lesser_neighboors(W,joint, error)\n",
    "    W_g, joint_g, Wtrain_g, Wval_g, error_g, flg_g = check_great_neighboors(W, joint, error)\n",
    "    #print(error)\n",
    "    \n",
    "    if((error_l[1] < error_g[1])&(flg_l==1)):\n",
    "        W = W_l.copy()\n",
    "        joint = joint_l.copy()\n",
    "        Wtrain = Wtrain_l.copy()\n",
    "        Wval = Wval_l.copy()\n",
    "        error = error_l.copy()\n",
    "        save_window(joint, W)\n",
    "        #save_results(Wtrain, Wval,Wtest)\n",
    "        ep_min = ep\n",
    "        print('época-min: ',ep_min, ' - com erro: ',error )\n",
    "    elif((error_g[1] < error_l[1])&(flg_g==1)):\n",
    "        W = W_g.copy()\n",
    "        joint = joint_g.copy()\n",
    "        Wtrain = Wtrain_g.copy()\n",
    "        Wval = Wval_g.copy()\n",
    "        error = error_g.copy()\n",
    "        save_window(joint, W)\n",
    "        #save_results(Wtrain, Wval,Wtest)\n",
    "        ep_min = ep\n",
    "        ep_min = ep\n",
    "        print('época-min: ',ep_min, ' - com erro: ',error )\n",
    "\n",
    "        \n",
    "print('--------------') \n",
    "Wtest = run_window_hood(test, test_size, W, joint, W, 0)\n",
    "error_test = calculate_error(ytest, Wtest,error_type)\n",
    "print('end of testing')#, fl2 = ', flg2)\n",
    "end = time()\n",
    "print('tempo de execução: {}'.format(end - start))   \n",
    "print('época-min: ',ep_min, ' - com erro: ',error )\n",
    "print('erro de teste: ', error_test)\n"
   ]
  },
  {
   "cell_type": "code",
   "execution_count": null,
   "id": "755188ec",
   "metadata": {},
   "outputs": [],
   "source": [
    "save_results(Wtrain, Wval, Wtest)"
   ]
  },
  {
   "cell_type": "code",
   "execution_count": null,
   "id": "2bffbb60",
   "metadata": {},
   "outputs": [],
   "source": [
    "save_results_complet(Wtrain, Wval, Wtest)"
   ]
  },
  {
   "cell_type": "code",
   "execution_count": null,
   "id": "646608f4",
   "metadata": {},
   "outputs": [],
   "source": [
    "error"
   ]
  },
  {
   "cell_type": "code",
   "execution_count": null,
   "id": "fb87a5fc",
   "metadata": {},
   "outputs": [],
   "source": [
    "calculate_error(ytest, Wtest,error_type)"
   ]
  },
  {
   "cell_type": "code",
   "execution_count": null,
   "id": "911f1bd5",
   "metadata": {},
   "outputs": [],
   "source": [
    "W"
   ]
  },
  {
   "cell_type": "code",
   "execution_count": null,
   "id": "2645bec7",
   "metadata": {},
   "outputs": [],
   "source": [
    "len(w_hist['W'])"
   ]
  },
  {
   "cell_type": "code",
   "execution_count": null,
   "id": "36feab43",
   "metadata": {},
   "outputs": [],
   "source": []
  }
 ],
 "metadata": {
  "kernelspec": {
   "display_name": "Python 3",
   "language": "python",
   "name": "python3"
  },
  "language_info": {
   "codemirror_mode": {
    "name": "ipython",
    "version": 3
   },
   "file_extension": ".py",
   "mimetype": "text/x-python",
   "name": "python",
   "nbconvert_exporter": "python",
   "pygments_lexer": "ipython3",
   "version": "3.8.8"
  }
 },
 "nbformat": 4,
 "nbformat_minor": 5
}
